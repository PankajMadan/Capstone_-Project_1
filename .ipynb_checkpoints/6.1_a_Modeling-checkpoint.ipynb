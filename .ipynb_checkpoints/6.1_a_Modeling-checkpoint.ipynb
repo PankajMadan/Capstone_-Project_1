{
 "cells": [
  {
   "cell_type": "code",
   "execution_count": 1,
   "metadata": {},
   "outputs": [],
   "source": [
    "# Importing Required Python Packages\n",
    "import numpy as np\n",
    "import pandas as pd\n",
    "import matplotlib.pyplot as plt\n",
    "import seaborn as sns\n",
    "import warnings\n",
    "warnings.filterwarnings('ignore')\n",
    "pd.set_option('display.max_columns',None)"
   ]
  },
  {
   "cell_type": "code",
   "execution_count": 2,
   "metadata": {},
   "outputs": [],
   "source": [
    "# Loading Training set\n",
    "X_train_red = pd.read_csv('X_train_final.csv')\n",
    "y_train = pd.read_csv('y_train.final.csv')"
   ]
  },
  {
   "cell_type": "code",
   "execution_count": 3,
   "metadata": {},
   "outputs": [],
   "source": [
    "# Loading both versions of Test sets\n",
    "X_test_red = pd.read_csv('X_test_final.csv')\n",
    "y_test = pd.read_csv('y_test.final.csv')"
   ]
  },
  {
   "cell_type": "code",
   "execution_count": 4,
   "metadata": {},
   "outputs": [],
   "source": [
    "# Importing the Sklearn's roc_auc_score module\n",
    "from sklearn.metrics import roc_auc_score"
   ]
  },
  {
   "cell_type": "code",
   "execution_count": 5,
   "metadata": {},
   "outputs": [],
   "source": [
    "# Importing  hyperparamater tuning optimizer optuna\n",
    "import optuna"
   ]
  },
  {
   "cell_type": "code",
   "execution_count": 6,
   "metadata": {},
   "outputs": [],
   "source": [
    "# Importing required Libraries\n",
    "from sklearn.model_selection import StratifiedKFold\n",
    "from sklearn.model_selection import cross_val_score"
   ]
  },
  {
   "cell_type": "code",
   "execution_count": 7,
   "metadata": {},
   "outputs": [],
   "source": [
    "# Instantiating the Stratified K fold object\n",
    "cv_strat = StratifiedKFold(10,random_state=42)"
   ]
  },
  {
   "cell_type": "markdown",
   "metadata": {},
   "source": [
    "## Model_4 : Linear Discriminant Analysis Classifiers "
   ]
  },
  {
   "cell_type": "markdown",
   "metadata": {},
   "source": [
    "### Computing the test set roc_auc score using Vanilla LDA classifier with SVD solver with no other hyperparameters to tune."
   ]
  },
  {
   "cell_type": "code",
   "execution_count": 8,
   "metadata": {},
   "outputs": [],
   "source": [
    "# Importing LDA Classifier\n",
    "from sklearn.discriminant_analysis import LinearDiscriminantAnalysis"
   ]
  },
  {
   "cell_type": "code",
   "execution_count": 9,
   "metadata": {},
   "outputs": [],
   "source": [
    "# Instantiating the classifier object \n",
    "lda_svd = LinearDiscriminantAnalysis(solver='svd')"
   ]
  },
  {
   "cell_type": "code",
   "execution_count": 12,
   "metadata": {},
   "outputs": [
    {
     "data": {
      "text/plain": [
       "LinearDiscriminantAnalysis()"
      ]
     },
     "execution_count": 12,
     "metadata": {},
     "output_type": "execute_result"
    }
   ],
   "source": [
    "# Fitting the classifier on the Training data directly as there are no hyperparameters to tune\n",
    "lda_svd.fit(X_train_red,y_train)"
   ]
  },
  {
   "cell_type": "code",
   "execution_count": 13,
   "metadata": {},
   "outputs": [],
   "source": [
    "# Defining the function to calculate the roc_auc score for the feature sets\n",
    "def cal_roc_auc(X, y, cls, f_set, t_set, model_name):\n",
    "    ''' Calculates the roc auc score using the best study parameters \n",
    "        f_set : String: specifies 'full feature', 'Reduced feature'\n",
    "        t_set: String: specifies 'training', 'test'\n",
    "        model_name: String: specifies Name of the model '''\n",
    "        \n",
    "    y_pred = cls.predict_proba(X)\n",
    "    print('The roc_auc_score for the {} {} set using the best {} is '.format(f_set, t_set, model_name), roc_auc_score(y, y_pred[:,1]))"
   ]
  },
  {
   "cell_type": "code",
   "execution_count": 16,
   "metadata": {},
   "outputs": [
    {
     "name": "stdout",
     "output_type": "stream",
     "text": [
      "The roc_auc_score for the Reduced feature training set using the best LDA_SVD Classifier is  0.7920662651019811\n"
     ]
    }
   ],
   "source": [
    "# Calculating the Reduced feature training set roc_auc score \n",
    "cal_roc_auc(X_train_red, y_train, lda_svd, 'Reduced feature', 'training', 'LDA_SVD Classifier')"
   ]
  },
  {
   "cell_type": "code",
   "execution_count": 17,
   "metadata": {},
   "outputs": [
    {
     "name": "stdout",
     "output_type": "stream",
     "text": [
      "The roc_auc_score for the Reduced feature test set using the best LDA_SVD Classifier is  0.7966209343601113\n"
     ]
    }
   ],
   "source": [
    "# Calculating the Reduced feature test set roc_auc score \n",
    "cal_roc_auc(X_test_red, y_test, lda_svd, 'Reduced feature', 'test', 'LDA_SVD Classifier')"
   ]
  },
  {
   "cell_type": "markdown",
   "metadata": {},
   "source": [
    "### Computing the best hyperparameters for the Linear Discriminant Classifier with ‘eigen’ solver using Reduced Feature Training Set."
   ]
  },
  {
   "cell_type": "code",
   "execution_count": 18,
   "metadata": {},
   "outputs": [],
   "source": [
    "# Instantiating the classifier object \n",
    "lda_eigen = LinearDiscriminantAnalysis(solver='eigen')"
   ]
  },
  {
   "cell_type": "code",
   "execution_count": 19,
   "metadata": {},
   "outputs": [],
   "source": [
    "# Defining the appropriate objective function for the LDA classifier\n",
    "def objective_wrappper_lda(X_tr, y_tr, cls=None, cv_strat=None):\n",
    "    '''\n",
    "    Optimizes Linear Discriminant Analysis parameters on the given training set X_tr, y_tr\n",
    "    using cv_strat cross-validation object\n",
    "    \n",
    "    '''\n",
    "    \n",
    "    def objective(trial):\n",
    "        params = {\n",
    "        'shrinkage': trial.suggest_uniform('shrinkage', 0, 1)\n",
    "        }\n",
    "        \n",
    "        cls.set_params(**params)#Initializing the model with the parameters \n",
    "    \n",
    "        return np.mean(cross_val_score(cls, X_tr, y_tr, cv=cv_strat, n_jobs=5, scoring='roc_auc'))  \n",
    "    return objective"
   ]
  },
  {
   "cell_type": "code",
   "execution_count": 21,
   "metadata": {},
   "outputs": [],
   "source": [
    "# Defining the evaluation function for study's best parameters\n",
    "def train_test_roc_auc(X_tr, y_tr, cls, obj_func, cv_strat, n_trials=100):\n",
    "    ''' Computes the best hyper parameters of the classsifier and returns \n",
    "    Optuna's study's best score & clasifier parameters'''\n",
    "    study = optuna.create_study(direction='maximize')\n",
    "    study.optimize(obj_func(X_tr, y_tr, cls, cv_strat), n_trials)\n",
    "    best_score = study.best_value\n",
    "    best_params = study.best_params\n",
    "    return (best_score,best_params)\n"
   ]
  },
  {
   "cell_type": "code",
   "execution_count": 22,
   "metadata": {},
   "outputs": [
    {
     "name": "stderr",
     "output_type": "stream",
     "text": [
      "[I 2020-10-05 17:54:47,805] A new study created in memory with name: no-name-843e6567-fb24-4479-a3b4-5edcb47f3bb7\n",
      "[I 2020-10-05 17:54:49,479] Trial 0 finished with value: 0.7684882854891582 and parameters: {'shrinkage': 0.6073407651312152}. Best is trial 0 with value: 0.7684882854891582.\n",
      "[I 2020-10-05 17:54:49,890] Trial 1 finished with value: 0.7880165236410314 and parameters: {'shrinkage': 0.06845025879399613}. Best is trial 1 with value: 0.7880165236410314.\n",
      "[I 2020-10-05 17:54:50,455] Trial 2 finished with value: 0.7620961059684799 and parameters: {'shrinkage': 0.7571115363447368}. Best is trial 1 with value: 0.7880165236410314.\n",
      "[I 2020-10-05 17:54:51,020] Trial 3 finished with value: 0.761748452432655 and parameters: {'shrinkage': 0.7670807635151834}. Best is trial 1 with value: 0.7880165236410314.\n",
      "[I 2020-10-05 17:54:51,558] Trial 4 finished with value: 0.7887053852381439 and parameters: {'shrinkage': 0.026072894898244603}. Best is trial 4 with value: 0.7887053852381439.\n",
      "[I 2020-10-05 17:54:51,999] Trial 5 finished with value: 0.7706051019560386 and parameters: {'shrinkage': 0.560962683935617}. Best is trial 4 with value: 0.7887053852381439.\n",
      "[I 2020-10-05 17:54:52,455] Trial 6 finished with value: 0.7643994001636678 and parameters: {'shrinkage': 0.7004777625474677}. Best is trial 4 with value: 0.7887053852381439.\n",
      "[I 2020-10-05 17:54:53,037] Trial 7 finished with value: 0.7882279542823977 and parameters: {'shrinkage': 0.05304186836584868}. Best is trial 4 with value: 0.7887053852381439.\n",
      "[I 2020-10-05 17:54:53,447] Trial 8 finished with value: 0.7790433506742399 and parameters: {'shrinkage': 0.3670723557280198}. Best is trial 4 with value: 0.7887053852381439.\n",
      "[I 2020-10-05 17:54:53,985] Trial 9 finished with value: 0.781951478272163 and parameters: {'shrinkage': 0.28854770330452295}. Best is trial 4 with value: 0.7887053852381439.\n",
      "[I 2020-10-05 17:54:54,528] Trial 10 finished with value: 0.7552010123907188 and parameters: {'shrinkage': 0.9910687826646931}. Best is trial 4 with value: 0.7887053852381439.\n",
      "[I 2020-10-05 17:54:54,983] Trial 11 finished with value: 0.7883202151694745 and parameters: {'shrinkage': 0.04789214231253769}. Best is trial 4 with value: 0.7887053852381439.\n",
      "[I 2020-10-05 17:54:55,521] Trial 12 finished with value: 0.7845097795797447 and parameters: {'shrinkage': 0.20963133465597436}. Best is trial 4 with value: 0.7887053852381439.\n",
      "[I 2020-10-05 17:54:55,946] Trial 13 finished with value: 0.7893187081848702 and parameters: {'shrinkage': 0.010736900912009606}. Best is trial 13 with value: 0.7893187081848702.\n",
      "[I 2020-10-05 17:54:56,467] Trial 14 finished with value: 0.7858403643108337 and parameters: {'shrinkage': 0.1647033978892275}. Best is trial 13 with value: 0.7893187081848702.\n",
      "[I 2020-10-05 17:54:56,891] Trial 15 finished with value: 0.7774251211017849 and parameters: {'shrinkage': 0.40633265772307053}. Best is trial 13 with value: 0.7893187081848702.\n",
      "[I 2020-10-05 17:54:57,331] Trial 16 finished with value: 0.7888650439019353 and parameters: {'shrinkage': 0.02155172834768987}. Best is trial 13 with value: 0.7893187081848702.\n",
      "[I 2020-10-05 17:54:57,768] Trial 17 finished with value: 0.7846036634058768 and parameters: {'shrinkage': 0.20644531076740577}. Best is trial 13 with value: 0.7893187081848702.\n",
      "[I 2020-10-05 17:54:58,322] Trial 18 finished with value: 0.7894449239504334 and parameters: {'shrinkage': 0.00044476354201140184}. Best is trial 18 with value: 0.7894449239504334.\n",
      "[I 2020-10-05 17:54:58,841] Trial 19 finished with value: 0.7582094015977575 and parameters: {'shrinkage': 0.9350539668200839}. Best is trial 18 with value: 0.7894449239504334.\n",
      "[I 2020-10-05 17:54:59,235] Trial 20 finished with value: 0.7865424708408107 and parameters: {'shrinkage': 0.13836580069429738}. Best is trial 18 with value: 0.7894449239504334.\n",
      "[I 2020-10-05 17:54:59,801] Trial 21 finished with value: 0.7894613351271792 and parameters: {'shrinkage': 0.006498387279553597}. Best is trial 21 with value: 0.7894613351271792.\n",
      "[I 2020-10-05 17:55:00,410] Trial 22 finished with value: 0.7872380198613491 and parameters: {'shrinkage': 0.11025741603742482}. Best is trial 21 with value: 0.7894613351271792.\n",
      "[I 2020-10-05 17:55:00,847] Trial 23 finished with value: 0.7813411959650436 and parameters: {'shrinkage': 0.30622094616187207}. Best is trial 21 with value: 0.7894613351271792.\n",
      "[I 2020-10-05 17:55:01,480] Trial 24 finished with value: 0.7893232268606696 and parameters: {'shrinkage': 0.010659534975733173}. Best is trial 21 with value: 0.7894613351271792.\n",
      "[I 2020-10-05 17:55:01,997] Trial 25 finished with value: 0.7834005067809982 and parameters: {'shrinkage': 0.24441664552012554}. Best is trial 21 with value: 0.7894613351271792.\n",
      "[I 2020-10-05 17:55:02,421] Trial 26 finished with value: 0.7869133593728279 and parameters: {'shrinkage': 0.1245894244511293}. Best is trial 21 with value: 0.7894613351271792.\n",
      "[I 2020-10-05 17:55:02,863] Trial 27 finished with value: 0.7758548651998335 and parameters: {'shrinkage': 0.44342013053337365}. Best is trial 21 with value: 0.7894613351271792.\n",
      "[I 2020-10-05 17:55:03,292] Trial 28 finished with value: 0.787740276749783 and parameters: {'shrinkage': 0.08424405346171022}. Best is trial 21 with value: 0.7894613351271792.\n",
      "[I 2020-10-05 17:55:03,833] Trial 29 finished with value: 0.7891867726703738 and parameters: {'shrinkage': 0.01349989991855658}. Best is trial 21 with value: 0.7894613351271792.\n",
      "[I 2020-10-05 17:55:04,320] Trial 30 finished with value: 0.7805633419892815 and parameters: {'shrinkage': 0.32789563997422744}. Best is trial 21 with value: 0.7894613351271792.\n",
      "[I 2020-10-05 17:55:04,953] Trial 31 finished with value: 0.7858266410100124 and parameters: {'shrinkage': 0.16520390585211872}. Best is trial 21 with value: 0.7894613351271792.\n",
      "[I 2020-10-05 17:55:05,436] Trial 32 finished with value: 0.7893633630498949 and parameters: {'shrinkage': 0.009426636553214573}. Best is trial 21 with value: 0.7894613351271792.\n",
      "[I 2020-10-05 17:55:05,974] Trial 33 finished with value: 0.7878183947634984 and parameters: {'shrinkage': 0.08019366644941572}. Best is trial 21 with value: 0.7894613351271792.\n",
      "[I 2020-10-05 17:55:06,426] Trial 34 finished with value: 0.7895780581063258 and parameters: {'shrinkage': 0.002600569857090451}. Best is trial 34 with value: 0.7895780581063258.\n",
      "[I 2020-10-05 17:55:06,854] Trial 35 finished with value: 0.789572091752563 and parameters: {'shrinkage': 0.0015079259762901375}. Best is trial 34 with value: 0.7895780581063258.\n",
      "[I 2020-10-05 17:55:07,280] Trial 36 finished with value: 0.7876192005855733 and parameters: {'shrinkage': 0.09078608504346136}. Best is trial 34 with value: 0.7895780581063258.\n",
      "[I 2020-10-05 17:55:07,817] Trial 37 finished with value: 0.7895338894324597 and parameters: {'shrinkage': 0.0009980429157370545}. Best is trial 34 with value: 0.7895780581063258.\n",
      "[I 2020-10-05 17:55:08,241] Trial 38 finished with value: 0.7719392452088136 and parameters: {'shrinkage': 0.5313048597061691}. Best is trial 34 with value: 0.7895780581063258.\n",
      "[I 2020-10-05 17:55:08,653] Trial 39 finished with value: 0.7674869489727459 and parameters: {'shrinkage': 0.6293170365445595}. Best is trial 34 with value: 0.7895780581063258.\n",
      "[I 2020-10-05 17:55:09,063] Trial 40 finished with value: 0.7835600732795333 and parameters: {'shrinkage': 0.23991260036836123}. Best is trial 34 with value: 0.7895780581063258.\n",
      "[I 2020-10-05 17:55:09,472] Trial 41 finished with value: 0.7895589358261716 and parameters: {'shrinkage': 0.0012002330795336104}. Best is trial 34 with value: 0.7895780581063258.\n",
      "[I 2020-10-05 17:55:09,916] Trial 42 finished with value: 0.7881280508976067 and parameters: {'shrinkage': 0.0601606788267387}. Best is trial 34 with value: 0.7895780581063258.\n",
      "[I 2020-10-05 17:55:10,436] Trial 43 finished with value: 0.7861214486311505 and parameters: {'shrinkage': 0.15421112726670097}. Best is trial 34 with value: 0.7895780581063258.\n",
      "[I 2020-10-05 17:55:10,953] Trial 44 finished with value: 0.7881528376189946 and parameters: {'shrinkage': 0.05752473641848103}. Best is trial 34 with value: 0.7895780581063258.\n",
      "[I 2020-10-05 17:55:11,333] Trial 45 finished with value: 0.7872382996542575 and parameters: {'shrinkage': 0.1100700731165926}. Best is trial 34 with value: 0.7895780581063258.\n",
      "[I 2020-10-05 17:55:11,759] Trial 46 finished with value: 0.7894397352029575 and parameters: {'shrinkage': 0.00716511434200064}. Best is trial 34 with value: 0.7895780581063258.\n",
      "[I 2020-10-05 17:55:12,168] Trial 47 finished with value: 0.7850619857980142 and parameters: {'shrinkage': 0.19137127385154876}. Best is trial 34 with value: 0.7895780581063258.\n",
      "[I 2020-10-05 17:55:12,610] Trial 48 finished with value: 0.7883676844235052 and parameters: {'shrinkage': 0.043413467456330866}. Best is trial 34 with value: 0.7895780581063258.\n",
      "[I 2020-10-05 17:55:13,165] Trial 49 finished with value: 0.7895555293987938 and parameters: {'shrinkage': 0.001183307925535576}. Best is trial 34 with value: 0.7895780581063258.\n",
      "[I 2020-10-05 17:55:13,810] Trial 50 finished with value: 0.761947843956704 and parameters: {'shrinkage': 0.7611763161256657}. Best is trial 34 with value: 0.7895780581063258.\n",
      "[I 2020-10-05 17:55:14,202] Trial 51 finished with value: 0.7894672165505368 and parameters: {'shrinkage': 0.0005736192707771581}. Best is trial 34 with value: 0.7895780581063258.\n",
      "[I 2020-10-05 17:55:14,754] Trial 52 finished with value: 0.7882242658986078 and parameters: {'shrinkage': 0.05350552264599602}. Best is trial 34 with value: 0.7895780581063258.\n",
      "[I 2020-10-05 17:55:15,213] Trial 53 finished with value: 0.7591182242270411 and parameters: {'shrinkage': 0.8964696923128792}. Best is trial 34 with value: 0.7895780581063258.\n",
      "[I 2020-10-05 17:55:15,750] Trial 54 finished with value: 0.7874152847606155 and parameters: {'shrinkage': 0.10185003928299552}. Best is trial 34 with value: 0.7895780581063258.\n",
      "[I 2020-10-05 17:55:16,428] Trial 55 finished with value: 0.7881922750918225 and parameters: {'shrinkage': 0.055794226844857145}. Best is trial 34 with value: 0.7895780581063258.\n",
      "[I 2020-10-05 17:55:16,923] Trial 56 finished with value: 0.7895162096897435 and parameters: {'shrinkage': 0.004248666149276603}. Best is trial 34 with value: 0.7895780581063258.\n",
      "[I 2020-10-05 17:55:17,364] Trial 57 finished with value: 0.7865113287158163 and parameters: {'shrinkage': 0.1398680174831964}. Best is trial 34 with value: 0.7895780581063258.\n",
      "[I 2020-10-05 17:55:17,761] Trial 58 finished with value: 0.7883848364357922 and parameters: {'shrinkage': 0.04210152144091813}. Best is trial 34 with value: 0.7895780581063258.\n",
      "[I 2020-10-05 17:55:18,394] Trial 59 finished with value: 0.7855036607933938 and parameters: {'shrinkage': 0.17601350541184146}. Best is trial 34 with value: 0.7895780581063258.\n",
      "[I 2020-10-05 17:55:18,830] Trial 60 finished with value: 0.7834048382791408 and parameters: {'shrinkage': 0.24426981221601188}. Best is trial 34 with value: 0.7895780581063258.\n",
      "[I 2020-10-05 17:55:19,274] Trial 61 finished with value: 0.7885023228719794 and parameters: {'shrinkage': 0.03363649028444064}. Best is trial 34 with value: 0.7895780581063258.\n",
      "[I 2020-10-05 17:55:19,713] Trial 62 finished with value: 0.7894727438256374 and parameters: {'shrinkage': 0.0005865867868956056}. Best is trial 34 with value: 0.7895780581063258.\n",
      "[I 2020-10-05 17:55:20,266] Trial 63 finished with value: 0.7878283459356431 and parameters: {'shrinkage': 0.07959527302875696}. Best is trial 34 with value: 0.7895780581063258.\n",
      "[I 2020-10-05 17:55:20,799] Trial 64 finished with value: 0.7893819331781395 and parameters: {'shrinkage': 7.738170795446486e-05}. Best is trial 34 with value: 0.7895780581063258.\n",
      "[I 2020-10-05 17:55:21,331] Trial 65 finished with value: 0.7867986799351451 and parameters: {'shrinkage': 0.12926062144098416}. Best is trial 34 with value: 0.7895780581063258.\n",
      "[I 2020-10-05 17:55:21,873] Trial 66 finished with value: 0.7895255344065136 and parameters: {'shrinkage': 0.0038546634203429275}. Best is trial 34 with value: 0.7895780581063258.\n",
      "[I 2020-10-05 17:55:22,314] Trial 67 finished with value: 0.7885695096724972 and parameters: {'shrinkage': 0.03056831233851075}. Best is trial 34 with value: 0.7895780581063258.\n",
      "[I 2020-10-05 17:55:22,884] Trial 68 finished with value: 0.7875064052737228 and parameters: {'shrinkage': 0.0963409276818592}. Best is trial 34 with value: 0.7895780581063258.\n",
      "[I 2020-10-05 17:55:23,339] Trial 69 finished with value: 0.7880280397530386 and parameters: {'shrinkage': 0.06668017858461978}. Best is trial 34 with value: 0.7895780581063258.\n",
      "[I 2020-10-05 17:55:23,762] Trial 70 finished with value: 0.7870202180055049 and parameters: {'shrinkage': 0.12025249009419393}. Best is trial 34 with value: 0.7895780581063258.\n",
      "[I 2020-10-05 17:55:24,412] Trial 71 finished with value: 0.7895742775399851 and parameters: {'shrinkage': 0.0026174602974970234}. Best is trial 34 with value: 0.7895780581063258.\n",
      "[I 2020-10-05 17:55:24,952] Trial 72 finished with value: 0.7886827065998073 and parameters: {'shrinkage': 0.02681163750825542}. Best is trial 34 with value: 0.7895780581063258.\n",
      "[I 2020-10-05 17:55:25,580] Trial 73 finished with value: 0.7894399566938503 and parameters: {'shrinkage': 0.00040279808763239895}. Best is trial 34 with value: 0.7895780581063258.\n",
      "[I 2020-10-05 17:55:26,095] Trial 74 finished with value: 0.7884885805323257 and parameters: {'shrinkage': 0.034638005388521145}. Best is trial 34 with value: 0.7895780581063258.\n",
      "[I 2020-10-05 17:55:26,648] Trial 75 finished with value: 0.7878362738513752 and parameters: {'shrinkage': 0.07903851435477863}. Best is trial 34 with value: 0.7895780581063258.\n",
      "[I 2020-10-05 17:55:27,044] Trial 76 finished with value: 0.76378435769915 and parameters: {'shrinkage': 0.7152196950306755}. Best is trial 34 with value: 0.7895780581063258.\n",
      "[I 2020-10-05 17:55:27,484] Trial 77 finished with value: 0.7599415003327032 and parameters: {'shrinkage': 0.8417179982055122}. Best is trial 34 with value: 0.7895780581063258.\n",
      "[I 2020-10-05 17:55:27,893] Trial 78 finished with value: 0.7747745245420069 and parameters: {'shrinkage': 0.46782035320239285}. Best is trial 34 with value: 0.7895780581063258.\n",
      "[I 2020-10-05 17:55:28,418] Trial 79 finished with value: 0.7886140344936567 and parameters: {'shrinkage': 0.028722663366403882}. Best is trial 34 with value: 0.7895780581063258.\n",
      "[I 2020-10-05 17:55:28,855] Trial 80 finished with value: 0.7895704422024123 and parameters: {'shrinkage': 0.0013752009376366016}. Best is trial 34 with value: 0.7895780581063258.\n",
      "[I 2020-10-05 17:55:29,427] Trial 81 finished with value: 0.7894724266732933 and parameters: {'shrinkage': 0.005905548599551079}. Best is trial 34 with value: 0.7895780581063258.\n",
      "[I 2020-10-05 17:55:30,088] Trial 82 finished with value: 0.7880132991989013 and parameters: {'shrinkage': 0.06871931547315269}. Best is trial 34 with value: 0.7895780581063258.\n",
      "[I 2020-10-05 17:55:30,481] Trial 83 finished with value: 0.7887497215835445 and parameters: {'shrinkage': 0.024666708352897696}. Best is trial 34 with value: 0.7895780581063258.\n",
      "[I 2020-10-05 17:55:30,925] Trial 84 finished with value: 0.7874628286728175 and parameters: {'shrinkage': 0.09902421016656665}. Best is trial 34 with value: 0.7895780581063258.\n",
      "[I 2020-10-05 17:55:31,354] Trial 85 finished with value: 0.7895638184724667 and parameters: {'shrinkage': 0.0012667038886268384}. Best is trial 34 with value: 0.7895780581063258.\n",
      "[I 2020-10-05 17:55:31,879] Trial 86 finished with value: 0.7881343180129692 and parameters: {'shrinkage': 0.059758380608583066}. Best is trial 34 with value: 0.7895780581063258.\n",
      "[I 2020-10-05 17:55:32,300] Trial 87 finished with value: 0.786370559885412 and parameters: {'shrinkage': 0.14509245903375567}. Best is trial 34 with value: 0.7895780581063258.\n",
      "[I 2020-10-05 17:55:32,727] Trial 88 finished with value: 0.7883846488254347 and parameters: {'shrinkage': 0.042332171026404034}. Best is trial 34 with value: 0.7895780581063258.\n",
      "[I 2020-10-05 17:55:33,265] Trial 89 finished with value: 0.7680787519150084 and parameters: {'shrinkage': 0.6164621088071549}. Best is trial 34 with value: 0.7895780581063258.\n"
     ]
    },
    {
     "name": "stderr",
     "output_type": "stream",
     "text": [
      "[I 2020-10-05 17:55:33,878] Trial 90 finished with value: 0.778926611200582 and parameters: {'shrinkage': 0.36998683434637647}. Best is trial 34 with value: 0.7895780581063258.\n",
      "[I 2020-10-05 17:55:34,580] Trial 91 finished with value: 0.7895118602345204 and parameters: {'shrinkage': 0.004479697066122862}. Best is trial 34 with value: 0.7895780581063258.\n",
      "[I 2020-10-05 17:55:35,067] Trial 92 finished with value: 0.7894413361868589 and parameters: {'shrinkage': 0.0004170381732173183}. Best is trial 34 with value: 0.7895780581063258.\n",
      "[I 2020-10-05 17:55:35,495] Trial 93 finished with value: 0.788593102996781 and parameters: {'shrinkage': 0.0295732280345621}. Best is trial 34 with value: 0.7895780581063258.\n",
      "[I 2020-10-05 17:55:36,031] Trial 94 finished with value: 0.7878423542217815 and parameters: {'shrinkage': 0.07876647245192424}. Best is trial 34 with value: 0.7895780581063258.\n",
      "[I 2020-10-05 17:55:36,705] Trial 95 finished with value: 0.7883227951991493 and parameters: {'shrinkage': 0.04779280893958427}. Best is trial 34 with value: 0.7895780581063258.\n",
      "[I 2020-10-05 17:55:37,132] Trial 96 finished with value: 0.7889291317608307 and parameters: {'shrinkage': 0.019720936658623532}. Best is trial 34 with value: 0.7895780581063258.\n",
      "[I 2020-10-05 17:55:37,779] Trial 97 finished with value: 0.787270275316517 and parameters: {'shrinkage': 0.10867888007860939}. Best is trial 34 with value: 0.7895780581063258.\n",
      "[I 2020-10-05 17:55:38,200] Trial 98 finished with value: 0.7880947794872253 and parameters: {'shrinkage': 0.06228616671081662}. Best is trial 34 with value: 0.7895780581063258.\n",
      "[I 2020-10-05 17:55:38,847] Trial 99 finished with value: 0.7895167612705968 and parameters: {'shrinkage': 0.004268550580209272}. Best is trial 34 with value: 0.7895780581063258.\n",
      "[I 2020-10-05 17:55:39,480] Trial 100 finished with value: 0.7890628364845254 and parameters: {'shrinkage': 0.01630730279073258}. Best is trial 34 with value: 0.7895780581063258.\n",
      "[I 2020-10-05 17:55:39,970] Trial 101 finished with value: 0.7883245501292231 and parameters: {'shrinkage': 0.047354931603208264}. Best is trial 34 with value: 0.7895780581063258.\n",
      "[I 2020-10-05 17:55:40,427] Trial 102 finished with value: 0.7894477796623596 and parameters: {'shrinkage': 0.0004854006282127111}. Best is trial 34 with value: 0.7895780581063258.\n",
      "[I 2020-10-05 17:55:40,992] Trial 103 finished with value: 0.7895780388338486 and parameters: {'shrinkage': 0.001798183735445745}. Best is trial 34 with value: 0.7895780581063258.\n",
      "[I 2020-10-05 17:55:41,640] Trial 104 finished with value: 0.7876220569465506 and parameters: {'shrinkage': 0.09063969730447768}. Best is trial 34 with value: 0.7895780581063258.\n",
      "[I 2020-10-05 17:55:42,063] Trial 105 finished with value: 0.7888942698812432 and parameters: {'shrinkage': 0.020844938585235943}. Best is trial 34 with value: 0.7895780581063258.\n",
      "[I 2020-10-05 17:55:42,694] Trial 106 finished with value: 0.7879769857643384 and parameters: {'shrinkage': 0.07076979691349848}. Best is trial 34 with value: 0.7895780581063258.\n",
      "[I 2020-10-05 17:55:43,181] Trial 107 finished with value: 0.7697743185370531 and parameters: {'shrinkage': 0.5800897385566158}. Best is trial 34 with value: 0.7895780581063258.\n",
      "[I 2020-10-05 17:55:43,829] Trial 108 finished with value: 0.7882431715428664 and parameters: {'shrinkage': 0.05183569226024788}. Best is trial 34 with value: 0.7895780581063258.\n",
      "[I 2020-10-05 17:55:44,181] Trial 109 finished with value: 0.7895478858193279 and parameters: {'shrinkage': 0.0010869182322574894}. Best is trial 34 with value: 0.7895780581063258.\n",
      "[I 2020-10-05 17:55:44,708] Trial 110 finished with value: 0.7884370407505787 and parameters: {'shrinkage': 0.03770701047490924}. Best is trial 34 with value: 0.7895780581063258.\n",
      "[I 2020-10-05 17:55:45,355] Trial 111 finished with value: 0.7895714443112027 and parameters: {'shrinkage': 0.0015183454402741472}. Best is trial 34 with value: 0.7895780581063258.\n",
      "[I 2020-10-05 17:55:45,781] Trial 112 finished with value: 0.7888921475190678 and parameters: {'shrinkage': 0.02090402064614337}. Best is trial 34 with value: 0.7895780581063258.\n",
      "[I 2020-10-05 17:55:46,208] Trial 113 finished with value: 0.7895655944231154 and parameters: {'shrinkage': 0.002972100068862397}. Best is trial 34 with value: 0.7895780581063258.\n",
      "[I 2020-10-05 17:55:46,652] Trial 114 finished with value: 0.7883955332896584 and parameters: {'shrinkage': 0.04083253727939816}. Best is trial 34 with value: 0.7895780581063258.\n",
      "[I 2020-10-05 17:55:47,188] Trial 115 finished with value: 0.7877803508464529 and parameters: {'shrinkage': 0.08195371841428577}. Best is trial 34 with value: 0.7895780581063258.\n",
      "[I 2020-10-05 17:55:47,860] Trial 116 finished with value: 0.7895127186001945 and parameters: {'shrinkage': 0.0008679857315112933}. Best is trial 34 with value: 0.7895780581063258.\n",
      "[I 2020-10-05 17:55:48,312] Trial 117 finished with value: 0.7889235099233252 and parameters: {'shrinkage': 0.01984813078869076}. Best is trial 34 with value: 0.7895780581063258.\n",
      "[I 2020-10-05 17:55:48,942] Trial 118 finished with value: 0.7872281669295657 and parameters: {'shrinkage': 0.11087726214628077}. Best is trial 34 with value: 0.7895780581063258.\n",
      "[I 2020-10-05 17:55:49,514] Trial 119 finished with value: 0.7894618736405379 and parameters: {'shrinkage': 0.0005454103199097535}. Best is trial 34 with value: 0.7895780581063258.\n",
      "[I 2020-10-05 17:55:50,036] Trial 120 finished with value: 0.7880818680886323 and parameters: {'shrinkage': 0.06341776095882468}. Best is trial 34 with value: 0.7895780581063258.\n",
      "[I 2020-10-05 17:55:50,473] Trial 121 finished with value: 0.7888806229693961 and parameters: {'shrinkage': 0.021119680152295407}. Best is trial 34 with value: 0.7895780581063258.\n",
      "[I 2020-10-05 17:55:51,136] Trial 122 finished with value: 0.7895640939383679 and parameters: {'shrinkage': 0.0012678677175837307}. Best is trial 34 with value: 0.7895780581063258.\n",
      "[I 2020-10-05 17:55:51,606] Trial 123 finished with value: 0.7883830845346231 and parameters: {'shrinkage': 0.04194964988401636}. Best is trial 34 with value: 0.7895780581063258.\n",
      "[I 2020-10-05 17:55:52,147] Trial 124 finished with value: 0.7895810200635768 and parameters: {'shrinkage': 0.002434088126207793}. Best is trial 124 with value: 0.7895810200635768.\n",
      "[I 2020-10-05 17:55:52,606] Trial 125 finished with value: 0.7884868281984563 and parameters: {'shrinkage': 0.03473750313696846}. Best is trial 124 with value: 0.7895810200635768.\n",
      "[I 2020-10-05 17:55:53,042] Trial 126 finished with value: 0.7895341685763171 and parameters: {'shrinkage': 0.0009857301045779483}. Best is trial 124 with value: 0.7895810200635768.\n",
      "[I 2020-10-05 17:55:53,703] Trial 127 finished with value: 0.7894112214836477 and parameters: {'shrinkage': 0.00023957881675180015}. Best is trial 124 with value: 0.7895810200635768.\n",
      "[I 2020-10-05 17:55:54,308] Trial 128 finished with value: 0.7881229802082534 and parameters: {'shrinkage': 0.060596062525579905}. Best is trial 124 with value: 0.7895810200635768.\n",
      "[I 2020-10-05 17:55:54,972] Trial 129 finished with value: 0.7887526742377298 and parameters: {'shrinkage': 0.024569460655505127}. Best is trial 124 with value: 0.7895810200635768.\n",
      "[I 2020-10-05 17:55:55,508] Trial 130 finished with value: 0.7877017634823185 and parameters: {'shrinkage': 0.08628976923335169}. Best is trial 124 with value: 0.7895810200635768.\n",
      "[I 2020-10-05 17:55:55,918] Trial 131 finished with value: 0.7895860007338827 and parameters: {'shrinkage': 0.0023665526949698365}. Best is trial 131 with value: 0.7895860007338827.\n",
      "[I 2020-10-05 17:55:56,342] Trial 132 finished with value: 0.789428080722004 and parameters: {'shrinkage': 0.00030974613307549795}. Best is trial 131 with value: 0.7895860007338827.\n",
      "[I 2020-10-05 17:55:56,767] Trial 133 finished with value: 0.7883985766119419 and parameters: {'shrinkage': 0.04056372643186821}. Best is trial 131 with value: 0.7895860007338827.\n",
      "[I 2020-10-05 17:55:57,305] Trial 134 finished with value: 0.7889445323046497 and parameters: {'shrinkage': 0.01928692119268351}. Best is trial 131 with value: 0.7895860007338827.\n",
      "[I 2020-10-05 17:55:57,845] Trial 135 finished with value: 0.7881922770389759 and parameters: {'shrinkage': 0.056222310815338905}. Best is trial 131 with value: 0.7895860007338827.\n",
      "[I 2020-10-05 17:55:58,252] Trial 136 finished with value: 0.7889203750675418 and parameters: {'shrinkage': 0.01999608520985024}. Best is trial 131 with value: 0.7895860007338827.\n",
      "[I 2020-10-05 17:55:58,694] Trial 137 finished with value: 0.788368413229898 and parameters: {'shrinkage': 0.043799321605522364}. Best is trial 131 with value: 0.7895860007338827.\n",
      "[I 2020-10-05 17:55:59,122] Trial 138 finished with value: 0.7895466658457178 and parameters: {'shrinkage': 0.003339427247023267}. Best is trial 131 with value: 0.7895860007338827.\n",
      "[I 2020-10-05 17:55:59,563] Trial 139 finished with value: 0.7548933323313485 and parameters: {'shrinkage': 0.9945378807652359}. Best is trial 131 with value: 0.7895860007338827.\n",
      "[I 2020-10-05 17:56:00,003] Trial 140 finished with value: 0.7879392041158215 and parameters: {'shrinkage': 0.07327102884065348}. Best is trial 131 with value: 0.7895860007338827.\n",
      "[I 2020-10-05 17:56:00,441] Trial 141 finished with value: 0.7895718158539612 and parameters: {'shrinkage': 0.001497201661786513}. Best is trial 131 with value: 0.7895860007338827.\n",
      "[I 2020-10-05 17:56:00,886] Trial 142 finished with value: 0.7889305136336937 and parameters: {'shrinkage': 0.019710679651894082}. Best is trial 131 with value: 0.7895860007338827.\n",
      "[I 2020-10-05 17:56:01,329] Trial 143 finished with value: 0.7894751032125265 and parameters: {'shrinkage': 0.005771454087068927}. Best is trial 131 with value: 0.7895860007338827.\n",
      "[I 2020-10-05 17:56:01,753] Trial 144 finished with value: 0.7895094945907651 and parameters: {'shrinkage': 0.0008508774392506355}. Best is trial 131 with value: 0.7895860007338827.\n",
      "[I 2020-10-05 17:56:02,197] Trial 145 finished with value: 0.7884777899814559 and parameters: {'shrinkage': 0.03494949649472225}. Best is trial 131 with value: 0.7895860007338827.\n",
      "[I 2020-10-05 17:56:02,656] Trial 146 finished with value: 0.7881787339925995 and parameters: {'shrinkage': 0.05669295501445226}. Best is trial 131 with value: 0.7895860007338827.\n",
      "[I 2020-10-05 17:56:03,213] Trial 147 finished with value: 0.7889258138380477 and parameters: {'shrinkage': 0.0197836328982924}. Best is trial 131 with value: 0.7895860007338827.\n",
      "[I 2020-10-05 17:56:03,685] Trial 148 finished with value: 0.789520811409495 and parameters: {'shrinkage': 0.0009204630465531377}. Best is trial 131 with value: 0.7895860007338827.\n",
      "[I 2020-10-05 17:56:04,334] Trial 149 finished with value: 0.789504705425123 and parameters: {'shrinkage': 0.0008288447342680888}. Best is trial 131 with value: 0.7895860007338827.\n",
      "[I 2020-10-05 17:56:04,775] Trial 150 finished with value: 0.7884444147056033 and parameters: {'shrinkage': 0.0373947193630536}. Best is trial 131 with value: 0.7895860007338827.\n",
      "[I 2020-10-05 17:56:05,422] Trial 151 finished with value: 0.7895660577157241 and parameters: {'shrinkage': 0.002897111060432366}. Best is trial 131 with value: 0.7895860007338827.\n",
      "[I 2020-10-05 17:56:05,815] Trial 152 finished with value: 0.7889165936357996 and parameters: {'shrinkage': 0.020167385112235023}. Best is trial 131 with value: 0.7895860007338827.\n",
      "[I 2020-10-05 17:56:06,226] Trial 153 finished with value: 0.7894079048589668 and parameters: {'shrinkage': 0.0002027151008014978}. Best is trial 131 with value: 0.7895860007338827.\n",
      "[I 2020-10-05 17:56:06,766] Trial 154 finished with value: 0.7882353377568386 and parameters: {'shrinkage': 0.0523812929387375}. Best is trial 131 with value: 0.7895860007338827.\n",
      "[I 2020-10-05 17:56:07,204] Trial 155 finished with value: 0.7884560236492129 and parameters: {'shrinkage': 0.036330646488041594}. Best is trial 131 with value: 0.7895860007338827.\n",
      "[I 2020-10-05 17:56:07,627] Trial 156 finished with value: 0.7879979997079984 and parameters: {'shrinkage': 0.0698068649820091}. Best is trial 131 with value: 0.7895860007338827.\n",
      "[I 2020-10-05 17:56:08,224] Trial 157 finished with value: 0.7889496964746561 and parameters: {'shrinkage': 0.01915175124566854}. Best is trial 131 with value: 0.7895860007338827.\n",
      "[I 2020-10-05 17:56:08,760] Trial 158 finished with value: 0.7895745852247962 and parameters: {'shrinkage': 0.0014147228497016573}. Best is trial 131 with value: 0.7895860007338827.\n",
      "[I 2020-10-05 17:56:09,212] Trial 159 finished with value: 0.7895720861274536 and parameters: {'shrinkage': 0.0015552019789967456}. Best is trial 131 with value: 0.7895860007338827.\n",
      "[I 2020-10-05 17:56:09,657] Trial 160 finished with value: 0.7659654280002464 and parameters: {'shrinkage': 0.6640418359570406}. Best is trial 131 with value: 0.7895860007338827.\n",
      "[I 2020-10-05 17:56:10,086] Trial 161 finished with value: 0.7888796987640327 and parameters: {'shrinkage': 0.02114671602861234}. Best is trial 131 with value: 0.7895860007338827.\n",
      "[I 2020-10-05 17:56:10,529] Trial 162 finished with value: 0.7895765883779193 and parameters: {'shrinkage': 0.002532301687044973}. Best is trial 131 with value: 0.7895860007338827.\n",
      "[I 2020-10-05 17:56:10,971] Trial 163 finished with value: 0.7895477010215253 and parameters: {'shrinkage': 0.0010852829332112137}. Best is trial 131 with value: 0.7895860007338827.\n",
      "[I 2020-10-05 17:56:11,540] Trial 164 finished with value: 0.7893779777661131 and parameters: {'shrinkage': 4.780727440386115e-05}. Best is trial 131 with value: 0.7895860007338827.\n",
      "[I 2020-10-05 17:56:12,028] Trial 165 finished with value: 0.7883766248328452 and parameters: {'shrinkage': 0.04303454369163703}. Best is trial 131 with value: 0.7895860007338827.\n",
      "[I 2020-10-05 17:56:12,470] Trial 166 finished with value: 0.7886300764210257 and parameters: {'shrinkage': 0.028168585511898096}. Best is trial 131 with value: 0.7895860007338827.\n",
      "[I 2020-10-05 17:56:13,024] Trial 167 finished with value: 0.7824836936415485 and parameters: {'shrinkage': 0.2729040768743939}. Best is trial 131 with value: 0.7895860007338827.\n",
      "[I 2020-10-05 17:56:13,433] Trial 168 finished with value: 0.7875407724898981 and parameters: {'shrinkage': 0.09471126946845872}. Best is trial 131 with value: 0.7895860007338827.\n",
      "[I 2020-10-05 17:56:13,876] Trial 169 finished with value: 0.7894981652237137 and parameters: {'shrinkage': 0.0007992111417834625}. Best is trial 131 with value: 0.7895860007338827.\n",
      "[I 2020-10-05 17:56:14,302] Trial 170 finished with value: 0.78806509108071 and parameters: {'shrinkage': 0.06481368994662288}. Best is trial 131 with value: 0.7895860007338827.\n",
      "[I 2020-10-05 17:56:14,843] Trial 171 finished with value: 0.7894025628143695 and parameters: {'shrinkage': 0.00018119473219001215}. Best is trial 131 with value: 0.7895860007338827.\n",
      "[I 2020-10-05 17:56:15,346] Trial 172 finished with value: 0.7886957978201443 and parameters: {'shrinkage': 0.026423031060725723}. Best is trial 131 with value: 0.7895860007338827.\n",
      "[I 2020-10-05 17:56:15,872] Trial 173 finished with value: 0.7890158999888656 and parameters: {'shrinkage': 0.017469199918064705}. Best is trial 131 with value: 0.7895860007338827.\n",
      "[I 2020-10-05 17:56:16,422] Trial 174 finished with value: 0.7883334892404608 and parameters: {'shrinkage': 0.046707939489819536}. Best is trial 131 with value: 0.7895860007338827.\n",
      "[I 2020-10-05 17:56:16,861] Trial 175 finished with value: 0.789570164789358 and parameters: {'shrinkage': 0.0013731037711120432}. Best is trial 131 with value: 0.7895860007338827.\n",
      "[I 2020-10-05 17:56:17,291] Trial 176 finished with value: 0.7889987462457759 and parameters: {'shrinkage': 0.01799103711252111}. Best is trial 131 with value: 0.7895860007338827.\n",
      "[I 2020-10-05 17:56:17,717] Trial 177 finished with value: 0.7895511996314541 and parameters: {'shrinkage': 0.001167499553485253}. Best is trial 131 with value: 0.7895860007338827.\n",
      "[I 2020-10-05 17:56:18,159] Trial 178 finished with value: 0.7882974493246454 and parameters: {'shrinkage': 0.048894000069814675}. Best is trial 131 with value: 0.7895860007338827.\n",
      "[I 2020-10-05 17:56:18,693] Trial 179 finished with value: 0.789518050259974 and parameters: {'shrinkage': 0.0009061900923279897}. Best is trial 131 with value: 0.7895860007338827.\n"
     ]
    },
    {
     "name": "stderr",
     "output_type": "stream",
     "text": [
      "[I 2020-10-05 17:56:19,166] Trial 180 finished with value: 0.788540746985798 and parameters: {'shrinkage': 0.03170799843138182}. Best is trial 131 with value: 0.7895860007338827.\n",
      "[I 2020-10-05 17:56:19,724] Trial 181 finished with value: 0.7895754133533023 and parameters: {'shrinkage': 0.0014308917087018124}. Best is trial 131 with value: 0.7895860007338827.\n",
      "[I 2020-10-05 17:56:20,388] Trial 182 finished with value: 0.7895639961307074 and parameters: {'shrinkage': 0.0013073571673148296}. Best is trial 131 with value: 0.7895860007338827.\n",
      "[I 2020-10-05 17:56:20,857] Trial 183 finished with value: 0.7891037824124754 and parameters: {'shrinkage': 0.015428210314241136}. Best is trial 131 with value: 0.7895860007338827.\n",
      "[I 2020-10-05 17:56:21,284] Trial 184 finished with value: 0.7884968812889186 and parameters: {'shrinkage': 0.03394278649691965}. Best is trial 131 with value: 0.7895860007338827.\n",
      "[I 2020-10-05 17:56:21,933] Trial 185 finished with value: 0.7894991805298763 and parameters: {'shrinkage': 0.0007875061371234842}. Best is trial 131 with value: 0.7895860007338827.\n",
      "[I 2020-10-05 17:56:22,326] Trial 186 finished with value: 0.7890436577542197 and parameters: {'shrinkage': 0.01672440020412201}. Best is trial 131 with value: 0.7895860007338827.\n",
      "[I 2020-10-05 17:56:22,732] Trial 187 finished with value: 0.7883269486063507 and parameters: {'shrinkage': 0.04710024757210106}. Best is trial 131 with value: 0.7895860007338827.\n",
      "[I 2020-10-05 17:56:23,177] Trial 188 finished with value: 0.7890046454963358 and parameters: {'shrinkage': 0.017887140596468367}. Best is trial 131 with value: 0.7895860007338827.\n",
      "[I 2020-10-05 17:56:23,620] Trial 189 finished with value: 0.7895720986757748 and parameters: {'shrinkage': 0.0013958118860954516}. Best is trial 131 with value: 0.7895860007338827.\n",
      "[I 2020-10-05 17:56:24,063] Trial 190 finished with value: 0.7894112238635018 and parameters: {'shrinkage': 0.00022211580529282607}. Best is trial 131 with value: 0.7895860007338827.\n",
      "[I 2020-10-05 17:56:24,618] Trial 191 finished with value: 0.7884623833798268 and parameters: {'shrinkage': 0.03610286829490206}. Best is trial 131 with value: 0.7895860007338827.\n",
      "[I 2020-10-05 17:56:25,280] Trial 192 finished with value: 0.7891887989556918 and parameters: {'shrinkage': 0.013515250744226536}. Best is trial 131 with value: 0.7895860007338827.\n",
      "[I 2020-10-05 17:56:25,969] Trial 193 finished with value: 0.789489971361497 and parameters: {'shrinkage': 0.0007099170953533437}. Best is trial 131 with value: 0.7895860007338827.\n",
      "[I 2020-10-05 17:56:26,552] Trial 194 finished with value: 0.7885332858242806 and parameters: {'shrinkage': 0.03206725989564002}. Best is trial 131 with value: 0.7895860007338827.\n",
      "[I 2020-10-05 17:56:27,074] Trial 195 finished with value: 0.7893683966222742 and parameters: {'shrinkage': 1.7836661295018985e-05}. Best is trial 131 with value: 0.7895860007338827.\n",
      "[I 2020-10-05 17:56:27,481] Trial 196 finished with value: 0.7895722767667162 and parameters: {'shrinkage': 0.0014948127098540797}. Best is trial 131 with value: 0.7895860007338827.\n",
      "[I 2020-10-05 17:56:28,110] Trial 197 finished with value: 0.7880872155419889 and parameters: {'shrinkage': 0.06315246480095688}. Best is trial 131 with value: 0.7895860007338827.\n",
      "[I 2020-10-05 17:56:28,727] Trial 198 finished with value: 0.7894627946006458 and parameters: {'shrinkage': 0.0005482138829161324}. Best is trial 131 with value: 0.7895860007338827.\n",
      "[I 2020-10-05 17:56:29,264] Trial 199 finished with value: 0.7886897122573292 and parameters: {'shrinkage': 0.02668456955815013}. Best is trial 131 with value: 0.7895860007338827.\n"
     ]
    }
   ],
   "source": [
    "# Extracting the best model parameters and best study score\n",
    "best_study_score,best_study_params = train_test_roc_auc(X_train_red, y_train, lda_eigen, objective_wrappper_lda, cv_strat, n_trials=200)"
   ]
  },
  {
   "cell_type": "code",
   "execution_count": 23,
   "metadata": {},
   "outputs": [
    {
     "name": "stdout",
     "output_type": "stream",
     "text": [
      "The best roc_auc_score for the study is:  0.7895860007338827\n"
     ]
    }
   ],
   "source": [
    "print('The best roc_auc_score for the study is: ',best_study_score)"
   ]
  },
  {
   "cell_type": "code",
   "execution_count": 24,
   "metadata": {},
   "outputs": [
    {
     "name": "stdout",
     "output_type": "stream",
     "text": [
      "The best study parameters for the classifier are:  {'shrinkage': 0.0023665526949698365}\n"
     ]
    }
   ],
   "source": [
    "print('The best study parameters for the classifier are: ',best_study_params)"
   ]
  },
  {
   "cell_type": "code",
   "execution_count": 25,
   "metadata": {},
   "outputs": [],
   "source": [
    "# Obtaining the best reduced feature LDA  model with eigen solver by setting best study parameters.\n",
    "lda_eigen = lda_eigen.set_params(**best_study_params)"
   ]
  },
  {
   "cell_type": "code",
   "execution_count": 26,
   "metadata": {},
   "outputs": [
    {
     "data": {
      "text/plain": [
       "LinearDiscriminantAnalysis(shrinkage=0.0023665526949698365, solver='eigen')"
      ]
     },
     "execution_count": 26,
     "metadata": {},
     "output_type": "execute_result"
    }
   ],
   "source": [
    "# fitting the best LDA_eigen  model on the reduced feature training set\n",
    "lda_eigen.fit(X_train_red, y_train)"
   ]
  },
  {
   "cell_type": "code",
   "execution_count": 27,
   "metadata": {},
   "outputs": [
    {
     "name": "stdout",
     "output_type": "stream",
     "text": [
      "The roc_auc_score for the Reduced feature training set using the best LDA Classifier with eigen solver is  0.7921019598225975\n"
     ]
    }
   ],
   "source": [
    "# Calculating the Reduced feature training set roc_auc score using the best study parameters\n",
    "cal_roc_auc(X_train_red ,y_train , lda_eigen, 'Reduced feature', 'training', 'LDA Classifier with eigen solver')"
   ]
  },
  {
   "cell_type": "code",
   "execution_count": 28,
   "metadata": {},
   "outputs": [
    {
     "name": "stdout",
     "output_type": "stream",
     "text": [
      "The roc_auc_score for the Reduced feature test set using the best LDA Classifier with eigen solver is  0.7966579349261759\n"
     ]
    }
   ],
   "source": [
    "# Calculating the Reduced feature test set roc_auc score using the best study parameters\n",
    "cal_roc_auc(X_test_red ,y_test , lda_eigen, 'Reduced feature', 'test', 'LDA Classifier with eigen solver')"
   ]
  },
  {
   "cell_type": "markdown",
   "metadata": {},
   "source": [
    "###  Computing the test set roc_auc score using LDA classifier with eigen solver & shrinkage utilizing the Ledoit-Wolf lemma with no other hyperparameters to tune.\n"
   ]
  },
  {
   "cell_type": "code",
   "execution_count": 24,
   "metadata": {},
   "outputs": [],
   "source": [
    "# Instantiating the LDA classifier object using  eigen solver utilizing shrinkage using the Ledoit-Wolf lemma\n",
    "lda_eigen_auto = LinearDiscriminantAnalysis(solver='eigen',shrinkage='auto')"
   ]
  },
  {
   "cell_type": "code",
   "execution_count": 30,
   "metadata": {},
   "outputs": [
    {
     "data": {
      "text/plain": [
       "LinearDiscriminantAnalysis(shrinkage='auto', solver='eigen')"
      ]
     },
     "execution_count": 30,
     "metadata": {},
     "output_type": "execute_result"
    }
   ],
   "source": [
    "# fitting the best LDA_eigen model with Ledoit-Wolf shrinkage on the reduced feature training set\n",
    "lda_eigen_auto.fit(X_train_red, y_train)"
   ]
  },
  {
   "cell_type": "code",
   "execution_count": 31,
   "metadata": {},
   "outputs": [
    {
     "name": "stdout",
     "output_type": "stream",
     "text": [
      "The roc_auc_score for the Reduced feature training set using the best LDA Classifier with Ledoit-Wolf shrinkage is  0.7918050136542901\n"
     ]
    }
   ],
   "source": [
    "# Calculating the Reduced feature training set roc_auc score using Ledoit-Wolf shrinkage\n",
    "cal_roc_auc(X_train_red , y_train, lda_eigen_auto, 'Reduced feature', 'training', 'LDA Classifier with Ledoit-Wolf shrinkage')"
   ]
  },
  {
   "cell_type": "code",
   "execution_count": 32,
   "metadata": {},
   "outputs": [
    {
     "name": "stdout",
     "output_type": "stream",
     "text": [
      "The roc_auc_score for the Reduced feature test set using the best LDA Classifier with Ledoit-Wolf shrinkage is  0.7966489427567338\n"
     ]
    }
   ],
   "source": [
    "# Calculating the Reduced feature test set roc_auc score using Ledoit-Wolf shrinkage\n",
    "cal_roc_auc( X_test_red, y_test, lda_eigen_auto, 'Reduced feature', 'test', 'LDA Classifier with Ledoit-Wolf shrinkage')"
   ]
  },
  {
   "cell_type": "code",
   "execution_count": 33,
   "metadata": {},
   "outputs": [
    {
     "data": {
      "text/plain": [
       "['Linear_Dis_Reduced.joblib']"
      ]
     },
     "execution_count": 33,
     "metadata": {},
     "output_type": "execute_result"
    }
   ],
   "source": [
    "# Saving the Reduced feature best LDA model \n",
    "import joblib\n",
    "joblib.dump(lda_eigen,'Linear_Dis_Reduced.joblib')"
   ]
  },
  {
   "cell_type": "markdown",
   "metadata": {},
   "source": [
    "### Calculating R_R ratio for Vanilla LDA Classifier using SVD solver"
   ]
  },
  {
   "cell_type": "code",
   "execution_count": 11,
   "metadata": {},
   "outputs": [],
   "source": [
    "# Computing the CV scores using sklearn's cross_val_score\n",
    "score_lda = cross_val_score(lda_svd, X_train_red, y_train, cv=cv_strat, n_jobs=5, scoring='roc_auc')"
   ]
  },
  {
   "cell_type": "code",
   "execution_count": 12,
   "metadata": {},
   "outputs": [
    {
     "name": "stdout",
     "output_type": "stream",
     "text": [
      "The reward associated with the vanilla lda Classifier using roc_auc metric is:  0.7893660018231028\n"
     ]
    }
   ],
   "source": [
    "print('The reward associated with the vanilla lda Classifier using roc_auc metric is: ',np.mean(score_lda))"
   ]
  },
  {
   "cell_type": "code",
   "execution_count": 13,
   "metadata": {},
   "outputs": [
    {
     "name": "stdout",
     "output_type": "stream",
     "text": [
      "The risk associated with the vanilla lda Classifier using roc_auc metric is:  0.015431504650271223\n"
     ]
    }
   ],
   "source": [
    "print('The risk associated with the vanilla lda Classifier using roc_auc metric is: ',np.std(score_lda))"
   ]
  },
  {
   "cell_type": "code",
   "execution_count": 14,
   "metadata": {},
   "outputs": [],
   "source": [
    "R_R_Ratio_lda = np.mean(score_lda)/np.std(score_lda)"
   ]
  },
  {
   "cell_type": "code",
   "execution_count": 15,
   "metadata": {},
   "outputs": [
    {
     "name": "stdout",
     "output_type": "stream",
     "text": [
      "The reward risk ratio for the vanilla lda Classifier using roc_auc metric is:  51.152886235836306\n"
     ]
    }
   ],
   "source": [
    "print('The reward risk ratio for the vanilla lda Classifier using roc_auc metric is: ',R_R_Ratio_lda)"
   ]
  },
  {
   "cell_type": "markdown",
   "metadata": {},
   "source": [
    "#### The R_R ratio for the vanilla lda Classifier using roc_auc metric is:  51.152886235836306"
   ]
  },
  {
   "cell_type": "markdown",
   "metadata": {},
   "source": [
    "### Calculating R_R ratio for the best  lda Classifier using eigen solver & shrinkage"
   ]
  },
  {
   "cell_type": "code",
   "execution_count": null,
   "metadata": {},
   "outputs": [],
   "source": [
    "# Loading the best lda classifier with eigen solver & shrinkage model.\n",
    "import joblib\n",
    "lda_eigen = joblib.load('Linear_Dis_Reduced.joblib')"
   ]
  },
  {
   "cell_type": "code",
   "execution_count": 17,
   "metadata": {},
   "outputs": [],
   "source": [
    "# Computing the CV scores using sklearn's cross_val_score\n",
    "score_lda_eigen = cross_val_score(lda_eigen, X_train_red, y_train, cv=cv_strat, n_jobs=5, scoring='roc_auc')"
   ]
  },
  {
   "cell_type": "code",
   "execution_count": 20,
   "metadata": {},
   "outputs": [
    {
     "name": "stdout",
     "output_type": "stream",
     "text": [
      "The reward associated with the best lda classifier with eigen solver using roc_auc metric is:  0.7895860007338827\n"
     ]
    }
   ],
   "source": [
    "print('The reward associated with the best lda classifier with eigen solver using roc_auc metric is: ',np.mean(score_lda_eigen))"
   ]
  },
  {
   "cell_type": "code",
   "execution_count": 21,
   "metadata": {},
   "outputs": [
    {
     "name": "stdout",
     "output_type": "stream",
     "text": [
      "The risk associated with the best lda classifier with eigen solver using roc_auc metric is:  0.015607689779301505\n"
     ]
    }
   ],
   "source": [
    "print('The risk associated with the best lda classifier with eigen solver using roc_auc metric is: ',np.std(score_lda_eigen))"
   ]
  },
  {
   "cell_type": "code",
   "execution_count": 22,
   "metadata": {},
   "outputs": [],
   "source": [
    "R_R_Ratio_lda_eigen = np.mean(score_lda_eigen)/np.std(score_lda_eigen)"
   ]
  },
  {
   "cell_type": "code",
   "execution_count": 23,
   "metadata": {},
   "outputs": [
    {
     "name": "stdout",
     "output_type": "stream",
     "text": [
      "The reward risk ratio for the  best lda classifier with eigen solver using roc_auc metric is:  50.589549888479354\n"
     ]
    }
   ],
   "source": [
    "print('The reward risk ratio for the  best lda classifier with eigen solver using roc_auc metric is: ',R_R_Ratio_lda_eigen)"
   ]
  },
  {
   "cell_type": "markdown",
   "metadata": {},
   "source": [
    "#### The R_R ratio for the best lda classifier with eigen solver using roc_auc metric is:  50.589549888479354"
   ]
  },
  {
   "cell_type": "markdown",
   "metadata": {},
   "source": [
    "### Calculating R_R ratio for the lda Classifier with eigen solver & shrinkage utilizing the Ledoit-Wolf lemma"
   ]
  },
  {
   "cell_type": "code",
   "execution_count": 25,
   "metadata": {},
   "outputs": [],
   "source": [
    "# Computing the CV scores using sklearn's cross_val_score\n",
    "score_lda_auto = cross_val_score(lda_eigen_auto, X_train_red, y_train, cv=cv_strat, n_jobs=5, scoring='roc_auc')"
   ]
  },
  {
   "cell_type": "code",
   "execution_count": 26,
   "metadata": {},
   "outputs": [
    {
     "name": "stdout",
     "output_type": "stream",
     "text": [
      "The reward associated with the lda Classifier utilizing LW lemma shrinkage using roc_auc metric is:  0.7893280433729302\n"
     ]
    }
   ],
   "source": [
    "print('The reward associated with the lda Classifier utilizing LW lemma shrinkage using roc_auc metric is: ',np.mean(score_lda_auto))"
   ]
  },
  {
   "cell_type": "code",
   "execution_count": 27,
   "metadata": {},
   "outputs": [
    {
     "name": "stdout",
     "output_type": "stream",
     "text": [
      "The risk associated with the lda Classifier utilizing LW lemma shrinkage using roc_auc metric is:  0.015975073971514493\n"
     ]
    }
   ],
   "source": [
    "print('The risk associated with the lda Classifier utilizing LW lemma shrinkage using roc_auc metric is: ',np.std(score_lda_auto))"
   ]
  },
  {
   "cell_type": "code",
   "execution_count": 28,
   "metadata": {},
   "outputs": [],
   "source": [
    "R_R_Ratio_lda_auto = np.mean(score_lda_auto)/np.std(score_lda_auto)"
   ]
  },
  {
   "cell_type": "code",
   "execution_count": 29,
   "metadata": {},
   "outputs": [
    {
     "name": "stdout",
     "output_type": "stream",
     "text": [
      "The reward risk ratio for the lda Classifier utilizing LW lemma shrinkage using roc_auc metric is:  49.40997736726593\n"
     ]
    }
   ],
   "source": [
    "print('The reward risk ratio for the lda Classifier utilizing LW lemma shrinkage using roc_auc metric is: ',R_R_Ratio_lda_auto)"
   ]
  },
  {
   "cell_type": "markdown",
   "metadata": {},
   "source": [
    "#### The R_R ratio for the lda Classifier utilizing LW lemma shrinkage using roc_auc metric is: 49.40997736726593"
   ]
  },
  {
   "cell_type": "markdown",
   "metadata": {},
   "source": [
    "### R_R Ratio for the best LDA classifier using reduced feature set is:  51.152886235836306, corresponding to vanilla LDA Classifier."
   ]
  },
  {
   "cell_type": "markdown",
   "metadata": {},
   "source": [
    "\n",
    "## Observations:\n",
    "\n",
    "### 1) The Best LDA model with eigen solver & tuned shrinkage performed  worse than the Logistic Regression Model as well as Tree based Bagging models on the test set. This was expected as the underlying Feature space is not multivariate normal and doesn't have the same covariance matrix for both the classes ,which is the underlying assumption of the LDA model. However its R_R ratio was greater than that of the logistic Regression & less than those of Tree based Bagging Classifiers.\n",
    "### 2) Among all lda variants, the R_R ratio is greatest for plain vanilla lda classifier with SVD solver.\n"
   ]
  },
  {
   "cell_type": "markdown",
   "metadata": {},
   "source": [
    "## Model_5 : Quadratic Discriminant Analysis Classifier"
   ]
  },
  {
   "cell_type": "markdown",
   "metadata": {},
   "source": [
    "### Computing the Reduced Feature test set roc_auc score using QDA classifier "
   ]
  },
  {
   "cell_type": "code",
   "execution_count": 34,
   "metadata": {},
   "outputs": [],
   "source": [
    "from sklearn.discriminant_analysis import QuadraticDiscriminantAnalysis"
   ]
  },
  {
   "cell_type": "code",
   "execution_count": 35,
   "metadata": {},
   "outputs": [],
   "source": [
    "# Instantiating the QDA classifier object \n",
    "QDA = QuadraticDiscriminantAnalysis()"
   ]
  },
  {
   "cell_type": "code",
   "execution_count": 36,
   "metadata": {},
   "outputs": [],
   "source": [
    "# Defining the appropriate objective function for the QDA classifier\n",
    "def objective_wrappper_qda(X_tr, y_tr, cls=None, cv_strat=None):\n",
    "    '''\n",
    "    Optimizes Quadratic Discriminant Analysis parameters on the given training set X_tr,y_tr\n",
    "    using cv_strat cross-validation object\n",
    "    \n",
    "    '''\n",
    "    \n",
    "    def objective(trial):\n",
    "        params = {\n",
    "        'reg_param': trial.suggest_uniform('reg_param', 0, 1)\n",
    "        }\n",
    "        \n",
    "        cls.set_params(**params)#Initializing the model with the parameters \n",
    "    \n",
    "        return np.mean(cross_val_score(cls, X_tr, y_tr, cv=cv_strat, n_jobs=5, scoring='roc_auc'))  \n",
    "    return objective"
   ]
  },
  {
   "cell_type": "code",
   "execution_count": 37,
   "metadata": {},
   "outputs": [
    {
     "name": "stderr",
     "output_type": "stream",
     "text": [
      "[I 2020-10-05 20:11:37,840] A new study created in memory with name: no-name-91ac7f4c-49b5-449f-84b5-96be86a9447f\n",
      "[I 2020-10-05 20:11:39,459] Trial 0 finished with value: 0.7765753071782676 and parameters: {'reg_param': 0.7078196969220766}. Best is trial 0 with value: 0.7765753071782676.\n",
      "[I 2020-10-05 20:11:39,931] Trial 1 finished with value: 0.7719732203201287 and parameters: {'reg_param': 0.8091096586699921}. Best is trial 0 with value: 0.7765753071782676.\n",
      "[I 2020-10-05 20:11:40,389] Trial 2 finished with value: 0.7574210763089786 and parameters: {'reg_param': 0.9738162146137824}. Best is trial 0 with value: 0.7765753071782676.\n",
      "[I 2020-10-05 20:11:40,735] Trial 3 finished with value: 0.7765107151192494 and parameters: {'reg_param': 0.7093569215722008}. Best is trial 0 with value: 0.7765753071782676.\n",
      "[I 2020-10-05 20:11:41,209] Trial 4 finished with value: 0.7751665222376182 and parameters: {'reg_param': 0.7433205322743957}. Best is trial 0 with value: 0.7765753071782676.\n",
      "[I 2020-10-05 20:11:41,540] Trial 5 finished with value: 0.7816041128285551 and parameters: {'reg_param': 0.2675923457991939}. Best is trial 5 with value: 0.7816041128285551.\n",
      "[I 2020-10-05 20:11:42,001] Trial 6 finished with value: 0.7812890135711611 and parameters: {'reg_param': 0.05053015377972869}. Best is trial 5 with value: 0.7816041128285551.\n",
      "[I 2020-10-05 20:11:42,335] Trial 7 finished with value: 0.7815963675471221 and parameters: {'reg_param': 0.26838154612754017}. Best is trial 5 with value: 0.7816041128285551.\n",
      "[I 2020-10-05 20:11:42,795] Trial 8 finished with value: 0.7815842877559355 and parameters: {'reg_param': 0.2888768756515919}. Best is trial 5 with value: 0.7816041128285551.\n",
      "[I 2020-10-05 20:11:43,394] Trial 9 finished with value: 0.7648056568781987 and parameters: {'reg_param': 0.9036850948745571}. Best is trial 5 with value: 0.7816041128285551.\n",
      "[I 2020-10-05 20:11:44,022] Trial 10 finished with value: 0.7808709267073175 and parameters: {'reg_param': 0.4705139350000017}. Best is trial 5 with value: 0.7816041128285551.\n",
      "[I 2020-10-05 20:11:44,523] Trial 11 finished with value: 0.7824000854181621 and parameters: {'reg_param': 0.09978252818676436}. Best is trial 11 with value: 0.7824000854181621.\n",
      "[I 2020-10-05 20:11:44,993] Trial 12 finished with value: 0.7810225453862258 and parameters: {'reg_param': 0.045579375114956716}. Best is trial 11 with value: 0.7824000854181621.\n",
      "[I 2020-10-05 20:11:45,476] Trial 13 finished with value: 0.781752598512022 and parameters: {'reg_param': 0.20433888791487742}. Best is trial 11 with value: 0.7824000854181621.\n",
      "[I 2020-10-05 20:11:45,929] Trial 14 finished with value: 0.7821888627586765 and parameters: {'reg_param': 0.14180467752025222}. Best is trial 11 with value: 0.7824000854181621.\n",
      "[I 2020-10-05 20:11:46,288] Trial 15 finished with value: 0.7765429353788246 and parameters: {'reg_param': 0.006409294160335921}. Best is trial 11 with value: 0.7824000854181621.\n",
      "[I 2020-10-05 20:11:46,621] Trial 16 finished with value: 0.7808506500077145 and parameters: {'reg_param': 0.47258666717215847}. Best is trial 11 with value: 0.7824000854181621.\n",
      "[I 2020-10-05 20:11:46,969] Trial 17 finished with value: 0.7824102711659885 and parameters: {'reg_param': 0.1104034129531874}. Best is trial 17 with value: 0.7824102711659885.\n",
      "[I 2020-10-05 20:11:47,317] Trial 18 finished with value: 0.7813293262846527 and parameters: {'reg_param': 0.39872336806039166}. Best is trial 17 with value: 0.7824102711659885.\n",
      "[I 2020-10-05 20:11:47,759] Trial 19 finished with value: 0.7823934530514962 and parameters: {'reg_param': 0.11601770915344152}. Best is trial 17 with value: 0.7824102711659885.\n",
      "[I 2020-10-05 20:11:48,219] Trial 20 finished with value: 0.7792617700543938 and parameters: {'reg_param': 0.6025152120871364}. Best is trial 17 with value: 0.7824102711659885.\n",
      "[I 2020-10-05 20:11:48,592] Trial 21 finished with value: 0.7823983408902002 and parameters: {'reg_param': 0.11550124728194866}. Best is trial 17 with value: 0.7824102711659885.\n",
      "[I 2020-10-05 20:11:48,939] Trial 22 finished with value: 0.7822165359137425 and parameters: {'reg_param': 0.1377479019744496}. Best is trial 17 with value: 0.7824102711659885.\n",
      "[I 2020-10-05 20:11:49,506] Trial 23 finished with value: 0.7815000669405535 and parameters: {'reg_param': 0.3538718760827443}. Best is trial 17 with value: 0.7824102711659885.\n",
      "[I 2020-10-05 20:11:49,853] Trial 24 finished with value: 0.7818354680118266 and parameters: {'reg_param': 0.1879943354628324}. Best is trial 17 with value: 0.7824102711659885.\n",
      "[I 2020-10-05 20:11:50,215] Trial 25 finished with value: 0.7822186913429354 and parameters: {'reg_param': 0.08146716416681446}. Best is trial 17 with value: 0.7824102711659885.\n",
      "[I 2020-10-05 20:11:50,800] Trial 26 finished with value: 0.7761993796827457 and parameters: {'reg_param': 0.004587212563941415}. Best is trial 17 with value: 0.7824102711659885.\n",
      "[I 2020-10-05 20:11:51,146] Trial 27 finished with value: 0.7818014232268764 and parameters: {'reg_param': 0.1932025949889949}. Best is trial 17 with value: 0.7824102711659885.\n",
      "[I 2020-10-05 20:11:51,494] Trial 28 finished with value: 0.7815190967872173 and parameters: {'reg_param': 0.346161857003274}. Best is trial 17 with value: 0.7824102711659885.\n",
      "[I 2020-10-05 20:11:51,956] Trial 29 finished with value: 0.776153275426249 and parameters: {'reg_param': 0.004236828423166708}. Best is trial 17 with value: 0.7824102711659885.\n",
      "[I 2020-10-05 20:11:52,523] Trial 30 finished with value: 0.7816955563527608 and parameters: {'reg_param': 0.21727824561343673}. Best is trial 17 with value: 0.7824102711659885.\n",
      "[I 2020-10-05 20:11:53,028] Trial 31 finished with value: 0.7823726362203152 and parameters: {'reg_param': 0.0955532305385456}. Best is trial 17 with value: 0.7824102711659885.\n",
      "[I 2020-10-05 20:11:53,500] Trial 32 finished with value: 0.7822980387025046 and parameters: {'reg_param': 0.12814015450625038}. Best is trial 17 with value: 0.7824102711659885.\n",
      "[I 2020-10-05 20:11:53,892] Trial 33 finished with value: 0.7824093043223082 and parameters: {'reg_param': 0.1026100124522221}. Best is trial 17 with value: 0.7824102711659885.\n",
      "[I 2020-10-05 20:11:54,225] Trial 34 finished with value: 0.7791458496225262 and parameters: {'reg_param': 0.6092905155338529}. Best is trial 17 with value: 0.7824102711659885.\n",
      "[I 2020-10-05 20:11:54,685] Trial 35 finished with value: 0.7809742685569739 and parameters: {'reg_param': 0.044522165858151524}. Best is trial 17 with value: 0.7824102711659885.\n",
      "[I 2020-10-05 20:11:55,016] Trial 36 finished with value: 0.7820139697600317 and parameters: {'reg_param': 0.16378067688574513}. Best is trial 17 with value: 0.7824102711659885.\n",
      "[I 2020-10-05 20:11:55,362] Trial 37 finished with value: 0.781629465808032 and parameters: {'reg_param': 0.23508958849111697}. Best is trial 17 with value: 0.7824102711659885.\n",
      "[I 2020-10-05 20:11:55,931] Trial 38 finished with value: 0.7815835485820195 and parameters: {'reg_param': 0.3059263103403135}. Best is trial 17 with value: 0.7824102711659885.\n",
      "[I 2020-10-05 20:11:56,490] Trial 39 finished with value: 0.7820758598803514 and parameters: {'reg_param': 0.07306713640917664}. Best is trial 17 with value: 0.7824102711659885.\n",
      "[I 2020-10-05 20:11:57,030] Trial 40 finished with value: 0.7816106430605531 and parameters: {'reg_param': 0.25379700578309566}. Best is trial 17 with value: 0.7824102711659885.\n",
      "[I 2020-10-05 20:11:57,659] Trial 41 finished with value: 0.7824032741624813 and parameters: {'reg_param': 0.10807794795319359}. Best is trial 17 with value: 0.7824102711659885.\n",
      "[I 2020-10-05 20:11:58,260] Trial 42 finished with value: 0.7764754322221863 and parameters: {'reg_param': 0.006071588154725416}. Best is trial 17 with value: 0.7824102711659885.\n",
      "[I 2020-10-05 20:11:58,717] Trial 43 finished with value: 0.7816959026259321 and parameters: {'reg_param': 0.0600639541320276}. Best is trial 17 with value: 0.7824102711659885.\n",
      "[I 2020-10-05 20:11:59,316] Trial 44 finished with value: 0.7820120300321551 and parameters: {'reg_param': 0.1641399952590902}. Best is trial 17 with value: 0.7824102711659885.\n",
      "[I 2020-10-05 20:11:59,775] Trial 45 finished with value: 0.7824099768776055 and parameters: {'reg_param': 0.11332925618085632}. Best is trial 17 with value: 0.7824102711659885.\n",
      "[I 2020-10-05 20:12:00,373] Trial 46 finished with value: 0.781299334771612 and parameters: {'reg_param': 0.050738480851876766}. Best is trial 17 with value: 0.7824102711659885.\n",
      "[I 2020-10-05 20:12:01,001] Trial 47 finished with value: 0.7567798479421808 and parameters: {'reg_param': 0.9796851056092157}. Best is trial 17 with value: 0.7824102711659885.\n",
      "[I 2020-10-05 20:12:01,375] Trial 48 finished with value: 0.7815878595268775 and parameters: {'reg_param': 0.3105305655202466}. Best is trial 17 with value: 0.7824102711659885.\n",
      "[I 2020-10-05 20:12:01,770] Trial 49 finished with value: 0.7816086035778628 and parameters: {'reg_param': 0.25623178750687936}. Best is trial 17 with value: 0.7824102711659885.\n",
      "[I 2020-10-05 20:12:02,243] Trial 50 finished with value: 0.7686264305437078 and parameters: {'reg_param': 0.859733357354413}. Best is trial 17 with value: 0.7824102711659885.\n",
      "[I 2020-10-05 20:12:02,588] Trial 51 finished with value: 0.7823552987784691 and parameters: {'reg_param': 0.12041827716080572}. Best is trial 17 with value: 0.7824102711659885.\n",
      "[I 2020-10-05 20:12:02,936] Trial 52 finished with value: 0.7819324308407584 and parameters: {'reg_param': 0.1744984403203495}. Best is trial 17 with value: 0.7824102711659885.\n",
      "[I 2020-10-05 20:12:03,502] Trial 53 finished with value: 0.7824111163861736 and parameters: {'reg_param': 0.10718337685818646}. Best is trial 53 with value: 0.7824111163861736.\n",
      "[I 2020-10-05 20:12:03,974] Trial 54 finished with value: 0.779690515209855 and parameters: {'reg_param': 0.028614252304636975}. Best is trial 53 with value: 0.7824111163861736.\n",
      "[I 2020-10-05 20:12:04,323] Trial 55 finished with value: 0.7823307221505824 and parameters: {'reg_param': 0.0899396365063446}. Best is trial 53 with value: 0.7824111163861736.\n",
      "[I 2020-10-05 20:12:04,815] Trial 56 finished with value: 0.781719736739358 and parameters: {'reg_param': 0.2118185126847983}. Best is trial 53 with value: 0.7824111163861736.\n",
      "[I 2020-10-05 20:12:05,275] Trial 57 finished with value: 0.7821624827555282 and parameters: {'reg_param': 0.14513146395961485}. Best is trial 53 with value: 0.7824111163861736.\n",
      "[I 2020-10-05 20:12:05,750] Trial 58 finished with value: 0.7824000841200599 and parameters: {'reg_param': 0.10009312517127633}. Best is trial 53 with value: 0.7824111163861736.\n",
      "[I 2020-10-05 20:12:06,143] Trial 59 finished with value: 0.7812084362336424 and parameters: {'reg_param': 0.4213705079936685}. Best is trial 53 with value: 0.7824111163861736.\n",
      "[I 2020-10-05 20:12:06,635] Trial 60 finished with value: 0.7797569591412061 and parameters: {'reg_param': 0.02929882045846241}. Best is trial 53 with value: 0.7824111163861736.\n",
      "[I 2020-10-05 20:12:07,138] Trial 61 finished with value: 0.7823672948247691 and parameters: {'reg_param': 0.09449179797462055}. Best is trial 53 with value: 0.7824111163861736.\n",
      "[I 2020-10-05 20:12:07,736] Trial 62 finished with value: 0.7821168145314941 and parameters: {'reg_param': 0.15164943265695485}. Best is trial 53 with value: 0.7824111163861736.\n",
      "[I 2020-10-05 20:12:08,144] Trial 63 finished with value: 0.7824042838435346 and parameters: {'reg_param': 0.1089492702081439}. Best is trial 53 with value: 0.7824111163861736.\n",
      "[I 2020-10-05 20:12:08,540] Trial 64 finished with value: 0.7817952119472033 and parameters: {'reg_param': 0.19769292224295934}. Best is trial 53 with value: 0.7824111163861736.\n",
      "[I 2020-10-05 20:12:08,919] Trial 65 finished with value: 0.7755647045675571 and parameters: {'reg_param': 0.0009222178247256935}. Best is trial 53 with value: 0.7824111163861736.\n",
      "[I 2020-10-05 20:12:09,379] Trial 66 finished with value: 0.7823173143750692 and parameters: {'reg_param': 0.12513136280824663}. Best is trial 53 with value: 0.7824111163861736.\n",
      "[I 2020-10-05 20:12:09,866] Trial 67 finished with value: 0.7820819396017067 and parameters: {'reg_param': 0.07373177574263493}. Best is trial 53 with value: 0.7824111163861736.\n",
      "[I 2020-10-05 20:12:10,341] Trial 68 finished with value: 0.7816327002022789 and parameters: {'reg_param': 0.23171191573337596}. Best is trial 53 with value: 0.7824111163861736.\n",
      "[I 2020-10-05 20:12:10,704] Trial 69 finished with value: 0.7819002459331046 and parameters: {'reg_param': 0.1785827030743239}. Best is trial 53 with value: 0.7824111163861736.\n",
      "[I 2020-10-05 20:12:11,036] Trial 70 finished with value: 0.781094784053615 and parameters: {'reg_param': 0.046858347303287154}. Best is trial 53 with value: 0.7824111163861736.\n",
      "[I 2020-10-05 20:12:11,383] Trial 71 finished with value: 0.7824056639855944 and parameters: {'reg_param': 0.10967391560378738}. Best is trial 53 with value: 0.7824111163861736.\n",
      "[I 2020-10-05 20:12:11,749] Trial 72 finished with value: 0.7824087765572898 and parameters: {'reg_param': 0.11374671395726973}. Best is trial 53 with value: 0.7824111163861736.\n",
      "[I 2020-10-05 20:12:12,081] Trial 73 finished with value: 0.7822349728566331 and parameters: {'reg_param': 0.13659583675789166}. Best is trial 53 with value: 0.7824111163861736.\n",
      "[I 2020-10-05 20:12:12,430] Trial 74 finished with value: 0.7824027169565186 and parameters: {'reg_param': 0.10937289776324155}. Best is trial 53 with value: 0.7824111163861736.\n",
      "[I 2020-10-05 20:12:12,906] Trial 75 finished with value: 0.7798237547110819 and parameters: {'reg_param': 0.030080282068827457}. Best is trial 53 with value: 0.7824111163861736.\n",
      "[I 2020-10-05 20:12:13,236] Trial 76 finished with value: 0.7821481050382515 and parameters: {'reg_param': 0.0773062842829858}. Best is trial 53 with value: 0.7824111163861736.\n",
      "[I 2020-10-05 20:12:13,602] Trial 77 finished with value: 0.7820608346264253 and parameters: {'reg_param': 0.15795830565504929}. Best is trial 53 with value: 0.7824111163861736.\n",
      "[I 2020-10-05 20:12:13,934] Trial 78 finished with value: 0.7815878244435288 and parameters: {'reg_param': 0.2834629066263933}. Best is trial 53 with value: 0.7824111163861736.\n",
      "[I 2020-10-05 20:12:14,489] Trial 79 finished with value: 0.7816860477035895 and parameters: {'reg_param': 0.22014110033549944}. Best is trial 53 with value: 0.7824111163861736.\n",
      "[I 2020-10-05 20:12:15,023] Trial 80 finished with value: 0.7818727580085422 and parameters: {'reg_param': 0.1812673548593603}. Best is trial 53 with value: 0.7824111163861736.\n",
      "[I 2020-10-05 20:12:15,370] Trial 81 finished with value: 0.7823789009558236 and parameters: {'reg_param': 0.0968861794051177}. Best is trial 53 with value: 0.7824111163861736.\n",
      "[I 2020-10-05 20:12:15,736] Trial 82 finished with value: 0.7822296247542256 and parameters: {'reg_param': 0.13708242065512002}. Best is trial 53 with value: 0.7824111163861736.\n",
      "[I 2020-10-05 20:12:16,191] Trial 83 finished with value: 0.7824061389611229 and parameters: {'reg_param': 0.10762275117853716}. Best is trial 53 with value: 0.7824111163861736.\n",
      "[I 2020-10-05 20:12:16,537] Trial 84 finished with value: 0.7816968235860402 and parameters: {'reg_param': 0.0600791792257418}. Best is trial 53 with value: 0.7824111163861736.\n",
      "[I 2020-10-05 20:12:16,987] Trial 85 finished with value: 0.7792517169296815 and parameters: {'reg_param': 0.024429812619033084}. Best is trial 53 with value: 0.7824111163861736.\n",
      "[I 2020-10-05 20:12:17,345] Trial 86 finished with value: 0.7823893080819591 and parameters: {'reg_param': 0.11620257056434213}. Best is trial 53 with value: 0.7824111163861736.\n",
      "[I 2020-10-05 20:12:17,708] Trial 87 finished with value: 0.7819410805359046 and parameters: {'reg_param': 0.0680154993291847}. Best is trial 53 with value: 0.7824111163861736.\n",
      "[I 2020-10-05 20:12:18,089] Trial 88 finished with value: 0.7817935747290236 and parameters: {'reg_param': 0.19588322029561733}. Best is trial 53 with value: 0.7824111163861736.\n",
      "[I 2020-10-05 20:12:18,452] Trial 89 finished with value: 0.7820690499073285 and parameters: {'reg_param': 0.1562843158889243}. Best is trial 53 with value: 0.7824111163861736.\n",
      "[I 2020-10-05 20:12:18,802] Trial 90 finished with value: 0.7790843828998756 and parameters: {'reg_param': 0.6123284480926348}. Best is trial 53 with value: 0.7824111163861736.\n"
     ]
    },
    {
     "name": "stderr",
     "output_type": "stream",
     "text": [
      "[I 2020-10-05 20:12:19,250] Trial 91 finished with value: 0.7824058427255867 and parameters: {'reg_param': 0.11268205315283532}. Best is trial 53 with value: 0.7824111163861736.\n",
      "[I 2020-10-05 20:12:19,596] Trial 92 finished with value: 0.7823833138362933 and parameters: {'reg_param': 0.11757984855770283}. Best is trial 53 with value: 0.7824111163861736.\n",
      "[I 2020-10-05 20:12:19,942] Trial 93 finished with value: 0.7820975106642039 and parameters: {'reg_param': 0.07431131540802241}. Best is trial 53 with value: 0.7824111163861736.\n",
      "[I 2020-10-05 20:12:20,290] Trial 94 finished with value: 0.7824006385134676 and parameters: {'reg_param': 0.0997489386262268}. Best is trial 53 with value: 0.7824111163861736.\n",
      "[I 2020-10-05 20:12:20,751] Trial 95 finished with value: 0.7821936640399392 and parameters: {'reg_param': 0.14036357178254655}. Best is trial 53 with value: 0.7824111163861736.\n",
      "[I 2020-10-05 20:12:21,082] Trial 96 finished with value: 0.7819663843085591 and parameters: {'reg_param': 0.16892035413196846}. Best is trial 53 with value: 0.7824111163861736.\n",
      "[I 2020-10-05 20:12:21,636] Trial 97 finished with value: 0.7813907448133942 and parameters: {'reg_param': 0.05275702042494115}. Best is trial 53 with value: 0.7824111163861736.\n",
      "[I 2020-10-05 20:12:21,998] Trial 98 finished with value: 0.779235588877572 and parameters: {'reg_param': 0.024265612549664667}. Best is trial 53 with value: 0.7824111163861736.\n",
      "[I 2020-10-05 20:12:22,330] Trial 99 finished with value: 0.7816135727643048 and parameters: {'reg_param': 0.24066842651263348}. Best is trial 53 with value: 0.7824111163861736.\n",
      "[I 2020-10-05 20:12:22,932] Trial 100 finished with value: 0.782293609145762 and parameters: {'reg_param': 0.08725375404299661}. Best is trial 53 with value: 0.7824111163861736.\n",
      "[I 2020-10-05 20:12:23,548] Trial 101 finished with value: 0.7823983415392514 and parameters: {'reg_param': 0.11557410451343048}. Best is trial 53 with value: 0.7824111163861736.\n",
      "[I 2020-10-05 20:12:23,971] Trial 102 finished with value: 0.7824111388866117 and parameters: {'reg_param': 0.1012098525594397}. Best is trial 102 with value: 0.7824111388866117.\n",
      "[I 2020-10-05 20:12:24,349] Trial 103 finished with value: 0.7822531449347909 and parameters: {'reg_param': 0.13233704465737536}. Best is trial 102 with value: 0.7824111388866117.\n",
      "[I 2020-10-05 20:12:24,921] Trial 104 finished with value: 0.7757669834079802 and parameters: {'reg_param': 4.9479534881852194e-05}. Best is trial 102 with value: 0.7824111388866117.\n",
      "[I 2020-10-05 20:12:25,345] Trial 105 finished with value: 0.7805878379707034 and parameters: {'reg_param': 0.03890899279473771}. Best is trial 102 with value: 0.7824111388866117.\n",
      "[I 2020-10-05 20:12:25,690] Trial 106 finished with value: 0.7820925590540251 and parameters: {'reg_param': 0.1541755192408702}. Best is trial 102 with value: 0.7824111388866117.\n",
      "[I 2020-10-05 20:12:26,052] Trial 107 finished with value: 0.7822081814503753 and parameters: {'reg_param': 0.08025708911792312}. Best is trial 102 with value: 0.7824111388866117.\n",
      "[I 2020-10-05 20:12:26,383] Trial 108 finished with value: 0.7818497842164212 and parameters: {'reg_param': 0.184362760529585}. Best is trial 102 with value: 0.7824111388866117.\n",
      "[I 2020-10-05 20:12:26,858] Trial 109 finished with value: 0.7817299045735095 and parameters: {'reg_param': 0.06116728536248287}. Best is trial 102 with value: 0.7824111388866117.\n",
      "[I 2020-10-05 20:12:27,190] Trial 110 finished with value: 0.7824037303155279 and parameters: {'reg_param': 0.10874475994058153}. Best is trial 102 with value: 0.7824111388866117.\n",
      "[I 2020-10-05 20:12:27,522] Trial 111 finished with value: 0.7824087040626224 and parameters: {'reg_param': 0.11122270311267335}. Best is trial 102 with value: 0.7824111388866117.\n",
      "[I 2020-10-05 20:12:27,887] Trial 112 finished with value: 0.7823928092707978 and parameters: {'reg_param': 0.09829686539108984}. Best is trial 102 with value: 0.7824111388866117.\n",
      "[I 2020-10-05 20:12:28,349] Trial 113 finished with value: 0.7821911675388008 and parameters: {'reg_param': 0.14166677307861886}. Best is trial 102 with value: 0.7824111388866117.\n",
      "[I 2020-10-05 20:12:28,707] Trial 114 finished with value: 0.782325521218308 and parameters: {'reg_param': 0.12456788862229931}. Best is trial 102 with value: 0.7824111388866117.\n",
      "[I 2020-10-05 20:12:29,086] Trial 115 finished with value: 0.781959092367618 and parameters: {'reg_param': 0.16984406635368904}. Best is trial 102 with value: 0.7824111388866117.\n",
      "[I 2020-10-05 20:12:29,436] Trial 116 finished with value: 0.7817520458494172 and parameters: {'reg_param': 0.2042960007967224}. Best is trial 102 with value: 0.7824111388866117.\n",
      "[I 2020-10-05 20:12:29,796] Trial 117 finished with value: 0.7822817171639888 and parameters: {'reg_param': 0.08525397738788264}. Best is trial 102 with value: 0.7824111388866117.\n",
      "[I 2020-10-05 20:12:30,161] Trial 118 finished with value: 0.7824106569878713 and parameters: {'reg_param': 0.10713281151773031}. Best is trial 102 with value: 0.7824111388866117.\n",
      "[I 2020-10-05 20:12:30,622] Trial 119 finished with value: 0.7814743076554258 and parameters: {'reg_param': 0.05458016930999376}. Best is trial 102 with value: 0.7824111388866117.\n",
      "[I 2020-10-05 20:12:31,046] Trial 120 finished with value: 0.7820742132119335 and parameters: {'reg_param': 0.15608931826764538}. Best is trial 102 with value: 0.7824111388866117.\n",
      "[I 2020-10-05 20:12:31,439] Trial 121 finished with value: 0.7824126962542113 and parameters: {'reg_param': 0.10572352049418339}. Best is trial 121 with value: 0.7824126962542113.\n",
      "[I 2020-10-05 20:12:31,788] Trial 122 finished with value: 0.7822539724142457 and parameters: {'reg_param': 0.13247465242920725}. Best is trial 121 with value: 0.7824126962542113.\n",
      "[I 2020-10-05 20:12:32,402] Trial 123 finished with value: 0.778729937911026 and parameters: {'reg_param': 0.0192792597950035}. Best is trial 121 with value: 0.7824126962542113.\n",
      "[I 2020-10-05 20:12:32,937] Trial 124 finished with value: 0.7821853309952582 and parameters: {'reg_param': 0.07891795061512952}. Best is trial 121 with value: 0.7824126962542113.\n",
      "[I 2020-10-05 20:12:33,312] Trial 125 finished with value: 0.7824084575876705 and parameters: {'reg_param': 0.10467950838687985}. Best is trial 121 with value: 0.7824126962542113.\n",
      "[I 2020-10-05 20:12:33,914] Trial 126 finished with value: 0.7818035166760973 and parameters: {'reg_param': 0.06323666781283659}. Best is trial 121 with value: 0.7824126962542113.\n",
      "[I 2020-10-05 20:12:34,493] Trial 127 finished with value: 0.7604899511850415 and parameters: {'reg_param': 0.9451440620123119}. Best is trial 121 with value: 0.7824126962542113.\n",
      "[I 2020-10-05 20:12:34,904] Trial 128 finished with value: 0.7824058868610616 and parameters: {'reg_param': 0.10382827964602469}. Best is trial 121 with value: 0.7824126962542113.\n",
      "[I 2020-10-05 20:12:35,446] Trial 129 finished with value: 0.7810459482875977 and parameters: {'reg_param': 0.04591177903467163}. Best is trial 121 with value: 0.7824126962542113.\n",
      "[I 2020-10-05 20:12:35,871] Trial 130 finished with value: 0.7822835599496063 and parameters: {'reg_param': 0.08537394000677714}. Best is trial 121 with value: 0.7824126962542113.\n",
      "[I 2020-10-05 20:12:36,205] Trial 131 finished with value: 0.7823285623770878 and parameters: {'reg_param': 0.12343993815396397}. Best is trial 121 with value: 0.7824126962542113.\n",
      "[I 2020-10-05 20:12:36,536] Trial 132 finished with value: 0.7824053402562668 and parameters: {'reg_param': 0.10298897930286283}. Best is trial 121 with value: 0.7824126962542113.\n",
      "[I 2020-10-05 20:12:37,089] Trial 133 finished with value: 0.7821940325537924 and parameters: {'reg_param': 0.1402741282576111}. Best is trial 121 with value: 0.7824126962542113.\n",
      "[I 2020-10-05 20:12:37,641] Trial 134 finished with value: 0.7742935566389113 and parameters: {'reg_param': 0.7641447266477859}. Best is trial 121 with value: 0.7824126962542113.\n",
      "[I 2020-10-05 20:12:38,019] Trial 135 finished with value: 0.7819515227972721 and parameters: {'reg_param': 0.17087060717266062}. Best is trial 121 with value: 0.7824126962542113.\n",
      "[I 2020-10-05 20:12:38,475] Trial 136 finished with value: 0.7824065293263636 and parameters: {'reg_param': 0.10062045641278256}. Best is trial 121 with value: 0.7824126962542113.\n",
      "[I 2020-10-05 20:12:38,872] Trial 137 finished with value: 0.7823639907484095 and parameters: {'reg_param': 0.09334206039984665}. Best is trial 121 with value: 0.7824126962542113.\n",
      "[I 2020-10-05 20:12:39,440] Trial 138 finished with value: 0.779931259936673 and parameters: {'reg_param': 0.5582931716276487}. Best is trial 121 with value: 0.7824126962542113.\n",
      "[I 2020-10-05 20:12:39,799] Trial 139 finished with value: 0.7821186603460167 and parameters: {'reg_param': 0.15152681556605094}. Best is trial 121 with value: 0.7824126962542113.\n",
      "[I 2020-10-05 20:12:40,176] Trial 140 finished with value: 0.782344232112647 and parameters: {'reg_param': 0.121870239773511}. Best is trial 121 with value: 0.7824126962542113.\n",
      "[I 2020-10-05 20:12:40,585] Trial 141 finished with value: 0.7818316200221659 and parameters: {'reg_param': 0.06401141060823881}. Best is trial 121 with value: 0.7824126962542113.\n",
      "[I 2020-10-05 20:12:40,944] Trial 142 finished with value: 0.782409076254432 and parameters: {'reg_param': 0.11090944298695107}. Best is trial 121 with value: 0.7824126962542113.\n",
      "[I 2020-10-05 20:12:41,406] Trial 143 finished with value: 0.782400359585961 and parameters: {'reg_param': 0.10004082417706084}. Best is trial 121 with value: 0.7824126962542113.\n",
      "[I 2020-10-05 20:12:41,749] Trial 144 finished with value: 0.7822069867551693 and parameters: {'reg_param': 0.08052175126389494}. Best is trial 121 with value: 0.7824126962542113.\n",
      "[I 2020-10-05 20:12:42,098] Trial 145 finished with value: 0.7807183104809491 and parameters: {'reg_param': 0.040806382544892314}. Best is trial 121 with value: 0.7824126962542113.\n",
      "[I 2020-10-05 20:12:42,446] Trial 146 finished with value: 0.7822442915155932 and parameters: {'reg_param': 0.13352253857956475}. Best is trial 121 with value: 0.7824126962542113.\n",
      "[I 2020-10-05 20:12:42,779] Trial 147 finished with value: 0.7824079399911195 and parameters: {'reg_param': 0.11436659988029294}. Best is trial 121 with value: 0.7824126962542113.\n",
      "[I 2020-10-05 20:12:43,329] Trial 148 finished with value: 0.7821206046172511 and parameters: {'reg_param': 0.15024101540748697}. Best is trial 121 with value: 0.7824126962542113.\n",
      "[I 2020-10-05 20:12:43,859] Trial 149 finished with value: 0.7818376007588197 and parameters: {'reg_param': 0.18721057739962405}. Best is trial 121 with value: 0.7824126962542113.\n",
      "[I 2020-10-05 20:12:44,440] Trial 150 finished with value: 0.782078072694275 and parameters: {'reg_param': 0.07340685871614228}. Best is trial 121 with value: 0.7824126962542113.\n",
      "[I 2020-10-05 20:12:44,960] Trial 151 finished with value: 0.7823470008344311 and parameters: {'reg_param': 0.12153620833978263}. Best is trial 121 with value: 0.7824126962542113.\n",
      "[I 2020-10-05 20:12:45,431] Trial 152 finished with value: 0.782405988130328 and parameters: {'reg_param': 0.10274351758323977}. Best is trial 121 with value: 0.7824126962542113.\n",
      "[I 2020-10-05 20:12:46,022] Trial 153 finished with value: 0.7823838770827718 and parameters: {'reg_param': 0.09710776439760903}. Best is trial 121 with value: 0.7824126962542113.\n",
      "[I 2020-10-05 20:12:46,585] Trial 154 finished with value: 0.7824028091390697 and parameters: {'reg_param': 0.10936877917265647}. Best is trial 121 with value: 0.7824126962542113.\n",
      "[I 2020-10-05 20:12:46,949] Trial 155 finished with value: 0.7819549367969129 and parameters: {'reg_param': 0.17057225936347223}. Best is trial 121 with value: 0.7824126962542113.\n",
      "[I 2020-10-05 20:12:47,390] Trial 156 finished with value: 0.7819088237826346 and parameters: {'reg_param': 0.06681892287994629}. Best is trial 121 with value: 0.7824126962542113.\n",
      "[I 2020-10-05 20:12:47,740] Trial 157 finished with value: 0.7821964290837669 and parameters: {'reg_param': 0.13989928466465557}. Best is trial 121 with value: 0.7824126962542113.\n",
      "[I 2020-10-05 20:12:48,070] Trial 158 finished with value: 0.7823228965858686 and parameters: {'reg_param': 0.08934606442552391}. Best is trial 121 with value: 0.7824126962542113.\n",
      "[I 2020-10-05 20:12:48,627] Trial 159 finished with value: 0.7781383468276566 and parameters: {'reg_param': 0.014586987980275704}. Best is trial 121 with value: 0.7824126962542113.\n",
      "[I 2020-10-05 20:12:49,003] Trial 160 finished with value: 0.7811665555340888 and parameters: {'reg_param': 0.04807190902742462}. Best is trial 121 with value: 0.7824126962542113.\n",
      "[I 2020-10-05 20:12:49,335] Trial 161 finished with value: 0.782398717841718 and parameters: {'reg_param': 0.11516240815032226}. Best is trial 121 with value: 0.7824126962542113.\n",
      "[I 2020-10-05 20:12:49,796] Trial 162 finished with value: 0.7823456209087216 and parameters: {'reg_param': 0.12143969509414362}. Best is trial 121 with value: 0.7824126962542113.\n",
      "[I 2020-10-05 20:12:50,156] Trial 163 finished with value: 0.7824005465472672 and parameters: {'reg_param': 0.09976542578599283}. Best is trial 121 with value: 0.7824126962542113.\n",
      "[I 2020-10-05 20:12:50,487] Trial 164 finished with value: 0.7821137686130062 and parameters: {'reg_param': 0.1525520688206053}. Best is trial 121 with value: 0.7824126962542113.\n",
      "[I 2020-10-05 20:12:50,898] Trial 165 finished with value: 0.7820785327416282 and parameters: {'reg_param': 0.07338933419053294}. Best is trial 121 with value: 0.7824126962542113.\n",
      "[I 2020-10-05 20:12:51,404] Trial 166 finished with value: 0.7822584075615089 and parameters: {'reg_param': 0.13131340782818496}. Best is trial 121 with value: 0.7824126962542113.\n",
      "[I 2020-10-05 20:12:51,767] Trial 167 finished with value: 0.7824106617475793 and parameters: {'reg_param': 0.10658121730115111}. Best is trial 121 with value: 0.7824126962542113.\n",
      "[I 2020-10-05 20:12:52,098] Trial 168 finished with value: 0.7823044830088177 and parameters: {'reg_param': 0.08818361044415877}. Best is trial 121 with value: 0.7824126962542113.\n",
      "[I 2020-10-05 20:12:52,555] Trial 169 finished with value: 0.7815522441165941 and parameters: {'reg_param': 0.056499300007214426}. Best is trial 121 with value: 0.7824126962542113.\n",
      "[I 2020-10-05 20:12:52,929] Trial 170 finished with value: 0.7820432191051792 and parameters: {'reg_param': 0.16063305749394435}. Best is trial 121 with value: 0.7824126962542113.\n",
      "[I 2020-10-05 20:12:53,261] Trial 171 finished with value: 0.7824046908677533 and parameters: {'reg_param': 0.1036048685726636}. Best is trial 121 with value: 0.7824126962542113.\n",
      "[I 2020-10-05 20:12:53,610] Trial 172 finished with value: 0.7823436857242027 and parameters: {'reg_param': 0.12100569867737943}. Best is trial 121 with value: 0.7824126962542113.\n",
      "[I 2020-10-05 20:12:54,196] Trial 173 finished with value: 0.7822073544036212 and parameters: {'reg_param': 0.08015383967841186}. Best is trial 121 with value: 0.7824126962542113.\n",
      "[I 2020-10-05 20:12:54,808] Trial 174 finished with value: 0.7822165365627938 and parameters: {'reg_param': 0.13807057062715142}. Best is trial 121 with value: 0.7824126962542113.\n",
      "[I 2020-10-05 20:12:55,212] Trial 175 finished with value: 0.7824085902450346 and parameters: {'reg_param': 0.11394099908261623}. Best is trial 121 with value: 0.7824126962542113.\n",
      "[I 2020-10-05 20:12:55,445] Trial 176 finished with value: 0.7824142568670662 and parameters: {'reg_param': 0.10638381702463794}. Best is trial 176 with value: 0.7824142568670662.\n",
      "[I 2020-10-05 20:12:55,875] Trial 177 finished with value: 0.7822228956443567 and parameters: {'reg_param': 0.13758037079158528}. Best is trial 176 with value: 0.7824142568670662.\n",
      "[I 2020-10-05 20:12:56,285] Trial 178 finished with value: 0.7822916728794913 and parameters: {'reg_param': 0.08692835569805238}. Best is trial 176 with value: 0.7824142568670662.\n",
      "[I 2020-10-05 20:12:56,620] Trial 179 finished with value: 0.7818185352923399 and parameters: {'reg_param': 0.06377599682762061}. Best is trial 176 with value: 0.7824142568670662.\n",
      "[I 2020-10-05 20:12:57,015] Trial 180 finished with value: 0.7804720973605802 and parameters: {'reg_param': 0.03755265173766449}. Best is trial 176 with value: 0.7824142568670662.\n"
     ]
    },
    {
     "name": "stderr",
     "output_type": "stream",
     "text": [
      "[I 2020-10-05 20:12:57,566] Trial 181 finished with value: 0.7824076913526641 and parameters: {'reg_param': 0.11076705928510958}. Best is trial 176 with value: 0.7824142568670662.\n",
      "[I 2020-10-05 20:12:58,019] Trial 182 finished with value: 0.7824050120008763 and parameters: {'reg_param': 0.11278912719221927}. Best is trial 176 with value: 0.7824142568670662.\n",
      "[I 2020-10-05 20:12:58,381] Trial 183 finished with value: 0.7823196217513977 and parameters: {'reg_param': 0.12480164887548191}. Best is trial 176 with value: 0.7824142568670662.\n",
      "[I 2020-10-05 20:12:58,874] Trial 184 finished with value: 0.7823750325339391 and parameters: {'reg_param': 0.09578952687000243}. Best is trial 176 with value: 0.7824142568670662.\n",
      "[I 2020-10-05 20:12:59,361] Trial 185 finished with value: 0.7821345248314955 and parameters: {'reg_param': 0.1492315906406596}. Best is trial 176 with value: 0.7824142568670662.\n",
      "[I 2020-10-05 20:12:59,877] Trial 186 finished with value: 0.7821899373102511 and parameters: {'reg_param': 0.07902785430030898}. Best is trial 176 with value: 0.7824142568670662.\n",
      "[I 2020-10-05 20:13:00,507] Trial 187 finished with value: 0.7819545665522564 and parameters: {'reg_param': 0.1706694033334739}. Best is trial 176 with value: 0.7824142568670662.\n",
      "[I 2020-10-05 20:13:00,901] Trial 188 finished with value: 0.7824132190604656 and parameters: {'reg_param': 0.11020792187992347}. Best is trial 176 with value: 0.7824142568670662.\n",
      "[I 2020-10-05 20:13:01,250] Trial 189 finished with value: 0.7823428515378865 and parameters: {'reg_param': 0.1220323708622135}. Best is trial 176 with value: 0.7824142568670662.\n",
      "[I 2020-10-05 20:13:01,709] Trial 190 finished with value: 0.78213895478635 and parameters: {'reg_param': 0.14817899487726385}. Best is trial 176 with value: 0.7824142568670662.\n",
      "[I 2020-10-05 20:13:02,120] Trial 191 finished with value: 0.7824102997242369 and parameters: {'reg_param': 0.10550705463031831}. Best is trial 176 with value: 0.7824142568670662.\n",
      "[I 2020-10-05 20:13:02,483] Trial 192 finished with value: 0.7824065059605239 and parameters: {'reg_param': 0.10774258071843083}. Best is trial 176 with value: 0.7824142568670662.\n",
      "[I 2020-10-05 20:13:02,848] Trial 193 finished with value: 0.7822886341005655 and parameters: {'reg_param': 0.08656264840015544}. Best is trial 176 with value: 0.7824142568670662.\n",
      "[I 2020-10-05 20:13:03,196] Trial 194 finished with value: 0.7822419841392646 and parameters: {'reg_param': 0.13410590437173703}. Best is trial 176 with value: 0.7824142568670662.\n",
      "[I 2020-10-05 20:13:03,562] Trial 195 finished with value: 0.7818317119883664 and parameters: {'reg_param': 0.06400496354004004}. Best is trial 176 with value: 0.7824142568670662.\n",
      "[I 2020-10-05 20:13:03,908] Trial 196 finished with value: 0.7824078761504667 and parameters: {'reg_param': 0.11071509571163425}. Best is trial 176 with value: 0.7824142568670662.\n",
      "[I 2020-10-05 20:13:04,367] Trial 197 finished with value: 0.7822847680931241 and parameters: {'reg_param': 0.12860665536507604}. Best is trial 176 with value: 0.7824142568670662.\n",
      "[I 2020-10-05 20:13:04,710] Trial 198 finished with value: 0.7823091750158503 and parameters: {'reg_param': 0.08856471467060535}. Best is trial 176 with value: 0.7824142568670662.\n",
      "[I 2020-10-05 20:13:05,042] Trial 199 finished with value: 0.7824059318792325 and parameters: {'reg_param': 0.11290275038243375}. Best is trial 176 with value: 0.7824142568670662.\n"
     ]
    }
   ],
   "source": [
    "# Extracting the best model parameters and best study score\n",
    "best_study_score,best_study_params = train_test_roc_auc(X_train_red, y_train, QDA, objective_wrappper_qda, cv_strat, n_trials=200)"
   ]
  },
  {
   "cell_type": "code",
   "execution_count": 38,
   "metadata": {},
   "outputs": [
    {
     "name": "stdout",
     "output_type": "stream",
     "text": [
      "The best roc_auc_score for the study is:  0.7824142568670662\n"
     ]
    }
   ],
   "source": [
    "print('The best roc_auc_score for the study is: ',best_study_score)"
   ]
  },
  {
   "cell_type": "code",
   "execution_count": 39,
   "metadata": {},
   "outputs": [
    {
     "name": "stdout",
     "output_type": "stream",
     "text": [
      "The best study parameters for the classifier are:  {'reg_param': 0.10638381702463794}\n"
     ]
    }
   ],
   "source": [
    "print('The best study parameters for the classifier are: ',best_study_params)"
   ]
  },
  {
   "cell_type": "code",
   "execution_count": 40,
   "metadata": {},
   "outputs": [],
   "source": [
    "# Obtaining the best reduced feature QDA  model with eigen solver by setting best study parameters.\n",
    "QDA = QDA.set_params(**best_study_params)"
   ]
  },
  {
   "cell_type": "code",
   "execution_count": 42,
   "metadata": {},
   "outputs": [
    {
     "data": {
      "text/plain": [
       "QuadraticDiscriminantAnalysis(reg_param=0.10638381702463794)"
      ]
     },
     "execution_count": 42,
     "metadata": {},
     "output_type": "execute_result"
    }
   ],
   "source": [
    "# fitting the best QDA  model on the reduced feature training set\n",
    "QDA.fit(X_train_red,y_train)"
   ]
  },
  {
   "cell_type": "code",
   "execution_count": 43,
   "metadata": {},
   "outputs": [
    {
     "name": "stdout",
     "output_type": "stream",
     "text": [
      "The roc_auc_score for the Reduced feature training set using the best QDA classifier is  0.7851086555035252\n"
     ]
    }
   ],
   "source": [
    "# Calculating the Reduced feature training set roc_auc score using the best study parameters\n",
    "cal_roc_auc(X_train_red , y_train, QDA, 'Reduced feature', 'training', 'QDA classifier')"
   ]
  },
  {
   "cell_type": "code",
   "execution_count": 45,
   "metadata": {},
   "outputs": [
    {
     "name": "stdout",
     "output_type": "stream",
     "text": [
      "The roc_auc_score for the Reduced feature test set using the best QDA classifier is  0.790439849757064\n"
     ]
    }
   ],
   "source": [
    "# Calculating the Reduced feature test set roc_auc score using the best study parameters\n",
    "cal_roc_auc(X_test_red, y_test, QDA, 'Reduced feature', 'test', 'QDA classifier')"
   ]
  },
  {
   "cell_type": "code",
   "execution_count": 46,
   "metadata": {},
   "outputs": [
    {
     "data": {
      "text/plain": [
       "['Quadratic_Dis_Reduced.joblib']"
      ]
     },
     "execution_count": 46,
     "metadata": {},
     "output_type": "execute_result"
    }
   ],
   "source": [
    "# Saving the Reduced feature best QDA model \n",
    "joblib.dump(QDA,'Quadratic_Dis_Reduced.joblib')"
   ]
  },
  {
   "cell_type": "markdown",
   "metadata": {},
   "source": [
    "### Calculating R_R ratio for best QDA Classifier."
   ]
  },
  {
   "cell_type": "code",
   "execution_count": 30,
   "metadata": {},
   "outputs": [],
   "source": [
    "# Loading the best QDA Classifier model\n",
    "import joblib\n",
    "QDA = joblib.load('Quadratic_Dis_Reduced.joblib')"
   ]
  },
  {
   "cell_type": "code",
   "execution_count": 31,
   "metadata": {},
   "outputs": [],
   "source": [
    "# Computing the CV scores using sklearn's cross_val_score\n",
    "score_qda = cross_val_score(QDA, X_train_red, y_train, cv=cv_strat, n_jobs=5, scoring='roc_auc')"
   ]
  },
  {
   "cell_type": "code",
   "execution_count": 32,
   "metadata": {},
   "outputs": [
    {
     "name": "stdout",
     "output_type": "stream",
     "text": [
      "The reward associated with the best QDA Classifier using roc_auc metric is:  0.7824142568670662\n"
     ]
    }
   ],
   "source": [
    "print('The reward associated with the best QDA Classifier using roc_auc metric is: ',np.mean(score_qda))"
   ]
  },
  {
   "cell_type": "code",
   "execution_count": 33,
   "metadata": {},
   "outputs": [
    {
     "name": "stdout",
     "output_type": "stream",
     "text": [
      "The risk associated with the best QDA Classifier using roc_auc metric is:  0.020311006351920957\n"
     ]
    }
   ],
   "source": [
    "print('The risk associated with the best QDA Classifier using roc_auc metric is: ',np.std(score_qda))"
   ]
  },
  {
   "cell_type": "code",
   "execution_count": 34,
   "metadata": {},
   "outputs": [],
   "source": [
    "R_R_Ratio_qda = np.mean(score_qda)/np.std(score_qda)"
   ]
  },
  {
   "cell_type": "code",
   "execution_count": 35,
   "metadata": {},
   "outputs": [
    {
     "name": "stdout",
     "output_type": "stream",
     "text": [
      "The reward risk ratio for the best QDA Classifier using roc_auc metric is:  38.5216883550956\n"
     ]
    }
   ],
   "source": [
    "print('The reward risk ratio for the best QDA Classifier using roc_auc metric is: ',R_R_Ratio_qda)"
   ]
  },
  {
   "cell_type": "markdown",
   "metadata": {},
   "source": [
    "#### The R_R Ratio for the best QDA classifier using reduced feature set is:  38.5216883550956"
   ]
  },
  {
   "cell_type": "markdown",
   "metadata": {},
   "source": [
    "## Observations:\n",
    "### 1) The tuned QDA model has the worst test set roc_auc score as well as R_R ratio of all the fitted models till now. This was expected as the underlying Feature space is not multivariate normal, which is the underlying assumption of the QDA model. Any departure from normality affects the QDA more than the LDA, which is also observed here.\n",
    "### 2) Owing to both very low R_R ratio and test set roc_auc, we can rule out the QDA model for this dataset."
   ]
  },
  {
   "cell_type": "markdown",
   "metadata": {},
   "source": [
    "### R_R Ratio for the best  classifier  in Discriminant Analysis family utilizing roc_auc metric is:  51.152886235836306,  corresponding to Vanilla LDA Classifier."
   ]
  },
  {
   "cell_type": "markdown",
   "metadata": {},
   "source": [
    "### _Thus keeping everything into account , for this dataset , the best discriminant classifier is LDA model with eigen solver & tuned shrinkage ._"
   ]
  },
  {
   "cell_type": "code",
   "execution_count": null,
   "metadata": {},
   "outputs": [],
   "source": []
  }
 ],
 "metadata": {
  "kernelspec": {
   "display_name": "Python 3",
   "language": "python",
   "name": "python3"
  },
  "language_info": {
   "codemirror_mode": {
    "name": "ipython",
    "version": 3
   },
   "file_extension": ".py",
   "mimetype": "text/x-python",
   "name": "python",
   "nbconvert_exporter": "python",
   "pygments_lexer": "ipython3",
   "version": "3.8.5"
  }
 },
 "nbformat": 4,
 "nbformat_minor": 4
}
