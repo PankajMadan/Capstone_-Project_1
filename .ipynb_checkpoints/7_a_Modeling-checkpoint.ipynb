{
 "cells": [
  {
   "cell_type": "code",
   "execution_count": 1,
   "metadata": {},
   "outputs": [],
   "source": [
    "# Importing Required Python Packages\n",
    "import numpy as np\n",
    "import pandas as pd\n",
    "import matplotlib.pyplot as plt\n",
    "import seaborn as sns\n",
    "import warnings\n",
    "warnings.filterwarnings('ignore')\n",
    "pd.set_option('display.max_columns',None)"
   ]
  },
  {
   "cell_type": "code",
   "execution_count": 2,
   "metadata": {},
   "outputs": [],
   "source": [
    "# Importing Cross_val_score & Stratified K fold \n",
    "from sklearn.model_selection import cross_val_score\n",
    "from sklearn.model_selection import StratifiedKFold"
   ]
  },
  {
   "cell_type": "code",
   "execution_count": 3,
   "metadata": {},
   "outputs": [],
   "source": [
    "# Importing the Sklearn's roc_auc_score module\n",
    "from sklearn.metrics import roc_auc_score"
   ]
  },
  {
   "cell_type": "code",
   "execution_count": 4,
   "metadata": {},
   "outputs": [],
   "source": [
    "# Loading both versions of Training sets\n",
    "X_train_red = pd.read_csv('X_train_final.csv')\n",
    "X_train = pd.read_csv('X_train_full_final.csv')\n",
    "y_train = pd.read_csv('y_train.final.csv')"
   ]
  },
  {
   "cell_type": "code",
   "execution_count": 5,
   "metadata": {},
   "outputs": [],
   "source": [
    "# Loading both versions of Test sets\n",
    "X_test_red = pd.read_csv('X_test_final.csv')\n",
    "X_test = pd.read_csv('X_test_full_final.csv')\n",
    "y_test = pd.read_csv('y_test.final.csv')"
   ]
  },
  {
   "cell_type": "markdown",
   "metadata": {},
   "source": [
    "## Model_6: Light Gbm classifier with Tuned Hyperparameters using Optuna."
   ]
  },
  {
   "cell_type": "code",
   "execution_count": 6,
   "metadata": {},
   "outputs": [],
   "source": [
    "# Importing Optuna and lightgbm \n",
    "from lightgbm import LGBMClassifier\n",
    "import optuna"
   ]
  },
  {
   "cell_type": "code",
   "execution_count": 7,
   "metadata": {},
   "outputs": [],
   "source": [
    "# Defining the appropriate objective function for the Light GBM classifier\n",
    "\n",
    "def objective_wrappper_lgbm(X_tr, y_tr, cls=None):\n",
    "    '''\n",
    "    Optimizes classifier's cls (LightGBM here) parameters on the given training set X_tr, y_tr\n",
    "    using cv_strat cross-validation object\n",
    "    \n",
    "    '''\n",
    "    # Defing the class weights\n",
    "    # Initializing the K Fold object\n",
    "    cv_strat = StratifiedKFold(10,random_state=42)\n",
    "    cl_weight = ['balanced',{0:1.0,1:9.0},{0:1.0,1:10},{0:1.0,1:11},{0:1.0,1:12},{0:1.0,1:13}]\n",
    "    def objective(trial):\n",
    "        params = {\n",
    "        'class_weight': trial.suggest_categorical('class_weight',cl_weight),\n",
    "        'n_estimators': trial.suggest_int('n_estimators', 10, 1500),\n",
    "        'min_child_samples': trial.suggest_int('min_child_samples', 10, 250),\n",
    "        'reg_alpha': trial.suggest_uniform('reg_alpha', 0, 10),\n",
    "        'reg_lambda': trial.suggest_uniform('reg_lambda', 0, 10),\n",
    "        'num_leaves': trial.suggest_int('num_leaves', 2, 300),\n",
    "        'max_depth': trial.suggest_int('max_depth', 2, 100),\n",
    "        'colsample_bytree': trial.suggest_uniform('colsample_bytree', 0.6, 1.0),\n",
    "        'learning_rate': trial.suggest_loguniform('learning_rate', 1e-3, 1e-1)\n",
    "        }\n",
    "        cls.set_params(**params)#Initializing the model with the parameters \n",
    "    \n",
    "        return np.mean(cross_val_score(cls, X_tr, y_tr, cv=cv_strat, n_jobs=5, scoring='roc_auc'))  \n",
    "    return objective"
   ]
  },
  {
   "cell_type": "code",
   "execution_count": 10,
   "metadata": {},
   "outputs": [],
   "source": [
    "# Defining the evaluation function for study's best parameters\n",
    "def train_test_roc_auc(X_tr, y_tr, cls, obj_func, n_trials=100):\n",
    "    ''' Computes the best hyper parameters of the classsifier on the Training set and returns \n",
    "    Optuna's study's best score & clasifier parameters'''\n",
    "    study = optuna.create_study(direction='maximize')\n",
    "    study.optimize(obj_func(X_tr, y_tr, cls), n_trials)\n",
    "    best_score = study.best_value\n",
    "    best_params = study.best_params\n",
    "    return (best_score,best_params)\n"
   ]
  },
  {
   "cell_type": "code",
   "execution_count": 12,
   "metadata": {},
   "outputs": [],
   "source": [
    "# Initializing the LightGBM Classifier\n",
    "lgb_s = LGBMClassifier(random_state=42, objective='binary', n_jobs=5)"
   ]
  },
  {
   "cell_type": "markdown",
   "metadata": {},
   "source": [
    "#### Computing the best hyperparameters for the LightGBM classifier using Full Feature Training Set, _just for trial sake_"
   ]
  },
  {
   "cell_type": "code",
   "execution_count": 15,
   "metadata": {},
   "outputs": [
    {
     "name": "stderr",
     "output_type": "stream",
     "text": [
      "[I 2020-10-02 18:18:28,585] A new study created in memory with name: no-name-90059758-1e42-4f9e-82e5-4435a7d5d2b1\n",
      "[I 2020-10-02 18:18:30,562] Trial 0 finished with value: 0.7931826199313016 and parameters: {'class_weight': {0: 1.0, 1: 11}, 'n_estimators': 14, 'min_child_samples': 210, 'reg_alpha': 0.29789473063238314, 'reg_lambda': 1.022524311863069, 'num_leaves': 137, 'max_depth': 36, 'colsample_bytree': 0.8150244526430145, 'learning_rate': 0.018875110532311307}. Best is trial 0 with value: 0.7931826199313016.\n",
      "[I 2020-10-02 18:18:36,226] Trial 1 finished with value: 0.799762357724733 and parameters: {'class_weight': 'balanced', 'n_estimators': 424, 'min_child_samples': 55, 'reg_alpha': 4.929175913721871, 'reg_lambda': 2.184344914001952, 'num_leaves': 169, 'max_depth': 34, 'colsample_bytree': 0.7903282549344903, 'learning_rate': 0.0023304554592018406}. Best is trial 1 with value: 0.799762357724733.\n",
      "[I 2020-10-02 18:18:53,396] Trial 2 finished with value: 0.7969981274740675 and parameters: {'class_weight': {0: 1.0, 1: 13}, 'n_estimators': 1275, 'min_child_samples': 141, 'reg_alpha': 3.120314620102568, 'reg_lambda': 8.152055754959195, 'num_leaves': 92, 'max_depth': 37, 'colsample_bytree': 0.6088855363188023, 'learning_rate': 0.002207449943413968}. Best is trial 1 with value: 0.799762357724733.\n",
      "[I 2020-10-02 18:18:57,075] Trial 3 finished with value: 0.7969403455783114 and parameters: {'class_weight': {0: 1.0, 1: 12}, 'n_estimators': 207, 'min_child_samples': 168, 'reg_alpha': 3.7601486747555137, 'reg_lambda': 6.14698438303598, 'num_leaves': 76, 'max_depth': 59, 'colsample_bytree': 0.6065824841508838, 'learning_rate': 0.012298219148255669}. Best is trial 1 with value: 0.799762357724733.\n",
      "[I 2020-10-02 18:19:07,310] Trial 4 finished with value: 0.7660204545750552 and parameters: {'class_weight': {0: 1.0, 1: 9.0}, 'n_estimators': 478, 'min_child_samples': 60, 'reg_alpha': 3.399568946316628, 'reg_lambda': 0.7193899978573526, 'num_leaves': 123, 'max_depth': 61, 'colsample_bytree': 0.9059948042899197, 'learning_rate': 0.09869480134021884}. Best is trial 1 with value: 0.799762357724733.\n",
      "[I 2020-10-02 18:19:16,584] Trial 5 finished with value: 0.7954014057733307 and parameters: {'class_weight': 'balanced', 'n_estimators': 515, 'min_child_samples': 66, 'reg_alpha': 2.2485638156560963, 'reg_lambda': 4.433464456243602, 'num_leaves': 298, 'max_depth': 90, 'colsample_bytree': 0.9670316641368749, 'learning_rate': 0.0021601813074244563}. Best is trial 1 with value: 0.799762357724733.\n",
      "[I 2020-10-02 18:19:19,925] Trial 6 finished with value: 0.7972474151101703 and parameters: {'class_weight': {0: 1.0, 1: 9.0}, 'n_estimators': 182, 'min_child_samples': 50, 'reg_alpha': 6.938900347400152, 'reg_lambda': 6.950690193293241, 'num_leaves': 104, 'max_depth': 77, 'colsample_bytree': 0.9266213477601077, 'learning_rate': 0.004192810541567758}. Best is trial 1 with value: 0.799762357724733.\n",
      "[I 2020-10-02 18:19:25,278] Trial 7 finished with value: 0.788539079596237 and parameters: {'class_weight': {0: 1.0, 1: 10}, 'n_estimators': 303, 'min_child_samples': 153, 'reg_alpha': 9.541460439713529, 'reg_lambda': 5.898793084898322, 'num_leaves': 290, 'max_depth': 81, 'colsample_bytree': 0.7123207315449737, 'learning_rate': 0.05221504100285559}. Best is trial 1 with value: 0.799762357724733.\n",
      "[I 2020-10-02 18:19:29,228] Trial 8 finished with value: 0.7983239814451275 and parameters: {'class_weight': {0: 1.0, 1: 12}, 'n_estimators': 338, 'min_child_samples': 108, 'reg_alpha': 2.0405460933012707, 'reg_lambda': 3.2628145509919158, 'num_leaves': 125, 'max_depth': 8, 'colsample_bytree': 0.6378136362096359, 'learning_rate': 0.001595705392728503}. Best is trial 1 with value: 0.799762357724733.\n",
      "[I 2020-10-02 18:19:47,055] Trial 9 finished with value: 0.7836442331410818 and parameters: {'class_weight': {0: 1.0, 1: 11}, 'n_estimators': 1270, 'min_child_samples': 238, 'reg_alpha': 6.4019901160493955, 'reg_lambda': 3.782454708301275, 'num_leaves': 98, 'max_depth': 24, 'colsample_bytree': 0.6244534220220493, 'learning_rate': 0.029738589071190702}. Best is trial 1 with value: 0.799762357724733.\n",
      "[I 2020-10-02 18:19:52,421] Trial 10 finished with value: 0.7970765944388836 and parameters: {'class_weight': 'balanced', 'n_estimators': 875, 'min_child_samples': 27, 'reg_alpha': 9.887486347385458, 'reg_lambda': 2.223665735102683, 'num_leaves': 210, 'max_depth': 4, 'colsample_bytree': 0.7951809723209797, 'learning_rate': 0.005421912347972977}. Best is trial 1 with value: 0.799762357724733.\n",
      "[I 2020-10-02 18:19:58,612] Trial 11 finished with value: 0.7958199269852916 and parameters: {'class_weight': {0: 1.0, 1: 12}, 'n_estimators': 804, 'min_child_samples': 102, 'reg_alpha': 1.1356853812862167, 'reg_lambda': 3.128925691315763, 'num_leaves': 195, 'max_depth': 5, 'colsample_bytree': 0.7013718547319723, 'learning_rate': 0.0010942636679381536}. Best is trial 1 with value: 0.799762357724733.\n",
      "[I 2020-10-02 18:20:03,021] Trial 12 finished with value: 0.7956185951233123 and parameters: {'class_weight': 'balanced', 'n_estimators': 586, 'min_child_samples': 102, 'reg_alpha': 5.336014439888262, 'reg_lambda': 1.939988861317424, 'num_leaves': 18, 'max_depth': 18, 'colsample_bytree': 0.7036451612836985, 'learning_rate': 0.0011003234408254183}. Best is trial 1 with value: 0.799762357724733.\n",
      "[I 2020-10-02 18:20:04,010] Trial 13 finished with value: 0.7945902385659486 and parameters: {'class_weight': {0: 1.0, 1: 12}, 'n_estimators': 24, 'min_child_samples': 12, 'reg_alpha': 7.657621727316383, 'reg_lambda': 2.806153953780629, 'num_leaves': 190, 'max_depth': 19, 'colsample_bytree': 0.8104668605533084, 'learning_rate': 0.002069530485030686}. Best is trial 1 with value: 0.799762357724733.\n",
      "[I 2020-10-02 18:20:28,842] Trial 14 finished with value: 0.7904458398088234 and parameters: {'class_weight': {0: 1.0, 1: 10}, 'n_estimators': 1046, 'min_child_samples': 99, 'reg_alpha': 4.805138729154354, 'reg_lambda': 0.0014156825013964536, 'num_leaves': 241, 'max_depth': 41, 'colsample_bytree': 0.8630917272752969, 'learning_rate': 0.005675799073080032}. Best is trial 1 with value: 0.799762357724733.\n",
      "[I 2020-10-02 18:20:30,645] Trial 15 finished with value: 0.7803819979944172 and parameters: {'class_weight': {0: 1.0, 1: 13}, 'n_estimators': 347, 'min_child_samples': 83, 'reg_alpha': 1.5613914210525472, 'reg_lambda': 9.962090974887664, 'num_leaves': 51, 'max_depth': 2, 'colsample_bytree': 0.7545691154130603, 'learning_rate': 0.0010198491404130605}. Best is trial 1 with value: 0.799762357724733.\n",
      "[I 2020-10-02 18:20:45,172] Trial 16 finished with value: 0.7949432512602614 and parameters: {'class_weight': {0: 1.0, 1: 12}, 'n_estimators': 625, 'min_child_samples': 33, 'reg_alpha': 0.059989081746475215, 'reg_lambda': 4.682972083433158, 'num_leaves': 160, 'max_depth': 24, 'colsample_bytree': 0.6582872607207781, 'learning_rate': 0.0033136622868207783}. Best is trial 1 with value: 0.799762357724733.\n",
      "[I 2020-10-02 18:20:52,092] Trial 17 finished with value: 0.795598112160254 and parameters: {'class_weight': 'balanced', 'n_estimators': 383, 'min_child_samples': 114, 'reg_alpha': 4.819198816954862, 'reg_lambda': 1.4429703278988555, 'num_leaves': 164, 'max_depth': 50, 'colsample_bytree': 0.991907381956916, 'learning_rate': 0.008634849781121027}. Best is trial 1 with value: 0.799762357724733.\n",
      "[I 2020-10-02 18:20:53,923] Trial 18 finished with value: 0.7949062513112244 and parameters: {'class_weight': {0: 1.0, 1: 12}, 'n_estimators': 120, 'min_child_samples': 181, 'reg_alpha': 8.03209770178275, 'reg_lambda': 3.2654953500703154, 'num_leaves': 265, 'max_depth': 11, 'colsample_bytree': 0.7509758938119255, 'learning_rate': 0.0015547549362767584}. Best is trial 1 with value: 0.799762357724733.\n",
      "[I 2020-10-02 18:21:06,096] Trial 19 finished with value: 0.7973039325158543 and parameters: {'class_weight': 'balanced', 'n_estimators': 707, 'min_child_samples': 124, 'reg_alpha': 2.553577319365751, 'reg_lambda': 0.117262113420038, 'num_leaves': 230, 'max_depth': 31, 'colsample_bytree': 0.65140319749657, 'learning_rate': 0.0029168446919102535}. Best is trial 1 with value: 0.799762357724733.\n",
      "[I 2020-10-02 18:21:18,679] Trial 20 finished with value: 0.7970944445059696 and parameters: {'class_weight': 'balanced', 'n_estimators': 1000, 'min_child_samples': 82, 'reg_alpha': 5.674743849399, 'reg_lambda': 3.9211039694695042, 'num_leaves': 56, 'max_depth': 44, 'colsample_bytree': 0.8619461255761056, 'learning_rate': 0.007193210555727536}. Best is trial 1 with value: 0.799762357724733.\n",
      "[I 2020-10-02 18:21:29,776] Trial 21 finished with value: 0.7974910115120133 and parameters: {'class_weight': 'balanced', 'n_estimators': 680, 'min_child_samples': 121, 'reg_alpha': 2.4552043474465326, 'reg_lambda': 0.8469830403476091, 'num_leaves': 227, 'max_depth': 30, 'colsample_bytree': 0.6527838683774235, 'learning_rate': 0.003146960982561729}. Best is trial 1 with value: 0.799762357724733.\n",
      "[I 2020-10-02 18:21:34,966] Trial 22 finished with value: 0.7978947118309426 and parameters: {'class_weight': 'balanced', 'n_estimators': 435, 'min_child_samples': 127, 'reg_alpha': 3.987852435375901, 'reg_lambda': 2.237497808098006, 'num_leaves': 170, 'max_depth': 29, 'colsample_bytree': 0.6561777281991864, 'learning_rate': 0.0015315724193616757}. Best is trial 1 with value: 0.799762357724733.\n",
      "[I 2020-10-02 18:21:39,924] Trial 23 finished with value: 0.7975258221467442 and parameters: {'class_weight': 'balanced', 'n_estimators': 428, 'min_child_samples': 145, 'reg_alpha': 3.83953889277309, 'reg_lambda': 2.2890634942278965, 'num_leaves': 173, 'max_depth': 14, 'colsample_bytree': 0.7291093159213377, 'learning_rate': 0.0016555777112240938}. Best is trial 1 with value: 0.799762357724733.\n",
      "[I 2020-10-02 18:21:44,843] Trial 24 finished with value: 0.7992492911426606 and parameters: {'class_weight': {0: 1.0, 1: 9.0}, 'n_estimators': 313, 'min_child_samples': 77, 'reg_alpha': 4.386083612787822, 'reg_lambda': 1.6777021210079666, 'num_leaves': 134, 'max_depth': 59, 'colsample_bytree': 0.6673100439558749, 'learning_rate': 0.0014120234438168313}. Best is trial 1 with value: 0.799762357724733.\n",
      "[I 2020-10-02 18:21:48,504] Trial 25 finished with value: 0.7992525753061392 and parameters: {'class_weight': {0: 1.0, 1: 9.0}, 'n_estimators': 249, 'min_child_samples': 79, 'reg_alpha': 6.002361662391358, 'reg_lambda': 1.6396734841857636, 'num_leaves': 134, 'max_depth': 62, 'colsample_bytree': 0.6841804450832574, 'learning_rate': 0.001313125466615108}. Best is trial 1 with value: 0.799762357724733.\n",
      "[I 2020-10-02 18:21:52,347] Trial 26 finished with value: 0.7997939760540108 and parameters: {'class_weight': {0: 1.0, 1: 9.0}, 'n_estimators': 224, 'min_child_samples': 45, 'reg_alpha': 6.266146050464735, 'reg_lambda': 0.023475845332521006, 'num_leaves': 143, 'max_depth': 67, 'colsample_bytree': 0.6855802796660163, 'learning_rate': 0.0010342166260919193}. Best is trial 26 with value: 0.7997939760540108.\n",
      "[I 2020-10-02 18:21:54,906] Trial 27 finished with value: 0.7991301123493002 and parameters: {'class_weight': {0: 1.0, 1: 9.0}, 'n_estimators': 132, 'min_child_samples': 42, 'reg_alpha': 6.062211122370733, 'reg_lambda': 1.010179277361323, 'num_leaves': 191, 'max_depth': 71, 'colsample_bytree': 0.776638822827907, 'learning_rate': 0.0010534765778736222}. Best is trial 26 with value: 0.7997939760540108.\n",
      "[I 2020-10-02 18:21:56,132] Trial 28 finished with value: 0.7979044450473868 and parameters: {'class_weight': {0: 1.0, 1: 9.0}, 'n_estimators': 43, 'min_child_samples': 17, 'reg_alpha': 8.260197191292246, 'reg_lambda': 0.06972661146896275, 'num_leaves': 108, 'max_depth': 66, 'colsample_bytree': 0.7400123471378384, 'learning_rate': 0.002438713494587949}. Best is trial 26 with value: 0.7997939760540108.\n",
      "[I 2020-10-02 18:22:00,642] Trial 29 finished with value: 0.7976356157579849 and parameters: {'class_weight': {0: 1.0, 1: 9.0}, 'n_estimators': 241, 'min_child_samples': 56, 'reg_alpha': 7.0863175975647135, 'reg_lambda': 0.4954564690431482, 'num_leaves': 141, 'max_depth': 90, 'colsample_bytree': 0.68916087296825, 'learning_rate': 0.011985847902646738}. Best is trial 26 with value: 0.7997939760540108.\n",
      "[I 2020-10-02 18:22:02,287] Trial 30 finished with value: 0.7978159468519734 and parameters: {'class_weight': {0: 1.0, 1: 11}, 'n_estimators': 73, 'min_child_samples': 38, 'reg_alpha': 9.006337553364377, 'reg_lambda': 1.4417067345795354, 'num_leaves': 151, 'max_depth': 53, 'colsample_bytree': 0.8406212971444422, 'learning_rate': 0.004103984012662818}. Best is trial 26 with value: 0.7997939760540108.\n",
      "[I 2020-10-02 18:22:06,973] Trial 31 finished with value: 0.7994671009948213 and parameters: {'class_weight': {0: 1.0, 1: 9.0}, 'n_estimators': 280, 'min_child_samples': 80, 'reg_alpha': 4.505183413000002, 'reg_lambda': 1.5255124583865471, 'num_leaves': 134, 'max_depth': 51, 'colsample_bytree': 0.6789104891288221, 'learning_rate': 0.0013617304100771858}. Best is trial 26 with value: 0.7997939760540108.\n",
      "[I 2020-10-02 18:22:10,902] Trial 32 finished with value: 0.7993705961752089 and parameters: {'class_weight': {0: 1.0, 1: 9.0}, 'n_estimators': 253, 'min_child_samples': 70, 'reg_alpha': 6.299237289947296, 'reg_lambda': 1.3300620363462134, 'num_leaves': 121, 'max_depth': 48, 'colsample_bytree': 0.6802847749349057, 'learning_rate': 0.0010029817744358596}. Best is trial 26 with value: 0.7997939760540108.\n",
      "[I 2020-10-02 18:22:18,618] Trial 33 finished with value: 0.7993768270217041 and parameters: {'class_weight': {0: 1.0, 1: 9.0}, 'n_estimators': 514, 'min_child_samples': 10, 'reg_alpha': 6.600963752633996, 'reg_lambda': 0.01317222598713815, 'num_leaves': 76, 'max_depth': 46, 'colsample_bytree': 0.72495794261172, 'learning_rate': 0.0010481944626681617}. Best is trial 26 with value: 0.7997939760540108.\n",
      "[I 2020-10-02 18:22:27,115] Trial 34 finished with value: 0.798690163812388 and parameters: {'class_weight': {0: 1.0, 1: 9.0}, 'n_estimators': 520, 'min_child_samples': 11, 'reg_alpha': 5.2732777663791, 'reg_lambda': 0.0248836877390759, 'num_leaves': 80, 'max_depth': 54, 'colsample_bytree': 0.72939777563695, 'learning_rate': 0.002060381011078853}. Best is trial 26 with value: 0.7997939760540108.\n",
      "[I 2020-10-02 18:22:29,943] Trial 35 finished with value: 0.7962130605032062 and parameters: {'class_weight': {0: 1.0, 1: 13}, 'n_estimators': 531, 'min_child_samples': 26, 'reg_alpha': 7.1001724897867895, 'reg_lambda': 0.5793841691437368, 'num_leaves': 5, 'max_depth': 41, 'colsample_bytree': 0.7795517519536255, 'learning_rate': 0.019326558424164635}. Best is trial 26 with value: 0.7997939760540108.\n",
      "[I 2020-10-02 18:22:35,571] Trial 36 finished with value: 0.8002499540869625 and parameters: {'class_weight': {0: 1.0, 1: 9.0}, 'n_estimators': 406, 'min_child_samples': 50, 'reg_alpha': 3.159628358082432, 'reg_lambda': 0.5743409591744916, 'num_leaves': 57, 'max_depth': 34, 'colsample_bytree': 0.6110987970049209, 'learning_rate': 0.001963939651081762}. Best is trial 36 with value: 0.8002499540869625.\n",
      "[I 2020-10-02 18:22:37,811] Trial 37 finished with value: 0.7991357395867482 and parameters: {'class_weight': {0: 1.0, 1: 9.0}, 'n_estimators': 151, 'min_child_samples': 53, 'reg_alpha': 2.934748247916239, 'reg_lambda': 5.65578949642065, 'num_leaves': 37, 'max_depth': 35, 'colsample_bytree': 0.6008321246863212, 'learning_rate': 0.0021878029005223606}. Best is trial 36 with value: 0.8002499540869625.\n",
      "[I 2020-10-02 18:22:41,558] Trial 38 finished with value: 0.7990115110901896 and parameters: {'class_weight': {0: 1.0, 1: 10}, 'n_estimators': 194, 'min_child_samples': 63, 'reg_alpha': 4.4265747199198255, 'reg_lambda': 0.892400669026343, 'num_leaves': 110, 'max_depth': 82, 'colsample_bytree': 0.6260653139256418, 'learning_rate': 0.0040817513692834855}. Best is trial 36 with value: 0.8002499540869625.\n",
      "[I 2020-10-02 18:22:48,595] Trial 39 finished with value: 0.7967871540980193 and parameters: {'class_weight': {0: 1.0, 1: 9.0}, 'n_estimators': 453, 'min_child_samples': 45, 'reg_alpha': 3.3943862599779293, 'reg_lambda': 7.448619394188439, 'num_leaves': 90, 'max_depth': 100, 'colsample_bytree': 0.9070965093868223, 'learning_rate': 0.0026161770487327205}. Best is trial 36 with value: 0.8002499540869625.\n"
     ]
    },
    {
     "name": "stderr",
     "output_type": "stream",
     "text": [
      "[I 2020-10-02 18:23:14,600] Trial 40 finished with value: 0.796946885135078 and parameters: {'class_weight': {0: 1.0, 1: 11}, 'n_estimators': 1488, 'min_child_samples': 93, 'reg_alpha': 4.334460878896855, 'reg_lambda': 2.871891705954342, 'num_leaves': 150, 'max_depth': 37, 'colsample_bytree': 0.6018011468225847, 'learning_rate': 0.0018512700536502129}. Best is trial 36 with value: 0.8002499540869625.\n",
      "[I 2020-10-02 18:23:20,082] Trial 41 finished with value: 0.8001476998480668 and parameters: {'class_weight': {0: 1.0, 1: 9.0}, 'n_estimators': 379, 'min_child_samples': 22, 'reg_alpha': 5.613227333625672, 'reg_lambda': 0.4135949043451545, 'num_leaves': 66, 'max_depth': 47, 'colsample_bytree': 0.7140521794435508, 'learning_rate': 0.0011618907936117584}. Best is trial 36 with value: 0.8002499540869625.\n",
      "[I 2020-10-02 18:23:25,249] Trial 42 finished with value: 0.8002947411161203 and parameters: {'class_weight': {0: 1.0, 1: 9.0}, 'n_estimators': 381, 'min_child_samples': 25, 'reg_alpha': 5.6089898693320865, 'reg_lambda': 0.6260300617724722, 'num_leaves': 56, 'max_depth': 68, 'colsample_bytree': 0.7706951424626179, 'learning_rate': 0.0012657775940706434}. Best is trial 42 with value: 0.8002947411161203.\n",
      "[I 2020-10-02 18:23:29,203] Trial 43 finished with value: 0.7986928103348726 and parameters: {'class_weight': {0: 1.0, 1: 9.0}, 'n_estimators': 378, 'min_child_samples': 24, 'reg_alpha': 5.49091948960023, 'reg_lambda': 0.48776306473203657, 'num_leaves': 28, 'max_depth': 71, 'colsample_bytree': 0.7726872974254815, 'learning_rate': 0.001267769565052665}. Best is trial 42 with value: 0.8002947411161203.\n",
      "[I 2020-10-02 18:23:37,150] Trial 44 finished with value: 0.799686061233938 and parameters: {'class_weight': {0: 1.0, 1: 9.0}, 'n_estimators': 594, 'min_child_samples': 43, 'reg_alpha': 5.8298033755714185, 'reg_lambda': 0.4697613296502375, 'num_leaves': 60, 'max_depth': 67, 'colsample_bytree': 0.8296825845235625, 'learning_rate': 0.001860688605152382}. Best is trial 42 with value: 0.8002947411161203.\n",
      "[I 2020-10-02 18:23:39,411] Trial 45 finished with value: 0.7968134680793775 and parameters: {'class_weight': {0: 1.0, 1: 9.0}, 'n_estimators': 389, 'min_child_samples': 22, 'reg_alpha': 6.574718244865529, 'reg_lambda': 1.111037400759153, 'num_leaves': 8, 'max_depth': 76, 'colsample_bytree': 0.7962898210377044, 'learning_rate': 0.09092626125515296}. Best is trial 42 with value: 0.8002947411161203.\n",
      "[I 2020-10-02 18:23:43,361] Trial 46 finished with value: 0.7992319402006196 and parameters: {'class_weight': {0: 1.0, 1: 13}, 'n_estimators': 318, 'min_child_samples': 33, 'reg_alpha': 5.085662902594297, 'reg_lambda': 9.429854284770094, 'num_leaves': 42, 'max_depth': 55, 'colsample_bytree': 0.7626257755797592, 'learning_rate': 0.001233530181196194}. Best is trial 42 with value: 0.8002947411161203.\n",
      "[I 2020-10-02 18:23:54,139] Trial 47 finished with value: 0.7981336165463788 and parameters: {'class_weight': {0: 1.0, 1: 9.0}, 'n_estimators': 804, 'min_child_samples': 63, 'reg_alpha': 3.3902541640746, 'reg_lambda': 2.476145113612782, 'num_leaves': 67, 'max_depth': 25, 'colsample_bytree': 0.7066984097167066, 'learning_rate': 0.005258575630472865}. Best is trial 42 with value: 0.8002947411161203.\n",
      "[I 2020-10-02 18:24:01,525] Trial 48 finished with value: 0.7977061557118066 and parameters: {'class_weight': {0: 1.0, 1: 9.0}, 'n_estimators': 470, 'min_child_samples': 53, 'reg_alpha': 7.395463314685227, 'reg_lambda': 1.9262323970637576, 'num_leaves': 85, 'max_depth': 40, 'colsample_bytree': 0.8302502007030169, 'learning_rate': 0.003459957334227871}. Best is trial 42 with value: 0.8002947411161203.\n",
      "[I 2020-10-02 18:24:03,706] Trial 49 finished with value: 0.7949943831862991 and parameters: {'class_weight': {0: 1.0, 1: 10}, 'n_estimators': 195, 'min_child_samples': 232, 'reg_alpha': 0.6626679531559274, 'reg_lambda': 0.41611066092701865, 'num_leaves': 21, 'max_depth': 58, 'colsample_bytree': 0.7924346467935666, 'learning_rate': 0.0017482358172948892}. Best is trial 42 with value: 0.8002947411161203.\n",
      "[I 2020-10-02 18:24:11,952] Trial 50 finished with value: 0.7985176223645436 and parameters: {'class_weight': {0: 1.0, 1: 11}, 'n_estimators': 565, 'min_child_samples': 31, 'reg_alpha': 4.929286016543937, 'reg_lambda': 1.0958089410490455, 'num_leaves': 68, 'max_depth': 64, 'colsample_bytree': 0.7480741233883019, 'learning_rate': 0.002598190385806263}. Best is trial 42 with value: 0.8002947411161203.\n",
      "[I 2020-10-02 18:24:19,744] Trial 51 finished with value: 0.7998907772046182 and parameters: {'class_weight': {0: 1.0, 1: 9.0}, 'n_estimators': 592, 'min_child_samples': 41, 'reg_alpha': 5.7764715692656186, 'reg_lambda': 0.4978295094896168, 'num_leaves': 57, 'max_depth': 68, 'colsample_bytree': 0.8214513095187022, 'learning_rate': 0.001907786555873668}. Best is trial 42 with value: 0.8002947411161203.\n",
      "[I 2020-10-02 18:24:24,896] Trial 52 finished with value: 0.800598345840591 and parameters: {'class_weight': {0: 1.0, 1: 9.0}, 'n_estimators': 406, 'min_child_samples': 44, 'reg_alpha': 5.522612395466281, 'reg_lambda': 0.2831299955657751, 'num_leaves': 46, 'max_depth': 80, 'colsample_bytree': 0.8154175340083459, 'learning_rate': 0.002208517224505647}. Best is trial 52 with value: 0.800598345840591.\n",
      "[I 2020-10-02 18:24:32,353] Trial 53 finished with value: 0.800243262076943 and parameters: {'class_weight': {0: 1.0, 1: 9.0}, 'n_estimators': 664, 'min_child_samples': 17, 'reg_alpha': 5.584851072931503, 'reg_lambda': 0.25243388247377085, 'num_leaves': 46, 'max_depth': 84, 'colsample_bytree': 0.8592898349934339, 'learning_rate': 0.001177472766057116}. Best is trial 52 with value: 0.800598345840591.\n",
      "[I 2020-10-02 18:24:40,215] Trial 54 finished with value: 0.8000398674313726 and parameters: {'class_weight': {0: 1.0, 1: 9.0}, 'n_estimators': 623, 'min_child_samples': 18, 'reg_alpha': 5.8388473964381005, 'reg_lambda': 0.7962903286971599, 'num_leaves': 47, 'max_depth': 84, 'colsample_bytree': 0.8675247043271167, 'learning_rate': 0.0020467927518661314}. Best is trial 52 with value: 0.800598345840591.\n",
      "[I 2020-10-02 18:24:48,233] Trial 55 finished with value: 0.799798138803445 and parameters: {'class_weight': {0: 1.0, 1: 9.0}, 'n_estimators': 657, 'min_child_samples': 15, 'reg_alpha': 5.323376823009895, 'reg_lambda': 0.8290553371474515, 'num_leaves': 46, 'max_depth': 89, 'colsample_bytree': 0.8741064641416217, 'learning_rate': 0.001218376024231704}. Best is trial 52 with value: 0.800598345840591.\n",
      "[I 2020-10-02 18:24:55,203] Trial 56 finished with value: 0.7989815782119981 and parameters: {'class_weight': {0: 1.0, 1: 9.0}, 'n_estimators': 744, 'min_child_samples': 20, 'reg_alpha': 6.787464046919095, 'reg_lambda': 1.899783148998735, 'num_leaves': 27, 'max_depth': 97, 'colsample_bytree': 0.886419963042162, 'learning_rate': 0.001588026939654953}. Best is trial 52 with value: 0.800598345840591.\n",
      "[I 2020-10-02 18:25:04,691] Trial 57 finished with value: 0.8005105635047982 and parameters: {'class_weight': {0: 1.0, 1: 9.0}, 'n_estimators': 900, 'min_child_samples': 30, 'reg_alpha': 4.751888315239489, 'reg_lambda': 1.2256026576466859, 'num_leaves': 34, 'max_depth': 86, 'colsample_bytree': 0.9416734711510267, 'learning_rate': 0.002304866355900696}. Best is trial 52 with value: 0.800598345840591.\n",
      "[I 2020-10-02 18:25:15,240] Trial 58 finished with value: 0.8010039580517858 and parameters: {'class_weight': {0: 1.0, 1: 9.0}, 'n_estimators': 1071, 'min_child_samples': 33, 'reg_alpha': 4.743295160701363, 'reg_lambda': 0.17373054805474147, 'num_leaves': 34, 'max_depth': 77, 'colsample_bytree': 0.930116731169774, 'learning_rate': 0.0029277235876021593}. Best is trial 58 with value: 0.8010039580517858.\n",
      "[I 2020-10-02 18:25:25,313] Trial 59 finished with value: 0.7990181171660471 and parameters: {'class_weight': {0: 1.0, 1: 9.0}, 'n_estimators': 977, 'min_child_samples': 184, 'reg_alpha': 3.9789771839111854, 'reg_lambda': 0.0008758835934338238, 'num_leaves': 36, 'max_depth': 77, 'colsample_bytree': 0.949030932082799, 'learning_rate': 0.002929662921636396}. Best is trial 58 with value: 0.8010039580517858.\n",
      "[I 2020-10-02 18:25:33,343] Trial 60 finished with value: 0.8011979215060248 and parameters: {'class_weight': {0: 1.0, 1: 9.0}, 'n_estimators': 1119, 'min_child_samples': 71, 'reg_alpha': 1.8342063129544979, 'reg_lambda': 1.2659254886608724, 'num_leaves': 15, 'max_depth': 96, 'colsample_bytree': 0.9599513442760467, 'learning_rate': 0.0037006968151344836}. Best is trial 60 with value: 0.8011979215060248.\n",
      "[I 2020-10-02 18:25:40,906] Trial 61 finished with value: 0.8002597261252422 and parameters: {'class_weight': {0: 1.0, 1: 9.0}, 'n_estimators': 1188, 'min_child_samples': 69, 'reg_alpha': 2.574878634303209, 'reg_lambda': 1.3107532588063475, 'num_leaves': 12, 'max_depth': 96, 'colsample_bytree': 0.9712470324523111, 'learning_rate': 0.0033623179953622996}. Best is trial 60 with value: 0.8011979215060248.\n",
      "[I 2020-10-02 18:25:47,720] Trial 62 finished with value: 0.7995556734462249 and parameters: {'class_weight': {0: 1.0, 1: 9.0}, 'n_estimators': 1161, 'min_child_samples': 68, 'reg_alpha': 2.094583386676065, 'reg_lambda': 1.1621656108730398, 'num_leaves': 10, 'max_depth': 95, 'colsample_bytree': 0.9825904336996804, 'learning_rate': 0.004815986586628278}. Best is trial 60 with value: 0.8011979215060248.\n",
      "[I 2020-10-02 18:25:55,918] Trial 63 finished with value: 0.8007874749594361 and parameters: {'class_weight': {0: 1.0, 1: 9.0}, 'n_estimators': 1189, 'min_child_samples': 51, 'reg_alpha': 1.7485440946507702, 'reg_lambda': 1.3201555048028535, 'num_leaves': 16, 'max_depth': 93, 'colsample_bytree': 0.9467542168550259, 'learning_rate': 0.003667257618114395}. Best is trial 60 with value: 0.8011979215060248.\n",
      "[I 2020-10-02 18:26:03,964] Trial 64 finished with value: 0.8004266889454625 and parameters: {'class_weight': {0: 1.0, 1: 9.0}, 'n_estimators': 1201, 'min_child_samples': 73, 'reg_alpha': 1.6113034518458054, 'reg_lambda': 1.8097844896329622, 'num_leaves': 16, 'max_depth': 94, 'colsample_bytree': 0.9458724522236602, 'learning_rate': 0.0067463359573364185}. Best is trial 60 with value: 0.8011979215060248.\n",
      "[I 2020-10-02 18:26:14,518] Trial 65 finished with value: 0.7973744452831161 and parameters: {'class_weight': {0: 1.0, 1: 12}, 'n_estimators': 1385, 'min_child_samples': 36, 'reg_alpha': 0.6153977142159073, 'reg_lambda': 2.5343163681221643, 'num_leaves': 28, 'max_depth': 87, 'colsample_bytree': 0.9468330624714948, 'learning_rate': 0.006887133580188152}. Best is trial 60 with value: 0.8011979215060248.\n",
      "[I 2020-10-02 18:26:18,392] Trial 66 finished with value: 0.780382727341686 and parameters: {'class_weight': {0: 1.0, 1: 9.0}, 'n_estimators': 1094, 'min_child_samples': 89, 'reg_alpha': 0.021174359828453948, 'reg_lambda': 3.6266124871792442, 'num_leaves': 2, 'max_depth': 79, 'colsample_bytree': 0.9235489323970109, 'learning_rate': 0.00383391980972478}. Best is trial 60 with value: 0.8011979215060248.\n",
      "[I 2020-10-02 18:26:25,000] Trial 67 finished with value: 0.8006923472617951 and parameters: {'class_weight': {0: 1.0, 1: 9.0}, 'n_estimators': 940, 'min_child_samples': 58, 'reg_alpha': 1.0477931939570717, 'reg_lambda': 1.8242561038742027, 'num_leaves': 18, 'max_depth': 94, 'colsample_bytree': 0.9489593309958966, 'learning_rate': 0.00703979627888175}. Best is trial 60 with value: 0.8011979215060248.\n",
      "[I 2020-10-02 18:26:31,572] Trial 68 finished with value: 0.7993028825920662 and parameters: {'class_weight': {0: 1.0, 1: 13}, 'n_estimators': 938, 'min_child_samples': 59, 'reg_alpha': 1.5829162270934711, 'reg_lambda': 1.8907166451440198, 'num_leaves': 18, 'max_depth': 93, 'colsample_bytree': 0.9507514345238552, 'learning_rate': 0.006712161063425758}. Best is trial 60 with value: 0.8011979215060248.\n",
      "[I 2020-10-02 18:26:42,156] Trial 69 finished with value: 0.7938072938195853 and parameters: {'class_weight': {0: 1.0, 1: 9.0}, 'n_estimators': 1278, 'min_child_samples': 73, 'reg_alpha': 1.6371057145104713, 'reg_lambda': 1.689688269759643, 'num_leaves': 35, 'max_depth': 99, 'colsample_bytree': 0.9970722394968377, 'learning_rate': 0.008981034993138582}. Best is trial 60 with value: 0.8011979215060248.\n",
      "[I 2020-10-02 18:26:48,431] Trial 70 finished with value: 0.7984601158526248 and parameters: {'class_weight': {0: 1.0, 1: 10}, 'n_estimators': 892, 'min_child_samples': 90, 'reg_alpha': 1.2474726889606278, 'reg_lambda': 2.2101710242916193, 'num_leaves': 20, 'max_depth': 92, 'colsample_bytree': 0.938387292128746, 'learning_rate': 0.013308119344796946}. Best is trial 60 with value: 0.8011979215060248.\n",
      "[I 2020-10-02 18:26:52,667] Trial 71 finished with value: 0.788555683700371 and parameters: {'class_weight': {0: 1.0, 1: 9.0}, 'n_estimators': 1140, 'min_child_samples': 31, 'reg_alpha': 1.0298777355103068, 'reg_lambda': 2.5767978121523356, 'num_leaves': 3, 'max_depth': 86, 'colsample_bytree': 0.9646172916818572, 'learning_rate': 0.0045819000833778895}. Best is trial 60 with value: 0.8011979215060248.\n",
      "[I 2020-10-02 18:27:03,451] Trial 72 finished with value: 0.7986260966020665 and parameters: {'class_weight': {0: 1.0, 1: 9.0}, 'n_estimators': 1259, 'min_child_samples': 49, 'reg_alpha': 1.784121051855272, 'reg_lambda': 1.5015639075819103, 'num_leaves': 30, 'max_depth': 73, 'colsample_bytree': 0.8953317165969801, 'learning_rate': 0.005922996688976403}. Best is trial 60 with value: 0.8011979215060248.\n",
      "[I 2020-10-02 18:27:10,401] Trial 73 finished with value: 0.7997659555791192 and parameters: {'class_weight': {0: 1.0, 1: 9.0}, 'n_estimators': 1051, 'min_child_samples': 57, 'reg_alpha': 0.4175386542560089, 'reg_lambda': 0.94788063938676, 'num_leaves': 16, 'max_depth': 92, 'colsample_bytree': 0.9244482587671113, 'learning_rate': 0.00762662373887279}. Best is trial 60 with value: 0.8011979215060248.\n",
      "[I 2020-10-02 18:27:14,575] Trial 74 finished with value: 0.7809966454898063 and parameters: {'class_weight': {0: 1.0, 1: 9.0}, 'n_estimators': 1219, 'min_child_samples': 37, 'reg_alpha': 1.2727869228249769, 'reg_lambda': 1.7073807923995301, 'num_leaves': 2, 'max_depth': 81, 'colsample_bytree': 0.913669671853812, 'learning_rate': 0.002921084940041522}. Best is trial 60 with value: 0.8011979215060248.\n",
      "[I 2020-10-02 18:27:27,782] Trial 75 finished with value: 0.8000572247557496 and parameters: {'class_weight': {0: 1.0, 1: 9.0}, 'n_estimators': 1336, 'min_child_samples': 113, 'reg_alpha': 1.9766799730316498, 'reg_lambda': 1.256803509919754, 'num_leaves': 37, 'max_depth': 88, 'colsample_bytree': 0.9624449541667046, 'learning_rate': 0.0024176416600762978}. Best is trial 60 with value: 0.8011979215060248.\n",
      "[I 2020-10-02 18:27:36,843] Trial 76 finished with value: 0.8011017394162211 and parameters: {'class_weight': {0: 1.0, 1: 9.0}, 'n_estimators': 1075, 'min_child_samples': 48, 'reg_alpha': 0.9136013431796144, 'reg_lambda': 0.7596212551656312, 'num_leaves': 24, 'max_depth': 99, 'colsample_bytree': 0.9846048658221637, 'learning_rate': 0.0037665764980117926}. Best is trial 60 with value: 0.8011979215060248.\n",
      "[I 2020-10-02 18:27:44,050] Trial 77 finished with value: 0.8005846607990262 and parameters: {'class_weight': {0: 1.0, 1: 9.0}, 'n_estimators': 1070, 'min_child_samples': 75, 'reg_alpha': 0.9612835918656033, 'reg_lambda': 2.9766420359925005, 'num_leaves': 15, 'max_depth': 99, 'colsample_bytree': 0.9836986070479801, 'learning_rate': 0.003826959790632976}. Best is trial 60 with value: 0.8011979215060248.\n",
      "[I 2020-10-02 18:27:53,228] Trial 78 finished with value: 0.8009306580820781 and parameters: {'class_weight': {0: 1.0, 1: 12}, 'n_estimators': 1103, 'min_child_samples': 47, 'reg_alpha': 0.9741018375089083, 'reg_lambda': 4.320360162855067, 'num_leaves': 25, 'max_depth': 99, 'colsample_bytree': 0.9789806945837047, 'learning_rate': 0.0034439252030596854}. Best is trial 60 with value: 0.8011979215060248.\n",
      "[I 2020-10-02 18:28:02,067] Trial 79 finished with value: 0.8006733055892775 and parameters: {'class_weight': {0: 1.0, 1: 12}, 'n_estimators': 1115, 'min_child_samples': 48, 'reg_alpha': 0.8908575612957208, 'reg_lambda': 4.586833983585746, 'num_leaves': 22, 'max_depth': 99, 'colsample_bytree': 0.9803112365500678, 'learning_rate': 0.003829019718183821}. Best is trial 60 with value: 0.8011979215060248.\n"
     ]
    },
    {
     "name": "stderr",
     "output_type": "stream",
     "text": [
      "[I 2020-10-02 18:28:10,131] Trial 80 finished with value: 0.801117156515082 and parameters: {'class_weight': {0: 1.0, 1: 12}, 'n_estimators': 996, 'min_child_samples': 48, 'reg_alpha': 0.275939660334905, 'reg_lambda': 5.203659641844332, 'num_leaves': 24, 'max_depth': 100, 'colsample_bytree': 0.9740066880900202, 'learning_rate': 0.0036062271908801524}. Best is trial 60 with value: 0.8011979215060248.\n",
      "[I 2020-10-02 18:28:19,174] Trial 81 finished with value: 0.8007577297046578 and parameters: {'class_weight': {0: 1.0, 1: 12}, 'n_estimators': 1114, 'min_child_samples': 48, 'reg_alpha': 0.26755003723392934, 'reg_lambda': 5.069041602328622, 'num_leaves': 24, 'max_depth': 99, 'colsample_bytree': 0.9763648712232151, 'learning_rate': 0.003693183358873974}. Best is trial 60 with value: 0.8011979215060248.\n",
      "[I 2020-10-02 18:28:27,333] Trial 82 finished with value: 0.8009022677733585 and parameters: {'class_weight': {0: 1.0, 1: 12}, 'n_estimators': 1000, 'min_child_samples': 64, 'reg_alpha': 0.29805897775063617, 'reg_lambda': 5.300772724638805, 'num_leaves': 24, 'max_depth': 98, 'colsample_bytree': 0.9797504388477645, 'learning_rate': 0.004804253805344029}. Best is trial 60 with value: 0.8011979215060248.\n",
      "[I 2020-10-02 18:28:35,827] Trial 83 finished with value: 0.800561348535403 and parameters: {'class_weight': {0: 1.0, 1: 12}, 'n_estimators': 956, 'min_child_samples': 63, 'reg_alpha': 0.2808869089991491, 'reg_lambda': 5.346081127099206, 'num_leaves': 24, 'max_depth': 100, 'colsample_bytree': 0.999122941435261, 'learning_rate': 0.0044316379448758976}. Best is trial 60 with value: 0.8011979215060248.\n",
      "[I 2020-10-02 18:28:41,249] Trial 84 finished with value: 0.7982643389711404 and parameters: {'class_weight': {0: 1.0, 1: 12}, 'n_estimators': 1014, 'min_child_samples': 57, 'reg_alpha': 0.16787349135367557, 'reg_lambda': 6.510390350505101, 'num_leaves': 8, 'max_depth': 97, 'colsample_bytree': 0.9574472470441429, 'learning_rate': 0.005191289853419326}. Best is trial 60 with value: 0.8011979215060248.\n",
      "[I 2020-10-02 18:28:44,882] Trial 85 finished with value: 0.7824661482001878 and parameters: {'class_weight': {0: 1.0, 1: 12}, 'n_estimators': 1011, 'min_child_samples': 85, 'reg_alpha': 0.5819752758402441, 'reg_lambda': 5.118106731158598, 'num_leaves': 2, 'max_depth': 91, 'colsample_bytree': 0.9745383287367068, 'learning_rate': 0.0060882411031278425}. Best is trial 60 with value: 0.8011979215060248.\n",
      "[I 2020-10-02 18:28:56,563] Trial 86 finished with value: 0.7993012031033315 and parameters: {'class_weight': {0: 1.0, 1: 12}, 'n_estimators': 1104, 'min_child_samples': 50, 'reg_alpha': 0.7865510034648417, 'reg_lambda': 4.926484177679887, 'num_leaves': 40, 'max_depth': 96, 'colsample_bytree': 0.9866393256696449, 'learning_rate': 0.0034388372042200564}. Best is trial 60 with value: 0.8011979215060248.\n",
      "[I 2020-10-02 18:29:04,196] Trial 87 finished with value: 0.8009932096934765 and parameters: {'class_weight': {0: 1.0, 1: 12}, 'n_estimators': 840, 'min_child_samples': 64, 'reg_alpha': 1.4045437159926322, 'reg_lambda': 4.023331294121758, 'num_leaves': 28, 'max_depth': 90, 'colsample_bytree': 0.9318087032971333, 'learning_rate': 0.0030955766577075864}. Best is trial 60 with value: 0.8011979215060248.\n",
      "[I 2020-10-02 18:29:12,561] Trial 88 finished with value: 0.8005739263520795 and parameters: {'class_weight': {0: 1.0, 1: 12}, 'n_estimators': 842, 'min_child_samples': 37, 'reg_alpha': 1.4293751542173052, 'reg_lambda': 4.329136699204789, 'num_leaves': 32, 'max_depth': 100, 'colsample_bytree': 0.9305683590326026, 'learning_rate': 0.003035527342186327}. Best is trial 60 with value: 0.8011979215060248.\n",
      "[I 2020-10-02 18:29:25,295] Trial 89 finished with value: 0.7982098160172594 and parameters: {'class_weight': {0: 1.0, 1: 12}, 'n_estimators': 1048, 'min_child_samples': 95, 'reg_alpha': 2.8865783283528956, 'reg_lambda': 6.029481326108998, 'num_leaves': 51, 'max_depth': 91, 'colsample_bytree': 0.9934073828024951, 'learning_rate': 0.002633314037791943}. Best is trial 60 with value: 0.8011979215060248.\n",
      "[I 2020-10-02 18:29:32,404] Trial 90 finished with value: 0.7992840755255805 and parameters: {'class_weight': {0: 1.0, 1: 12}, 'n_estimators': 1245, 'min_child_samples': 62, 'reg_alpha': 0.3064591602915854, 'reg_lambda': 3.9640779010561196, 'num_leaves': 9, 'max_depth': 97, 'colsample_bytree': 0.958729820944147, 'learning_rate': 0.005057045173426611}. Best is trial 60 with value: 0.8011979215060248.\n",
      "[I 2020-10-02 18:29:40,072] Trial 91 finished with value: 0.8009674700397709 and parameters: {'class_weight': {0: 1.0, 1: 12}, 'n_estimators': 921, 'min_child_samples': 56, 'reg_alpha': 1.1812909397591849, 'reg_lambda': 4.240976653510695, 'num_leaves': 23, 'max_depth': 95, 'colsample_bytree': 0.9724855889020189, 'learning_rate': 0.0043067629013114495}. Best is trial 60 with value: 0.8011979215060248.\n",
      "[I 2020-10-02 18:29:46,798] Trial 92 finished with value: 0.8008961325060809 and parameters: {'class_weight': {0: 1.0, 1: 12}, 'n_estimators': 815, 'min_child_samples': 54, 'reg_alpha': 2.379758410110086, 'reg_lambda': 5.644873238282268, 'num_leaves': 23, 'max_depth': 89, 'colsample_bytree': 0.9689471967898468, 'learning_rate': 0.004197793040544468}. Best is trial 60 with value: 0.8011979215060248.\n",
      "[I 2020-10-02 18:29:56,205] Trial 93 finished with value: 0.7999069900572551 and parameters: {'class_weight': {0: 1.0, 1: 12}, 'n_estimators': 825, 'min_child_samples': 53, 'reg_alpha': 2.3596496972188175, 'reg_lambda': 5.42878264734429, 'num_leaves': 41, 'max_depth': 89, 'colsample_bytree': 0.9339557307668328, 'learning_rate': 0.004402439033944255}. Best is trial 60 with value: 0.8011979215060248.\n",
      "[I 2020-10-02 18:30:03,782] Trial 94 finished with value: 0.8007835502516976 and parameters: {'class_weight': {0: 1.0, 1: 12}, 'n_estimators': 789, 'min_child_samples': 67, 'reg_alpha': 1.3370772424595136, 'reg_lambda': 6.366953087310754, 'num_leaves': 29, 'max_depth': 94, 'colsample_bytree': 0.9640713709085869, 'learning_rate': 0.003187890799057804}. Best is trial 60 with value: 0.8011979215060248.\n",
      "[I 2020-10-02 18:30:09,376] Trial 95 finished with value: 0.8004690568139905 and parameters: {'class_weight': {0: 1.0, 1: 12}, 'n_estimators': 866, 'min_child_samples': 41, 'reg_alpha': 1.8193257866253778, 'reg_lambda': 4.3710883244434005, 'num_leaves': 13, 'max_depth': 83, 'colsample_bytree': 0.9149668824193142, 'learning_rate': 0.004202476307127143}. Best is trial 60 with value: 0.8011979215060248.\n",
      "[I 2020-10-02 18:30:20,431] Trial 96 finished with value: 0.7983784051988044 and parameters: {'class_weight': {0: 1.0, 1: 12}, 'n_estimators': 916, 'min_child_samples': 83, 'reg_alpha': 2.216010925906688, 'reg_lambda': 5.652288845520429, 'num_leaves': 51, 'max_depth': 90, 'colsample_bytree': 0.9906935671382404, 'learning_rate': 0.0027442194847135106}. Best is trial 60 with value: 0.8011979215060248.\n",
      "[I 2020-10-02 18:30:28,975] Trial 97 finished with value: 0.7998484466733146 and parameters: {'class_weight': {0: 1.0, 1: 12}, 'n_estimators': 982, 'min_child_samples': 64, 'reg_alpha': 1.8469755832210777, 'reg_lambda': 4.006866348792684, 'num_leaves': 26, 'max_depth': 86, 'colsample_bytree': 0.9711802478655331, 'learning_rate': 0.005776504478872623}. Best is trial 60 with value: 0.8011979215060248.\n",
      "[I 2020-10-02 18:30:44,046] Trial 98 finished with value: 0.7967659074390193 and parameters: {'class_weight': {0: 1.0, 1: 12}, 'n_estimators': 1151, 'min_child_samples': 77, 'reg_alpha': 2.6009957208754977, 'reg_lambda': 4.776962448106192, 'num_leaves': 63, 'max_depth': 97, 'colsample_bytree': 0.9984098645026676, 'learning_rate': 0.0035446243521403825}. Best is trial 60 with value: 0.8011979215060248.\n",
      "[I 2020-10-02 18:30:54,675] Trial 99 finished with value: 0.7970940288017943 and parameters: {'class_weight': {0: 1.0, 1: 12}, 'n_estimators': 725, 'min_child_samples': 53, 'reg_alpha': 0.5446900521377239, 'reg_lambda': 3.702344554098042, 'num_leaves': 72, 'max_depth': 93, 'colsample_bytree': 0.9571612630218465, 'learning_rate': 0.0032414243459557403}. Best is trial 60 with value: 0.8011979215060248.\n"
     ]
    }
   ],
   "source": [
    "# Extracting the best model parameters and best study score\n",
    "best_study_score,best_study_params = train_test_roc_auc(X_train, y_train, lgb_s, objective_wrappper_lgbm, n_trials=100)"
   ]
  },
  {
   "cell_type": "code",
   "execution_count": 16,
   "metadata": {},
   "outputs": [
    {
     "name": "stdout",
     "output_type": "stream",
     "text": [
      "The best roc_auc_score for the study is:  0.8011979215060248\n"
     ]
    }
   ],
   "source": [
    "print('The best roc_auc_score for the study is: ',best_study_score)"
   ]
  },
  {
   "cell_type": "code",
   "execution_count": 17,
   "metadata": {},
   "outputs": [
    {
     "name": "stdout",
     "output_type": "stream",
     "text": [
      "('The best study parameters for the classifier are: ', {'class_weight': {0: 1.0, 1: 9.0}, 'n_estimators': 1119, 'min_child_samples': 71, 'reg_alpha': 1.8342063129544979, 'reg_lambda': 1.2659254886608724, 'num_leaves': 15, 'max_depth': 96, 'colsample_bytree': 0.9599513442760467, 'learning_rate': 0.0037006968151344836})\n"
     ]
    }
   ],
   "source": [
    "print(('The best study parameters for the classifier are: ', best_study_params))"
   ]
  },
  {
   "cell_type": "markdown",
   "metadata": {},
   "source": [
    "#### Computing the  full feature roc_auc score for the test data using the best study Parameters"
   ]
  },
  {
   "cell_type": "code",
   "execution_count": 18,
   "metadata": {},
   "outputs": [],
   "source": [
    "# Obtaining the best full feature Light GBM model by setting best study parameters.\n",
    "lgb_f = lgb_s.set_params(**best_study_params)"
   ]
  },
  {
   "cell_type": "code",
   "execution_count": 19,
   "metadata": {},
   "outputs": [
    {
     "data": {
      "text/plain": [
       "LGBMClassifier(class_weight={0: 1.0, 1: 9.0},\n",
       "               colsample_bytree=0.9599513442760467,\n",
       "               learning_rate=0.0037006968151344836, max_depth=96,\n",
       "               min_child_samples=71, n_estimators=1119, n_jobs=5, num_leaves=15,\n",
       "               objective='binary', random_state=42,\n",
       "               reg_alpha=1.8342063129544979, reg_lambda=1.2659254886608724)"
      ]
     },
     "execution_count": 19,
     "metadata": {},
     "output_type": "execute_result"
    }
   ],
   "source": [
    "# fitting the best lightgbm model on the full feature training set\n",
    "lgb_f.fit(X_train, y_train)"
   ]
  },
  {
   "cell_type": "code",
   "execution_count": 21,
   "metadata": {},
   "outputs": [],
   "source": [
    "# Defining the function to calculate the roc_auc score for the feature sets\n",
    "def cal_roc_auc(X, y, cls, f_set, t_set, model_name):\n",
    "    ''' Calculates the roc auc score using the best study parameters \n",
    "        f_set : String: specifies 'full feature', 'Reduced feature'\n",
    "        t_set: String: specifies 'training', 'test'\n",
    "        model_name: String: specifies Name of the model '''\n",
    "        \n",
    "    y_pred = cls.predict_proba(X)\n",
    "    print('The roc_auc_score for the {} {} set using the best {} classifier is '.format(f_set,t_set,model_name),roc_auc_score(y, y_pred[:,1]))"
   ]
  },
  {
   "cell_type": "code",
   "execution_count": 22,
   "metadata": {},
   "outputs": [
    {
     "name": "stdout",
     "output_type": "stream",
     "text": [
      "The roc_auc_score for the full feature training set using the best Light Gbm classifier is  0.8206971119967283\n"
     ]
    }
   ],
   "source": [
    "# Calculating the full feature training set roc_auc score using the best study parameters\n",
    "cal_roc_auc(X_train, y_train, lgb_f, 'full feature', 'training', 'Light Gbm')"
   ]
  },
  {
   "cell_type": "code",
   "execution_count": 23,
   "metadata": {},
   "outputs": [
    {
     "name": "stdout",
     "output_type": "stream",
     "text": [
      "The roc_auc_score for the full feature test set using the best Light Gbm classifier is  0.8173005654747865\n"
     ]
    }
   ],
   "source": [
    "# Calculating the full feature test set roc_auc score using the best study parameters\n",
    "cal_roc_auc(X_test, y_test, lgb_f, 'full feature', 'test', 'Light Gbm')"
   ]
  },
  {
   "cell_type": "code",
   "execution_count": 24,
   "metadata": {},
   "outputs": [
    {
     "data": {
      "text/plain": [
       "['Light_Gbm_Full.joblib']"
      ]
     },
     "execution_count": 24,
     "metadata": {},
     "output_type": "execute_result"
    }
   ],
   "source": [
    "#Saving the Full feature set best Light Gbm Classifier \n",
    "import joblib\n",
    "joblib.dump(lgb_f,'Light_Gbm_Full.joblib')"
   ]
  },
  {
   "cell_type": "markdown",
   "metadata": {},
   "source": [
    "#### Computing the best hyperparameters for the  Light Gbm Classifier using Reduced feature Training Set."
   ]
  },
  {
   "cell_type": "code",
   "execution_count": 25,
   "metadata": {},
   "outputs": [
    {
     "name": "stderr",
     "output_type": "stream",
     "text": [
      "[I 2020-10-02 18:43:27,981] A new study created in memory with name: no-name-5fcadd1e-ad20-4ac8-83c8-8ad1e33ed1c1\n",
      "[I 2020-10-02 18:43:37,695] Trial 0 finished with value: 0.7831095984167584 and parameters: {'class_weight': {0: 1.0, 1: 13}, 'n_estimators': 638, 'min_child_samples': 56, 'reg_alpha': 1.971632847035213, 'reg_lambda': 5.803933849120054, 'num_leaves': 88, 'max_depth': 58, 'colsample_bytree': 0.7257517594866142, 'learning_rate': 0.035036128591893874}. Best is trial 0 with value: 0.7831095984167584.\n",
      "[I 2020-10-02 18:43:39,569] Trial 1 finished with value: 0.7930558431305778 and parameters: {'class_weight': 'balanced', 'n_estimators': 89, 'min_child_samples': 30, 'reg_alpha': 3.082076721326441, 'reg_lambda': 3.94674074510855, 'num_leaves': 248, 'max_depth': 84, 'colsample_bytree': 0.993092131436921, 'learning_rate': 0.004630008930039161}. Best is trial 1 with value: 0.7930558431305778.\n",
      "[I 2020-10-02 18:43:46,500] Trial 2 finished with value: 0.7973216857788675 and parameters: {'class_weight': 'balanced', 'n_estimators': 605, 'min_child_samples': 109, 'reg_alpha': 9.300843998340389, 'reg_lambda': 5.623639025142138, 'num_leaves': 253, 'max_depth': 50, 'colsample_bytree': 0.9987973106953641, 'learning_rate': 0.003713490325215675}. Best is trial 2 with value: 0.7973216857788675.\n",
      "[I 2020-10-02 18:43:51,125] Trial 3 finished with value: 0.7984878137321634 and parameters: {'class_weight': {0: 1.0, 1: 13}, 'n_estimators': 888, 'min_child_samples': 218, 'reg_alpha': 3.992740135992289, 'reg_lambda': 7.4998460808699505, 'num_leaves': 10, 'max_depth': 49, 'colsample_bytree': 0.7426667314550534, 'learning_rate': 0.021998701524932576}. Best is trial 3 with value: 0.7984878137321634.\n",
      "[I 2020-10-02 18:44:12,216] Trial 4 finished with value: 0.7950079733934947 and parameters: {'class_weight': {0: 1.0, 1: 12}, 'n_estimators': 1400, 'min_child_samples': 75, 'reg_alpha': 5.884370863369824, 'reg_lambda': 4.235234467706286, 'num_leaves': 84, 'max_depth': 37, 'colsample_bytree': 0.995216426342972, 'learning_rate': 0.00230694872175519}. Best is trial 3 with value: 0.7984878137321634.\n",
      "[I 2020-10-02 18:44:31,174] Trial 5 finished with value: 0.7953173843766954 and parameters: {'class_weight': {0: 1.0, 1: 13}, 'n_estimators': 1280, 'min_child_samples': 237, 'reg_alpha': 3.083378593923091, 'reg_lambda': 1.1812597779902345, 'num_leaves': 171, 'max_depth': 77, 'colsample_bytree': 0.9053448862966236, 'learning_rate': 0.0016421132832840231}. Best is trial 3 with value: 0.7984878137321634.\n",
      "[I 2020-10-02 18:44:40,171] Trial 6 finished with value: 0.800428680843958 and parameters: {'class_weight': 'balanced', 'n_estimators': 1204, 'min_child_samples': 181, 'reg_alpha': 7.6411558448379395, 'reg_lambda': 0.9102306266624194, 'num_leaves': 18, 'max_depth': 21, 'colsample_bytree': 0.6029031486522641, 'learning_rate': 0.004740377280675747}. Best is trial 6 with value: 0.800428680843958.\n",
      "[I 2020-10-02 18:44:56,025] Trial 7 finished with value: 0.7969939646815667 and parameters: {'class_weight': {0: 1.0, 1: 13}, 'n_estimators': 1158, 'min_child_samples': 162, 'reg_alpha': 4.9235978353995105, 'reg_lambda': 4.497169623347387, 'num_leaves': 193, 'max_depth': 29, 'colsample_bytree': 0.6716824938756834, 'learning_rate': 0.0018129027833861707}. Best is trial 6 with value: 0.800428680843958.\n",
      "[I 2020-10-02 18:45:02,588] Trial 8 finished with value: 0.7909979534854277 and parameters: {'class_weight': {0: 1.0, 1: 9.0}, 'n_estimators': 539, 'min_child_samples': 223, 'reg_alpha': 9.065446134932722, 'reg_lambda': 5.8836469084880285, 'num_leaves': 54, 'max_depth': 18, 'colsample_bytree': 0.8250692622822223, 'learning_rate': 0.03153669766677252}. Best is trial 6 with value: 0.800428680843958.\n",
      "[I 2020-10-02 18:45:07,580] Trial 9 finished with value: 0.8002268507618414 and parameters: {'class_weight': {0: 1.0, 1: 9.0}, 'n_estimators': 919, 'min_child_samples': 24, 'reg_alpha': 0.4571578445130775, 'reg_lambda': 8.724816145639487, 'num_leaves': 11, 'max_depth': 49, 'colsample_bytree': 0.9555318237232173, 'learning_rate': 0.015746781844786614}. Best is trial 6 with value: 0.800428680843958.\n",
      "[I 2020-10-02 18:45:14,703] Trial 10 finished with value: 0.7893422402480892 and parameters: {'class_weight': {0: 1.0, 1: 10}, 'n_estimators': 1482, 'min_child_samples': 171, 'reg_alpha': 7.206947630756554, 'reg_lambda': 0.2488813547258535, 'num_leaves': 136, 'max_depth': 7, 'colsample_bytree': 0.6262851599004275, 'learning_rate': 0.09856424732306232}. Best is trial 6 with value: 0.800428680843958.\n",
      "[I 2020-10-02 18:45:17,922] Trial 11 finished with value: 0.7858664481432153 and parameters: {'class_weight': {0: 1.0, 1: 11}, 'n_estimators': 1029, 'min_child_samples': 169, 'reg_alpha': 7.384822047565861, 'reg_lambda': 9.40712555807568, 'num_leaves': 2, 'max_depth': 2, 'colsample_bytree': 0.881221306882074, 'learning_rate': 0.009926798705942728}. Best is trial 6 with value: 0.800428680843958.\n",
      "[I 2020-10-02 18:45:25,159] Trial 12 finished with value: 0.7991313941689347 and parameters: {'class_weight': {0: 1.0, 1: 9.0}, 'n_estimators': 888, 'min_child_samples': 11, 'reg_alpha': 0.15041199228600455, 'reg_lambda': 2.198951892424257, 'num_leaves': 27, 'max_depth': 68, 'colsample_bytree': 0.602860706619185, 'learning_rate': 0.00973197646605173}. Best is trial 6 with value: 0.800428680843958.\n",
      "[I 2020-10-02 18:45:38,414] Trial 13 finished with value: 0.7965951769258137 and parameters: {'class_weight': {0: 1.0, 1: 9.0}, 'n_estimators': 1105, 'min_child_samples': 120, 'reg_alpha': 0.18646984957621038, 'reg_lambda': 9.264375684994636, 'num_leaves': 59, 'max_depth': 30, 'colsample_bytree': 0.9238603627709941, 'learning_rate': 0.005627154848878792}. Best is trial 6 with value: 0.800428680843958.\n",
      "[I 2020-10-02 18:45:43,218] Trial 14 finished with value: 0.7972618178030283 and parameters: {'class_weight': 'balanced', 'n_estimators': 340, 'min_child_samples': 195, 'reg_alpha': 7.061329436682315, 'reg_lambda': 2.486047622824075, 'num_leaves': 122, 'max_depth': 14, 'colsample_bytree': 0.8421403222848399, 'learning_rate': 0.016940274621539853}. Best is trial 6 with value: 0.800428680843958.\n",
      "[I 2020-10-02 18:45:46,591] Trial 15 finished with value: 0.7993689220694611 and parameters: {'class_weight': {0: 1.0, 1: 12}, 'n_estimators': 833, 'min_child_samples': 94, 'reg_alpha': 9.976944262203732, 'reg_lambda': 7.618920690813189, 'num_leaves': 5, 'max_depth': 100, 'colsample_bytree': 0.7647126324809451, 'learning_rate': 0.06447063214599796}. Best is trial 6 with value: 0.800428680843958.\n",
      "[I 2020-10-02 18:45:59,251] Trial 16 finished with value: 0.7940107521805082 and parameters: {'class_weight': {0: 1.0, 1: 11}, 'n_estimators': 1276, 'min_child_samples': 141, 'reg_alpha': 8.041742821131573, 'reg_lambda': 0.029082725054765945, 'num_leaves': 42, 'max_depth': 43, 'colsample_bytree': 0.9526103139995772, 'learning_rate': 0.008542935086882173}. Best is trial 6 with value: 0.800428680843958.\n",
      "[I 2020-10-02 18:46:14,468] Trial 17 finished with value: 0.7884862602624649 and parameters: {'class_weight': {0: 1.0, 1: 10}, 'n_estimators': 996, 'min_child_samples': 195, 'reg_alpha': 1.2921102617304925, 'reg_lambda': 8.106373633986456, 'num_leaves': 100, 'max_depth': 24, 'colsample_bytree': 0.6806680832888711, 'learning_rate': 0.014753984473909994}. Best is trial 6 with value: 0.800428680843958.\n",
      "[I 2020-10-02 18:46:29,187] Trial 18 finished with value: 0.7983963119015336 and parameters: {'class_weight': 'balanced', 'n_estimators': 1299, 'min_child_samples': 138, 'reg_alpha': 5.835045484360723, 'reg_lambda': 2.9142559641194508, 'num_leaves': 217, 'max_depth': 67, 'colsample_bytree': 0.7865726940885446, 'learning_rate': 0.001088442318003914}. Best is trial 6 with value: 0.800428680843958.\n",
      "[I 2020-10-02 18:46:37,299] Trial 19 finished with value: 0.7966398781417006 and parameters: {'class_weight': {0: 1.0, 1: 9.0}, 'n_estimators': 412, 'min_child_samples': 54, 'reg_alpha': 8.40692118285339, 'reg_lambda': 9.947236429737288, 'num_leaves': 298, 'max_depth': 40, 'colsample_bytree': 0.8517249569860886, 'learning_rate': 0.00632849895252242}. Best is trial 6 with value: 0.800428680843958.\n",
      "[I 2020-10-02 18:46:43,672] Trial 20 finished with value: 0.797966294818363 and parameters: {'class_weight': 'balanced', 'n_estimators': 719, 'min_child_samples': 249, 'reg_alpha': 5.975313679001441, 'reg_lambda': 6.754783722547159, 'num_leaves': 29, 'max_depth': 100, 'colsample_bytree': 0.6843741191692142, 'learning_rate': 0.002958421669516316}. Best is trial 6 with value: 0.800428680843958.\n",
      "[I 2020-10-02 18:46:47,359] Trial 21 finished with value: 0.7984104825933811 and parameters: {'class_weight': {0: 1.0, 1: 12}, 'n_estimators': 856, 'min_child_samples': 90, 'reg_alpha': 8.879340637254927, 'reg_lambda': 8.311567766865819, 'num_leaves': 5, 'max_depth': 87, 'colsample_bytree': 0.7819481816288313, 'learning_rate': 0.0783585916634806}. Best is trial 6 with value: 0.800428680843958.\n",
      "[I 2020-10-02 18:46:50,196] Trial 22 finished with value: 0.8005560173647852 and parameters: {'class_weight': {0: 1.0, 1: 12}, 'n_estimators': 777, 'min_child_samples': 20, 'reg_alpha': 9.36404028439864, 'reg_lambda': 7.0055043852781855, 'num_leaves': 3, 'max_depth': 60, 'colsample_bytree': 0.7425920380813292, 'learning_rate': 0.06437369214797722}. Best is trial 22 with value: 0.8005560173647852.\n",
      "[I 2020-10-02 18:47:01,666] Trial 23 finished with value: 0.7849009753087974 and parameters: {'class_weight': {0: 1.0, 1: 12}, 'n_estimators': 1013, 'min_child_samples': 10, 'reg_alpha': 9.55068823362732, 'reg_lambda': 6.9141348313709, 'num_leaves': 68, 'max_depth': 59, 'colsample_bytree': 0.6350697241210284, 'learning_rate': 0.03950066828172384}. Best is trial 22 with value: 0.8005560173647852.\n",
      "[I 2020-10-02 18:47:06,832] Trial 24 finished with value: 0.7897238216184352 and parameters: {'class_weight': {0: 1.0, 1: 12}, 'n_estimators': 742, 'min_child_samples': 34, 'reg_alpha': 7.957656288712589, 'reg_lambda': 8.747228846660262, 'num_leaves': 25, 'max_depth': 59, 'colsample_bytree': 0.7231385479155819, 'learning_rate': 0.05102971346813337}. Best is trial 22 with value: 0.8005560173647852.\n",
      "[I 2020-10-02 18:47:10,813] Trial 25 finished with value: 0.7883173557968866 and parameters: {'class_weight': {0: 1.0, 1: 9.0}, 'n_estimators': 1127, 'min_child_samples': 26, 'reg_alpha': 9.926054802210768, 'reg_lambda': 9.74572699763669, 'num_leaves': 2, 'max_depth': 70, 'colsample_bytree': 0.6056499056175195, 'learning_rate': 0.01599121249143171}. Best is trial 22 with value: 0.8005560173647852.\n",
      "[I 2020-10-02 18:47:16,316] Trial 26 finished with value: 0.8000839527715196 and parameters: {'class_weight': {0: 1.0, 1: 9.0}, 'n_estimators': 478, 'min_child_samples': 47, 'reg_alpha': 6.808426117525917, 'reg_lambda': 6.827107706597076, 'num_leaves': 44, 'max_depth': 34, 'colsample_bytree': 0.808316679591704, 'learning_rate': 0.0068103230372078575}. Best is trial 22 with value: 0.8005560173647852.\n",
      "[I 2020-10-02 18:47:33,954] Trial 27 finished with value: 0.7869565731119482 and parameters: {'class_weight': 'balanced', 'n_estimators': 1208, 'min_child_samples': 188, 'reg_alpha': 5.230080304605992, 'reg_lambda': 8.778125470268208, 'num_leaves': 117, 'max_depth': 47, 'colsample_bytree': 0.9520784219744978, 'learning_rate': 0.02299584909934664}. Best is trial 22 with value: 0.8005560173647852.\n",
      "[I 2020-10-02 18:47:37,587] Trial 28 finished with value: 0.7988073173933656 and parameters: {'class_weight': {0: 1.0, 1: 11}, 'n_estimators': 284, 'min_child_samples': 71, 'reg_alpha': 8.48728148885914, 'reg_lambda': 6.4290438331886195, 'num_leaves': 73, 'max_depth': 21, 'colsample_bytree': 0.6628373770340805, 'learning_rate': 0.0011256590459294098}. Best is trial 22 with value: 0.8005560173647852.\n",
      "[I 2020-10-02 18:47:43,487] Trial 29 finished with value: 0.7996917833193193 and parameters: {'class_weight': {0: 1.0, 1: 12}, 'n_estimators': 648, 'min_child_samples': 154, 'reg_alpha': 1.6816583234330575, 'reg_lambda': 5.33095122864358, 'num_leaves': 26, 'max_depth': 58, 'colsample_bytree': 0.7069844066667875, 'learning_rate': 0.003429745118860438}. Best is trial 22 with value: 0.8005560173647852.\n",
      "[I 2020-10-02 18:47:55,515] Trial 30 finished with value: 0.7907565557609785 and parameters: {'class_weight': {0: 1.0, 1: 10}, 'n_estimators': 935, 'min_child_samples': 67, 'reg_alpha': 0.882148124179049, 'reg_lambda': 7.736622456412847, 'num_leaves': 98, 'max_depth': 11, 'colsample_bytree': 0.8672921573711294, 'learning_rate': 0.013030741312447684}. Best is trial 22 with value: 0.8005560173647852.\n",
      "[I 2020-10-02 18:48:01,631] Trial 31 finished with value: 0.8000052243901816 and parameters: {'class_weight': {0: 1.0, 1: 9.0}, 'n_estimators': 523, 'min_child_samples': 46, 'reg_alpha': 6.702007520251532, 'reg_lambda': 7.1226024279722315, 'num_leaves': 44, 'max_depth': 33, 'colsample_bytree': 0.8115894157888001, 'learning_rate': 0.005145537515709414}. Best is trial 22 with value: 0.8005560173647852.\n",
      "[I 2020-10-02 18:48:03,617] Trial 32 finished with value: 0.7993039531713394 and parameters: {'class_weight': {0: 1.0, 1: 9.0}, 'n_estimators': 132, 'min_child_samples': 15, 'reg_alpha': 6.572660899104947, 'reg_lambda': 5.893773031569747, 'num_leaves': 39, 'max_depth': 38, 'colsample_bytree': 0.9555814503219013, 'learning_rate': 0.0074226605828720035}. Best is trial 22 with value: 0.8005560173647852.\n",
      "[I 2020-10-02 18:48:08,534] Trial 33 finished with value: 0.8002444685630744 and parameters: {'class_weight': {0: 1.0, 1: 9.0}, 'n_estimators': 777, 'min_child_samples': 43, 'reg_alpha': 7.7813807166689415, 'reg_lambda': 3.690795082440979, 'num_leaves': 13, 'max_depth': 57, 'colsample_bytree': 0.7603742485733483, 'learning_rate': 0.004949565914579712}. Best is trial 22 with value: 0.8005560173647852.\n",
      "[I 2020-10-02 18:48:14,631] Trial 34 finished with value: 0.8002753189353596 and parameters: {'class_weight': 'balanced', 'n_estimators': 794, 'min_child_samples': 34, 'reg_alpha': 7.809171468386723, 'reg_lambda': 3.544741083681485, 'num_leaves': 19, 'max_depth': 55, 'colsample_bytree': 0.740076893150224, 'learning_rate': 0.004214981802986187}. Best is trial 22 with value: 0.8005560173647852.\n",
      "[I 2020-10-02 18:48:19,779] Trial 35 finished with value: 0.7991468224615533 and parameters: {'class_weight': 'balanced', 'n_estimators': 656, 'min_child_samples': 36, 'reg_alpha': 7.695075400457983, 'reg_lambda': 3.4670204688918678, 'num_leaves': 19, 'max_depth': 55, 'colsample_bytree': 0.7514318467138293, 'learning_rate': 0.0038032528051107134}. Best is trial 22 with value: 0.8005560173647852.\n",
      "[I 2020-10-02 18:48:28,179] Trial 36 finished with value: 0.7987903903942775 and parameters: {'class_weight': 'balanced', 'n_estimators': 803, 'min_child_samples': 94, 'reg_alpha': 9.60865926668885, 'reg_lambda': 1.4436850471577505, 'num_leaves': 81, 'max_depth': 63, 'colsample_bytree': 0.7248442940723708, 'learning_rate': 0.002641171940737941}. Best is trial 22 with value: 0.8005560173647852.\n",
      "[I 2020-10-02 18:48:36,459] Trial 37 finished with value: 0.7988827467222163 and parameters: {'class_weight': 'balanced', 'n_estimators': 723, 'min_child_samples': 116, 'reg_alpha': 8.666020753662233, 'reg_lambda': 4.902544059831222, 'num_leaves': 58, 'max_depth': 53, 'colsample_bytree': 0.7508186500401334, 'learning_rate': 0.004520648148186388}. Best is trial 22 with value: 0.8005560173647852.\n",
      "[I 2020-10-02 18:48:42,331] Trial 38 finished with value: 0.7969906909892085 and parameters: {'class_weight': 'balanced', 'n_estimators': 590, 'min_child_samples': 210, 'reg_alpha': 4.386657233462658, 'reg_lambda': 3.960647119535812, 'num_leaves': 273, 'max_depth': 79, 'colsample_bytree': 0.6998932089739501, 'learning_rate': 0.0019827426500251995}. Best is trial 22 with value: 0.8005560173647852.\n",
      "[I 2020-10-02 18:48:51,625] Trial 39 finished with value: 0.8005817150984029 and parameters: {'class_weight': {0: 1.0, 1: 13}, 'n_estimators': 1375, 'min_child_samples': 62, 'reg_alpha': 9.345448026861371, 'reg_lambda': 3.441352152336572, 'num_leaves': 15, 'max_depth': 72, 'colsample_bytree': 0.7709339950279691, 'learning_rate': 0.004197274011856356}. Best is trial 39 with value: 0.8005817150984029.\n"
     ]
    },
    {
     "name": "stderr",
     "output_type": "stream",
     "text": [
      "[I 2020-10-02 18:49:14,257] Trial 40 finished with value: 0.7979202258315542 and parameters: {'class_weight': {0: 1.0, 1: 13}, 'n_estimators': 1494, 'min_child_samples': 67, 'reg_alpha': 9.227301237362003, 'reg_lambda': 1.419689517309532, 'num_leaves': 156, 'max_depth': 88, 'colsample_bytree': 0.6484088801735026, 'learning_rate': 0.0014400383150777719}. Best is trial 39 with value: 0.8005817150984029.\n",
      "[I 2020-10-02 18:49:18,350] Trial 41 finished with value: 0.7816136590530037 and parameters: {'class_weight': {0: 1.0, 1: 13}, 'n_estimators': 1415, 'min_child_samples': 39, 'reg_alpha': 8.072868347518188, 'reg_lambda': 3.6031088455585794, 'num_leaves': 2, 'max_depth': 75, 'colsample_bytree': 0.7802908543303481, 'learning_rate': 0.004007539095821941}. Best is trial 39 with value: 0.8005817150984029.\n",
      "[I 2020-10-02 18:49:28,139] Trial 42 finished with value: 0.8008745862065698 and parameters: {'class_weight': {0: 1.0, 1: 13}, 'n_estimators': 1365, 'min_child_samples': 21, 'reg_alpha': 7.513525959414716, 'reg_lambda': 4.533988723928366, 'num_leaves': 17, 'max_depth': 64, 'colsample_bytree': 0.7368249062794343, 'learning_rate': 0.002938462303910911}. Best is trial 42 with value: 0.8008745862065698.\n",
      "[I 2020-10-02 18:49:41,214] Trial 43 finished with value: 0.8008244371595727 and parameters: {'class_weight': {0: 1.0, 1: 13}, 'n_estimators': 1372, 'min_child_samples': 19, 'reg_alpha': 6.255513996416743, 'reg_lambda': 4.88759595547244, 'num_leaves': 34, 'max_depth': 73, 'colsample_bytree': 0.7099203045946242, 'learning_rate': 0.0025400135057185623}. Best is trial 42 with value: 0.8008745862065698.\n",
      "[I 2020-10-02 18:49:54,488] Trial 44 finished with value: 0.8005498781038428 and parameters: {'class_weight': {0: 1.0, 1: 13}, 'n_estimators': 1377, 'min_child_samples': 21, 'reg_alpha': 6.062338784414891, 'reg_lambda': 4.601602444087492, 'num_leaves': 36, 'max_depth': 73, 'colsample_bytree': 0.710287717127552, 'learning_rate': 0.00231336216255912}. Best is trial 42 with value: 0.8008745862065698.\n",
      "[I 2020-10-02 18:50:07,706] Trial 45 finished with value: 0.8008219062846675 and parameters: {'class_weight': {0: 1.0, 1: 13}, 'n_estimators': 1364, 'min_child_samples': 14, 'reg_alpha': 3.289654710413016, 'reg_lambda': 4.646220505269008, 'num_leaves': 36, 'max_depth': 82, 'colsample_bytree': 0.705306227366585, 'learning_rate': 0.0023794523653875646}. Best is trial 42 with value: 0.8008745862065698.\n",
      "[I 2020-10-02 18:50:21,860] Trial 46 finished with value: 0.7994423977979006 and parameters: {'class_weight': {0: 1.0, 1: 13}, 'n_estimators': 1345, 'min_child_samples': 15, 'reg_alpha': 3.221258454551405, 'reg_lambda': 5.372471360059826, 'num_leaves': 48, 'max_depth': 81, 'colsample_bytree': 0.7296315437951258, 'learning_rate': 0.0029015871556851386}. Best is trial 42 with value: 0.8008745862065698.\n",
      "[I 2020-10-02 18:50:39,854] Trial 47 finished with value: 0.7990096289852667 and parameters: {'class_weight': {0: 1.0, 1: 13}, 'n_estimators': 1447, 'min_child_samples': 57, 'reg_alpha': 4.184881781876404, 'reg_lambda': 3.0014589895850885, 'num_leaves': 60, 'max_depth': 95, 'colsample_bytree': 0.6937823091223004, 'learning_rate': 0.001625821274506065}. Best is trial 42 with value: 0.8008745862065698.\n",
      "[I 2020-10-02 18:50:51,262] Trial 48 finished with value: 0.8004737681499616 and parameters: {'class_weight': {0: 1.0, 1: 13}, 'n_estimators': 1235, 'min_child_samples': 23, 'reg_alpha': 2.6832416709320546, 'reg_lambda': 4.286683405587434, 'num_leaves': 32, 'max_depth': 64, 'colsample_bytree': 0.7661862225426148, 'learning_rate': 0.0020075727421724997}. Best is trial 42 with value: 0.8008745862065698.\n",
      "[I 2020-10-02 18:51:11,871] Trial 49 finished with value: 0.7977415709981698 and parameters: {'class_weight': {0: 1.0, 1: 13}, 'n_estimators': 1341, 'min_child_samples': 10, 'reg_alpha': 5.084279958274521, 'reg_lambda': 6.145549909857821, 'num_leaves': 92, 'max_depth': 86, 'colsample_bytree': 0.6630474197189421, 'learning_rate': 0.0013718419430948094}. Best is trial 42 with value: 0.8008745862065698.\n",
      "[I 2020-10-02 18:51:31,894] Trial 50 finished with value: 0.7974119470134245 and parameters: {'class_weight': {0: 1.0, 1: 13}, 'n_estimators': 1493, 'min_child_samples': 55, 'reg_alpha': 2.6184300309655946, 'reg_lambda': 5.0164779287851875, 'num_leaves': 71, 'max_depth': 92, 'colsample_bytree': 0.7931925025650398, 'learning_rate': 0.0024444677295043676}. Best is trial 42 with value: 0.8008745862065698.\n",
      "[I 2020-10-02 18:51:44,763] Trial 51 finished with value: 0.8007270752032106 and parameters: {'class_weight': {0: 1.0, 1: 13}, 'n_estimators': 1354, 'min_child_samples': 23, 'reg_alpha': 5.8381583357987985, 'reg_lambda': 4.625292760211046, 'num_leaves': 34, 'max_depth': 75, 'colsample_bytree': 0.7170324007312109, 'learning_rate': 0.002228497080148113}. Best is trial 42 with value: 0.8008745862065698.\n",
      "[I 2020-10-02 18:51:53,075] Trial 52 finished with value: 0.8008273045152519 and parameters: {'class_weight': {0: 1.0, 1: 13}, 'n_estimators': 1284, 'min_child_samples': 29, 'reg_alpha': 5.4273088250888275, 'reg_lambda': 4.669994265716653, 'num_leaves': 15, 'max_depth': 72, 'colsample_bytree': 0.7162325405947986, 'learning_rate': 0.0031393686633834567}. Best is trial 42 with value: 0.8008745862065698.\n",
      "[I 2020-10-02 18:52:02,012] Trial 53 finished with value: 0.800928996853416 and parameters: {'class_weight': {0: 1.0, 1: 13}, 'n_estimators': 1304, 'min_child_samples': 29, 'reg_alpha': 5.47928570521707, 'reg_lambda': 4.618422705214219, 'num_leaves': 17, 'max_depth': 82, 'colsample_bytree': 0.7135311680835683, 'learning_rate': 0.0032426595623933955}. Best is trial 53 with value: 0.800928996853416.\n",
      "[I 2020-10-02 18:52:17,197] Trial 54 finished with value: 0.797871330668883 and parameters: {'class_weight': {0: 1.0, 1: 13}, 'n_estimators': 1293, 'min_child_samples': 29, 'reg_alpha': 5.534761300841364, 'reg_lambda': 4.693014563792766, 'num_leaves': 57, 'max_depth': 81, 'colsample_bytree': 0.7117985883417866, 'learning_rate': 0.003247681169036466}. Best is trial 53 with value: 0.800928996853416.\n",
      "[I 2020-10-02 18:52:28,770] Trial 55 finished with value: 0.8005199477786196 and parameters: {'class_weight': {0: 1.0, 1: 13}, 'n_estimators': 1181, 'min_child_samples': 10, 'reg_alpha': 4.775251394902195, 'reg_lambda': 5.480306097233274, 'num_leaves': 34, 'max_depth': 77, 'colsample_bytree': 0.6884539232447171, 'learning_rate': 0.002021299144325438}. Best is trial 53 with value: 0.800928996853416.\n",
      "[I 2020-10-02 18:52:44,966] Trial 56 finished with value: 0.7995047112334861 and parameters: {'class_weight': {0: 1.0, 1: 13}, 'n_estimators': 1435, 'min_child_samples': 77, 'reg_alpha': 3.755236719517342, 'reg_lambda': 4.1270397867788295, 'num_leaves': 50, 'max_depth': 66, 'colsample_bytree': 0.6755749542399079, 'learning_rate': 0.0013048232316917024}. Best is trial 53 with value: 0.800928996853416.\n",
      "[I 2020-10-02 18:52:52,282] Trial 57 finished with value: 0.7979900579946406 and parameters: {'class_weight': {0: 1.0, 1: 13}, 'n_estimators': 1075, 'min_child_samples': 48, 'reg_alpha': 6.2896765779268184, 'reg_lambda': 5.041032114202747, 'num_leaves': 15, 'max_depth': 83, 'colsample_bytree': 0.7267162276361118, 'learning_rate': 0.0016793144989665958}. Best is trial 53 with value: 0.800928996853416.\n",
      "[I 2020-10-02 18:53:17,267] Trial 58 finished with value: 0.7955813498122732 and parameters: {'class_weight': {0: 1.0, 1: 13}, 'n_estimators': 1242, 'min_child_samples': 82, 'reg_alpha': 4.6476393337782715, 'reg_lambda': 4.336906679855644, 'num_leaves': 196, 'max_depth': 92, 'colsample_bytree': 0.6470623830262531, 'learning_rate': 0.002762224944917148}. Best is trial 53 with value: 0.800928996853416.\n",
      "[I 2020-10-02 18:53:37,594] Trial 59 finished with value: 0.7962599908896808 and parameters: {'class_weight': {0: 1.0, 1: 13}, 'n_estimators': 1324, 'min_child_samples': 29, 'reg_alpha': 5.362976914958908, 'reg_lambda': 5.78088435813391, 'num_leaves': 82, 'max_depth': 69, 'colsample_bytree': 0.7108202851204376, 'learning_rate': 0.00327660855180557}. Best is trial 53 with value: 0.800928996853416.\n",
      "[I 2020-10-02 18:53:47,148] Trial 60 finished with value: 0.800276528865972 and parameters: {'class_weight': {0: 1.0, 1: 13}, 'n_estimators': 1154, 'min_child_samples': 20, 'reg_alpha': 5.6409368301992515, 'reg_lambda': 4.723051557112383, 'num_leaves': 24, 'max_depth': 73, 'colsample_bytree': 0.7354514482653411, 'learning_rate': 0.0021362766848750667}. Best is trial 53 with value: 0.800928996853416.\n",
      "[I 2020-10-02 18:53:55,526] Trial 61 finished with value: 0.7993763015281952 and parameters: {'class_weight': {0: 1.0, 1: 13}, 'n_estimators': 1390, 'min_child_samples': 58, 'reg_alpha': 7.243348082987244, 'reg_lambda': 2.9877624403334417, 'num_leaves': 11, 'max_depth': 74, 'colsample_bytree': 0.7700684027648467, 'learning_rate': 0.0024985360709939533}. Best is trial 53 with value: 0.800928996853416.\n",
      "[I 2020-10-02 18:54:00,261] Trial 62 finished with value: 0.7850923788617452 and parameters: {'class_weight': {0: 1.0, 1: 13}, 'n_estimators': 1446, 'min_child_samples': 38, 'reg_alpha': 6.269598890053393, 'reg_lambda': 3.854467093431438, 'num_leaves': 2, 'max_depth': 71, 'colsample_bytree': 0.6954618033402481, 'learning_rate': 0.005670890445833075}. Best is trial 53 with value: 0.800928996853416.\n",
      "[I 2020-10-02 18:54:12,007] Trial 63 finished with value: 0.7998728122688818 and parameters: {'class_weight': {0: 1.0, 1: 13}, 'n_estimators': 1260, 'min_child_samples': 10, 'reg_alpha': 3.721108129311117, 'reg_lambda': 3.1942026431105037, 'num_leaves': 34, 'max_depth': 79, 'colsample_bytree': 0.7206739844510379, 'learning_rate': 0.0035615007091890382}. Best is trial 53 with value: 0.800928996853416.\n",
      "[I 2020-10-02 18:54:19,979] Trial 64 finished with value: 0.7967937254876227 and parameters: {'class_weight': {0: 1.0, 1: 13}, 'n_estimators': 1370, 'min_child_samples': 29, 'reg_alpha': 5.678068741329731, 'reg_lambda': 2.274495201430828, 'num_leaves': 11, 'max_depth': 63, 'colsample_bytree': 0.7474638178337344, 'learning_rate': 0.0017493090068113394}. Best is trial 53 with value: 0.800928996853416.\n",
      "[I 2020-10-02 18:54:30,915] Trial 65 finished with value: 0.8010289345687376 and parameters: {'class_weight': {0: 1.0, 1: 13}, 'n_estimators': 1320, 'min_child_samples': 17, 'reg_alpha': 6.465756844909133, 'reg_lambda': 5.175973920662201, 'num_leaves': 24, 'max_depth': 84, 'colsample_bytree': 0.6662107752735912, 'learning_rate': 0.0029652769331530086}. Best is trial 65 with value: 0.8010289345687376.\n",
      "[I 2020-10-02 18:54:40,216] Trial 66 finished with value: 0.8011102893824955 and parameters: {'class_weight': {0: 1.0, 1: 11}, 'n_estimators': 1083, 'min_child_samples': 16, 'reg_alpha': 6.964534534541776, 'reg_lambda': 5.143496762382144, 'num_leaves': 26, 'max_depth': 85, 'colsample_bytree': 0.6688983257726496, 'learning_rate': 0.0030081514412958507}. Best is trial 66 with value: 0.8011102893824955.\n",
      "[I 2020-10-02 18:54:54,102] Trial 67 finished with value: 0.7990993518492289 and parameters: {'class_weight': {0: 1.0, 1: 11}, 'n_estimators': 1065, 'min_child_samples': 18, 'reg_alpha': 6.954282746812147, 'reg_lambda': 6.158922010029841, 'num_leaves': 64, 'max_depth': 91, 'colsample_bytree': 0.6188726508078011, 'learning_rate': 0.002974975833572213}. Best is trial 66 with value: 0.8011102893824955.\n",
      "[I 2020-10-02 18:55:08,042] Trial 68 finished with value: 0.7995578038655864 and parameters: {'class_weight': {0: 1.0, 1: 11}, 'n_estimators': 1204, 'min_child_samples': 10, 'reg_alpha': 7.443171609927522, 'reg_lambda': 5.124700467946383, 'num_leaves': 51, 'max_depth': 98, 'colsample_bytree': 0.6685462749566202, 'learning_rate': 0.003225783493418107}. Best is trial 66 with value: 0.8011102893824955.\n",
      "[I 2020-10-02 18:55:18,867] Trial 69 finished with value: 0.8003649711005659 and parameters: {'class_weight': {0: 1.0, 1: 11}, 'n_estimators': 1302, 'min_child_samples': 47, 'reg_alpha': 6.459312893239991, 'reg_lambda': 5.622387952939349, 'num_leaves': 24, 'max_depth': 84, 'colsample_bytree': 0.6508106553522061, 'learning_rate': 0.005593054308703015}. Best is trial 66 with value: 0.8011102893824955.\n",
      "[I 2020-10-02 18:55:31,225] Trial 70 finished with value: 0.7998896902257839 and parameters: {'class_weight': {0: 1.0, 1: 10}, 'n_estimators': 1131, 'min_child_samples': 31, 'reg_alpha': 7.052597825812399, 'reg_lambda': 4.329934064148356, 'num_leaves': 48, 'max_depth': 88, 'colsample_bytree': 0.6802127319162474, 'learning_rate': 0.0012058544469673812}. Best is trial 66 with value: 0.8011102893824955.\n",
      "[I 2020-10-02 18:55:45,023] Trial 71 finished with value: 0.8003752273007869 and parameters: {'class_weight': {0: 1.0, 1: 13}, 'n_estimators': 1280, 'min_child_samples': 17, 'reg_alpha': 6.039962006679896, 'reg_lambda': 4.5548640383213925, 'num_leaves': 41, 'max_depth': 84, 'colsample_bytree': 0.7005204896349482, 'learning_rate': 0.002233786603435357}. Best is trial 66 with value: 0.8011102893824955.\n",
      "[I 2020-10-02 18:55:57,612] Trial 72 finished with value: 0.8007746693951703 and parameters: {'class_weight': {0: 1.0, 1: 13}, 'n_estimators': 1471, 'min_child_samples': 25, 'reg_alpha': 5.06533275706544, 'reg_lambda': 5.196485780176232, 'num_leaves': 28, 'max_depth': 77, 'colsample_bytree': 0.6602281274794937, 'learning_rate': 0.0027398572958091142}. Best is trial 66 with value: 0.8011102893824955.\n",
      "[I 2020-10-02 18:56:02,750] Trial 73 finished with value: 0.7810129119239172 and parameters: {'class_weight': {0: 1.0, 1: 11}, 'n_estimators': 1466, 'min_child_samples': 40, 'reg_alpha': 4.898473802052525, 'reg_lambda': 5.311616394962434, 'num_leaves': 2, 'max_depth': 77, 'colsample_bytree': 0.6342603395028754, 'learning_rate': 0.0026359652919537703}. Best is trial 66 with value: 0.8011102893824955.\n",
      "[I 2020-10-02 18:56:13,641] Trial 74 finished with value: 0.8007413976429685 and parameters: {'class_weight': {0: 1.0, 1: 13}, 'n_estimators': 1417, 'min_child_samples': 26, 'reg_alpha': 5.262877283377383, 'reg_lambda': 6.4204334643079575, 'num_leaves': 23, 'max_depth': 81, 'colsample_bytree': 0.6554372366230813, 'learning_rate': 0.003961953417250996}. Best is trial 66 with value: 0.8011102893824955.\n",
      "[I 2020-10-02 18:56:22,016] Trial 75 finished with value: 0.7943107508458952 and parameters: {'class_weight': {0: 1.0, 1: 13}, 'n_estimators': 1497, 'min_child_samples': 34, 'reg_alpha': 6.6568572436681475, 'reg_lambda': 4.035791299206889, 'num_leaves': 9, 'max_depth': 67, 'colsample_bytree': 0.6797409307697223, 'learning_rate': 0.0015106322525664385}. Best is trial 66 with value: 0.8011102893824955.\n",
      "[I 2020-10-02 18:56:32,653] Trial 76 finished with value: 0.7996094048870346 and parameters: {'class_weight': {0: 1.0, 1: 13}, 'n_estimators': 1214, 'min_child_samples': 15, 'reg_alpha': 4.478960063690948, 'reg_lambda': 4.84259877507726, 'num_leaves': 27, 'max_depth': 78, 'colsample_bytree': 0.6199006622899726, 'learning_rate': 0.001011907808617911}. Best is trial 66 with value: 0.8011102893824955.\n",
      "[I 2020-10-02 18:56:47,067] Trial 77 finished with value: 0.8003635941215281 and parameters: {'class_weight': {0: 1.0, 1: 11}, 'n_estimators': 1320, 'min_child_samples': 49, 'reg_alpha': 6.3515881690281635, 'reg_lambda': 5.187163813354703, 'num_leaves': 40, 'max_depth': 90, 'colsample_bytree': 0.6681866850377904, 'learning_rate': 0.001835900289470698}. Best is trial 66 with value: 0.8011102893824955.\n",
      "[I 2020-10-02 18:56:54,041] Trial 78 finished with value: 0.8003079549854126 and parameters: {'class_weight': {0: 1.0, 1: 13}, 'n_estimators': 966, 'min_child_samples': 42, 'reg_alpha': 7.450957747971797, 'reg_lambda': 5.896269108568317, 'num_leaves': 18, 'max_depth': 95, 'colsample_bytree': 0.6393175595567117, 'learning_rate': 0.003593157781962894}. Best is trial 66 with value: 0.8011102893824955.\n",
      "[I 2020-10-02 18:57:12,603] Trial 79 finished with value: 0.796002515531405 and parameters: {'class_weight': {0: 1.0, 1: 10}, 'n_estimators': 1402, 'min_child_samples': 10, 'reg_alpha': 6.109281955700268, 'reg_lambda': 5.525541796018694, 'num_leaves': 74, 'max_depth': 86, 'colsample_bytree': 0.6860810136527413, 'learning_rate': 0.004633651539894174}. Best is trial 66 with value: 0.8011102893824955.\n"
     ]
    },
    {
     "name": "stderr",
     "output_type": "stream",
     "text": [
      "[I 2020-10-02 18:57:22,993] Trial 80 finished with value: 0.8008398624797476 and parameters: {'class_weight': {0: 1.0, 1: 13}, 'n_estimators': 1173, 'min_child_samples': 25, 'reg_alpha': 5.420252265590087, 'reg_lambda': 4.901013555162159, 'num_leaves': 29, 'max_depth': 70, 'colsample_bytree': 0.7024361774210798, 'learning_rate': 0.0030392233587817545}. Best is trial 66 with value: 0.8011102893824955.\n",
      "[I 2020-10-02 18:57:33,168] Trial 81 finished with value: 0.8008303233987608 and parameters: {'class_weight': {0: 1.0, 1: 13}, 'n_estimators': 1163, 'min_child_samples': 23, 'reg_alpha': 5.450163952297743, 'reg_lambda': 4.37384048070583, 'num_leaves': 30, 'max_depth': 71, 'colsample_bytree': 0.7042574216136199, 'learning_rate': 0.0030824182876324404}. Best is trial 66 with value: 0.8011102893824955.\n",
      "[I 2020-10-02 18:57:39,492] Trial 82 finished with value: 0.7956387720679319 and parameters: {'class_weight': {0: 1.0, 1: 13}, 'n_estimators': 1170, 'min_child_samples': 16, 'reg_alpha': 5.473476403834911, 'reg_lambda': 4.414638369965233, 'num_leaves': 8, 'max_depth': 70, 'colsample_bytree': 0.7011308155874582, 'learning_rate': 0.0023578316144983505}. Best is trial 66 with value: 0.8011102893824955.\n",
      "[I 2020-10-02 18:57:50,758] Trial 83 finished with value: 0.8000462532366143 and parameters: {'class_weight': {0: 1.0, 1: 13}, 'n_estimators': 1093, 'min_child_samples': 34, 'reg_alpha': 5.797694628874793, 'reg_lambda': 4.873925241589918, 'num_leaves': 44, 'max_depth': 64, 'colsample_bytree': 0.6904689577931272, 'learning_rate': 0.002963213780522699}. Best is trial 66 with value: 0.8011102893824955.\n",
      "[I 2020-10-02 18:58:00,392] Trial 84 finished with value: 0.8008800660967014 and parameters: {'class_weight': {0: 1.0, 1: 13}, 'n_estimators': 1266, 'min_child_samples': 23, 'reg_alpha': 6.891171436536128, 'reg_lambda': 3.767093553649153, 'num_leaves': 22, 'max_depth': 82, 'colsample_bytree': 0.7321821078003455, 'learning_rate': 0.0031033863548175526}. Best is trial 66 with value: 0.8011102893824955.\n",
      "[I 2020-10-02 18:58:07,930] Trial 85 finished with value: 0.8005984841359508 and parameters: {'class_weight': {0: 1.0, 1: 13}, 'n_estimators': 1040, 'min_child_samples': 22, 'reg_alpha': 6.808814884633193, 'reg_lambda': 3.848708243466684, 'num_leaves': 18, 'max_depth': 75, 'colsample_bytree': 0.7344515512508614, 'learning_rate': 0.004510825821021915}. Best is trial 66 with value: 0.8011102893824955.\n",
      "[I 2020-10-02 18:58:16,536] Trial 86 finished with value: 0.8008558258632859 and parameters: {'class_weight': {0: 1.0, 1: 13}, 'n_estimators': 1137, 'min_child_samples': 40, 'reg_alpha': 8.327938937072332, 'reg_lambda': 4.150604556658025, 'num_leaves': 20, 'max_depth': 61, 'colsample_bytree': 0.7503960297468387, 'learning_rate': 0.003742438543955685}. Best is trial 66 with value: 0.8011102893824955.\n",
      "[I 2020-10-02 18:58:25,032] Trial 87 finished with value: 0.8004565161015715 and parameters: {'class_weight': {0: 1.0, 1: 13}, 'n_estimators': 1117, 'min_child_samples': 41, 'reg_alpha': 8.34732044001251, 'reg_lambda': 4.110000015955609, 'num_leaves': 20, 'max_depth': 61, 'colsample_bytree': 0.7596793278704561, 'learning_rate': 0.0031980506870712185}. Best is trial 66 with value: 0.8011102893824955.\n",
      "[I 2020-10-02 18:58:31,584] Trial 88 finished with value: 0.797967730878176 and parameters: {'class_weight': {0: 1.0, 1: 11}, 'n_estimators': 1260, 'min_child_samples': 50, 'reg_alpha': 8.132942555822787, 'reg_lambda': 2.5375530856199737, 'num_leaves': 8, 'max_depth': 66, 'colsample_bytree': 0.7413849941626222, 'learning_rate': 0.003696022958445323}. Best is trial 66 with value: 0.8011102893824955.\n",
      "[I 2020-10-02 18:58:41,272] Trial 89 finished with value: 0.7995793127191897 and parameters: {'class_weight': {0: 1.0, 1: 13}, 'n_estimators': 1201, 'min_child_samples': 30, 'reg_alpha': 7.13870720623034, 'reg_lambda': 3.6962966169217917, 'num_leaves': 30, 'max_depth': 53, 'colsample_bytree': 0.756513334905754, 'learning_rate': 0.0052245936353671925}. Best is trial 66 with value: 0.8011102893824955.\n",
      "[I 2020-10-02 18:58:54,416] Trial 90 finished with value: 0.7979560945625149 and parameters: {'class_weight': {0: 1.0, 1: 12}, 'n_estimators': 1164, 'min_child_samples': 37, 'reg_alpha': 7.57633436389902, 'reg_lambda': 3.2810316862516506, 'num_leaves': 56, 'max_depth': 61, 'colsample_bytree': 0.7193961611307856, 'learning_rate': 0.0042351151350278424}. Best is trial 66 with value: 0.8011102893824955.\n",
      "[I 2020-10-02 18:59:02,667] Trial 91 finished with value: 0.8007036231511387 and parameters: {'class_weight': {0: 1.0, 1: 13}, 'n_estimators': 1237, 'min_child_samples': 25, 'reg_alpha': 6.502087107985634, 'reg_lambda': 4.4404469562762126, 'num_leaves': 16, 'max_depth': 68, 'colsample_bytree': 0.7334666345767678, 'learning_rate': 0.0029633629732894497}. Best is trial 66 with value: 0.8011102893824955.\n",
      "[I 2020-10-02 18:59:13,737] Trial 92 finished with value: 0.8003250541564959 and parameters: {'class_weight': {0: 1.0, 1: 13}, 'n_estimators': 1296, 'min_child_samples': 19, 'reg_alpha': 6.87567493569787, 'reg_lambda': 4.204379673607359, 'num_leaves': 30, 'max_depth': 72, 'colsample_bytree': 0.711536707177564, 'learning_rate': 0.003459301735288257}. Best is trial 66 with value: 0.8011102893824955.\n",
      "[I 2020-10-02 18:59:24,252] Trial 93 finished with value: 0.800060309414009 and parameters: {'class_weight': {0: 1.0, 1: 13}, 'n_estimators': 997, 'min_child_samples': 31, 'reg_alpha': 6.178661791548149, 'reg_lambda': 4.9578251203507016, 'num_leaves': 41, 'max_depth': 80, 'colsample_bytree': 0.746505289195235, 'learning_rate': 0.0025948692067742233}. Best is trial 66 with value: 0.8011102893824955.\n",
      "[I 2020-10-02 18:59:32,975] Trial 94 finished with value: 0.7995316631152553 and parameters: {'class_weight': {0: 1.0, 1: 13}, 'n_estimators': 1132, 'min_child_samples': 10, 'reg_alpha': 8.920944728977323, 'reg_lambda': 3.8627929914074532, 'num_leaves': 22, 'max_depth': 47, 'colsample_bytree': 0.7262334799688891, 'learning_rate': 0.0018514067417782665}. Best is trial 66 with value: 0.8011102893824955.\n",
      "[I 2020-10-02 18:59:38,775] Trial 95 finished with value: 0.795272205043113 and parameters: {'class_weight': {0: 1.0, 1: 13}, 'n_estimators': 1332, 'min_child_samples': 24, 'reg_alpha': 5.9031435263795755, 'reg_lambda': 5.748515849422123, 'num_leaves': 5, 'max_depth': 70, 'colsample_bytree': 0.6954148685903018, 'learning_rate': 0.006250098149801895}. Best is trial 66 with value: 0.8011102893824955.\n",
      "[I 2020-10-02 18:59:46,254] Trial 96 finished with value: 0.8009224767727605 and parameters: {'class_weight': {0: 1.0, 1: 13}, 'n_estimators': 1241, 'min_child_samples': 53, 'reg_alpha': 7.267674499888942, 'reg_lambda': 4.816758578453315, 'num_leaves': 13, 'max_depth': 76, 'colsample_bytree': 0.7154491712911438, 'learning_rate': 0.007605240613624331}. Best is trial 66 with value: 0.8011102893824955.\n",
      "[I 2020-10-02 19:00:08,246] Trial 97 finished with value: 0.7889480622602877 and parameters: {'class_weight': {0: 1.0, 1: 13}, 'n_estimators': 1224, 'min_child_samples': 52, 'reg_alpha': 7.762408487419201, 'reg_lambda': 4.494912624210668, 'num_leaves': 114, 'max_depth': 84, 'colsample_bytree': 0.7804110869246341, 'learning_rate': 0.008650889441402432}. Best is trial 66 with value: 0.8011102893824955.\n",
      "[I 2020-10-02 19:00:14,197] Trial 98 finished with value: 0.7984820302204026 and parameters: {'class_weight': {0: 1.0, 1: 13}, 'n_estimators': 1048, 'min_child_samples': 105, 'reg_alpha': 7.399335571801289, 'reg_lambda': 5.341925508736313, 'num_leaves': 14, 'max_depth': 76, 'colsample_bytree': 0.6772252372673453, 'learning_rate': 0.020987979073683067}. Best is trial 66 with value: 0.8011102893824955.\n",
      "[I 2020-10-02 19:00:19,983] Trial 99 finished with value: 0.7936898241629289 and parameters: {'class_weight': {0: 1.0, 1: 13}, 'n_estimators': 1266, 'min_child_samples': 62, 'reg_alpha': 8.000790226291087, 'reg_lambda': 4.732171323483278, 'num_leaves': 5, 'max_depth': 65, 'colsample_bytree': 0.7166354962811674, 'learning_rate': 0.004143061129915873}. Best is trial 66 with value: 0.8011102893824955.\n"
     ]
    }
   ],
   "source": [
    "# Extracting the best model parameters and best study score\n",
    "best_study_score,best_study_params = train_test_roc_auc(X_train_red, y_train, lgb_s, objective_wrappper_lgbm, n_trials=100)"
   ]
  },
  {
   "cell_type": "code",
   "execution_count": 26,
   "metadata": {},
   "outputs": [
    {
     "name": "stdout",
     "output_type": "stream",
     "text": [
      "The best roc_auc_score for the study is:  0.8011102893824955\n"
     ]
    }
   ],
   "source": [
    "print('The best roc_auc_score for the study is: ',best_study_score)"
   ]
  },
  {
   "cell_type": "code",
   "execution_count": 27,
   "metadata": {},
   "outputs": [
    {
     "name": "stdout",
     "output_type": "stream",
     "text": [
      "('The best study parameters for the classifier are: ', {'class_weight': {0: 1.0, 1: 11}, 'n_estimators': 1083, 'min_child_samples': 16, 'reg_alpha': 6.964534534541776, 'reg_lambda': 5.143496762382144, 'num_leaves': 26, 'max_depth': 85, 'colsample_bytree': 0.6688983257726496, 'learning_rate': 0.0030081514412958507})\n"
     ]
    }
   ],
   "source": [
    "print(('The best study parameters for the classifier are: ', best_study_params))"
   ]
  },
  {
   "cell_type": "code",
   "execution_count": 28,
   "metadata": {},
   "outputs": [],
   "source": [
    "# Obtaining the best Reduced feature LightGbm model by setting best study parameters.\n",
    "lgb_red = lgb_s.set_params(**best_study_params)"
   ]
  },
  {
   "cell_type": "code",
   "execution_count": 29,
   "metadata": {},
   "outputs": [
    {
     "data": {
      "text/plain": [
       "LGBMClassifier(class_weight={0: 1.0, 1: 11},\n",
       "               colsample_bytree=0.6688983257726496,\n",
       "               learning_rate=0.0030081514412958507, max_depth=85,\n",
       "               min_child_samples=16, n_estimators=1083, n_jobs=5, num_leaves=26,\n",
       "               objective='binary', random_state=42, reg_alpha=6.964534534541776,\n",
       "               reg_lambda=5.143496762382144)"
      ]
     },
     "execution_count": 29,
     "metadata": {},
     "output_type": "execute_result"
    }
   ],
   "source": [
    "# fitting the best lightgbm model on the Reduced feature training set\n",
    "lgb_red.fit(X_train_red, y_train)"
   ]
  },
  {
   "cell_type": "code",
   "execution_count": 30,
   "metadata": {},
   "outputs": [
    {
     "name": "stdout",
     "output_type": "stream",
     "text": [
      "The roc_auc_score for the Reduced feature training set using the best Light Gbm classifier is  0.8252509438369647\n"
     ]
    }
   ],
   "source": [
    "# Calculating the Reduced feature training set roc_auc score using the best study parameters\n",
    "cal_roc_auc(X_train_red, y_train, lgb_red, 'Reduced feature', 'training', 'Light Gbm')"
   ]
  },
  {
   "cell_type": "code",
   "execution_count": 31,
   "metadata": {},
   "outputs": [
    {
     "name": "stdout",
     "output_type": "stream",
     "text": [
      "The roc_auc_score for the Reduced feature test set using the best Light Gbm classifier is  0.817919919571678\n"
     ]
    }
   ],
   "source": [
    "# Calculating the Reduced feature test set roc_auc score using the best study parameters\n",
    "cal_roc_auc(X_test_red, y_test, lgb_red, 'Reduced feature', 'test','Light Gbm')"
   ]
  },
  {
   "cell_type": "code",
   "execution_count": 32,
   "metadata": {},
   "outputs": [
    {
     "data": {
      "text/plain": [
       "['Light_Gbm_Reduced.joblib']"
      ]
     },
     "execution_count": 32,
     "metadata": {},
     "output_type": "execute_result"
    }
   ],
   "source": [
    "# Saving the Reduced feature set best Light Gbm Classifier \n",
    "joblib.dump(lgb_red,'Light_Gbm_Reduced.joblib')"
   ]
  },
  {
   "cell_type": "markdown",
   "metadata": {},
   "source": [
    "### Calculating R_R ratio for best Light GBM Classifier trained on reduced feature training set."
   ]
  },
  {
   "cell_type": "code",
   "execution_count": 7,
   "metadata": {},
   "outputs": [],
   "source": [
    "# Loading the best Light GBM  Classifier model\n",
    "import joblib\n",
    "lgb_red = joblib.load('Light_Gbm_Reduced.joblib')"
   ]
  },
  {
   "cell_type": "code",
   "execution_count": 8,
   "metadata": {},
   "outputs": [],
   "source": [
    "# Instantiating the Stratified fold object\n",
    "cv_strat = StratifiedKFold(10,random_state=42)"
   ]
  },
  {
   "cell_type": "code",
   "execution_count": 9,
   "metadata": {},
   "outputs": [],
   "source": [
    "# Computing the CV scores using sklearn's cross_val_score\n",
    "score_Light_Gbm = cross_val_score(lgb_red, X_train_red, y_train, cv=cv_strat, n_jobs=5, scoring='roc_auc')"
   ]
  },
  {
   "cell_type": "code",
   "execution_count": 10,
   "metadata": {},
   "outputs": [
    {
     "name": "stdout",
     "output_type": "stream",
     "text": [
      "The reward associated with the best Light GMB Classifier using roc_auc metric is:  0.8011102893824955\n"
     ]
    }
   ],
   "source": [
    "print('The reward associated with the best Light GMB Classifier using roc_auc metric is: ',np.mean(score_Light_Gbm))"
   ]
  },
  {
   "cell_type": "code",
   "execution_count": 11,
   "metadata": {},
   "outputs": [
    {
     "name": "stdout",
     "output_type": "stream",
     "text": [
      "The risk associated with the best Light GMB Classifier using roc_auc metric is:  0.017550265534215327\n"
     ]
    }
   ],
   "source": [
    "print('The risk associated with the best Light GMB Classifier using roc_auc metric is: ',np.std(score_Light_Gbm))"
   ]
  },
  {
   "cell_type": "code",
   "execution_count": 12,
   "metadata": {},
   "outputs": [],
   "source": [
    "R_R_Ratio_Light_Gbm = np.mean(score_Light_Gbm)/np.std(score_Light_Gbm)"
   ]
  },
  {
   "cell_type": "code",
   "execution_count": 13,
   "metadata": {},
   "outputs": [
    {
     "name": "stdout",
     "output_type": "stream",
     "text": [
      "The reward risk ratio for the best Light Gbm Classifier using roc_auc metric is:  45.64661929591216\n"
     ]
    }
   ],
   "source": [
    "print('The reward risk ratio for the best Light Gbm Classifier using roc_auc metric is: ',R_R_Ratio_Light_Gbm)"
   ]
  },
  {
   "cell_type": "markdown",
   "metadata": {},
   "source": [
    "#### The R_R Ratio for the best Light Gbm classifier, trained on reduced feature training set, using roc_auc score is:  45.64661929591216"
   ]
  },
  {
   "cell_type": "markdown",
   "metadata": {},
   "source": [
    "## Observations:\n",
    "### 1) From the above analysis we can clearly see that reduced feature test set roc_auc score is more than full feature roc_auc score , thereby clearly substantiating  the presence of noisy predictors in the feature set , _as has been observed before._\n",
    "### 2) The Light Gbm classifier has beautifully fitted the dataset with no indications of overfitting and of all the classifiers tested till now , has given the best test set roc_auc score. May be xgboost tested next may beat that.\n",
    "### 3) The Light Gbm has poorer R_R ratio as compared to those of Tree based bagging classifiers, indicating too much roc_auc variability across CV folds.\n",
    "### 4) Surprisingly R_R ratio for the Light GBM model is on the lower side of the spectrum.\n"
   ]
  },
  {
   "cell_type": "markdown",
   "metadata": {},
   "source": [
    "## Model_7: XGboost Classifier with Tuned Hyperparameters using Optuna."
   ]
  },
  {
   "cell_type": "code",
   "execution_count": 6,
   "metadata": {},
   "outputs": [],
   "source": [
    "# Importing Xgboost Classifier\n",
    "import xgboost as xgb"
   ]
  },
  {
   "cell_type": "code",
   "execution_count": 7,
   "metadata": {},
   "outputs": [],
   "source": [
    "# Computing the ratio of -ve to +ve classes. Note here class_weight is a series and should be converted to float value\n",
    "# using float() to be used as a sclar inside xgboost. \n",
    "class_weight = float((y_train==0).sum()/(y_train==1).sum())"
   ]
  },
  {
   "cell_type": "code",
   "execution_count": 8,
   "metadata": {},
   "outputs": [],
   "source": [
    "# Defining the appropriate objective function for the XGboost classifier\n",
    "\n",
    "def objective_wrappper_xgb(X_tr, y_tr, cls=None, cv=None):\n",
    "    '''\n",
    "    Optimizes classifier's cls (Xgboost here) parameters on the given training set X_tr,y_tr\n",
    "    using cv_strat cross-validation object\n",
    "    \n",
    "    '''\n",
    "    \n",
    "    # Initializing the K Fold object\n",
    "    cv_strat = StratifiedKFold(cv, random_state=42)\n",
    "    \n",
    "    def objective(trial):\n",
    "        params = {\n",
    "        'n_estimators': trial.suggest_int('n_estimators', 10, 1500),\n",
    "        'reg_alpha': trial.suggest_uniform('reg_alpha', 0, 10),\n",
    "        'reg_lambda': trial.suggest_uniform('reg_lambda', 0, 10),\n",
    "        'max_delta_step': trial.suggest_int('max_delta_step', 0, 10),\n",
    "        'max_depth': trial.suggest_int('max_depth', 2, 100),\n",
    "        'colsample_bytree': trial.suggest_uniform('colsample_bytree', 0.6, 1.0),\n",
    "        'learning_rate': trial.suggest_loguniform('learning_rate', 1e-3, 1e-1)\n",
    "        }\n",
    "        cls.set_params(**params)#Initializing the model with the parameters \n",
    "    \n",
    "        return np.mean(cross_val_score(cls, X_tr, y_tr, cv=cv_strat, n_jobs=5, scoring='roc_auc'))  \n",
    "    return objective"
   ]
  },
  {
   "cell_type": "code",
   "execution_count": 9,
   "metadata": {},
   "outputs": [],
   "source": [
    "# Defining the evaluation function for study's best parameters\n",
    "def train_test_roc_auc(X_tr, y_tr, cls, obj_func, cv=None, n_trials=100):\n",
    "    ''' Computes the best hyper parameters of the classsifier on the Training set and returns \n",
    "    Optuna's study's best score & clasifier parameters'''\n",
    "    study = optuna.create_study(direction='maximize')\n",
    "    study.optimize(obj_func(X_tr, y_tr, cls, cv), n_trials)\n",
    "    best_score = study.best_value\n",
    "    best_params = study.best_params\n",
    "    return (best_score,best_params)\n"
   ]
  },
  {
   "cell_type": "code",
   "execution_count": 10,
   "metadata": {},
   "outputs": [],
   "source": [
    "# Instantiating the xgboost classifier  \n",
    "xgb_s = xgb.XGBClassifier(random_state=42,n_jobs=5,objective='binary:logistic',scale_pos_weight=class_weight)"
   ]
  },
  {
   "cell_type": "markdown",
   "metadata": {},
   "source": [
    "#### Computing the best hyperparameters for the  XGboost Classifier using Reduced feature Training Set."
   ]
  },
  {
   "cell_type": "code",
   "execution_count": 12,
   "metadata": {},
   "outputs": [],
   "source": [
    "# Importing Optuna \n",
    "import optuna"
   ]
  },
  {
   "cell_type": "code",
   "execution_count": 13,
   "metadata": {},
   "outputs": [
    {
     "name": "stderr",
     "output_type": "stream",
     "text": [
      "[I 2020-10-02 19:58:32,453] A new study created in memory with name: no-name-448d6adc-a682-4bf6-8b50-1a6883a9bf0a\n",
      "[I 2020-10-02 19:58:45,569] Trial 0 finished with value: 0.7906373117466294 and parameters: {'n_estimators': 89, 'reg_alpha': 4.869778689168298, 'reg_lambda': 1.366968329714442, 'max_delta_step': 10, 'max_depth': 79, 'colsample_bytree': 0.6727252252434838, 'learning_rate': 0.022210275426501884}. Best is trial 0 with value: 0.7906373117466294.\n",
      "[I 2020-10-02 19:58:51,032] Trial 1 finished with value: 0.7918439806633935 and parameters: {'n_estimators': 41, 'reg_alpha': 3.6629355626333195, 'reg_lambda': 6.391123981313559, 'max_delta_step': 5, 'max_depth': 76, 'colsample_bytree': 0.6559805066904831, 'learning_rate': 0.03339776941165402}. Best is trial 1 with value: 0.7918439806633935.\n",
      "[I 2020-10-02 19:59:21,955] Trial 2 finished with value: 0.7923639516372817 and parameters: {'n_estimators': 1382, 'reg_alpha': 5.982587624038166, 'reg_lambda': 0.9553581315736037, 'max_delta_step': 1, 'max_depth': 3, 'colsample_bytree': 0.8202640317660062, 'learning_rate': 0.0029367220256258752}. Best is trial 2 with value: 0.7923639516372817.\n",
      "[I 2020-10-02 20:01:58,026] Trial 3 finished with value: 0.7781961009617268 and parameters: {'n_estimators': 920, 'reg_alpha': 9.450778163215682, 'reg_lambda': 1.320727394929302, 'max_delta_step': 2, 'max_depth': 24, 'colsample_bytree': 0.8584864432484789, 'learning_rate': 0.01114911836976505}. Best is trial 2 with value: 0.7923639516372817.\n",
      "[I 2020-10-02 20:04:01,734] Trial 4 finished with value: 0.7562752971864304 and parameters: {'n_estimators': 1036, 'reg_alpha': 2.3970948505591605, 'reg_lambda': 2.871536285654975, 'max_delta_step': 6, 'max_depth': 13, 'colsample_bytree': 0.9472096503966934, 'learning_rate': 0.01836048732479826}. Best is trial 2 with value: 0.7923639516372817.\n",
      "[I 2020-10-02 20:05:54,212] Trial 5 finished with value: 0.7886155865657589 and parameters: {'n_estimators': 1324, 'reg_alpha': 1.1598842715358526, 'reg_lambda': 7.894107460064237, 'max_delta_step': 6, 'max_depth': 12, 'colsample_bytree': 0.6595844223584432, 'learning_rate': 0.004396683682897773}. Best is trial 2 with value: 0.7923639516372817.\n",
      "[I 2020-10-02 20:09:11,455] Trial 6 finished with value: 0.7928175674195848 and parameters: {'n_estimators': 1375, 'reg_alpha': 9.444457158382294, 'reg_lambda': 7.75618660508446, 'max_delta_step': 3, 'max_depth': 49, 'colsample_bytree': 0.7428900078734766, 'learning_rate': 0.0023375226863097606}. Best is trial 6 with value: 0.7928175674195848.\n",
      "[I 2020-10-02 20:13:47,346] Trial 7 finished with value: 0.7630404740149729 and parameters: {'n_estimators': 1006, 'reg_alpha': 0.43602197841441925, 'reg_lambda': 9.376637589467785, 'max_delta_step': 3, 'max_depth': 85, 'colsample_bytree': 0.9305965459574975, 'learning_rate': 0.018325985487840583}. Best is trial 6 with value: 0.7928175674195848.\n",
      "[I 2020-10-02 20:15:56,666] Trial 8 finished with value: 0.7870737555280554 and parameters: {'n_estimators': 613, 'reg_alpha': 7.499587412479486, 'reg_lambda': 1.58863748655244, 'max_delta_step': 10, 'max_depth': 69, 'colsample_bytree': 0.9606114637989908, 'learning_rate': 0.0016837395348138818}. Best is trial 6 with value: 0.7928175674195848.\n",
      "[I 2020-10-02 20:16:34,333] Trial 9 finished with value: 0.7833960663297598 and parameters: {'n_estimators': 189, 'reg_alpha': 7.309938407744133, 'reg_lambda': 5.3361325475819275, 'max_delta_step': 4, 'max_depth': 46, 'colsample_bytree': 0.8665501575766038, 'learning_rate': 0.030169145266271433}. Best is trial 6 with value: 0.7928175674195848.\n",
      "[I 2020-10-02 20:17:31,652] Trial 10 finished with value: 0.797200888208653 and parameters: {'n_estimators': 483, 'reg_alpha': 9.808175943377046, 'reg_lambda': 9.63229995956968, 'max_delta_step': 0, 'max_depth': 44, 'colsample_bytree': 0.7405856344875817, 'learning_rate': 0.0014708942092645752}. Best is trial 10 with value: 0.797200888208653.\n",
      "[I 2020-10-02 20:18:27,159] Trial 11 finished with value: 0.7974973718742143 and parameters: {'n_estimators': 477, 'reg_alpha': 9.941107517195013, 'reg_lambda': 9.493833022623358, 'max_delta_step': 0, 'max_depth': 38, 'colsample_bytree': 0.7407926816169961, 'learning_rate': 0.0011165718668398805}. Best is trial 11 with value: 0.7974973718742143.\n",
      "[I 2020-10-02 20:19:26,623] Trial 12 finished with value: 0.7707277230439714 and parameters: {'n_estimators': 444, 'reg_alpha': 9.905545713981642, 'reg_lambda': 9.925060649727016, 'max_delta_step': 0, 'max_depth': 32, 'colsample_bytree': 0.739710342211975, 'learning_rate': 0.08367431438513302}. Best is trial 11 with value: 0.7974973718742143.\n",
      "[I 2020-10-02 20:20:13,873] Trial 13 finished with value: 0.7973389635336151 and parameters: {'n_estimators': 364, 'reg_alpha': 8.214122026274746, 'reg_lambda': 9.962738708998572, 'max_delta_step': 0, 'max_depth': 61, 'colsample_bytree': 0.7304010975077965, 'learning_rate': 0.0010752864629315004}. Best is trial 11 with value: 0.7974973718742143.\n",
      "[I 2020-10-02 20:20:54,155] Trial 14 finished with value: 0.7970070546729794 and parameters: {'n_estimators': 345, 'reg_alpha': 7.997768236968491, 'reg_lambda': 8.210964419246679, 'max_delta_step': 0, 'max_depth': 63, 'colsample_bytree': 0.6017595672654692, 'learning_rate': 0.005015549372523878}. Best is trial 11 with value: 0.7974973718742143.\n",
      "[I 2020-10-02 20:22:42,676] Trial 15 finished with value: 0.7941159703236389 and parameters: {'n_estimators': 681, 'reg_alpha': 8.413657737087068, 'reg_lambda': 3.783875070589218, 'max_delta_step': 8, 'max_depth': 99, 'colsample_bytree': 0.7838090065014662, 'learning_rate': 0.0012598837450705945}. Best is trial 11 with value: 0.7974973718742143.\n",
      "[I 2020-10-02 20:23:18,023] Trial 16 finished with value: 0.792582972060798 and parameters: {'n_estimators': 279, 'reg_alpha': 6.30204578052539, 'reg_lambda': 6.715112681723459, 'max_delta_step': 1, 'max_depth': 58, 'colsample_bytree': 0.6926782906226635, 'learning_rate': 0.0010256389084569422}. Best is trial 11 with value: 0.7974973718742143.\n",
      "[I 2020-10-02 20:25:02,761] Trial 17 finished with value: 0.7916514371988488 and parameters: {'n_estimators': 776, 'reg_alpha': 8.613235210202339, 'reg_lambda': 8.918344935311167, 'max_delta_step': 2, 'max_depth': 34, 'colsample_bytree': 0.6226304558939835, 'learning_rate': 0.006249968873830202}. Best is trial 11 with value: 0.7974973718742143.\n",
      "[I 2020-10-02 20:26:26,898] Trial 18 finished with value: 0.7942664395889983 and parameters: {'n_estimators': 525, 'reg_alpha': 6.581957665385898, 'reg_lambda': 6.080913701760832, 'max_delta_step': 1, 'max_depth': 36, 'colsample_bytree': 0.786301839031836, 'learning_rate': 0.0010228911355761425}. Best is trial 11 with value: 0.7974973718742143.\n",
      "[I 2020-10-02 20:28:36,633] Trial 19 finished with value: 0.792598906142256 and parameters: {'n_estimators': 801, 'reg_alpha': 4.972434380451682, 'reg_lambda': 8.451898317232743, 'max_delta_step': 8, 'max_depth': 58, 'colsample_bytree': 0.7130873287071123, 'learning_rate': 0.002446224290581396}. Best is trial 11 with value: 0.7974973718742143.\n",
      "[I 2020-10-02 20:29:37,767] Trial 20 finished with value: 0.791585273878163 and parameters: {'n_estimators': 329, 'reg_alpha': 8.90882240336703, 'reg_lambda': 7.294888415988008, 'max_delta_step': 2, 'max_depth': 88, 'colsample_bytree': 0.8388683867356587, 'learning_rate': 0.008520071428003791}. Best is trial 11 with value: 0.7974973718742143.\n",
      "[I 2020-10-02 20:30:43,064] Trial 21 finished with value: 0.7965738692602492 and parameters: {'n_estimators': 482, 'reg_alpha': 9.567655896386036, 'reg_lambda': 9.540869988453464, 'max_delta_step': 0, 'max_depth': 39, 'colsample_bytree': 0.7501932541703293, 'learning_rate': 0.001596289370852713}. Best is trial 11 with value: 0.7974973718742143.\n",
      "[I 2020-10-02 20:31:08,220] Trial 22 finished with value: 0.797824205043666 and parameters: {'n_estimators': 214, 'reg_alpha': 9.487214982057907, 'reg_lambda': 9.95531566368204, 'max_delta_step': 0, 'max_depth': 53, 'colsample_bytree': 0.720963491014876, 'learning_rate': 0.0015244606235052588}. Best is trial 22 with value: 0.797824205043666.\n",
      "[I 2020-10-02 20:31:30,741] Trial 23 finished with value: 0.79726982234104 and parameters: {'n_estimators': 187, 'reg_alpha': 9.93535972210738, 'reg_lambda': 9.981978373502399, 'max_delta_step': 1, 'max_depth': 55, 'colsample_bytree': 0.7006192076224131, 'learning_rate': 0.003302738938480751}. Best is trial 22 with value: 0.797824205043666.\n",
      "[I 2020-10-02 20:31:33,610] Trial 24 finished with value: 0.794731254282472 and parameters: {'n_estimators': 18, 'reg_alpha': 7.3406253724343085, 'reg_lambda': 8.848399684730182, 'max_delta_step': 0, 'max_depth': 67, 'colsample_bytree': 0.7763880845622905, 'learning_rate': 0.0010312426187722246}. Best is trial 22 with value: 0.797824205043666.\n",
      "[I 2020-10-02 20:31:51,999] Trial 25 finished with value: 0.7981546484121915 and parameters: {'n_estimators': 175, 'reg_alpha': 8.737932314742121, 'reg_lambda': 8.870808572253175, 'max_delta_step': 3, 'max_depth': 28, 'colsample_bytree': 0.628536889495308, 'learning_rate': 0.001953306962566913}. Best is trial 25 with value: 0.7981546484121915.\n",
      "[I 2020-10-02 20:32:09,098] Trial 26 finished with value: 0.7980326614649884 and parameters: {'n_estimators': 162, 'reg_alpha': 8.819133985258423, 'reg_lambda': 7.276078062351509, 'max_delta_step': 3, 'max_depth': 25, 'colsample_bytree': 0.6366293314922293, 'learning_rate': 0.0020289246310099826}. Best is trial 25 with value: 0.7981546484121915.\n",
      "[I 2020-10-02 20:32:29,700] Trial 27 finished with value: 0.7983431640351506 and parameters: {'n_estimators': 206, 'reg_alpha': 8.990953520653607, 'reg_lambda': 7.062378769503498, 'max_delta_step': 4, 'max_depth': 22, 'colsample_bytree': 0.600293997087327, 'learning_rate': 0.00205211490183004}. Best is trial 27 with value: 0.7983431640351506.\n",
      "[I 2020-10-02 20:32:41,954] Trial 28 finished with value: 0.7976903275987922 and parameters: {'n_estimators': 105, 'reg_alpha': 6.6584166502767115, 'reg_lambda': 5.295202745192899, 'max_delta_step': 4, 'max_depth': 24, 'colsample_bytree': 0.6224356082576736, 'learning_rate': 0.001966741876241084}. Best is trial 27 with value: 0.7983431640351506.\n",
      "[I 2020-10-02 20:32:55,418] Trial 29 finished with value: 0.7979951031159922 and parameters: {'n_estimators': 117, 'reg_alpha': 5.644308553649987, 'reg_lambda': 7.033990401772529, 'max_delta_step': 4, 'max_depth': 24, 'colsample_bytree': 0.6012238420426469, 'learning_rate': 0.0036890365731428424}. Best is trial 27 with value: 0.7983431640351506.\n",
      "[I 2020-10-02 20:33:00,037] Trial 30 finished with value: 0.7979811464207693 and parameters: {'n_estimators': 48, 'reg_alpha': 4.118536764136896, 'reg_lambda': 4.4400554699592725, 'max_delta_step': 5, 'max_depth': 13, 'colsample_bytree': 0.6283647311304641, 'learning_rate': 0.002434990435026645}. Best is trial 27 with value: 0.7983431640351506.\n",
      "[I 2020-10-02 20:33:14,673] Trial 31 finished with value: 0.7979334930093398 and parameters: {'n_estimators': 127, 'reg_alpha': 5.554478190815459, 'reg_lambda': 7.118186621412362, 'max_delta_step': 4, 'max_depth': 24, 'colsample_bytree': 0.6003126579838144, 'learning_rate': 0.003503026167936069}. Best is trial 27 with value: 0.7983431640351506.\n",
      "[I 2020-10-02 20:33:15,294] Trial 32 finished with value: 0.7662429657022167 and parameters: {'n_estimators': 14, 'reg_alpha': 4.087679241953937, 'reg_lambda': 6.048576060998755, 'max_delta_step': 3, 'max_depth': 2, 'colsample_bytree': 0.645527707957343, 'learning_rate': 0.004081550361977602}. Best is trial 27 with value: 0.7983431640351506.\n",
      "[I 2020-10-02 20:33:41,381] Trial 33 finished with value: 0.7976519161804674 and parameters: {'n_estimators': 239, 'reg_alpha': 8.90642950607213, 'reg_lambda': 7.165948703891782, 'max_delta_step': 5, 'max_depth': 17, 'colsample_bytree': 0.6759293748052885, 'learning_rate': 0.0019936477156901698}. Best is trial 27 with value: 0.7983431640351506.\n",
      "[I 2020-10-02 20:33:58,040] Trial 34 finished with value: 0.7972297970054363 and parameters: {'n_estimators': 133, 'reg_alpha': 7.720536451182398, 'reg_lambda': 6.4248935271702, 'max_delta_step': 6, 'max_depth': 29, 'colsample_bytree': 0.642406344088994, 'learning_rate': 0.0066111559692630445}. Best is trial 27 with value: 0.7983431640351506.\n",
      "[I 2020-10-02 20:34:43,629] Trial 35 finished with value: 0.7955332580185381 and parameters: {'n_estimators': 373, 'reg_alpha': 2.1957356342120744, 'reg_lambda': 7.652989447252094, 'max_delta_step': 4, 'max_depth': 18, 'colsample_bytree': 0.6004098526445512, 'learning_rate': 0.0028537639795509937}. Best is trial 27 with value: 0.7983431640351506.\n",
      "[I 2020-10-02 20:34:47,990] Trial 36 finished with value: 0.7977234869352753 and parameters: {'n_estimators': 69, 'reg_alpha': 5.536556277906386, 'reg_lambda': 5.7269881655383195, 'max_delta_step': 3, 'max_depth': 8, 'colsample_bytree': 0.6727980788161865, 'learning_rate': 0.005686873699600934}. Best is trial 27 with value: 0.7983431640351506.\n",
      "[I 2020-10-02 20:37:58,446] Trial 37 finished with value: 0.7719031409077393 and parameters: {'n_estimators': 1190, 'reg_alpha': 3.060710556051586, 'reg_lambda': 8.554876532915472, 'max_delta_step': 5, 'max_depth': 27, 'colsample_bytree': 0.6153160822136781, 'learning_rate': 0.011840892634926508}. Best is trial 27 with value: 0.7983431640351506.\n",
      "[I 2020-10-02 20:38:29,783] Trial 38 finished with value: 0.7963684013208006 and parameters: {'n_estimators': 276, 'reg_alpha': 7.01197845361156, 'reg_lambda': 6.7957249067573855, 'max_delta_step': 6, 'max_depth': 19, 'colsample_bytree': 0.6571676289285091, 'learning_rate': 0.00403757519742644}. Best is trial 27 with value: 0.7983431640351506.\n",
      "[I 2020-10-02 20:38:37,253] Trial 39 finished with value: 0.7974224617516563 and parameters: {'n_estimators': 167, 'reg_alpha': 9.112772414956375, 'reg_lambda': 4.744491407397609, 'max_delta_step': 2, 'max_depth': 7, 'colsample_bytree': 0.6406534388100619, 'learning_rate': 0.0027944518297950798}. Best is trial 27 with value: 0.7983431640351506.\n",
      "[I 2020-10-02 20:39:37,637] Trial 40 finished with value: 0.7969605167767602 and parameters: {'n_estimators': 560, 'reg_alpha': 5.823274732703264, 'reg_lambda': 7.974145359448449, 'max_delta_step': 3, 'max_depth': 20, 'colsample_bytree': 0.6015975101505412, 'learning_rate': 0.0019158935569287424}. Best is trial 27 with value: 0.7983431640351506.\n",
      "[I 2020-10-02 20:39:38,953] Trial 41 finished with value: 0.795821896924564 and parameters: {'n_estimators': 12, 'reg_alpha': 4.074153953248299, 'reg_lambda': 4.589388353185713, 'max_delta_step': 4, 'max_depth': 12, 'colsample_bytree': 0.6374428327130561, 'learning_rate': 0.0023101937325763168}. Best is trial 27 with value: 0.7983431640351506.\n",
      "[I 2020-10-02 20:39:42,678] Trial 42 finished with value: 0.7964638120779692 and parameters: {'n_estimators': 97, 'reg_alpha': 4.543320774074753, 'reg_lambda': 3.197243610754538, 'max_delta_step': 6, 'max_depth': 6, 'colsample_bytree': 0.622227212765272, 'learning_rate': 0.0023394819179130347}. Best is trial 27 with value: 0.7983431640351506.\n",
      "[I 2020-10-02 20:39:45,164] Trial 43 finished with value: 0.7962730148421786 and parameters: {'n_estimators': 21, 'reg_alpha': 3.2194310916633007, 'reg_lambda': 4.09373235315475, 'max_delta_step': 5, 'max_depth': 14, 'colsample_bytree': 0.6808921383075381, 'learning_rate': 0.001349482063168473}. Best is trial 27 with value: 0.7983431640351506.\n",
      "[I 2020-10-02 20:40:29,446] Trial 44 finished with value: 0.7914607427071015 and parameters: {'n_estimators': 270, 'reg_alpha': 1.9463774308421415, 'reg_lambda': 2.5655351857092907, 'max_delta_step': 7, 'max_depth': 42, 'colsample_bytree': 0.654708884430797, 'learning_rate': 0.0032031761051067053}. Best is trial 27 with value: 0.7983431640351506.\n",
      "[I 2020-10-02 20:41:52,126] Trial 45 finished with value: 0.7898905006602208 and parameters: {'n_estimators': 412, 'reg_alpha': 4.561021966913252, 'reg_lambda': 7.625090121769472, 'max_delta_step': 4, 'max_depth': 30, 'colsample_bytree': 0.9115648464383563, 'learning_rate': 0.0017171287754224145}. Best is trial 27 with value: 0.7983431640351506.\n"
     ]
    },
    {
     "name": "stderr",
     "output_type": "stream",
     "text": [
      "[I 2020-10-02 20:42:01,225] Trial 46 finished with value: 0.7953670010112106 and parameters: {'n_estimators': 66, 'reg_alpha': 2.967692133740577, 'reg_lambda': 5.565006043237665, 'max_delta_step': 3, 'max_depth': 23, 'colsample_bytree': 0.6162402308788631, 'learning_rate': 0.0026670178556532746}. Best is trial 27 with value: 0.7983431640351506.\n",
      "[I 2020-10-02 20:43:31,005] Trial 47 finished with value: 0.7616160536604778 and parameters: {'n_estimators': 1494, 'reg_alpha': 7.833218141299979, 'reg_lambda': 4.226511967562574, 'max_delta_step': 2, 'max_depth': 15, 'colsample_bytree': 0.661941266703873, 'learning_rate': 0.08553840743113823}. Best is trial 27 with value: 0.7983431640351506.\n",
      "[I 2020-10-02 20:43:40,581] Trial 48 finished with value: 0.7986154934016285 and parameters: {'n_estimators': 157, 'reg_alpha': 8.206957603661671, 'reg_lambda': 5.07345131563363, 'max_delta_step': 3, 'max_depth': 9, 'colsample_bytree': 0.6281009852485614, 'learning_rate': 0.004637770285642403}. Best is trial 48 with value: 0.7986154934016285.\n",
      "[I 2020-10-02 20:44:18,622] Trial 49 finished with value: 0.796561526387355 and parameters: {'n_estimators': 320, 'reg_alpha': 8.628530721075611, 'reg_lambda': 9.060303948975292, 'max_delta_step': 3, 'max_depth': 28, 'colsample_bytree': 0.6024721885566211, 'learning_rate': 0.007571190803871816}. Best is trial 48 with value: 0.7986154934016285.\n",
      "[I 2020-10-02 20:44:42,046] Trial 50 finished with value: 0.796404300496463 and parameters: {'n_estimators': 177, 'reg_alpha': 9.281670820482372, 'reg_lambda': 0.14924423549687393, 'max_delta_step': 4, 'max_depth': 49, 'colsample_bytree': 0.6867435198123599, 'learning_rate': 0.0049231309885952364}. Best is trial 48 with value: 0.7986154934016285.\n",
      "[I 2020-10-02 20:44:57,446] Trial 51 finished with value: 0.7985266250739727 and parameters: {'n_estimators': 228, 'reg_alpha': 8.236388795634397, 'reg_lambda': 4.973232368034058, 'max_delta_step': 5, 'max_depth': 10, 'colsample_bytree': 0.6318936360878399, 'learning_rate': 0.0035810379340825466}. Best is trial 48 with value: 0.7986154934016285.\n",
      "[I 2020-10-02 20:45:02,448] Trial 52 finished with value: 0.7872850386954485 and parameters: {'n_estimators': 224, 'reg_alpha': 8.098904332023404, 'reg_lambda': 6.3597892973920835, 'max_delta_step': 4, 'max_depth': 3, 'colsample_bytree': 0.6112327783997786, 'learning_rate': 0.0036276833373122537}. Best is trial 48 with value: 0.7986154934016285.\n",
      "[I 2020-10-02 20:45:09,359] Trial 53 finished with value: 0.7984137315951776 and parameters: {'n_estimators': 128, 'reg_alpha': 8.40599492486872, 'reg_lambda': 5.327579857229006, 'max_delta_step': 3, 'max_depth': 8, 'colsample_bytree': 0.6372419118557165, 'learning_rate': 0.004916452306458823}. Best is trial 48 with value: 0.7986154934016285.\n",
      "[I 2020-10-02 20:45:30,361] Trial 54 finished with value: 0.7968639841952925 and parameters: {'n_estimators': 297, 'reg_alpha': 8.382877350193834, 'reg_lambda': 4.9873091806471885, 'max_delta_step': 2, 'max_depth': 10, 'colsample_bytree': 0.6628440135524676, 'learning_rate': 0.013897726097314194}. Best is trial 48 with value: 0.7986154934016285.\n",
      "[I 2020-10-02 20:45:43,650] Trial 55 finished with value: 0.7965101087045314 and parameters: {'n_estimators': 376, 'reg_alpha': 8.768875184551113, 'reg_lambda': 5.00307284458206, 'max_delta_step': 3, 'max_depth': 5, 'colsample_bytree': 0.7038315251081091, 'learning_rate': 0.00487292403544341}. Best is trial 48 with value: 0.7986154934016285.\n",
      "[I 2020-10-02 20:45:54,122] Trial 56 finished with value: 0.7901606159536704 and parameters: {'n_estimators': 170, 'reg_alpha': 7.5573615848009466, 'reg_lambda': 3.631476530113209, 'max_delta_step': 2, 'max_depth': 9, 'colsample_bytree': 0.6333432643333863, 'learning_rate': 0.05788681627227594}. Best is trial 48 with value: 0.7986154934016285.\n",
      "[I 2020-10-02 20:46:27,451] Trial 57 finished with value: 0.7944314688256249 and parameters: {'n_estimators': 249, 'reg_alpha': 7.1107353043923265, 'reg_lambda': 5.9533168973018515, 'max_delta_step': 3, 'max_depth': 21, 'colsample_bytree': 0.6460036604838715, 'learning_rate': 0.00841630817546312}. Best is trial 48 with value: 0.7986154934016285.\n",
      "[I 2020-10-02 20:47:22,435] Trial 58 finished with value: 0.7957188847414925 and parameters: {'n_estimators': 402, 'reg_alpha': 8.44102607331273, 'reg_lambda': 5.239947462504293, 'max_delta_step': 1, 'max_depth': 34, 'colsample_bytree': 0.6713185534332851, 'learning_rate': 0.004402075830907626}. Best is trial 48 with value: 0.7986154934016285.\n",
      "[I 2020-10-02 20:47:42,430] Trial 59 finished with value: 0.7981776523461913 and parameters: {'n_estimators': 208, 'reg_alpha': 9.657932012079645, 'reg_lambda': 2.2730969955939417, 'max_delta_step': 5, 'max_depth': 16, 'colsample_bytree': 0.6264351425079128, 'learning_rate': 0.0011962340493357957}. Best is trial 48 with value: 0.7986154934016285.\n",
      "[I 2020-10-02 20:47:56,401] Trial 60 finished with value: 0.782363601204656 and parameters: {'n_estimators': 851, 'reg_alpha': 9.690580670308716, 'reg_lambda': 1.3575001183089128, 'max_delta_step': 5, 'max_depth': 2, 'colsample_bytree': 0.6130034672769782, 'learning_rate': 0.0012602359943360843}. Best is trial 48 with value: 0.7986154934016285.\n",
      "[I 2020-10-02 20:48:10,651] Trial 61 finished with value: 0.7982760717883906 and parameters: {'n_estimators': 151, 'reg_alpha': 9.101552907376723, 'reg_lambda': 2.0806006550435736, 'max_delta_step': 6, 'max_depth': 15, 'colsample_bytree': 0.6311805321232531, 'learning_rate': 0.0019929875286970426}. Best is trial 48 with value: 0.7986154934016285.\n",
      "[I 2020-10-02 20:48:30,830] Trial 62 finished with value: 0.798222178123633 and parameters: {'n_estimators': 221, 'reg_alpha': 9.05784669103768, 'reg_lambda': 2.000617515830824, 'max_delta_step': 7, 'max_depth': 14, 'colsample_bytree': 0.6288174624381581, 'learning_rate': 0.0017529920818066624}. Best is trial 48 with value: 0.7986154934016285.\n",
      "[I 2020-10-02 20:49:00,481] Trial 63 finished with value: 0.7982099005234414 and parameters: {'n_estimators': 298, 'reg_alpha': 9.34313404053898, 'reg_lambda': 2.0109970192177653, 'max_delta_step': 7, 'max_depth': 15, 'colsample_bytree': 0.6521162530591471, 'learning_rate': 0.0017000900763928814}. Best is trial 48 with value: 0.7986154934016285.\n",
      "[I 2020-10-02 20:49:20,402] Trial 64 finished with value: 0.7981689441803235 and parameters: {'n_estimators': 287, 'reg_alpha': 9.14546918408434, 'reg_lambda': 2.0136787811354546, 'max_delta_step': 7, 'max_depth': 10, 'colsample_bytree': 0.653958060047802, 'learning_rate': 0.0014663541484751961}. Best is trial 48 with value: 0.7986154934016285.\n",
      "[I 2020-10-02 20:50:01,554] Trial 65 finished with value: 0.7975168884356185 and parameters: {'n_estimators': 451, 'reg_alpha': 8.097228950837632, 'reg_lambda': 0.45149777883383635, 'max_delta_step': 7, 'max_depth': 12, 'colsample_bytree': 0.6957116017300469, 'learning_rate': 0.0016934958592492591}. Best is trial 48 with value: 0.7986154934016285.\n",
      "[I 2020-10-02 20:50:16,561] Trial 66 finished with value: 0.7932841107819957 and parameters: {'n_estimators': 338, 'reg_alpha': 9.335516433254595, 'reg_lambda': 3.1588499635621776, 'max_delta_step': 7, 'max_depth': 5, 'colsample_bytree': 0.9936820312061003, 'learning_rate': 0.0029877343224138805}. Best is trial 48 with value: 0.7986154934016285.\n",
      "[I 2020-10-02 20:51:36,908] Trial 67 finished with value: 0.7917670887158569 and parameters: {'n_estimators': 675, 'reg_alpha': 9.975566886953965, 'reg_lambda': 1.0479419287480214, 'max_delta_step': 9, 'max_depth': 16, 'colsample_bytree': 0.667397103893975, 'learning_rate': 0.00595524481648838}. Best is trial 48 with value: 0.7986154934016285.\n",
      "[I 2020-10-02 20:51:49,601] Trial 68 finished with value: 0.7955671419424123 and parameters: {'n_estimators': 89, 'reg_alpha': 8.363241655588359, 'reg_lambda': 2.15496763885895, 'max_delta_step': 8, 'max_depth': 21, 'colsample_bytree': 0.7576662786962967, 'learning_rate': 0.0021526715955282423}. Best is trial 48 with value: 0.7986154934016285.\n",
      "[I 2020-10-02 20:52:08,415] Trial 69 finished with value: 0.7979948292208358 and parameters: {'n_estimators': 221, 'reg_alpha': 9.12380167392277, 'reg_lambda': 1.7657373772461056, 'max_delta_step': 6, 'max_depth': 12, 'colsample_bytree': 0.6504705574102911, 'learning_rate': 0.002627495403082047}. Best is trial 48 with value: 0.7986154934016285.\n",
      "[I 2020-10-02 20:52:11,609] Trial 70 finished with value: 0.7869058093647263 and parameters: {'n_estimators': 146, 'reg_alpha': 7.9834058120679074, 'reg_lambda': 2.775435033526666, 'max_delta_step': 8, 'max_depth': 3, 'colsample_bytree': 0.6076604301820798, 'learning_rate': 0.0018057125212959328}. Best is trial 48 with value: 0.7986154934016285.\n",
      "[I 2020-10-02 20:52:32,362] Trial 71 finished with value: 0.798111676224865 and parameters: {'n_estimators': 213, 'reg_alpha': 9.55636038663606, 'reg_lambda': 2.5381625011060107, 'max_delta_step': 6, 'max_depth': 16, 'colsample_bytree': 0.6296917060310038, 'learning_rate': 0.0012552006455097196}. Best is trial 48 with value: 0.7986154934016285.\n",
      "[I 2020-10-02 20:52:40,324] Trial 72 finished with value: 0.7980956431288638 and parameters: {'n_estimators': 118, 'reg_alpha': 9.859641067003482, 'reg_lambda': 2.1843794015839313, 'max_delta_step': 7, 'max_depth': 10, 'colsample_bytree': 0.6225739547586655, 'learning_rate': 0.0015023800787575974}. Best is trial 48 with value: 0.7986154934016285.\n",
      "[I 2020-10-02 20:53:06,290] Trial 73 finished with value: 0.798247069774949 and parameters: {'n_estimators': 255, 'reg_alpha': 8.92304713305796, 'reg_lambda': 1.6627980620951512, 'max_delta_step': 5, 'max_depth': 17, 'colsample_bytree': 0.636496286200708, 'learning_rate': 0.0011124658035162193}. Best is trial 48 with value: 0.7986154934016285.\n",
      "[I 2020-10-02 20:53:40,662] Trial 74 finished with value: 0.7976936617954975 and parameters: {'n_estimators': 307, 'reg_alpha': 8.98260036855941, 'reg_lambda': 1.5276528960110545, 'max_delta_step': 6, 'max_depth': 19, 'colsample_bytree': 0.6410525170168195, 'learning_rate': 0.0010239592272109988}. Best is trial 48 with value: 0.7986154934016285.\n",
      "[I 2020-10-02 20:53:43,561] Trial 75 finished with value: 0.7965547435744418 and parameters: {'n_estimators': 55, 'reg_alpha': 8.543549181037516, 'reg_lambda': 1.0272268286485953, 'max_delta_step': 5, 'max_depth': 7, 'colsample_bytree': 0.6812691784095211, 'learning_rate': 0.003127498960368592}. Best is trial 48 with value: 0.7986154934016285.\n",
      "[I 2020-10-02 20:54:08,759] Trial 76 finished with value: 0.7963584165278764 and parameters: {'n_estimators': 253, 'reg_alpha': 7.700770505961743, 'reg_lambda': 0.5897278380631878, 'max_delta_step': 7, 'max_depth': 14, 'colsample_bytree': 0.6148580459501051, 'learning_rate': 0.006972071234934363}. Best is trial 48 with value: 0.7986154934016285.\n",
      "[I 2020-10-02 20:55:14,238] Trial 77 finished with value: 0.7950691200386633 and parameters: {'n_estimators': 535, 'reg_alpha': 9.364640763738073, 'reg_lambda': 1.8295852980765388, 'max_delta_step': 6, 'max_depth': 22, 'colsample_bytree': 0.6330913611941523, 'learning_rate': 0.004121001383296071}. Best is trial 48 with value: 0.7986154934016285.\n",
      "[I 2020-10-02 20:55:30,775] Trial 78 finished with value: 0.7974468369488731 and parameters: {'n_estimators': 150, 'reg_alpha': 8.214446078961464, 'reg_lambda': 3.485153672573853, 'max_delta_step': 5, 'max_depth': 18, 'colsample_bytree': 0.6472040275488088, 'learning_rate': 0.0022785713251480804}. Best is trial 48 with value: 0.7986154934016285.\n",
      "[I 2020-10-02 20:55:44,915] Trial 79 finished with value: 0.7934660712840171 and parameters: {'n_estimators': 360, 'reg_alpha': 8.905644631311544, 'reg_lambda': 3.105481156868312, 'max_delta_step': 4, 'max_depth': 5, 'colsample_bytree': 0.8101484239567294, 'learning_rate': 0.0014592216201446987}. Best is trial 48 with value: 0.7986154934016285.\n",
      "[I 2020-10-02 20:56:00,701] Trial 80 finished with value: 0.7894064266111714 and parameters: {'n_estimators': 82, 'reg_alpha': 7.457746381065066, 'reg_lambda': 0.6169055641821604, 'max_delta_step': 6, 'max_depth': 26, 'colsample_bytree': 0.8838857348599223, 'learning_rate': 0.005533799217026329}. Best is trial 48 with value: 0.7986154934016285.\n",
      "[I 2020-10-02 20:56:19,976] Trial 81 finished with value: 0.7981555883721345 and parameters: {'n_estimators': 207, 'reg_alpha': 9.62556874305302, 'reg_lambda': 2.485483769161844, 'max_delta_step': 5, 'max_depth': 15, 'colsample_bytree': 0.6219159600660166, 'learning_rate': 0.0011584985474488003}. Best is trial 48 with value: 0.7986154934016285.\n",
      "[I 2020-10-02 20:56:39,440] Trial 82 finished with value: 0.7982207932391596 and parameters: {'n_estimators': 242, 'reg_alpha': 8.657530345958019, 'reg_lambda': 2.291388495172961, 'max_delta_step': 5, 'max_depth': 12, 'colsample_bytree': 0.6297448719647802, 'learning_rate': 0.0011177261811281887}. Best is trial 48 with value: 0.7986154934016285.\n",
      "[I 2020-10-02 20:56:57,094] Trial 83 finished with value: 0.7986090081705068 and parameters: {'n_estimators': 246, 'reg_alpha': 8.63354747731499, 'reg_lambda': 1.8584858143567018, 'max_delta_step': 4, 'max_depth': 11, 'colsample_bytree': 0.6020913062397923, 'learning_rate': 0.0013653012354220132}. Best is trial 48 with value: 0.7986154934016285.\n",
      "[I 2020-10-02 20:57:15,890] Trial 84 finished with value: 0.7985035095852473 and parameters: {'n_estimators': 263, 'reg_alpha': 8.650566640078814, 'reg_lambda': 1.2823593081066118, 'max_delta_step': 4, 'max_depth': 11, 'colsample_bytree': 0.6072518713141757, 'learning_rate': 0.001009226956889638}. Best is trial 48 with value: 0.7986154934016285.\n",
      "[I 2020-10-02 20:57:22,740] Trial 85 finished with value: 0.7978477874853229 and parameters: {'n_estimators': 126, 'reg_alpha': 7.849821087862283, 'reg_lambda': 1.1500059657948505, 'max_delta_step': 4, 'max_depth': 8, 'colsample_bytree': 0.6003033924868435, 'learning_rate': 0.0013638967155011406}. Best is trial 48 with value: 0.7986154934016285.\n",
      "[I 2020-10-02 20:57:25,848] Trial 86 finished with value: 0.7802971026204621 and parameters: {'n_estimators': 184, 'reg_alpha': 8.213738888311282, 'reg_lambda': 0.7421847520414739, 'max_delta_step': 4, 'max_depth': 2, 'colsample_bytree': 0.6109904510617709, 'learning_rate': 0.0021492445961908005}. Best is trial 48 with value: 0.7986154934016285.\n",
      "[I 2020-10-02 20:57:52,968] Trial 87 finished with value: 0.7987110488802375 and parameters: {'n_estimators': 418, 'reg_alpha': 9.070096601925998, 'reg_lambda': 1.6925949137937386, 'max_delta_step': 4, 'max_depth': 10, 'colsample_bytree': 0.6032498165454596, 'learning_rate': 0.0010432633955173392}. Best is trial 87 with value: 0.7987110488802375.\n",
      "[I 2020-10-02 20:58:19,230] Trial 88 finished with value: 0.7988260240775197 and parameters: {'n_estimators': 399, 'reg_alpha': 6.7042499642767694, 'reg_lambda': 1.6397884899353632, 'max_delta_step': 4, 'max_depth': 10, 'colsample_bytree': 0.6021035309587672, 'learning_rate': 0.0010347179451983594}. Best is trial 88 with value: 0.7988260240775197.\n",
      "[I 2020-10-02 20:58:44,358] Trial 89 finished with value: 0.7973769729431158 and parameters: {'n_estimators': 426, 'reg_alpha': 7.154551023058467, 'reg_lambda': 1.3148242949117566, 'max_delta_step': 3, 'max_depth': 9, 'colsample_bytree': 0.6041186485762987, 'learning_rate': 0.01067764711175122}. Best is trial 88 with value: 0.7988260240775197.\n",
      "[I 2020-10-02 20:59:03,489] Trial 90 finished with value: 0.7973961139803043 and parameters: {'n_estimators': 590, 'reg_alpha': 6.732106213661969, 'reg_lambda': 5.4563731497328956, 'max_delta_step': 4, 'max_depth': 5, 'colsample_bytree': 0.618717631160525, 'learning_rate': 0.0037656005207747016}. Best is trial 88 with value: 0.7988260240775197.\n",
      "[I 2020-10-02 20:59:27,363] Trial 91 finished with value: 0.7987148602592111 and parameters: {'n_estimators': 334, 'reg_alpha': 8.71532853446565, 'reg_lambda': 1.4839655974553083, 'max_delta_step': 4, 'max_depth': 11, 'colsample_bytree': 0.6087003521999145, 'learning_rate': 0.00103673672064803}. Best is trial 88 with value: 0.7988260240775197.\n"
     ]
    },
    {
     "name": "stderr",
     "output_type": "stream",
     "text": [
      "[I 2020-10-02 21:00:02,508] Trial 92 finished with value: 0.7987912468168675 and parameters: {'n_estimators': 499, 'reg_alpha': 8.604906386470105, 'reg_lambda': 1.5399992925098314, 'max_delta_step': 4, 'max_depth': 11, 'colsample_bytree': 0.6071724786283873, 'learning_rate': 0.0010144473698035811}. Best is trial 88 with value: 0.7988260240775197.\n",
      "[I 2020-10-02 21:00:36,464] Trial 93 finished with value: 0.7988621489195012 and parameters: {'n_estimators': 501, 'reg_alpha': 8.41525434498203, 'reg_lambda': 0.25416519161264484, 'max_delta_step': 4, 'max_depth': 11, 'colsample_bytree': 0.6084241872329753, 'learning_rate': 0.0010220093439135254}. Best is trial 93 with value: 0.7988621489195012.\n",
      "[I 2020-10-02 21:01:12,042] Trial 94 finished with value: 0.7986862161715107 and parameters: {'n_estimators': 509, 'reg_alpha': 6.262994437238417, 'reg_lambda': 1.4525246703231158, 'max_delta_step': 4, 'max_depth': 11, 'colsample_bytree': 0.6000859259663488, 'learning_rate': 0.0010385300680889728}. Best is trial 93 with value: 0.7988621489195012.\n",
      "[I 2020-10-02 21:01:46,984] Trial 95 finished with value: 0.7987239323567469 and parameters: {'n_estimators': 502, 'reg_alpha': 6.328425388484638, 'reg_lambda': 0.09832418087772418, 'max_delta_step': 4, 'max_depth': 11, 'colsample_bytree': 0.6003052786043725, 'learning_rate': 0.0010354622799950293}. Best is trial 93 with value: 0.7988621489195012.\n",
      "[I 2020-10-02 21:02:08,467] Trial 96 finished with value: 0.7986258135418607 and parameters: {'n_estimators': 510, 'reg_alpha': 6.275324802751885, 'reg_lambda': 0.08767619828300968, 'max_delta_step': 4, 'max_depth': 7, 'colsample_bytree': 0.6007887831086293, 'learning_rate': 0.0010281712562029079}. Best is trial 93 with value: 0.7988621489195012.\n",
      "[I 2020-10-02 21:03:08,321] Trial 97 finished with value: 0.7968975673965644 and parameters: {'n_estimators': 516, 'reg_alpha': 6.311383073331591, 'reg_lambda': 0.20632219620621012, 'max_delta_step': 4, 'max_depth': 81, 'colsample_bytree': 0.600939028366393, 'learning_rate': 0.0010168144428461617}. Best is trial 93 with value: 0.7988621489195012.\n",
      "[I 2020-10-02 21:03:24,156] Trial 98 finished with value: 0.7927490332920676 and parameters: {'n_estimators': 649, 'reg_alpha': 5.208775118493376, 'reg_lambda': 0.003135424964797795, 'max_delta_step': 4, 'max_depth': 4, 'colsample_bytree': 0.608162331138003, 'learning_rate': 0.001317200738603912}. Best is trial 93 with value: 0.7988621489195012.\n",
      "[I 2020-10-02 21:03:41,150] Trial 99 finished with value: 0.7973296678729026 and parameters: {'n_estimators': 465, 'reg_alpha': 6.316217347127224, 'reg_lambda': 0.7994699490049357, 'max_delta_step': 3, 'max_depth': 6, 'colsample_bytree': 0.6176638682033601, 'learning_rate': 0.025703386470371528}. Best is trial 93 with value: 0.7988621489195012.\n"
     ]
    }
   ],
   "source": [
    "# Extracting the best model parameters and best study score\n",
    "best_study_score,best_study_params = train_test_roc_auc(X_train_red, y_train, xgb_s, objective_wrappper_xgb, cv=10)"
   ]
  },
  {
   "cell_type": "code",
   "execution_count": 14,
   "metadata": {},
   "outputs": [
    {
     "name": "stdout",
     "output_type": "stream",
     "text": [
      "The best roc_auc_score for the study is:  0.7988621489195012\n"
     ]
    }
   ],
   "source": [
    "print('The best roc_auc_score for the study is: ',best_study_score)"
   ]
  },
  {
   "cell_type": "code",
   "execution_count": 15,
   "metadata": {},
   "outputs": [
    {
     "name": "stdout",
     "output_type": "stream",
     "text": [
      "('The best study parameters for the classifier are: ', {'n_estimators': 501, 'reg_alpha': 8.41525434498203, 'reg_lambda': 0.25416519161264484, 'max_delta_step': 4, 'max_depth': 11, 'colsample_bytree': 0.6084241872329753, 'learning_rate': 0.0010220093439135254})\n"
     ]
    }
   ],
   "source": [
    "print(('The best study parameters for the classifier are: ',best_study_params))"
   ]
  },
  {
   "cell_type": "code",
   "execution_count": 16,
   "metadata": {},
   "outputs": [],
   "source": [
    "# Obtaining the best Reduced feature Xgboost model by setting best study parameters.\n",
    "xgb_red = xgb_s.set_params(**best_study_params)"
   ]
  },
  {
   "cell_type": "code",
   "execution_count": 17,
   "metadata": {},
   "outputs": [
    {
     "data": {
      "text/plain": [
       "XGBClassifier(colsample_bytree=0.6084241872329753,\n",
       "              learning_rate=0.0010220093439135254, max_delta_step=4,\n",
       "              max_depth=11, n_estimators=501, n_jobs=5, random_state=42,\n",
       "              reg_alpha=8.41525434498203, reg_lambda=0.25416519161264484,\n",
       "              scale_pos_weight=7.876616379310345)"
      ]
     },
     "execution_count": 17,
     "metadata": {},
     "output_type": "execute_result"
    }
   ],
   "source": [
    "# fitting the best Xgboost model on the Reduced feature training set\n",
    "xgb_red.fit(X_train_red, y_train)"
   ]
  },
  {
   "cell_type": "code",
   "execution_count": 20,
   "metadata": {},
   "outputs": [
    {
     "name": "stdout",
     "output_type": "stream",
     "text": [
      "The roc_auc_score for the Reduced feature training set using the best Xgboost classifier is  0.8384608606006355\n"
     ]
    }
   ],
   "source": [
    "# Calculating the Reduced feature training set roc_auc score using the best study parameters\n",
    "cal_roc_auc(X_train_red, y_train, xgb_red, 'Reduced feature', 'training', 'Xgboost')"
   ]
  },
  {
   "cell_type": "code",
   "execution_count": 21,
   "metadata": {},
   "outputs": [
    {
     "name": "stdout",
     "output_type": "stream",
     "text": [
      "The roc_auc_score for the Reduced feature test set using the best Xgboost classifier is  0.8171690734232746\n"
     ]
    }
   ],
   "source": [
    "# Calculating the Reduced feature test set roc_auc score using the best study parameters\n",
    "cal_roc_auc(X_test_red, y_test, xgb_red, 'Reduced feature', 'test', 'Xgboost')"
   ]
  },
  {
   "cell_type": "code",
   "execution_count": 22,
   "metadata": {},
   "outputs": [
    {
     "data": {
      "text/plain": [
       "['XGB_Reduced.joblib']"
      ]
     },
     "execution_count": 22,
     "metadata": {},
     "output_type": "execute_result"
    }
   ],
   "source": [
    "# Saving the Reduced feature set best Xgboost Classifier \n",
    "import joblib\n",
    "joblib.dump(xgb_red, 'XGB_Reduced.joblib')"
   ]
  },
  {
   "cell_type": "markdown",
   "metadata": {},
   "source": [
    "### Calculating R_R ratio for best Xgboost Classifier."
   ]
  },
  {
   "cell_type": "code",
   "execution_count": 14,
   "metadata": {},
   "outputs": [],
   "source": [
    "# Loading the best Xgboost  Classifier model\n",
    "xgb_red = joblib.load('XGB_Reduced.joblib')"
   ]
  },
  {
   "cell_type": "code",
   "execution_count": 15,
   "metadata": {},
   "outputs": [],
   "source": [
    "# Computing the CV scores using sklearn's cross_val_score\n",
    "score_xgb = cross_val_score(xgb_red, X_train_red, y_train, cv=cv_strat, n_jobs=5, scoring='roc_auc')"
   ]
  },
  {
   "cell_type": "code",
   "execution_count": 16,
   "metadata": {},
   "outputs": [
    {
     "name": "stdout",
     "output_type": "stream",
     "text": [
      "The reward associated with the best Xgboost Classifier using roc_auc metric is:  0.7988621489195012\n"
     ]
    }
   ],
   "source": [
    "print('The reward associated with the best Xgboost Classifier using roc_auc metric is: ',np.mean(score_xgb))"
   ]
  },
  {
   "cell_type": "code",
   "execution_count": 17,
   "metadata": {},
   "outputs": [
    {
     "name": "stdout",
     "output_type": "stream",
     "text": [
      "The risk associated with the best Xgboost Classifier using roc_auc metric is:  0.016493541570703495\n"
     ]
    }
   ],
   "source": [
    "print('The risk associated with the best Xgboost Classifier using roc_auc metric is: ',np.std(score_xgb))"
   ]
  },
  {
   "cell_type": "code",
   "execution_count": 18,
   "metadata": {},
   "outputs": [],
   "source": [
    "R_R_Ratio_Xgboost = np.mean(score_xgb)/np.std(score_xgb)"
   ]
  },
  {
   "cell_type": "code",
   "execution_count": 19,
   "metadata": {},
   "outputs": [
    {
     "name": "stdout",
     "output_type": "stream",
     "text": [
      "The reward risk ratio for the best Xgboost Classifier using roc_auc metric is:  48.43484617872931\n"
     ]
    }
   ],
   "source": [
    "print('The reward risk ratio for the best Xgboost Classifier using roc_auc metric is: ',R_R_Ratio_Xgboost)"
   ]
  },
  {
   "cell_type": "markdown",
   "metadata": {},
   "source": [
    "#### The R_R Ratio for the best XgBoost classifier using roc_auc score is: 48.43484617872931"
   ]
  },
  {
   "cell_type": "markdown",
   "metadata": {},
   "source": [
    "## Observations:\n",
    "### 1) Xgboost model ,conceptually similar to Light GBM , wonderfully fitted this dataset , with no apparent signs of overfitting. But surprisingly the test set roc_auc score for tuned Xgboost is less than that of Light GBM. \n",
    "### 2) Xgboost has a higher R_R ratio than that of Light GBM & hence should be preferred model of choice based on Rewards Risk ratio  metric, but has a higher computational cost than that of Light Gbm.\n",
    "### 3) Both boosting models have been outshone by Logistic Regression & Tree based Bagging models in the domain of R_R ratio metric, due to their comparatively low roc_auc score Std Dev."
   ]
  },
  {
   "cell_type": "markdown",
   "metadata": {},
   "source": [
    "### R_R Ratio for the best Tree based boosting classifier using roc_auc score is:  48.43484617872931 , corresponding to tuned XgBoost classifier."
   ]
  },
  {
   "cell_type": "markdown",
   "metadata": {},
   "source": [
    "### _Thus keeping everything into account (including the computational costs) , for this dataset , the best Tree based boosting classifier is tuned Light Gbm classifier._"
   ]
  },
  {
   "cell_type": "code",
   "execution_count": null,
   "metadata": {},
   "outputs": [],
   "source": []
  }
 ],
 "metadata": {
  "kernelspec": {
   "display_name": "Python 3",
   "language": "python",
   "name": "python3"
  },
  "language_info": {
   "codemirror_mode": {
    "name": "ipython",
    "version": 3
   },
   "file_extension": ".py",
   "mimetype": "text/x-python",
   "name": "python",
   "nbconvert_exporter": "python",
   "pygments_lexer": "ipython3",
   "version": "3.8.5"
  }
 },
 "nbformat": 4,
 "nbformat_minor": 4
}
