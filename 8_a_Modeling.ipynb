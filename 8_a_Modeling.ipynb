{
 "cells": [
  {
   "cell_type": "code",
   "execution_count": 1,
   "metadata": {},
   "outputs": [],
   "source": [
    "# Importing Required Python Packages\n",
    "import numpy as np\n",
    "import pandas as pd\n",
    "import matplotlib.pyplot as plt\n",
    "import seaborn as sns\n",
    "import warnings\n",
    "warnings.filterwarnings('ignore')\n",
    "pd.set_option('display.max_columns',None)"
   ]
  },
  {
   "cell_type": "code",
   "execution_count": 2,
   "metadata": {},
   "outputs": [],
   "source": [
    "# Importing Cross_val_score & Stratified K fold \n",
    "from sklearn.model_selection import cross_val_score\n",
    "from sklearn.model_selection import StratifiedKFold"
   ]
  },
  {
   "cell_type": "code",
   "execution_count": 3,
   "metadata": {},
   "outputs": [],
   "source": [
    "# Importing the Sklearn's roc_auc_score module\n",
    "from sklearn.metrics import roc_auc_score"
   ]
  },
  {
   "cell_type": "code",
   "execution_count": 4,
   "metadata": {},
   "outputs": [],
   "source": [
    "# Loading Reduced feature Training set\n",
    "X_train_red = pd.read_csv('X_train_final.csv')\n",
    "y_train = pd.read_csv('y_train.final.csv')"
   ]
  },
  {
   "cell_type": "code",
   "execution_count": 5,
   "metadata": {},
   "outputs": [],
   "source": [
    "# Loading Reduced feature Test set\n",
    "X_test_red = pd.read_csv('X_test_final.csv')\n",
    "y_test = pd.read_csv('y_test.final.csv')"
   ]
  },
  {
   "cell_type": "markdown",
   "metadata": {},
   "source": [
    "## Model_8: SVM Classifier with Tuned Hyperparameters using Random Search CV."
   ]
  },
  {
   "cell_type": "code",
   "execution_count": 6,
   "metadata": {},
   "outputs": [],
   "source": [
    "# Importing Random Search CV objects\n",
    "from sklearn.model_selection import RandomizedSearchCV"
   ]
  },
  {
   "cell_type": "code",
   "execution_count": 7,
   "metadata": {},
   "outputs": [],
   "source": [
    "# Initializing the K Fold object\n",
    "cv_strat = StratifiedKFold(5,random_state=42)"
   ]
  },
  {
   "cell_type": "code",
   "execution_count": 8,
   "metadata": {},
   "outputs": [],
   "source": [
    "# Formulating the hyperparameter grid for SVM Classifier\n",
    "params_svm = {'C': [.001,.01,.1,.5,1,2,4,6,8,10,20,40,60,80,100],\n",
    "              'gamma':  [.0001,.001,.01,.1,.5,1,2,4,6,8,10]+['scale','auto'],\n",
    "              'class_weight':['balanced',{0:1.0,1:9.0},{0:1.0,1:10},{0:1.0,1:11},{0:1.0,1:12}]\n",
    "             }\n",
    "              "
   ]
  },
  {
   "cell_type": "code",
   "execution_count": 9,
   "metadata": {},
   "outputs": [],
   "source": [
    "# Importing the SVM Classifier\n",
    "from sklearn.svm import SVC"
   ]
  },
  {
   "cell_type": "code",
   "execution_count": 10,
   "metadata": {},
   "outputs": [],
   "source": [
    "# Instantiating the SVM Classifier\n",
    "svm_s = SVC(probability=True,cache_size=500,random_state=42,kernel='rbf')"
   ]
  },
  {
   "cell_type": "code",
   "execution_count": 11,
   "metadata": {},
   "outputs": [],
   "source": [
    "# Initializing Random_search CV object\n",
    "randcv_svm = RandomizedSearchCV(svm_s,param_distributions=params_svm,scoring='roc_auc',n_jobs=5,cv=cv_strat,\n",
    "                              random_state=42,n_iter=50)"
   ]
  },
  {
   "cell_type": "code",
   "execution_count": 12,
   "metadata": {},
   "outputs": [
    {
     "data": {
      "text/plain": [
       "RandomizedSearchCV(cv=StratifiedKFold(n_splits=5, random_state=42, shuffle=False),\n",
       "                   estimator=SVC(cache_size=500, probability=True,\n",
       "                                 random_state=42),\n",
       "                   n_iter=50, n_jobs=5,\n",
       "                   param_distributions={'C': [0.001, 0.01, 0.1, 0.5, 1, 2, 4, 6,\n",
       "                                              8, 10, 20, 40, 60, 80, 100],\n",
       "                                        'class_weight': ['balanced',\n",
       "                                                         {0: 1.0, 1: 9.0},\n",
       "                                                         {0: 1.0, 1: 10},\n",
       "                                                         {0: 1.0, 1: 11},\n",
       "                                                         {0: 1.0, 1: 12}],\n",
       "                                        'gamma': [0.0001, 0.001, 0.01, 0.1, 0.5,\n",
       "                                                  1, 2, 4, 6, 8, 10, 'scale',\n",
       "                                                  'auto']},\n",
       "                   random_state=42, scoring='roc_auc')"
      ]
     },
     "execution_count": 12,
     "metadata": {},
     "output_type": "execute_result"
    }
   ],
   "source": [
    "# Running Random Search CV on Training set\n",
    "randcv_svm.fit(X_train_red,y_train)"
   ]
  },
  {
   "cell_type": "code",
   "execution_count": 13,
   "metadata": {},
   "outputs": [
    {
     "data": {
      "text/plain": [
       "{'gamma': 0.0001, 'class_weight': 'balanced', 'C': 80}"
      ]
     },
     "execution_count": 13,
     "metadata": {},
     "output_type": "execute_result"
    }
   ],
   "source": [
    "# Getting the parameters of the best SVM Model\n",
    "randcv_svm.best_params_"
   ]
  },
  {
   "cell_type": "code",
   "execution_count": 14,
   "metadata": {},
   "outputs": [
    {
     "data": {
      "text/plain": [
       "0.781478287729693"
      ]
     },
     "execution_count": 14,
     "metadata": {},
     "output_type": "execute_result"
    }
   ],
   "source": [
    "# Getting the best roc_auc 5 Fold Score \n",
    "randcv_svm.best_score_"
   ]
  },
  {
   "cell_type": "code",
   "execution_count": 17,
   "metadata": {},
   "outputs": [],
   "source": [
    "# Getting the best SVM estimator from Random search CV, which has already been trained on the entire Training set\n",
    "svm_red = randcv_svm.best_estimator_"
   ]
  },
  {
   "cell_type": "code",
   "execution_count": 18,
   "metadata": {},
   "outputs": [],
   "source": [
    "# Defining the function to calculate the roc_auc score for the feature sets\n",
    "def cal_roc_auc(X, y, cls, f_set, t_set, model_name):\n",
    "    ''' Calculates the roc auc score using the best study parameters \n",
    "        f_set : String: specifies 'full feature', 'Reduced feature'\n",
    "        t_set: String: specifies 'training', 'test'\n",
    "        model_name: String: specifies Name of the model '''\n",
    "        \n",
    "    y_pred = cls.predict_proba(X)\n",
    "    print('The roc_auc_score for the {} {} set using the best {} classifier is '.format(f_set, t_set, model_name),roc_auc_score(y, y_pred[:,1]))"
   ]
  },
  {
   "cell_type": "code",
   "execution_count": 19,
   "metadata": {},
   "outputs": [
    {
     "name": "stdout",
     "output_type": "stream",
     "text": [
      "The roc_auc_score for the Reduced feature training set using the best SVM classifier is  0.7853852343047899\n"
     ]
    }
   ],
   "source": [
    "# Calculating the Reduced feature training set roc_auc score using the best SVM model\n",
    "cal_roc_auc(X_train_red, y_train, svm_red, 'Reduced feature', 'training', 'SVM')"
   ]
  },
  {
   "cell_type": "code",
   "execution_count": 20,
   "metadata": {},
   "outputs": [
    {
     "name": "stdout",
     "output_type": "stream",
     "text": [
      "The roc_auc_score for the Reduced feature test set using the best SVM classifier is  0.7934770655455445\n"
     ]
    }
   ],
   "source": [
    "# Calculating the Reduced feature test set roc_auc score using the best study parameters\n",
    "cal_roc_auc(X_test_red, y_test, svm_red, 'Reduced feature', 'test', 'SVM')"
   ]
  },
  {
   "cell_type": "code",
   "execution_count": 21,
   "metadata": {},
   "outputs": [
    {
     "data": {
      "text/plain": [
       "['SVM_Reduced.joblib']"
      ]
     },
     "execution_count": 21,
     "metadata": {},
     "output_type": "execute_result"
    }
   ],
   "source": [
    "# Saving the Reduced feature set best SVM Classifier \n",
    "import joblib\n",
    "joblib.dump(svm_red,'SVM_Reduced.joblib')"
   ]
  },
  {
   "cell_type": "markdown",
   "metadata": {},
   "source": [
    "### Calculating R_R ratio for best SVM Classifier."
   ]
  },
  {
   "cell_type": "code",
   "execution_count": 8,
   "metadata": {},
   "outputs": [],
   "source": [
    "# Loading the best SVM  Classifier model\n",
    "import joblib\n",
    "svm_red = joblib.load('SVM_Reduced.joblib')"
   ]
  },
  {
   "cell_type": "code",
   "execution_count": 9,
   "metadata": {},
   "outputs": [],
   "source": [
    "# Importing required Libraries\n",
    "from sklearn.model_selection import StratifiedKFold\n",
    "from sklearn.model_selection import cross_val_score"
   ]
  },
  {
   "cell_type": "code",
   "execution_count": 10,
   "metadata": {},
   "outputs": [],
   "source": [
    "# Instantiating the Stratified K fold object\n",
    "cv_strat = StratifiedKFold(10,random_state=42)"
   ]
  },
  {
   "cell_type": "code",
   "execution_count": 11,
   "metadata": {},
   "outputs": [],
   "source": [
    "# Computing the CV scores using sklearn's cross_val_score\n",
    "score_svm = cross_val_score(svm_red, X_train_red, y_train, cv=cv_strat, n_jobs=5, scoring='roc_auc')"
   ]
  },
  {
   "cell_type": "code",
   "execution_count": 12,
   "metadata": {},
   "outputs": [
    {
     "name": "stdout",
     "output_type": "stream",
     "text": [
      "The reward associated with the best SVM Classifier using roc_auc metric is:  0.782037372445053\n"
     ]
    }
   ],
   "source": [
    "print('The reward associated with the best SVM Classifier using roc_auc metric is: ',np.mean(score_svm))"
   ]
  },
  {
   "cell_type": "code",
   "execution_count": 13,
   "metadata": {},
   "outputs": [
    {
     "name": "stdout",
     "output_type": "stream",
     "text": [
      "The risk associated with the best SVM Classifier using roc_auc metric is:  0.016582480391873475\n"
     ]
    }
   ],
   "source": [
    "print('The risk associated with the best SVM Classifier using roc_auc metric is: ',np.std(score_svm))"
   ]
  },
  {
   "cell_type": "code",
   "execution_count": 14,
   "metadata": {},
   "outputs": [],
   "source": [
    "R_R_Ratio_svm = np.mean(score_svm)/np.std(score_svm)"
   ]
  },
  {
   "cell_type": "code",
   "execution_count": 15,
   "metadata": {},
   "outputs": [
    {
     "name": "stdout",
     "output_type": "stream",
     "text": [
      "The reward risk ratio for the best SVM Classifier using roc_auc metric is:  47.16045814402432\n"
     ]
    }
   ],
   "source": [
    "print('The reward risk ratio for the best SVM Classifier using roc_auc metric is: ',R_R_Ratio_svm)"
   ]
  },
  {
   "cell_type": "markdown",
   "metadata": {},
   "source": [
    "#### R_R Ratio for the best SVM classifier using reduced feature set is: 47.16045814402432"
   ]
  },
  {
   "cell_type": "markdown",
   "metadata": {},
   "source": [
    "## Observations:\n",
    "### 1) SVM classifier shows no sign of overfitting  as both training and test roc_auc scores are almost equal to each other . But both training & test roc_auc scores for best SVM Model  are less than the corresponding scores from the best logistics Regression model( which belongs to the same classifier family  as SVM).\n",
    "### 2) SVM fits really really slowly & is only a feasible option for small or medium sized datasets.\n",
    "### 3) The R_R ration for the best SVM model is less than that of best Logistic Regression, which has much lower computational complexity. Thus for this dataset, Logistic Regression outperforms SVM on all fronts."
   ]
  },
  {
   "cell_type": "code",
   "execution_count": null,
   "metadata": {},
   "outputs": [],
   "source": []
  }
 ],
 "metadata": {
  "kernelspec": {
   "display_name": "Python 3",
   "language": "python",
   "name": "python3"
  },
  "language_info": {
   "codemirror_mode": {
    "name": "ipython",
    "version": 3
   },
   "file_extension": ".py",
   "mimetype": "text/x-python",
   "name": "python",
   "nbconvert_exporter": "python",
   "pygments_lexer": "ipython3",
   "version": "3.7.6"
  }
 },
 "nbformat": 4,
 "nbformat_minor": 4
}
