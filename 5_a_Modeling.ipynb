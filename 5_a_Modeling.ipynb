{
 "cells": [
  {
   "cell_type": "code",
   "execution_count": 1,
   "metadata": {},
   "outputs": [],
   "source": [
    "# Importing Required Python Packages\n",
    "import numpy as np\n",
    "import pandas as pd\n",
    "import matplotlib.pyplot as plt\n",
    "import seaborn as sns\n",
    "import warnings\n",
    "warnings.filterwarnings('ignore')\n",
    "pd.set_option('display.max_columns',None)"
   ]
  },
  {
   "cell_type": "code",
   "execution_count": 2,
   "metadata": {},
   "outputs": [],
   "source": [
    "# Loading both versions of Training sets\n",
    "X_train_red = pd.read_csv('X_train_final.csv')\n",
    "X_train = pd.read_csv('X_train_full_final.csv')\n",
    "y_train = pd.read_csv('y_train.final.csv')"
   ]
  },
  {
   "cell_type": "code",
   "execution_count": 3,
   "metadata": {},
   "outputs": [],
   "source": [
    "# Loading both versions of Test sets\n",
    "X_test_red = pd.read_csv('X_test_final.csv')\n",
    "X_test = pd.read_csv('X_test_full_final.csv')\n",
    "y_test = pd.read_csv('y_test.final.csv')"
   ]
  },
  {
   "cell_type": "markdown",
   "metadata": {},
   "source": [
    "### As per the Dataset Metadata , the column duration might leak information, since if duration = 0 then y=0 almost surely and after the end of the call, y is more or less known. So in order to have a realistic predictive model , the column 'duration' should be discarded. "
   ]
  },
  {
   "cell_type": "code",
   "execution_count": 4,
   "metadata": {},
   "outputs": [
    {
     "data": {
      "text/html": [
       "<div>\n",
       "<style scoped>\n",
       "    .dataframe tbody tr th:only-of-type {\n",
       "        vertical-align: middle;\n",
       "    }\n",
       "\n",
       "    .dataframe tbody tr th {\n",
       "        vertical-align: top;\n",
       "    }\n",
       "\n",
       "    .dataframe thead th {\n",
       "        text-align: right;\n",
       "    }\n",
       "</style>\n",
       "<table border=\"1\" class=\"dataframe\">\n",
       "  <thead>\n",
       "    <tr style=\"text-align: right;\">\n",
       "      <th></th>\n",
       "      <th>pdays</th>\n",
       "      <th>campaign</th>\n",
       "      <th>previous</th>\n",
       "      <th>cons_price_idx</th>\n",
       "      <th>emp_var_rate</th>\n",
       "      <th>cons_conf_idx</th>\n",
       "      <th>nr_employed</th>\n",
       "      <th>age</th>\n",
       "      <th>euribor3m</th>\n",
       "      <th>education_university_degree</th>\n",
       "      <th>education_illiterate</th>\n",
       "      <th>education_basic_6y</th>\n",
       "      <th>month_mar</th>\n",
       "      <th>job_blue-collar</th>\n",
       "      <th>loan_yes</th>\n",
       "      <th>job_housemaid</th>\n",
       "      <th>month_aug</th>\n",
       "      <th>loan_no</th>\n",
       "      <th>housing_yes</th>\n",
       "      <th>poutcome_success</th>\n",
       "      <th>poutcome_nonexistent</th>\n",
       "      <th>month_sep</th>\n",
       "      <th>job_student</th>\n",
       "      <th>default_no</th>\n",
       "      <th>job_admin</th>\n",
       "      <th>housing_no</th>\n",
       "      <th>job_retired</th>\n",
       "      <th>month_jul</th>\n",
       "      <th>contact_telephone</th>\n",
       "      <th>month_dec</th>\n",
       "      <th>marital_single</th>\n",
       "      <th>month_oct</th>\n",
       "      <th>job_services</th>\n",
       "      <th>marital_married</th>\n",
       "      <th>month_may</th>\n",
       "      <th>day_of_week_thu</th>\n",
       "    </tr>\n",
       "  </thead>\n",
       "  <tbody>\n",
       "    <tr>\n",
       "      <th>0</th>\n",
       "      <td>0.196584</td>\n",
       "      <td>0.522981</td>\n",
       "      <td>-0.350127</td>\n",
       "      <td>-0.648967</td>\n",
       "      <td>-0.114858</td>\n",
       "      <td>-0.322269</td>\n",
       "      <td>0.398990</td>\n",
       "      <td>0.863739</td>\n",
       "      <td>0.288964</td>\n",
       "      <td>0</td>\n",
       "      <td>0</td>\n",
       "      <td>0</td>\n",
       "      <td>0</td>\n",
       "      <td>1</td>\n",
       "      <td>0</td>\n",
       "      <td>0</td>\n",
       "      <td>0</td>\n",
       "      <td>1</td>\n",
       "      <td>0</td>\n",
       "      <td>0</td>\n",
       "      <td>1</td>\n",
       "      <td>0</td>\n",
       "      <td>0</td>\n",
       "      <td>0</td>\n",
       "      <td>0</td>\n",
       "      <td>1</td>\n",
       "      <td>0</td>\n",
       "      <td>0</td>\n",
       "      <td>0</td>\n",
       "      <td>0</td>\n",
       "      <td>0</td>\n",
       "      <td>0</td>\n",
       "      <td>0</td>\n",
       "      <td>1</td>\n",
       "      <td>0</td>\n",
       "      <td>0</td>\n",
       "    </tr>\n",
       "    <tr>\n",
       "      <th>1</th>\n",
       "      <td>0.196584</td>\n",
       "      <td>-0.203688</td>\n",
       "      <td>1.653813</td>\n",
       "      <td>-0.648967</td>\n",
       "      <td>-0.114858</td>\n",
       "      <td>-0.322269</td>\n",
       "      <td>0.398990</td>\n",
       "      <td>-0.289722</td>\n",
       "      <td>0.288964</td>\n",
       "      <td>1</td>\n",
       "      <td>0</td>\n",
       "      <td>0</td>\n",
       "      <td>0</td>\n",
       "      <td>0</td>\n",
       "      <td>0</td>\n",
       "      <td>0</td>\n",
       "      <td>0</td>\n",
       "      <td>1</td>\n",
       "      <td>0</td>\n",
       "      <td>0</td>\n",
       "      <td>0</td>\n",
       "      <td>0</td>\n",
       "      <td>0</td>\n",
       "      <td>1</td>\n",
       "      <td>0</td>\n",
       "      <td>1</td>\n",
       "      <td>0</td>\n",
       "      <td>0</td>\n",
       "      <td>1</td>\n",
       "      <td>0</td>\n",
       "      <td>0</td>\n",
       "      <td>0</td>\n",
       "      <td>0</td>\n",
       "      <td>1</td>\n",
       "      <td>0</td>\n",
       "      <td>0</td>\n",
       "    </tr>\n",
       "    <tr>\n",
       "      <th>2</th>\n",
       "      <td>0.196584</td>\n",
       "      <td>-0.567023</td>\n",
       "      <td>-0.350127</td>\n",
       "      <td>1.103451</td>\n",
       "      <td>-1.133161</td>\n",
       "      <td>0.045048</td>\n",
       "      <td>-2.420139</td>\n",
       "      <td>3.651268</td>\n",
       "      <td>-1.583296</td>\n",
       "      <td>0</td>\n",
       "      <td>0</td>\n",
       "      <td>0</td>\n",
       "      <td>0</td>\n",
       "      <td>0</td>\n",
       "      <td>0</td>\n",
       "      <td>0</td>\n",
       "      <td>0</td>\n",
       "      <td>1</td>\n",
       "      <td>0</td>\n",
       "      <td>0</td>\n",
       "      <td>1</td>\n",
       "      <td>0</td>\n",
       "      <td>0</td>\n",
       "      <td>1</td>\n",
       "      <td>0</td>\n",
       "      <td>1</td>\n",
       "      <td>1</td>\n",
       "      <td>1</td>\n",
       "      <td>0</td>\n",
       "      <td>0</td>\n",
       "      <td>0</td>\n",
       "      <td>0</td>\n",
       "      <td>0</td>\n",
       "      <td>1</td>\n",
       "      <td>0</td>\n",
       "      <td>0</td>\n",
       "    </tr>\n",
       "    <tr>\n",
       "      <th>3</th>\n",
       "      <td>0.196584</td>\n",
       "      <td>-0.203688</td>\n",
       "      <td>-0.350127</td>\n",
       "      <td>0.721890</td>\n",
       "      <td>0.648868</td>\n",
       "      <td>0.887717</td>\n",
       "      <td>0.332723</td>\n",
       "      <td>-0.385843</td>\n",
       "      <td>0.713535</td>\n",
       "      <td>1</td>\n",
       "      <td>0</td>\n",
       "      <td>0</td>\n",
       "      <td>0</td>\n",
       "      <td>0</td>\n",
       "      <td>0</td>\n",
       "      <td>0</td>\n",
       "      <td>0</td>\n",
       "      <td>1</td>\n",
       "      <td>1</td>\n",
       "      <td>0</td>\n",
       "      <td>1</td>\n",
       "      <td>0</td>\n",
       "      <td>0</td>\n",
       "      <td>1</td>\n",
       "      <td>1</td>\n",
       "      <td>0</td>\n",
       "      <td>0</td>\n",
       "      <td>0</td>\n",
       "      <td>1</td>\n",
       "      <td>0</td>\n",
       "      <td>0</td>\n",
       "      <td>0</td>\n",
       "      <td>0</td>\n",
       "      <td>1</td>\n",
       "      <td>1</td>\n",
       "      <td>0</td>\n",
       "    </tr>\n",
       "    <tr>\n",
       "      <th>4</th>\n",
       "      <td>0.196584</td>\n",
       "      <td>-0.203688</td>\n",
       "      <td>-0.350127</td>\n",
       "      <td>-1.058152</td>\n",
       "      <td>-1.896888</td>\n",
       "      <td>-0.062987</td>\n",
       "      <td>-1.252175</td>\n",
       "      <td>1.824956</td>\n",
       "      <td>-1.357472</td>\n",
       "      <td>1</td>\n",
       "      <td>0</td>\n",
       "      <td>0</td>\n",
       "      <td>0</td>\n",
       "      <td>0</td>\n",
       "      <td>0</td>\n",
       "      <td>0</td>\n",
       "      <td>0</td>\n",
       "      <td>1</td>\n",
       "      <td>0</td>\n",
       "      <td>0</td>\n",
       "      <td>1</td>\n",
       "      <td>0</td>\n",
       "      <td>0</td>\n",
       "      <td>1</td>\n",
       "      <td>0</td>\n",
       "      <td>1</td>\n",
       "      <td>1</td>\n",
       "      <td>0</td>\n",
       "      <td>0</td>\n",
       "      <td>0</td>\n",
       "      <td>0</td>\n",
       "      <td>0</td>\n",
       "      <td>0</td>\n",
       "      <td>0</td>\n",
       "      <td>0</td>\n",
       "      <td>0</td>\n",
       "    </tr>\n",
       "  </tbody>\n",
       "</table>\n",
       "</div>"
      ],
      "text/plain": [
       "      pdays  campaign  previous  cons_price_idx  emp_var_rate  cons_conf_idx  \\\n",
       "0  0.196584  0.522981 -0.350127       -0.648967     -0.114858      -0.322269   \n",
       "1  0.196584 -0.203688  1.653813       -0.648967     -0.114858      -0.322269   \n",
       "2  0.196584 -0.567023 -0.350127        1.103451     -1.133161       0.045048   \n",
       "3  0.196584 -0.203688 -0.350127        0.721890      0.648868       0.887717   \n",
       "4  0.196584 -0.203688 -0.350127       -1.058152     -1.896888      -0.062987   \n",
       "\n",
       "   nr_employed       age  euribor3m  education_university_degree  \\\n",
       "0     0.398990  0.863739   0.288964                            0   \n",
       "1     0.398990 -0.289722   0.288964                            1   \n",
       "2    -2.420139  3.651268  -1.583296                            0   \n",
       "3     0.332723 -0.385843   0.713535                            1   \n",
       "4    -1.252175  1.824956  -1.357472                            1   \n",
       "\n",
       "   education_illiterate  education_basic_6y  month_mar  job_blue-collar  \\\n",
       "0                     0                   0          0                1   \n",
       "1                     0                   0          0                0   \n",
       "2                     0                   0          0                0   \n",
       "3                     0                   0          0                0   \n",
       "4                     0                   0          0                0   \n",
       "\n",
       "   loan_yes  job_housemaid  month_aug  loan_no  housing_yes  poutcome_success  \\\n",
       "0         0              0          0        1            0                 0   \n",
       "1         0              0          0        1            0                 0   \n",
       "2         0              0          0        1            0                 0   \n",
       "3         0              0          0        1            1                 0   \n",
       "4         0              0          0        1            0                 0   \n",
       "\n",
       "   poutcome_nonexistent  month_sep  job_student  default_no  job_admin  \\\n",
       "0                     1          0            0           0          0   \n",
       "1                     0          0            0           1          0   \n",
       "2                     1          0            0           1          0   \n",
       "3                     1          0            0           1          1   \n",
       "4                     1          0            0           1          0   \n",
       "\n",
       "   housing_no  job_retired  month_jul  contact_telephone  month_dec  \\\n",
       "0           1            0          0                  0          0   \n",
       "1           1            0          0                  1          0   \n",
       "2           1            1          1                  0          0   \n",
       "3           0            0          0                  1          0   \n",
       "4           1            1          0                  0          0   \n",
       "\n",
       "   marital_single  month_oct  job_services  marital_married  month_may  \\\n",
       "0               0          0             0                1          0   \n",
       "1               0          0             0                1          0   \n",
       "2               0          0             0                1          0   \n",
       "3               0          0             0                1          1   \n",
       "4               0          0             0                0          0   \n",
       "\n",
       "   day_of_week_thu  \n",
       "0                0  \n",
       "1                0  \n",
       "2                0  \n",
       "3                0  \n",
       "4                0  "
      ]
     },
     "execution_count": 4,
     "metadata": {},
     "output_type": "execute_result"
    }
   ],
   "source": [
    "X_train_red.head()"
   ]
  },
  {
   "cell_type": "markdown",
   "metadata": {},
   "source": [
    "#### Deleting column duration from the Feature space."
   ]
  },
  {
   "cell_type": "code",
   "execution_count": 5,
   "metadata": {},
   "outputs": [],
   "source": [
    "#### Deleting 'duration' column from all the Training Dataset.\n",
    "del X_train['duration']\n",
    "del X_train_red['duration']\n",
    "del X_test['duration']\n",
    "del X_test_red['duration']"
   ]
  },
  {
   "cell_type": "markdown",
   "metadata": {},
   "source": [
    "#### Saving the Resulting datasets back as CSV files"
   ]
  },
  {
   "cell_type": "code",
   "execution_count": 5,
   "metadata": {},
   "outputs": [],
   "source": [
    "X_train.to_csv('X_train_full_final.csv',index=False)\n",
    "X_train_red.to_csv('X_train_final.csv',index=False)\n",
    "X_test.to_csv('X_test_full_final.csv',index=False)\n",
    "X_test_red.to_csv('X_test_final.csv',index=False)"
   ]
  },
  {
   "cell_type": "markdown",
   "metadata": {},
   "source": [
    "## Baseline Model: Dummy Classifier with Default Parameters "
   ]
  },
  {
   "cell_type": "code",
   "execution_count": 5,
   "metadata": {},
   "outputs": [],
   "source": [
    "# Importing Dummy classifier from Scikit Learn\n",
    "from sklearn.dummy import DummyClassifier"
   ]
  },
  {
   "cell_type": "code",
   "execution_count": 6,
   "metadata": {},
   "outputs": [],
   "source": [
    "# Importing the Sklearn's roc_auc_score module\n",
    "from sklearn.metrics import roc_auc_score"
   ]
  },
  {
   "cell_type": "code",
   "execution_count": 7,
   "metadata": {},
   "outputs": [],
   "source": [
    "# Instantiating the Dummy classifier object\n",
    "bm = DummyClassifier(random_state=42)"
   ]
  },
  {
   "cell_type": "markdown",
   "metadata": {},
   "source": [
    "#### Fitting dummy classifier (baseline model) to both full_feature training & test  sets and computing resulting roc_auc_scores."
   ]
  },
  {
   "cell_type": "code",
   "execution_count": 8,
   "metadata": {},
   "outputs": [
    {
     "data": {
      "text/plain": [
       "DummyClassifier(random_state=42)"
      ]
     },
     "execution_count": 8,
     "metadata": {},
     "output_type": "execute_result"
    }
   ],
   "source": [
    "# Fitting the simple dummy classifier to Training set with all features.\n",
    "bm.fit(X_train,y_train)"
   ]
  },
  {
   "cell_type": "code",
   "execution_count": 9,
   "metadata": {},
   "outputs": [
    {
     "data": {
      "text/plain": [
       "0.8002427921092564"
      ]
     },
     "execution_count": 9,
     "metadata": {},
     "output_type": "execute_result"
    }
   ],
   "source": [
    "# Accuracy for the full feature Training set with baseline model\n",
    "bm.score(X_train,y_train)"
   ]
  },
  {
   "cell_type": "code",
   "execution_count": 10,
   "metadata": {},
   "outputs": [
    {
     "data": {
      "text/plain": [
       "0.803714493809177"
      ]
     },
     "execution_count": 10,
     "metadata": {},
     "output_type": "execute_result"
    }
   ],
   "source": [
    "# Accuracy for the full feature Test set with baseline model\n",
    "bm.score(X_test,y_test)"
   ]
  },
  {
   "cell_type": "code",
   "execution_count": 11,
   "metadata": {},
   "outputs": [],
   "source": [
    "# Predicting the probabilities of y=1 for the full feature training set\n",
    "y_pred_train = bm.predict_proba(X_train)"
   ]
  },
  {
   "cell_type": "code",
   "execution_count": 12,
   "metadata": {},
   "outputs": [
    {
     "name": "stdout",
     "output_type": "stream",
     "text": [
      "The ROC AUC for the full_feature Training set is: 0.5013692527998519\n"
     ]
    }
   ],
   "source": [
    "print('The ROC AUC for the full_feature Training set is:',roc_auc_score(y_train,y_pred_train[:,1]))"
   ]
  },
  {
   "cell_type": "code",
   "execution_count": 13,
   "metadata": {},
   "outputs": [],
   "source": [
    "# Predicting the probabilities of y=1 for the full feature test set\n",
    "y_pred = bm.predict_proba(X_test)"
   ]
  },
  {
   "cell_type": "code",
   "execution_count": 14,
   "metadata": {},
   "outputs": [
    {
     "name": "stdout",
     "output_type": "stream",
     "text": [
      "The ROC AUC for the full_feature test set is: 0.5050864722392566\n"
     ]
    }
   ],
   "source": [
    "print('The ROC AUC for the full_feature test set is:',roc_auc_score(y_test,y_pred[:,1]))"
   ]
  },
  {
   "cell_type": "markdown",
   "metadata": {},
   "source": [
    "#### Fitting dummy classifier (baseline model) to both Reduced_feature training & test  sets and computing resulting roc_auc_scores."
   ]
  },
  {
   "cell_type": "code",
   "execution_count": 15,
   "metadata": {},
   "outputs": [
    {
     "data": {
      "text/plain": [
       "DummyClassifier(random_state=42)"
      ]
     },
     "execution_count": 15,
     "metadata": {},
     "output_type": "execute_result"
    }
   ],
   "source": [
    "# Fitting dummy classifier to the reduced feature Training set.\n",
    "bm.fit(X_train_red,y_train)"
   ]
  },
  {
   "cell_type": "code",
   "execution_count": 16,
   "metadata": {},
   "outputs": [
    {
     "data": {
      "text/plain": [
       "0.8002427921092564"
      ]
     },
     "execution_count": 16,
     "metadata": {},
     "output_type": "execute_result"
    }
   ],
   "source": [
    "# Accuracy for the reduced feature Training set with baseline model.\n",
    "bm.score(X_train_red,y_train)"
   ]
  },
  {
   "cell_type": "code",
   "execution_count": 17,
   "metadata": {},
   "outputs": [
    {
     "data": {
      "text/plain": [
       "0.803714493809177"
      ]
     },
     "execution_count": 17,
     "metadata": {},
     "output_type": "execute_result"
    }
   ],
   "source": [
    "# Accuracy for the reduced feature Test set with baseline model.\n",
    "bm.score(X_test_red,y_test)"
   ]
  },
  {
   "cell_type": "code",
   "execution_count": 18,
   "metadata": {},
   "outputs": [],
   "source": [
    "# Predicting the probabilities of y=1 for the reduced feature training set\n",
    "y_pred_red_train = bm.predict_proba(X_train_red)"
   ]
  },
  {
   "cell_type": "code",
   "execution_count": 19,
   "metadata": {},
   "outputs": [
    {
     "name": "stdout",
     "output_type": "stream",
     "text": [
      "The ROC AUC for the reduced feature training set is: 0.5013692527998519\n"
     ]
    }
   ],
   "source": [
    "print('The ROC AUC for the reduced feature training set is:',roc_auc_score(y_train,y_pred_red_train[:,1]))"
   ]
  },
  {
   "cell_type": "code",
   "execution_count": 20,
   "metadata": {},
   "outputs": [],
   "source": [
    "# Predicting the probabilities of y=1 for the reduced feature test set\n",
    "y_pred_red = bm.predict_proba(X_test_red)"
   ]
  },
  {
   "cell_type": "code",
   "execution_count": 21,
   "metadata": {},
   "outputs": [
    {
     "name": "stdout",
     "output_type": "stream",
     "text": [
      "The ROC AUC for the reduced_feature test set is: 0.5050864722392566\n"
     ]
    }
   ],
   "source": [
    "print('The ROC AUC for the reduced_feature test set is:',roc_auc_score(y_test,y_pred_red[:,1]))"
   ]
  },
  {
   "cell_type": "markdown",
   "metadata": {},
   "source": [
    "### Observations:\n",
    "### 1) The roc_auc score for the reduced feature test set is  equal to that of full feature test set, indicating the presence of noise features in the full feature set.\n",
    "### 2) The training set  roc_auc scores for both full feature & reduced feature training sets are less than that of corresponding test sets, probably due to underfitting.\n",
    "### 3) The test set accuracy for both full feature & reduced feature test sets are less than 88.734%, which could be achieved by labeling all the test set  instances (y) equal to 0, the % of class 0 (majority class) in the whole dataset. Thus the default dummy classifier is certainly underfitting the training set."
   ]
  },
  {
   "cell_type": "markdown",
   "metadata": {},
   "source": [
    "## Model_1: Logistics Regression with Tuned Hyperparameters using Optuna."
   ]
  },
  {
   "cell_type": "code",
   "execution_count": 23,
   "metadata": {},
   "outputs": [],
   "source": [
    "# Importing  hyperparamater tuning optimizer optuna\n",
    "import optuna"
   ]
  },
  {
   "cell_type": "code",
   "execution_count": 24,
   "metadata": {},
   "outputs": [],
   "source": [
    "# Importing required Libraries\n",
    "from sklearn.model_selection import StratifiedKFold\n",
    "from sklearn.model_selection import cross_val_score"
   ]
  },
  {
   "cell_type": "code",
   "execution_count": 25,
   "metadata": {},
   "outputs": [],
   "source": [
    "# Defining the appropriate objective function for the Logistic regression classifier\n",
    "def objective_wrappper_ls(X_tr, y_tr, cls=None, cv_strat=None):\n",
    "    '''\n",
    "    Optimizes Logistics Regression parameters on the given training set X_tr,y_tr\n",
    "    using cv_strat cross-validation object\n",
    "    \n",
    "    '''\n",
    "    \n",
    "    def objective(trial):\n",
    "        params = {\n",
    "        'C': trial.suggest_loguniform('C', 1e-5, 1e2),\n",
    "        'l1_ratio':trial.suggest_uniform('l1_ratio',0,1),\n",
    "        'class_weight':trial.suggest_categorical('class_weight',cl_weight),\n",
    "        'penalty':trial.suggest_categorical('penalty',['none','elasticnet'])\n",
    "            \n",
    "        }\n",
    "        \n",
    "        cls.set_params(**params)#Initializing the model with the parameters \n",
    "    \n",
    "        return np.mean(cross_val_score(cls, X_tr, y_tr, cv=cv_strat, n_jobs=5, scoring='roc_auc'))  \n",
    "    return objective"
   ]
  },
  {
   "cell_type": "code",
   "execution_count": 26,
   "metadata": {},
   "outputs": [],
   "source": [
    "# Defining the evaluation function for study's best parameters\n",
    "def train_test_roc_auc(X_tr, y_tr, cls, obj_func, cv_strat, n_trials=100):\n",
    "    ''' Computes the best hyper parameters of the classsifier and returns \n",
    "    Optuna's study's best score & clasifier parameters'''\n",
    "    study = optuna.create_study(direction='maximize')\n",
    "    study.optimize(obj_func(X_tr, y_tr, cls, cv_strat), n_trials)\n",
    "    best_score = study.best_value\n",
    "    best_params = study.best_params\n",
    "    return (best_score,best_params)\n"
   ]
  },
  {
   "cell_type": "code",
   "execution_count": 27,
   "metadata": {},
   "outputs": [],
   "source": [
    "# Instantiating the logistic Regression classifier\n",
    "lr_s =  LogisticRegression(random_state=42,solver='saga',n_jobs=5)"
   ]
  },
  {
   "cell_type": "code",
   "execution_count": 28,
   "metadata": {},
   "outputs": [],
   "source": [
    "# Instantiating the Stratified K fold object\n",
    "cv_strat = StratifiedKFold(10,random_state=42)"
   ]
  },
  {
   "cell_type": "code",
   "execution_count": 29,
   "metadata": {},
   "outputs": [],
   "source": [
    "# Defing the class weights\n",
    "cl_weight = [None,'balanced',{0:1.0,1:9.0},{0:1.0,1:10},{0:1.0,1:11},{0:1.0,1:12}]"
   ]
  },
  {
   "cell_type": "markdown",
   "metadata": {},
   "source": [
    "#### Computing the best hyperparameters for the  logistic Regression using full feature Training Set."
   ]
  },
  {
   "cell_type": "code",
   "execution_count": 30,
   "metadata": {},
   "outputs": [
    {
     "name": "stderr",
     "output_type": "stream",
     "text": [
      "[I 2020-10-01 15:23:17,213] A new study created in memory with name: no-name-a10d68ac-400a-4a24-8074-ec3ffe9d6357\n",
      "[I 2020-10-01 15:23:19,666] Trial 0 finished with value: 0.7492845854664483 and parameters: {'C': 0.00013154292928952658, 'l1_ratio': 0.6503459972495506, 'class_weight': 'balanced', 'penalty': 'elasticnet'}. Best is trial 0 with value: 0.7492845854664483.\n",
      "[I 2020-10-01 15:23:24,371] Trial 1 finished with value: 0.7901937777169737 and parameters: {'C': 1.8195015053814443, 'l1_ratio': 0.817875878754326, 'class_weight': {0: 1.0, 1: 11}, 'penalty': 'none'}. Best is trial 1 with value: 0.7901937777169737.\n",
      "[I 2020-10-01 15:23:25,609] Trial 2 finished with value: 0.7492804583675193 and parameters: {'C': 0.0006441255577934125, 'l1_ratio': 0.5169023380178759, 'class_weight': None, 'penalty': 'elasticnet'}. Best is trial 1 with value: 0.7901937777169737.\n",
      "[I 2020-10-01 15:23:27,150] Trial 3 finished with value: 0.7899304064875101 and parameters: {'C': 0.012336671299333676, 'l1_ratio': 0.9559447022337534, 'class_weight': {0: 1.0, 1: 12}, 'penalty': 'elasticnet'}. Best is trial 1 with value: 0.7901937777169737.\n",
      "[I 2020-10-01 15:23:32,642] Trial 4 finished with value: 0.7905854351153294 and parameters: {'C': 0.2940663313554081, 'l1_ratio': 0.6639735357833116, 'class_weight': {0: 1.0, 1: 12}, 'penalty': 'elasticnet'}. Best is trial 4 with value: 0.7905854351153294.\n",
      "[I 2020-10-01 15:23:37,010] Trial 5 finished with value: 0.7902151822422249 and parameters: {'C': 0.000958655054333103, 'l1_ratio': 0.7168995428125176, 'class_weight': {0: 1.0, 1: 10}, 'penalty': 'none'}. Best is trial 4 with value: 0.7905854351153294.\n",
      "[I 2020-10-01 15:23:41,390] Trial 6 finished with value: 0.7902424959701528 and parameters: {'C': 0.00420066303596232, 'l1_ratio': 0.9047398139557489, 'class_weight': {0: 1.0, 1: 9.0}, 'penalty': 'none'}. Best is trial 4 with value: 0.7905854351153294.\n",
      "[I 2020-10-01 15:23:46,859] Trial 7 finished with value: 0.7905686654633194 and parameters: {'C': 0.3199407488255654, 'l1_ratio': 0.7016632994656937, 'class_weight': {0: 1.0, 1: 12}, 'penalty': 'elasticnet'}. Best is trial 4 with value: 0.7905854351153294.\n",
      "[I 2020-10-01 15:23:51,261] Trial 8 finished with value: 0.7901937777169737 and parameters: {'C': 0.21542022027450913, 'l1_ratio': 0.8525362246867927, 'class_weight': {0: 1.0, 1: 11}, 'penalty': 'none'}. Best is trial 4 with value: 0.7905854351153294.\n",
      "[I 2020-10-01 15:23:52,572] Trial 9 finished with value: 0.7479065494902922 and parameters: {'C': 4.188857370603983e-05, 'l1_ratio': 0.5957302416200702, 'class_weight': {0: 1.0, 1: 11}, 'penalty': 'elasticnet'}. Best is trial 4 with value: 0.7905854351153294.\n",
      "[I 2020-10-01 15:23:58,503] Trial 10 finished with value: 0.7901686951927505 and parameters: {'C': 80.35985001700939, 'l1_ratio': 0.18370805903643483, 'class_weight': {0: 1.0, 1: 12}, 'penalty': 'elasticnet'}. Best is trial 4 with value: 0.7905854351153294.\n",
      "[I 2020-10-01 15:24:04,434] Trial 11 finished with value: 0.7902079500312794 and parameters: {'C': 3.6213462717566225, 'l1_ratio': 0.2768148235984671, 'class_weight': {0: 1.0, 1: 12}, 'penalty': 'elasticnet'}. Best is trial 4 with value: 0.7905854351153294.\n",
      "[I 2020-10-01 15:24:09,571] Trial 12 finished with value: 0.7905736704816889 and parameters: {'C': 0.24047190008974934, 'l1_ratio': 0.36394806381491523, 'class_weight': {0: 1.0, 1: 12}, 'penalty': 'elasticnet'}. Best is trial 4 with value: 0.7905854351153294.\n",
      "[I 2020-10-01 15:24:15,194] Trial 13 finished with value: 0.7901692482880562 and parameters: {'C': 54.93467405611984, 'l1_ratio': 0.3704672281551151, 'class_weight': {0: 1.0, 1: 12}, 'penalty': 'elasticnet'}. Best is trial 4 with value: 0.7905854351153294.\n",
      "[I 2020-10-01 15:24:19,026] Trial 14 finished with value: 0.7909227825043483 and parameters: {'C': 0.08691808064929885, 'l1_ratio': 0.39274830013797835, 'class_weight': 'balanced', 'penalty': 'elasticnet'}. Best is trial 14 with value: 0.7909227825043483.\n",
      "[I 2020-10-01 15:24:21,666] Trial 15 finished with value: 0.7906700625178213 and parameters: {'C': 0.03555851627051769, 'l1_ratio': 0.4361014482196681, 'class_weight': 'balanced', 'penalty': 'elasticnet'}. Best is trial 14 with value: 0.7909227825043483.\n",
      "[I 2020-10-01 15:24:24,979] Trial 16 finished with value: 0.790589404533838 and parameters: {'C': 0.031123977835157596, 'l1_ratio': 0.09237158604347545, 'class_weight': 'balanced', 'penalty': 'elasticnet'}. Best is trial 14 with value: 0.7909227825043483.\n",
      "[I 2020-10-01 15:24:30,561] Trial 17 finished with value: 0.7904137739623713 and parameters: {'C': 6.441014757707024, 'l1_ratio': 0.4439851483252614, 'class_weight': 'balanced', 'penalty': 'elasticnet'}. Best is trial 14 with value: 0.7909227825043483.\n",
      "[I 2020-10-01 15:24:32,029] Trial 18 finished with value: 0.7881618679347981 and parameters: {'C': 0.00457917841472683, 'l1_ratio': 0.22956122279742952, 'class_weight': 'balanced', 'penalty': 'elasticnet'}. Best is trial 14 with value: 0.7909227825043483.\n",
      "[I 2020-10-01 15:24:36,185] Trial 19 finished with value: 0.7907460702763343 and parameters: {'C': 0.08913353589176007, 'l1_ratio': 0.06676206790425132, 'class_weight': 'balanced', 'penalty': 'elasticnet'}. Best is trial 14 with value: 0.7909227825043483.\n",
      "[I 2020-10-01 15:24:39,602] Trial 20 finished with value: 0.7906614910463883 and parameters: {'C': 0.06110556299627634, 'l1_ratio': 9.410611281412962e-05, 'class_weight': {0: 1.0, 1: 9.0}, 'penalty': 'elasticnet'}. Best is trial 14 with value: 0.7909227825043483.\n",
      "[I 2020-10-01 15:24:45,733] Trial 21 finished with value: 0.7904689424152069 and parameters: {'C': 1.115119868900078, 'l1_ratio': 0.025914870609816842, 'class_weight': 'balanced', 'penalty': 'elasticnet'}. Best is trial 14 with value: 0.7909227825043483.\n",
      "[I 2020-10-01 15:24:48,368] Trial 22 finished with value: 0.7907703342001151 and parameters: {'C': 0.041944583516704236, 'l1_ratio': 0.49895441815285535, 'class_weight': 'balanced', 'penalty': 'elasticnet'}. Best is trial 14 with value: 0.7909227825043483.\n",
      "[I 2020-10-01 15:24:52,746] Trial 23 finished with value: 0.7909707843004001 and parameters: {'C': 0.0784924576561492, 'l1_ratio': 0.5380550185879545, 'class_weight': 'balanced', 'penalty': 'elasticnet'}. Best is trial 23 with value: 0.7909707843004001.\n",
      "[I 2020-10-01 15:24:54,290] Trial 24 finished with value: 0.7889897896835751 and parameters: {'C': 0.010097039826437948, 'l1_ratio': 0.5335765980468714, 'class_weight': 'balanced', 'penalty': 'elasticnet'}. Best is trial 23 with value: 0.7909707843004001.\n",
      "[I 2020-10-01 15:24:55,512] Trial 25 finished with value: 0.7575736965773345 and parameters: {'C': 0.0014509417348540798, 'l1_ratio': 0.33483659433351465, 'class_weight': None, 'penalty': 'elasticnet'}. Best is trial 23 with value: 0.7909707843004001.\n",
      "[I 2020-10-01 15:25:01,236] Trial 26 finished with value: 0.7902206197146285 and parameters: {'C': 16.302778297346748, 'l1_ratio': 0.5824016386037855, 'class_weight': {0: 1.0, 1: 10}, 'penalty': 'elasticnet'}. Best is trial 23 with value: 0.7909707843004001.\n",
      "[I 2020-10-01 15:25:05,633] Trial 27 finished with value: 0.7903863197884661 and parameters: {'C': 0.9395458873217513, 'l1_ratio': 0.45270279560063253, 'class_weight': 'balanced', 'penalty': 'none'}. Best is trial 23 with value: 0.7909707843004001.\n",
      "[I 2020-10-01 15:25:07,306] Trial 28 finished with value: 0.7899696176059707 and parameters: {'C': 0.01945075742588505, 'l1_ratio': 0.591930253457168, 'class_weight': 'balanced', 'penalty': 'elasticnet'}. Best is trial 23 with value: 0.7909707843004001.\n",
      "[I 2020-10-01 15:25:10,387] Trial 29 finished with value: 0.7910107376476233 and parameters: {'C': 0.08715666975282609, 'l1_ratio': 0.7677174349691638, 'class_weight': 'balanced', 'penalty': 'elasticnet'}. Best is trial 29 with value: 0.7910107376476233.\n",
      "[I 2020-10-01 15:25:11,417] Trial 30 finished with value: 0.7492337852913179 and parameters: {'C': 0.00018343482762117757, 'l1_ratio': 0.7762390171575017, 'class_weight': 'balanced', 'penalty': 'elasticnet'}. Best is trial 29 with value: 0.7910107376476233.\n",
      "[I 2020-10-01 15:25:15,355] Trial 31 finished with value: 0.7909236536865775 and parameters: {'C': 0.10877202575361976, 'l1_ratio': 0.511530109438763, 'class_weight': 'balanced', 'penalty': 'elasticnet'}. Best is trial 29 with value: 0.7910107376476233.\n",
      "[I 2020-10-01 15:25:20,277] Trial 32 finished with value: 0.7909591740500413 and parameters: {'C': 0.11704407571778318, 'l1_ratio': 0.7718018991084865, 'class_weight': 'balanced', 'penalty': 'elasticnet'}. Best is trial 29 with value: 0.7910107376476233.\n",
      "[I 2020-10-01 15:25:25,969] Trial 33 finished with value: 0.7906559161223232 and parameters: {'C': 0.6575003573574024, 'l1_ratio': 0.7725982163560597, 'class_weight': 'balanced', 'penalty': 'elasticnet'}. Best is trial 29 with value: 0.7910107376476233.\n",
      "[I 2020-10-01 15:25:30,045] Trial 34 finished with value: 0.7905980226850668 and parameters: {'C': 0.12407537123769866, 'l1_ratio': 0.8693838587099348, 'class_weight': None, 'penalty': 'elasticnet'}. Best is trial 29 with value: 0.7910107376476233.\n",
      "[I 2020-10-01 15:25:35,735] Trial 35 finished with value: 0.7904471230598294 and parameters: {'C': 3.0827779043982666, 'l1_ratio': 0.6481711464678188, 'class_weight': 'balanced', 'penalty': 'elasticnet'}. Best is trial 29 with value: 0.7910107376476233.\n",
      "[I 2020-10-01 15:25:40,119] Trial 36 finished with value: 0.7902151822422249 and parameters: {'C': 0.005702744239551671, 'l1_ratio': 0.9745568809799844, 'class_weight': {0: 1.0, 1: 10}, 'penalty': 'none'}. Best is trial 29 with value: 0.7910107376476233.\n",
      "[I 2020-10-01 15:25:45,700] Trial 37 finished with value: 0.7907562590011825 and parameters: {'C': 0.4326277621032611, 'l1_ratio': 0.7865054948988621, 'class_weight': 'balanced', 'penalty': 'elasticnet'}. Best is trial 29 with value: 0.7910107376476233.\n",
      "[I 2020-10-01 15:25:47,557] Trial 38 finished with value: 0.7907490570229968 and parameters: {'C': 0.018728322121227894, 'l1_ratio': 0.6788268391054717, 'class_weight': {0: 1.0, 1: 9.0}, 'penalty': 'elasticnet'}. Best is trial 29 with value: 0.7910107376476233.\n",
      "[I 2020-10-01 15:25:51,837] Trial 39 finished with value: 0.7901937777169737 and parameters: {'C': 0.1493168580935898, 'l1_ratio': 0.9272702247782776, 'class_weight': {0: 1.0, 1: 11}, 'penalty': 'none'}. Best is trial 29 with value: 0.7910107376476233.\n",
      "[I 2020-10-01 15:25:53,479] Trial 40 finished with value: 0.7882980675715923 and parameters: {'C': 0.009092189312887756, 'l1_ratio': 0.6285992442504166, 'class_weight': 'balanced', 'penalty': 'elasticnet'}. Best is trial 29 with value: 0.7910107376476233.\n",
      "[I 2020-10-01 15:25:58,061] Trial 41 finished with value: 0.790972160980854 and parameters: {'C': 0.07948458901121055, 'l1_ratio': 0.5327828733837789, 'class_weight': 'balanced', 'penalty': 'elasticnet'}. Best is trial 29 with value: 0.7910107376476233.\n",
      "[I 2020-10-01 15:26:03,763] Trial 42 finished with value: 0.7906699992829832 and parameters: {'C': 0.4465970139426992, 'l1_ratio': 0.5422230745314678, 'class_weight': 'balanced', 'penalty': 'elasticnet'}. Best is trial 29 with value: 0.7910107376476233.\n",
      "[I 2020-10-01 15:26:05,059] Trial 43 finished with value: 0.7786724543661566 and parameters: {'C': 0.0015726480728770777, 'l1_ratio': 0.7094829034531108, 'class_weight': 'balanced', 'penalty': 'elasticnet'}. Best is trial 29 with value: 0.7910107376476233.\n",
      "[I 2020-10-01 15:26:09,979] Trial 44 finished with value: 0.7908064227688213 and parameters: {'C': 0.19089711485937144, 'l1_ratio': 0.47884002347271487, 'class_weight': 'balanced', 'penalty': 'elasticnet'}. Best is trial 29 with value: 0.7910107376476233.\n",
      "[I 2020-10-01 15:26:15,670] Trial 45 finished with value: 0.7897340317916418 and parameters: {'C': 1.7989595132383887, 'l1_ratio': 0.7498625133856258, 'class_weight': None, 'penalty': 'elasticnet'}. Best is trial 29 with value: 0.7910107376476233.\n",
      "[I 2020-10-01 15:26:17,746] Trial 46 finished with value: 0.7909390775140025 and parameters: {'C': 0.051103636590502155, 'l1_ratio': 0.8168963790250223, 'class_weight': {0: 1.0, 1: 11}, 'penalty': 'elasticnet'}. Best is trial 29 with value: 0.7910107376476233.\n",
      "[I 2020-10-01 15:26:19,592] Trial 47 finished with value: 0.7909432666363092 and parameters: {'C': 0.023555423598656516, 'l1_ratio': 0.8683101168114065, 'class_weight': {0: 1.0, 1: 11}, 'penalty': 'elasticnet'}. Best is trial 29 with value: 0.7910107376476233.\n",
      "[I 2020-10-01 15:26:21,029] Trial 48 finished with value: 0.7835858282895368 and parameters: {'C': 0.002597039538005648, 'l1_ratio': 0.8726547499059204, 'class_weight': {0: 1.0, 1: 11}, 'penalty': 'elasticnet'}. Best is trial 29 with value: 0.7910107376476233.\n",
      "[I 2020-10-01 15:26:25,620] Trial 49 finished with value: 0.7901937777169737 and parameters: {'C': 0.0004522883168047995, 'l1_ratio': 0.9236461593313728, 'class_weight': {0: 1.0, 1: 11}, 'penalty': 'none'}. Best is trial 29 with value: 0.7910107376476233.\n",
      "[I 2020-10-01 15:26:27,279] Trial 50 finished with value: 0.7904019793252078 and parameters: {'C': 0.014866357017946424, 'l1_ratio': 0.8284677530969279, 'class_weight': {0: 1.0, 1: 11}, 'penalty': 'elasticnet'}. Best is trial 29 with value: 0.7910107376476233.\n",
      "[I 2020-10-01 15:26:29,595] Trial 51 finished with value: 0.7909618338394153 and parameters: {'C': 0.04076176656360341, 'l1_ratio': 0.8227734976760034, 'class_weight': {0: 1.0, 1: 11}, 'penalty': 'elasticnet'}. Best is trial 29 with value: 0.7910107376476233.\n",
      "[I 2020-10-01 15:26:31,579] Trial 52 finished with value: 0.7910201646331781 and parameters: {'C': 0.026358424762339155, 'l1_ratio': 0.992549319499567, 'class_weight': {0: 1.0, 1: 11}, 'penalty': 'elasticnet'}. Best is trial 52 with value: 0.7910201646331781.\n",
      "[I 2020-10-01 15:26:34,097] Trial 53 finished with value: 0.7909447292078591 and parameters: {'C': 0.06828967839578143, 'l1_ratio': 0.9994003293471035, 'class_weight': {0: 1.0, 1: 11}, 'penalty': 'elasticnet'}. Best is trial 52 with value: 0.7910201646331781.\n",
      "[I 2020-10-01 15:26:39,566] Trial 54 finished with value: 0.7906064171386631 and parameters: {'C': 0.2991051530857939, 'l1_ratio': 0.6880108921842676, 'class_weight': {0: 1.0, 1: 11}, 'penalty': 'elasticnet'}. Best is trial 52 with value: 0.7910201646331781.\n",
      "[I 2020-10-01 15:26:41,965] Trial 55 finished with value: 0.790969700618874 and parameters: {'C': 0.03762780928302806, 'l1_ratio': 0.7520107089750414, 'class_weight': {0: 1.0, 1: 9.0}, 'penalty': 'elasticnet'}. Best is trial 52 with value: 0.7910201646331781.\n",
      "[I 2020-10-01 15:26:44,062] Trial 56 finished with value: 0.7909865514195662 and parameters: {'C': 0.045599454357107924, 'l1_ratio': 0.7335370006666717, 'class_weight': {0: 1.0, 1: 9.0}, 'penalty': 'elasticnet'}. Best is trial 52 with value: 0.7910201646331781.\n",
      "[I 2020-10-01 15:26:45,495] Trial 57 finished with value: 0.789239101079221 and parameters: {'C': 0.0066594648754373965, 'l1_ratio': 0.6111014895092306, 'class_weight': {0: 1.0, 1: 9.0}, 'penalty': 'elasticnet'}. Best is trial 52 with value: 0.7910201646331781.\n",
      "[I 2020-10-01 15:26:47,573] Trial 58 finished with value: 0.7908951195263969 and parameters: {'C': 0.03297515418796029, 'l1_ratio': 0.5559577638063672, 'class_weight': {0: 1.0, 1: 9.0}, 'penalty': 'elasticnet'}. Best is trial 52 with value: 0.7910201646331781.\n",
      "[I 2020-10-01 15:26:48,903] Trial 59 finished with value: 0.7882323359953589 and parameters: {'C': 0.0032650114569284065, 'l1_ratio': 0.4007469639606759, 'class_weight': {0: 1.0, 1: 9.0}, 'penalty': 'elasticnet'}. Best is trial 52 with value: 0.7910201646331781.\n",
      "[I 2020-10-01 15:26:49,603] Trial 60 finished with value: 0.5 and parameters: {'C': 1.3450059557128452e-05, 'l1_ratio': 0.7327591435735179, 'class_weight': {0: 1.0, 1: 9.0}, 'penalty': 'elasticnet'}. Best is trial 52 with value: 0.7910201646331781.\n",
      "[I 2020-10-01 15:26:51,463] Trial 61 finished with value: 0.7909820022297178 and parameters: {'C': 0.053285390879531463, 'l1_ratio': 0.8138453879485398, 'class_weight': {0: 1.0, 1: 9.0}, 'penalty': 'elasticnet'}. Best is trial 52 with value: 0.7910201646331781.\n"
     ]
    },
    {
     "name": "stderr",
     "output_type": "stream",
     "text": [
      "[I 2020-10-01 15:26:53,998] Trial 62 finished with value: 0.7909338809823218 and parameters: {'C': 0.061189753086054045, 'l1_ratio': 0.6478009067431644, 'class_weight': {0: 1.0, 1: 9.0}, 'penalty': 'elasticnet'}. Best is trial 52 with value: 0.7910201646331781.\n",
      "[I 2020-10-01 15:26:55,416] Trial 63 finished with value: 0.790358477590177 and parameters: {'C': 0.014701741648850828, 'l1_ratio': 0.7220763555013198, 'class_weight': {0: 1.0, 1: 9.0}, 'penalty': 'elasticnet'}. Best is trial 52 with value: 0.7910201646331781.\n",
      "[I 2020-10-01 15:26:59,700] Trial 64 finished with value: 0.7908161458557955 and parameters: {'C': 0.19687961597331166, 'l1_ratio': 0.9005445410467796, 'class_weight': {0: 1.0, 1: 9.0}, 'penalty': 'elasticnet'}. Best is trial 52 with value: 0.7910201646331781.\n",
      "[I 2020-10-01 15:27:01,885] Trial 65 finished with value: 0.7908892080433939 and parameters: {'C': 0.022626674598518217, 'l1_ratio': 0.969005652801274, 'class_weight': {0: 1.0, 1: 9.0}, 'penalty': 'elasticnet'}. Best is trial 52 with value: 0.7910201646331781.\n",
      "[I 2020-10-01 15:27:03,322] Trial 66 finished with value: 0.7897903380307201 and parameters: {'C': 0.008886088017747176, 'l1_ratio': 0.5686783570322301, 'class_weight': {0: 1.0, 1: 9.0}, 'penalty': 'elasticnet'}. Best is trial 52 with value: 0.7910201646331781.\n",
      "[I 2020-10-01 15:27:05,619] Trial 67 finished with value: 0.7909107929226179 and parameters: {'C': 0.07495419869008964, 'l1_ratio': 0.7524308544498828, 'class_weight': {0: 1.0, 1: 10}, 'penalty': 'elasticnet'}. Best is trial 52 with value: 0.7910201646331781.\n",
      "[I 2020-10-01 15:27:07,806] Trial 68 finished with value: 0.7909075309609938 and parameters: {'C': 0.0388934182910059, 'l1_ratio': 0.6717623452509827, 'class_weight': {0: 1.0, 1: 12}, 'penalty': 'elasticnet'}. Best is trial 52 with value: 0.7910201646331781.\n",
      "[I 2020-10-01 15:27:13,184] Trial 69 finished with value: 0.7906643395841634 and parameters: {'C': 0.28883996867606665, 'l1_ratio': 0.8090179922722769, 'class_weight': {0: 1.0, 1: 9.0}, 'penalty': 'elasticnet'}. Best is trial 52 with value: 0.7910201646331781.\n",
      "[I 2020-10-01 15:27:19,010] Trial 70 finished with value: 0.790441715677421 and parameters: {'C': 0.651789859332488, 'l1_ratio': 0.622132014213554, 'class_weight': {0: 1.0, 1: 9.0}, 'penalty': 'elasticnet'}. Best is trial 52 with value: 0.7910201646331781.\n",
      "[I 2020-10-01 15:27:21,433] Trial 71 finished with value: 0.7909599016838016 and parameters: {'C': 0.04144861113106225, 'l1_ratio': 0.8275952303354912, 'class_weight': {0: 1.0, 1: 11}, 'penalty': 'elasticnet'}. Best is trial 52 with value: 0.7910201646331781.\n",
      "[I 2020-10-01 15:27:24,601] Trial 72 finished with value: 0.7908440635559545 and parameters: {'C': 0.09652841125196195, 'l1_ratio': 0.8016778548036485, 'class_weight': {0: 1.0, 1: 9.0}, 'penalty': 'elasticnet'}. Best is trial 52 with value: 0.7910201646331781.\n",
      "[I 2020-10-01 15:27:26,590] Trial 73 finished with value: 0.7908799300755976 and parameters: {'C': 0.02482639136153665, 'l1_ratio': 0.7414623025836439, 'class_weight': {0: 1.0, 1: 11}, 'penalty': 'elasticnet'}. Best is trial 52 with value: 0.7910201646331781.\n",
      "[I 2020-10-01 15:27:31,291] Trial 74 finished with value: 0.790541607578348 and parameters: {'C': 0.18343102998564942, 'l1_ratio': 0.9018892415682845, 'class_weight': None, 'penalty': 'elasticnet'}. Best is trial 52 with value: 0.7910201646331781.\n",
      "[I 2020-10-01 15:27:32,844] Trial 75 finished with value: 0.7901354300002377 and parameters: {'C': 0.012482382621681503, 'l1_ratio': 0.7015115706301068, 'class_weight': {0: 1.0, 1: 9.0}, 'penalty': 'elasticnet'}. Best is trial 52 with value: 0.7910201646331781.\n",
      "[I 2020-10-01 15:27:37,420] Trial 76 finished with value: 0.7901679568669413 and parameters: {'C': 0.05446278994502125, 'l1_ratio': 0.8422474421859241, 'class_weight': {0: 1.0, 1: 12}, 'penalty': 'none'}. Best is trial 52 with value: 0.7910201646331781.\n",
      "[I 2020-10-01 15:27:41,798] Trial 77 finished with value: 0.7907434214126539 and parameters: {'C': 0.11852313355371433, 'l1_ratio': 0.32574128648104783, 'class_weight': {0: 1.0, 1: 10}, 'penalty': 'elasticnet'}. Best is trial 52 with value: 0.7910201646331781.\n",
      "[I 2020-10-01 15:27:44,423] Trial 78 finished with value: 0.7902023693262853 and parameters: {'C': 0.030924959494233, 'l1_ratio': 0.9961328264454468, 'class_weight': 'balanced', 'penalty': 'elasticnet'}. Best is trial 52 with value: 0.7910201646331781.\n",
      "[I 2020-10-01 15:27:49,919] Trial 79 finished with value: 0.7906675932335928 and parameters: {'C': 0.4254295931561812, 'l1_ratio': 0.47718148185442527, 'class_weight': 'balanced', 'penalty': 'elasticnet'}. Best is trial 52 with value: 0.7910201646331781.\n",
      "[I 2020-10-01 15:27:53,074] Trial 80 finished with value: 0.7909068510411366 and parameters: {'C': 0.07522026237185857, 'l1_ratio': 0.938112593963218, 'class_weight': {0: 1.0, 1: 11}, 'penalty': 'elasticnet'}. Best is trial 52 with value: 0.7910201646331781.\n",
      "[I 2020-10-01 15:27:55,463] Trial 81 finished with value: 0.7909501469923793 and parameters: {'C': 0.04836855119273281, 'l1_ratio': 0.8468164073977584, 'class_weight': {0: 1.0, 1: 11}, 'penalty': 'elasticnet'}. Best is trial 52 with value: 0.7910201646331781.\n",
      "[I 2020-10-01 15:27:57,877] Trial 82 finished with value: 0.7909412816739113 and parameters: {'C': 0.036408732384976945, 'l1_ratio': 0.7964801267999304, 'class_weight': {0: 1.0, 1: 11}, 'penalty': 'elasticnet'}. Best is trial 52 with value: 0.7910201646331781.\n",
      "[I 2020-10-01 15:27:59,419] Trial 83 finished with value: 0.7906020552865299 and parameters: {'C': 0.016100152626852847, 'l1_ratio': 0.7640354718411442, 'class_weight': {0: 1.0, 1: 11}, 'penalty': 'elasticnet'}. Best is trial 52 with value: 0.7910201646331781.\n",
      "[I 2020-10-01 15:28:03,363] Trial 84 finished with value: 0.790803630248497 and parameters: {'C': 0.15379643111949712, 'l1_ratio': 0.8274659100711147, 'class_weight': {0: 1.0, 1: 11}, 'penalty': 'elasticnet'}. Best is trial 52 with value: 0.7910201646331781.\n",
      "[I 2020-10-01 15:28:04,681] Trial 85 finished with value: 0.7857429828871774 and parameters: {'C': 0.007936271564631156, 'l1_ratio': 0.8827478120550427, 'class_weight': 'balanced', 'penalty': 'elasticnet'}. Best is trial 52 with value: 0.7910201646331781.\n",
      "[I 2020-10-01 15:28:06,854] Trial 86 finished with value: 0.7909180975459973 and parameters: {'C': 0.04553029752900795, 'l1_ratio': 0.5254228555576299, 'class_weight': {0: 1.0, 1: 11}, 'penalty': 'elasticnet'}. Best is trial 52 with value: 0.7910201646331781.\n",
      "[I 2020-10-01 15:28:08,166] Trial 87 finished with value: 0.7838531046555082 and parameters: {'C': 0.0046571787834368255, 'l1_ratio': 0.7106924950044565, 'class_weight': 'balanced', 'penalty': 'elasticnet'}. Best is trial 52 with value: 0.7910201646331781.\n",
      "[I 2020-10-01 15:28:10,013] Trial 88 finished with value: 0.7909575139160172 and parameters: {'C': 0.027134138784839036, 'l1_ratio': 0.7784198917376226, 'class_weight': {0: 1.0, 1: 9.0}, 'penalty': 'elasticnet'}. Best is trial 52 with value: 0.7910201646331781.\n",
      "[I 2020-10-01 15:28:13,502] Trial 89 finished with value: 0.7908010378868513 and parameters: {'C': 0.1347743099257865, 'l1_ratio': 0.847875331134622, 'class_weight': {0: 1.0, 1: 11}, 'penalty': 'elasticnet'}. Best is trial 52 with value: 0.7910201646331781.\n",
      "[I 2020-10-01 15:28:17,985] Trial 90 finished with value: 0.7903863197884661 and parameters: {'C': 0.08866340409111463, 'l1_ratio': 0.659861556640707, 'class_weight': 'balanced', 'penalty': 'none'}. Best is trial 52 with value: 0.7910201646331781.\n",
      "[I 2020-10-01 15:28:21,929] Trial 91 finished with value: 0.7910043419942012 and parameters: {'C': 0.10235902684769443, 'l1_ratio': 0.7877515395897684, 'class_weight': 'balanced', 'penalty': 'elasticnet'}. Best is trial 52 with value: 0.7910201646331781.\n",
      "[I 2020-10-01 15:28:23,246] Trial 92 finished with value: 0.7896896654642511 and parameters: {'C': 0.019272528189575318, 'l1_ratio': 0.7936097782589911, 'class_weight': 'balanced', 'penalty': 'elasticnet'}. Best is trial 52 with value: 0.7910201646331781.\n",
      "[I 2020-10-01 15:28:25,994] Trial 93 finished with value: 0.7909897135354959 and parameters: {'C': 0.06060625103794744, 'l1_ratio': 0.7301936304850347, 'class_weight': 'balanced', 'penalty': 'elasticnet'}. Best is trial 52 with value: 0.7910201646331781.\n",
      "[I 2020-10-01 15:28:31,371] Trial 94 finished with value: 0.7908104240471256 and parameters: {'C': 0.24996237538550678, 'l1_ratio': 0.7329500541945837, 'class_weight': 'balanced', 'penalty': 'elasticnet'}. Best is trial 52 with value: 0.7910201646331781.\n",
      "[I 2020-10-01 15:28:34,636] Trial 95 finished with value: 0.7909467835105495 and parameters: {'C': 0.06323230016048932, 'l1_ratio': 0.6399598986390576, 'class_weight': 'balanced', 'penalty': 'elasticnet'}. Best is trial 52 with value: 0.7910201646331781.\n",
      "[I 2020-10-01 15:28:38,818] Trial 96 finished with value: 0.7908855537174924 and parameters: {'C': 0.13718436830134703, 'l1_ratio': 0.6912029862606961, 'class_weight': 'balanced', 'penalty': 'elasticnet'}. Best is trial 52 with value: 0.7910201646331781.\n",
      "[I 2020-10-01 15:28:41,902] Trial 97 finished with value: 0.7910058872461802 and parameters: {'C': 0.0904410570209736, 'l1_ratio': 0.758008051978101, 'class_weight': 'balanced', 'penalty': 'elasticnet'}. Best is trial 52 with value: 0.7910201646331781.\n",
      "[I 2020-10-01 15:28:45,185] Trial 98 finished with value: 0.7909976920858611 and parameters: {'C': 0.09307246884669818, 'l1_ratio': 0.7612791730712078, 'class_weight': 'balanced', 'penalty': 'elasticnet'}. Best is trial 52 with value: 0.7910201646331781.\n",
      "[I 2020-10-01 15:28:49,654] Trial 99 finished with value: 0.7909627890824094 and parameters: {'C': 0.09944936317830423, 'l1_ratio': 0.5838905795518293, 'class_weight': 'balanced', 'penalty': 'elasticnet'}. Best is trial 52 with value: 0.7910201646331781.\n",
      "[I 2020-10-01 15:28:55,122] Trial 100 finished with value: 0.7906359164030738 and parameters: {'C': 0.68906387730886, 'l1_ratio': 0.7229337011929972, 'class_weight': 'balanced', 'penalty': 'elasticnet'}. Best is trial 52 with value: 0.7910201646331781.\n",
      "[I 2020-10-01 15:28:59,595] Trial 101 finished with value: 0.7908155466778617 and parameters: {'C': 0.19992286862187372, 'l1_ratio': 0.7617609417339828, 'class_weight': 'balanced', 'penalty': 'elasticnet'}. Best is trial 52 with value: 0.7910201646331781.\n",
      "[I 2020-10-01 15:29:05,434] Trial 102 finished with value: 0.79075623390454 and parameters: {'C': 0.3414488564646504, 'l1_ratio': 0.6066136387404566, 'class_weight': 'balanced', 'penalty': 'elasticnet'}. Best is trial 52 with value: 0.7910201646331781.\n",
      "[I 2020-10-01 15:29:08,514] Trial 103 finished with value: 0.790998215316169 and parameters: {'C': 0.08081003345595539, 'l1_ratio': 0.7523901030722969, 'class_weight': 'balanced', 'penalty': 'elasticnet'}. Best is trial 52 with value: 0.7910201646331781.\n",
      "[I 2020-10-01 15:29:11,465] Trial 104 finished with value: 0.7909904012266717 and parameters: {'C': 0.08025022163332278, 'l1_ratio': 0.67530470759807, 'class_weight': 'balanced', 'penalty': 'elasticnet'}. Best is trial 52 with value: 0.7910201646331781.\n",
      "[I 2020-10-01 15:29:14,731] Trial 105 finished with value: 0.7909951970991751 and parameters: {'C': 0.08253949624729004, 'l1_ratio': 0.6837049391362696, 'class_weight': 'balanced', 'penalty': 'elasticnet'}. Best is trial 52 with value: 0.7910201646331781.\n",
      "[I 2020-10-01 15:29:17,791] Trial 106 finished with value: 0.7909674951608631 and parameters: {'C': 0.05984752481200494, 'l1_ratio': 0.687316593014136, 'class_weight': 'balanced', 'penalty': 'elasticnet'}. Best is trial 52 with value: 0.7910201646331781.\n",
      "[I 2020-10-01 15:29:19,324] Trial 107 finished with value: 0.78885363258557 and parameters: {'C': 0.01130150692427124, 'l1_ratio': 0.6727583665587331, 'class_weight': 'balanced', 'penalty': 'elasticnet'}. Best is trial 52 with value: 0.7910201646331781.\n",
      "[I 2020-10-01 15:29:23,490] Trial 108 finished with value: 0.7909989988678519 and parameters: {'C': 0.10359045536003442, 'l1_ratio': 0.7824779170922309, 'class_weight': 'balanced', 'penalty': 'elasticnet'}. Best is trial 52 with value: 0.7910201646331781.\n",
      "[I 2020-10-01 15:29:27,526] Trial 109 finished with value: 0.7908469945664557 and parameters: {'C': 0.1721905007916928, 'l1_ratio': 0.7791464375893172, 'class_weight': 'balanced', 'penalty': 'elasticnet'}. Best is trial 52 with value: 0.7910201646331781.\n",
      "[I 2020-10-01 15:29:32,711] Trial 110 finished with value: 0.7909787375291251 and parameters: {'C': 0.10420888613197749, 'l1_ratio': 0.7161354621244744, 'class_weight': 'balanced', 'penalty': 'elasticnet'}. Best is trial 52 with value: 0.7910201646331781.\n",
      "[I 2020-10-01 15:29:37,738] Trial 111 finished with value: 0.7908106094939795 and parameters: {'C': 0.24211796656012669, 'l1_ratio': 0.7327242737897967, 'class_weight': 'balanced', 'penalty': 'elasticnet'}. Best is trial 52 with value: 0.7910201646331781.\n",
      "[I 2020-10-01 15:29:40,706] Trial 112 finished with value: 0.7910043006626337 and parameters: {'C': 0.07577321465730485, 'l1_ratio': 0.7585694001335078, 'class_weight': 'balanced', 'penalty': 'elasticnet'}. Best is trial 52 with value: 0.7910201646331781.\n",
      "[I 2020-10-01 15:29:43,778] Trial 113 finished with value: 0.7910038306631635 and parameters: {'C': 0.08287003200797623, 'l1_ratio': 0.7518729452028465, 'class_weight': 'balanced', 'penalty': 'elasticnet'}. Best is trial 52 with value: 0.7910201646331781.\n",
      "[I 2020-10-01 15:29:46,747] Trial 114 finished with value: 0.7909984007630226 and parameters: {'C': 0.08251913686878816, 'l1_ratio': 0.7629064391767889, 'class_weight': 'balanced', 'penalty': 'elasticnet'}. Best is trial 52 with value: 0.7910201646331781.\n",
      "[I 2020-10-01 15:29:51,122] Trial 115 finished with value: 0.7909073326067042 and parameters: {'C': 0.13166559627893865, 'l1_ratio': 0.7668467513581422, 'class_weight': 'balanced', 'penalty': 'elasticnet'}. Best is trial 52 with value: 0.7910201646331781.\n",
      "[I 2020-10-01 15:29:54,306] Trial 116 finished with value: 0.7910136362055694 and parameters: {'C': 0.09091910493372059, 'l1_ratio': 0.7903417565948319, 'class_weight': 'balanced', 'penalty': 'elasticnet'}. Best is trial 52 with value: 0.7910201646331781.\n",
      "[I 2020-10-01 15:29:59,674] Trial 117 finished with value: 0.7908159697120076 and parameters: {'C': 0.3244508848351813, 'l1_ratio': 0.7920224676679449, 'class_weight': 'balanced', 'penalty': 'elasticnet'}. Best is trial 52 with value: 0.7910201646331781.\n",
      "[I 2020-10-01 15:30:05,247] Trial 118 finished with value: 0.7906701074754615 and parameters: {'C': 0.5966689920642383, 'l1_ratio': 0.749040875606177, 'class_weight': 'balanced', 'penalty': 'elasticnet'}. Best is trial 52 with value: 0.7910201646331781.\n",
      "[I 2020-10-01 15:30:07,778] Trial 119 finished with value: 0.7903126139412304 and parameters: {'C': 0.030129682129824798, 'l1_ratio': 0.8606051464390833, 'class_weight': 'balanced', 'penalty': 'elasticnet'}. Best is trial 52 with value: 0.7910201646331781.\n",
      "[I 2020-10-01 15:30:11,151] Trial 120 finished with value: 0.7910145872383785 and parameters: {'C': 0.10853080660578686, 'l1_ratio': 0.8843669817156004, 'class_weight': 'balanced', 'penalty': 'elasticnet'}. Best is trial 52 with value: 0.7910201646331781.\n",
      "[I 2020-10-01 15:30:14,103] Trial 121 finished with value: 0.7910228732831464 and parameters: {'C': 0.10286009943673462, 'l1_ratio': 0.8853642930094441, 'class_weight': 'balanced', 'penalty': 'elasticnet'}. Best is trial 121 with value: 0.7910228732831464.\n",
      "[I 2020-10-01 15:30:18,807] Trial 122 finished with value: 0.7908388799057677 and parameters: {'C': 0.1819515390501648, 'l1_ratio': 0.9497670967357047, 'class_weight': 'balanced', 'penalty': 'elasticnet'}. Best is trial 121 with value: 0.7910228732831464.\n",
      "[I 2020-10-01 15:30:23,165] Trial 123 finished with value: 0.7909921862294468 and parameters: {'C': 0.10980033846053507, 'l1_ratio': 0.8075786785048081, 'class_weight': 'balanced', 'penalty': 'elasticnet'}. Best is trial 121 with value: 0.7910228732831464.\n",
      "[I 2020-10-01 15:30:27,448] Trial 124 finished with value: 0.7908905806954243 and parameters: {'C': 0.1526138176942347, 'l1_ratio': 0.9126416242637821, 'class_weight': 'balanced', 'penalty': 'elasticnet'}. Best is trial 121 with value: 0.7910228732831464.\n"
     ]
    },
    {
     "name": "stderr",
     "output_type": "stream",
     "text": [
      "[I 2020-10-01 15:30:31,935] Trial 125 finished with value: 0.790819626075943 and parameters: {'C': 0.23298480348450012, 'l1_ratio': 0.8885439551166441, 'class_weight': 'balanced', 'penalty': 'elasticnet'}. Best is trial 121 with value: 0.7910228732831464.\n",
      "[I 2020-10-01 15:30:38,304] Trial 126 finished with value: 0.7907646480460196 and parameters: {'C': 0.4378841024467422, 'l1_ratio': 0.8363364036142433, 'class_weight': 'balanced', 'penalty': 'elasticnet'}. Best is trial 121 with value: 0.7910228732831464.\n",
      "[I 2020-10-01 15:30:43,730] Trial 127 finished with value: 0.790980855996994 and parameters: {'C': 0.10947949729509962, 'l1_ratio': 0.779249835507399, 'class_weight': 'balanced', 'penalty': 'elasticnet'}. Best is trial 121 with value: 0.7910228732831464.\n",
      "[I 2020-10-01 15:30:48,935] Trial 128 finished with value: 0.7903863197884661 and parameters: {'C': 0.02283055526043597, 'l1_ratio': 0.980711683666912, 'class_weight': 'balanced', 'penalty': 'none'}. Best is trial 121 with value: 0.7910228732831464.\n",
      "[I 2020-10-01 15:30:52,460] Trial 129 finished with value: 0.7897488787294595 and parameters: {'C': 0.04944197846178114, 'l1_ratio': 0.8083899446467099, 'class_weight': None, 'penalty': 'elasticnet'}. Best is trial 121 with value: 0.7910228732831464.\n",
      "[I 2020-10-01 15:30:55,676] Trial 130 finished with value: 0.7909862298537426 and parameters: {'C': 0.07075661631886335, 'l1_ratio': 0.7566624214884873, 'class_weight': 'balanced', 'penalty': 'elasticnet'}. Best is trial 121 with value: 0.7910228732831464.\n",
      "[I 2020-10-01 15:30:59,123] Trial 131 finished with value: 0.7910024821169046 and parameters: {'C': 0.08545030091684573, 'l1_ratio': 0.7016617726762356, 'class_weight': 'balanced', 'penalty': 'elasticnet'}. Best is trial 121 with value: 0.7910228732831464.\n",
      "[I 2020-10-01 15:31:02,761] Trial 132 finished with value: 0.7910061715824461 and parameters: {'C': 0.0922061711686858, 'l1_ratio': 0.7870877308108113, 'class_weight': 'balanced', 'penalty': 'elasticnet'}. Best is trial 121 with value: 0.7910228732831464.\n",
      "[I 2020-10-01 15:31:06,189] Trial 133 finished with value: 0.7907709016827201 and parameters: {'C': 0.03662918829218471, 'l1_ratio': 0.790164573080532, 'class_weight': 'balanced', 'penalty': 'elasticnet'}. Best is trial 121 with value: 0.7910228732831464.\n",
      "[I 2020-10-01 15:31:11,823] Trial 134 finished with value: 0.7909211563113903 and parameters: {'C': 0.1373666407419514, 'l1_ratio': 0.8618956715223112, 'class_weight': 'balanced', 'penalty': 'elasticnet'}. Best is trial 121 with value: 0.7910228732831464.\n",
      "[I 2020-10-01 15:31:15,351] Trial 135 finished with value: 0.7909810472939548 and parameters: {'C': 0.05796536485759603, 'l1_ratio': 0.7026225164060053, 'class_weight': 'balanced', 'penalty': 'elasticnet'}. Best is trial 121 with value: 0.7910228732831464.\n",
      "[I 2020-10-01 15:31:20,304] Trial 136 finished with value: 0.7908296841511111 and parameters: {'C': 0.1905669484404549, 'l1_ratio': 0.8234209344430257, 'class_weight': 'balanced', 'penalty': 'elasticnet'}. Best is trial 121 with value: 0.7910228732831464.\n",
      "[I 2020-10-01 15:31:23,723] Trial 137 finished with value: 0.7908719017300591 and parameters: {'C': 0.08104687817171748, 'l1_ratio': 0.7438669150218391, 'class_weight': {0: 1.0, 1: 12}, 'penalty': 'elasticnet'}. Best is trial 121 with value: 0.7910228732831464.\n",
      "[I 2020-10-01 15:31:26,707] Trial 138 finished with value: 0.7903930958073674 and parameters: {'C': 0.02952751267768563, 'l1_ratio': 0.7808218072325578, 'class_weight': 'balanced', 'penalty': 'elasticnet'}. Best is trial 121 with value: 0.7910228732831464.\n",
      "[I 2020-10-01 15:31:32,787] Trial 139 finished with value: 0.7906737136461116 and parameters: {'C': 0.28444746681693955, 'l1_ratio': 0.8456908588385172, 'class_weight': {0: 1.0, 1: 10}, 'penalty': 'elasticnet'}. Best is trial 121 with value: 0.7910228732831464.\n",
      "[I 2020-10-01 15:31:38,630] Trial 140 finished with value: 0.7909614301426856 and parameters: {'C': 0.11831792585713523, 'l1_ratio': 0.8128964642566934, 'class_weight': 'balanced', 'penalty': 'elasticnet'}. Best is trial 121 with value: 0.7910228732831464.\n",
      "[I 2020-10-01 15:31:42,067] Trial 141 finished with value: 0.7910069956002952 and parameters: {'C': 0.09078622215070543, 'l1_ratio': 0.7622909457979044, 'class_weight': 'balanced', 'penalty': 'elasticnet'}. Best is trial 121 with value: 0.7910228732831464.\n",
      "[I 2020-10-01 15:31:45,292] Trial 142 finished with value: 0.7909348824420609 and parameters: {'C': 0.04722491071808662, 'l1_ratio': 0.7129347932814529, 'class_weight': 'balanced', 'penalty': 'elasticnet'}. Best is trial 121 with value: 0.7910228732831464.\n",
      "[I 2020-10-01 15:31:48,610] Trial 143 finished with value: 0.7909853101917366 and parameters: {'C': 0.07189272162976891, 'l1_ratio': 0.7631859784247839, 'class_weight': 'balanced', 'penalty': 'elasticnet'}. Best is trial 121 with value: 0.7910228732831464.\n",
      "[I 2020-10-01 15:31:52,045] Trial 144 finished with value: 0.7910080191277719 and parameters: {'C': 0.09782212263849309, 'l1_ratio': 0.7956040241007304, 'class_weight': 'balanced', 'penalty': 'elasticnet'}. Best is trial 121 with value: 0.7910228732831464.\n",
      "[I 2020-10-01 15:31:57,019] Trial 145 finished with value: 0.7908896599516668 and parameters: {'C': 0.15073383841715737, 'l1_ratio': 0.8783979417805353, 'class_weight': 'balanced', 'penalty': 'elasticnet'}. Best is trial 121 with value: 0.7910228732831464.\n",
      "[I 2020-10-01 15:32:00,351] Trial 146 finished with value: 0.7909208276319462 and parameters: {'C': 0.04110260257243458, 'l1_ratio': 0.7957671376640629, 'class_weight': 'balanced', 'penalty': 'elasticnet'}. Best is trial 121 with value: 0.7910228732831464.\n",
      "[I 2020-10-01 15:32:04,995] Trial 147 finished with value: 0.7910016656713186 and parameters: {'C': 0.10217001459340423, 'l1_ratio': 0.7774960231836134, 'class_weight': 'balanced', 'penalty': 'elasticnet'}. Best is trial 121 with value: 0.7910228732831464.\n",
      "[I 2020-10-01 15:32:10,972] Trial 148 finished with value: 0.7908148537856297 and parameters: {'C': 0.2528227914642689, 'l1_ratio': 0.8233003904854486, 'class_weight': 'balanced', 'penalty': 'elasticnet'}. Best is trial 121 with value: 0.7910228732831464.\n",
      "[I 2020-10-01 15:32:16,404] Trial 149 finished with value: 0.7909671361577786 and parameters: {'C': 0.1147178251493439, 'l1_ratio': 0.7901316751545954, 'class_weight': 'balanced', 'penalty': 'elasticnet'}. Best is trial 121 with value: 0.7910228732831464.\n",
      "[I 2020-10-01 15:32:19,401] Trial 150 finished with value: 0.7909910413121197 and parameters: {'C': 0.05537967777596741, 'l1_ratio': 0.7401265203313517, 'class_weight': 'balanced', 'penalty': 'elasticnet'}. Best is trial 121 with value: 0.7910228732831464.\n",
      "[I 2020-10-01 15:32:22,668] Trial 151 finished with value: 0.7910023985883683 and parameters: {'C': 0.09561546664482971, 'l1_ratio': 0.7741031032035349, 'class_weight': 'balanced', 'penalty': 'elasticnet'}. Best is trial 121 with value: 0.7910228732831464.\n",
      "[I 2020-10-01 15:32:26,496] Trial 152 finished with value: 0.7908481873145085 and parameters: {'C': 0.1672986227094746, 'l1_ratio': 0.7795231919836914, 'class_weight': 'balanced', 'penalty': 'elasticnet'}. Best is trial 121 with value: 0.7910228732831464.\n",
      "[I 2020-10-01 15:32:30,216] Trial 153 finished with value: 0.7910027828957985 and parameters: {'C': 0.10909761689895398, 'l1_ratio': 0.8405331979757544, 'class_weight': 'balanced', 'penalty': 'elasticnet'}. Best is trial 121 with value: 0.7910228732831464.\n",
      "[I 2020-10-01 15:32:33,061] Trial 154 finished with value: 0.7910293399167834 and parameters: {'C': 0.05867545530459804, 'l1_ratio': 0.8407869464184947, 'class_weight': 'balanced', 'penalty': 'elasticnet'}. Best is trial 154 with value: 0.7910293399167834.\n",
      "[I 2020-10-01 15:32:35,809] Trial 155 finished with value: 0.7910258242151758 and parameters: {'C': 0.05663141013117695, 'l1_ratio': 0.9005026004413877, 'class_weight': 'balanced', 'penalty': 'elasticnet'}. Best is trial 154 with value: 0.7910293399167834.\n",
      "[I 2020-10-01 15:32:38,545] Trial 156 finished with value: 0.7903624773453816 and parameters: {'C': 0.031798214478358316, 'l1_ratio': 0.9143292134273713, 'class_weight': 'balanced', 'penalty': 'elasticnet'}. Best is trial 154 with value: 0.7910293399167834.\n",
      "[I 2020-10-01 15:32:40,074] Trial 157 finished with value: 0.7895499891035043 and parameters: {'C': 0.01869306480920509, 'l1_ratio': 0.8936719950355926, 'class_weight': 'balanced', 'penalty': 'elasticnet'}. Best is trial 154 with value: 0.7910293399167834.\n",
      "[I 2020-10-01 15:32:43,683] Trial 158 finished with value: 0.7898778711005394 and parameters: {'C': 0.05831137353604577, 'l1_ratio': 0.9376035678809068, 'class_weight': None, 'penalty': 'elasticnet'}. Best is trial 154 with value: 0.7910293399167834.\n",
      "[I 2020-10-01 15:32:46,652] Trial 159 finished with value: 0.7908293337371022 and parameters: {'C': 0.039191881563869775, 'l1_ratio': 0.8515989340147553, 'class_weight': 'balanced', 'penalty': 'elasticnet'}. Best is trial 154 with value: 0.7910293399167834.\n",
      "[I 2020-10-01 15:32:48,181] Trial 160 finished with value: 0.7898854137049145 and parameters: {'C': 0.02374578418239176, 'l1_ratio': 0.8690627427057948, 'class_weight': 'balanced', 'penalty': 'elasticnet'}. Best is trial 154 with value: 0.7910293399167834.\n",
      "[I 2020-10-01 15:32:51,027] Trial 161 finished with value: 0.7910063211064917 and parameters: {'C': 0.06841963244813937, 'l1_ratio': 0.8135871794166175, 'class_weight': 'balanced', 'penalty': 'elasticnet'}. Best is trial 154 with value: 0.7910293399167834.\n",
      "[I 2020-10-01 15:32:54,091] Trial 162 finished with value: 0.7910132317689078 and parameters: {'C': 0.06629100867511166, 'l1_ratio': 0.8326241296561863, 'class_weight': 'balanced', 'penalty': 'elasticnet'}. Best is trial 154 with value: 0.7910293399167834.\n",
      "[I 2020-10-01 15:32:57,090] Trial 163 finished with value: 0.7910152587032768 and parameters: {'C': 0.06681318366050919, 'l1_ratio': 0.8372111350707822, 'class_weight': 'balanced', 'penalty': 'elasticnet'}. Best is trial 154 with value: 0.7910293399167834.\n",
      "[I 2020-10-01 15:32:59,839] Trial 164 finished with value: 0.7910209731560343 and parameters: {'C': 0.06217321980261269, 'l1_ratio': 0.8310266847553486, 'class_weight': 'balanced', 'penalty': 'elasticnet'}. Best is trial 154 with value: 0.7910293399167834.\n",
      "[I 2020-10-01 15:33:02,700] Trial 165 finished with value: 0.7910302894437873 and parameters: {'C': 0.053373123561168086, 'l1_ratio': 0.8877166042905653, 'class_weight': 'balanced', 'penalty': 'elasticnet'}. Best is trial 165 with value: 0.7910302894437873.\n",
      "[I 2020-10-01 15:33:05,650] Trial 166 finished with value: 0.7910314447545793 and parameters: {'C': 0.049473760774364675, 'l1_ratio': 0.8836723072569824, 'class_weight': 'balanced', 'penalty': 'elasticnet'}. Best is trial 166 with value: 0.7910314447545793.\n",
      "[I 2020-10-01 15:33:10,232] Trial 167 finished with value: 0.7903863197884661 and parameters: {'C': 0.046657024124695946, 'l1_ratio': 0.8994029924020176, 'class_weight': 'balanced', 'penalty': 'none'}. Best is trial 166 with value: 0.7910314447545793.\n",
      "[I 2020-10-01 15:33:13,419] Trial 168 finished with value: 0.7906178840482563 and parameters: {'C': 0.0354490206296618, 'l1_ratio': 0.9252274234515799, 'class_weight': 'balanced', 'penalty': 'elasticnet'}. Best is trial 166 with value: 0.7910314447545793.\n",
      "[I 2020-10-01 15:33:15,966] Trial 169 finished with value: 0.790942389162625 and parameters: {'C': 0.06059750370754116, 'l1_ratio': 0.8761480064852021, 'class_weight': {0: 1.0, 1: 12}, 'penalty': 'elasticnet'}. Best is trial 166 with value: 0.7910314447545793.\n",
      "[I 2020-10-01 15:33:17,622] Trial 170 finished with value: 0.7898080356482832 and parameters: {'C': 0.023295822984701498, 'l1_ratio': 0.9591143769605692, 'class_weight': 'balanced', 'penalty': 'elasticnet'}. Best is trial 166 with value: 0.7910314447545793.\n",
      "[I 2020-10-01 15:33:20,463] Trial 171 finished with value: 0.7910375404858618 and parameters: {'C': 0.05848368838146036, 'l1_ratio': 0.8559260560500851, 'class_weight': 'balanced', 'penalty': 'elasticnet'}. Best is trial 171 with value: 0.7910375404858618.\n",
      "[I 2020-10-01 15:33:23,419] Trial 172 finished with value: 0.791014720112093 and parameters: {'C': 0.048550299480799676, 'l1_ratio': 0.8566186196117549, 'class_weight': 'balanced', 'penalty': 'elasticnet'}. Best is trial 171 with value: 0.7910375404858618.\n",
      "[I 2020-10-01 15:33:26,497] Trial 173 finished with value: 0.7910095235890593 and parameters: {'C': 0.0471964481785435, 'l1_ratio': 0.8611485731971807, 'class_weight': 'balanced', 'penalty': 'elasticnet'}. Best is trial 171 with value: 0.7910375404858618.\n",
      "[I 2020-10-01 15:33:28,029] Trial 174 finished with value: 0.7888801497807928 and parameters: {'C': 0.013976903872922861, 'l1_ratio': 0.8604030176728232, 'class_weight': 'balanced', 'penalty': 'elasticnet'}. Best is trial 171 with value: 0.7910375404858618.\n",
      "[I 2020-10-01 15:33:30,244] Trial 175 finished with value: 0.7909879509336311 and parameters: {'C': 0.03148397405318701, 'l1_ratio': 0.8880417484575028, 'class_weight': {0: 1.0, 1: 10}, 'penalty': 'elasticnet'}. Best is trial 171 with value: 0.7910375404858618.\n",
      "[I 2020-10-01 15:33:33,107] Trial 176 finished with value: 0.7909913639510479 and parameters: {'C': 0.04653874389381845, 'l1_ratio': 0.8312261606935878, 'class_weight': 'balanced', 'penalty': 'elasticnet'}. Best is trial 171 with value: 0.7910375404858618.\n",
      "[I 2020-10-01 15:33:36,055] Trial 177 finished with value: 0.7910303402947709 and parameters: {'C': 0.0557655864924553, 'l1_ratio': 0.912367552743785, 'class_weight': 'balanced', 'penalty': 'elasticnet'}. Best is trial 171 with value: 0.7910375404858618.\n",
      "[I 2020-10-01 15:33:38,793] Trial 178 finished with value: 0.7902422301750793 and parameters: {'C': 0.02913919214405391, 'l1_ratio': 0.8701611088932593, 'class_weight': 'balanced', 'penalty': 'elasticnet'}. Best is trial 171 with value: 0.7910375404858618.\n",
      "[I 2020-10-01 15:33:40,342] Trial 179 finished with value: 0.7894915465561294 and parameters: {'C': 0.01827759572341719, 'l1_ratio': 0.9131322533790265, 'class_weight': 'balanced', 'penalty': 'elasticnet'}. Best is trial 171 with value: 0.7910375404858618.\n",
      "[I 2020-10-01 15:33:43,622] Trial 180 finished with value: 0.7910039399460407 and parameters: {'C': 0.0457027238304207, 'l1_ratio': 0.8903790553916322, 'class_weight': 'balanced', 'penalty': 'elasticnet'}. Best is trial 171 with value: 0.7910375404858618.\n",
      "[I 2020-10-01 15:33:46,373] Trial 181 finished with value: 0.7910369172757427 and parameters: {'C': 0.06401052325638322, 'l1_ratio': 0.8469981309350869, 'class_weight': 'balanced', 'penalty': 'elasticnet'}. Best is trial 171 with value: 0.7910375404858618.\n",
      "[I 2020-10-01 15:33:49,246] Trial 182 finished with value: 0.7910216019912629 and parameters: {'C': 0.05965108107299304, 'l1_ratio': 0.8447631345541626, 'class_weight': 'balanced', 'penalty': 'elasticnet'}. Best is trial 171 with value: 0.7910375404858618.\n",
      "[I 2020-10-01 15:33:52,090] Trial 183 finished with value: 0.7910310201886863 and parameters: {'C': 0.06549586706729729, 'l1_ratio': 0.8448451747429109, 'class_weight': 'balanced', 'penalty': 'elasticnet'}. Best is trial 171 with value: 0.7910375404858618.\n",
      "[I 2020-10-01 15:33:54,933] Trial 184 finished with value: 0.7910231524356508 and parameters: {'C': 0.051902295258646924, 'l1_ratio': 0.8558983913506611, 'class_weight': 'balanced', 'penalty': 'elasticnet'}. Best is trial 171 with value: 0.7910375404858618.\n",
      "[I 2020-10-01 15:33:57,806] Trial 185 finished with value: 0.7910301732376983 and parameters: {'C': 0.05898885437303996, 'l1_ratio': 0.8425307264742393, 'class_weight': 'balanced', 'penalty': 'elasticnet'}. Best is trial 171 with value: 0.7910375404858618.\n",
      "[I 2020-10-01 15:34:00,543] Trial 186 finished with value: 0.7910212388861687 and parameters: {'C': 0.06016480246912297, 'l1_ratio': 0.846578902126532, 'class_weight': 'balanced', 'penalty': 'elasticnet'}. Best is trial 171 with value: 0.7910375404858618.\n"
     ]
    },
    {
     "name": "stderr",
     "output_type": "stream",
     "text": [
      "[I 2020-10-01 15:34:02,198] Trial 187 finished with value: 0.7899327752986959 and parameters: {'C': 0.025662137642552922, 'l1_ratio': 0.9326164941834261, 'class_weight': 'balanced', 'penalty': 'elasticnet'}. Best is trial 171 with value: 0.7910375404858618.\n",
      "[I 2020-10-01 15:34:04,948] Trial 188 finished with value: 0.7906247499174992 and parameters: {'C': 0.0346269451491401, 'l1_ratio': 0.8490190984345148, 'class_weight': 'balanced', 'penalty': 'elasticnet'}. Best is trial 171 with value: 0.7910375404858618.\n",
      "[I 2020-10-01 15:34:07,463] Trial 189 finished with value: 0.7910402726357865 and parameters: {'C': 0.06306939745135184, 'l1_ratio': 0.9023268474526251, 'class_weight': 'balanced', 'penalty': 'elasticnet'}. Best is trial 189 with value: 0.7910402726357865.\n",
      "[I 2020-10-01 15:34:10,185] Trial 190 finished with value: 0.7910411160256406 and parameters: {'C': 0.05322734576627777, 'l1_ratio': 0.9047278006913283, 'class_weight': 'balanced', 'penalty': 'elasticnet'}. Best is trial 190 with value: 0.7910411160256406.\n",
      "[I 2020-10-01 15:34:12,935] Trial 191 finished with value: 0.7910341150196517 and parameters: {'C': 0.05747773104444005, 'l1_ratio': 0.9039669373439134, 'class_weight': 'balanced', 'penalty': 'elasticnet'}. Best is trial 190 with value: 0.7910411160256406.\n",
      "[I 2020-10-01 15:34:15,432] Trial 192 finished with value: 0.7910272093332941 and parameters: {'C': 0.056142992095422374, 'l1_ratio': 0.901011470926276, 'class_weight': 'balanced', 'penalty': 'elasticnet'}. Best is trial 190 with value: 0.7910411160256406.\n",
      "[I 2020-10-01 15:34:18,074] Trial 193 finished with value: 0.7910453576129113 and parameters: {'C': 0.05819753898127253, 'l1_ratio': 0.9028334423385487, 'class_weight': 'balanced', 'penalty': 'elasticnet'}. Best is trial 193 with value: 0.7910453576129113.\n",
      "[I 2020-10-01 15:34:20,823] Trial 194 finished with value: 0.7907759769154312 and parameters: {'C': 0.03867964624212483, 'l1_ratio': 0.9091727246097306, 'class_weight': 'balanced', 'penalty': 'elasticnet'}. Best is trial 193 with value: 0.7910453576129113.\n",
      "[I 2020-10-01 15:34:23,787] Trial 195 finished with value: 0.7910514835337172 and parameters: {'C': 0.05540826625465833, 'l1_ratio': 0.9455927069835725, 'class_weight': 'balanced', 'penalty': 'elasticnet'}. Best is trial 195 with value: 0.7910514835337172.\n",
      "[I 2020-10-01 15:34:26,416] Trial 196 finished with value: 0.7910527258346514 and parameters: {'C': 0.05413587680865206, 'l1_ratio': 0.9421369147153484, 'class_weight': 'balanced', 'penalty': 'elasticnet'}. Best is trial 196 with value: 0.7910527258346514.\n",
      "[I 2020-10-01 15:34:29,058] Trial 197 finished with value: 0.7910565481652603 and parameters: {'C': 0.056237293164652494, 'l1_ratio': 0.9624575874048042, 'class_weight': 'balanced', 'penalty': 'elasticnet'}. Best is trial 197 with value: 0.7910565481652603.\n",
      "[I 2020-10-01 15:34:32,231] Trial 198 finished with value: 0.7908696036654436 and parameters: {'C': 0.04121838660780997, 'l1_ratio': 0.9525037235734047, 'class_weight': 'balanced', 'penalty': 'elasticnet'}. Best is trial 197 with value: 0.7910565481652603.\n",
      "[I 2020-10-01 15:34:34,964] Trial 199 finished with value: 0.7910644693741309 and parameters: {'C': 0.05118333113785145, 'l1_ratio': 0.9748195107278903, 'class_weight': 'balanced', 'penalty': 'elasticnet'}. Best is trial 199 with value: 0.7910644693741309.\n"
     ]
    }
   ],
   "source": [
    "# Extracting the best model parameters and best study score\n",
    "best_study_score, best_study_params = train_test_roc_auc(X_train, y_train, lr_s, objective_wrappper_ls, cv_strat, n_trials=200)"
   ]
  },
  {
   "cell_type": "code",
   "execution_count": 31,
   "metadata": {},
   "outputs": [
    {
     "name": "stdout",
     "output_type": "stream",
     "text": [
      "The best roc_auc_score for the study is:  0.7910644693741309\n"
     ]
    }
   ],
   "source": [
    "print('The best roc_auc_score for the study is: ',best_study_score)"
   ]
  },
  {
   "cell_type": "code",
   "execution_count": 32,
   "metadata": {},
   "outputs": [
    {
     "name": "stdout",
     "output_type": "stream",
     "text": [
      "('The best study parameters for the classifier are: ', {'C': 0.05118333113785145, 'l1_ratio': 0.9748195107278903, 'class_weight': 'balanced', 'penalty': 'elasticnet'})\n"
     ]
    }
   ],
   "source": [
    "print(('The best study parameters for the classifier are: ',best_study_params))"
   ]
  },
  {
   "cell_type": "markdown",
   "metadata": {},
   "source": [
    "#### Computing the  full feature roc_auc score for the test data using the best study Parameters"
   ]
  },
  {
   "cell_type": "code",
   "execution_count": 33,
   "metadata": {},
   "outputs": [],
   "source": [
    "# Obtaining the best full feature LR model by setting best study parameters.\n",
    "lr_f = lr_s.set_params(**best_study_params)"
   ]
  },
  {
   "cell_type": "code",
   "execution_count": 34,
   "metadata": {},
   "outputs": [
    {
     "data": {
      "text/plain": [
       "LogisticRegression(C=0.05118333113785145, class_weight='balanced',\n",
       "                   l1_ratio=0.9748195107278903, n_jobs=5, penalty='elasticnet',\n",
       "                   random_state=42, solver='saga')"
      ]
     },
     "execution_count": 34,
     "metadata": {},
     "output_type": "execute_result"
    }
   ],
   "source": [
    "# fitting the best Logistics regression model on the full feature training set\n",
    "lr_f.fit(X_train,y_train)"
   ]
  },
  {
   "cell_type": "code",
   "execution_count": 35,
   "metadata": {},
   "outputs": [],
   "source": [
    "# Defining the function to calculate the roc_auc score for the feature sets\n",
    "def cal_roc_auc(X, y, cls, f_set, t_set, model_name):\n",
    "    ''' Calculates the roc auc score using the best study parameters \n",
    "        f_set : String: specifies 'full feature', 'Reduced feature'\n",
    "        t_set: String: specifies 'training', 'test'\n",
    "        model_name: String: specifies Name of the model '''\n",
    "        \n",
    "    y_pred = cls.predict_proba(X)\n",
    "    print('The roc_auc_score for the {} {} set using the best {} is '.format(f_set,t_set,model_name),roc_auc_score(y,y_pred[:,1]))"
   ]
  },
  {
   "cell_type": "code",
   "execution_count": 36,
   "metadata": {},
   "outputs": [
    {
     "name": "stdout",
     "output_type": "stream",
     "text": [
      "The roc_auc_score for the full feature training set using the best Logistic Regression is  0.7941151549648426\n"
     ]
    }
   ],
   "source": [
    "# Calculating the full feature training set roc_auc score using the best study parameters\n",
    "cal_roc_auc(X_train, y_train, lr_f, 'full feature', 'training', 'Logistic Regression')"
   ]
  },
  {
   "cell_type": "code",
   "execution_count": 37,
   "metadata": {},
   "outputs": [
    {
     "name": "stdout",
     "output_type": "stream",
     "text": [
      "The roc_auc_score for the full feature test set using the best Logistic Regression is  0.8009337852021322\n"
     ]
    }
   ],
   "source": [
    "# Calculating the full feature test set roc_auc score using the best study parameters\n",
    "cal_roc_auc(X_test, y_test, lr_f, 'full feature', 'test', 'Logistic Regression')"
   ]
  },
  {
   "cell_type": "code",
   "execution_count": 38,
   "metadata": {},
   "outputs": [
    {
     "name": "stdout",
     "output_type": "stream",
     "text": [
      "The accuracy for the full feature test set is:  0.8319980577810148\n"
     ]
    }
   ],
   "source": [
    "print('The accuracy for the full feature test set is: ',lr_f.score(X_test,y_test))"
   ]
  },
  {
   "cell_type": "code",
   "execution_count": 39,
   "metadata": {},
   "outputs": [
    {
     "data": {
      "text/plain": [
       "['Log_Reg_Full.joblib']"
      ]
     },
     "execution_count": 39,
     "metadata": {},
     "output_type": "execute_result"
    }
   ],
   "source": [
    "# Saving the full feature best Logistic Regression model \n",
    "import joblib\n",
    "joblib.dump(lr_f,'Log_Reg_Full.joblib')"
   ]
  },
  {
   "cell_type": "markdown",
   "metadata": {},
   "source": [
    "#### Computing the best hyperparameters for the  logistic Regression using Reduced feature Training Set."
   ]
  },
  {
   "cell_type": "code",
   "execution_count": 40,
   "metadata": {},
   "outputs": [
    {
     "name": "stderr",
     "output_type": "stream",
     "text": [
      "[I 2020-10-01 15:37:28,119] A new study created in memory with name: no-name-1163dd5c-cf52-4d97-ba1b-8a7d514cd49d\n",
      "[I 2020-10-01 15:37:31,230] Trial 0 finished with value: 0.7906171954484427 and parameters: {'C': 1.5795031120665964e-05, 'l1_ratio': 0.9480790916763634, 'class_weight': {0: 1.0, 1: 9.0}, 'penalty': 'none'}. Best is trial 0 with value: 0.7906171954484427.\n",
      "[I 2020-10-01 15:37:34,497] Trial 1 finished with value: 0.7905944109974822 and parameters: {'C': 8.879665162925674, 'l1_ratio': 0.24151511036275042, 'class_weight': {0: 1.0, 1: 10}, 'penalty': 'none'}. Best is trial 0 with value: 0.7906171954484427.\n",
      "[I 2020-10-01 15:37:37,557] Trial 2 finished with value: 0.7905623264936935 and parameters: {'C': 0.0002791084362307681, 'l1_ratio': 0.45295636883338586, 'class_weight': {0: 1.0, 1: 11}, 'penalty': 'none'}. Best is trial 0 with value: 0.7906171954484427.\n",
      "[I 2020-10-01 15:37:40,497] Trial 3 finished with value: 0.7905623264936935 and parameters: {'C': 9.466631701568094e-05, 'l1_ratio': 0.3847835209661863, 'class_weight': {0: 1.0, 1: 11}, 'penalty': 'none'}. Best is trial 0 with value: 0.7906171954484427.\n",
      "[I 2020-10-01 15:37:43,698] Trial 4 finished with value: 0.7905388063131282 and parameters: {'C': 5.502216826583748e-05, 'l1_ratio': 0.21819867810284999, 'class_weight': {0: 1.0, 1: 12}, 'penalty': 'none'}. Best is trial 0 with value: 0.7906171954484427.\n",
      "[I 2020-10-01 15:37:47,276] Trial 5 finished with value: 0.7905337986163208 and parameters: {'C': 0.3973477562275973, 'l1_ratio': 0.9345863361992499, 'class_weight': None, 'penalty': 'elasticnet'}. Best is trial 0 with value: 0.7906171954484427.\n",
      "[I 2020-10-01 15:37:50,307] Trial 6 finished with value: 0.7905388063131282 and parameters: {'C': 3.6979446653087957, 'l1_ratio': 0.19292594448974976, 'class_weight': {0: 1.0, 1: 12}, 'penalty': 'none'}. Best is trial 0 with value: 0.7906171954484427.\n",
      "[I 2020-10-01 15:37:54,103] Trial 7 finished with value: 0.7907611616685338 and parameters: {'C': 0.3171638838965175, 'l1_ratio': 0.3525744188632657, 'class_weight': {0: 1.0, 1: 12}, 'penalty': 'elasticnet'}. Best is trial 7 with value: 0.7907611616685338.\n",
      "[I 2020-10-01 15:37:54,963] Trial 8 finished with value: 0.7788336446605015 and parameters: {'C': 0.0009506767706570084, 'l1_ratio': 0.7430682654000639, 'class_weight': {0: 1.0, 1: 10}, 'penalty': 'elasticnet'}. Best is trial 7 with value: 0.7907611616685338.\n",
      "[I 2020-10-01 15:37:57,994] Trial 9 finished with value: 0.7906171954484427 and parameters: {'C': 2.8617511390767214e-05, 'l1_ratio': 0.19228913619284727, 'class_weight': {0: 1.0, 1: 9.0}, 'penalty': 'none'}. Best is trial 7 with value: 0.7907611616685338.\n",
      "[I 2020-10-01 15:37:59,510] Trial 10 finished with value: 0.7898038666897969 and parameters: {'C': 0.014650529749230833, 'l1_ratio': 0.005885303451691082, 'class_weight': 'balanced', 'penalty': 'elasticnet'}. Best is trial 7 with value: 0.7907611616685338.\n",
      "[I 2020-10-01 15:38:00,808] Trial 11 finished with value: 0.7907553375607292 and parameters: {'C': 0.035905210552210846, 'l1_ratio': 0.6369335816350254, 'class_weight': {0: 1.0, 1: 9.0}, 'penalty': 'elasticnet'}. Best is trial 7 with value: 0.7907611616685338.\n",
      "[I 2020-10-01 15:38:02,212] Trial 12 finished with value: 0.7908339589913993 and parameters: {'C': 0.047575955503194045, 'l1_ratio': 0.6626094766628224, 'class_weight': {0: 1.0, 1: 12}, 'penalty': 'elasticnet'}. Best is trial 12 with value: 0.7908339589913993.\n",
      "[I 2020-10-01 15:38:05,589] Trial 13 finished with value: 0.7909104817243173 and parameters: {'C': 0.1827175632979431, 'l1_ratio': 0.6760073778172285, 'class_weight': {0: 1.0, 1: 12}, 'penalty': 'elasticnet'}. Best is trial 13 with value: 0.7909104817243173.\n",
      "[I 2020-10-01 15:38:09,306] Trial 14 finished with value: 0.7905391754760327 and parameters: {'C': 95.16419618285147, 'l1_ratio': 0.6895091386472604, 'class_weight': {0: 1.0, 1: 12}, 'penalty': 'elasticnet'}. Best is trial 13 with value: 0.7909104817243173.\n",
      "[I 2020-10-01 15:38:10,292] Trial 15 finished with value: 0.7895140180130474 and parameters: {'C': 0.00871567396720845, 'l1_ratio': 0.5575493617870146, 'class_weight': {0: 1.0, 1: 12}, 'penalty': 'elasticnet'}. Best is trial 13 with value: 0.7909104817243173.\n",
      "[I 2020-10-01 15:38:13,760] Trial 16 finished with value: 0.7909018323581047 and parameters: {'C': 0.218330139821979, 'l1_ratio': 0.8184349183436845, 'class_weight': {0: 1.0, 1: 12}, 'penalty': 'elasticnet'}. Best is trial 13 with value: 0.7909104817243173.\n",
      "[I 2020-10-01 15:38:17,683] Trial 17 finished with value: 0.7906656380539595 and parameters: {'C': 0.6773681978997935, 'l1_ratio': 0.8305007875998366, 'class_weight': None, 'penalty': 'elasticnet'}. Best is trial 13 with value: 0.7909104817243173.\n",
      "[I 2020-10-01 15:38:21,729] Trial 18 finished with value: 0.7907475374648282 and parameters: {'C': 83.62713607684472, 'l1_ratio': 0.8159994944789464, 'class_weight': 'balanced', 'penalty': 'elasticnet'}. Best is trial 13 with value: 0.7909104817243173.\n",
      "[I 2020-10-01 15:38:22,982] Trial 19 finished with value: 0.7838513988715565 and parameters: {'C': 0.0031339255581083244, 'l1_ratio': 0.984667943539742, 'class_weight': {0: 1.0, 1: 12}, 'penalty': 'elasticnet'}. Best is trial 13 with value: 0.7909104817243173.\n",
      "[I 2020-10-01 15:38:27,011] Trial 20 finished with value: 0.7905542877892789 and parameters: {'C': 4.103247262889226, 'l1_ratio': 0.84390606965323, 'class_weight': {0: 1.0, 1: 12}, 'penalty': 'elasticnet'}. Best is trial 13 with value: 0.7909104817243173.\n",
      "[I 2020-10-01 15:38:29,947] Trial 21 finished with value: 0.790978918190329 and parameters: {'C': 0.12321767657231321, 'l1_ratio': 0.5931156586583225, 'class_weight': {0: 1.0, 1: 12}, 'penalty': 'elasticnet'}. Best is trial 21 with value: 0.790978918190329.\n",
      "[I 2020-10-01 15:38:33,088] Trial 22 finished with value: 0.7909553404432714 and parameters: {'C': 0.13507520287081248, 'l1_ratio': 0.5609654755824255, 'class_weight': {0: 1.0, 1: 12}, 'penalty': 'elasticnet'}. Best is trial 21 with value: 0.790978918190329.\n",
      "[I 2020-10-01 15:38:35,497] Trial 23 finished with value: 0.7909890180297652 and parameters: {'C': 0.09590495574746236, 'l1_ratio': 0.5660132683323417, 'class_weight': {0: 1.0, 1: 12}, 'penalty': 'elasticnet'}. Best is trial 23 with value: 0.7909890180297652.\n",
      "[I 2020-10-01 15:38:37,448] Trial 24 finished with value: 0.7909843948394437 and parameters: {'C': 0.0844948301100158, 'l1_ratio': 0.5639452406408738, 'class_weight': {0: 1.0, 1: 12}, 'penalty': 'elasticnet'}. Best is trial 23 with value: 0.7909890180297652.\n",
      "[I 2020-10-01 15:38:41,604] Trial 25 finished with value: 0.7905842492818411 and parameters: {'C': 1.5650893817229854, 'l1_ratio': 0.5145855255071383, 'class_weight': {0: 1.0, 1: 12}, 'penalty': 'elasticnet'}. Best is trial 23 with value: 0.7909890180297652.\n",
      "[I 2020-10-01 15:38:43,667] Trial 26 finished with value: 0.7908031257670849 and parameters: {'C': 0.06876679295678906, 'l1_ratio': 0.4282720666520189, 'class_weight': 'balanced', 'penalty': 'elasticnet'}. Best is trial 23 with value: 0.7909890180297652.\n",
      "[I 2020-10-01 15:38:47,714] Trial 27 finished with value: 0.7906012301263985 and parameters: {'C': 12.856353319200736, 'l1_ratio': 0.5933009814579374, 'class_weight': {0: 1.0, 1: 10}, 'penalty': 'elasticnet'}. Best is trial 23 with value: 0.7909890180297652.\n",
      "[I 2020-10-01 15:38:48,650] Trial 28 finished with value: 0.7841452127437436 and parameters: {'C': 0.004446552950876638, 'l1_ratio': 0.2988507104005356, 'class_weight': None, 'penalty': 'elasticnet'}. Best is trial 23 with value: 0.7909890180297652.\n",
      "[I 2020-10-01 15:38:49,729] Trial 29 finished with value: 0.7904212429080937 and parameters: {'C': 0.01806378917859795, 'l1_ratio': 0.4869151989015651, 'class_weight': {0: 1.0, 1: 11}, 'penalty': 'elasticnet'}. Best is trial 23 with value: 0.7909890180297652.\n",
      "[I 2020-10-01 15:38:50,697] Trial 30 finished with value: 0.7787285632506334 and parameters: {'C': 0.0009080016232508501, 'l1_ratio': 0.7410172712586169, 'class_weight': {0: 1.0, 1: 9.0}, 'penalty': 'elasticnet'}. Best is trial 23 with value: 0.7909890180297652.\n",
      "[I 2020-10-01 15:38:52,651] Trial 31 finished with value: 0.7909787626171203 and parameters: {'C': 0.07915759122158665, 'l1_ratio': 0.56097628607911, 'class_weight': {0: 1.0, 1: 12}, 'penalty': 'elasticnet'}. Best is trial 23 with value: 0.7909890180297652.\n",
      "[I 2020-10-01 15:38:56,902] Trial 32 finished with value: 0.7905923648079305 and parameters: {'C': 1.3398295160359204, 'l1_ratio': 0.6010783756139041, 'class_weight': {0: 1.0, 1: 12}, 'penalty': 'elasticnet'}. Best is trial 23 with value: 0.7909890180297652.\n",
      "[I 2020-10-01 15:38:59,435] Trial 33 finished with value: 0.790984321046674 and parameters: {'C': 0.09358734897105139, 'l1_ratio': 0.5106402371490407, 'class_weight': {0: 1.0, 1: 12}, 'penalty': 'elasticnet'}. Best is trial 23 with value: 0.7909890180297652.\n",
      "[I 2020-10-01 15:39:00,620] Trial 34 finished with value: 0.7906236119493253 and parameters: {'C': 0.02432520537829903, 'l1_ratio': 0.4450019170157821, 'class_weight': {0: 1.0, 1: 12}, 'penalty': 'elasticnet'}. Best is trial 23 with value: 0.7909890180297652.\n",
      "[I 2020-10-01 15:39:04,776] Trial 35 finished with value: 0.7906490557786622 and parameters: {'C': 0.8371225752515943, 'l1_ratio': 0.5010995990341992, 'class_weight': {0: 1.0, 1: 11}, 'penalty': 'elasticnet'}. Best is trial 23 with value: 0.7909890180297652.\n",
      "[I 2020-10-01 15:39:07,824] Trial 36 finished with value: 0.7905388063131282 and parameters: {'C': 0.005185533318654884, 'l1_ratio': 0.37788496459756615, 'class_weight': {0: 1.0, 1: 12}, 'penalty': 'none'}. Best is trial 23 with value: 0.7909890180297652.\n",
      "[I 2020-10-01 15:39:09,526] Trial 37 finished with value: 0.7909459672726664 and parameters: {'C': 0.06494069050841701, 'l1_ratio': 0.7324495915255833, 'class_weight': {0: 1.0, 1: 10}, 'penalty': 'elasticnet'}. Best is trial 23 with value: 0.7909890180297652.\n",
      "[I 2020-10-01 15:39:12,589] Trial 38 finished with value: 0.7905388063131282 and parameters: {'C': 0.4198638706985954, 'l1_ratio': 0.3328030810376227, 'class_weight': {0: 1.0, 1: 12}, 'penalty': 'none'}. Best is trial 23 with value: 0.7909890180297652.\n",
      "[I 2020-10-01 15:39:13,494] Trial 39 finished with value: 0.784225114107256 and parameters: {'C': 0.001439926947128851, 'l1_ratio': 0.4550017966575059, 'class_weight': {0: 1.0, 1: 12}, 'penalty': 'elasticnet'}. Best is trial 23 with value: 0.7909890180297652.\n",
      "[I 2020-10-01 15:39:17,619] Trial 40 finished with value: 0.7905653548878017 and parameters: {'C': 12.746149464775932, 'l1_ratio': 0.5236470705668893, 'class_weight': None, 'penalty': 'elasticnet'}. Best is trial 23 with value: 0.7909890180297652.\n",
      "[I 2020-10-01 15:39:20,420] Trial 41 finished with value: 0.7909849732477424 and parameters: {'C': 0.10558033722399299, 'l1_ratio': 0.596706375422244, 'class_weight': {0: 1.0, 1: 12}, 'penalty': 'elasticnet'}. Best is trial 23 with value: 0.7909890180297652.\n",
      "[I 2020-10-01 15:39:23,135] Trial 42 finished with value: 0.7909909869649412 and parameters: {'C': 0.11921186946389803, 'l1_ratio': 0.6140525010157258, 'class_weight': {0: 1.0, 1: 12}, 'penalty': 'elasticnet'}. Best is trial 42 with value: 0.7909909869649412.\n",
      "[I 2020-10-01 15:39:24,103] Trial 43 finished with value: 0.7900040281268084 and parameters: {'C': 0.011108631104632359, 'l1_ratio': 0.4101629861152508, 'class_weight': {0: 1.0, 1: 12}, 'penalty': 'elasticnet'}. Best is trial 42 with value: 0.7909909869649412.\n",
      "[I 2020-10-01 15:39:28,135] Trial 44 finished with value: 0.7907663716052904 and parameters: {'C': 0.3504725233999907, 'l1_ratio': 0.6321780770660856, 'class_weight': {0: 1.0, 1: 12}, 'penalty': 'elasticnet'}. Best is trial 42 with value: 0.7909909869649412.\n",
      "[I 2020-10-01 15:39:31,183] Trial 45 finished with value: 0.7905388063131282 and parameters: {'C': 0.03334803942418182, 'l1_ratio': 0.6917276014255139, 'class_weight': {0: 1.0, 1: 12}, 'penalty': 'none'}. Best is trial 42 with value: 0.7909909869649412.\n",
      "[I 2020-10-01 15:39:34,119] Trial 46 finished with value: 0.7910022575755734 and parameters: {'C': 0.11387890092193076, 'l1_ratio': 0.48345574078798415, 'class_weight': {0: 1.0, 1: 9.0}, 'penalty': 'elasticnet'}. Best is trial 46 with value: 0.7910022575755734.\n",
      "[I 2020-10-01 15:39:38,262] Trial 47 finished with value: 0.7906455742604124 and parameters: {'C': 2.0543269380099294, 'l1_ratio': 0.6359268458899552, 'class_weight': {0: 1.0, 1: 9.0}, 'penalty': 'elasticnet'}. Best is trial 46 with value: 0.7910022575755734.\n",
      "[I 2020-10-01 15:39:41,963] Trial 48 finished with value: 0.7908639034485743 and parameters: {'C': 0.19223745912736773, 'l1_ratio': 0.2732075056356853, 'class_weight': {0: 1.0, 1: 9.0}, 'penalty': 'elasticnet'}. Best is trial 46 with value: 0.7910022575755734.\n",
      "[I 2020-10-01 15:39:43,150] Trial 49 finished with value: 0.790650918420869 and parameters: {'C': 0.029596151744168863, 'l1_ratio': 0.7804099015874524, 'class_weight': {0: 1.0, 1: 9.0}, 'penalty': 'elasticnet'}. Best is trial 46 with value: 0.7910022575755734.\n",
      "[I 2020-10-01 15:39:47,291] Trial 50 finished with value: 0.7907720145369568 and parameters: {'C': 0.49178895883189566, 'l1_ratio': 0.48178060447981563, 'class_weight': {0: 1.0, 1: 9.0}, 'penalty': 'elasticnet'}. Best is trial 46 with value: 0.7910022575755734.\n",
      "[I 2020-10-01 15:39:50,135] Trial 51 finished with value: 0.7909789937139016 and parameters: {'C': 0.10718813152966634, 'l1_ratio': 0.543669819068917, 'class_weight': {0: 1.0, 1: 12}, 'penalty': 'elasticnet'}. Best is trial 46 with value: 0.7910022575755734.\n",
      "[I 2020-10-01 15:39:51,543] Trial 52 finished with value: 0.7908541640617361 and parameters: {'C': 0.04835080913998339, 'l1_ratio': 0.6098887195297507, 'class_weight': {0: 1.0, 1: 11}, 'penalty': 'elasticnet'}. Best is trial 46 with value: 0.7910022575755734.\n",
      "[I 2020-10-01 15:39:55,354] Trial 53 finished with value: 0.7908061780246725 and parameters: {'C': 0.26140347715804324, 'l1_ratio': 0.46172563756042695, 'class_weight': {0: 1.0, 1: 12}, 'penalty': 'elasticnet'}. Best is trial 46 with value: 0.7910022575755734.\n",
      "[I 2020-10-01 15:39:56,354] Trial 54 finished with value: 0.7891419319905639 and parameters: {'C': 0.008773046881213411, 'l1_ratio': 0.6797735108598755, 'class_weight': {0: 1.0, 1: 10}, 'penalty': 'elasticnet'}. Best is trial 46 with value: 0.7910022575755734.\n",
      "[I 2020-10-01 15:39:59,075] Trial 55 finished with value: 0.7909527704911834 and parameters: {'C': 0.11399598462992812, 'l1_ratio': 0.3996931107607067, 'class_weight': 'balanced', 'penalty': 'elasticnet'}. Best is trial 46 with value: 0.7910022575755734.\n",
      "[I 2020-10-01 15:40:03,105] Trial 56 finished with value: 0.7906183035948546 and parameters: {'C': 0.8610664388173924, 'l1_ratio': 0.552877754677545, 'class_weight': {0: 1.0, 1: 12}, 'penalty': 'elasticnet'}. Best is trial 46 with value: 0.7910022575755734.\n",
      "[I 2020-10-01 15:40:06,934] Trial 57 finished with value: 0.7908596569934202 and parameters: {'C': 0.1762874274678375, 'l1_ratio': 0.09130575193439489, 'class_weight': {0: 1.0, 1: 9.0}, 'penalty': 'elasticnet'}. Best is trial 46 with value: 0.7910022575755734.\n",
      "[I 2020-10-01 15:40:09,983] Trial 58 finished with value: 0.7905388063131282 and parameters: {'C': 0.019576797029541668, 'l1_ratio': 0.7154356559072441, 'class_weight': {0: 1.0, 1: 12}, 'penalty': 'none'}. Best is trial 46 with value: 0.7910022575755734.\n",
      "[I 2020-10-01 15:40:11,496] Trial 59 finished with value: 0.7908642145559941 and parameters: {'C': 0.0518167746771652, 'l1_ratio': 0.6583325582521706, 'class_weight': {0: 1.0, 1: 12}, 'penalty': 'elasticnet'}. Best is trial 46 with value: 0.7910022575755734.\n",
      "[I 2020-10-01 15:40:13,556] Trial 60 finished with value: 0.7909793228519882 and parameters: {'C': 0.0812174465640491, 'l1_ratio': 0.5273266700358327, 'class_weight': {0: 1.0, 1: 12}, 'penalty': 'elasticnet'}. Best is trial 46 with value: 0.7910022575755734.\n",
      "[I 2020-10-01 15:40:15,525] Trial 61 finished with value: 0.7909792302367366 and parameters: {'C': 0.07908613854553449, 'l1_ratio': 0.5230705989675368, 'class_weight': {0: 1.0, 1: 12}, 'penalty': 'elasticnet'}. Best is trial 46 with value: 0.7910022575755734.\n"
     ]
    },
    {
     "name": "stderr",
     "output_type": "stream",
     "text": [
      "[I 2020-10-01 15:40:19,338] Trial 62 finished with value: 0.7908105108209174 and parameters: {'C': 0.270452274866648, 'l1_ratio': 0.5785606989725617, 'class_weight': {0: 1.0, 1: 12}, 'penalty': 'elasticnet'}. Best is trial 46 with value: 0.7910022575755734.\n",
      "[I 2020-10-01 15:40:20,636] Trial 63 finished with value: 0.7907190155803268 and parameters: {'C': 0.033884785847968064, 'l1_ratio': 0.6233813380496074, 'class_weight': {0: 1.0, 1: 12}, 'penalty': 'elasticnet'}. Best is trial 46 with value: 0.7910022575755734.\n",
      "[I 2020-10-01 15:40:23,572] Trial 64 finished with value: 0.79094288779393 and parameters: {'C': 0.12354132160357051, 'l1_ratio': 0.48771513406952566, 'class_weight': {0: 1.0, 1: 12}, 'penalty': 'elasticnet'}. Best is trial 46 with value: 0.7910022575755734.\n",
      "[I 2020-10-01 15:40:27,682] Trial 65 finished with value: 0.7906710196820268 and parameters: {'C': 0.5653537455144129, 'l1_ratio': 0.5338694529633254, 'class_weight': {0: 1.0, 1: 12}, 'penalty': 'elasticnet'}. Best is trial 46 with value: 0.7910022575755734.\n",
      "[I 2020-10-01 15:40:29,088] Trial 66 finished with value: 0.7870075650545507 and parameters: {'C': 0.014727530615849421, 'l1_ratio': 0.5709822716843985, 'class_weight': None, 'penalty': 'elasticnet'}. Best is trial 46 with value: 0.7910022575755734.\n",
      "[I 2020-10-01 15:40:30,776] Trial 67 finished with value: 0.7906661563514449 and parameters: {'C': 0.052398005296363834, 'l1_ratio': 0.6521401659399039, 'class_weight': 'balanced', 'penalty': 'elasticnet'}. Best is trial 46 with value: 0.7910022575755734.\n",
      "[I 2020-10-01 15:40:34,921] Trial 68 finished with value: 0.7905540138378304 and parameters: {'C': 3.745761883262096, 'l1_ratio': 0.36744988974423937, 'class_weight': {0: 1.0, 1: 12}, 'penalty': 'elasticnet'}. Best is trial 46 with value: 0.7910022575755734.\n",
      "[I 2020-10-01 15:40:38,728] Trial 69 finished with value: 0.7908749599459289 and parameters: {'C': 0.2185785588873768, 'l1_ratio': 0.4686051955084723, 'class_weight': {0: 1.0, 1: 9.0}, 'penalty': 'elasticnet'}. Best is trial 46 with value: 0.7910022575755734.\n",
      "[I 2020-10-01 15:40:41,010] Trial 70 finished with value: 0.7909835699561932 and parameters: {'C': 0.08891465750300695, 'l1_ratio': 0.509255077353248, 'class_weight': {0: 1.0, 1: 12}, 'penalty': 'elasticnet'}. Best is trial 46 with value: 0.7910022575755734.\n",
      "[I 2020-10-01 15:40:43,072] Trial 71 finished with value: 0.7909860549907622 and parameters: {'C': 0.0875634807759691, 'l1_ratio': 0.5850441371446312, 'class_weight': {0: 1.0, 1: 12}, 'penalty': 'elasticnet'}. Best is trial 46 with value: 0.7910022575755734.\n",
      "[I 2020-10-01 15:40:46,463] Trial 72 finished with value: 0.7908864155880085 and parameters: {'C': 0.15612879477043135, 'l1_ratio': 0.4220156167238822, 'class_weight': {0: 1.0, 1: 12}, 'penalty': 'elasticnet'}. Best is trial 46 with value: 0.7910022575755734.\n",
      "[I 2020-10-01 15:40:50,463] Trial 73 finished with value: 0.7907748528326785 and parameters: {'C': 0.3221221167022296, 'l1_ratio': 0.5823089016982137, 'class_weight': {0: 1.0, 1: 12}, 'penalty': 'elasticnet'}. Best is trial 46 with value: 0.7910022575755734.\n",
      "[I 2020-10-01 15:40:51,760] Trial 74 finished with value: 0.7906353640346444 and parameters: {'C': 0.024405924266435564, 'l1_ratio': 0.5043580752053827, 'class_weight': {0: 1.0, 1: 12}, 'penalty': 'elasticnet'}. Best is trial 46 with value: 0.7910022575755734.\n",
      "[I 2020-10-01 15:40:53,932] Trial 75 finished with value: 0.7909889299578711 and parameters: {'C': 0.09719830921016823, 'l1_ratio': 0.5992589143170111, 'class_weight': {0: 1.0, 1: 12}, 'penalty': 'elasticnet'}. Best is trial 46 with value: 0.7910022575755734.\n",
      "[I 2020-10-01 15:40:55,557] Trial 76 finished with value: 0.7908358128108856 and parameters: {'C': 0.04663324433684524, 'l1_ratio': 0.6145907521013896, 'class_weight': {0: 1.0, 1: 11}, 'penalty': 'elasticnet'}. Best is trial 46 with value: 0.7910022575755734.\n",
      "[I 2020-10-01 15:40:59,621] Trial 77 finished with value: 0.7906324990586499 and parameters: {'C': 0.7781436730790172, 'l1_ratio': 0.7759939151088336, 'class_weight': {0: 1.0, 1: 12}, 'penalty': 'elasticnet'}. Best is trial 46 with value: 0.7910022575755734.\n",
      "[I 2020-10-01 15:41:03,854] Trial 78 finished with value: 0.7906535399379309 and parameters: {'C': 1.2809884882436022, 'l1_ratio': 0.7063437634286768, 'class_weight': {0: 1.0, 1: 10}, 'penalty': 'elasticnet'}. Best is trial 46 with value: 0.7910022575755734.\n",
      "[I 2020-10-01 15:41:07,338] Trial 79 finished with value: 0.7908976677006843 and parameters: {'C': 0.17541892337581008, 'l1_ratio': 0.5903551399527336, 'class_weight': {0: 1.0, 1: 12}, 'penalty': 'elasticnet'}. Best is trial 46 with value: 0.7910022575755734.\n",
      "[I 2020-10-01 15:41:10,388] Trial 80 finished with value: 0.7905388063131282 and parameters: {'C': 0.4280540078860959, 'l1_ratio': 0.6528424001292711, 'class_weight': {0: 1.0, 1: 12}, 'penalty': 'none'}. Best is trial 46 with value: 0.7910022575755734.\n",
      "[I 2020-10-01 15:41:13,325] Trial 81 finished with value: 0.7909767863087374 and parameters: {'C': 0.11018793243655495, 'l1_ratio': 0.5481304388891817, 'class_weight': {0: 1.0, 1: 12}, 'penalty': 'elasticnet'}. Best is trial 46 with value: 0.7910022575755734.\n",
      "[I 2020-10-01 15:41:15,496] Trial 82 finished with value: 0.7909702032699552 and parameters: {'C': 0.07982642165151338, 'l1_ratio': 0.4422684212182494, 'class_weight': {0: 1.0, 1: 12}, 'penalty': 'elasticnet'}. Best is trial 46 with value: 0.7910022575755734.\n",
      "[I 2020-10-01 15:41:17,010] Trial 83 finished with value: 0.7907518182806932 and parameters: {'C': 0.03725652547851243, 'l1_ratio': 0.4979486794467689, 'class_weight': {0: 1.0, 1: 12}, 'penalty': 'elasticnet'}. Best is trial 46 with value: 0.7910022575755734.\n",
      "[I 2020-10-01 15:41:19,073] Trial 84 finished with value: 0.7909908491324628 and parameters: {'C': 0.08997868337784869, 'l1_ratio': 0.6053739221388372, 'class_weight': {0: 1.0, 1: 12}, 'penalty': 'elasticnet'}. Best is trial 46 with value: 0.7910022575755734.\n",
      "[I 2020-10-01 15:41:20,074] Trial 85 finished with value: 0.790141228656524 and parameters: {'C': 0.014268393541520812, 'l1_ratio': 0.6169971954857615, 'class_weight': {0: 1.0, 1: 12}, 'penalty': 'elasticnet'}. Best is trial 46 with value: 0.7910022575755734.\n",
      "[I 2020-10-01 15:41:21,089] Trial 86 finished with value: 0.788427882554244 and parameters: {'C': 0.006585075655129176, 'l1_ratio': 0.5983030604547993, 'class_weight': {0: 1.0, 1: 9.0}, 'penalty': 'elasticnet'}. Best is trial 46 with value: 0.7910022575755734.\n",
      "[I 2020-10-01 15:41:24,464] Trial 87 finished with value: 0.7904169612441215 and parameters: {'C': 0.25110532969971505, 'l1_ratio': 0.6719942031725392, 'class_weight': None, 'penalty': 'elasticnet'}. Best is trial 46 with value: 0.7910022575755734.\n",
      "[I 2020-10-01 15:41:25,886] Trial 88 finished with value: 0.7908882116592412 and parameters: {'C': 0.05453240496063448, 'l1_ratio': 0.561216248190717, 'class_weight': {0: 1.0, 1: 12}, 'penalty': 'elasticnet'}. Best is trial 46 with value: 0.7910022575755734.\n",
      "[I 2020-10-01 15:41:27,073] Trial 89 finished with value: 0.7905988843088824 and parameters: {'C': 0.021878259048179034, 'l1_ratio': 0.5445605199915927, 'class_weight': {0: 1.0, 1: 12}, 'penalty': 'elasticnet'}. Best is trial 46 with value: 0.7910022575755734.\n",
      "[I 2020-10-01 15:41:30,465] Trial 90 finished with value: 0.7909544264063754 and parameters: {'C': 0.15186655338390237, 'l1_ratio': 0.6273300184581181, 'class_weight': {0: 1.0, 1: 12}, 'penalty': 'elasticnet'}. Best is trial 46 with value: 0.7910022575755734.\n",
      "[I 2020-10-01 15:41:32,526] Trial 91 finished with value: 0.7909866048408125 and parameters: {'C': 0.08530273116326273, 'l1_ratio': 0.5739630736427754, 'class_weight': {0: 1.0, 1: 12}, 'penalty': 'elasticnet'}. Best is trial 46 with value: 0.7910022575755734.\n",
      "[I 2020-10-01 15:41:34,041] Trial 92 finished with value: 0.7909490579843277 and parameters: {'C': 0.06856845608645838, 'l1_ratio': 0.5747780351543562, 'class_weight': {0: 1.0, 1: 12}, 'penalty': 'elasticnet'}. Best is trial 46 with value: 0.7910022575755734.\n",
      "[I 2020-10-01 15:41:35,449] Trial 93 finished with value: 0.7907614524390192 and parameters: {'C': 0.0398495188212487, 'l1_ratio': 0.5968687835423693, 'class_weight': {0: 1.0, 1: 12}, 'penalty': 'elasticnet'}. Best is trial 46 with value: 0.7910022575755734.\n",
      "[I 2020-10-01 15:41:38,040] Trial 94 finished with value: 0.7909882128343981 and parameters: {'C': 0.11173422822886357, 'l1_ratio': 0.6433567970488462, 'class_weight': {0: 1.0, 1: 12}, 'penalty': 'elasticnet'}. Best is trial 46 with value: 0.7910022575755734.\n",
      "[I 2020-10-01 15:41:42,072] Trial 95 finished with value: 0.7907576146956508 and parameters: {'C': 0.3670261025108687, 'l1_ratio': 0.6526522523836286, 'class_weight': {0: 1.0, 1: 12}, 'penalty': 'elasticnet'}. Best is trial 46 with value: 0.7910022575755734.\n",
      "[I 2020-10-01 15:41:44,884] Trial 96 finished with value: 0.7910277877070038 and parameters: {'C': 0.12649196039741648, 'l1_ratio': 0.7049800402366755, 'class_weight': {0: 1.0, 1: 9.0}, 'penalty': 'elasticnet'}. Best is trial 96 with value: 0.7910277877070038.\n",
      "[I 2020-10-01 15:41:47,902] Trial 97 finished with value: 0.7910337860633265 and parameters: {'C': 0.137857072977854, 'l1_ratio': 0.7634581990800227, 'class_weight': {0: 1.0, 1: 9.0}, 'penalty': 'elasticnet'}. Best is trial 97 with value: 0.7910337860633265.\n",
      "[I 2020-10-01 15:41:49,181] Trial 98 finished with value: 0.7906207911693364 and parameters: {'C': 0.02947519779981952, 'l1_ratio': 0.8496528777725872, 'class_weight': {0: 1.0, 1: 9.0}, 'penalty': 'elasticnet'}. Best is trial 97 with value: 0.7910337860633265.\n",
      "[I 2020-10-01 15:41:52,197] Trial 99 finished with value: 0.7910364690930706 and parameters: {'C': 0.1437633726898993, 'l1_ratio': 0.7590712157092999, 'class_weight': {0: 1.0, 1: 9.0}, 'penalty': 'elasticnet'}. Best is trial 99 with value: 0.7910364690930706.\n",
      "[I 2020-10-01 15:41:56,230] Trial 100 finished with value: 0.7907664937523671 and parameters: {'C': 0.6087763651656382, 'l1_ratio': 0.8577628317334398, 'class_weight': {0: 1.0, 1: 9.0}, 'penalty': 'elasticnet'}. Best is trial 99 with value: 0.7910364690930706.\n",
      "[I 2020-10-01 15:41:59,167] Trial 101 finished with value: 0.7910397822561455 and parameters: {'C': 0.1457409679482309, 'l1_ratio': 0.7840804809583081, 'class_weight': {0: 1.0, 1: 9.0}, 'penalty': 'elasticnet'}. Best is trial 101 with value: 0.7910397822561455.\n",
      "[I 2020-10-01 15:42:02,322] Trial 102 finished with value: 0.7910347197881062 and parameters: {'C': 0.14814716080334317, 'l1_ratio': 0.7663533429843237, 'class_weight': {0: 1.0, 1: 9.0}, 'penalty': 'elasticnet'}. Best is trial 101 with value: 0.7910397822561455.\n",
      "[I 2020-10-01 15:42:06,357] Trial 103 finished with value: 0.7909538480889575 and parameters: {'C': 0.2218933595895841, 'l1_ratio': 0.7707799362724724, 'class_weight': {0: 1.0, 1: 9.0}, 'penalty': 'elasticnet'}. Best is trial 101 with value: 0.7910397822561455.\n",
      "[I 2020-10-01 15:42:09,511] Trial 104 finished with value: 0.7910362851606695 and parameters: {'C': 0.15104121398907328, 'l1_ratio': 0.8049675833465605, 'class_weight': {0: 1.0, 1: 9.0}, 'penalty': 'elasticnet'}. Best is trial 101 with value: 0.7910397822561455.\n",
      "[I 2020-10-01 15:42:13,528] Trial 105 finished with value: 0.7908793976893966 and parameters: {'C': 0.3080196063261113, 'l1_ratio': 0.8781524672430645, 'class_weight': {0: 1.0, 1: 9.0}, 'penalty': 'elasticnet'}. Best is trial 101 with value: 0.7910397822561455.\n",
      "[I 2020-10-01 15:42:17,088] Trial 106 finished with value: 0.7910293450659561 and parameters: {'C': 0.16102713424595652, 'l1_ratio': 0.7970212434050893, 'class_weight': {0: 1.0, 1: 9.0}, 'penalty': 'elasticnet'}. Best is trial 101 with value: 0.7910397822561455.\n",
      "[I 2020-10-01 15:42:20,356] Trial 107 finished with value: 0.791025841479969 and parameters: {'C': 0.16372723245730875, 'l1_ratio': 0.8024123087179884, 'class_weight': {0: 1.0, 1: 9.0}, 'penalty': 'elasticnet'}. Best is trial 101 with value: 0.7910397822561455.\n",
      "[I 2020-10-01 15:42:20,994] Trial 108 finished with value: 0.5 and parameters: {'C': 1.2020681158758262e-05, 'l1_ratio': 0.7971275215175424, 'class_weight': {0: 1.0, 1: 9.0}, 'penalty': 'elasticnet'}. Best is trial 101 with value: 0.7910397822561455.\n",
      "[I 2020-10-01 15:42:24,104] Trial 109 finished with value: 0.79103823310986 and parameters: {'C': 0.1647883399769461, 'l1_ratio': 0.9011473184598172, 'class_weight': {0: 1.0, 1: 9.0}, 'penalty': 'elasticnet'}. Best is trial 101 with value: 0.7910397822561455.\n",
      "[I 2020-10-01 15:42:27,152] Trial 110 finished with value: 0.7906171954484427 and parameters: {'C': 1.047915281765338, 'l1_ratio': 0.9342484744153821, 'class_weight': {0: 1.0, 1: 9.0}, 'penalty': 'none'}. Best is trial 101 with value: 0.7910397822561455.\n",
      "[I 2020-10-01 15:42:30,965] Trial 111 finished with value: 0.7909624173882395 and parameters: {'C': 0.2113499379273098, 'l1_ratio': 0.7497101636939857, 'class_weight': {0: 1.0, 1: 9.0}, 'penalty': 'elasticnet'}. Best is trial 101 with value: 0.7910397822561455.\n",
      "[I 2020-10-01 15:42:33,683] Trial 112 finished with value: 0.791041908728978 and parameters: {'C': 0.15314527459008123, 'l1_ratio': 0.8890097254553542, 'class_weight': {0: 1.0, 1: 9.0}, 'penalty': 'elasticnet'}. Best is trial 112 with value: 0.791041908728978.\n",
      "[I 2020-10-01 15:42:36,183] Trial 113 finished with value: 0.7910442022588831 and parameters: {'C': 0.14788628001664747, 'l1_ratio': 0.9055784287349015, 'class_weight': {0: 1.0, 1: 9.0}, 'penalty': 'elasticnet'}. Best is trial 113 with value: 0.7910442022588831.\n",
      "[I 2020-10-01 15:42:38,682] Trial 114 finished with value: 0.7910429132176223 and parameters: {'C': 0.14679622543772927, 'l1_ratio': 0.888660982100118, 'class_weight': {0: 1.0, 1: 9.0}, 'penalty': 'elasticnet'}. Best is trial 113 with value: 0.7910442022588831.\n",
      "[I 2020-10-01 15:42:42,713] Trial 115 finished with value: 0.7908415102282558 and parameters: {'C': 0.4217132435384252, 'l1_ratio': 0.9097830664603774, 'class_weight': {0: 1.0, 1: 9.0}, 'penalty': 'elasticnet'}. Best is trial 113 with value: 0.7910442022588831.\n",
      "[I 2020-10-01 15:42:45,995] Trial 116 finished with value: 0.7910378611344007 and parameters: {'C': 0.15655686378850264, 'l1_ratio': 0.8208871137043642, 'class_weight': {0: 1.0, 1: 9.0}, 'penalty': 'elasticnet'}. Best is trial 113 with value: 0.7910442022588831.\n",
      "[I 2020-10-01 15:42:50,119] Trial 117 finished with value: 0.7907924790632677 and parameters: {'C': 0.5295294768039337, 'l1_ratio': 0.8839460933881956, 'class_weight': {0: 1.0, 1: 9.0}, 'penalty': 'elasticnet'}. Best is trial 113 with value: 0.7910442022588831.\n",
      "[I 2020-10-01 15:42:54,135] Trial 118 finished with value: 0.790885755256507 and parameters: {'C': 0.28601712270791313, 'l1_ratio': 0.8357353047860837, 'class_weight': {0: 1.0, 1: 9.0}, 'penalty': 'elasticnet'}. Best is trial 113 with value: 0.7910442022588831.\n",
      "[I 2020-10-01 15:42:56,525] Trial 119 finished with value: 0.7910461283566864 and parameters: {'C': 0.14428730079414648, 'l1_ratio': 0.9917198958984648, 'class_weight': {0: 1.0, 1: 9.0}, 'penalty': 'elasticnet'}. Best is trial 119 with value: 0.7910461283566864.\n",
      "[I 2020-10-01 15:42:59,025] Trial 120 finished with value: 0.7910481680557272 and parameters: {'C': 0.15486931578246893, 'l1_ratio': 0.9852675816602992, 'class_weight': {0: 1.0, 1: 9.0}, 'penalty': 'elasticnet'}. Best is trial 120 with value: 0.7910481680557272.\n",
      "[I 2020-10-01 15:43:01,635] Trial 121 finished with value: 0.7910478077631877 and parameters: {'C': 0.15975661909299088, 'l1_ratio': 0.9922790802419224, 'class_weight': {0: 1.0, 1: 9.0}, 'penalty': 'elasticnet'}. Best is trial 120 with value: 0.7910481680557272.\n",
      "[I 2020-10-01 15:43:05,666] Trial 122 finished with value: 0.7906465912973781 and parameters: {'C': 2.149980825478564, 'l1_ratio': 0.9859608639084555, 'class_weight': {0: 1.0, 1: 9.0}, 'penalty': 'elasticnet'}. Best is trial 120 with value: 0.7910481680557272.\n",
      "[I 2020-10-01 15:43:07,165] Trial 123 finished with value: 0.7909458454587625 and parameters: {'C': 0.059916005281286565, 'l1_ratio': 0.9666104199802628, 'class_weight': {0: 1.0, 1: 9.0}, 'penalty': 'elasticnet'}. Best is trial 120 with value: 0.7910481680557272.\n"
     ]
    },
    {
     "name": "stderr",
     "output_type": "stream",
     "text": [
      "[I 2020-10-01 15:43:10,869] Trial 124 finished with value: 0.791002919395586 and parameters: {'C': 0.22248837599693988, 'l1_ratio': 0.938258709311163, 'class_weight': {0: 1.0, 1: 9.0}, 'penalty': 'elasticnet'}. Best is trial 120 with value: 0.7910481680557272.\n",
      "[I 2020-10-01 15:43:14,792] Trial 125 finished with value: 0.7908943241230884 and parameters: {'C': 0.3230750080640674, 'l1_ratio': 0.9994194950977051, 'class_weight': {0: 1.0, 1: 9.0}, 'penalty': 'elasticnet'}. Best is trial 120 with value: 0.7910481680557272.\n",
      "[I 2020-10-01 15:43:17,826] Trial 126 finished with value: 0.7910414458690701 and parameters: {'C': 0.1524145160030075, 'l1_ratio': 0.8897774904380614, 'class_weight': {0: 1.0, 1: 9.0}, 'penalty': 'elasticnet'}. Best is trial 120 with value: 0.7910481680557272.\n",
      "[I 2020-10-01 15:43:21,434] Trial 127 finished with value: 0.7910222615050078 and parameters: {'C': 0.18671562935504565, 'l1_ratio': 0.9123348656616098, 'class_weight': {0: 1.0, 1: 9.0}, 'penalty': 'elasticnet'}. Best is trial 120 with value: 0.7910481680557272.\n",
      "[I 2020-10-01 15:43:25,462] Trial 128 finished with value: 0.7907573700596771 and parameters: {'C': 0.6547926764405, 'l1_ratio': 0.8756643274787661, 'class_weight': {0: 1.0, 1: 9.0}, 'penalty': 'elasticnet'}. Best is trial 120 with value: 0.7910481680557272.\n",
      "[I 2020-10-01 15:43:29,572] Trial 129 finished with value: 0.790831831060406 and parameters: {'C': 0.43879715298474603, 'l1_ratio': 0.906803415726059, 'class_weight': {0: 1.0, 1: 9.0}, 'penalty': 'elasticnet'}. Best is trial 120 with value: 0.7910481680557272.\n",
      "[I 2020-10-01 15:43:31,075] Trial 130 finished with value: 0.7909550316853557 and parameters: {'C': 0.06386455674402444, 'l1_ratio': 0.9646706686081407, 'class_weight': {0: 1.0, 1: 9.0}, 'penalty': 'elasticnet'}. Best is trial 120 with value: 0.7910481680557272.\n",
      "[I 2020-10-01 15:43:33,681] Trial 131 finished with value: 0.7910347089705879 and parameters: {'C': 0.14042218520541894, 'l1_ratio': 0.8316132961886, 'class_weight': {0: 1.0, 1: 9.0}, 'penalty': 'elasticnet'}. Best is trial 120 with value: 0.7910481680557272.\n",
      "[I 2020-10-01 15:43:37,603] Trial 132 finished with value: 0.7909258367090894 and parameters: {'C': 0.2518249847028199, 'l1_ratio': 0.8168591829483818, 'class_weight': {0: 1.0, 1: 9.0}, 'penalty': 'elasticnet'}. Best is trial 120 with value: 0.7910481680557272.\n",
      "[I 2020-10-01 15:43:40,104] Trial 133 finished with value: 0.791039040685081 and parameters: {'C': 0.14293095162741173, 'l1_ratio': 0.863953956081234, 'class_weight': {0: 1.0, 1: 9.0}, 'penalty': 'elasticnet'}. Best is trial 120 with value: 0.7910481680557272.\n",
      "[I 2020-10-01 15:43:44,331] Trial 134 finished with value: 0.7908586546682796 and parameters: {'C': 0.35623893593075334, 'l1_ratio': 0.8613034759481607, 'class_weight': {0: 1.0, 1: 9.0}, 'penalty': 'elasticnet'}. Best is trial 120 with value: 0.7910481680557272.\n",
      "[I 2020-10-01 15:43:48,195] Trial 135 finished with value: 0.7910247432943212 and parameters: {'C': 0.1842767977658258, 'l1_ratio': 0.9255483444668674, 'class_weight': {0: 1.0, 1: 9.0}, 'penalty': 'elasticnet'}. Best is trial 120 with value: 0.7910481680557272.\n",
      "[I 2020-10-01 15:43:49,948] Trial 136 finished with value: 0.7909503481159874 and parameters: {'C': 0.06338121872529201, 'l1_ratio': 0.8925091021836636, 'class_weight': {0: 1.0, 1: 9.0}, 'penalty': 'elasticnet'}. Best is trial 120 with value: 0.7910481680557272.\n",
      "[I 2020-10-01 15:43:52,601] Trial 137 finished with value: 0.7910472304366409 and parameters: {'C': 0.13725407522375566, 'l1_ratio': 0.9576827499043064, 'class_weight': {0: 1.0, 1: 9.0}, 'penalty': 'elasticnet'}. Best is trial 120 with value: 0.7910481680557272.\n",
      "[I 2020-10-01 15:43:57,353] Trial 138 finished with value: 0.790973621787012 and parameters: {'C': 0.246579487638633, 'l1_ratio': 0.9620270445282723, 'class_weight': {0: 1.0, 1: 9.0}, 'penalty': 'elasticnet'}. Best is trial 120 with value: 0.7910481680557272.\n",
      "[I 2020-10-01 15:43:58,789] Trial 139 finished with value: 0.7907712127555511 and parameters: {'C': 0.04038124218312036, 'l1_ratio': 0.9771746873618867, 'class_weight': {0: 1.0, 1: 9.0}, 'penalty': 'elasticnet'}. Best is trial 120 with value: 0.7910481680557272.\n",
      "[I 2020-10-01 15:44:00,670] Trial 140 finished with value: 0.7910423884815092 and parameters: {'C': 0.11017536195778918, 'l1_ratio': 0.9447406484803442, 'class_weight': {0: 1.0, 1: 9.0}, 'penalty': 'elasticnet'}. Best is trial 120 with value: 0.7910481680557272.\n",
      "[I 2020-10-01 15:44:02,539] Trial 141 finished with value: 0.7910461740239084 and parameters: {'C': 0.11282241120389173, 'l1_ratio': 0.9497822799936649, 'class_weight': {0: 1.0, 1: 9.0}, 'penalty': 'elasticnet'}. Best is trial 120 with value: 0.7910481680557272.\n",
      "[I 2020-10-01 15:44:03,789] Trial 142 finished with value: 0.7490715054739872 and parameters: {'C': 0.00013884454435472303, 'l1_ratio': 0.9967564761668516, 'class_weight': {0: 1.0, 1: 9.0}, 'penalty': 'elasticnet'}. Best is trial 120 with value: 0.7910481680557272.\n",
      "[I 2020-10-01 15:44:05,781] Trial 143 finished with value: 0.7910331466442242 and parameters: {'C': 0.09952472334900085, 'l1_ratio': 0.9493619164611174, 'class_weight': {0: 1.0, 1: 9.0}, 'penalty': 'elasticnet'}. Best is trial 120 with value: 0.7910481680557272.\n",
      "[I 2020-10-01 15:44:07,535] Trial 144 finished with value: 0.7909730615953803 and parameters: {'C': 0.06629744207945704, 'l1_ratio': 0.9492969443691718, 'class_weight': {0: 1.0, 1: 9.0}, 'penalty': 'elasticnet'}. Best is trial 120 with value: 0.7910481680557272.\n",
      "[I 2020-10-01 15:44:09,591] Trial 145 finished with value: 0.7910530987490983 and parameters: {'C': 0.11824602483850682, 'l1_ratio': 0.8978271159834377, 'class_weight': {0: 1.0, 1: 9.0}, 'penalty': 'elasticnet'}. Best is trial 145 with value: 0.7910530987490983.\n",
      "[I 2020-10-01 15:44:11,473] Trial 146 finished with value: 0.791050695728613 and parameters: {'C': 0.1140407956031082, 'l1_ratio': 0.920116763890241, 'class_weight': {0: 1.0, 1: 9.0}, 'penalty': 'elasticnet'}. Best is trial 145 with value: 0.7910530987490983.\n",
      "[I 2020-10-01 15:44:15,003] Trial 147 finished with value: 0.7906171954484427 and parameters: {'C': 0.11320708468047161, 'l1_ratio': 0.9228281212364825, 'class_weight': {0: 1.0, 1: 9.0}, 'penalty': 'none'}. Best is trial 145 with value: 0.7910530987490983.\n",
      "[I 2020-10-01 15:44:16,668] Trial 148 finished with value: 0.7908370005915271 and parameters: {'C': 0.04444586872301665, 'l1_ratio': 0.8997985623977127, 'class_weight': {0: 1.0, 1: 9.0}, 'penalty': 'elasticnet'}. Best is trial 145 with value: 0.7910530987490983.\n",
      "[I 2020-10-01 15:44:18,992] Trial 149 finished with value: 0.7908561884085481 and parameters: {'C': 0.07857447526025106, 'l1_ratio': 0.8665534845649249, 'class_weight': 'balanced', 'penalty': 'elasticnet'}. Best is trial 145 with value: 0.7910530987490983.\n",
      "[I 2020-10-01 15:44:23,320] Trial 150 finished with value: 0.7910136114897441 and parameters: {'C': 0.21788576573594437, 'l1_ratio': 0.9477000459761646, 'class_weight': {0: 1.0, 1: 9.0}, 'penalty': 'elasticnet'}. Best is trial 145 with value: 0.7910530987490983.\n",
      "[I 2020-10-01 15:44:25,789] Trial 151 finished with value: 0.791045469016056 and parameters: {'C': 0.12548638924265343, 'l1_ratio': 0.8923047171501132, 'class_weight': {0: 1.0, 1: 9.0}, 'penalty': 'elasticnet'}. Best is trial 145 with value: 0.7910530987490983.\n",
      "[I 2020-10-01 15:44:27,562] Trial 152 finished with value: 0.7910397995814694 and parameters: {'C': 0.10569612138016476, 'l1_ratio': 0.9225443394458583, 'class_weight': {0: 1.0, 1: 9.0}, 'penalty': 'elasticnet'}. Best is trial 145 with value: 0.7910530987490983.\n",
      "[I 2020-10-01 15:44:29,463] Trial 153 finished with value: 0.7910371102775647 and parameters: {'C': 0.10167496606468827, 'l1_ratio': 0.9952228804753946, 'class_weight': {0: 1.0, 1: 9.0}, 'penalty': 'elasticnet'}. Best is trial 145 with value: 0.7910530987490983.\n",
      "[I 2020-10-01 15:44:31,111] Trial 154 finished with value: 0.790929242214774 and parameters: {'C': 0.056283883224573714, 'l1_ratio': 0.9230060196863553, 'class_weight': {0: 1.0, 1: 9.0}, 'penalty': 'elasticnet'}. Best is trial 145 with value: 0.7910530987490983.\n",
      "[I 2020-10-01 15:44:35,641] Trial 155 finished with value: 0.7908748798789986 and parameters: {'C': 0.31751818852353436, 'l1_ratio': 0.8867545562897664, 'class_weight': {0: 1.0, 1: 9.0}, 'penalty': 'elasticnet'}. Best is trial 145 with value: 0.7910530987490983.\n",
      "[I 2020-10-01 15:44:37,731] Trial 156 finished with value: 0.7910475561131217 and parameters: {'C': 0.11560794542704653, 'l1_ratio': 0.9554728420760086, 'class_weight': {0: 1.0, 1: 9.0}, 'penalty': 'elasticnet'}. Best is trial 145 with value: 0.7910530987490983.\n",
      "[I 2020-10-01 15:44:39,490] Trial 157 finished with value: 0.7909628639482837 and parameters: {'C': 0.07890266754806952, 'l1_ratio': 0.97678641475809, 'class_weight': {0: 1.0, 1: 11}, 'penalty': 'elasticnet'}. Best is trial 145 with value: 0.7910530987490983.\n",
      "[I 2020-10-01 15:44:41,356] Trial 158 finished with value: 0.7910403611144394 and parameters: {'C': 0.11246183204668077, 'l1_ratio': 0.9527651678041295, 'class_weight': {0: 1.0, 1: 10}, 'penalty': 'elasticnet'}. Best is trial 145 with value: 0.7910530987490983.\n",
      "[I 2020-10-01 15:44:43,222] Trial 159 finished with value: 0.791037313681499 and parameters: {'C': 0.11021643837190453, 'l1_ratio': 0.9493434608529125, 'class_weight': {0: 1.0, 1: 10}, 'penalty': 'elasticnet'}. Best is trial 145 with value: 0.7910530987490983.\n",
      "[I 2020-10-01 15:44:44,771] Trial 160 finished with value: 0.7906574594876796 and parameters: {'C': 0.03243394326560889, 'l1_ratio': 0.9239254499749371, 'class_weight': {0: 1.0, 1: 10}, 'penalty': 'elasticnet'}. Best is trial 145 with value: 0.7910530987490983.\n",
      "[I 2020-10-01 15:44:48,971] Trial 161 finished with value: 0.7910016307870258 and parameters: {'C': 0.22741181672306182, 'l1_ratio': 0.959636244583379, 'class_weight': {0: 1.0, 1: 9.0}, 'penalty': 'elasticnet'}. Best is trial 145 with value: 0.7910530987490983.\n",
      "[I 2020-10-01 15:44:50,746] Trial 162 finished with value: 0.791036588336712 and parameters: {'C': 0.11527150871401028, 'l1_ratio': 0.9337732882432774, 'class_weight': {0: 1.0, 1: 10}, 'penalty': 'elasticnet'}. Best is trial 145 with value: 0.7910530987490983.\n",
      "[I 2020-10-01 15:44:52,727] Trial 163 finished with value: 0.7909944931644273 and parameters: {'C': 0.08109588862591856, 'l1_ratio': 0.9756947459027312, 'class_weight': {0: 1.0, 1: 9.0}, 'penalty': 'elasticnet'}. Best is trial 145 with value: 0.7910530987490983.\n",
      "[I 2020-10-01 15:44:54,386] Trial 164 finished with value: 0.7908672381990415 and parameters: {'C': 0.04925716928105073, 'l1_ratio': 0.9972491176121971, 'class_weight': {0: 1.0, 1: 9.0}, 'penalty': 'elasticnet'}. Best is trial 145 with value: 0.7910530987490983.\n",
      "[I 2020-10-01 15:44:58,358] Trial 165 finished with value: 0.7910197593787596 and parameters: {'C': 0.1825692958921866, 'l1_ratio': 0.8987671537446172, 'class_weight': {0: 1.0, 1: 10}, 'penalty': 'elasticnet'}. Best is trial 145 with value: 0.7910530987490983.\n",
      "[I 2020-10-01 15:45:03,106] Trial 166 finished with value: 0.7909077845063298 and parameters: {'C': 0.286464996849556, 'l1_ratio': 0.9397429698494604, 'class_weight': {0: 1.0, 1: 9.0}, 'penalty': 'elasticnet'}. Best is trial 145 with value: 0.7910530987490983.\n",
      "[I 2020-10-01 15:45:04,904] Trial 167 finished with value: 0.7909765939559664 and parameters: {'C': 0.0713672684739339, 'l1_ratio': 0.9142913694962089, 'class_weight': {0: 1.0, 1: 9.0}, 'penalty': 'elasticnet'}. Best is trial 145 with value: 0.7910530987490983.\n",
      "[I 2020-10-01 15:45:08,105] Trial 168 finished with value: 0.7899650876799521 and parameters: {'C': 0.1266768065317085, 'l1_ratio': 0.885520160483271, 'class_weight': None, 'penalty': 'elasticnet'}. Best is trial 145 with value: 0.7910530987490983.\n",
      "[I 2020-10-01 15:45:12,081] Trial 169 finished with value: 0.7910188583228855 and parameters: {'C': 0.1879311424821038, 'l1_ratio': 0.8484490098380901, 'class_weight': {0: 1.0, 1: 9.0}, 'penalty': 'elasticnet'}. Best is trial 145 with value: 0.7910530987490983.\n",
      "[I 2020-10-01 15:45:16,497] Trial 170 finished with value: 0.7906194995795157 and parameters: {'C': 39.96839329286291, 'l1_ratio': 0.99947306305426, 'class_weight': {0: 1.0, 1: 9.0}, 'penalty': 'elasticnet'}. Best is trial 145 with value: 0.7910530987490983.\n",
      "[I 2020-10-01 15:45:18,633] Trial 171 finished with value: 0.7910523615050412 and parameters: {'C': 0.11538885801481093, 'l1_ratio': 0.8641601868259731, 'class_weight': {0: 1.0, 1: 9.0}, 'penalty': 'elasticnet'}. Best is trial 145 with value: 0.7910530987490983.\n",
      "[I 2020-10-01 15:45:20,724] Trial 172 finished with value: 0.7910351690352357 and parameters: {'C': 0.09785196356985085, 'l1_ratio': 0.9655937978285765, 'class_weight': {0: 1.0, 1: 9.0}, 'penalty': 'elasticnet'}. Best is trial 145 with value: 0.7910530987490983.\n",
      "[I 2020-10-01 15:45:23,410] Trial 173 finished with value: 0.7910453841894175 and parameters: {'C': 0.1290468327204844, 'l1_ratio': 0.9115702055984971, 'class_weight': {0: 1.0, 1: 9.0}, 'penalty': 'elasticnet'}. Best is trial 145 with value: 0.7910530987490983.\n",
      "[I 2020-10-01 15:45:27,946] Trial 174 finished with value: 0.790969105707417 and parameters: {'C': 0.23767470812238548, 'l1_ratio': 0.9127533288942279, 'class_weight': {0: 1.0, 1: 9.0}, 'penalty': 'elasticnet'}. Best is trial 145 with value: 0.7910530987490983.\n",
      "[I 2020-10-01 15:45:29,707] Trial 175 finished with value: 0.7909464941982249 and parameters: {'C': 0.059525998674806194, 'l1_ratio': 0.9315949789298517, 'class_weight': {0: 1.0, 1: 9.0}, 'penalty': 'elasticnet'}. Best is trial 145 with value: 0.7910530987490983.\n",
      "[I 2020-10-01 15:45:31,481] Trial 176 finished with value: 0.7910295590970001 and parameters: {'C': 0.09777243566540492, 'l1_ratio': 0.8767775108218068, 'class_weight': {0: 1.0, 1: 9.0}, 'penalty': 'elasticnet'}. Best is trial 145 with value: 0.7910530987490983.\n",
      "[I 2020-10-01 15:45:36,009] Trial 177 finished with value: 0.7908709123513515 and parameters: {'C': 0.361386639188756, 'l1_ratio': 0.9817620918045296, 'class_weight': {0: 1.0, 1: 9.0}, 'penalty': 'elasticnet'}. Best is trial 145 with value: 0.7910530987490983.\n",
      "[I 2020-10-01 15:45:39,098] Trial 178 finished with value: 0.7910427223620096 and parameters: {'C': 0.14268817343847537, 'l1_ratio': 0.895875874824478, 'class_weight': {0: 1.0, 1: 9.0}, 'penalty': 'elasticnet'}. Best is trial 145 with value: 0.7910530987490983.\n",
      "[I 2020-10-01 15:45:42,955] Trial 179 finished with value: 0.7910233642340131 and parameters: {'C': 0.17938522001731919, 'l1_ratio': 0.8915169868004275, 'class_weight': {0: 1.0, 1: 9.0}, 'penalty': 'elasticnet'}. Best is trial 145 with value: 0.7910530987490983.\n",
      "[I 2020-10-01 15:45:45,703] Trial 180 finished with value: 0.7910448349884185 and parameters: {'C': 0.13797558357579964, 'l1_ratio': 0.948589511209446, 'class_weight': {0: 1.0, 1: 9.0}, 'penalty': 'elasticnet'}. Best is trial 145 with value: 0.7910530987490983.\n",
      "[I 2020-10-01 15:45:48,010] Trial 181 finished with value: 0.7910485071459307 and parameters: {'C': 0.12799032646219718, 'l1_ratio': 0.9517707754835583, 'class_weight': {0: 1.0, 1: 9.0}, 'penalty': 'elasticnet'}. Best is trial 145 with value: 0.7910530987490983.\n",
      "[I 2020-10-01 15:45:50,762] Trial 182 finished with value: 0.7910437348556172 and parameters: {'C': 0.14038701771109893, 'l1_ratio': 0.899507165998998, 'class_weight': {0: 1.0, 1: 9.0}, 'penalty': 'elasticnet'}. Best is trial 145 with value: 0.7910530987490983.\n",
      "[I 2020-10-01 15:45:54,683] Trial 183 finished with value: 0.7910006172116663 and parameters: {'C': 0.22436033936038, 'l1_ratio': 0.9415165543569417, 'class_weight': {0: 1.0, 1: 9.0}, 'penalty': 'elasticnet'}. Best is trial 145 with value: 0.7910530987490983.\n",
      "[I 2020-10-01 15:45:57,184] Trial 184 finished with value: 0.7910432685341033 and parameters: {'C': 0.1310991308283521, 'l1_ratio': 0.9054972377287357, 'class_weight': {0: 1.0, 1: 9.0}, 'penalty': 'elasticnet'}. Best is trial 145 with value: 0.7910530987490983.\n",
      "[I 2020-10-01 15:45:58,822] Trial 185 finished with value: 0.7910064870645179 and parameters: {'C': 0.0841841975344828, 'l1_ratio': 0.9086600100861512, 'class_weight': {0: 1.0, 1: 9.0}, 'penalty': 'elasticnet'}. Best is trial 145 with value: 0.7910530987490983.\n"
     ]
    },
    {
     "name": "stderr",
     "output_type": "stream",
     "text": [
      "[I 2020-10-01 15:46:01,432] Trial 186 finished with value: 0.7910492543421047 and parameters: {'C': 0.13433365925283067, 'l1_ratio': 0.9674637621487514, 'class_weight': {0: 1.0, 1: 9.0}, 'penalty': 'elasticnet'}. Best is trial 145 with value: 0.7910530987490983.\n",
      "[I 2020-10-01 15:46:05,463] Trial 187 finished with value: 0.7908406779890929 and parameters: {'C': 0.4425131708940126, 'l1_ratio': 0.9719474524989278, 'class_weight': {0: 1.0, 1: 9.0}, 'penalty': 'elasticnet'}. Best is trial 145 with value: 0.7910530987490983.\n",
      "[I 2020-10-01 15:46:09,494] Trial 188 finished with value: 0.7909335785289167 and parameters: {'C': 0.25228692921245016, 'l1_ratio': 0.8523302449578716, 'class_weight': {0: 1.0, 1: 9.0}, 'penalty': 'elasticnet'}. Best is trial 145 with value: 0.7910530987490983.\n",
      "[I 2020-10-01 15:46:12,620] Trial 189 finished with value: 0.7906171954484427 and parameters: {'C': 0.07138433776855237, 'l1_ratio': 0.9975720704870695, 'class_weight': {0: 1.0, 1: 9.0}, 'penalty': 'none'}. Best is trial 145 with value: 0.7910530987490983.\n",
      "[I 2020-10-01 15:46:14,884] Trial 190 finished with value: 0.7910473217537904 and parameters: {'C': 0.13569633660561586, 'l1_ratio': 0.963311014765496, 'class_weight': {0: 1.0, 1: 9.0}, 'penalty': 'elasticnet'}. Best is trial 145 with value: 0.7910530987490983.\n",
      "[I 2020-10-01 15:46:17,636] Trial 191 finished with value: 0.7910473247826955 and parameters: {'C': 0.13979134791902947, 'l1_ratio': 0.9603699672067859, 'class_weight': {0: 1.0, 1: 9.0}, 'penalty': 'elasticnet'}. Best is trial 145 with value: 0.7910530987490983.\n",
      "[I 2020-10-01 15:46:21,325] Trial 192 finished with value: 0.7910193166394357 and parameters: {'C': 0.1947591691750955, 'l1_ratio': 0.9656695704155577, 'class_weight': {0: 1.0, 1: 9.0}, 'penalty': 'elasticnet'}. Best is trial 145 with value: 0.7910530987490983.\n",
      "[I 2020-10-01 15:46:23,181] Trial 193 finished with value: 0.7910531061050109 and parameters: {'C': 0.12725888493400458, 'l1_ratio': 0.9851193622801032, 'class_weight': {0: 1.0, 1: 9.0}, 'penalty': 'elasticnet'}. Best is trial 193 with value: 0.7910531061050109.\n",
      "[I 2020-10-01 15:46:24,792] Trial 194 finished with value: 0.7909210239049657 and parameters: {'C': 0.05578989976826277, 'l1_ratio': 0.9847203674481065, 'class_weight': {0: 1.0, 1: 9.0}, 'penalty': 'elasticnet'}. Best is trial 193 with value: 0.7910531061050109.\n",
      "[I 2020-10-01 15:46:26,651] Trial 195 finished with value: 0.7910049145523926 and parameters: {'C': 0.08279086857047294, 'l1_ratio': 0.9509442883906944, 'class_weight': {0: 1.0, 1: 9.0}, 'penalty': 'elasticnet'}. Best is trial 193 with value: 0.7910531061050109.\n",
      "[I 2020-10-01 15:46:29,261] Trial 196 finished with value: 0.7910154654606417 and parameters: {'C': 0.12794990180954888, 'l1_ratio': 0.9788369113461592, 'class_weight': 'balanced', 'penalty': 'elasticnet'}. Best is trial 193 with value: 0.7910531061050109.\n",
      "[I 2020-10-01 15:46:33,401] Trial 197 finished with value: 0.7908940471427347 and parameters: {'C': 0.3074738152596536, 'l1_ratio': 0.9339158730847216, 'class_weight': {0: 1.0, 1: 9.0}, 'penalty': 'elasticnet'}. Best is trial 193 with value: 0.7910531061050109.\n",
      "[I 2020-10-01 15:46:36,979] Trial 198 finished with value: 0.7910158230055655 and parameters: {'C': 0.202647567745955, 'l1_ratio': 0.9564146688308213, 'class_weight': {0: 1.0, 1: 9.0}, 'penalty': 'elasticnet'}. Best is trial 193 with value: 0.7910531061050109.\n",
      "[I 2020-10-01 15:46:38,932] Trial 199 finished with value: 0.7910495233174948 and parameters: {'C': 0.13261680186792235, 'l1_ratio': 0.9981696635114728, 'class_weight': {0: 1.0, 1: 9.0}, 'penalty': 'elasticnet'}. Best is trial 193 with value: 0.7910531061050109.\n"
     ]
    }
   ],
   "source": [
    "# Extracting the best model parameters and best study score\n",
    "best_study_score,best_study_params = train_test_roc_auc(X_train_red, y_train, lr_s, objective_wrappper_ls, cv_strat, n_trials=200)"
   ]
  },
  {
   "cell_type": "code",
   "execution_count": 41,
   "metadata": {},
   "outputs": [
    {
     "name": "stdout",
     "output_type": "stream",
     "text": [
      "The best roc_auc_score for the study is:  0.7910531061050109\n"
     ]
    }
   ],
   "source": [
    "print('The best roc_auc_score for the study is: ',best_study_score)"
   ]
  },
  {
   "cell_type": "code",
   "execution_count": 42,
   "metadata": {},
   "outputs": [
    {
     "name": "stdout",
     "output_type": "stream",
     "text": [
      "('The best study parameters for the classifier are: ', {'C': 0.12725888493400458, 'l1_ratio': 0.9851193622801032, 'class_weight': {0: 1.0, 1: 9.0}, 'penalty': 'elasticnet'})\n"
     ]
    }
   ],
   "source": [
    "print(('The best study parameters for the classifier are: ',best_study_params))"
   ]
  },
  {
   "cell_type": "markdown",
   "metadata": {},
   "source": [
    "#### Computing the  Reduced feature roc_auc score for the test data using the best study Parameters"
   ]
  },
  {
   "cell_type": "code",
   "execution_count": 43,
   "metadata": {},
   "outputs": [],
   "source": [
    "# Obtaining the best reduced feature LR model by setting best study parameters.\n",
    "lr_R = lr_s.set_params(**best_study_params)"
   ]
  },
  {
   "cell_type": "code",
   "execution_count": 44,
   "metadata": {},
   "outputs": [
    {
     "data": {
      "text/plain": [
       "LogisticRegression(C=0.12725888493400458, class_weight={0: 1.0, 1: 9.0},\n",
       "                   l1_ratio=0.9851193622801032, n_jobs=5, penalty='elasticnet',\n",
       "                   random_state=42, solver='saga')"
      ]
     },
     "execution_count": 44,
     "metadata": {},
     "output_type": "execute_result"
    }
   ],
   "source": [
    "# fitting the best Logistics regression model on the reduced feature training set\n",
    "lr_R.fit(X_train_red, y_train)"
   ]
  },
  {
   "cell_type": "code",
   "execution_count": 45,
   "metadata": {},
   "outputs": [
    {
     "name": "stdout",
     "output_type": "stream",
     "text": [
      "The roc_auc_score for the reduced feature training set using the best Logistic Regression is  0.7939385748220312\n"
     ]
    }
   ],
   "source": [
    "# Calculating the reduced feature training set roc_auc score using the best study parameters\n",
    "cal_roc_auc(X_train_red, y_train, lr_R,'reduced feature', 'training', 'Logistic Regression')"
   ]
  },
  {
   "cell_type": "code",
   "execution_count": 46,
   "metadata": {},
   "outputs": [
    {
     "name": "stdout",
     "output_type": "stream",
     "text": [
      "The roc_auc_score for the reduced feature test set using the best Logistic Regression is  0.7986454254917684\n"
     ]
    }
   ],
   "source": [
    "# Calculating the reduced feature test set roc_auc score using the best study parameters\n",
    "cal_roc_auc(X_test_red, y_test, lr_R, 'reduced feature','test','Logistic Regression')"
   ]
  },
  {
   "cell_type": "code",
   "execution_count": 49,
   "metadata": {},
   "outputs": [
    {
     "name": "stdout",
     "output_type": "stream",
     "text": [
      "The accuracy for the reduced feature test is:  0.809905316824472\n"
     ]
    }
   ],
   "source": [
    "# Computing the accuracy score for the Reduced feature test set \n",
    "print('The accuracy for the reduced feature test is: ',lr_R.score(X_test_red,y_test))"
   ]
  },
  {
   "cell_type": "code",
   "execution_count": 48,
   "metadata": {},
   "outputs": [
    {
     "data": {
      "text/plain": [
       "['Log_Reg_Reduced.joblib']"
      ]
     },
     "execution_count": 48,
     "metadata": {},
     "output_type": "execute_result"
    }
   ],
   "source": [
    "# Saving the Reduced feature best Logistic Regression model \n",
    "joblib.dump(lr_R,'Log_Reg_Reduced.joblib')"
   ]
  },
  {
   "cell_type": "markdown",
   "metadata": {},
   "source": [
    "## Observations:\n",
    "### 1) From the above analysis we can clearly see that roc_auc score of the full feature test set using tuned Logistic regression model is almost equal to that of  corresponding reduced feature test set , confirming the earlier suspicion that there are lot of noise features in the original dataset.\n",
    "### 2) The roc_auc test set score for the tuned Logistic models are much higher than the scores from the corresponding  baseline models, which was expected.\n",
    "### 3) The roc_auc test scores are more than their training counterparts for both full feature & reduced feature datasets ,perhaps due to underfitting. May be a more flexible model will yield better result."
   ]
  },
  {
   "cell_type": "markdown",
   "metadata": {},
   "source": [
    "## Defining  Reward Risk Ratio for a Family of Machine Learning Models:\n",
    "\n",
    "## R_R Ratio = Mean of CV K Fold score / Std. Dev of K Fold score\n",
    "\n",
    "### R_R ratio may be helpful in choosing among models having same computational complexity"
   ]
  },
  {
   "cell_type": "markdown",
   "metadata": {},
   "source": [
    "### Calculating R_R ratio for best Logistic Regression Model "
   ]
  },
  {
   "cell_type": "code",
   "execution_count": 4,
   "metadata": {},
   "outputs": [],
   "source": [
    "# Loading the best logistic regression Model\n",
    "import joblib\n",
    "lr_R = joblib.load('Log_Reg_Reduced.joblib')"
   ]
  },
  {
   "cell_type": "code",
   "execution_count": 5,
   "metadata": {},
   "outputs": [],
   "source": [
    "# Importing required Libraries\n",
    "from sklearn.model_selection import StratifiedKFold\n",
    "from sklearn.model_selection import cross_val_score"
   ]
  },
  {
   "cell_type": "code",
   "execution_count": 6,
   "metadata": {},
   "outputs": [],
   "source": [
    "# Instantiating the Stratified K fold object\n",
    "cv_strat = StratifiedKFold(10,random_state=42)"
   ]
  },
  {
   "cell_type": "code",
   "execution_count": 7,
   "metadata": {},
   "outputs": [],
   "source": [
    "# Computing the Reward, Risk of the Logistic Regression Model\n",
    "score_Log_Reg = cross_val_score(lr_R, X_train_red, y_train, cv=cv_strat, n_jobs=5, scoring='roc_auc')"
   ]
  },
  {
   "cell_type": "code",
   "execution_count": 10,
   "metadata": {},
   "outputs": [
    {
     "name": "stdout",
     "output_type": "stream",
     "text": [
      "The reward for the best Logistics Regression Model using roc_auc metric is:  0.7910531061050109\n"
     ]
    }
   ],
   "source": [
    "print('The reward for the best Logistics Regression Model using roc_auc metric is: ',np.mean(score_Log_Reg))"
   ]
  },
  {
   "cell_type": "code",
   "execution_count": 11,
   "metadata": {},
   "outputs": [
    {
     "name": "stdout",
     "output_type": "stream",
     "text": [
      "The risk associated with the best Logistics Regression Model using roc_auc metric is:  0.016087407569279358\n"
     ]
    }
   ],
   "source": [
    "print('The risk associated with the best Logistics Regression Model using roc_auc metric is: ',np.std(score_Log_Reg))"
   ]
  },
  {
   "cell_type": "code",
   "execution_count": 8,
   "metadata": {},
   "outputs": [],
   "source": [
    "# Computing the Reward of the best Logistic Regression Model\n",
    "R_R_Ratio_Log_Reg = np.mean(score_Log_Reg)/np.std(score_Log_Reg)"
   ]
  },
  {
   "cell_type": "code",
   "execution_count": 12,
   "metadata": {},
   "outputs": [
    {
     "name": "stdout",
     "output_type": "stream",
     "text": [
      "The reward risk  ratio for the best Logistics Regression Model using roc_auc metric is:  49.17219276619884\n"
     ]
    }
   ],
   "source": [
    "print('The reward risk  ratio for the best Logistics Regression Model using roc_auc metric is: ',R_R_Ratio_Log_Reg)"
   ]
  },
  {
   "cell_type": "markdown",
   "metadata": {},
   "source": [
    "### R_R Ratio for the best Logistic Regression using reduced feature set is: 49.17219276619884"
   ]
  },
  {
   "cell_type": "code",
   "execution_count": null,
   "metadata": {},
   "outputs": [],
   "source": []
  }
 ],
 "metadata": {
  "kernelspec": {
   "display_name": "Python 3",
   "language": "python",
   "name": "python3"
  },
  "language_info": {
   "codemirror_mode": {
    "name": "ipython",
    "version": 3
   },
   "file_extension": ".py",
   "mimetype": "text/x-python",
   "name": "python",
   "nbconvert_exporter": "python",
   "pygments_lexer": "ipython3",
   "version": "3.7.6"
  }
 },
 "nbformat": 4,
 "nbformat_minor": 4
}
