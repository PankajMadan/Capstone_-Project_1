{
 "cells": [
  {
   "cell_type": "code",
   "execution_count": 1,
   "metadata": {},
   "outputs": [],
   "source": [
    "# Importing Required Python Packages\n",
    "import numpy as np\n",
    "import pandas as pd\n",
    "import matplotlib.pyplot as plt\n",
    "import seaborn as sns\n",
    "import warnings\n",
    "warnings.filterwarnings('ignore')\n",
    "pd.set_option('display.max_columns',None)\n",
    "#pd.set_option('display.max_rows',None)"
   ]
  },
  {
   "cell_type": "code",
   "execution_count": 2,
   "metadata": {},
   "outputs": [],
   "source": [
    "# Reading the CSV File\n",
    "bank_df = pd.read_csv('bank_additional_full.csv',sep=';',na_values='unknown')"
   ]
  },
  {
   "cell_type": "code",
   "execution_count": 3,
   "metadata": {},
   "outputs": [
    {
     "name": "stdout",
     "output_type": "stream",
     "text": [
      "<class 'pandas.core.frame.DataFrame'>\n",
      "RangeIndex: 41188 entries, 0 to 41187\n",
      "Data columns (total 21 columns):\n",
      " #   Column          Non-Null Count  Dtype  \n",
      "---  ------          --------------  -----  \n",
      " 0   age             41188 non-null  int64  \n",
      " 1   job             40858 non-null  object \n",
      " 2   marital         41108 non-null  object \n",
      " 3   education       39457 non-null  object \n",
      " 4   default         32591 non-null  object \n",
      " 5   housing         40198 non-null  object \n",
      " 6   loan            40198 non-null  object \n",
      " 7   contact         41188 non-null  object \n",
      " 8   month           41188 non-null  object \n",
      " 9   day_of_week     41188 non-null  object \n",
      " 10  duration        41188 non-null  int64  \n",
      " 11  campaign        41188 non-null  int64  \n",
      " 12  pdays           41188 non-null  int64  \n",
      " 13  previous        41188 non-null  int64  \n",
      " 14  poutcome        41188 non-null  object \n",
      " 15  emp.var.rate    41188 non-null  float64\n",
      " 16  cons.price.idx  41188 non-null  float64\n",
      " 17  cons.conf.idx   41188 non-null  float64\n",
      " 18  euribor3m       41188 non-null  float64\n",
      " 19  nr.employed     41188 non-null  float64\n",
      " 20  y               41188 non-null  object \n",
      "dtypes: float64(5), int64(5), object(11)\n",
      "memory usage: 6.6+ MB\n"
     ]
    }
   ],
   "source": [
    "# Getting the dataset info:\n",
    "bank_df.info()"
   ]
  },
  {
   "cell_type": "markdown",
   "metadata": {},
   "source": [
    "## Processing the Object/Categorical Dataset"
   ]
  },
  {
   "cell_type": "code",
   "execution_count": 33,
   "metadata": {},
   "outputs": [],
   "source": [
    "# Segregating the Object/Categorical columns\n",
    "cat_df = bank_df.select_dtypes(include='object')"
   ]
  },
  {
   "cell_type": "code",
   "execution_count": 34,
   "metadata": {},
   "outputs": [
    {
     "name": "stdout",
     "output_type": "stream",
     "text": [
      "<class 'pandas.core.frame.DataFrame'>\n",
      "RangeIndex: 41188 entries, 0 to 41187\n",
      "Data columns (total 11 columns):\n",
      " #   Column       Non-Null Count  Dtype \n",
      "---  ------       --------------  ----- \n",
      " 0   job          40858 non-null  object\n",
      " 1   marital      41108 non-null  object\n",
      " 2   education    39457 non-null  object\n",
      " 3   default      32591 non-null  object\n",
      " 4   housing      40198 non-null  object\n",
      " 5   loan         40198 non-null  object\n",
      " 6   contact      41188 non-null  object\n",
      " 7   month        41188 non-null  object\n",
      " 8   day_of_week  41188 non-null  object\n",
      " 9   poutcome     41188 non-null  object\n",
      " 10  y            41188 non-null  object\n",
      "dtypes: object(11)\n",
      "memory usage: 3.5+ MB\n"
     ]
    }
   ],
   "source": [
    "# Getting the dataset info.\n",
    "cat_df.info()"
   ]
  },
  {
   "cell_type": "code",
   "execution_count": 36,
   "metadata": {},
   "outputs": [],
   "source": [
    "# Getting rid of the response variable y from the categorical Dataframe cat_df\n",
    "cat_df = cat_df.drop(columns='y')"
   ]
  },
  {
   "cell_type": "code",
   "execution_count": 62,
   "metadata": {},
   "outputs": [],
   "source": [
    "# Segregating the categorical columns having null values\n",
    "cat_df_null = cat_df.loc[:,cat_df.isnull().any()]"
   ]
  },
  {
   "cell_type": "code",
   "execution_count": 63,
   "metadata": {},
   "outputs": [
    {
     "name": "stdout",
     "output_type": "stream",
     "text": [
      "<class 'pandas.core.frame.DataFrame'>\n",
      "RangeIndex: 41188 entries, 0 to 41187\n",
      "Data columns (total 6 columns):\n",
      " #   Column     Non-Null Count  Dtype \n",
      "---  ------     --------------  ----- \n",
      " 0   job        40858 non-null  object\n",
      " 1   marital    41108 non-null  object\n",
      " 2   education  39457 non-null  object\n",
      " 3   default    32591 non-null  object\n",
      " 4   housing    40198 non-null  object\n",
      " 5   loan       40198 non-null  object\n",
      "dtypes: object(6)\n",
      "memory usage: 1.9+ MB\n"
     ]
    }
   ],
   "source": [
    "# Visualizig the above dataframe\n",
    "cat_df_null.info()"
   ]
  },
  {
   "cell_type": "code",
   "execution_count": 83,
   "metadata": {},
   "outputs": [],
   "source": [
    "# Segregating the categorical columns having No Null values\n",
    "cat_df_notnull = cat_df.loc[:,~cat_df.isnull().any()]"
   ]
  },
  {
   "cell_type": "code",
   "execution_count": 84,
   "metadata": {},
   "outputs": [
    {
     "name": "stdout",
     "output_type": "stream",
     "text": [
      "<class 'pandas.core.frame.DataFrame'>\n",
      "RangeIndex: 41188 entries, 0 to 41187\n",
      "Data columns (total 4 columns):\n",
      " #   Column       Non-Null Count  Dtype \n",
      "---  ------       --------------  ----- \n",
      " 0   contact      41188 non-null  object\n",
      " 1   month        41188 non-null  object\n",
      " 2   day_of_week  41188 non-null  object\n",
      " 3   poutcome     41188 non-null  object\n",
      "dtypes: object(4)\n",
      "memory usage: 1.3+ MB\n"
     ]
    }
   ],
   "source": [
    "# Visualizing the above dataframe\n",
    "cat_df_notnull.info()"
   ]
  },
  {
   "cell_type": "markdown",
   "metadata": {},
   "source": [
    "#### Creating the dummies variables for categorical columns without missing values"
   ]
  },
  {
   "cell_type": "code",
   "execution_count": 85,
   "metadata": {},
   "outputs": [],
   "source": [
    "# Getting the Dummies\n",
    "cat_df_notnull = pd.get_dummies(cat_df_notnull.astype('category'),drop_first=True,prefix=cat_df_notnull.columns)"
   ]
  },
  {
   "cell_type": "code",
   "execution_count": 86,
   "metadata": {},
   "outputs": [
    {
     "name": "stdout",
     "output_type": "stream",
     "text": [
      "<class 'pandas.core.frame.DataFrame'>\n",
      "RangeIndex: 41188 entries, 0 to 41187\n",
      "Data columns (total 16 columns):\n",
      " #   Column                Non-Null Count  Dtype\n",
      "---  ------                --------------  -----\n",
      " 0   contact_telephone     41188 non-null  uint8\n",
      " 1   month_aug             41188 non-null  uint8\n",
      " 2   month_dec             41188 non-null  uint8\n",
      " 3   month_jul             41188 non-null  uint8\n",
      " 4   month_jun             41188 non-null  uint8\n",
      " 5   month_mar             41188 non-null  uint8\n",
      " 6   month_may             41188 non-null  uint8\n",
      " 7   month_nov             41188 non-null  uint8\n",
      " 8   month_oct             41188 non-null  uint8\n",
      " 9   month_sep             41188 non-null  uint8\n",
      " 10  day_of_week_mon       41188 non-null  uint8\n",
      " 11  day_of_week_thu       41188 non-null  uint8\n",
      " 12  day_of_week_tue       41188 non-null  uint8\n",
      " 13  day_of_week_wed       41188 non-null  uint8\n",
      " 14  poutcome_nonexistent  41188 non-null  uint8\n",
      " 15  poutcome_success      41188 non-null  uint8\n",
      "dtypes: uint8(16)\n",
      "memory usage: 643.7 KB\n"
     ]
    }
   ],
   "source": [
    "cat_df_notnull.info()"
   ]
  },
  {
   "cell_type": "markdown",
   "metadata": {},
   "source": [
    "#### Getting the dummies for categorical columns with missing values"
   ]
  },
  {
   "cell_type": "code",
   "execution_count": 64,
   "metadata": {},
   "outputs": [
    {
     "name": "stdout",
     "output_type": "stream",
     "text": [
      "<class 'pandas.core.frame.DataFrame'>\n",
      "RangeIndex: 41188 entries, 0 to 41187\n",
      "Data columns (total 6 columns):\n",
      " #   Column     Non-Null Count  Dtype \n",
      "---  ------     --------------  ----- \n",
      " 0   job        40858 non-null  object\n",
      " 1   marital    41108 non-null  object\n",
      " 2   education  39457 non-null  object\n",
      " 3   default    32591 non-null  object\n",
      " 4   housing    40198 non-null  object\n",
      " 5   loan       40198 non-null  object\n",
      "dtypes: object(6)\n",
      "memory usage: 1.9+ MB\n"
     ]
    }
   ],
   "source": [
    "# Getting the info of the object/categorical columns having missing values.\n",
    "cat_df_null.info()"
   ]
  },
  {
   "cell_type": "code",
   "execution_count": 68,
   "metadata": {},
   "outputs": [],
   "source": [
    "# Getting the dummies (without dropping the first column using drop_first=True as NaN columns are automatically dropped)\n",
    "cat_df_null = pd.get_dummies(cat_df_null.astype('category'),prefix=cat_df_null.columns)"
   ]
  },
  {
   "cell_type": "code",
   "execution_count": 69,
   "metadata": {},
   "outputs": [
    {
     "name": "stdout",
     "output_type": "stream",
     "text": [
      "<class 'pandas.core.frame.DataFrame'>\n",
      "RangeIndex: 41188 entries, 0 to 41187\n",
      "Data columns (total 27 columns):\n",
      " #   Column                         Non-Null Count  Dtype\n",
      "---  ------                         --------------  -----\n",
      " 0   job_admin.                     41188 non-null  uint8\n",
      " 1   job_blue-collar                41188 non-null  uint8\n",
      " 2   job_entrepreneur               41188 non-null  uint8\n",
      " 3   job_housemaid                  41188 non-null  uint8\n",
      " 4   job_management                 41188 non-null  uint8\n",
      " 5   job_retired                    41188 non-null  uint8\n",
      " 6   job_self-employed              41188 non-null  uint8\n",
      " 7   job_services                   41188 non-null  uint8\n",
      " 8   job_student                    41188 non-null  uint8\n",
      " 9   job_technician                 41188 non-null  uint8\n",
      " 10  job_unemployed                 41188 non-null  uint8\n",
      " 11  marital_divorced               41188 non-null  uint8\n",
      " 12  marital_married                41188 non-null  uint8\n",
      " 13  marital_single                 41188 non-null  uint8\n",
      " 14  education_basic.4y             41188 non-null  uint8\n",
      " 15  education_basic.6y             41188 non-null  uint8\n",
      " 16  education_basic.9y             41188 non-null  uint8\n",
      " 17  education_high.school          41188 non-null  uint8\n",
      " 18  education_illiterate           41188 non-null  uint8\n",
      " 19  education_professional.course  41188 non-null  uint8\n",
      " 20  education_university.degree    41188 non-null  uint8\n",
      " 21  default_no                     41188 non-null  uint8\n",
      " 22  default_yes                    41188 non-null  uint8\n",
      " 23  housing_no                     41188 non-null  uint8\n",
      " 24  housing_yes                    41188 non-null  uint8\n",
      " 25  loan_no                        41188 non-null  uint8\n",
      " 26  loan_yes                       41188 non-null  uint8\n",
      "dtypes: uint8(27)\n",
      "memory usage: 1.1 MB\n"
     ]
    }
   ],
   "source": [
    "# Visulazing the resulting dataset\n",
    "cat_df_null.info()"
   ]
  },
  {
   "cell_type": "code",
   "execution_count": 75,
   "metadata": {},
   "outputs": [],
   "source": [
    "# Standardizing the column names of the new dummied dataframe\n",
    "cat_df_null.columns = cat_df_null.columns.str.strip().str.replace('.','_')"
   ]
  },
  {
   "cell_type": "code",
   "execution_count": 79,
   "metadata": {},
   "outputs": [],
   "source": [
    "# Correcting a single column name from job_admin. to job_admin\n",
    "cat_df_null.rename(columns = {'job_admin_':'job_admin'}, inplace = True) "
   ]
  },
  {
   "cell_type": "code",
   "execution_count": 80,
   "metadata": {},
   "outputs": [
    {
     "name": "stdout",
     "output_type": "stream",
     "text": [
      "<class 'pandas.core.frame.DataFrame'>\n",
      "RangeIndex: 41188 entries, 0 to 41187\n",
      "Data columns (total 27 columns):\n",
      " #   Column                         Non-Null Count  Dtype\n",
      "---  ------                         --------------  -----\n",
      " 0   job_admin                      41188 non-null  uint8\n",
      " 1   job_blue-collar                41188 non-null  uint8\n",
      " 2   job_entrepreneur               41188 non-null  uint8\n",
      " 3   job_housemaid                  41188 non-null  uint8\n",
      " 4   job_management                 41188 non-null  uint8\n",
      " 5   job_retired                    41188 non-null  uint8\n",
      " 6   job_self-employed              41188 non-null  uint8\n",
      " 7   job_services                   41188 non-null  uint8\n",
      " 8   job_student                    41188 non-null  uint8\n",
      " 9   job_technician                 41188 non-null  uint8\n",
      " 10  job_unemployed                 41188 non-null  uint8\n",
      " 11  marital_divorced               41188 non-null  uint8\n",
      " 12  marital_married                41188 non-null  uint8\n",
      " 13  marital_single                 41188 non-null  uint8\n",
      " 14  education_basic_4y             41188 non-null  uint8\n",
      " 15  education_basic_6y             41188 non-null  uint8\n",
      " 16  education_basic_9y             41188 non-null  uint8\n",
      " 17  education_high_school          41188 non-null  uint8\n",
      " 18  education_illiterate           41188 non-null  uint8\n",
      " 19  education_professional_course  41188 non-null  uint8\n",
      " 20  education_university_degree    41188 non-null  uint8\n",
      " 21  default_no                     41188 non-null  uint8\n",
      " 22  default_yes                    41188 non-null  uint8\n",
      " 23  housing_no                     41188 non-null  uint8\n",
      " 24  housing_yes                    41188 non-null  uint8\n",
      " 25  loan_no                        41188 non-null  uint8\n",
      " 26  loan_yes                       41188 non-null  uint8\n",
      "dtypes: uint8(27)\n",
      "memory usage: 1.1 MB\n"
     ]
    }
   ],
   "source": [
    "cat_df_null.info()"
   ]
  },
  {
   "cell_type": "markdown",
   "metadata": {},
   "source": [
    "### Concatenating the above 2 categorical dataframes to produce a single one."
   ]
  },
  {
   "cell_type": "code",
   "execution_count": 87,
   "metadata": {},
   "outputs": [],
   "source": [
    "# Concatenating cat_df_notnull and cat_df_null to produce final categorical dataframe cat_df_final\n",
    "cat_df_final = pd.concat([cat_df_notnull,cat_df_null],axis=1)"
   ]
  },
  {
   "cell_type": "code",
   "execution_count": 88,
   "metadata": {},
   "outputs": [
    {
     "name": "stdout",
     "output_type": "stream",
     "text": [
      "<class 'pandas.core.frame.DataFrame'>\n",
      "RangeIndex: 41188 entries, 0 to 41187\n",
      "Data columns (total 43 columns):\n",
      " #   Column                         Non-Null Count  Dtype\n",
      "---  ------                         --------------  -----\n",
      " 0   contact_telephone              41188 non-null  uint8\n",
      " 1   month_aug                      41188 non-null  uint8\n",
      " 2   month_dec                      41188 non-null  uint8\n",
      " 3   month_jul                      41188 non-null  uint8\n",
      " 4   month_jun                      41188 non-null  uint8\n",
      " 5   month_mar                      41188 non-null  uint8\n",
      " 6   month_may                      41188 non-null  uint8\n",
      " 7   month_nov                      41188 non-null  uint8\n",
      " 8   month_oct                      41188 non-null  uint8\n",
      " 9   month_sep                      41188 non-null  uint8\n",
      " 10  day_of_week_mon                41188 non-null  uint8\n",
      " 11  day_of_week_thu                41188 non-null  uint8\n",
      " 12  day_of_week_tue                41188 non-null  uint8\n",
      " 13  day_of_week_wed                41188 non-null  uint8\n",
      " 14  poutcome_nonexistent           41188 non-null  uint8\n",
      " 15  poutcome_success               41188 non-null  uint8\n",
      " 16  job_admin                      41188 non-null  uint8\n",
      " 17  job_blue-collar                41188 non-null  uint8\n",
      " 18  job_entrepreneur               41188 non-null  uint8\n",
      " 19  job_housemaid                  41188 non-null  uint8\n",
      " 20  job_management                 41188 non-null  uint8\n",
      " 21  job_retired                    41188 non-null  uint8\n",
      " 22  job_self-employed              41188 non-null  uint8\n",
      " 23  job_services                   41188 non-null  uint8\n",
      " 24  job_student                    41188 non-null  uint8\n",
      " 25  job_technician                 41188 non-null  uint8\n",
      " 26  job_unemployed                 41188 non-null  uint8\n",
      " 27  marital_divorced               41188 non-null  uint8\n",
      " 28  marital_married                41188 non-null  uint8\n",
      " 29  marital_single                 41188 non-null  uint8\n",
      " 30  education_basic_4y             41188 non-null  uint8\n",
      " 31  education_basic_6y             41188 non-null  uint8\n",
      " 32  education_basic_9y             41188 non-null  uint8\n",
      " 33  education_high_school          41188 non-null  uint8\n",
      " 34  education_illiterate           41188 non-null  uint8\n",
      " 35  education_professional_course  41188 non-null  uint8\n",
      " 36  education_university_degree    41188 non-null  uint8\n",
      " 37  default_no                     41188 non-null  uint8\n",
      " 38  default_yes                    41188 non-null  uint8\n",
      " 39  housing_no                     41188 non-null  uint8\n",
      " 40  housing_yes                    41188 non-null  uint8\n",
      " 41  loan_no                        41188 non-null  uint8\n",
      " 42  loan_yes                       41188 non-null  uint8\n",
      "dtypes: uint8(43)\n",
      "memory usage: 1.7 MB\n"
     ]
    }
   ],
   "source": [
    "cat_df_final.info()"
   ]
  },
  {
   "cell_type": "markdown",
   "metadata": {},
   "source": [
    "### Merging both Numerical & Categorical columns to create a final Dataset."
   ]
  },
  {
   "cell_type": "code",
   "execution_count": 89,
   "metadata": {},
   "outputs": [],
   "source": [
    "# Reading the Numerical Column Dataset.\n",
    "num_df = pd.read_csv('Num_df.csv')"
   ]
  },
  {
   "cell_type": "code",
   "execution_count": 90,
   "metadata": {},
   "outputs": [
    {
     "name": "stdout",
     "output_type": "stream",
     "text": [
      "<class 'pandas.core.frame.DataFrame'>\n",
      "RangeIndex: 41188 entries, 0 to 41187\n",
      "Data columns (total 11 columns):\n",
      " #   Column          Non-Null Count  Dtype  \n",
      "---  ------          --------------  -----  \n",
      " 0   age             41188 non-null  int64  \n",
      " 1   duration        41188 non-null  float64\n",
      " 2   campaign        41188 non-null  int64  \n",
      " 3   pdays           41188 non-null  int64  \n",
      " 4   previous        41188 non-null  int64  \n",
      " 5   emp_var_rate    41188 non-null  float64\n",
      " 6   cons_price_idx  41188 non-null  float64\n",
      " 7   cons_conf_idx   41188 non-null  float64\n",
      " 8   euribor3m       41188 non-null  float64\n",
      " 9   nr_employed     41188 non-null  float64\n",
      " 10  y               41188 non-null  int64  \n",
      "dtypes: float64(6), int64(5)\n",
      "memory usage: 3.5 MB\n"
     ]
    }
   ],
   "source": [
    "# Checking the Numerical Datset\n",
    "num_df.info()"
   ]
  },
  {
   "cell_type": "code",
   "execution_count": 91,
   "metadata": {},
   "outputs": [],
   "source": [
    "# Concatenating both Numerical as well as Categorical Dataset to produce a  Final Dataset\n",
    "final_df = pd.concat([num_df,cat_df_final],axis=1)"
   ]
  },
  {
   "cell_type": "code",
   "execution_count": 92,
   "metadata": {},
   "outputs": [
    {
     "name": "stdout",
     "output_type": "stream",
     "text": [
      "<class 'pandas.core.frame.DataFrame'>\n",
      "RangeIndex: 41188 entries, 0 to 41187\n",
      "Data columns (total 54 columns):\n",
      " #   Column                         Non-Null Count  Dtype  \n",
      "---  ------                         --------------  -----  \n",
      " 0   age                            41188 non-null  int64  \n",
      " 1   duration                       41188 non-null  float64\n",
      " 2   campaign                       41188 non-null  int64  \n",
      " 3   pdays                          41188 non-null  int64  \n",
      " 4   previous                       41188 non-null  int64  \n",
      " 5   emp_var_rate                   41188 non-null  float64\n",
      " 6   cons_price_idx                 41188 non-null  float64\n",
      " 7   cons_conf_idx                  41188 non-null  float64\n",
      " 8   euribor3m                      41188 non-null  float64\n",
      " 9   nr_employed                    41188 non-null  float64\n",
      " 10  y                              41188 non-null  int64  \n",
      " 11  contact_telephone              41188 non-null  uint8  \n",
      " 12  month_aug                      41188 non-null  uint8  \n",
      " 13  month_dec                      41188 non-null  uint8  \n",
      " 14  month_jul                      41188 non-null  uint8  \n",
      " 15  month_jun                      41188 non-null  uint8  \n",
      " 16  month_mar                      41188 non-null  uint8  \n",
      " 17  month_may                      41188 non-null  uint8  \n",
      " 18  month_nov                      41188 non-null  uint8  \n",
      " 19  month_oct                      41188 non-null  uint8  \n",
      " 20  month_sep                      41188 non-null  uint8  \n",
      " 21  day_of_week_mon                41188 non-null  uint8  \n",
      " 22  day_of_week_thu                41188 non-null  uint8  \n",
      " 23  day_of_week_tue                41188 non-null  uint8  \n",
      " 24  day_of_week_wed                41188 non-null  uint8  \n",
      " 25  poutcome_nonexistent           41188 non-null  uint8  \n",
      " 26  poutcome_success               41188 non-null  uint8  \n",
      " 27  job_admin                      41188 non-null  uint8  \n",
      " 28  job_blue-collar                41188 non-null  uint8  \n",
      " 29  job_entrepreneur               41188 non-null  uint8  \n",
      " 30  job_housemaid                  41188 non-null  uint8  \n",
      " 31  job_management                 41188 non-null  uint8  \n",
      " 32  job_retired                    41188 non-null  uint8  \n",
      " 33  job_self-employed              41188 non-null  uint8  \n",
      " 34  job_services                   41188 non-null  uint8  \n",
      " 35  job_student                    41188 non-null  uint8  \n",
      " 36  job_technician                 41188 non-null  uint8  \n",
      " 37  job_unemployed                 41188 non-null  uint8  \n",
      " 38  marital_divorced               41188 non-null  uint8  \n",
      " 39  marital_married                41188 non-null  uint8  \n",
      " 40  marital_single                 41188 non-null  uint8  \n",
      " 41  education_basic_4y             41188 non-null  uint8  \n",
      " 42  education_basic_6y             41188 non-null  uint8  \n",
      " 43  education_basic_9y             41188 non-null  uint8  \n",
      " 44  education_high_school          41188 non-null  uint8  \n",
      " 45  education_illiterate           41188 non-null  uint8  \n",
      " 46  education_professional_course  41188 non-null  uint8  \n",
      " 47  education_university_degree    41188 non-null  uint8  \n",
      " 48  default_no                     41188 non-null  uint8  \n",
      " 49  default_yes                    41188 non-null  uint8  \n",
      " 50  housing_no                     41188 non-null  uint8  \n",
      " 51  housing_yes                    41188 non-null  uint8  \n",
      " 52  loan_no                        41188 non-null  uint8  \n",
      " 53  loan_yes                       41188 non-null  uint8  \n",
      "dtypes: float64(6), int64(5), uint8(43)\n",
      "memory usage: 5.1 MB\n"
     ]
    }
   ],
   "source": [
    "# Checking the final dataset\n",
    "final_df.info()"
   ]
  },
  {
   "cell_type": "code",
   "execution_count": 94,
   "metadata": {},
   "outputs": [],
   "source": [
    "# Saving the Final dataset as the CSV file.\n",
    "final_df.to_csv('Final_df.csv',index=False)"
   ]
  },
  {
   "cell_type": "code",
   "execution_count": 95,
   "metadata": {},
   "outputs": [],
   "source": [
    "# Saving the Final Categorical dataframe as CSV.\n",
    "cat_df_final.to_csv('Cat_df.csv',index=False)"
   ]
  },
  {
   "cell_type": "code",
   "execution_count": null,
   "metadata": {},
   "outputs": [],
   "source": []
  }
 ],
 "metadata": {
  "kernelspec": {
   "display_name": "Python 3",
   "language": "python",
   "name": "python3"
  },
  "language_info": {
   "codemirror_mode": {
    "name": "ipython",
    "version": 3
   },
   "file_extension": ".py",
   "mimetype": "text/x-python",
   "name": "python",
   "nbconvert_exporter": "python",
   "pygments_lexer": "ipython3",
   "version": "3.8.5"
  }
 },
 "nbformat": 4,
 "nbformat_minor": 4
}
