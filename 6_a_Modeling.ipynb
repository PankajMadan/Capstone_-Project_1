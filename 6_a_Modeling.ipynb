{
 "cells": [
  {
   "cell_type": "code",
   "execution_count": 1,
   "metadata": {},
   "outputs": [],
   "source": [
    "# Importing Required Python Packages\n",
    "import numpy as np\n",
    "import pandas as pd\n",
    "import matplotlib.pyplot as plt\n",
    "import seaborn as sns\n",
    "import warnings\n",
    "warnings.filterwarnings('ignore')\n",
    "pd.set_option('display.max_columns',None)"
   ]
  },
  {
   "cell_type": "code",
   "execution_count": 2,
   "metadata": {},
   "outputs": [],
   "source": [
    "# Loading both versions of Training sets\n",
    "X_train_red = pd.read_csv('X_train_final.csv')\n",
    "X_train = pd.read_csv('X_train_full_final.csv')\n",
    "y_train = pd.read_csv('y_train.final.csv')"
   ]
  },
  {
   "cell_type": "code",
   "execution_count": 3,
   "metadata": {},
   "outputs": [],
   "source": [
    "# Loading both versions of Test sets\n",
    "X_test_red = pd.read_csv('X_test_final.csv')\n",
    "X_test = pd.read_csv('X_test_full_final.csv')\n",
    "y_test = pd.read_csv('y_test.final.csv')"
   ]
  },
  {
   "cell_type": "code",
   "execution_count": 4,
   "metadata": {},
   "outputs": [],
   "source": [
    "# Importing the Sklearn's roc_auc_score module\n",
    "from sklearn.metrics import roc_auc_score"
   ]
  },
  {
   "cell_type": "code",
   "execution_count": 5,
   "metadata": {},
   "outputs": [],
   "source": [
    "# Importing  hyperparamater tuning optimizer optuna\n",
    "import optuna"
   ]
  },
  {
   "cell_type": "code",
   "execution_count": 6,
   "metadata": {},
   "outputs": [],
   "source": [
    "# Importing required Libraries\n",
    "from sklearn.model_selection import StratifiedKFold\n",
    "from sklearn.model_selection import cross_val_score"
   ]
  },
  {
   "cell_type": "code",
   "execution_count": 7,
   "metadata": {},
   "outputs": [],
   "source": [
    "# Instantiating the Stratified K fold object\n",
    "cv_strat = StratifiedKFold(10,random_state=42)"
   ]
  },
  {
   "cell_type": "markdown",
   "metadata": {},
   "source": [
    " ## Model_2: Random Forest Classifier with Tuned Hyperparameters using Optuna."
   ]
  },
  {
   "cell_type": "code",
   "execution_count": 10,
   "metadata": {},
   "outputs": [],
   "source": [
    "# Defining the class weights\n",
    "cl_weight = [None,'balanced',{0:1.0,1:9.0},{0:1.0,1:10},{0:1.0,1:11},{0:1.0,1:12}]"
   ]
  },
  {
   "cell_type": "code",
   "execution_count": 11,
   "metadata": {},
   "outputs": [],
   "source": [
    "# Defining the appropriate objective function for the Random Forest classifier\n",
    "def objective_wrappper_rf(X_tr, y_tr, cls=None, cv_strat=None):\n",
    "    '''\n",
    "    Optimizes Random Forest parameters on the given training set X_tr,y_tr\n",
    "    using cv_strat cross-validation object\n",
    "    \n",
    "    '''\n",
    "    \n",
    "    def objective(trial):\n",
    "        params = {\n",
    "        'max_depth': trial.suggest_categorical('max_depth',list(range(2,50))+ [None]),\n",
    "        'n_estimators':trial.suggest_int('n_estimators',100,2000,10),\n",
    "        'class_weight':trial.suggest_categorical('class_weight',cl_weight),\n",
    "        'min_samples_leaf':trial.suggest_loguniform('min_samples_leaf',.00001,.1)\n",
    "          }\n",
    "        \n",
    "        cls.set_params(**params)#Initializing the model with the parameters \n",
    "    \n",
    "        return np.mean(cross_val_score(cls, X_tr, y_tr, cv=cv_strat, n_jobs=5, scoring='roc_auc'))  \n",
    "    return objective"
   ]
  },
  {
   "cell_type": "code",
   "execution_count": 12,
   "metadata": {},
   "outputs": [],
   "source": [
    "# Defining the evaluation function for study's best parameters\n",
    "def train_test_roc_auc(X_tr, y_tr, cls, obj_func, cv_strat, n_trials=100):\n",
    "    ''' Computes the best hyper parameters of the classsifier and returns \n",
    "    Optuna's study's best score & clasifier parameters'''\n",
    "    study = optuna.create_study(direction='maximize')\n",
    "    study.optimize(obj_func(X_tr, y_tr, cls, cv_strat), n_trials)\n",
    "    best_score = study.best_value\n",
    "    best_params = study.best_params\n",
    "    return (best_score,best_params)\n"
   ]
  },
  {
   "cell_type": "code",
   "execution_count": 13,
   "metadata": {},
   "outputs": [],
   "source": [
    "# Importing Random Forest Classifier from  Sklearn\n",
    "from sklearn.ensemble import RandomForestClassifier"
   ]
  },
  {
   "cell_type": "code",
   "execution_count": 15,
   "metadata": {},
   "outputs": [],
   "source": [
    "# Instantiating the Random forest classifier\n",
    "rf_s = RandomForestClassifier(n_jobs=5, random_state=42)"
   ]
  },
  {
   "cell_type": "markdown",
   "metadata": {},
   "source": [
    "#### Computing the best hyperparameters for the Random Forest classifier using full feature Training Set."
   ]
  },
  {
   "cell_type": "code",
   "execution_count": 17,
   "metadata": {},
   "outputs": [
    {
     "name": "stderr",
     "output_type": "stream",
     "text": [
      "[I 2020-10-01 16:31:09,362] A new study created in memory with name: no-name-640f0a3c-2079-4610-acc1-902dcdb68319\n",
      "[I 2020-10-01 16:31:27,775] Trial 0 finished with value: 0.7957409511038811 and parameters: {'max_depth': 49, 'n_estimators': 530, 'class_weight': {0: 1.0, 1: 10}, 'min_samples_leaf': 0.0008448882384428245}. Best is trial 0 with value: 0.7957409511038811.\n",
      "[I 2020-10-01 16:32:21,273] Trial 1 finished with value: 0.7746277219650395 and parameters: {'max_depth': 37, 'n_estimators': 1140, 'class_weight': None, 'min_samples_leaf': 2.9859292298747096e-05}. Best is trial 0 with value: 0.7957409511038811.\n",
      "[I 2020-10-01 16:33:03,370] Trial 2 finished with value: 0.793058803897732 and parameters: {'max_depth': 26, 'n_estimators': 1090, 'class_weight': {0: 1.0, 1: 12}, 'min_samples_leaf': 0.00021087908935617076}. Best is trial 0 with value: 0.7957409511038811.\n",
      "[I 2020-10-01 16:33:58,355] Trial 3 finished with value: 0.7745638307167447 and parameters: {'max_depth': 39, 'n_estimators': 1150, 'class_weight': None, 'min_samples_leaf': 1.0010127127646915e-05}. Best is trial 0 with value: 0.7957409511038811.\n",
      "[I 2020-10-01 16:35:06,633] Trial 4 finished with value: 0.7860641052738588 and parameters: {'max_depth': 26, 'n_estimators': 1560, 'class_weight': 'balanced', 'min_samples_leaf': 4.0762971233638355e-05}. Best is trial 0 with value: 0.7957409511038811.\n",
      "[I 2020-10-01 16:35:21,321] Trial 5 finished with value: 0.7855847717326433 and parameters: {'max_depth': 26, 'n_estimators': 830, 'class_weight': {0: 1.0, 1: 10}, 'min_samples_leaf': 0.020226496528828505}. Best is trial 0 with value: 0.7957409511038811.\n",
      "[I 2020-10-01 16:35:44,399] Trial 6 finished with value: 0.7790869498749419 and parameters: {'max_depth': 8, 'n_estimators': 1610, 'class_weight': {0: 1.0, 1: 10}, 'min_samples_leaf': 0.03804813744190975}. Best is trial 0 with value: 0.7957409511038811.\n",
      "[I 2020-10-01 16:36:49,121] Trial 7 finished with value: 0.7953970736775116 and parameters: {'max_depth': 47, 'n_estimators': 1970, 'class_weight': 'balanced', 'min_samples_leaf': 0.0012767873712168322}. Best is trial 0 with value: 0.7957409511038811.\n",
      "[I 2020-10-01 16:36:58,199] Trial 8 finished with value: 0.7908273294633995 and parameters: {'max_depth': 41, 'n_estimators': 360, 'class_weight': {0: 1.0, 1: 10}, 'min_samples_leaf': 0.005559720975911531}. Best is trial 0 with value: 0.7957409511038811.\n",
      "[I 2020-10-01 16:37:31,685] Trial 9 finished with value: 0.787033970215042 and parameters: {'max_depth': 20, 'n_estimators': 1740, 'class_weight': {0: 1.0, 1: 12}, 'min_samples_leaf': 0.01320659401418258}. Best is trial 0 with value: 0.7957409511038811.\n",
      "[I 2020-10-01 16:37:36,230] Trial 10 finished with value: 0.7956815435952098 and parameters: {'max_depth': 24, 'n_estimators': 120, 'class_weight': {0: 1.0, 1: 11}, 'min_samples_leaf': 0.0006537036539297125}. Best is trial 0 with value: 0.7957409511038811.\n",
      "[I 2020-10-01 16:37:41,677] Trial 11 finished with value: 0.7951544930967653 and parameters: {'max_depth': 24, 'n_estimators': 140, 'class_weight': {0: 1.0, 1: 11}, 'min_samples_leaf': 0.0005939412841325053}. Best is trial 0 with value: 0.7957409511038811.\n",
      "[I 2020-10-01 16:37:57,289] Trial 12 finished with value: 0.7941174537380712 and parameters: {'max_depth': 49, 'n_estimators': 530, 'class_weight': {0: 1.0, 1: 9.0}, 'min_samples_leaf': 0.002101973326972695}. Best is trial 0 with value: 0.7957409511038811.\n",
      "[I 2020-10-01 16:38:02,165] Trial 13 finished with value: 0.7943756057538236 and parameters: {'max_depth': 49, 'n_estimators': 120, 'class_weight': {0: 1.0, 1: 11}, 'min_samples_leaf': 0.00034653988830505775}. Best is trial 0 with value: 0.7957409511038811.\n",
      "[I 2020-10-01 16:38:26,742] Trial 14 finished with value: 0.7934905243631276 and parameters: {'max_depth': 19, 'n_estimators': 620, 'class_weight': {0: 1.0, 1: 11}, 'min_samples_leaf': 0.00011229366069171973}. Best is trial 0 with value: 0.7957409511038811.\n",
      "[I 2020-10-01 16:38:37,526] Trial 15 finished with value: 0.7914948789341623 and parameters: {'max_depth': 29, 'n_estimators': 400, 'class_weight': {0: 1.0, 1: 9.0}, 'min_samples_leaf': 0.003744108047009886}. Best is trial 0 with value: 0.7957409511038811.\n",
      "[I 2020-10-01 16:39:04,933] Trial 16 finished with value: 0.7955951856105379 and parameters: {'max_depth': 34, 'n_estimators': 820, 'class_weight': {0: 1.0, 1: 10}, 'min_samples_leaf': 0.0008963474792950172}. Best is trial 0 with value: 0.7957409511038811.\n",
      "[I 2020-10-01 16:39:10,055] Trial 17 finished with value: 0.7920271896450513 and parameters: {'max_depth': 17, 'n_estimators': 120, 'class_weight': {0: 1.0, 1: 11}, 'min_samples_leaf': 9.748466917330939e-05}. Best is trial 0 with value: 0.7957409511038811.\n",
      "[I 2020-10-01 16:39:15,305] Trial 18 finished with value: 0.7885381556150234 and parameters: {'max_depth': 5, 'n_estimators': 310, 'class_weight': {0: 1.0, 1: 10}, 'min_samples_leaf': 0.0051529509803711435}. Best is trial 0 with value: 0.7957409511038811.\n",
      "[I 2020-10-01 16:39:42,931] Trial 19 finished with value: 0.794525787528712 and parameters: {'max_depth': 40, 'n_estimators': 750, 'class_weight': {0: 1.0, 1: 11}, 'min_samples_leaf': 0.00039601442222597313}. Best is trial 0 with value: 0.7957409511038811.\n",
      "[I 2020-10-01 16:39:52,137] Trial 20 finished with value: 0.7942137875067765 and parameters: {'max_depth': 33, 'n_estimators': 300, 'class_weight': {0: 1.0, 1: 9.0}, 'min_samples_leaf': 0.001971056311312323}. Best is trial 0 with value: 0.7957409511038811.\n",
      "[I 2020-10-01 16:40:20,135] Trial 21 finished with value: 0.7955905176183962 and parameters: {'max_depth': 34, 'n_estimators': 840, 'class_weight': {0: 1.0, 1: 10}, 'min_samples_leaf': 0.0008867794233560899}. Best is trial 0 with value: 0.7957409511038811.\n",
      "[I 2020-10-01 16:40:57,775] Trial 22 finished with value: 0.7920382980147802 and parameters: {'max_depth': 45, 'n_estimators': 950, 'class_weight': {0: 1.0, 1: 10}, 'min_samples_leaf': 0.00018610587517855988}. Best is trial 0 with value: 0.7957409511038811.\n",
      "[I 2020-10-01 16:41:17,248] Trial 23 finished with value: 0.795500336619645 and parameters: {'max_depth': 31, 'n_estimators': 560, 'class_weight': {0: 1.0, 1: 10}, 'min_samples_leaf': 0.0006596734720862618}. Best is trial 0 with value: 0.7957409511038811.\n",
      "[I 2020-10-01 16:41:29,606] Trial 24 finished with value: 0.7839715019223336 and parameters: {'max_depth': 2, 'n_estimators': 1330, 'class_weight': {0: 1.0, 1: 10}, 'min_samples_leaf': 0.002032390547180226}. Best is trial 0 with value: 0.7957409511038811.\n",
      "[I 2020-10-01 16:41:42,335] Trial 25 finished with value: 0.792155462140295 and parameters: {'max_depth': 6, 'n_estimators': 690, 'class_weight': {0: 1.0, 1: 11}, 'min_samples_leaf': 0.0011150653526448909}. Best is trial 0 with value: 0.7957409511038811.\n",
      "[I 2020-10-01 16:41:59,320] Trial 26 finished with value: 0.7948138779738401 and parameters: {'max_depth': 27, 'n_estimators': 450, 'class_weight': {0: 1.0, 1: 10}, 'min_samples_leaf': 0.00034207714722480357}. Best is trial 0 with value: 0.7957409511038811.\n",
      "[I 2020-10-01 16:42:19,276] Trial 27 finished with value: 0.7883093907078886 and parameters: {'max_depth': 22, 'n_estimators': 960, 'class_weight': None, 'min_samples_leaf': 0.01157281568901394}. Best is trial 0 with value: 0.7957409511038811.\n",
      "[I 2020-10-01 16:42:22,494] Trial 28 finished with value: 0.7685482389188145 and parameters: {'max_depth': 9, 'n_estimators': 270, 'class_weight': 'balanced', 'min_samples_leaf': 0.09872578368540728}. Best is trial 0 with value: 0.7957409511038811.\n",
      "[I 2020-10-01 16:43:18,470] Trial 29 finished with value: 0.7848375612729515 and parameters: {'max_depth': 43, 'n_estimators': 1290, 'class_weight': {0: 1.0, 1: 12}, 'min_samples_leaf': 5.856407986211232e-05}. Best is trial 0 with value: 0.7957409511038811.\n",
      "[I 2020-10-01 16:43:33,223] Trial 30 finished with value: 0.7928305480799669 and parameters: {'max_depth': 36, 'n_estimators': 490, 'class_weight': None, 'min_samples_leaf': 0.0034201847869996327}. Best is trial 0 with value: 0.7957409511038811.\n",
      "[I 2020-10-01 16:44:03,324] Trial 31 finished with value: 0.7957163160959841 and parameters: {'max_depth': 34, 'n_estimators': 860, 'class_weight': {0: 1.0, 1: 10}, 'min_samples_leaf': 0.0008623612818389704}. Best is trial 0 with value: 0.7957409511038811.\n",
      "[I 2020-10-01 16:44:39,915] Trial 32 finished with value: 0.7927727644018636 and parameters: {'max_depth': 34, 'n_estimators': 940, 'class_weight': {0: 1.0, 1: 10}, 'min_samples_leaf': 0.00023396071798170265}. Best is trial 0 with value: 0.7957409511038811.\n",
      "[I 2020-10-01 16:45:21,710] Trial 33 finished with value: 0.795651395046052 and parameters: {'max_depth': 30, 'n_estimators': 1210, 'class_weight': {0: 1.0, 1: 10}, 'min_samples_leaf': 0.0006196263748056637}. Best is trial 0 with value: 0.7957409511038811.\n",
      "[I 2020-10-01 16:46:08,544] Trial 34 finished with value: 0.7798230835359505 and parameters: {'max_depth': 18, 'n_estimators': 1130, 'class_weight': {0: 1.0, 1: 10}, 'min_samples_leaf': 1.616820263401723e-05}. Best is trial 0 with value: 0.7957409511038811.\n",
      "[I 2020-10-01 16:46:52,789] Trial 35 finished with value: 0.795891172566006 and parameters: {'max_depth': 24, 'n_estimators': 1260, 'class_weight': {0: 1.0, 1: 10}, 'min_samples_leaf': 0.00057913051528764}. Best is trial 35 with value: 0.795891172566006.\n",
      "[I 2020-10-01 16:47:52,575] Trial 36 finished with value: 0.7925395657320401 and parameters: {'max_depth': 24, 'n_estimators': 1510, 'class_weight': {0: 1.0, 1: 12}, 'min_samples_leaf': 0.0001975748753875097}. Best is trial 35 with value: 0.795891172566006.\n",
      "[I 2020-10-01 16:48:35,586] Trial 37 finished with value: 0.7949224476086496 and parameters: {'max_depth': 42, 'n_estimators': 1420, 'class_weight': 'balanced', 'min_samples_leaf': 0.0017053356906590825}. Best is trial 35 with value: 0.795891172566006.\n",
      "[I 2020-10-01 16:49:02,695] Trial 38 finished with value: 0.7916401251004904 and parameters: {'max_depth': 23, 'n_estimators': 660, 'class_weight': {0: 1.0, 1: 10}, 'min_samples_leaf': 0.00011819898657275534}. Best is trial 35 with value: 0.795891172566006.\n",
      "[I 2020-10-01 16:49:43,136] Trial 39 finished with value: 0.7952668619647475 and parameters: {'max_depth': 24, 'n_estimators': 1080, 'class_weight': None, 'min_samples_leaf': 0.0005103151822448023}. Best is trial 35 with value: 0.795891172566006.\n",
      "[I 2020-10-01 16:50:31,292] Trial 40 finished with value: 0.7929858546923307 and parameters: {'max_depth': 32, 'n_estimators': 1770, 'class_weight': {0: 1.0, 1: 10}, 'min_samples_leaf': 0.002951030935088189}. Best is trial 35 with value: 0.795891172566006.\n",
      "[I 2020-10-01 16:51:04,054] Trial 41 finished with value: 0.7974423192810697 and parameters: {'max_depth': 10, 'n_estimators': 1220, 'class_weight': {0: 1.0, 1: 10}, 'min_samples_leaf': 0.0007119863735141566}. Best is trial 41 with value: 0.7974423192810697.\n",
      "[I 2020-10-01 16:51:20,556] Trial 42 finished with value: 0.7884675254603929 and parameters: {'max_depth': 4, 'n_estimators': 1200, 'class_weight': {0: 1.0, 1: 10}, 'min_samples_leaf': 0.001220137790546079}. Best is trial 41 with value: 0.7974423192810697.\n",
      "[I 2020-10-01 16:51:57,604] Trial 43 finished with value: 0.7980571064175652 and parameters: {'max_depth': 10, 'n_estimators': 1350, 'class_weight': {0: 1.0, 1: 10}, 'min_samples_leaf': 0.00028605283783438305}. Best is trial 43 with value: 0.7980571064175652.\n",
      "[I 2020-10-01 16:52:35,306] Trial 44 finished with value: 0.7980854867439875 and parameters: {'max_depth': 10, 'n_estimators': 1390, 'class_weight': {0: 1.0, 1: 10}, 'min_samples_leaf': 0.00027371629795511384}. Best is trial 44 with value: 0.7980854867439875.\n",
      "[I 2020-10-01 16:53:47,309] Trial 45 finished with value: 0.7861671001144815 and parameters: {'max_depth': 25, 'n_estimators': 1670, 'class_weight': {0: 1.0, 1: 10}, 'min_samples_leaf': 6.167742830071225e-05}. Best is trial 44 with value: 0.7980854867439875.\n",
      "[I 2020-10-01 16:54:27,774] Trial 46 finished with value: 0.7980730362581492 and parameters: {'max_depth': 10, 'n_estimators': 1460, 'class_weight': {0: 1.0, 1: 10}, 'min_samples_leaf': 0.0002815900434124646}. Best is trial 44 with value: 0.7980854867439875.\n",
      "[I 2020-10-01 16:55:07,666] Trial 47 finished with value: 0.7980730362581492 and parameters: {'max_depth': 10, 'n_estimators': 1460, 'class_weight': {0: 1.0, 1: 10}, 'min_samples_leaf': 0.0002716160949923186}. Best is trial 44 with value: 0.7980854867439875.\n",
      "[I 2020-10-01 16:55:46,836] Trial 48 finished with value: 0.7980983641755725 and parameters: {'max_depth': 10, 'n_estimators': 1410, 'class_weight': {0: 1.0, 1: 10}, 'min_samples_leaf': 0.00027175295258808333}. Best is trial 48 with value: 0.7980983641755725.\n",
      "[I 2020-10-01 16:56:25,885] Trial 49 finished with value: 0.7982050936297858 and parameters: {'max_depth': 10, 'n_estimators': 1430, 'class_weight': {0: 1.0, 1: 10}, 'min_samples_leaf': 0.00025385553616661896}. Best is trial 49 with value: 0.7982050936297858.\n",
      "[I 2020-10-01 16:57:07,246] Trial 50 finished with value: 0.7980443735426144 and parameters: {'max_depth': 10, 'n_estimators': 1510, 'class_weight': {0: 1.0, 1: 10}, 'min_samples_leaf': 0.000148155809273701}. Best is trial 49 with value: 0.7982050936297858.\n",
      "[I 2020-10-01 16:57:45,993] Trial 51 finished with value: 0.7982052682591212 and parameters: {'max_depth': 10, 'n_estimators': 1420, 'class_weight': {0: 1.0, 1: 10}, 'min_samples_leaf': 0.000251118888127627}. Best is trial 51 with value: 0.7982052682591212.\n",
      "[I 2020-10-01 16:58:25,649] Trial 52 finished with value: 0.7975093404090896 and parameters: {'max_depth': 10, 'n_estimators': 1440, 'class_weight': {0: 1.0, 1: 10}, 'min_samples_leaf': 7.866206835009076e-05}. Best is trial 51 with value: 0.7982052682591212.\n",
      "[I 2020-10-01 16:59:18,338] Trial 53 finished with value: 0.7966987159778128 and parameters: {'max_depth': 10, 'n_estimators': 1880, 'class_weight': {0: 1.0, 1: 10}, 'min_samples_leaf': 4.1998565342621634e-05}. Best is trial 51 with value: 0.7982052682591212.\n",
      "[I 2020-10-01 17:00:03,248] Trial 54 finished with value: 0.7979487090234201 and parameters: {'max_depth': 10, 'n_estimators': 1630, 'class_weight': {0: 1.0, 1: 9.0}, 'min_samples_leaf': 0.00015576962911271284}. Best is trial 51 with value: 0.7982052682591212.\n",
      "[I 2020-10-01 17:00:57,697] Trial 55 finished with value: 0.7938489150719821 and parameters: {'max_depth': 28, 'n_estimators': 1420, 'class_weight': {0: 1.0, 1: 10}, 'min_samples_leaf': 0.0002943458890193943}. Best is trial 51 with value: 0.7982052682591212.\n",
      "[I 2020-10-01 17:01:40,102] Trial 56 finished with value: 0.7975763315596974 and parameters: {'max_depth': 10, 'n_estimators': 1540, 'class_weight': {0: 1.0, 1: 10}, 'min_samples_leaf': 0.0004300975364988246}. Best is trial 51 with value: 0.7982052682591212.\n",
      "[I 2020-10-01 17:02:41,105] Trial 57 finished with value: 0.7971326127115534 and parameters: {'max_depth': 15, 'n_estimators': 1700, 'class_weight': {0: 1.0, 1: 10}, 'min_samples_leaf': 0.0002501690133978179}. Best is trial 51 with value: 0.7982052682591212.\n",
      "[I 2020-10-01 17:03:02,105] Trial 58 finished with value: 0.7866799702929782 and parameters: {'max_depth': 3, 'n_estimators': 1840, 'class_weight': 'balanced', 'min_samples_leaf': 2.8380531627329987e-05}. Best is trial 51 with value: 0.7982052682591212.\n",
      "[I 2020-10-01 17:03:57,479] Trial 59 finished with value: 0.7920556111128016 and parameters: {'max_depth': 48, 'n_estimators': 1370, 'class_weight': {0: 1.0, 1: 12}, 'min_samples_leaf': 0.00016040471297350595}. Best is trial 51 with value: 0.7982052682591212.\n",
      "[I 2020-10-01 17:04:54,493] Trial 60 finished with value: 0.796968915141788 and parameters: {'max_depth': 14, 'n_estimators': 1610, 'class_weight': {0: 1.0, 1: 10}, 'min_samples_leaf': 0.0001143419427384212}. Best is trial 51 with value: 0.7982052682591212.\n",
      "[I 2020-10-01 17:05:31,524] Trial 61 finished with value: 0.7977689649829283 and parameters: {'max_depth': 10, 'n_estimators': 1360, 'class_weight': {0: 1.0, 1: 10}, 'min_samples_leaf': 0.00032191355288905947}. Best is trial 51 with value: 0.7982052682591212.\n"
     ]
    },
    {
     "name": "stderr",
     "output_type": "stream",
     "text": [
      "[I 2020-10-01 17:06:11,477] Trial 62 finished with value: 0.7981852960163683 and parameters: {'max_depth': 10, 'n_estimators': 1460, 'class_weight': {0: 1.0, 1: 10}, 'min_samples_leaf': 0.0002524951535183719}. Best is trial 51 with value: 0.7982052682591212.\n",
      "[I 2020-10-01 17:06:53,854] Trial 63 finished with value: 0.7980735637376393 and parameters: {'max_depth': 11, 'n_estimators': 1470, 'class_weight': {0: 1.0, 1: 10}, 'min_samples_leaf': 0.00045582918364844047}. Best is trial 51 with value: 0.7982052682591212.\n",
      "[I 2020-10-01 17:07:39,354] Trial 64 finished with value: 0.7984379763070117 and parameters: {'max_depth': 11, 'n_estimators': 1580, 'class_weight': {0: 1.0, 1: 10}, 'min_samples_leaf': 0.00047772643132783726}. Best is trial 64 with value: 0.7984379763070117.\n",
      "[I 2020-10-01 17:08:25,040] Trial 65 finished with value: 0.7977189335698307 and parameters: {'max_depth': 11, 'n_estimators': 1530, 'class_weight': {0: 1.0, 1: 10}, 'min_samples_leaf': 7.771106438532338e-05}. Best is trial 64 with value: 0.7984379763070117.\n",
      "[I 2020-10-01 17:09:11,461] Trial 66 finished with value: 0.798200467289498 and parameters: {'max_depth': 11, 'n_estimators': 1590, 'class_weight': {0: 1.0, 1: 9.0}, 'min_samples_leaf': 0.0004125055790348374}. Best is trial 64 with value: 0.7984379763070117.\n",
      "[I 2020-10-01 17:10:13,401] Trial 67 finished with value: 0.7930570635411274 and parameters: {'max_depth': 44, 'n_estimators': 1580, 'class_weight': {0: 1.0, 1: 9.0}, 'min_samples_leaf': 0.00020546543680245282}. Best is trial 64 with value: 0.7984379763070117.\n",
      "[I 2020-10-01 17:10:49,520] Trial 68 finished with value: 0.7946464642318095 and parameters: {'max_depth': 7, 'n_estimators': 1770, 'class_weight': {0: 1.0, 1: 9.0}, 'min_samples_leaf': 0.00039489767176654046}. Best is trial 64 with value: 0.7984379763070117.\n",
      "[I 2020-10-01 17:11:33,900] Trial 69 finished with value: 0.7958182461814993 and parameters: {'max_depth': 46, 'n_estimators': 1300, 'class_weight': {0: 1.0, 1: 9.0}, 'min_samples_leaf': 0.000763637064151585}. Best is trial 64 with value: 0.7984379763070117.\n",
      "[I 2020-10-01 17:12:48,869] Trial 70 finished with value: 0.7953956161427204 and parameters: {'max_depth': 21, 'n_estimators': 2000, 'class_weight': {0: 1.0, 1: 9.0}, 'min_samples_leaf': 0.00043138503446586647}. Best is trial 64 with value: 0.7984379763070117.\n",
      "[I 2020-10-01 17:13:37,262] Trial 71 finished with value: 0.7984621365730248 and parameters: {'max_depth': 11, 'n_estimators': 1630, 'class_weight': {0: 1.0, 1: 10}, 'min_samples_leaf': 0.00014171311606159628}. Best is trial 71 with value: 0.7984621365730248.\n",
      "[I 2020-10-01 17:14:44,901] Trial 72 finished with value: 0.7916205474981022 and parameters: {'max_depth': None, 'n_estimators': 1650, 'class_weight': {0: 1.0, 1: 10}, 'min_samples_leaf': 0.00013982794160531586}. Best is trial 71 with value: 0.7984621365730248.\n",
      "[I 2020-10-01 17:15:36,275] Trial 73 finished with value: 0.7982171880463249 and parameters: {'max_depth': 11, 'n_estimators': 1730, 'class_weight': {0: 1.0, 1: 10}, 'min_samples_leaf': 0.00019217983785623326}. Best is trial 71 with value: 0.7984621365730248.\n",
      "[I 2020-10-01 17:16:30,433] Trial 74 finished with value: 0.797093474693406 and parameters: {'max_depth': 11, 'n_estimators': 1830, 'class_weight': None, 'min_samples_leaf': 9.624594950869164e-05}. Best is trial 71 with value: 0.7984621365730248.\n",
      "[I 2020-10-01 17:17:27,697] Trial 75 finished with value: 0.798350469320467 and parameters: {'max_depth': 11, 'n_estimators': 1930, 'class_weight': {0: 1.0, 1: 9.0}, 'min_samples_leaf': 0.00020071590997561728}. Best is trial 71 with value: 0.7984621365730248.\n",
      "[I 2020-10-01 17:18:18,433] Trial 76 finished with value: 0.7984313305266231 and parameters: {'max_depth': 11, 'n_estimators': 1710, 'class_weight': {0: 1.0, 1: 9.0}, 'min_samples_leaf': 0.00020577613917213526}. Best is trial 71 with value: 0.7984621365730248.\n",
      "[I 2020-10-01 17:19:15,994] Trial 77 finished with value: 0.798350469320467 and parameters: {'max_depth': 11, 'n_estimators': 1930, 'class_weight': {0: 1.0, 1: 9.0}, 'min_samples_leaf': 0.0001853871143223353}. Best is trial 71 with value: 0.7984621365730248.\n",
      "[I 2020-10-01 17:20:13,572] Trial 78 finished with value: 0.7984546804048603 and parameters: {'max_depth': 11, 'n_estimators': 1950, 'class_weight': {0: 1.0, 1: 9.0}, 'min_samples_leaf': 0.00021070248379670656}. Best is trial 71 with value: 0.7984621365730248.\n",
      "[I 2020-10-01 17:21:10,839] Trial 79 finished with value: 0.798350469320467 and parameters: {'max_depth': 11, 'n_estimators': 1930, 'class_weight': {0: 1.0, 1: 9.0}, 'min_samples_leaf': 0.0001854330582710747}. Best is trial 71 with value: 0.7984621365730248.\n",
      "[I 2020-10-01 17:22:09,352] Trial 80 finished with value: 0.7969836305385825 and parameters: {'max_depth': 11, 'n_estimators': 1950, 'class_weight': {0: 1.0, 1: 9.0}, 'min_samples_leaf': 5.266606904879469e-05}. Best is trial 71 with value: 0.7984621365730248.\n",
      "[I 2020-10-01 17:23:06,602] Trial 81 finished with value: 0.798350469320467 and parameters: {'max_depth': 11, 'n_estimators': 1930, 'class_weight': {0: 1.0, 1: 9.0}, 'min_samples_leaf': 0.00017410257621253605}. Best is trial 71 with value: 0.7984621365730248.\n",
      "[I 2020-10-01 17:24:04,807] Trial 82 finished with value: 0.7978909300355079 and parameters: {'max_depth': 11, 'n_estimators': 1940, 'class_weight': {0: 1.0, 1: 9.0}, 'min_samples_leaf': 8.813084789634555e-05}. Best is trial 71 with value: 0.7984621365730248.\n",
      "[I 2020-10-01 17:25:01,975] Trial 83 finished with value: 0.7983386426765049 and parameters: {'max_depth': 11, 'n_estimators': 1890, 'class_weight': {0: 1.0, 1: 9.0}, 'min_samples_leaf': 0.00018816464968688493}. Best is trial 71 with value: 0.7984621365730248.\n",
      "[I 2020-10-01 17:25:58,479] Trial 84 finished with value: 0.7979476261640596 and parameters: {'max_depth': 11, 'n_estimators': 1880, 'class_weight': {0: 1.0, 1: 9.0}, 'min_samples_leaf': 0.0001263495926393365}. Best is trial 71 with value: 0.7984621365730248.\n",
      "[I 2020-10-01 17:26:59,827] Trial 85 finished with value: 0.7982856853067899 and parameters: {'max_depth': 12, 'n_estimators': 1910, 'class_weight': {0: 1.0, 1: 9.0}, 'min_samples_leaf': 0.00017951109621247975}. Best is trial 71 with value: 0.7984621365730248.\n",
      "[I 2020-10-01 17:28:01,431] Trial 86 finished with value: 0.7979637563796727 and parameters: {'max_depth': 11, 'n_estimators': 2000, 'class_weight': {0: 1.0, 1: 9.0}, 'min_samples_leaf': 0.00011857244290564764}. Best is trial 71 with value: 0.7984621365730248.\n",
      "[I 2020-10-01 17:28:58,248] Trial 87 finished with value: 0.7979091681178221 and parameters: {'max_depth': 11, 'n_estimators': 1840, 'class_weight': {0: 1.0, 1: 9.0}, 'min_samples_leaf': 7.280320787433083e-05}. Best is trial 71 with value: 0.7984621365730248.\n",
      "[I 2020-10-01 17:29:57,371] Trial 88 finished with value: 0.7981855459444483 and parameters: {'max_depth': 13, 'n_estimators': 1780, 'class_weight': {0: 1.0, 1: 9.0}, 'min_samples_leaf': 0.0001983577871463872}. Best is trial 71 with value: 0.7984621365730248.\n",
      "[I 2020-10-01 17:31:09,120] Trial 89 finished with value: 0.7953028021430435 and parameters: {'max_depth': 35, 'n_estimators': 1980, 'class_weight': {0: 1.0, 1: 9.0}, 'min_samples_leaf': 0.0005546918818728517}. Best is trial 71 with value: 0.7984621365730248.\n",
      "[I 2020-10-01 17:32:25,511] Trial 90 finished with value: 0.7902939844341355 and parameters: {'max_depth': 38, 'n_estimators': 1810, 'class_weight': {0: 1.0, 1: 9.0}, 'min_samples_leaf': 0.00010542105197402772}. Best is trial 71 with value: 0.7984621365730248.\n",
      "[I 2020-10-01 17:33:25,574] Trial 91 finished with value: 0.7984564173605593 and parameters: {'max_depth': 12, 'n_estimators': 1910, 'class_weight': {0: 1.0, 1: 9.0}, 'min_samples_leaf': 0.00015105506352633402}. Best is trial 71 with value: 0.7984621365730248.\n",
      "[I 2020-10-01 17:34:25,697] Trial 92 finished with value: 0.7984529159380757 and parameters: {'max_depth': 12, 'n_estimators': 1900, 'class_weight': {0: 1.0, 1: 9.0}, 'min_samples_leaf': 0.0001536185407005418}. Best is trial 71 with value: 0.7984621365730248.\n",
      "[I 2020-10-01 17:35:26,915] Trial 93 finished with value: 0.7984710735207587 and parameters: {'max_depth': 12, 'n_estimators': 1940, 'class_weight': {0: 1.0, 1: 9.0}, 'min_samples_leaf': 0.00014661034840158529}. Best is trial 93 with value: 0.7984710735207587.\n",
      "[I 2020-10-01 17:36:22,090] Trial 94 finished with value: 0.7983953769173099 and parameters: {'max_depth': 12, 'n_estimators': 1730, 'class_weight': {0: 1.0, 1: 9.0}, 'min_samples_leaf': 0.00014374334327458836}. Best is trial 93 with value: 0.7984710735207587.\n",
      "[I 2020-10-01 17:37:18,336] Trial 95 finished with value: 0.7976828750305894 and parameters: {'max_depth': 12, 'n_estimators': 1720, 'class_weight': {0: 1.0, 1: 9.0}, 'min_samples_leaf': 9.309692305750237e-05}. Best is trial 93 with value: 0.7984710735207587.\n",
      "[I 2020-10-01 17:38:13,200] Trial 96 finished with value: 0.796589455285341 and parameters: {'max_depth': 12, 'n_estimators': 1690, 'class_weight': {0: 1.0, 1: 9.0}, 'min_samples_leaf': 4.521587016747339e-05}. Best is trial 93 with value: 0.7984710735207587.\n",
      "[I 2020-10-01 17:39:11,745] Trial 97 finished with value: 0.7945167606134749 and parameters: {'max_depth': 12, 'n_estimators': 1780, 'class_weight': {0: 1.0, 1: 9.0}, 'min_samples_leaf': 2.9436281860403155e-05}. Best is trial 93 with value: 0.7984710735207587.\n",
      "[I 2020-10-01 17:40:11,666] Trial 98 finished with value: 0.7984532141207652 and parameters: {'max_depth': 12, 'n_estimators': 1870, 'class_weight': {0: 1.0, 1: 9.0}, 'min_samples_leaf': 0.00014234057411451273}. Best is trial 93 with value: 0.7984710735207587.\n",
      "[I 2020-10-01 17:41:12,779] Trial 99 finished with value: 0.7978949124048581 and parameters: {'max_depth': 12, 'n_estimators': 1860, 'class_weight': {0: 1.0, 1: 9.0}, 'min_samples_leaf': 0.0001339850814686221}. Best is trial 93 with value: 0.7984710735207587.\n"
     ]
    }
   ],
   "source": [
    "# Extracting the best model parameters and best study score\n",
    "best_study_score,best_study_params = train_test_roc_auc(X_train, y_train, rf_s, objective_wrappper_rf, cv_strat, n_trials=100)"
   ]
  },
  {
   "cell_type": "code",
   "execution_count": 18,
   "metadata": {},
   "outputs": [
    {
     "name": "stdout",
     "output_type": "stream",
     "text": [
      "The best roc_auc_score for the study is:  0.7984710735207587\n"
     ]
    }
   ],
   "source": [
    "print('The best roc_auc_score for the study is: ', best_study_score)"
   ]
  },
  {
   "cell_type": "code",
   "execution_count": 19,
   "metadata": {},
   "outputs": [
    {
     "name": "stdout",
     "output_type": "stream",
     "text": [
      "('The best study parameters for the classifier are: ', {'max_depth': 12, 'n_estimators': 1940, 'class_weight': {0: 1.0, 1: 9.0}, 'min_samples_leaf': 0.00014661034840158529})\n"
     ]
    }
   ],
   "source": [
    "print(('The best study parameters for the classifier are: ', best_study_params))"
   ]
  },
  {
   "cell_type": "markdown",
   "metadata": {},
   "source": [
    "#### Computing the  full feature roc_auc score for the test data using the best study Parameters"
   ]
  },
  {
   "cell_type": "code",
   "execution_count": 21,
   "metadata": {},
   "outputs": [],
   "source": [
    "# Obtaining the best full feature RF model by setting best study parameters.\n",
    "rf_f = rf_s.set_params(**best_study_params)"
   ]
  },
  {
   "cell_type": "code",
   "execution_count": 22,
   "metadata": {},
   "outputs": [
    {
     "data": {
      "text/plain": [
       "RandomForestClassifier(class_weight={0: 1.0, 1: 9.0}, max_depth=12,\n",
       "                       min_samples_leaf=0.00014661034840158529,\n",
       "                       n_estimators=1940, n_jobs=5, random_state=42)"
      ]
     },
     "execution_count": 22,
     "metadata": {},
     "output_type": "execute_result"
    }
   ],
   "source": [
    "# fitting the best Random Forest model on the full feature training set\n",
    "rf_f.fit(X_train, y_train)"
   ]
  },
  {
   "cell_type": "code",
   "execution_count": 26,
   "metadata": {},
   "outputs": [],
   "source": [
    "# Defining the function to calculate the roc_auc score for the feature sets\n",
    "def cal_roc_auc(X, y, cls, f_set, t_set, model_name):\n",
    "    ''' Calculates the roc auc score using the best study parameters \n",
    "        f_set : String: specifies 'full feature', 'Reduced feature'\n",
    "        t_set: String: specifies 'training', 'test'\n",
    "        model_name: String: specifies Name of the model '''\n",
    "        \n",
    "    y_pred = cls.predict_proba(X)\n",
    "    print('The roc_auc_score for the {} {} set using the best {} classifier is '.format(f_set, t_set, model_name), roc_auc_score(y,y_pred[:,1]))"
   ]
  },
  {
   "cell_type": "code",
   "execution_count": 27,
   "metadata": {},
   "outputs": [
    {
     "name": "stdout",
     "output_type": "stream",
     "text": [
      "The roc_auc_score for the full feature training set using the best Random Forest classifier is  0.8813585851091872\n"
     ]
    }
   ],
   "source": [
    "# Calculating the full feature training set roc_auc score using the best study parameters\n",
    "cal_roc_auc(X_train, y_train, rf_f, 'full feature', 'training', 'Random Forest')"
   ]
  },
  {
   "cell_type": "code",
   "execution_count": 28,
   "metadata": {},
   "outputs": [
    {
     "name": "stdout",
     "output_type": "stream",
     "text": [
      "The roc_auc_score for the full feature test set using the best Random Forest classifier is  0.8142587061889712\n"
     ]
    }
   ],
   "source": [
    "# Calculating the full feature test set roc_auc score using the best study parameters\n",
    "cal_roc_auc(X_test, y_test, rf_f, 'full feature', 'test', 'Random Forest')"
   ]
  },
  {
   "cell_type": "code",
   "execution_count": 29,
   "metadata": {},
   "outputs": [
    {
     "name": "stdout",
     "output_type": "stream",
     "text": [
      "The accuracy for the full feature test set is:  0.8565185724690458\n"
     ]
    }
   ],
   "source": [
    "print('The accuracy for the full feature test set is: ',rf_f.score(X_test, y_test))"
   ]
  },
  {
   "cell_type": "code",
   "execution_count": 30,
   "metadata": {},
   "outputs": [
    {
     "data": {
      "text/plain": [
       "['Rand_Forest_Full.joblib']"
      ]
     },
     "execution_count": 30,
     "metadata": {},
     "output_type": "execute_result"
    }
   ],
   "source": [
    "# Saving the full feature set best Random forest Classifier \n",
    "import joblib\n",
    "joblib.dump(rf_f,'Rand_Forest_Full.joblib')"
   ]
  },
  {
   "cell_type": "markdown",
   "metadata": {},
   "source": [
    "#### Computing the best hyperparameters for the  Random Forest Classifier using Reduced feature Training Set."
   ]
  },
  {
   "cell_type": "code",
   "execution_count": 33,
   "metadata": {},
   "outputs": [
    {
     "name": "stderr",
     "output_type": "stream",
     "text": [
      "[I 2020-10-01 18:03:32,343] A new study created in memory with name: no-name-42957682-1fe7-4281-978a-311a3b094c5c\n",
      "[I 2020-10-01 18:03:59,369] Trial 0 finished with value: 0.795702317514923 and parameters: {'max_depth': 7, 'n_estimators': 1430, 'class_weight': {0: 1.0, 1: 9.0}, 'min_samples_leaf': 0.0009447228622446949}. Best is trial 0 with value: 0.795702317514923.\n",
      "[I 2020-10-01 18:04:08,434] Trial 1 finished with value: 0.7888060115446315 and parameters: {'max_depth': 35, 'n_estimators': 490, 'class_weight': {0: 1.0, 1: 9.0}, 'min_samples_leaf': 0.011083727473134162}. Best is trial 0 with value: 0.795702317514923.\n",
      "[I 2020-10-01 18:04:59,260] Trial 2 finished with value: 0.7818537196462192 and parameters: {'max_depth': 14, 'n_estimators': 1620, 'class_weight': {0: 1.0, 1: 12}, 'min_samples_leaf': 3.1794562444980524e-05}. Best is trial 0 with value: 0.795702317514923.\n",
      "[I 2020-10-01 18:05:38,181] Trial 3 finished with value: 0.7938138334455298 and parameters: {'max_depth': 35, 'n_estimators': 1170, 'class_weight': None, 'min_samples_leaf': 0.00024891613005406773}. Best is trial 0 with value: 0.795702317514923.\n",
      "[I 2020-10-01 18:05:45,273] Trial 4 finished with value: 0.7693139126735837 and parameters: {'max_depth': 29, 'n_estimators': 690, 'class_weight': {0: 1.0, 1: 11}, 'min_samples_leaf': 0.09949710819855981}. Best is trial 0 with value: 0.795702317514923.\n",
      "[I 2020-10-01 18:05:52,308] Trial 5 finished with value: 0.7958152900440054 and parameters: {'max_depth': 47, 'n_estimators': 260, 'class_weight': {0: 1.0, 1: 10}, 'min_samples_leaf': 0.0013429923650611747}. Best is trial 5 with value: 0.7958152900440054.\n",
      "[I 2020-10-01 18:06:30,714] Trial 6 finished with value: 0.7992366846507437 and parameters: {'max_depth': 11, 'n_estimators': 1490, 'class_weight': {0: 1.0, 1: 10}, 'min_samples_leaf': 0.00016520481868007494}. Best is trial 6 with value: 0.7992366846507437.\n",
      "[I 2020-10-01 18:06:48,777] Trial 7 finished with value: 0.7880379387242142 and parameters: {'max_depth': 48, 'n_estimators': 1030, 'class_weight': {0: 1.0, 1: 12}, 'min_samples_leaf': 0.012957001867967608}. Best is trial 6 with value: 0.7992366846507437.\n",
      "[I 2020-10-01 18:07:19,868] Trial 8 finished with value: 0.7963190185993517 and parameters: {'max_depth': 38, 'n_estimators': 1200, 'class_weight': {0: 1.0, 1: 11}, 'min_samples_leaf': 0.0015682612931182975}. Best is trial 6 with value: 0.7992366846507437.\n",
      "[I 2020-10-01 18:07:50,212] Trial 9 finished with value: 0.790757432723628 and parameters: {'max_depth': 14, 'n_estimators': 980, 'class_weight': {0: 1.0, 1: 12}, 'min_samples_leaf': 6.581178425681946e-05}. Best is trial 6 with value: 0.7992366846507437.\n",
      "[I 2020-10-01 18:08:10,149] Trial 10 finished with value: 0.7872019197177288 and parameters: {'max_depth': 3, 'n_estimators': 1820, 'class_weight': {0: 1.0, 1: 10}, 'min_samples_leaf': 1.5383450468792972e-05}. Best is trial 6 with value: 0.7992366846507437.\n",
      "[I 2020-10-01 18:08:59,403] Trial 11 finished with value: 0.7994727513990532 and parameters: {'max_depth': 11, 'n_estimators': 1960, 'class_weight': 'balanced', 'min_samples_leaf': 0.0004761801228611455}. Best is trial 11 with value: 0.7994727513990532.\n",
      "[I 2020-10-01 18:09:17,369] Trial 12 finished with value: 0.7850273212730283 and parameters: {'max_depth': 2, 'n_estimators': 1960, 'class_weight': 'balanced', 'min_samples_leaf': 0.0002645068251852842}. Best is trial 11 with value: 0.7994727513990532.\n",
      "[I 2020-10-01 18:10:08,824] Trial 13 finished with value: 0.7994024847130399 and parameters: {'max_depth': 11, 'n_estimators': 2000, 'class_weight': 'balanced', 'min_samples_leaf': 0.0001459645743212126}. Best is trial 11 with value: 0.7994727513990532.\n",
      "[I 2020-10-01 18:10:54,184] Trial 14 finished with value: 0.7929695833426919 and parameters: {'max_depth': 11, 'n_estimators': 1970, 'class_weight': 'balanced', 'min_samples_leaf': 0.004189892803940405}. Best is trial 11 with value: 0.7994727513990532.\n",
      "[I 2020-10-01 18:11:53,605] Trial 15 finished with value: 0.7803491713142577 and parameters: {'max_depth': 16, 'n_estimators': 1710, 'class_weight': 'balanced', 'min_samples_leaf': 1.0014279556938988e-05}. Best is trial 11 with value: 0.7994727513990532.\n",
      "[I 2020-10-01 18:12:35,571] Trial 16 finished with value: 0.7973271509217374 and parameters: {'max_depth': 8, 'n_estimators': 1990, 'class_weight': 'balanced', 'min_samples_leaf': 6.545691925078045e-05}. Best is trial 11 with value: 0.7994727513990532.\n",
      "[I 2020-10-01 18:13:12,028] Trial 17 finished with value: 0.7995419263899299 and parameters: {'max_depth': 11, 'n_estimators': 1440, 'class_weight': 'balanced', 'min_samples_leaf': 0.0004464284838086707}. Best is trial 17 with value: 0.7995419263899299.\n",
      "[I 2020-10-01 18:13:52,794] Trial 18 finished with value: 0.7964316308962555 and parameters: {'max_depth': 32, 'n_estimators': 1360, 'class_weight': None, 'min_samples_leaf': 0.0006619285559614278}. Best is trial 17 with value: 0.7995419263899299.\n",
      "[I 2020-10-01 18:14:11,213] Trial 19 finished with value: 0.7944606661683505 and parameters: {'max_depth': 25, 'n_estimators': 780, 'class_weight': 'balanced', 'min_samples_leaf': 0.0028911128848213225}. Best is trial 17 with value: 0.7995419263899299.\n",
      "[I 2020-10-01 18:14:40,183] Trial 20 finished with value: 0.7944638194525734 and parameters: {'max_depth': 6, 'n_estimators': 1730, 'class_weight': 'balanced', 'min_samples_leaf': 0.00032788587222624634}. Best is trial 17 with value: 0.7995419263899299.\n",
      "[I 2020-10-01 18:15:28,261] Trial 21 finished with value: 0.7987235350940666 and parameters: {'max_depth': 11, 'n_estimators': 1840, 'class_weight': 'balanced', 'min_samples_leaf': 9.247357680765692e-05}. Best is trial 17 with value: 0.7995419263899299.\n",
      "[I 2020-10-01 18:16:14,871] Trial 22 finished with value: 0.7964844480017547 and parameters: {'max_depth': 37, 'n_estimators': 1550, 'class_weight': 'balanced', 'min_samples_leaf': 0.0005319696428908334}. Best is trial 17 with value: 0.7995419263899299.\n",
      "[I 2020-10-01 18:17:01,153] Trial 23 finished with value: 0.7895755327963386 and parameters: {'max_depth': 23, 'n_estimators': 1310, 'class_weight': 'balanced', 'min_samples_leaf': 9.81379266185858e-05}. Best is trial 17 with value: 0.7995419263899299.\n",
      "[I 2020-10-01 18:17:27,197] Trial 24 finished with value: 0.7907273231821366 and parameters: {'max_depth': 4, 'n_estimators': 2000, 'class_weight': 'balanced', 'min_samples_leaf': 2.5533600402176308e-05}. Best is trial 17 with value: 0.7995419263899299.\n",
      "[I 2020-10-01 18:18:25,044] Trial 25 finished with value: 0.7962770969748201 and parameters: {'max_depth': 45, 'n_estimators': 1830, 'class_weight': 'balanced', 'min_samples_leaf': 0.0004625078303789562}. Best is trial 17 with value: 0.7995419263899299.\n",
      "[I 2020-10-01 18:19:22,229] Trial 26 finished with value: 0.7924217600710554 and parameters: {'max_depth': 34, 'n_estimators': 1670, 'class_weight': 'balanced', 'min_samples_leaf': 0.00015750510234853487}. Best is trial 17 with value: 0.7995419263899299.\n",
      "[I 2020-10-01 18:20:04,167] Trial 27 finished with value: 0.7950838401254793 and parameters: {'max_depth': 10, 'n_estimators': 1860, 'class_weight': {0: 1.0, 1: 11}, 'min_samples_leaf': 0.0026953592422623465}. Best is trial 17 with value: 0.7995419263899299.\n",
      "[I 2020-10-01 18:20:26,323] Trial 28 finished with value: 0.789785801934477 and parameters: {'max_depth': 5, 'n_estimators': 1550, 'class_weight': None, 'min_samples_leaf': 0.006334652269634659}. Best is trial 17 with value: 0.7995419263899299.\n",
      "[I 2020-10-01 18:21:02,684] Trial 29 finished with value: 0.799125629037969 and parameters: {'max_depth': 12, 'n_estimators': 1400, 'class_weight': {0: 1.0, 1: 9.0}, 'min_samples_leaf': 0.0007380853242896527}. Best is trial 17 with value: 0.7995419263899299.\n",
      "[I 2020-10-01 18:21:33,775] Trial 30 finished with value: 0.7968196029785541 and parameters: {'max_depth': 31, 'n_estimators': 1150, 'class_weight': {0: 1.0, 1: 9.0}, 'min_samples_leaf': 0.001157935105772731}. Best is trial 17 with value: 0.7995419263899299.\n",
      "[I 2020-10-01 18:22:23,106] Trial 31 finished with value: 0.7931540161453 and parameters: {'max_depth': 49, 'n_estimators': 1500, 'class_weight': {0: 1.0, 1: 10}, 'min_samples_leaf': 0.00018316846978436356}. Best is trial 17 with value: 0.7995419263899299.\n",
      "[I 2020-10-01 18:22:56,964] Trial 32 finished with value: 0.799186285442022 and parameters: {'max_depth': 11, 'n_estimators': 1300, 'class_weight': {0: 1.0, 1: 10}, 'min_samples_leaf': 0.00014491132621081336}. Best is trial 17 with value: 0.7995419263899299.\n",
      "[I 2020-10-01 18:23:21,668] Trial 33 finished with value: 0.7972145754306768 and parameters: {'max_depth': 11, 'n_estimators': 940, 'class_weight': {0: 1.0, 1: 10}, 'min_samples_leaf': 3.531479928170009e-05}. Best is trial 17 with value: 0.7995419263899299.\n",
      "[I 2020-10-01 18:24:11,477] Trial 34 finished with value: 0.7964377948989649 and parameters: {'max_depth': 18, 'n_estimators': 1610, 'class_weight': {0: 1.0, 1: 10}, 'min_samples_leaf': 0.000369711501378269}. Best is trial 17 with value: 0.7995419263899299.\n",
      "[I 2020-10-01 18:24:49,495] Trial 35 finished with value: 0.7996976437390577 and parameters: {'max_depth': 11, 'n_estimators': 1460, 'class_weight': 'balanced', 'min_samples_leaf': 0.00023152400237062137}. Best is trial 35 with value: 0.7996976437390577.\n",
      "[I 2020-10-01 18:25:18,636] Trial 36 finished with value: 0.7853297388362368 and parameters: {'max_depth': 33, 'n_estimators': 800, 'class_weight': 'balanced', 'min_samples_leaf': 4.708952981670236e-05}. Best is trial 35 with value: 0.7996976437390577.\n",
      "[I 2020-10-01 18:25:31,590] Trial 37 finished with value: 0.7982234757193807 and parameters: {'max_depth': 13, 'n_estimators': 480, 'class_weight': 'balanced', 'min_samples_leaf': 0.0008394685698053045}. Best is trial 35 with value: 0.7996976437390577.\n",
      "[I 2020-10-01 18:26:29,472] Trial 38 finished with value: 0.7948798791702755 and parameters: {'max_depth': 44, 'n_estimators': 1760, 'class_weight': 'balanced', 'min_samples_leaf': 0.00028626908470386693}. Best is trial 35 with value: 0.7996976437390577.\n",
      "[I 2020-10-01 18:27:04,900] Trial 39 finished with value: 0.7949234427552307 and parameters: {'max_depth': 15, 'n_estimators': 1110, 'class_weight': {0: 1.0, 1: 12}, 'min_samples_leaf': 0.00011552523821892605}. Best is trial 35 with value: 0.7996976437390577.\n",
      "[I 2020-10-01 18:27:43,357] Trial 40 finished with value: 0.7963878387237424 and parameters: {'max_depth': 39, 'n_estimators': 1450, 'class_weight': {0: 1.0, 1: 9.0}, 'min_samples_leaf': 0.0016165734994774935}. Best is trial 35 with value: 0.7996976437390577.\n",
      "[I 2020-10-01 18:28:17,640] Trial 41 finished with value: 0.7993536854756454 and parameters: {'max_depth': 11, 'n_estimators': 1280, 'class_weight': {0: 1.0, 1: 11}, 'min_samples_leaf': 0.00017824328203447116}. Best is trial 35 with value: 0.7996976437390577.\n",
      "[I 2020-10-01 18:28:49,403] Trial 42 finished with value: 0.7992616355993548 and parameters: {'max_depth': 11, 'n_estimators': 1210, 'class_weight': {0: 1.0, 1: 11}, 'min_samples_leaf': 0.00024382625858564486}. Best is trial 35 with value: 0.7996976437390577.\n",
      "[I 2020-10-01 18:29:27,668] Trial 43 finished with value: 0.7970120844200602 and parameters: {'max_depth': 17, 'n_estimators': 1250, 'class_weight': {0: 1.0, 1: 11}, 'min_samples_leaf': 0.00045223142733925983}. Best is trial 35 with value: 0.7996976437390577.\n",
      "[I 2020-10-01 18:30:19,465] Trial 44 finished with value: 0.7940001332558407 and parameters: {'max_depth': 26, 'n_estimators': 1620, 'class_weight': {0: 1.0, 1: 11}, 'min_samples_leaf': 0.0002123685619540303}. Best is trial 35 with value: 0.7996976437390577.\n",
      "[I 2020-10-01 18:31:11,324] Trial 45 finished with value: 0.7851725985941487 and parameters: {'max_depth': 28, 'n_estimators': 1430, 'class_weight': {0: 1.0, 1: 11}, 'min_samples_leaf': 6.0063526922893485e-05}. Best is trial 35 with value: 0.7996976437390577.\n",
      "[I 2020-10-01 18:31:48,602] Trial 46 finished with value: 0.789518359520277 and parameters: {'max_depth': 30, 'n_estimators': 1060, 'class_weight': 'balanced', 'min_samples_leaf': 8.755586117052539e-05}. Best is trial 35 with value: 0.7996976437390577.\n",
      "[I 2020-10-01 18:32:15,354] Trial 47 finished with value: 0.7818276255497422 and parameters: {'max_depth': 22, 'n_estimators': 1920, 'class_weight': {0: 1.0, 1: 12}, 'min_samples_leaf': 0.029891100519614282}. Best is trial 35 with value: 0.7996976437390577.\n",
      "[I 2020-10-01 18:32:55,824] Trial 48 finished with value: 0.7963187610907007 and parameters: {'max_depth': 24, 'n_estimators': 1340, 'class_weight': None, 'min_samples_leaf': 0.0006169859358534453}. Best is trial 35 with value: 0.7996976437390577.\n",
      "[I 2020-10-01 18:33:34,792] Trial 49 finished with value: 0.7962312521741276 and parameters: {'max_depth': 21, 'n_estimators': 1530, 'class_weight': 'balanced', 'min_samples_leaf': 0.0017726786604051116}. Best is trial 35 with value: 0.7996976437390577.\n",
      "[I 2020-10-01 18:34:08,618] Trial 50 finished with value: 0.7961634305322847 and parameters: {'max_depth': 11, 'n_estimators': 1250, 'class_weight': 'balanced', 'min_samples_leaf': 2.2206743449078213e-05}. Best is trial 35 with value: 0.7996976437390577.\n",
      "[I 2020-10-01 18:34:39,559] Trial 51 finished with value: 0.7992295491484127 and parameters: {'max_depth': 11, 'n_estimators': 1190, 'class_weight': {0: 1.0, 1: 11}, 'min_samples_leaf': 0.0002314801378013079}. Best is trial 35 with value: 0.7996976437390577.\n",
      "[I 2020-10-01 18:35:06,838] Trial 52 finished with value: 0.7994733100848795 and parameters: {'max_depth': 11, 'n_estimators': 1060, 'class_weight': {0: 1.0, 1: 11}, 'min_samples_leaf': 0.0003234830476311413}. Best is trial 35 with value: 0.7996976437390577.\n",
      "[I 2020-10-01 18:35:36,606] Trial 53 finished with value: 0.7953764749146146 and parameters: {'max_depth': 40, 'n_estimators': 970, 'class_weight': {0: 1.0, 1: 11}, 'min_samples_leaf': 0.0003468139337847988}. Best is trial 35 with value: 0.7996976437390577.\n",
      "[I 2020-10-01 18:36:07,168] Trial 54 finished with value: 0.7915201834731989 and parameters: {'max_depth': 43, 'n_estimators': 890, 'class_weight': {0: 1.0, 1: 11}, 'min_samples_leaf': 0.00012762583622234546}. Best is trial 35 with value: 0.7996976437390577.\n",
      "[I 2020-10-01 18:36:36,449] Trial 55 finished with value: 0.7970880965661115 and parameters: {'max_depth': 42, 'n_estimators': 1060, 'class_weight': {0: 1.0, 1: 11}, 'min_samples_leaf': 0.0010132653715817469}. Best is trial 35 with value: 0.7996976437390577.\n",
      "[I 2020-10-01 18:36:53,314] Trial 56 finished with value: 0.7964058111625638 and parameters: {'max_depth': 19, 'n_estimators': 550, 'class_weight': 'balanced', 'min_samples_leaf': 0.00044526519824207605}. Best is trial 35 with value: 0.7996976437390577.\n",
      "[I 2020-10-01 18:37:23,073] Trial 57 finished with value: 0.7932997475332797 and parameters: {'max_depth': 27, 'n_estimators': 860, 'class_weight': 'balanced', 'min_samples_leaf': 0.00017078303983525031}. Best is trial 35 with value: 0.7996976437390577.\n",
      "[I 2020-10-01 18:38:06,811] Trial 58 finished with value: 0.7950942356902649 and parameters: {'max_depth': 41, 'n_estimators': 1370, 'class_weight': 'balanced', 'min_samples_leaf': 0.00030929156416614376}. Best is trial 35 with value: 0.7996976437390577.\n",
      "[I 2020-10-01 18:39:06,495] Trial 59 finished with value: 0.7892871783345845 and parameters: {'max_depth': 46, 'n_estimators': 1680, 'class_weight': {0: 1.0, 1: 11}, 'min_samples_leaf': 8.73769594728392e-05}. Best is trial 35 with value: 0.7996976437390577.\n",
      "[I 2020-10-01 18:39:54,993] Trial 60 finished with value: 0.7991849124049353 and parameters: {'max_depth': 11, 'n_estimators': 1910, 'class_weight': 'balanced', 'min_samples_leaf': 0.0006696723132914017}. Best is trial 35 with value: 0.7996976437390577.\n",
      "[I 2020-10-01 18:40:23,917] Trial 61 finished with value: 0.7991638762117763 and parameters: {'max_depth': 11, 'n_estimators': 1110, 'class_weight': {0: 1.0, 1: 11}, 'min_samples_leaf': 0.0002342497576117852}. Best is trial 35 with value: 0.7996976437390577.\n"
     ]
    },
    {
     "name": "stderr",
     "output_type": "stream",
     "text": [
      "[I 2020-10-01 18:41:02,137] Trial 62 finished with value: 0.7966046969720375 and parameters: {'max_depth': 20, 'n_estimators': 1280, 'class_weight': {0: 1.0, 1: 11}, 'min_samples_leaf': 0.0004909673882321841}. Best is trial 35 with value: 0.7996976437390577.\n",
      "[I 2020-10-01 18:41:05,666] Trial 63 finished with value: 0.7925396074140748 and parameters: {'max_depth': 36, 'n_estimators': 100, 'class_weight': {0: 1.0, 1: 11}, 'min_samples_leaf': 0.00021657188066274285}. Best is trial 35 with value: 0.7996976437390577.\n",
      "[I 2020-10-01 18:41:32,996] Trial 64 finished with value: 0.7985747610674434 and parameters: {'max_depth': 9, 'n_estimators': 1190, 'class_weight': {0: 1.0, 1: 11}, 'min_samples_leaf': 0.00013029424955964303}. Best is trial 35 with value: 0.7996976437390577.\n",
      "[I 2020-10-01 18:42:20,949] Trial 65 finished with value: 0.7953396435979724 and parameters: {'max_depth': None, 'n_estimators': 1460, 'class_weight': None, 'min_samples_leaf': 0.00038302681502892447}. Best is trial 35 with value: 0.7996976437390577.\n",
      "[I 2020-10-01 18:42:48,480] Trial 66 finished with value: 0.7979674652431611 and parameters: {'max_depth': 11, 'n_estimators': 1030, 'class_weight': 'balanced', 'min_samples_leaf': 6.67714197944283e-05}. Best is trial 35 with value: 0.7996976437390577.\n",
      "[I 2020-10-01 18:43:11,698] Trial 67 finished with value: 0.7960758909588985 and parameters: {'max_depth': 7, 'n_estimators': 1230, 'class_weight': {0: 1.0, 1: 11}, 'min_samples_leaf': 0.00028439381427520084}. Best is trial 35 with value: 0.7996976437390577.\n",
      "[I 2020-10-01 18:43:42,040] Trial 68 finished with value: 0.7993382425617436 and parameters: {'max_depth': 11, 'n_estimators': 1150, 'class_weight': {0: 1.0, 1: 12}, 'min_samples_leaf': 0.00017187416966828338}. Best is trial 35 with value: 0.7996976437390577.\n",
      "[I 2020-10-01 18:44:28,493] Trial 69 finished with value: 0.7989460462130896 and parameters: {'max_depth': 11, 'n_estimators': 1760, 'class_weight': {0: 1.0, 1: 12}, 'min_samples_leaf': 0.00016789797838436774}. Best is trial 35 with value: 0.7996976437390577.\n",
      "[I 2020-10-01 18:45:00,464] Trial 70 finished with value: 0.7969822804132709 and parameters: {'max_depth': 29, 'n_estimators': 1130, 'class_weight': {0: 1.0, 1: 12}, 'min_samples_leaf': 0.0008515029232835106}. Best is trial 35 with value: 0.7996976437390577.\n",
      "[I 2020-10-01 18:45:37,072] Trial 71 finished with value: 0.7986186854559727 and parameters: {'max_depth': 11, 'n_estimators': 1390, 'class_weight': {0: 1.0, 1: 12}, 'min_samples_leaf': 0.00010411007591927291}. Best is trial 35 with value: 0.7996976437390577.\n",
      "[I 2020-10-01 18:46:15,401] Trial 72 finished with value: 0.7968373347925309 and parameters: {'max_depth': 47, 'n_estimators': 1310, 'class_weight': {0: 1.0, 1: 12}, 'min_samples_leaf': 0.0005493999444359899}. Best is trial 35 with value: 0.7996976437390577.\n",
      "[I 2020-10-01 18:46:48,356] Trial 73 finished with value: 0.7942352595206258 and parameters: {'max_depth': 35, 'n_estimators': 1020, 'class_weight': 'balanced', 'min_samples_leaf': 0.00020510405914119802}. Best is trial 35 with value: 0.7996976437390577.\n",
      "[I 2020-10-01 18:47:18,200] Trial 74 finished with value: 0.7994826785044238 and parameters: {'max_depth': 11, 'n_estimators': 1160, 'class_weight': {0: 1.0, 1: 9.0}, 'min_samples_leaf': 0.0003741490642861326}. Best is trial 35 with value: 0.7996976437390577.\n",
      "[I 2020-10-01 18:47:53,730] Trial 75 finished with value: 0.7956103751479792 and parameters: {'max_depth': 38, 'n_estimators': 1150, 'class_weight': {0: 1.0, 1: 9.0}, 'min_samples_leaf': 0.00038549147681762153}. Best is trial 35 with value: 0.7996976437390577.\n",
      "[I 2020-10-01 18:48:18,215] Trial 76 finished with value: 0.7990872450008517 and parameters: {'max_depth': 11, 'n_estimators': 930, 'class_weight': {0: 1.0, 1: 9.0}, 'min_samples_leaf': 0.00016572672869202487}. Best is trial 35 with value: 0.7996976437390577.\n",
      "[I 2020-10-01 18:48:30,568] Trial 77 finished with value: 0.7872202083005592 and parameters: {'max_depth': 3, 'n_estimators': 1090, 'class_weight': {0: 1.0, 1: 9.0}, 'min_samples_leaf': 5.2322215225062576e-05}. Best is trial 35 with value: 0.7996976437390577.\n",
      "[I 2020-10-01 18:49:13,341] Trial 78 finished with value: 0.7966970010166042 and parameters: {'max_depth': 48, 'n_estimators': 1570, 'class_weight': {0: 1.0, 1: 9.0}, 'min_samples_leaf': 0.0011092170737271986}. Best is trial 35 with value: 0.7996976437390577.\n",
      "[I 2020-10-01 18:49:33,121] Trial 79 finished with value: 0.7986428418103848 and parameters: {'max_depth': 11, 'n_estimators': 740, 'class_weight': 'balanced', 'min_samples_leaf': 7.760592528563788e-05}. Best is trial 35 with value: 0.7996976437390577.\n",
      "[I 2020-10-01 18:49:51,603] Trial 80 finished with value: 0.7851130935019667 and parameters: {'max_depth': 2, 'n_estimators': 2000, 'class_weight': {0: 1.0, 1: 9.0}, 'min_samples_leaf': 3.885742320097917e-05}. Best is trial 35 with value: 0.7996976437390577.\n",
      "[I 2020-10-01 18:50:23,043] Trial 81 finished with value: 0.7996559090583684 and parameters: {'max_depth': 11, 'n_estimators': 1210, 'class_weight': 'balanced', 'min_samples_leaf': 0.0002544864615232374}. Best is trial 35 with value: 0.7996976437390577.\n",
      "[I 2020-10-01 18:51:00,247] Trial 82 finished with value: 0.7985313204386748 and parameters: {'max_depth': 14, 'n_estimators': 1270, 'class_weight': 'balanced', 'min_samples_leaf': 0.0002870265080070729}. Best is trial 35 with value: 0.7996976437390577.\n",
      "[I 2020-10-01 18:51:39,963] Trial 83 finished with value: 0.7993739050933404 and parameters: {'max_depth': 11, 'n_estimators': 1480, 'class_weight': 'balanced', 'min_samples_leaf': 0.00012600927251853834}. Best is trial 35 with value: 0.7996976437390577.\n",
      "[I 2020-10-01 18:52:27,966] Trial 84 finished with value: 0.795131907856679 and parameters: {'max_depth': 16, 'n_estimators': 1500, 'class_weight': 'balanced', 'min_samples_leaf': 0.0001169659903924964}. Best is trial 35 with value: 0.7996976437390577.\n",
      "[I 2020-10-01 18:53:06,573] Trial 85 finished with value: 0.7970607704024457 and parameters: {'max_depth': 32, 'n_estimators': 1330, 'class_weight': 'balanced', 'min_samples_leaf': 0.0007322935579373441}. Best is trial 35 with value: 0.7996976437390577.\n",
      "[I 2020-10-01 18:53:42,542] Trial 86 finished with value: 0.7996821912019729 and parameters: {'max_depth': 11, 'n_estimators': 1400, 'class_weight': 'balanced', 'min_samples_leaf': 0.0003691133029295395}. Best is trial 35 with value: 0.7996976437390577.\n",
      "[I 2020-10-01 18:54:12,590] Trial 87 finished with value: 0.7976447775061279 and parameters: {'max_depth': 8, 'n_estimators': 1430, 'class_weight': 'balanced', 'min_samples_leaf': 0.0005427203756601898}. Best is trial 35 with value: 0.7996976437390577.\n",
      "[I 2020-10-01 18:54:56,135] Trial 88 finished with value: 0.7963545757857836 and parameters: {'max_depth': 23, 'n_estimators': 1400, 'class_weight': 'balanced', 'min_samples_leaf': 0.00040968728251153207}. Best is trial 35 with value: 0.7996976437390577.\n",
      "[I 2020-10-01 18:55:23,321] Trial 89 finished with value: 0.7933946324507111 and parameters: {'max_depth': 6, 'n_estimators': 1610, 'class_weight': 'balanced', 'min_samples_leaf': 0.0013571511234069422}. Best is trial 35 with value: 0.7996976437390577.\n",
      "[I 2020-10-01 18:56:09,903] Trial 90 finished with value: 0.7952139782450381 and parameters: {'max_depth': 25, 'n_estimators': 1460, 'class_weight': 'balanced', 'min_samples_leaf': 0.0003071881653291201}. Best is trial 35 with value: 0.7996976437390577.\n",
      "[I 2020-10-01 18:56:50,182] Trial 91 finished with value: 0.7994021393659702 and parameters: {'max_depth': 11, 'n_estimators': 1510, 'class_weight': 'balanced', 'min_samples_leaf': 0.0001423655523776087}. Best is trial 35 with value: 0.7996976437390577.\n",
      "[I 2020-10-01 18:57:30,900] Trial 92 finished with value: 0.7996761619075476 and parameters: {'max_depth': 11, 'n_estimators': 1530, 'class_weight': 'balanced', 'min_samples_leaf': 0.000349062537781271}. Best is trial 35 with value: 0.7996976437390577.\n",
      "[I 2020-10-01 18:58:12,091] Trial 93 finished with value: 0.7997200159560963 and parameters: {'max_depth': 11, 'n_estimators': 1560, 'class_weight': 'balanced', 'min_samples_leaf': 0.000264150675671259}. Best is trial 93 with value: 0.7997200159560963.\n",
      "[I 2020-10-01 18:59:00,620] Trial 94 finished with value: 0.7967612645001145 and parameters: {'max_depth': 37, 'n_estimators': 1650, 'class_weight': 'balanced', 'min_samples_leaf': 0.0006048386561208892}. Best is trial 93 with value: 0.7997200159560963.\n",
      "[I 2020-10-01 18:59:50,417] Trial 95 finished with value: 0.7953414959030061 and parameters: {'max_depth': 45, 'n_estimators': 1580, 'class_weight': 'balanced', 'min_samples_leaf': 0.0003394660564386165}. Best is trial 93 with value: 0.7997200159560963.\n",
      "[I 2020-10-01 19:00:14,511] Trial 96 finished with value: 0.7907038622729249 and parameters: {'max_depth': 4, 'n_estimators': 1810, 'class_weight': 'balanced', 'min_samples_leaf': 0.00026768747440103453}. Best is trial 93 with value: 0.7997200159560963.\n",
      "[I 2020-10-01 19:00:50,011] Trial 97 finished with value: 0.7995423935768453 and parameters: {'max_depth': 11, 'n_estimators': 1350, 'class_weight': 'balanced', 'min_samples_leaf': 0.000453924094240987}. Best is trial 93 with value: 0.7997200159560963.\n",
      "[I 2020-10-01 19:01:32,324] Trial 98 finished with value: 0.7962680552962137 and parameters: {'max_depth': 34, 'n_estimators': 1360, 'class_weight': 'balanced', 'min_samples_leaf': 0.00046335174424957595}. Best is trial 93 with value: 0.7997200159560963.\n",
      "[I 2020-10-01 19:02:05,902] Trial 99 finished with value: 0.7991430736943081 and parameters: {'max_depth': 11, 'n_estimators': 1340, 'class_weight': 'balanced', 'min_samples_leaf': 0.0007274171126078306}. Best is trial 93 with value: 0.7997200159560963.\n"
     ]
    }
   ],
   "source": [
    "# Extracting the best model parameters and best study score\n",
    "best_study_score,best_study_params = train_test_roc_auc(X_train_red, y_train, rf_s, objective_wrappper_rf, cv_strat, n_trials=100)"
   ]
  },
  {
   "cell_type": "code",
   "execution_count": 34,
   "metadata": {},
   "outputs": [
    {
     "name": "stdout",
     "output_type": "stream",
     "text": [
      "The best roc_auc_score for the study is:  0.7997200159560963\n"
     ]
    }
   ],
   "source": [
    "print('The best roc_auc_score for the study is: ', best_study_score)"
   ]
  },
  {
   "cell_type": "code",
   "execution_count": 35,
   "metadata": {},
   "outputs": [
    {
     "name": "stdout",
     "output_type": "stream",
     "text": [
      "('The best study parameters for the classifier are: ', {'max_depth': 11, 'n_estimators': 1560, 'class_weight': 'balanced', 'min_samples_leaf': 0.000264150675671259})\n"
     ]
    }
   ],
   "source": [
    "print(('The best study parameters for the classifier are: ', best_study_params))"
   ]
  },
  {
   "cell_type": "markdown",
   "metadata": {},
   "source": [
    "#### Computing the  reduced feature roc_auc score for the test data using the best study Parameters"
   ]
  },
  {
   "cell_type": "code",
   "execution_count": 36,
   "metadata": {},
   "outputs": [],
   "source": [
    "# Obtaining the best reduced feature RF model by setting best study parameters.\n",
    "rf_R = rf_s.set_params(**best_study_params)"
   ]
  },
  {
   "cell_type": "code",
   "execution_count": 37,
   "metadata": {},
   "outputs": [
    {
     "data": {
      "text/plain": [
       "RandomForestClassifier(class_weight='balanced', max_depth=11,\n",
       "                       min_samples_leaf=0.000264150675671259, n_estimators=1560,\n",
       "                       n_jobs=5, random_state=42)"
      ]
     },
     "execution_count": 37,
     "metadata": {},
     "output_type": "execute_result"
    }
   ],
   "source": [
    "# fitting the best Random Forest model on the reduced feature training set\n",
    "rf_R.fit(X_train_red, y_train)"
   ]
  },
  {
   "cell_type": "code",
   "execution_count": 38,
   "metadata": {},
   "outputs": [
    {
     "name": "stdout",
     "output_type": "stream",
     "text": [
      "The roc_auc_score for the reduced feature training set using the best Random Forest classifier is  0.8575020591265264\n"
     ]
    }
   ],
   "source": [
    "# Calculating the reduced feature training set roc_auc score using the best study parameters\n",
    "cal_roc_auc(X_train_red, y_train, rf_R, 'reduced feature', 'training', 'Random Forest')"
   ]
  },
  {
   "cell_type": "code",
   "execution_count": 40,
   "metadata": {},
   "outputs": [
    {
     "name": "stdout",
     "output_type": "stream",
     "text": [
      "The roc_auc_score for the reduced feature test set using the best Random Forest classifier is  0.815116647601302\n"
     ]
    }
   ],
   "source": [
    "# Calculating the reduced feature test set roc_auc score using the best study parameters\n",
    "cal_roc_auc(X_test_red, y_test, rf_R, 'reduced feature', 'test', 'Random Forest')"
   ]
  },
  {
   "cell_type": "code",
   "execution_count": 41,
   "metadata": {},
   "outputs": [
    {
     "data": {
      "text/plain": [
       "['Rand_Forest_Reduced.joblib']"
      ]
     },
     "execution_count": 41,
     "metadata": {},
     "output_type": "execute_result"
    }
   ],
   "source": [
    "# Saving the reduced feature set best Random forest Classifier \n",
    "joblib.dump(rf_R,'Rand_Forest_Reduced.joblib')"
   ]
  },
  {
   "cell_type": "markdown",
   "metadata": {},
   "source": [
    "### Calculating R_R ratio for best Random forest Classifier."
   ]
  },
  {
   "cell_type": "code",
   "execution_count": 8,
   "metadata": {},
   "outputs": [],
   "source": [
    "# Loading the best Random forest Classifier model\n",
    "import joblib\n",
    "rf_R = joblib.load('Rand_Forest_Reduced.joblib')"
   ]
  },
  {
   "cell_type": "code",
   "execution_count": 9,
   "metadata": {},
   "outputs": [],
   "source": [
    "# Computing the CV scores using sklearn's cross_val_score\n",
    "score_Rand_forest = cross_val_score(rf_R, X_train_red, y_train, cv=cv_strat, n_jobs=5, scoring='roc_auc')"
   ]
  },
  {
   "cell_type": "code",
   "execution_count": 11,
   "metadata": {},
   "outputs": [
    {
     "name": "stdout",
     "output_type": "stream",
     "text": [
      "The reward associated with the best Random Forest Classifier using roc_auc metric is:  0.7997200159560963\n"
     ]
    }
   ],
   "source": [
    "print('The reward associated with the best Random Forest Classifier using roc_auc metric is: ',np.mean(score_Rand_forest))"
   ]
  },
  {
   "cell_type": "code",
   "execution_count": 12,
   "metadata": {},
   "outputs": [
    {
     "name": "stdout",
     "output_type": "stream",
     "text": [
      "The risk associated with the best Random Forest Classifier using roc_auc metric is:  0.015116312612015882\n"
     ]
    }
   ],
   "source": [
    "print('The risk associated with the best Random Forest Classifier using roc_auc metric is: ',np.std(score_Rand_forest))"
   ]
  },
  {
   "cell_type": "code",
   "execution_count": 13,
   "metadata": {},
   "outputs": [],
   "source": [
    "R_R_Ratio_Rand_forest = np.mean(score_Rand_forest)/np.std(score_Rand_forest)"
   ]
  },
  {
   "cell_type": "code",
   "execution_count": 16,
   "metadata": {},
   "outputs": [
    {
     "name": "stdout",
     "output_type": "stream",
     "text": [
      "The reward risk ratio for the best Random Forest Classifier using roc_auc metric is:  52.904437509475876\n"
     ]
    }
   ],
   "source": [
    "print('The reward risk ratio for the best Random Forest Classifier using roc_auc metric is: ',R_R_Ratio_Rand_forest)"
   ]
  },
  {
   "cell_type": "markdown",
   "metadata": {},
   "source": [
    "#### The R_R ratio for the best Random Forest Classifier using roc_auc metric is:  52.904437509475876"
   ]
  },
  {
   "cell_type": "markdown",
   "metadata": {},
   "source": [
    "## Observations:\n",
    "### 1) The above results clearly show that the full feature dataset contains noisy components. Thus we got better roc_auc for the reduced feature test set than full feature test set. Further the amount of overfitting reduced  when reduced feature test set was used. _Hence we would only use reduced feature set from now on._\n",
    "### 2) The R_R Ratio as well as test set roc_auc for the best Random Forest classifier are more than those of corresponding Logistic Regression classifier, thus former  fits the dataset better than the latter.\n",
    "### 3) Random forest classifier overfitting is generally due to high test set variance. Perhaps using extra trees classifier, which trades off high variance for higher bias, may help."
   ]
  },
  {
   "cell_type": "markdown",
   "metadata": {},
   "source": [
    "## Model_3: Extra Trees Classifier with Tuned Hyperparameters using Optuna."
   ]
  },
  {
   "cell_type": "code",
   "execution_count": 42,
   "metadata": {},
   "outputs": [],
   "source": [
    "# Defining the appropriate objective function for the Extra Trees classifier\n",
    "def objective_wrappper_ext(X_tr, y_tr, cls=None, cv_strat=None):\n",
    "    '''\n",
    "    Optimizes Extra Trees parameters on the given training set X_tr,y_tr\n",
    "    using cv_strat cross-validation object\n",
    "    \n",
    "    '''\n",
    "    \n",
    "    def objective(trial):\n",
    "        params = {\n",
    "        'max_depth': trial.suggest_categorical('max_depth',list(range(2,50))+ [None]),\n",
    "        'n_estimators':trial.suggest_int('n_estimators',100,2000,10),\n",
    "        'class_weight':trial.suggest_categorical('class_weight',cl_weight),\n",
    "        'min_samples_leaf':trial.suggest_loguniform('min_samples_leaf',.00001,.1)\n",
    "          }\n",
    "        \n",
    "        cls.set_params(**params)#Initializing the model with the parameters \n",
    "    \n",
    "        return np.mean(cross_val_score(cls, X_tr, y_tr, cv=cv_strat, n_jobs=5, scoring='roc_auc'))  \n",
    "    return objective"
   ]
  },
  {
   "cell_type": "code",
   "execution_count": 43,
   "metadata": {},
   "outputs": [],
   "source": [
    "# Importing Extra Trees Classifier from  Sklearn\n",
    "from sklearn.ensemble import ExtraTreesClassifier"
   ]
  },
  {
   "cell_type": "code",
   "execution_count": 45,
   "metadata": {},
   "outputs": [],
   "source": [
    "# Instantiating the Extra Trees classifier\n",
    "ext_s = ExtraTreesClassifier(n_jobs=5,random_state=42)"
   ]
  },
  {
   "cell_type": "markdown",
   "metadata": {},
   "source": [
    "#### Computing the best hyperparameters for the Extra Trees Classifier using Reduced feature Training Set."
   ]
  },
  {
   "cell_type": "code",
   "execution_count": 46,
   "metadata": {},
   "outputs": [
    {
     "name": "stderr",
     "output_type": "stream",
     "text": [
      "[I 2020-10-01 19:44:52,922] A new study created in memory with name: no-name-cf31bdea-0d1b-42bc-8351-17e03f625c26\n",
      "[I 2020-10-01 19:45:26,686] Trial 0 finished with value: 0.7901452752214027 and parameters: {'max_depth': 11, 'n_estimators': 1440, 'class_weight': {0: 1.0, 1: 10}, 'min_samples_leaf': 0.00485906968293306}. Best is trial 0 with value: 0.7901452752214027.\n",
      "[I 2020-10-01 19:46:41,312] Trial 1 finished with value: 0.7819733080388087 and parameters: {'max_depth': 49, 'n_estimators': 1690, 'class_weight': None, 'min_samples_leaf': 5.5477758102182414e-05}. Best is trial 0 with value: 0.7901452752214027.\n",
      "[I 2020-10-01 19:47:08,559] Trial 2 finished with value: 0.7857289436024057 and parameters: {'max_depth': 44, 'n_estimators': 1420, 'class_weight': {0: 1.0, 1: 12}, 'min_samples_leaf': 0.01445899080934333}. Best is trial 0 with value: 0.7901452752214027.\n",
      "[I 2020-10-01 19:47:36,358] Trial 3 finished with value: 0.7835793756583126 and parameters: {'max_depth': 29, 'n_estimators': 1810, 'class_weight': None, 'min_samples_leaf': 0.025365655154591233}. Best is trial 0 with value: 0.7901452752214027.\n",
      "[I 2020-10-01 19:48:03,611] Trial 4 finished with value: 0.7771460651441564 and parameters: {'max_depth': 37, 'n_estimators': 610, 'class_weight': 'balanced', 'min_samples_leaf': 5.704225806675288e-05}. Best is trial 0 with value: 0.7901452752214027.\n",
      "[I 2020-10-01 19:48:27,700] Trial 5 finished with value: 0.7758349489748706 and parameters: {'max_depth': 43, 'n_estimators': 540, 'class_weight': {0: 1.0, 1: 11}, 'min_samples_leaf': 4.382068396186919e-05}. Best is trial 0 with value: 0.7901452752214027.\n",
      "[I 2020-10-01 19:48:40,266] Trial 6 finished with value: 0.7942570394307195 and parameters: {'max_depth': 15, 'n_estimators': 380, 'class_weight': 'balanced', 'min_samples_leaf': 0.0007694771677944749}. Best is trial 6 with value: 0.7942570394307195.\n",
      "[I 2020-10-01 19:48:42,828] Trial 7 finished with value: 0.7940184367792239 and parameters: {'max_depth': 8, 'n_estimators': 100, 'class_weight': {0: 1.0, 1: 10}, 'min_samples_leaf': 7.209735581512108e-05}. Best is trial 6 with value: 0.7942570394307195.\n",
      "[I 2020-10-01 19:48:47,389] Trial 8 finished with value: 0.7832869817453002 and parameters: {'max_depth': 33, 'n_estimators': 260, 'class_weight': 'balanced', 'min_samples_leaf': 0.024407636166494277}. Best is trial 6 with value: 0.7942570394307195.\n",
      "[I 2020-10-01 19:48:53,967] Trial 9 finished with value: 0.7949486672743034 and parameters: {'max_depth': 11, 'n_estimators': 230, 'class_weight': None, 'min_samples_leaf': 2.3337420349969934e-05}. Best is trial 9 with value: 0.7949486672743034.\n",
      "[I 2020-10-01 19:49:35,827] Trial 10 finished with value: 0.7445382793622249 and parameters: {'max_depth': 20, 'n_estimators': 910, 'class_weight': {0: 1.0, 1: 9.0}, 'min_samples_leaf': 1.0690220541837697e-05}. Best is trial 9 with value: 0.7949486672743034.\n",
      "[I 2020-10-01 19:49:45,702] Trial 11 finished with value: 0.7945246061343058 and parameters: {'max_depth': 11, 'n_estimators': 370, 'class_weight': None, 'min_samples_leaf': 0.0004705633498130013}. Best is trial 9 with value: 0.7949486672743034.\n",
      "[I 2020-10-01 19:50:07,859] Trial 12 finished with value: 0.7945172368135196 and parameters: {'max_depth': 11, 'n_estimators': 850, 'class_weight': None, 'min_samples_leaf': 0.0005991002754210985}. Best is trial 9 with value: 0.7949486672743034.\n",
      "[I 2020-10-01 19:50:13,499] Trial 13 finished with value: 0.7903570564156421 and parameters: {'max_depth': None, 'n_estimators': 150, 'class_weight': None, 'min_samples_leaf': 0.0002655394094983624}. Best is trial 9 with value: 0.7949486672743034.\n",
      "[I 2020-10-01 19:50:27,450] Trial 14 finished with value: 0.7900186251412935 and parameters: {'max_depth': 42, 'n_estimators': 600, 'class_weight': None, 'min_samples_leaf': 0.005980860133721668}. Best is trial 9 with value: 0.7949486672743034.\n",
      "[I 2020-10-01 19:51:19,155] Trial 15 finished with value: 0.7399982146411964 and parameters: {'max_depth': 22, 'n_estimators': 1090, 'class_weight': {0: 1.0, 1: 9.0}, 'min_samples_leaf': 1.1933205269288969e-05}. Best is trial 9 with value: 0.7949486672743034.\n",
      "[I 2020-10-01 19:51:32,236] Trial 16 finished with value: 0.7928906297409607 and parameters: {'max_depth': 16, 'n_estimators': 380, 'class_weight': None, 'min_samples_leaf': 0.00022300026370651704}. Best is trial 9 with value: 0.7949486672743034.\n",
      "[I 2020-10-01 19:51:36,855] Trial 17 finished with value: 0.7913972848770922 and parameters: {'max_depth': 11, 'n_estimators': 160, 'class_weight': {0: 1.0, 1: 11}, 'min_samples_leaf': 0.002758828017995899}. Best is trial 9 with value: 0.7949486672743034.\n",
      "[I 2020-10-01 19:51:46,829] Trial 18 finished with value: 0.7870310356520541 and parameters: {'max_depth': 4, 'n_estimators': 810, 'class_weight': {0: 1.0, 1: 12}, 'min_samples_leaf': 1.8043345050437214e-05}. Best is trial 9 with value: 0.7949486672743034.\n",
      "[I 2020-10-01 19:51:59,016] Trial 19 finished with value: 0.7756152073301104 and parameters: {'max_depth': 27, 'n_estimators': 1200, 'class_weight': None, 'min_samples_leaf': 0.08716864445265977}. Best is trial 9 with value: 0.7949486672743034.\n",
      "[I 2020-10-01 19:52:15,046] Trial 20 finished with value: 0.7896564233915557 and parameters: {'max_depth': 36, 'n_estimators': 420, 'class_weight': None, 'min_samples_leaf': 0.00017125155701009227}. Best is trial 9 with value: 0.7949486672743034.\n",
      "[I 2020-10-01 19:52:34,312] Trial 21 finished with value: 0.7940583842938042 and parameters: {'max_depth': 11, 'n_estimators': 750, 'class_weight': None, 'min_samples_leaf': 0.0010753420739823946}. Best is trial 9 with value: 0.7949486672743034.\n",
      "[I 2020-10-01 19:53:04,342] Trial 22 finished with value: 0.7932320784182763 and parameters: {'max_depth': 47, 'n_estimators': 940, 'class_weight': None, 'min_samples_leaf': 0.000834607580097804}. Best is trial 9 with value: 0.7949486672743034.\n",
      "[I 2020-10-01 19:53:27,232] Trial 23 finished with value: 0.7926483441320681 and parameters: {'max_depth': 25, 'n_estimators': 680, 'class_weight': None, 'min_samples_leaf': 0.0005413612977095493}. Best is trial 9 with value: 0.7949486672743034.\n",
      "[I 2020-10-01 19:53:33,044] Trial 24 finished with value: 0.7903687397486804 and parameters: {'max_depth': 7, 'n_estimators': 310, 'class_weight': None, 'min_samples_leaf': 0.002428212306494278}. Best is trial 9 with value: 0.7949486672743034.\n",
      "[I 2020-10-01 19:53:47,921] Trial 25 finished with value: 0.7946797198445451 and parameters: {'max_depth': 13, 'n_estimators': 480, 'class_weight': None, 'min_samples_leaf': 0.0001282400502983961}. Best is trial 9 with value: 0.7949486672743034.\n",
      "[I 2020-10-01 19:54:04,782] Trial 26 finished with value: 0.7836339808563615 and parameters: {'max_depth': 13, 'n_estimators': 490, 'class_weight': {0: 1.0, 1: 12}, 'min_samples_leaf': 2.4904251424928427e-05}. Best is trial 9 with value: 0.7949486672743034.\n",
      "[I 2020-10-01 19:54:07,356] Trial 27 finished with value: 0.7833136822542233 and parameters: {'max_depth': 2, 'n_estimators': 230, 'class_weight': {0: 1.0, 1: 11}, 'min_samples_leaf': 9.917774723317939e-05}. Best is trial 9 with value: 0.7949486672743034.\n",
      "[I 2020-10-01 19:54:27,298] Trial 28 finished with value: 0.7862852224952791 and parameters: {'max_depth': 24, 'n_estimators': 490, 'class_weight': {0: 1.0, 1: 9.0}, 'min_samples_leaf': 0.00013036143761886257}. Best is trial 9 with value: 0.7949486672743034.\n",
      "[I 2020-10-01 19:54:31,454] Trial 29 finished with value: 0.792604269042622 and parameters: {'max_depth': 17, 'n_estimators': 110, 'class_weight': {0: 1.0, 1: 10}, 'min_samples_leaf': 0.0003712043782710629}. Best is trial 9 with value: 0.7949486672743034.\n",
      "[I 2020-10-01 19:54:46,796] Trial 30 finished with value: 0.7421079535445776 and parameters: {'max_depth': 35, 'n_estimators': 300, 'class_weight': {0: 1.0, 1: 10}, 'min_samples_leaf': 2.679833708884073e-05}. Best is trial 9 with value: 0.7949486672743034.\n",
      "[I 2020-10-01 19:55:11,550] Trial 31 finished with value: 0.7931942648104358 and parameters: {'max_depth': 30, 'n_estimators': 830, 'class_weight': None, 'min_samples_leaf': 0.0013543043404069185}. Best is trial 9 with value: 0.7949486672743034.\n",
      "[I 2020-10-01 19:55:53,513] Trial 32 finished with value: 0.791941560255 and parameters: {'max_depth': 48, 'n_estimators': 1200, 'class_weight': None, 'min_samples_leaf': 0.0003907674596086659}. Best is trial 9 with value: 0.7949486672743034.\n",
      "[I 2020-10-01 19:56:31,437] Trial 33 finished with value: 0.7953041355140875 and parameters: {'max_depth': 11, 'n_estimators': 1420, 'class_weight': None, 'min_samples_leaf': 0.0001237910382944437}. Best is trial 33 with value: 0.7953041355140875.\n",
      "[I 2020-10-01 19:57:09,454] Trial 34 finished with value: 0.7952730698299506 and parameters: {'max_depth': 10, 'n_estimators': 1540, 'class_weight': None, 'min_samples_leaf': 9.364015844926393e-05}. Best is trial 33 with value: 0.7953041355140875.\n",
      "[I 2020-10-01 19:58:18,967] Trial 35 finished with value: 0.7823584426606068 and parameters: {'max_depth': 26, 'n_estimators': 1590, 'class_weight': None, 'min_samples_leaf': 4.038453569577638e-05}. Best is trial 33 with value: 0.7953041355140875.\n",
      "[I 2020-10-01 19:58:55,280] Trial 36 finished with value: 0.795130147050217 and parameters: {'max_depth': 10, 'n_estimators': 1450, 'class_weight': None, 'min_samples_leaf': 0.00010861742923678161}. Best is trial 33 with value: 0.7953041355140875.\n",
      "[I 2020-10-01 19:59:30,562] Trial 37 finished with value: 0.7952305864386346 and parameters: {'max_depth': 10, 'n_estimators': 1430, 'class_weight': None, 'min_samples_leaf': 7.391725207927311e-05}. Best is trial 33 with value: 0.7953041355140875.\n",
      "[I 2020-10-01 20:00:22,218] Trial 38 finished with value: 0.7951593972434717 and parameters: {'max_depth': 10, 'n_estimators': 1910, 'class_weight': {0: 1.0, 1: 12}, 'min_samples_leaf': 5.841303827390788e-05}. Best is trial 33 with value: 0.7953041355140875.\n",
      "[I 2020-10-01 20:01:13,922] Trial 39 finished with value: 0.7951593972434717 and parameters: {'max_depth': 10, 'n_estimators': 1910, 'class_weight': {0: 1.0, 1: 12}, 'min_samples_leaf': 4.25320335386678e-05}. Best is trial 33 with value: 0.7953041355140875.\n",
      "[I 2020-10-01 20:02:00,704] Trial 40 finished with value: 0.7951430244645078 and parameters: {'max_depth': 10, 'n_estimators': 1710, 'class_weight': {0: 1.0, 1: 12}, 'min_samples_leaf': 3.493565042226246e-05}. Best is trial 33 with value: 0.7953041355140875.\n",
      "[I 2020-10-01 20:02:55,078] Trial 41 finished with value: 0.7951577461788687 and parameters: {'max_depth': 10, 'n_estimators': 1980, 'class_weight': {0: 1.0, 1: 12}, 'min_samples_leaf': 6.190894442278171e-05}. Best is trial 33 with value: 0.7953041355140875.\n",
      "[I 2020-10-01 20:03:48,733] Trial 42 finished with value: 0.7955826363258292 and parameters: {'max_depth': 10, 'n_estimators': 1960, 'class_weight': {0: 1.0, 1: 12}, 'min_samples_leaf': 7.367713521223425e-05}. Best is trial 42 with value: 0.7955826363258292.\n",
      "[I 2020-10-01 20:04:54,274] Trial 43 finished with value: 0.740978338933245 and parameters: {'max_depth': 19, 'n_estimators': 1480, 'class_weight': {0: 1.0, 1: 12}, 'min_samples_leaf': 1.4292069417411367e-05}. Best is trial 42 with value: 0.7955826363258292.\n",
      "[I 2020-10-01 20:05:44,170] Trial 44 finished with value: 0.7955803761311752 and parameters: {'max_depth': 10, 'n_estimators': 1780, 'class_weight': {0: 1.0, 1: 12}, 'min_samples_leaf': 8.035706874683391e-05}. Best is trial 42 with value: 0.7955826363258292.\n",
      "[I 2020-10-01 20:06:55,635] Trial 45 finished with value: 0.7825342187926344 and parameters: {'max_depth': 46, 'n_estimators': 1680, 'class_weight': {0: 1.0, 1: 12}, 'min_samples_leaf': 8.457831428343238e-05}. Best is trial 42 with value: 0.7955826363258292.\n",
      "[I 2020-10-01 20:07:46,983] Trial 46 finished with value: 0.7913639791712774 and parameters: {'max_depth': 18, 'n_estimators': 1370, 'class_weight': 'balanced', 'min_samples_leaf': 0.00020923443923920074}. Best is trial 42 with value: 0.7955826363258292.\n",
      "[I 2020-10-01 20:09:01,079] Trial 47 finished with value: 0.7876355423145294 and parameters: {'max_depth': 39, 'n_estimators': 1790, 'class_weight': {0: 1.0, 1: 12}, 'min_samples_leaf': 0.00015530217479097253}. Best is trial 42 with value: 0.7955826363258292.\n",
      "[I 2020-10-01 20:10:10,172] Trial 48 finished with value: 0.7837408017145358 and parameters: {'max_depth': 32, 'n_estimators': 1570, 'class_weight': 'balanced', 'min_samples_leaf': 7.065407531005167e-05}. Best is trial 42 with value: 0.7955826363258292.\n",
      "[I 2020-10-01 20:10:58,468] Trial 49 finished with value: 0.7909999733924791 and parameters: {'max_depth': 21, 'n_estimators': 1280, 'class_weight': {0: 1.0, 1: 11}, 'min_samples_leaf': 0.00030200939935728054}. Best is trial 42 with value: 0.7955826363258292.\n",
      "[I 2020-10-01 20:12:29,142] Trial 50 finished with value: 0.7429351640330443 and parameters: {'max_depth': 41, 'n_estimators': 1790, 'class_weight': {0: 1.0, 1: 9.0}, 'min_samples_leaf': 3.0243497732113647e-05}. Best is trial 42 with value: 0.7955826363258292.\n",
      "[I 2020-10-01 20:13:21,639] Trial 51 finished with value: 0.7951544252271803 and parameters: {'max_depth': 10, 'n_estimators': 1900, 'class_weight': {0: 1.0, 1: 12}, 'min_samples_leaf': 5.6405490456216655e-05}. Best is trial 42 with value: 0.7955826363258292.\n",
      "[I 2020-10-01 20:14:32,879] Trial 52 finished with value: 0.7749315038024664 and parameters: {'max_depth': 45, 'n_estimators': 1580, 'class_weight': {0: 1.0, 1: 12}, 'min_samples_leaf': 4.143265314448293e-05}. Best is trial 42 with value: 0.7955826363258292.\n",
      "[I 2020-10-01 20:15:24,297] Trial 53 finished with value: 0.7955937625052967 and parameters: {'max_depth': 10, 'n_estimators': 1880, 'class_weight': {0: 1.0, 1: 12}, 'min_samples_leaf': 8.519138749443575e-05}. Best is trial 53 with value: 0.7955937625052967.\n",
      "[I 2020-10-01 20:17:05,047] Trial 54 finished with value: 0.7428440630045255 and parameters: {'max_depth': 40, 'n_estimators': 1990, 'class_weight': {0: 1.0, 1: 12}, 'min_samples_leaf': 1.793277708353609e-05}. Best is trial 53 with value: 0.7955937625052967.\n",
      "[I 2020-10-01 20:18:12,427] Trial 55 finished with value: 0.7886863518006744 and parameters: {'max_depth': 31, 'n_estimators': 1680, 'class_weight': {0: 1.0, 1: 12}, 'min_samples_leaf': 0.00019593598357612482}. Best is trial 53 with value: 0.7955937625052967.\n",
      "[I 2020-10-01 20:19:09,789] Trial 56 finished with value: 0.7824730043863953 and parameters: {'max_depth': 38, 'n_estimators': 1350, 'class_weight': {0: 1.0, 1: 12}, 'min_samples_leaf': 7.832420692067472e-05}. Best is trial 53 with value: 0.7955937625052967.\n",
      "[I 2020-10-01 20:20:10,587] Trial 57 finished with value: 0.7861007288985566 and parameters: {'max_depth': 34, 'n_estimators': 1500, 'class_weight': None, 'min_samples_leaf': 9.9638661299576e-05}. Best is trial 53 with value: 0.7955937625052967.\n",
      "[I 2020-10-01 20:21:21,211] Trial 58 finished with value: 0.7909127472805947 and parameters: {'max_depth': 23, 'n_estimators': 1850, 'class_weight': {0: 1.0, 1: 12}, 'min_samples_leaf': 0.0002755800936091502}. Best is trial 53 with value: 0.7955937625052967.\n",
      "[I 2020-10-01 20:22:15,584] Trial 59 finished with value: 0.795289239542731 and parameters: {'max_depth': 12, 'n_estimators': 1730, 'class_weight': {0: 1.0, 1: 10}, 'min_samples_leaf': 0.00014020112016333591}. Best is trial 53 with value: 0.7955937625052967.\n",
      "[I 2020-10-01 20:23:11,047] Trial 60 finished with value: 0.7952911732127973 and parameters: {'max_depth': 12, 'n_estimators': 1740, 'class_weight': {0: 1.0, 1: 10}, 'min_samples_leaf': 0.00014259878415816144}. Best is trial 53 with value: 0.7955937625052967.\n",
      "[I 2020-10-01 20:23:29,641] Trial 61 finished with value: 0.7849897444521872 and parameters: {'max_depth': 3, 'n_estimators': 1730, 'class_weight': {0: 1.0, 1: 10}, 'min_samples_leaf': 0.0001482893571511441}. Best is trial 53 with value: 0.7955937625052967.\n",
      "[I 2020-10-01 20:24:29,163] Trial 62 finished with value: 0.7952445048617152 and parameters: {'max_depth': 12, 'n_estimators': 1840, 'class_weight': {0: 1.0, 1: 10}, 'min_samples_leaf': 0.00012010970953941335}. Best is trial 53 with value: 0.7955937625052967.\n"
     ]
    },
    {
     "name": "stderr",
     "output_type": "stream",
     "text": [
      "[I 2020-10-01 20:25:21,312] Trial 63 finished with value: 0.7954530583205857 and parameters: {'max_depth': 12, 'n_estimators': 1640, 'class_weight': {0: 1.0, 1: 10}, 'min_samples_leaf': 0.0001897111307780357}. Best is trial 53 with value: 0.7955937625052967.\n",
      "[I 2020-10-01 20:26:13,537] Trial 64 finished with value: 0.7954530583205857 and parameters: {'max_depth': 12, 'n_estimators': 1640, 'class_weight': {0: 1.0, 1: 10}, 'min_samples_leaf': 0.0001882759529498339}. Best is trial 53 with value: 0.7955937625052967.\n",
      "[I 2020-10-01 20:27:02,856] Trial 65 finished with value: 0.7950059331746028 and parameters: {'max_depth': 12, 'n_estimators': 1630, 'class_weight': {0: 1.0, 1: 10}, 'min_samples_leaf': 0.0006451320984374319}. Best is trial 53 with value: 0.7955937625052967.\n",
      "[I 2020-10-01 20:27:27,832] Trial 66 finished with value: 0.7894475035082407 and parameters: {'max_depth': 5, 'n_estimators': 1640, 'class_weight': {0: 1.0, 1: 10}, 'min_samples_leaf': 0.0002173167423454744}. Best is trial 53 with value: 0.7955937625052967.\n",
      "[I 2020-10-01 20:28:30,627] Trial 67 finished with value: 0.7952974457542135 and parameters: {'max_depth': 12, 'n_estimators': 1990, 'class_weight': {0: 1.0, 1: 10}, 'min_samples_leaf': 0.0003972932798779457}. Best is trial 53 with value: 0.7955937625052967.\n",
      "[I 2020-10-01 20:29:04,303] Trial 68 finished with value: 0.7911697218349059 and parameters: {'max_depth': 6, 'n_estimators': 1940, 'class_weight': {0: 1.0, 1: 10}, 'min_samples_leaf': 0.0004170876032612643}. Best is trial 53 with value: 0.7955937625052967.\n",
      "[I 2020-10-01 20:30:02,020] Trial 69 finished with value: 0.7932138090343367 and parameters: {'max_depth': 49, 'n_estimators': 1820, 'class_weight': {0: 1.0, 1: 10}, 'min_samples_leaf': 0.0013255147274879692}. Best is trial 53 with value: 0.7955937625052967.\n",
      "[I 2020-10-01 20:31:18,350] Trial 70 finished with value: 0.7909867311422911 and parameters: {'max_depth': 33, 'n_estimators': 2000, 'class_weight': {0: 1.0, 1: 10}, 'min_samples_leaf': 0.0002791458589633232}. Best is trial 53 with value: 0.7955937625052967.\n",
      "[I 2020-10-01 20:32:13,795] Trial 71 finished with value: 0.7954039782777089 and parameters: {'max_depth': 12, 'n_estimators': 1770, 'class_weight': {0: 1.0, 1: 10}, 'min_samples_leaf': 0.000318614113227532}. Best is trial 53 with value: 0.7955937625052967.\n",
      "[I 2020-10-01 20:33:09,732] Trial 72 finished with value: 0.7954079538103195 and parameters: {'max_depth': 12, 'n_estimators': 1790, 'class_weight': {0: 1.0, 1: 10}, 'min_samples_leaf': 0.0003279062018174293}. Best is trial 53 with value: 0.7955937625052967.\n",
      "[I 2020-10-01 20:34:21,012] Trial 73 finished with value: 0.7890808250029604 and parameters: {'max_depth': 43, 'n_estimators': 1760, 'class_weight': {0: 1.0, 1: 10}, 'min_samples_leaf': 0.00019104018218796734}. Best is trial 53 with value: 0.7955937625052967.\n",
      "[I 2020-10-01 20:35:07,792] Trial 74 finished with value: 0.7952567663176933 and parameters: {'max_depth': 9, 'n_estimators': 1880, 'class_weight': {0: 1.0, 1: 10}, 'min_samples_leaf': 0.0003041146190683837}. Best is trial 53 with value: 0.7955937625052967.\n",
      "[I 2020-10-01 20:36:04,214] Trial 75 finished with value: 0.7932545312821183 and parameters: {'max_depth': 28, 'n_estimators': 1650, 'class_weight': {0: 1.0, 1: 10}, 'min_samples_leaf': 0.0007094507733264448}. Best is trial 53 with value: 0.7955937625052967.\n",
      "[I 2020-10-01 20:37:09,200] Trial 76 finished with value: 0.7897258820089471 and parameters: {'max_depth': 14, 'n_estimators': 1790, 'class_weight': {0: 1.0, 1: 10}, 'min_samples_leaf': 4.996340799838457e-05}. Best is trial 53 with value: 0.7955937625052967.\n",
      "[I 2020-10-01 20:38:16,971] Trial 77 finished with value: 0.7925511975352022 and parameters: {'max_depth': 44, 'n_estimators': 1860, 'class_weight': {0: 1.0, 1: 11}, 'min_samples_leaf': 0.0005303877252769152}. Best is trial 53 with value: 0.7955937625052967.\n",
      "[I 2020-10-01 20:38:56,328] Trial 78 finished with value: 0.7920254087486944 and parameters: {'max_depth': 15, 'n_estimators': 1060, 'class_weight': {0: 1.0, 1: 9.0}, 'min_samples_leaf': 0.00010570571331455442}. Best is trial 53 with value: 0.7955937625052967.\n",
      "[I 2020-10-01 20:39:56,810] Trial 79 finished with value: 0.7890805491216532 and parameters: {'max_depth': 29, 'n_estimators': 1500, 'class_weight': {0: 1.0, 1: 10}, 'min_samples_leaf': 0.00018118097660386933}. Best is trial 53 with value: 0.7955937625052967.\n",
      "[I 2020-10-01 20:40:58,314] Trial 80 finished with value: 0.7953870173546799 and parameters: {'max_depth': 12, 'n_estimators': 1940, 'class_weight': 'balanced', 'min_samples_leaf': 0.00023062333762227153}. Best is trial 53 with value: 0.7955937625052967.\n",
      "[I 2020-10-01 20:41:49,625] Trial 81 finished with value: 0.7954184347638138 and parameters: {'max_depth': 12, 'n_estimators': 1630, 'class_weight': 'balanced', 'min_samples_leaf': 0.00025148355538379445}. Best is trial 53 with value: 0.7955937625052967.\n",
      "[I 2020-10-01 20:42:47,939] Trial 82 finished with value: 0.7945891235049721 and parameters: {'max_depth': 12, 'n_estimators': 1950, 'class_weight': 'balanced', 'min_samples_leaf': 0.0009578113763115935}. Best is trial 53 with value: 0.7955937625052967.\n",
      "[I 2020-10-01 20:43:40,921] Trial 83 finished with value: 0.7954207458180986 and parameters: {'max_depth': 12, 'n_estimators': 1680, 'class_weight': 'balanced', 'min_samples_leaf': 0.0002507703842278752}. Best is trial 53 with value: 0.7955937625052967.\n",
      "[I 2020-10-01 20:44:30,735] Trial 84 finished with value: 0.7951925600029025 and parameters: {'max_depth': 12, 'n_estimators': 1630, 'class_weight': 'balanced', 'min_samples_leaf': 0.0004652509277811994}. Best is trial 53 with value: 0.7955937625052967.\n",
      "[I 2020-10-01 20:45:29,967] Trial 85 finished with value: 0.7912915842643342 and parameters: {'max_depth': 37, 'n_estimators': 1550, 'class_weight': 'balanced', 'min_samples_leaf': 0.0003209213495522674}. Best is trial 53 with value: 0.7955937625052967.\n",
      "[I 2020-10-01 20:46:23,734] Trial 86 finished with value: 0.7953409897035074 and parameters: {'max_depth': 12, 'n_estimators': 1680, 'class_weight': 'balanced', 'min_samples_leaf': 0.00023517628380175556}. Best is trial 53 with value: 0.7955937625052967.\n",
      "[I 2020-10-01 20:47:03,842] Trial 87 finished with value: 0.7944095290575339 and parameters: {'max_depth': 8, 'n_estimators': 1770, 'class_weight': 'balanced', 'min_samples_leaf': 0.0003444299298045255}. Best is trial 53 with value: 0.7955937625052967.\n",
      "[I 2020-10-01 20:48:19,687] Trial 88 finished with value: 0.7881227583026327 and parameters: {'max_depth': 42, 'n_estimators': 1820, 'class_weight': 'balanced', 'min_samples_leaf': 0.0001593567543308358}. Best is trial 53 with value: 0.7955937625052967.\n",
      "[I 2020-10-01 20:49:33,171] Trial 89 finished with value: 0.7825342142492767 and parameters: {'max_depth': None, 'n_estimators': 1710, 'class_weight': {0: 1.0, 1: 12}, 'min_samples_leaf': 6.873602957073373e-05}. Best is trial 53 with value: 0.7955937625052967.\n",
      "[I 2020-10-01 20:50:42,967] Trial 90 finished with value: 0.7838461999737556 and parameters: {'max_depth': 27, 'n_estimators': 1620, 'class_weight': 'balanced', 'min_samples_leaf': 9.32145250499749e-05}. Best is trial 53 with value: 0.7955937625052967.\n",
      "[I 2020-10-01 20:51:45,110] Trial 91 finished with value: 0.7953870173546799 and parameters: {'max_depth': 12, 'n_estimators': 1940, 'class_weight': 'balanced', 'min_samples_leaf': 0.00023110589992379746}. Best is trial 53 with value: 0.7955937625052967.\n",
      "[I 2020-10-01 20:52:42,184] Trial 92 finished with value: 0.7951221877206153 and parameters: {'max_depth': 12, 'n_estimators': 1890, 'class_weight': 'balanced', 'min_samples_leaf': 0.0005545374378495006}. Best is trial 53 with value: 0.7955937625052967.\n",
      "[I 2020-10-01 20:53:37,872] Trial 93 finished with value: 0.7954400268994222 and parameters: {'max_depth': 12, 'n_estimators': 1770, 'class_weight': 'balanced', 'min_samples_leaf': 0.0002547426793912095}. Best is trial 53 with value: 0.7955937625052967.\n",
      "[I 2020-10-01 20:54:47,359] Trial 94 finished with value: 0.7878005415949381 and parameters: {'max_depth': 20, 'n_estimators': 1670, 'class_weight': 'balanced', 'min_samples_leaf': 0.0001223441707349641}. Best is trial 53 with value: 0.7955937625052967.\n",
      "[I 2020-10-01 20:55:38,063] Trial 95 finished with value: 0.795410815346411 and parameters: {'max_depth': 12, 'n_estimators': 1590, 'class_weight': {0: 1.0, 1: 12}, 'min_samples_leaf': 0.0001805737448511467}. Best is trial 53 with value: 0.7955937625052967.\n",
      "[I 2020-10-01 20:56:37,514] Trial 96 finished with value: 0.7916230623327302 and parameters: {'max_depth': 16, 'n_estimators': 1600, 'class_weight': {0: 1.0, 1: 12}, 'min_samples_leaf': 0.000176477385194422}. Best is trial 53 with value: 0.7955937625052967.\n",
      "[I 2020-10-01 20:57:48,376] Trial 97 finished with value: 0.7749570857671044 and parameters: {'max_depth': 47, 'n_estimators': 1540, 'class_weight': {0: 1.0, 1: 12}, 'min_samples_leaf': 4.839485098321085e-05}. Best is trial 53 with value: 0.7955937625052967.\n",
      "[I 2020-10-01 20:58:10,556] Trial 98 finished with value: 0.7871412082136796 and parameters: {'max_depth': 4, 'n_estimators': 1720, 'class_weight': {0: 1.0, 1: 12}, 'min_samples_leaf': 8.067018575818032e-05}. Best is trial 53 with value: 0.7955937625052967.\n",
      "[I 2020-10-01 20:58:26,498] Trial 99 finished with value: 0.7825153951143062 and parameters: {'max_depth': 2, 'n_estimators': 1830, 'class_weight': {0: 1.0, 1: 12}, 'min_samples_leaf': 0.00024655089939048613}. Best is trial 53 with value: 0.7955937625052967.\n"
     ]
    }
   ],
   "source": [
    "# Extracting the best model parameters and best study score\n",
    "best_study_score,best_study_params = train_test_roc_auc(X_train_red, y_train, ext_s, objective_wrappper_ext, cv_strat, n_trials=100)"
   ]
  },
  {
   "cell_type": "code",
   "execution_count": 47,
   "metadata": {},
   "outputs": [
    {
     "name": "stdout",
     "output_type": "stream",
     "text": [
      "The best roc_auc_score for the study is:  0.7955937625052967\n"
     ]
    }
   ],
   "source": [
    "print('The best roc_auc_score for the study is: ', best_study_score)"
   ]
  },
  {
   "cell_type": "code",
   "execution_count": 48,
   "metadata": {},
   "outputs": [
    {
     "name": "stdout",
     "output_type": "stream",
     "text": [
      "('The best study parameters for the classifier are: ', {'max_depth': 10, 'n_estimators': 1880, 'class_weight': {0: 1.0, 1: 12}, 'min_samples_leaf': 8.519138749443575e-05})\n"
     ]
    }
   ],
   "source": [
    "print('The best study parameters for the classifier are: ', best_study_params)"
   ]
  },
  {
   "cell_type": "markdown",
   "metadata": {},
   "source": [
    "#### Computing the  reduced feature roc_auc score for the test data using the best study Parameters"
   ]
  },
  {
   "cell_type": "code",
   "execution_count": 49,
   "metadata": {},
   "outputs": [],
   "source": [
    "# Obtaining the best reduced feature Extra Trees model by setting best study parameters.\n",
    "extr_R = ext_s.set_params(**best_study_params)"
   ]
  },
  {
   "cell_type": "code",
   "execution_count": 50,
   "metadata": {},
   "outputs": [
    {
     "data": {
      "text/plain": [
       "ExtraTreesClassifier(class_weight={0: 1.0, 1: 12}, max_depth=10,\n",
       "                     min_samples_leaf=8.519138749443575e-05, n_estimators=1880,\n",
       "                     n_jobs=5, random_state=42)"
      ]
     },
     "execution_count": 50,
     "metadata": {},
     "output_type": "execute_result"
    }
   ],
   "source": [
    "# fitting the best Extra Trees model on the reduced feature training set\n",
    "extr_R.fit(X_train_red, y_train)"
   ]
  },
  {
   "cell_type": "code",
   "execution_count": 51,
   "metadata": {},
   "outputs": [
    {
     "name": "stdout",
     "output_type": "stream",
     "text": [
      "The roc_auc_score for the reduced feature training set using the best Extra Trees classifier is  0.8384501171715599\n"
     ]
    }
   ],
   "source": [
    "# Calculating the reduced feature training set roc_auc score using the best study parameters\n",
    "cal_roc_auc(X_train_red, y_train, extr_R, 'reduced feature', 'training', 'Extra Trees')"
   ]
  },
  {
   "cell_type": "code",
   "execution_count": 53,
   "metadata": {},
   "outputs": [
    {
     "name": "stdout",
     "output_type": "stream",
     "text": [
      "The roc_auc_score for the reduced feature test set using the best Extra Trees classifier is  0.8092702633378932\n"
     ]
    }
   ],
   "source": [
    "# Calculating the reduced feature test set roc_auc score using the best study parameters\n",
    "cal_roc_auc(X_test_red, y_test, extr_R, 'reduced feature', 'test', 'Extra Trees')"
   ]
  },
  {
   "cell_type": "code",
   "execution_count": 54,
   "metadata": {},
   "outputs": [
    {
     "data": {
      "text/plain": [
       "['Extra_Trees_Reduced.joblib']"
      ]
     },
     "execution_count": 54,
     "metadata": {},
     "output_type": "execute_result"
    }
   ],
   "source": [
    "# Saving the reduced feature set best Extra Trees Classifier  \n",
    "joblib.dump(extr_R, 'Extra_Trees_Reduced.joblib')"
   ]
  },
  {
   "cell_type": "markdown",
   "metadata": {},
   "source": [
    "## Observations:\n",
    "### 1) From the above analysis, we can clearly see that Extra Trees classifier did a good job in reducing overfitting to a large extent, probably by reducing test set variance.\n",
    "### 2) Though overfitting was reduced, test set roc_auc score also suffered, probably due to corresponding increase in test set bias, which undermined any corresponding decrease in variance."
   ]
  },
  {
   "cell_type": "markdown",
   "metadata": {},
   "source": [
    "### Trying bias reduction in Extra Trees by further further tuning  class weight parameter & n_estimators."
   ]
  },
  {
   "cell_type": "code",
   "execution_count": 70,
   "metadata": {},
   "outputs": [],
   "source": [
    "# Defing the new class weights\n",
    "cl_weight_extra = ['balanced',{0:1.0,1:10},{0:1.0,1:12},{0:1.0,1:13},{0:1.0,1:14},{0:1.0,1:15},{0:1.0,1:16},\n",
    "                  {0:1.0,1:17},{0:1.0,1:18},{0:1.0,1:19},{0:1.0,1:20}]"
   ]
  },
  {
   "cell_type": "code",
   "execution_count": 71,
   "metadata": {},
   "outputs": [],
   "source": [
    "# Defining the appropriate objective function for the Extra Trees classifier\n",
    "def objective_wrappper_ext_1(X_tr, y_tr, cls=None, cv_strat=None):\n",
    "    '''\n",
    "    Optimizes Extra Trees parameters on the given training set X_tr,y_tr\n",
    "    using cv_strat cross-validation object\n",
    "    \n",
    "    '''\n",
    "    \n",
    "    def objective(trial):\n",
    "        params = {\n",
    "        'max_depth': trial.suggest_categorical('max_depth',list(range(5,50))+ [None]),\n",
    "        'n_estimators':trial.suggest_int('n_estimators',1500,2000,10),\n",
    "        'class_weight':trial.suggest_categorical('class_weight',cl_weight_extra),\n",
    "        'min_samples_leaf':trial.suggest_loguniform('min_samples_leaf',.00001,.1)\n",
    "          }\n",
    "        \n",
    "        cls.set_params(**params)#Initializing the model with the parameters \n",
    "    \n",
    "        return np.mean(cross_val_score(cls, X_tr, y_tr, cv=cv_strat, n_jobs=5, scoring='roc_auc'))  \n",
    "    return objective"
   ]
  },
  {
   "cell_type": "code",
   "execution_count": 72,
   "metadata": {},
   "outputs": [
    {
     "name": "stderr",
     "output_type": "stream",
     "text": [
      "[I 2020-10-02 00:33:58,065] A new study created in memory with name: no-name-e401365a-c15f-4f96-9c00-d3804b428448\n",
      "[I 2020-10-02 00:34:35,032] Trial 0 finished with value: 0.7879921196780325 and parameters: {'max_depth': 19, 'n_estimators': 1700, 'class_weight': {0: 1.0, 1: 17}, 'min_samples_leaf': 0.008256442099799309}. Best is trial 0 with value: 0.7879921196780325.\n",
      "[I 2020-10-02 00:35:07,187] Trial 1 finished with value: 0.7843989815015627 and parameters: {'max_depth': 30, 'n_estimators': 1790, 'class_weight': {0: 1.0, 1: 18}, 'min_samples_leaf': 0.01785356641779981}. Best is trial 0 with value: 0.7879921196780325.\n",
      "[I 2020-10-02 00:35:55,125] Trial 2 finished with value: 0.7907049728470049 and parameters: {'max_depth': 33, 'n_estimators': 1810, 'class_weight': {0: 1.0, 1: 16}, 'min_samples_leaf': 0.0035453057509942294}. Best is trial 2 with value: 0.7907049728470049.\n",
      "[I 2020-10-02 00:36:34,402] Trial 3 finished with value: 0.7891285961949535 and parameters: {'max_depth': 21, 'n_estimators': 1620, 'class_weight': {0: 1.0, 1: 16}, 'min_samples_leaf': 0.005775035143415132}. Best is trial 2 with value: 0.7907049728470049.\n",
      "[I 2020-10-02 00:37:15,904] Trial 4 finished with value: 0.7885023559562911 and parameters: {'max_depth': 34, 'n_estimators': 1790, 'class_weight': {0: 1.0, 1: 20}, 'min_samples_leaf': 0.006769709219172715}. Best is trial 2 with value: 0.7907049728470049.\n",
      "[I 2020-10-02 00:37:35,590] Trial 5 finished with value: 0.7761259409414022 and parameters: {'max_depth': 47, 'n_estimators': 1610, 'class_weight': {0: 1.0, 1: 15}, 'min_samples_leaf': 0.05567195236126517}. Best is trial 2 with value: 0.7907049728470049.\n",
      "[I 2020-10-02 00:39:07,672] Trial 6 finished with value: 0.7432197217325301 and parameters: {'max_depth': 34, 'n_estimators': 1810, 'class_weight': {0: 1.0, 1: 18}, 'min_samples_leaf': 3.18825638179425e-05}. Best is trial 2 with value: 0.7907049728470049.\n",
      "[I 2020-10-02 00:40:15,993] Trial 7 finished with value: 0.7664796538220063 and parameters: {'max_depth': 14, 'n_estimators': 1820, 'class_weight': {0: 1.0, 1: 19}, 'min_samples_leaf': 2.6786542774860895e-05}. Best is trial 2 with value: 0.7907049728470049.\n",
      "[I 2020-10-02 00:40:57,505] Trial 8 finished with value: 0.7887769982982652 and parameters: {'max_depth': 28, 'n_estimators': 1710, 'class_weight': {0: 1.0, 1: 18}, 'min_samples_leaf': 0.006223033971585921}. Best is trial 2 with value: 0.7907049728470049.\n",
      "[I 2020-10-02 00:41:19,108] Trial 9 finished with value: 0.7757846531853543 and parameters: {'max_depth': 16, 'n_estimators': 1740, 'class_weight': {0: 1.0, 1: 15}, 'min_samples_leaf': 0.057560231339484076}. Best is trial 2 with value: 0.7907049728470049.\n",
      "[I 2020-10-02 00:42:35,673] Trial 10 finished with value: 0.7911973931687969 and parameters: {'max_depth': 33, 'n_estimators': 1980, 'class_weight': {0: 1.0, 1: 16}, 'min_samples_leaf': 0.00034854150405775567}. Best is trial 10 with value: 0.7911973931687969.\n",
      "[I 2020-10-02 00:43:52,327] Trial 11 finished with value: 0.7912159917600009 and parameters: {'max_depth': 33, 'n_estimators': 2000, 'class_weight': {0: 1.0, 1: 16}, 'min_samples_leaf': 0.0003639668773325632}. Best is trial 11 with value: 0.7912159917600009.\n",
      "[I 2020-10-02 00:45:07,454] Trial 12 finished with value: 0.7900560505262032 and parameters: {'max_depth': 33, 'n_estimators': 1980, 'class_weight': {0: 1.0, 1: 16}, 'min_samples_leaf': 0.00024274361251831476}. Best is trial 11 with value: 0.7912159917600009.\n",
      "[I 2020-10-02 00:46:23,454] Trial 13 finished with value: 0.7905957567489895 and parameters: {'max_depth': 33, 'n_estimators': 2000, 'class_weight': {0: 1.0, 1: 12}, 'min_samples_leaf': 0.0002964437169333225}. Best is trial 11 with value: 0.7912159917600009.\n",
      "[I 2020-10-02 00:47:26,970] Trial 14 finished with value: 0.7932295599446894 and parameters: {'max_depth': 45, 'n_estimators': 1910, 'class_weight': {0: 1.0, 1: 14}, 'min_samples_leaf': 0.0007496488055956176}. Best is trial 14 with value: 0.7932295599446894.\n",
      "[I 2020-10-02 00:48:28,749] Trial 15 finished with value: 0.7935561494300412 and parameters: {'max_depth': 20, 'n_estimators': 1900, 'class_weight': {0: 1.0, 1: 14}, 'min_samples_leaf': 0.0009796749697453858}. Best is trial 15 with value: 0.7935561494300412.\n",
      "[I 2020-10-02 00:49:28,202] Trial 16 finished with value: 0.7933604963358948 and parameters: {'max_depth': 20, 'n_estimators': 1890, 'class_weight': {0: 1.0, 1: 14}, 'min_samples_leaf': 0.0012305987138477878}. Best is trial 15 with value: 0.7935561494300412.\n",
      "[I 2020-10-02 00:50:46,655] Trial 17 finished with value: 0.7820818955442265 and parameters: {'max_depth': 22, 'n_estimators': 1900, 'class_weight': {0: 1.0, 1: 14}, 'min_samples_leaf': 9.070458035248591e-05}. Best is trial 15 with value: 0.7935561494300412.\n",
      "[I 2020-10-02 00:51:44,124] Trial 18 finished with value: 0.7930740286999439 and parameters: {'max_depth': 27, 'n_estimators': 1900, 'class_weight': {0: 1.0, 1: 14}, 'min_samples_leaf': 0.0015884657353978586}. Best is trial 15 with value: 0.7935561494300412.\n",
      "[I 2020-10-02 00:53:00,265] Trial 19 finished with value: 0.7874154346659871 and parameters: {'max_depth': 20, 'n_estimators': 1860, 'class_weight': {0: 1.0, 1: 10}, 'min_samples_leaf': 0.00010971531390043795}. Best is trial 15 with value: 0.7935561494300412.\n",
      "[I 2020-10-02 00:53:45,000] Trial 20 finished with value: 0.7928908154126425 and parameters: {'max_depth': 20, 'n_estimators': 1500, 'class_weight': {0: 1.0, 1: 13}, 'min_samples_leaf': 0.0017029149030898308}. Best is trial 15 with value: 0.7935561494300412.\n",
      "[I 2020-10-02 00:54:49,920] Trial 21 finished with value: 0.7933174489106934 and parameters: {'max_depth': 45, 'n_estimators': 1930, 'class_weight': {0: 1.0, 1: 14}, 'min_samples_leaf': 0.0007985915760108439}. Best is trial 15 with value: 0.7935561494300412.\n",
      "[I 2020-10-02 00:55:54,514] Trial 22 finished with value: 0.7933547635540564 and parameters: {'max_depth': 20, 'n_estimators': 1940, 'class_weight': {0: 1.0, 1: 14}, 'min_samples_leaf': 0.00075303446193809}. Best is trial 15 with value: 0.7935561494300412.\n",
      "[I 2020-10-02 00:56:51,031] Trial 23 finished with value: 0.7930824004281044 and parameters: {'max_depth': 20, 'n_estimators': 1860, 'class_weight': 'balanced', 'min_samples_leaf': 0.0015667685849539105}. Best is trial 15 with value: 0.7935561494300412.\n",
      "[I 2020-10-02 00:57:46,244] Trial 24 finished with value: 0.7917210536907995 and parameters: {'max_depth': 20, 'n_estimators': 1950, 'class_weight': {0: 1.0, 1: 14}, 'min_samples_leaf': 0.002498684738890045}. Best is trial 15 with value: 0.7935561494300412.\n",
      "[I 2020-10-02 00:58:48,936] Trial 25 finished with value: 0.7934846440951081 and parameters: {'max_depth': 41, 'n_estimators': 1870, 'class_weight': {0: 1.0, 1: 14}, 'min_samples_leaf': 0.0009116050782803873}. Best is trial 15 with value: 0.7935561494300412.\n",
      "[I 2020-10-02 01:00:05,858] Trial 26 finished with value: 0.7855212573975471 and parameters: {'max_depth': 41, 'n_estimators': 1860, 'class_weight': {0: 1.0, 1: 14}, 'min_samples_leaf': 0.00012083000192576778}. Best is trial 15 with value: 0.7935561494300412.\n",
      "[I 2020-10-02 01:00:42,498] Trial 27 finished with value: 0.786199713001481 and parameters: {'max_depth': 25, 'n_estimators': 1870, 'class_weight': {0: 1.0, 1: 12}, 'min_samples_leaf': 0.013652049504099824}. Best is trial 15 with value: 0.7935561494300412.\n",
      "[I 2020-10-02 01:02:11,280] Trial 28 finished with value: 0.7438560652981762 and parameters: {'max_depth': 35, 'n_estimators': 1760, 'class_weight': {0: 1.0, 1: 14}, 'min_samples_leaf': 1.123652349638113e-05}. Best is trial 15 with value: 0.7935561494300412.\n",
      "[I 2020-10-02 01:02:44,577] Trial 29 finished with value: 0.7912220134730074 and parameters: {'max_depth': 6, 'n_estimators': 1960, 'class_weight': {0: 1.0, 1: 17}, 'min_samples_leaf': 0.0006023443542957429}. Best is trial 15 with value: 0.7935561494300412.\n",
      "[I 2020-10-02 01:03:34,486] Trial 30 finished with value: 0.7910111000648387 and parameters: {'max_depth': 41, 'n_estimators': 1890, 'class_weight': 'balanced', 'min_samples_leaf': 0.003553917831141964}. Best is trial 15 with value: 0.7935561494300412.\n",
      "[I 2020-10-02 01:04:37,249] Trial 31 finished with value: 0.7934258710552528 and parameters: {'max_depth': 32, 'n_estimators': 1930, 'class_weight': {0: 1.0, 1: 14}, 'min_samples_leaf': 0.00112465792438734}. Best is trial 15 with value: 0.7935561494300412.\n",
      "[I 2020-10-02 01:05:32,765] Trial 32 finished with value: 0.7936259962318749 and parameters: {'max_depth': 15, 'n_estimators': 1830, 'class_weight': {0: 1.0, 1: 14}, 'min_samples_leaf': 0.0013785036062637151}. Best is trial 32 with value: 0.7936259962318749.\n",
      "[I 2020-10-02 01:06:23,190] Trial 33 finished with value: 0.7912380686152127 and parameters: {'max_depth': 32, 'n_estimators': 1840, 'class_weight': {0: 1.0, 1: 14}, 'min_samples_leaf': 0.0029467319258836494}. Best is trial 32 with value: 0.7936259962318749.\n",
      "[I 2020-10-02 01:06:57,357] Trial 34 finished with value: 0.7858615123137271 and parameters: {'max_depth': 17, 'n_estimators': 1770, 'class_weight': {0: 1.0, 1: 13}, 'min_samples_leaf': 0.01412002925579031}. Best is trial 32 with value: 0.7936259962318749.\n",
      "[I 2020-10-02 01:08:01,361] Trial 35 finished with value: 0.7937204324784896 and parameters: {'max_depth': 15, 'n_estimators': 1930, 'class_weight': {0: 1.0, 1: 19}, 'min_samples_leaf': 0.0005204700754180762}. Best is trial 35 with value: 0.7937204324784896.\n",
      "[I 2020-10-02 01:09:07,045] Trial 36 finished with value: 0.7915768245880568 and parameters: {'max_depth': 15, 'n_estimators': 1830, 'class_weight': {0: 1.0, 1: 19}, 'min_samples_leaf': 0.0001981969607583969}. Best is trial 35 with value: 0.7937204324784896.\n",
      "[I 2020-10-02 01:10:06,895] Trial 37 finished with value: 0.793755251953405 and parameters: {'max_depth': 15, 'n_estimators': 1790, 'class_weight': {0: 1.0, 1: 19}, 'min_samples_leaf': 0.0004970148577654222}. Best is trial 37 with value: 0.793755251953405.\n",
      "[I 2020-10-02 01:11:10,735] Trial 38 finished with value: 0.7796313361237658 and parameters: {'max_depth': 15, 'n_estimators': 1670, 'class_weight': {0: 1.0, 1: 19}, 'min_samples_leaf': 5.3678852976526606e-05}. Best is trial 37 with value: 0.793755251953405.\n",
      "[I 2020-10-02 01:12:10,939] Trial 39 finished with value: 0.7937406923027638 and parameters: {'max_depth': 15, 'n_estimators': 1800, 'class_weight': {0: 1.0, 1: 19}, 'min_samples_leaf': 0.0004832335034389386}. Best is trial 37 with value: 0.793755251953405.\n",
      "[I 2020-10-02 01:13:10,408] Trial 40 finished with value: 0.7937081068441079 and parameters: {'max_depth': 15, 'n_estimators': 1790, 'class_weight': {0: 1.0, 1: 19}, 'min_samples_leaf': 0.0005287950442016902}. Best is trial 37 with value: 0.793755251953405.\n",
      "[I 2020-10-02 01:14:10,298] Trial 41 finished with value: 0.7937164842060251 and parameters: {'max_depth': 15, 'n_estimators': 1800, 'class_weight': {0: 1.0, 1: 19}, 'min_samples_leaf': 0.0005225049699519601}. Best is trial 37 with value: 0.793755251953405.\n",
      "[I 2020-10-02 01:15:14,860] Trial 42 finished with value: 0.7915666951086204 and parameters: {'max_depth': 15, 'n_estimators': 1790, 'class_weight': {0: 1.0, 1: 19}, 'min_samples_leaf': 0.00019843347273440913}. Best is trial 37 with value: 0.793755251953405.\n",
      "[I 2020-10-02 01:16:14,999] Trial 43 finished with value: 0.7929745751163836 and parameters: {'max_depth': 15, 'n_estimators': 1710, 'class_weight': {0: 1.0, 1: 19}, 'min_samples_leaf': 0.000277715469827392}. Best is trial 37 with value: 0.793755251953405.\n",
      "[I 2020-10-02 01:17:18,218] Trial 44 finished with value: 0.7926709193203402 and parameters: {'max_depth': 18, 'n_estimators': 1790, 'class_weight': {0: 1.0, 1: 19}, 'min_samples_leaf': 0.000503534993809556}. Best is trial 37 with value: 0.793755251953405.\n",
      "[I 2020-10-02 01:18:07,876] Trial 45 finished with value: 0.7955834138544604 and parameters: {'max_depth': 11, 'n_estimators': 1730, 'class_weight': {0: 1.0, 1: 19}, 'min_samples_leaf': 0.0004613467147975279}. Best is trial 45 with value: 0.7955834138544604.\n",
      "[I 2020-10-02 01:18:57,233] Trial 46 finished with value: 0.7953945406606359 and parameters: {'max_depth': 11, 'n_estimators': 1670, 'class_weight': {0: 1.0, 1: 19}, 'min_samples_leaf': 0.00015496894219299673}. Best is trial 45 with value: 0.7955834138544604.\n",
      "[I 2020-10-02 01:20:03,469] Trial 47 finished with value: 0.7862983174281613 and parameters: {'max_depth': 40, 'n_estimators': 1630, 'class_weight': {0: 1.0, 1: 20}, 'min_samples_leaf': 0.00013906338933968794}. Best is trial 45 with value: 0.7955834138544604.\n",
      "[I 2020-10-02 01:20:53,705] Trial 48 finished with value: 0.7923112507424496 and parameters: {'max_depth': 11, 'n_estimators': 1690, 'class_weight': {0: 1.0, 1: 19}, 'min_samples_leaf': 4.808632930519343e-05}. Best is trial 45 with value: 0.7955834138544604.\n",
      "[I 2020-10-02 01:21:44,985] Trial 49 finished with value: 0.7941188175975615 and parameters: {'max_depth': 11, 'n_estimators': 1730, 'class_weight': {0: 1.0, 1: 19}, 'min_samples_leaf': 7.285899622345311e-05}. Best is trial 45 with value: 0.7955834138544604.\n",
      "[I 2020-10-02 01:22:36,500] Trial 50 finished with value: 0.7941129228903593 and parameters: {'max_depth': 11, 'n_estimators': 1740, 'class_weight': {0: 1.0, 1: 19}, 'min_samples_leaf': 7.377515461479149e-05}. Best is trial 45 with value: 0.7955834138544604.\n",
      "[I 2020-10-02 01:23:29,015] Trial 51 finished with value: 0.7871777281809491 and parameters: {'max_depth': 11, 'n_estimators': 1730, 'class_weight': {0: 1.0, 1: 19}, 'min_samples_leaf': 1.5857881886649648e-05}. Best is trial 45 with value: 0.7955834138544604.\n",
      "[I 2020-10-02 01:24:18,115] Trial 52 finished with value: 0.7941075221975179 and parameters: {'max_depth': 11, 'n_estimators': 1660, 'class_weight': {0: 1.0, 1: 19}, 'min_samples_leaf': 7.02307211412749e-05}. Best is trial 45 with value: 0.7955834138544604.\n",
      "[I 2020-10-02 01:25:08,321] Trial 53 finished with value: 0.7946632486780475 and parameters: {'max_depth': 11, 'n_estimators': 1650, 'class_weight': {0: 1.0, 1: 15}, 'min_samples_leaf': 6.803214445896724e-05}. Best is trial 45 with value: 0.7955834138544604.\n",
      "[I 2020-10-02 01:25:58,306] Trial 54 finished with value: 0.7936171114937574 and parameters: {'max_depth': 11, 'n_estimators': 1640, 'class_weight': {0: 1.0, 1: 15}, 'min_samples_leaf': 5.8957783263175786e-05}. Best is trial 45 with value: 0.7955834138544604.\n",
      "[I 2020-10-02 01:26:47,772] Trial 55 finished with value: 0.7897309668041409 and parameters: {'max_depth': 11, 'n_estimators': 1580, 'class_weight': {0: 1.0, 1: 15}, 'min_samples_leaf': 2.975563489821343e-05}. Best is trial 45 with value: 0.7955834138544604.\n",
      "[I 2020-10-02 01:27:35,935] Trial 56 finished with value: 0.7942626420822203 and parameters: {'max_depth': 11, 'n_estimators': 1590, 'class_weight': {0: 1.0, 1: 18}, 'min_samples_leaf': 7.620995503239704e-05}. Best is trial 45 with value: 0.7955834138544604.\n",
      "[I 2020-10-02 01:28:23,065] Trial 57 finished with value: 0.792574541251523 and parameters: {'max_depth': 11, 'n_estimators': 1580, 'class_weight': {0: 1.0, 1: 18}, 'min_samples_leaf': 3.879836753369213e-05}. Best is trial 45 with value: 0.7955834138544604.\n",
      "[I 2020-10-02 01:29:44,593] Trial 58 finished with value: 0.7427786702717953 and parameters: {'max_depth': 36, 'n_estimators': 1600, 'class_weight': {0: 1.0, 1: 18}, 'min_samples_leaf': 2.1247741129194004e-05}. Best is trial 45 with value: 0.7955834138544604.\n",
      "[I 2020-10-02 01:30:48,500] Trial 59 finished with value: 0.7834159417855645 and parameters: {'max_depth': 24, 'n_estimators': 1530, 'class_weight': {0: 1.0, 1: 10}, 'min_samples_leaf': 7.831601807134572e-05}. Best is trial 45 with value: 0.7955834138544604.\n",
      "[I 2020-10-02 01:31:37,954] Trial 60 finished with value: 0.7956730841106945 and parameters: {'max_depth': 11, 'n_estimators': 1690, 'class_weight': {0: 1.0, 1: 15}, 'min_samples_leaf': 0.00015714109169579347}. Best is trial 60 with value: 0.7956730841106945.\n",
      "[I 2020-10-02 01:32:28,609] Trial 61 finished with value: 0.7956647941716201 and parameters: {'max_depth': 11, 'n_estimators': 1730, 'class_weight': {0: 1.0, 1: 15}, 'min_samples_leaf': 0.0001512105029093057}. Best is trial 60 with value: 0.7956730841106945.\n"
     ]
    },
    {
     "name": "stderr",
     "output_type": "stream",
     "text": [
      "[I 2020-10-02 01:33:37,296] Trial 62 finished with value: 0.7872814283932863 and parameters: {'max_depth': 42, 'n_estimators': 1690, 'class_weight': {0: 1.0, 1: 15}, 'min_samples_leaf': 0.0001512437613727551}. Best is trial 60 with value: 0.7956730841106945.\n",
      "[I 2020-10-02 01:34:28,313] Trial 63 finished with value: 0.7946457346424182 and parameters: {'max_depth': 11, 'n_estimators': 1720, 'class_weight': {0: 1.0, 1: 15}, 'min_samples_leaf': 9.932073753735719e-05}. Best is trial 60 with value: 0.7956730841106945.\n",
      "[I 2020-10-02 01:35:05,252] Trial 64 finished with value: 0.7946195976480379 and parameters: {'max_depth': 8, 'n_estimators': 1660, 'class_weight': {0: 1.0, 1: 15}, 'min_samples_leaf': 0.00010164324725984903}. Best is trial 60 with value: 0.7956730841106945.\n",
      "[I 2020-10-02 01:35:42,339] Trial 65 finished with value: 0.7946195976480379 and parameters: {'max_depth': 8, 'n_estimators': 1660, 'class_weight': {0: 1.0, 1: 15}, 'min_samples_leaf': 0.00010931423401279901}. Best is trial 60 with value: 0.7956730841106945.\n",
      "[I 2020-10-02 01:36:19,560] Trial 66 finished with value: 0.7947716143463441 and parameters: {'max_depth': 8, 'n_estimators': 1680, 'class_weight': {0: 1.0, 1: 15}, 'min_samples_leaf': 0.00021222302816346076}. Best is trial 60 with value: 0.7956730841106945.\n",
      "[I 2020-10-02 01:37:07,550] Trial 67 finished with value: 0.7960004018398603 and parameters: {'max_depth': 10, 'n_estimators': 1710, 'class_weight': {0: 1.0, 1: 15}, 'min_samples_leaf': 0.00019846961329659317}. Best is trial 67 with value: 0.7960004018398603.\n",
      "[I 2020-10-02 01:37:54,213] Trial 68 finished with value: 0.7959323552545051 and parameters: {'max_depth': 10, 'n_estimators': 1700, 'class_weight': {0: 1.0, 1: 15}, 'min_samples_leaf': 0.0003176429418196663}. Best is trial 67 with value: 0.7960004018398603.\n",
      "[I 2020-10-02 01:38:39,858] Trial 69 finished with value: 0.7959292251584299 and parameters: {'max_depth': 10, 'n_estimators': 1680, 'class_weight': {0: 1.0, 1: 15}, 'min_samples_leaf': 0.00031940655660932146}. Best is trial 67 with value: 0.7960004018398603.\n",
      "[I 2020-10-02 01:39:26,623] Trial 70 finished with value: 0.7958795257997405 and parameters: {'max_depth': 10, 'n_estimators': 1700, 'class_weight': {0: 1.0, 1: 15}, 'min_samples_leaf': 0.00029523702650215703}. Best is trial 67 with value: 0.7960004018398603.\n",
      "[I 2020-10-02 01:40:12,267] Trial 71 finished with value: 0.7956979421670032 and parameters: {'max_depth': 10, 'n_estimators': 1700, 'class_weight': {0: 1.0, 1: 15}, 'min_samples_leaf': 0.00034181104710725405}. Best is trial 67 with value: 0.7960004018398603.\n",
      "[I 2020-10-02 01:40:58,123] Trial 72 finished with value: 0.7956979421670032 and parameters: {'max_depth': 10, 'n_estimators': 1700, 'class_weight': {0: 1.0, 1: 15}, 'min_samples_leaf': 0.00033848820725345676}. Best is trial 67 with value: 0.7960004018398603.\n",
      "[I 2020-10-02 01:41:43,766] Trial 73 finished with value: 0.7959323552545051 and parameters: {'max_depth': 10, 'n_estimators': 1700, 'class_weight': {0: 1.0, 1: 15}, 'min_samples_leaf': 0.00031581267919680964}. Best is trial 67 with value: 0.7960004018398603.\n",
      "[I 2020-10-02 01:42:29,672] Trial 74 finished with value: 0.7957460145278634 and parameters: {'max_depth': 10, 'n_estimators': 1700, 'class_weight': {0: 1.0, 1: 15}, 'min_samples_leaf': 0.0003844760296826569}. Best is trial 67 with value: 0.7960004018398603.\n",
      "[I 2020-10-02 01:43:17,795] Trial 75 finished with value: 0.7956978426285397 and parameters: {'max_depth': 10, 'n_estimators': 1710, 'class_weight': {0: 1.0, 1: 15}, 'min_samples_leaf': 0.000337850546854105}. Best is trial 67 with value: 0.7960004018398603.\n",
      "[I 2020-10-02 01:44:06,344] Trial 76 finished with value: 0.795988314640878 and parameters: {'max_depth': 10, 'n_estimators': 1760, 'class_weight': {0: 1.0, 1: 15}, 'min_samples_leaf': 0.0002682856983771642}. Best is trial 67 with value: 0.7960004018398603.\n",
      "[I 2020-10-02 01:44:55,626] Trial 77 finished with value: 0.7959856437267544 and parameters: {'max_depth': 10, 'n_estimators': 1770, 'class_weight': {0: 1.0, 1: 15}, 'min_samples_leaf': 0.00025316173273048844}. Best is trial 67 with value: 0.7960004018398603.\n",
      "[I 2020-10-02 01:45:43,547] Trial 78 finished with value: 0.7958940718203087 and parameters: {'max_depth': 10, 'n_estimators': 1760, 'class_weight': {0: 1.0, 1: 15}, 'min_samples_leaf': 0.0002775912950055365}. Best is trial 67 with value: 0.7960004018398603.\n",
      "[I 2020-10-02 01:46:32,095] Trial 79 finished with value: 0.7959856437267544 and parameters: {'max_depth': 10, 'n_estimators': 1770, 'class_weight': {0: 1.0, 1: 15}, 'min_samples_leaf': 0.0002681263416310828}. Best is trial 67 with value: 0.7960004018398603.\n",
      "[I 2020-10-02 01:47:20,034] Trial 80 finished with value: 0.7959330074728681 and parameters: {'max_depth': 10, 'n_estimators': 1770, 'class_weight': {0: 1.0, 1: 17}, 'min_samples_leaf': 0.0002438576138524513}. Best is trial 67 with value: 0.7960004018398603.\n",
      "[I 2020-10-02 01:48:08,924] Trial 81 finished with value: 0.7960527015478644 and parameters: {'max_depth': 10, 'n_estimators': 1760, 'class_weight': {0: 1.0, 1: 17}, 'min_samples_leaf': 0.00022883489615884475}. Best is trial 81 with value: 0.7960527015478644.\n",
      "[I 2020-10-02 01:48:56,596] Trial 82 finished with value: 0.795049970843913 and parameters: {'max_depth': 10, 'n_estimators': 1750, 'class_weight': {0: 1.0, 1: 17}, 'min_samples_leaf': 0.0007070380733928839}. Best is trial 81 with value: 0.7960527015478644.\n",
      "[I 2020-10-02 01:49:45,549] Trial 83 finished with value: 0.7960378638351178 and parameters: {'max_depth': 10, 'n_estimators': 1770, 'class_weight': {0: 1.0, 1: 17}, 'min_samples_leaf': 0.0002345126169090383}. Best is trial 81 with value: 0.7960527015478644.\n",
      "[I 2020-10-02 01:50:34,107] Trial 84 finished with value: 0.7959733992410551 and parameters: {'max_depth': 10, 'n_estimators': 1770, 'class_weight': {0: 1.0, 1: 16}, 'min_samples_leaf': 0.00024421299264349995}. Best is trial 81 with value: 0.7960527015478644.\n",
      "[I 2020-10-02 01:50:52,785] Trial 85 finished with value: 0.7716439354555978 and parameters: {'max_depth': 10, 'n_estimators': 1770, 'class_weight': {0: 1.0, 1: 17}, 'min_samples_leaf': 0.09356022853514841}. Best is trial 81 with value: 0.7960527015478644.\n",
      "[I 2020-10-02 01:52:03,940] Trial 86 finished with value: 0.7891869725526802 and parameters: {'max_depth': 46, 'n_estimators': 1770, 'class_weight': {0: 1.0, 1: 17}, 'min_samples_leaf': 0.00023244325830884625}. Best is trial 81 with value: 0.7960527015478644.\n",
      "[I 2020-10-02 01:52:48,889] Trial 87 finished with value: 0.7956311527932933 and parameters: {'max_depth': 9, 'n_estimators': 1810, 'class_weight': {0: 1.0, 1: 16}, 'min_samples_leaf': 0.0001887362584078643}. Best is trial 81 with value: 0.7960527015478644.\n",
      "[I 2020-10-02 01:53:24,514] Trial 88 finished with value: 0.7933776221262118 and parameters: {'max_depth': 7, 'n_estimators': 1750, 'class_weight': {0: 1.0, 1: 17}, 'min_samples_leaf': 0.0004157641597839389}. Best is trial 81 with value: 0.7960527015478644.\n",
      "[I 2020-10-02 01:54:33,733] Trial 89 finished with value: 0.7893042326863833 and parameters: {'max_depth': 26, 'n_estimators': 1760, 'class_weight': {0: 1.0, 1: 16}, 'min_samples_leaf': 0.0002349402270964553}. Best is trial 81 with value: 0.7960527015478644.\n",
      "[I 2020-10-02 01:55:36,970] Trial 90 finished with value: 0.7929996401854049 and parameters: {'max_depth': 39, 'n_estimators': 1780, 'class_weight': {0: 1.0, 1: 17}, 'min_samples_leaf': 0.0006390447498500403}. Best is trial 81 with value: 0.7960527015478644.\n",
      "[I 2020-10-02 01:56:25,220] Trial 91 finished with value: 0.7959198963655918 and parameters: {'max_depth': 10, 'n_estimators': 1740, 'class_weight': {0: 1.0, 1: 17}, 'min_samples_leaf': 0.00017749459202829105}. Best is trial 81 with value: 0.7960527015478644.\n",
      "[I 2020-10-02 01:57:15,546] Trial 92 finished with value: 0.795879621262136 and parameters: {'max_depth': 10, 'n_estimators': 1780, 'class_weight': {0: 1.0, 1: 12}, 'min_samples_leaf': 0.00012399033247046057}. Best is trial 81 with value: 0.7960527015478644.\n",
      "[I 2020-10-02 01:58:16,671] Trial 93 finished with value: 0.7936225231946954 and parameters: {'max_depth': 48, 'n_estimators': 1820, 'class_weight': {0: 1.0, 1: 16}, 'min_samples_leaf': 0.0008759456036568051}. Best is trial 81 with value: 0.7960527015478644.\n",
      "[I 2020-10-02 01:59:23,502] Trial 94 finished with value: 0.7900113545373141 and parameters: {'max_depth': 37, 'n_estimators': 1750, 'class_weight': {0: 1.0, 1: 17}, 'min_samples_leaf': 0.00026112222187399376}. Best is trial 81 with value: 0.7960527015478644.\n",
      "[I 2020-10-02 02:00:31,297] Trial 95 finished with value: 0.7891754404653347 and parameters: {'max_depth': 23, 'n_estimators': 1720, 'class_weight': {0: 1.0, 1: 20}, 'min_samples_leaf': 0.00022791391209333052}. Best is trial 81 with value: 0.7960527015478644.\n",
      "[I 2020-10-02 02:01:45,218] Trial 96 finished with value: 0.7870123083330598 and parameters: {'max_depth': None, 'n_estimators': 1800, 'class_weight': 'balanced', 'min_samples_leaf': 0.00012835110794493307}. Best is trial 81 with value: 0.7960527015478644.\n",
      "[I 2020-10-02 02:02:50,457] Trial 97 finished with value: 0.7916612356964731 and parameters: {'max_depth': 29, 'n_estimators': 1780, 'class_weight': {0: 1.0, 1: 13}, 'min_samples_leaf': 0.0003901700719354429}. Best is trial 81 with value: 0.7960527015478644.\n",
      "[I 2020-10-02 02:03:59,485] Trial 98 finished with value: 0.7883005710529125 and parameters: {'max_depth': 49, 'n_estimators': 1740, 'class_weight': {0: 1.0, 1: 17}, 'min_samples_leaf': 0.00019408285396189023}. Best is trial 81 with value: 0.7960527015478644.\n",
      "[I 2020-10-02 02:05:01,546] Trial 99 finished with value: 0.7919900171223464 and parameters: {'max_depth': 43, 'n_estimators': 1720, 'class_weight': {0: 1.0, 1: 16}, 'min_samples_leaf': 0.00042684304568487715}. Best is trial 81 with value: 0.7960527015478644.\n"
     ]
    }
   ],
   "source": [
    "# Extracting the best model parameters and best study score\n",
    "best_study_score,best_study_params = train_test_roc_auc(X_train_red, y_train, ext_s, objective_wrappper_ext_1, cv_strat, n_trials=100)"
   ]
  },
  {
   "cell_type": "code",
   "execution_count": 73,
   "metadata": {},
   "outputs": [
    {
     "name": "stdout",
     "output_type": "stream",
     "text": [
      "The best roc_auc_score for the study is:  0.7960527015478644\n"
     ]
    }
   ],
   "source": [
    "print('The best roc_auc_score for the study is: ',best_study_score)"
   ]
  },
  {
   "cell_type": "code",
   "execution_count": 74,
   "metadata": {},
   "outputs": [
    {
     "name": "stdout",
     "output_type": "stream",
     "text": [
      "The best study parameters for the classifier are:  {'max_depth': 10, 'n_estimators': 1760, 'class_weight': {0: 1.0, 1: 17}, 'min_samples_leaf': 0.00022883489615884475}\n"
     ]
    }
   ],
   "source": [
    "print('The best study parameters for the classifier are: ', best_study_params)"
   ]
  },
  {
   "cell_type": "markdown",
   "metadata": {},
   "source": [
    "#### Computing the  reduced feature roc_auc score for the test data using the fine tuned best study Parameters"
   ]
  },
  {
   "cell_type": "code",
   "execution_count": 75,
   "metadata": {},
   "outputs": [],
   "source": [
    "# Obtaining the best reduced feature Extra Trees model by setting tuned best study parameters.\n",
    "extr_R_tu = ext_s.set_params(**best_study_params)"
   ]
  },
  {
   "cell_type": "code",
   "execution_count": 76,
   "metadata": {},
   "outputs": [
    {
     "data": {
      "text/plain": [
       "ExtraTreesClassifier(class_weight={0: 1.0, 1: 17}, max_depth=10,\n",
       "                     min_samples_leaf=0.00022883489615884475, n_estimators=1760,\n",
       "                     n_jobs=5, random_state=42)"
      ]
     },
     "execution_count": 76,
     "metadata": {},
     "output_type": "execute_result"
    }
   ],
   "source": [
    "# fitting the best tuned Extra Trees model on the reduced feature training set\n",
    "extr_R_tu.fit(X_train_red, y_train)"
   ]
  },
  {
   "cell_type": "code",
   "execution_count": 77,
   "metadata": {},
   "outputs": [
    {
     "name": "stdout",
     "output_type": "stream",
     "text": [
      "The roc_auc_score for the reduced feature training set using the best tuned Extra Trees classifier is  0.8341873714474077\n"
     ]
    }
   ],
   "source": [
    "# Calculating the reduced feature training set roc_auc score using the tuned best study parameters\n",
    "cal_roc_auc(X_train_red, y_train, extr_R_tu, 'reduced feature', 'training', 'tuned Extra Trees')"
   ]
  },
  {
   "cell_type": "code",
   "execution_count": 78,
   "metadata": {},
   "outputs": [
    {
     "name": "stdout",
     "output_type": "stream",
     "text": [
      "The roc_auc_score for the reduced feature test set using the best tuned Extra Trees classifier is  0.80904722805321\n"
     ]
    }
   ],
   "source": [
    "# Calculating the reduced feature test set roc_auc score using the tuned best study parameters\n",
    "cal_roc_auc(X_test_red, y_test, extr_R_tu, 'reduced feature', 'test', 'tuned Extra Trees')"
   ]
  },
  {
   "cell_type": "code",
   "execution_count": 79,
   "metadata": {},
   "outputs": [
    {
     "data": {
      "text/plain": [
       "['Extra_Trees_Reduced_Tuned.joblib']"
      ]
     },
     "execution_count": 79,
     "metadata": {},
     "output_type": "execute_result"
    }
   ],
   "source": [
    "# Saving the reduced feature set best Extra Trees Classifier  \n",
    "joblib.dump(extr_R_tu,'Extra_Trees_Reduced_Tuned.joblib')"
   ]
  },
  {
   "cell_type": "markdown",
   "metadata": {},
   "source": [
    "## Observations:\n",
    "### 1) The tuned Extra Tree Classifier has further reduced the overfitting by decreasing the gap between the training set & test set roc_auc score. However the test set roc_auc has also decreased by a small amount.\n"
   ]
  },
  {
   "cell_type": "markdown",
   "metadata": {},
   "source": [
    "### Calculating R_R ratio for best Extra Trees Classifier ."
   ]
  },
  {
   "cell_type": "code",
   "execution_count": 17,
   "metadata": {},
   "outputs": [],
   "source": [
    "# Loading the best Extra Trees Classifier model\n",
    "extr_R = joblib.load('Extra_Trees_Reduced.joblib')"
   ]
  },
  {
   "cell_type": "code",
   "execution_count": 18,
   "metadata": {},
   "outputs": [],
   "source": [
    "# Computing the CV scores using sklearn's cross_val_score\n",
    "score_Extra_Trees = cross_val_score(extr_R, X_train_red, y_train, cv=cv_strat, n_jobs=5, scoring='roc_auc')"
   ]
  },
  {
   "cell_type": "code",
   "execution_count": 19,
   "metadata": {},
   "outputs": [
    {
     "name": "stdout",
     "output_type": "stream",
     "text": [
      "The reward associated with the best Extra Trees Classifier using roc_auc metric is:  0.7955937625052967\n"
     ]
    }
   ],
   "source": [
    "print('The reward associated with the best Extra Trees Classifier using roc_auc metric is: ',np.mean(score_Extra_Trees))"
   ]
  },
  {
   "cell_type": "code",
   "execution_count": 20,
   "metadata": {},
   "outputs": [
    {
     "name": "stdout",
     "output_type": "stream",
     "text": [
      "The risk associated with the best Extra Trees Classifier using roc_auc metric is:  0.01526478266685032\n"
     ]
    }
   ],
   "source": [
    "print('The risk associated with the best Extra Trees Classifier using roc_auc metric is: ',np.std(score_Extra_Trees))"
   ]
  },
  {
   "cell_type": "code",
   "execution_count": 21,
   "metadata": {},
   "outputs": [],
   "source": [
    "R_R_Ratio_Extra_Trees = np.mean(score_Extra_Trees)/np.std(score_Extra_Trees)"
   ]
  },
  {
   "cell_type": "code",
   "execution_count": 22,
   "metadata": {},
   "outputs": [
    {
     "name": "stdout",
     "output_type": "stream",
     "text": [
      "The reward risk ratio for the best Extra trees Classifier using roc_auc metric is:  52.1195604201456\n"
     ]
    }
   ],
   "source": [
    "print('The reward risk ratio for the best Extra trees Classifier using roc_auc metric is: ',R_R_Ratio_Extra_Trees)"
   ]
  },
  {
   "cell_type": "markdown",
   "metadata": {},
   "source": [
    "#### The R_R ratio for the best Extra trees Classifier using roc_auc metric is:  52.1195604201456"
   ]
  },
  {
   "cell_type": "markdown",
   "metadata": {},
   "source": [
    "### Calculating R_R ratio for tuned Extra Trees Classifier model"
   ]
  },
  {
   "cell_type": "code",
   "execution_count": 23,
   "metadata": {},
   "outputs": [],
   "source": [
    "# Loading the best tuned Extra Trees Classifier model\n",
    "extr_R_tu = joblib.load('Extra_Trees_Reduced_Tuned.joblib')"
   ]
  },
  {
   "cell_type": "code",
   "execution_count": 26,
   "metadata": {},
   "outputs": [],
   "source": [
    "# Computing the CV scores using sklearn's cross_val_score\n",
    "score_Extra_Trees_tuned = cross_val_score(extr_R_tu, X_train_red, y_train, cv=cv_strat, n_jobs=5, scoring='roc_auc')"
   ]
  },
  {
   "cell_type": "code",
   "execution_count": 27,
   "metadata": {},
   "outputs": [
    {
     "name": "stdout",
     "output_type": "stream",
     "text": [
      "The reward associated with the tuned Extra Trees Classifier using roc_auc metric is:  0.7960527015478644\n"
     ]
    }
   ],
   "source": [
    "print('The reward associated with the tuned Extra Trees Classifier using roc_auc metric is: ',np.mean(score_Extra_Trees_tuned))"
   ]
  },
  {
   "cell_type": "code",
   "execution_count": 28,
   "metadata": {},
   "outputs": [
    {
     "name": "stdout",
     "output_type": "stream",
     "text": [
      "The risk associated with the tuned Extra Trees Classifier using roc_auc metric is:  0.014914659429384768\n"
     ]
    }
   ],
   "source": [
    "print('The risk associated with the tuned Extra Trees Classifier using roc_auc metric is: ',np.std(score_Extra_Trees_tuned))"
   ]
  },
  {
   "cell_type": "code",
   "execution_count": 30,
   "metadata": {},
   "outputs": [],
   "source": [
    "R_R_Ratio_Extra_Trees_tuned = np.mean(score_Extra_Trees_tuned)/np.std(score_Extra_Trees_tuned)"
   ]
  },
  {
   "cell_type": "code",
   "execution_count": 31,
   "metadata": {},
   "outputs": [
    {
     "name": "stdout",
     "output_type": "stream",
     "text": [
      "The reward risk ratio for the tuned Extra trees Classifier using roc_auc metric is:  53.373843721800746\n"
     ]
    }
   ],
   "source": [
    "print('The reward risk ratio for the tuned Extra trees Classifier using roc_auc metric is: ',R_R_Ratio_Extra_Trees_tuned)"
   ]
  },
  {
   "cell_type": "markdown",
   "metadata": {},
   "source": [
    "#### The R_R ratio for the best tuned Extra trees Classifier using roc_auc metric is:  53.373843721800746"
   ]
  },
  {
   "cell_type": "markdown",
   "metadata": {},
   "source": [
    "## Observations:\n",
    "### 1) The tuned extra trees classifier has the best R_R ratio of all the tree based classifiers trained on the reduced feature dataset , due to low std. dev. of the cross validated roc_auc scores. Hence based upon this metric the best choice among the Tree based model is Tuned Extra Trees Classifier."
   ]
  },
  {
   "cell_type": "markdown",
   "metadata": {},
   "source": [
    "### R_R Ratio for the best Tree based bagging classifier using roc_auc score is:  53.373843721800746,  corresponding to Tuned Extra Trees classifier."
   ]
  },
  {
   "cell_type": "markdown",
   "metadata": {},
   "source": [
    "### _However keeping everything into account, for this dataset, the best Tree based bagging classifier is Optuna tuned Random Forest Classifier._  "
   ]
  },
  {
   "cell_type": "code",
   "execution_count": null,
   "metadata": {},
   "outputs": [],
   "source": []
  }
 ],
 "metadata": {
  "kernelspec": {
   "display_name": "Python 3",
   "language": "python",
   "name": "python3"
  },
  "language_info": {
   "codemirror_mode": {
    "name": "ipython",
    "version": 3
   },
   "file_extension": ".py",
   "mimetype": "text/x-python",
   "name": "python",
   "nbconvert_exporter": "python",
   "pygments_lexer": "ipython3",
   "version": "3.8.5"
  }
 },
 "nbformat": 4,
 "nbformat_minor": 4
}
