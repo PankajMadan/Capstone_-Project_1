{
 "cells": [
  {
   "cell_type": "code",
   "execution_count": 1,
   "metadata": {},
   "outputs": [],
   "source": [
    "# Importing Required Python Packages\n",
    "import numpy as np\n",
    "import pandas as pd\n",
    "import matplotlib.pyplot as plt\n",
    "import seaborn as sns\n",
    "import warnings\n",
    "warnings.filterwarnings('ignore')\n",
    "pd.set_option('display.max_columns',None)"
   ]
  },
  {
   "cell_type": "code",
   "execution_count": 2,
   "metadata": {},
   "outputs": [],
   "source": [
    "# Loading Reduced feature Training set\n",
    "X_train_red = pd.read_csv('X_train_final.csv')\n",
    "y_train = pd.read_csv('y_train.final.csv')"
   ]
  },
  {
   "cell_type": "code",
   "execution_count": 3,
   "metadata": {},
   "outputs": [],
   "source": [
    "# Loading Reduced feature Test set\n",
    "X_test_red = pd.read_csv('X_test_final.csv')\n",
    "y_test = pd.read_csv('y_test.final.csv')"
   ]
  },
  {
   "cell_type": "markdown",
   "metadata": {},
   "source": [
    "## Model_15: Blender Model"
   ]
  },
  {
   "cell_type": "markdown",
   "metadata": {},
   "source": [
    "#### Loading all the best models from the various categories"
   ]
  },
  {
   "cell_type": "code",
   "execution_count": 4,
   "metadata": {},
   "outputs": [],
   "source": [
    "# Importing Joblib module\n",
    "import joblib"
   ]
  },
  {
   "cell_type": "code",
   "execution_count": 5,
   "metadata": {},
   "outputs": [],
   "source": [
    "# Importing tensorflow & keras\n",
    "import tensorflow\n",
    "from tensorflow import keras"
   ]
  },
  {
   "cell_type": "code",
   "execution_count": 6,
   "metadata": {},
   "outputs": [],
   "source": [
    "# Importing best Logistic regression Classifier\n",
    "lr = joblib.load('Log_Reg_Reduced.joblib')"
   ]
  },
  {
   "cell_type": "code",
   "execution_count": 7,
   "metadata": {},
   "outputs": [],
   "source": [
    "# Importing best Random Forest Classifier\n",
    "rf = joblib.load('Rand_Forest_Reduced.joblib')"
   ]
  },
  {
   "cell_type": "code",
   "execution_count": 8,
   "metadata": {},
   "outputs": [],
   "source": [
    "# Importing best Light Gbm Classifier\n",
    "lgbm = joblib.load('Light_Gbm_Reduced.joblib')"
   ]
  },
  {
   "cell_type": "code",
   "execution_count": 9,
   "metadata": {},
   "outputs": [],
   "source": [
    "# Importing best Neural Net Classifier\n",
    "neural = keras.models.load_model('Best_model_Selu_eq_Learn.h5')"
   ]
  },
  {
   "cell_type": "code",
   "execution_count": 10,
   "metadata": {},
   "outputs": [],
   "source": [
    "# Importing best Linear Discriminant Analysis Classifier\n",
    "lda = joblib.load('Linear_Dis_Reduced.joblib')"
   ]
  },
  {
   "cell_type": "code",
   "execution_count": 11,
   "metadata": {},
   "outputs": [],
   "source": [
    "# Importing train test split from Sklearn to produce validation set\n",
    "from sklearn.model_selection import train_test_split"
   ]
  },
  {
   "cell_type": "code",
   "execution_count": 12,
   "metadata": {},
   "outputs": [],
   "source": [
    "# Performing train_validation split with test size =.4 to provide more Training data to the blender\n",
    "X_train_red_1, X_val, y_train_1, y_val = train_test_split(X_train_red, y_train, test_size=0.4, random_state=42,\n",
    "                                                          stratify=y_train)"
   ]
  },
  {
   "cell_type": "code",
   "execution_count": 13,
   "metadata": {},
   "outputs": [],
   "source": [
    "# Listing all classifiers \n",
    "clfs = [lr, rf, lgbm, lda, neural]"
   ]
  },
  {
   "cell_type": "code",
   "execution_count": 14,
   "metadata": {},
   "outputs": [],
   "source": [
    "# Defining the exponential decay learning rate with step 4.\n",
    "def exponential_decay_fn(epoch):\n",
    "            return 0.01 * 0.1**(epoch /4 )"
   ]
  },
  {
   "cell_type": "code",
   "execution_count": 15,
   "metadata": {},
   "outputs": [
    {
     "name": "stdout",
     "output_type": "stream",
     "text": [
      "WARNING:tensorflow:sample_weight modes were coerced from\n",
      "  ...\n",
      "    to  \n",
      "  ['...']\n",
      "WARNING:tensorflow:sample_weight modes were coerced from\n",
      "  ...\n",
      "    to  \n",
      "  ['...']\n",
      "Train on 19770 samples, validate on 13180 samples\n",
      "Epoch 1/50\n",
      "19770/19770 [==============================] - 3s 164us/sample - loss: 1.1997 - accuracy: 0.7013 - val_loss: 1.1395 - val_accuracy: 0.6829\n",
      "Epoch 2/50\n",
      "19770/19770 [==============================] - 2s 100us/sample - loss: 1.1241 - accuracy: 0.7363 - val_loss: 1.1297 - val_accuracy: 0.7995\n",
      "Epoch 3/50\n",
      "19770/19770 [==============================] - 2s 98us/sample - loss: 1.0964 - accuracy: 0.7677 - val_loss: 1.1170 - val_accuracy: 0.6621\n",
      "Epoch 4/50\n",
      "19770/19770 [==============================] - 2s 101us/sample - loss: 1.0779 - accuracy: 0.7752 - val_loss: 1.0870 - val_accuracy: 0.7729\n",
      "Epoch 5/50\n",
      "19770/19770 [==============================] - 2s 101us/sample - loss: 1.0629 - accuracy: 0.7846 - val_loss: 1.0865 - val_accuracy: 0.7573\n",
      "Epoch 6/50\n",
      "19770/19770 [==============================] - 2s 102us/sample - loss: 1.0538 - accuracy: 0.7810 - val_loss: 1.0794 - val_accuracy: 0.7859\n",
      "Epoch 7/50\n",
      "19770/19770 [==============================] - 2s 97us/sample - loss: 1.0455 - accuracy: 0.7876 - val_loss: 1.0806 - val_accuracy: 0.7793\n",
      "Epoch 8/50\n",
      "19770/19770 [==============================] - 2s 101us/sample - loss: 1.0389 - accuracy: 0.7902 - val_loss: 1.0823 - val_accuracy: 0.7546\n",
      "Epoch 9/50\n",
      "19770/19770 [==============================] - 2s 101us/sample - loss: 1.0350 - accuracy: 0.7850 - val_loss: 1.0814 - val_accuracy: 0.7800\n",
      "Epoch 10/50\n",
      "19770/19770 [==============================] - 2s 97us/sample - loss: 1.0327 - accuracy: 0.7889 - val_loss: 1.0813 - val_accuracy: 0.7781\n",
      "Epoch 11/50\n",
      "19770/19770 [==============================] - 2s 102us/sample - loss: 1.0314 - accuracy: 0.7884 - val_loss: 1.0812 - val_accuracy: 0.7713\n",
      "Epoch 12/50\n",
      "19770/19770 [==============================] - 2s 100us/sample - loss: 1.0304 - accuracy: 0.7820 - val_loss: 1.0815 - val_accuracy: 0.7755\n",
      "Epoch 13/50\n",
      "19770/19770 [==============================] - 2s 98us/sample - loss: 1.0301 - accuracy: 0.7860 - val_loss: 1.0816 - val_accuracy: 0.7751\n",
      "Epoch 14/50\n",
      "19770/19770 [==============================] - 2s 99us/sample - loss: 1.0298 - accuracy: 0.7868 - val_loss: 1.0816 - val_accuracy: 0.7737\n",
      "Epoch 15/50\n",
      "19770/19770 [==============================] - 2s 100us/sample - loss: 1.0296 - accuracy: 0.7857 - val_loss: 1.0816 - val_accuracy: 0.7737\n",
      "Epoch 16/50\n",
      "19770/19770 [==============================] - 2s 99us/sample - loss: 1.0295 - accuracy: 0.7861 - val_loss: 1.0816 - val_accuracy: 0.7736\n"
     ]
    }
   ],
   "source": [
    "# Training all the above mentioned listed classifiers on the reduced Training set\n",
    "for clf in clfs:\n",
    "    # checking if classifier is an instance of Keras Sequential Models\n",
    "    if isinstance(clf,keras.models.Sequential):\n",
    "        \n",
    "        # Compiling the neural net\n",
    "        clf.compile(loss=\"binary_crossentropy\", optimizer=keras.optimizers.Nadam(beta_1=0.9, beta_2=0.999), metrics=[\"accuracy\"])\n",
    "        \n",
    "        # Declaring the callbacks\n",
    "        checkpoint_cb = keras.callbacks.ModelCheckpoint('best_model.h5',save_best_only=True) # 1st Callback\n",
    "        early_stopping_cb = keras.callbacks.EarlyStopping(patience=10)# 2nd Callback\n",
    "        lr_scheduler_cb = keras.callbacks.LearningRateScheduler(exponential_decay_fn)# 3rd Callback\n",
    "        \n",
    "        # Fitting the Neural net\n",
    "        clf.fit(X_train_red_1, y_train_1, epochs=50, validation_data=(X_val, y_val),batch_size=32,\n",
    "             class_weight={0: 1.0, 1: 10.0},callbacks=[checkpoint_cb,early_stopping_cb,lr_scheduler_cb])\n",
    "         \n",
    "    else:\n",
    "        clf.fit(X_train_red_1, y_train_1)\n",
    "    "
   ]
  },
  {
   "cell_type": "code",
   "execution_count": 16,
   "metadata": {},
   "outputs": [],
   "source": [
    "# Preparing the Training set features matrix for the blender Classifier\n",
    "X_val_predictions = np.empty((len(X_val), len(clfs)), dtype=np.float32)\n",
    "# Filling in the values for the Blender's Training set\n",
    "for index, estimator in enumerate(clfs):\n",
    "    if isinstance(estimator,keras.models.Sequential):\n",
    "        # loading the newly trained neural net\n",
    "        estimator = keras.models.load_model('best_model.h5') # Loads the recently trained best neural net on reduced training set \n",
    "        X_val_predictions[:, index] = estimator.predict_proba(X_val).flatten()\n",
    "    else:\n",
    "        X_val_predictions[:, index] = estimator.predict_proba(X_val)[:,1]"
   ]
  },
  {
   "cell_type": "code",
   "execution_count": 17,
   "metadata": {},
   "outputs": [],
   "source": [
    "# Preparing the Testing set feature matrix for the blender Classifier\n",
    "X_test_predictions = np.empty((len(X_test_red), len(clfs)), dtype=np.float32)\n",
    "# Filling in the values for the Blender's Test set\n",
    "for index, estimator in enumerate(clfs):\n",
    "    if isinstance(estimator,keras.models.Sequential):\n",
    "        estimator = keras.models.load_model('best_model.h5')# Loads the recently trained best neural net on reduced training set\n",
    "        X_test_predictions[:, index] = estimator.predict_proba(X_test_red).flatten()\n",
    "    else:\n",
    "        X_test_predictions[:, index] = estimator.predict_proba(X_test_red)[:,1]"
   ]
  },
  {
   "cell_type": "code",
   "execution_count": 18,
   "metadata": {},
   "outputs": [],
   "source": [
    "# Preparing both Training & Testing sets for Blender classifier\n",
    "X_train_Blender = pd.DataFrame(X_val_predictions,columns=['Log_Reg','Rand_Forest','Light_Gbm','Lin_Dis','Neural_Net'])\n",
    "y_train_Blender = y_val\n",
    "X_test_Blender = pd.DataFrame(X_test_predictions,columns=['Log_Reg','Rand_Forest','Light_Gbm','Lin_Dis','Neural_Net'])\n",
    "y_test_Blender = y_test"
   ]
  },
  {
   "cell_type": "code",
   "execution_count": 22,
   "metadata": {},
   "outputs": [],
   "source": [
    "# Saving the Blender's Training & testing sets as csv files\n",
    "X_train_Blender.to_csv('X_train_Blender.csv',index=False)\n",
    "y_train_Blender.to_csv('y_train_Blender.csv',index=False)\n",
    "X_test_Blender.to_csv('X_test_Blender.csv',index=False)\n",
    "y_test_Blender.to_csv('y_test_Blender.csv',index=False)"
   ]
  },
  {
   "cell_type": "markdown",
   "metadata": {},
   "source": [
    "### Selecting  Random Forest Classifier as Blender classifier  as it has one of highest  test set roc_auc as well as R_R ratio for this dataset."
   ]
  },
  {
   "cell_type": "code",
   "execution_count": 23,
   "metadata": {},
   "outputs": [],
   "source": [
    "# Importing Optuna and Extra Trees Classifier \n",
    "from sklearn.ensemble import RandomForestClassifier\n",
    "import optuna"
   ]
  },
  {
   "cell_type": "code",
   "execution_count": 24,
   "metadata": {},
   "outputs": [],
   "source": [
    "# Importing Cross_val_score & Stratified K fold \n",
    "from sklearn.model_selection import cross_val_score\n",
    "from sklearn.model_selection import StratifiedKFold"
   ]
  },
  {
   "cell_type": "code",
   "execution_count": 25,
   "metadata": {},
   "outputs": [],
   "source": [
    "# Initializing the K Fold object\n",
    "cv_strat = StratifiedKFold(10,random_state=42)"
   ]
  },
  {
   "cell_type": "code",
   "execution_count": 32,
   "metadata": {},
   "outputs": [],
   "source": [
    "cl_weight = ['balanced',{0:1.0,1:9.0},{0:1.0,1:10},{0:1.0,1:11},{0:1.0,1:12},{0:1.0,1:13},{0:1.0,1:14},{0:1.0,1:15},\n",
    "            {0:1.0,1:16},{0:1.0,1:17},{0:1.0,1:18}]"
   ]
  },
  {
   "cell_type": "code",
   "execution_count": 33,
   "metadata": {},
   "outputs": [],
   "source": [
    "# Defining the appropriate objective function for the Blender Random Forest classifier\n",
    "def objective_wrappper_rf(X_tr, y_tr, cls=None, cv_strat=None, cl_weight=None):\n",
    "    '''\n",
    "    Optimizes Random Forest parameters on the given training set X_tr,y_tr\n",
    "    using cv_strat cross-validation object & cl_weights\n",
    "    \n",
    "    '''\n",
    "    \n",
    "    def objective(trial):\n",
    "        params = {\n",
    "        'max_depth': trial.suggest_categorical('max_depth',list(range(2,50))+ [None]),\n",
    "        'n_estimators':trial.suggest_int('n_estimators',100,2000,10),\n",
    "        'class_weight':trial.suggest_categorical('class_weight',cl_weight),\n",
    "        'min_samples_leaf':trial.suggest_loguniform('min_samples_leaf',.00001,.1)\n",
    "          }\n",
    "        \n",
    "        cls.set_params(**params)#Initializing the model with the parameters \n",
    "    \n",
    "        return np.mean(cross_val_score(cls, X_tr, y_tr, cv=cv_strat, n_jobs=5, scoring='roc_auc'))  \n",
    "    return objective"
   ]
  },
  {
   "cell_type": "code",
   "execution_count": 34,
   "metadata": {},
   "outputs": [],
   "source": [
    "# Defining the evaluation function for study's best parameters\n",
    "def train_roc_auc(X_tr, y_tr, cls, obj_func, cv, cl_weight, n_trials=100):\n",
    "    ''' Computes the best hyper parameters of the classsifier on the Training set and returns \n",
    "    Optuna's study's best score & clasifier parameters'''\n",
    "    study = optuna.create_study(direction='maximize')\n",
    "    study.optimize(obj_func(X_tr, y_tr, cls, cv, cl_weight), n_trials)\n",
    "    best_score = study.best_value\n",
    "    best_params = study.best_params\n",
    "    return (best_score,best_params)\n"
   ]
  },
  {
   "cell_type": "code",
   "execution_count": 35,
   "metadata": {},
   "outputs": [],
   "source": [
    "# Instantiating the Random forest classifier\n",
    "rf_s = RandomForestClassifier(n_jobs=5, random_state=42)"
   ]
  },
  {
   "cell_type": "code",
   "execution_count": 36,
   "metadata": {},
   "outputs": [
    {
     "name": "stderr",
     "output_type": "stream",
     "text": [
      "\u001b[32m[I 2020-10-22 01:03:48,783]\u001b[0m A new study created in memory with name: no-name-384cdf6b-075a-4a92-90a0-40d52cc412c4\u001b[0m\n",
      "\u001b[32m[I 2020-10-22 01:04:01,737]\u001b[0m Trial 0 finished with value: 0.7849784000325033 and parameters: {'max_depth': 41, 'n_estimators': 590, 'class_weight': 'balanced', 'min_samples_leaf': 0.0010257109620746797}. Best is trial 0 with value: 0.7849784000325033.\u001b[0m\n",
      "\u001b[32m[I 2020-10-22 01:04:07,535]\u001b[0m Trial 1 finished with value: 0.768637309016785 and parameters: {'max_depth': 34, 'n_estimators': 240, 'class_weight': {0: 1.0, 1: 18}, 'min_samples_leaf': 1.9077970360523176e-05}. Best is trial 0 with value: 0.7849784000325033.\u001b[0m\n",
      "\u001b[32m[I 2020-10-22 01:04:17,097]\u001b[0m Trial 2 finished with value: 0.7952501943527945 and parameters: {'max_depth': 37, 'n_estimators': 1340, 'class_weight': 'balanced', 'min_samples_leaf': 0.09007935827707621}. Best is trial 2 with value: 0.7952501943527945.\u001b[0m\n",
      "\u001b[32m[I 2020-10-22 01:04:20,129]\u001b[0m Trial 3 finished with value: 0.7992111505085724 and parameters: {'max_depth': 42, 'n_estimators': 320, 'class_weight': {0: 1.0, 1: 14}, 'min_samples_leaf': 0.049035358194511436}. Best is trial 3 with value: 0.7992111505085724.\u001b[0m\n",
      "\u001b[32m[I 2020-10-22 01:04:38,897]\u001b[0m Trial 4 finished with value: 0.8012872562355643 and parameters: {'max_depth': 4, 'n_estimators': 1970, 'class_weight': {0: 1.0, 1: 12}, 'min_samples_leaf': 0.00016430178887668218}. Best is trial 4 with value: 0.8012872562355643.\u001b[0m\n",
      "\u001b[32m[I 2020-10-22 01:05:05,206]\u001b[0m Trial 5 finished with value: 0.7689227542974579 and parameters: {'max_depth': 14, 'n_estimators': 1260, 'class_weight': {0: 1.0, 1: 10}, 'min_samples_leaf': 1.0671738840485097e-05}. Best is trial 4 with value: 0.8012872562355643.\u001b[0m\n",
      "\u001b[32m[I 2020-10-22 01:05:19,161]\u001b[0m Trial 6 finished with value: 0.7818895004952252 and parameters: {'max_depth': 26, 'n_estimators': 620, 'class_weight': 'balanced', 'min_samples_leaf': 0.0004448839335118087}. Best is trial 4 with value: 0.8012872562355643.\u001b[0m\n",
      "\u001b[32m[I 2020-10-22 01:05:22,857]\u001b[0m Trial 7 finished with value: 0.8020434857653038 and parameters: {'max_depth': 3, 'n_estimators': 430, 'class_weight': {0: 1.0, 1: 18}, 'min_samples_leaf': 1.5665708930945144e-05}. Best is trial 7 with value: 0.8020434857653038.\u001b[0m\n",
      "\u001b[32m[I 2020-10-22 01:05:25,770]\u001b[0m Trial 8 finished with value: 0.7707557813659369 and parameters: {'max_depth': 18, 'n_estimators': 110, 'class_weight': {0: 1.0, 1: 9.0}, 'min_samples_leaf': 8.748842228692052e-05}. Best is trial 7 with value: 0.8020434857653038.\u001b[0m\n",
      "\u001b[32m[I 2020-10-22 01:05:47,976]\u001b[0m Trial 9 finished with value: 0.7810226897470698 and parameters: {'max_depth': 45, 'n_estimators': 990, 'class_weight': {0: 1.0, 1: 9.0}, 'min_samples_leaf': 0.0003727359619067814}. Best is trial 7 with value: 0.8020434857653038.\u001b[0m\n",
      "\u001b[32m[I 2020-10-22 01:06:17,409]\u001b[0m Trial 10 finished with value: 0.7932661606922649 and parameters: {'max_depth': 29, 'n_estimators': 1920, 'class_weight': {0: 1.0, 1: 17}, 'min_samples_leaf': 0.006179715374192281}. Best is trial 7 with value: 0.8020434857653038.\u001b[0m\n",
      "\u001b[32m[I 2020-10-22 01:06:44,887]\u001b[0m Trial 11 finished with value: 0.7928228527934652 and parameters: {'max_depth': 7, 'n_estimators': 1990, 'class_weight': {0: 1.0, 1: 12}, 'min_samples_leaf': 4.866345604352552e-05}. Best is trial 7 with value: 0.8020434857653038.\u001b[0m\n",
      "\u001b[32m[I 2020-10-22 01:06:58,285]\u001b[0m Trial 12 finished with value: 0.8018406134720987 and parameters: {'max_depth': 3, 'n_estimators': 1670, 'class_weight': {0: 1.0, 1: 16}, 'min_samples_leaf': 9.255241381500095e-05}. Best is trial 7 with value: 0.8020434857653038.\u001b[0m\n",
      "\u001b[32m[I 2020-10-22 01:07:36,457]\u001b[0m Trial 13 finished with value: 0.7680654152139202 and parameters: {'max_depth': 36, 'n_estimators': 1560, 'class_weight': {0: 1.0, 1: 16}, 'min_samples_leaf': 2.7603634543759988e-05}. Best is trial 7 with value: 0.8020434857653038.\u001b[0m\n",
      "\u001b[32m[I 2020-10-22 01:07:43,093]\u001b[0m Trial 14 finished with value: 0.8021009795648606 and parameters: {'max_depth': 3, 'n_estimators': 810, 'class_weight': {0: 1.0, 1: 13}, 'min_samples_leaf': 1.2396875938806497e-05}. Best is trial 14 with value: 0.8021009795648606.\u001b[0m\n",
      "\u001b[32m[I 2020-10-22 01:07:49,912]\u001b[0m Trial 15 finished with value: 0.8020811285755725 and parameters: {'max_depth': 3, 'n_estimators': 830, 'class_weight': {0: 1.0, 1: 13}, 'min_samples_leaf': 1.0138280683858888e-05}. Best is trial 14 with value: 0.8021009795648606.\u001b[0m\n",
      "\u001b[32m[I 2020-10-22 01:08:05,726]\u001b[0m Trial 16 finished with value: 0.789547755112247 and parameters: {'max_depth': 15, 'n_estimators': 880, 'class_weight': {0: 1.0, 1: 13}, 'min_samples_leaf': 0.002516179865463527}. Best is trial 14 with value: 0.8021009795648606.\u001b[0m\n",
      "\u001b[32m[I 2020-10-22 01:08:12,192]\u001b[0m Trial 17 finished with value: 0.8021385103321064 and parameters: {'max_depth': 3, 'n_estimators': 800, 'class_weight': {0: 1.0, 1: 13}, 'min_samples_leaf': 0.01194766639730696}. Best is trial 17 with value: 0.8021385103321064.\u001b[0m\n",
      "\u001b[32m[I 2020-10-22 01:08:20,237]\u001b[0m Trial 18 finished with value: 0.7972133343725896 and parameters: {'max_depth': 11, 'n_estimators': 670, 'class_weight': {0: 1.0, 1: 13}, 'min_samples_leaf': 0.017507786221371033}. Best is trial 17 with value: 0.8021385103321064.\u001b[0m\n",
      "\u001b[32m[I 2020-10-22 01:08:35,880]\u001b[0m Trial 19 finished with value: 0.7956384331365242 and parameters: {'max_depth': 49, 'n_estimators': 1180, 'class_weight': {0: 1.0, 1: 15}, 'min_samples_leaf': 0.011785613908268745}. Best is trial 17 with value: 0.8021385103321064.\u001b[0m\n",
      "\u001b[32m[I 2020-10-22 01:08:54,791]\u001b[0m Trial 20 finished with value: 0.7890389412262278 and parameters: {'max_depth': 47, 'n_estimators': 1040, 'class_weight': {0: 1.0, 1: 11}, 'min_samples_leaf': 0.0029344995898111267}. Best is trial 17 with value: 0.8021385103321064.\u001b[0m\n",
      "\u001b[32m[I 2020-10-22 01:09:01,177]\u001b[0m Trial 21 finished with value: 0.8010480156262417 and parameters: {'max_depth': 3, 'n_estimators': 830, 'class_weight': {0: 1.0, 1: 13}, 'min_samples_leaf': 0.0448125364015272}. Best is trial 17 with value: 0.8021385103321064.\u001b[0m\n",
      "\u001b[32m[I 2020-10-22 01:09:14,832]\u001b[0m Trial 22 finished with value: 0.7882751083787434 and parameters: {'max_depth': 13, 'n_estimators': 740, 'class_weight': {0: 1.0, 1: 13}, 'min_samples_leaf': 0.0013610628166378484}. Best is trial 17 with value: 0.8021385103321064.\u001b[0m\n",
      "\u001b[32m[I 2020-10-22 01:09:23,160]\u001b[0m Trial 23 finished with value: 0.7831765778667781 and parameters: {'max_depth': 9, 'n_estimators': 490, 'class_weight': {0: 1.0, 1: 13}, 'min_samples_leaf': 3.7958793646465467e-05}. Best is trial 17 with value: 0.8021385103321064.\u001b[0m\n",
      "\u001b[32m[I 2020-10-22 01:09:35,919]\u001b[0m Trial 24 finished with value: 0.7949088979485737 and parameters: {'max_depth': 17, 'n_estimators': 930, 'class_weight': {0: 1.0, 1: 13}, 'min_samples_leaf': 0.010451107681200566}. Best is trial 17 with value: 0.8021385103321064.\u001b[0m\n",
      "\u001b[32m[I 2020-10-22 01:10:03,639]\u001b[0m Trial 25 finished with value: 0.7702854597612061 and parameters: {'max_depth': 24, 'n_estimators': 1160, 'class_weight': {0: 1.0, 1: 13}, 'min_samples_leaf': 1.2587570969909331e-05}. Best is trial 17 with value: 0.8021385103321064.\u001b[0m\n",
      "\u001b[32m[I 2020-10-22 01:10:20,926]\u001b[0m Trial 26 finished with value: 0.7810957980789291 and parameters: {'max_depth': 44, 'n_estimators': 780, 'class_weight': {0: 1.0, 1: 13}, 'min_samples_leaf': 0.0004293221333198401}. Best is trial 17 with value: 0.8021385103321064.\u001b[0m\n",
      "\u001b[32m[I 2020-10-22 01:10:27,317]\u001b[0m Trial 27 finished with value: 0.7997449539822344 and parameters: {'max_depth': 6, 'n_estimators': 510, 'class_weight': {0: 1.0, 1: 14}, 'min_samples_leaf': 0.004020702328712659}. Best is trial 17 with value: 0.8021385103321064.\u001b[0m\n",
      "\u001b[32m[I 2020-10-22 01:10:38,108]\u001b[0m Trial 28 finished with value: 0.8015820137325281 and parameters: {'max_depth': 3, 'n_estimators': 1400, 'class_weight': {0: 1.0, 1: 15}, 'min_samples_leaf': 0.02782971785145114}. Best is trial 17 with value: 0.8021385103321064.\u001b[0m\n",
      "\u001b[32m[I 2020-10-22 01:10:56,708]\u001b[0m Trial 29 finished with value: 0.7899941393095856 and parameters: {'max_depth': 10, 'n_estimators': 1090, 'class_weight': {0: 1.0, 1: 10}, 'min_samples_leaf': 0.0011152754512257998}. Best is trial 17 with value: 0.8021385103321064.\u001b[0m\n"
     ]
    },
    {
     "name": "stderr",
     "output_type": "stream",
     "text": [
      "\u001b[32m[I 2020-10-22 01:11:11,628]\u001b[0m Trial 30 finished with value: 0.7772384253919339 and parameters: {'max_depth': 43, 'n_estimators': 640, 'class_weight': {0: 1.0, 1: 11}, 'min_samples_leaf': 0.0001976999022598786}. Best is trial 17 with value: 0.8021385103321064.\u001b[0m\n",
      "\u001b[32m[I 2020-10-22 01:11:15,048]\u001b[0m Trial 31 finished with value: 0.8020488102134709 and parameters: {'max_depth': 3, 'n_estimators': 390, 'class_weight': {0: 1.0, 1: 18}, 'min_samples_leaf': 1.0345866875657247e-05}. Best is trial 17 with value: 0.8021385103321064.\u001b[0m\n",
      "\u001b[32m[I 2020-10-22 01:11:17,990]\u001b[0m Trial 32 finished with value: 0.769055862302155 and parameters: {'max_depth': 25, 'n_estimators': 110, 'class_weight': {0: 1.0, 1: 18}, 'min_samples_leaf': 1.006912552352212e-05}. Best is trial 17 with value: 0.8021385103321064.\u001b[0m\n",
      "\u001b[32m[I 2020-10-22 01:11:23,175]\u001b[0m Trial 33 finished with value: 0.7847159269533481 and parameters: {'max_depth': 8, 'n_estimators': 320, 'class_weight': {0: 1.0, 1: 18}, 'min_samples_leaf': 2.6579694246947525e-05}. Best is trial 17 with value: 0.8021385103321064.\u001b[0m\n",
      "\u001b[32m[I 2020-10-22 01:11:41,161]\u001b[0m Trial 34 finished with value: 0.7685717366329632 and parameters: {'max_depth': 32, 'n_estimators': 740, 'class_weight': {0: 1.0, 1: 17}, 'min_samples_leaf': 5.8680330342204465e-05}. Best is trial 17 with value: 0.8021385103321064.\u001b[0m\n",
      "\u001b[32m[I 2020-10-22 01:11:44,270]\u001b[0m Trial 35 finished with value: 0.8020450784631651 and parameters: {'max_depth': 3, 'n_estimators': 350, 'class_weight': {0: 1.0, 1: 18}, 'min_samples_leaf': 1.8500627264124396e-05}. Best is trial 17 with value: 0.8021385103321064.\u001b[0m\n",
      "\u001b[32m[I 2020-10-22 01:11:46,464]\u001b[0m Trial 36 finished with value: 0.7980664387845494 and parameters: {'max_depth': 28, 'n_estimators': 230, 'class_weight': {0: 1.0, 1: 13}, 'min_samples_leaf': 0.0654225841905406}. Best is trial 17 with value: 0.8021385103321064.\u001b[0m\n",
      "\u001b[32m[I 2020-10-22 01:11:49,973]\u001b[0m Trial 37 finished with value: 0.8007846019025839 and parameters: {'max_depth': 2, 'n_estimators': 520, 'class_weight': 'balanced', 'min_samples_leaf': 1.1332058127998213e-05}. Best is trial 17 with value: 0.8021385103321064.\u001b[0m\n",
      "\u001b[32m[I 2020-10-22 01:12:12,237]\u001b[0m Trial 38 finished with value: 0.7681575722422386 and parameters: {'max_depth': 46, 'n_estimators': 910, 'class_weight': {0: 1.0, 1: 14}, 'min_samples_leaf': 2.4355204093634425e-05}. Best is trial 17 with value: 0.8021385103321064.\u001b[0m\n",
      "\u001b[32m[I 2020-10-22 01:12:25,971]\u001b[0m Trial 39 finished with value: 0.7698419917343984 and parameters: {'max_depth': 19, 'n_estimators': 600, 'class_weight': {0: 1.0, 1: 18}, 'min_samples_leaf': 0.0001319599931733518}. Best is trial 17 with value: 0.8021385103321064.\u001b[0m\n",
      "\u001b[32m[I 2020-10-22 01:12:30,725]\u001b[0m Trial 40 finished with value: 0.784182305677453 and parameters: {'max_depth': None, 'n_estimators': 210, 'class_weight': {0: 1.0, 1: 12}, 'min_samples_leaf': 0.0007162615879231387}. Best is trial 17 with value: 0.8021385103321064.\u001b[0m\n",
      "\u001b[32m[I 2020-10-22 01:12:33,847]\u001b[0m Trial 41 finished with value: 0.8020750949526118 and parameters: {'max_depth': 3, 'n_estimators': 360, 'class_weight': {0: 1.0, 1: 18}, 'min_samples_leaf': 1.7441094651560313e-05}. Best is trial 17 with value: 0.8021385103321064.\u001b[0m\n",
      "\u001b[32m[I 2020-10-22 01:12:36,952]\u001b[0m Trial 42 finished with value: 0.8020450784631651 and parameters: {'max_depth': 3, 'n_estimators': 350, 'class_weight': {0: 1.0, 1: 18}, 'min_samples_leaf': 1.0013177622741347e-05}. Best is trial 17 with value: 0.8021385103321064.\u001b[0m\n",
      "\u001b[32m[I 2020-10-22 01:12:47,642]\u001b[0m Trial 43 finished with value: 0.770016591581214 and parameters: {'max_depth': 33, 'n_estimators': 430, 'class_weight': {0: 1.0, 1: 18}, 'min_samples_leaf': 1.7901199905590847e-05}. Best is trial 17 with value: 0.8021385103321064.\u001b[0m\n",
      "\u001b[32m[I 2020-10-22 01:13:04,566]\u001b[0m Trial 44 finished with value: 0.7687840496453807 and parameters: {'max_depth': 40, 'n_estimators': 690, 'class_weight': {0: 1.0, 1: 9.0}, 'min_samples_leaf': 4.1298043936795815e-05}. Best is trial 17 with value: 0.8021385103321064.\u001b[0m\n",
      "\u001b[32m[I 2020-10-22 01:13:27,989]\u001b[0m Trial 45 finished with value: 0.769369407413303 and parameters: {'max_depth': 21, 'n_estimators': 990, 'class_weight': {0: 1.0, 1: 10}, 'min_samples_leaf': 7.462768747775248e-05}. Best is trial 17 with value: 0.8021385103321064.\u001b[0m\n",
      "\u001b[32m[I 2020-10-22 01:13:48,592]\u001b[0m Trial 46 finished with value: 0.7690833574447888 and parameters: {'max_depth': 48, 'n_estimators': 840, 'class_weight': {0: 1.0, 1: 13}, 'min_samples_leaf': 1.5751635048970596e-05}. Best is trial 17 with value: 0.8021385103321064.\u001b[0m\n",
      "\u001b[32m[I 2020-10-22 01:14:02,321]\u001b[0m Trial 47 finished with value: 0.7695739055761461 and parameters: {'max_depth': 31, 'n_estimators': 560, 'class_weight': {0: 1.0, 1: 18}, 'min_samples_leaf': 3.021626895368026e-05}. Best is trial 17 with value: 0.8021385103321064.\u001b[0m\n",
      "\u001b[32m[I 2020-10-22 01:14:12,284]\u001b[0m Trial 48 finished with value: 0.7663830409367021 and parameters: {'max_depth': 20, 'n_estimators': 420, 'class_weight': {0: 1.0, 1: 16}, 'min_samples_leaf': 1.0261005511140833e-05}. Best is trial 17 with value: 0.8021385103321064.\u001b[0m\n",
      "\u001b[32m[I 2020-10-22 01:14:21,617]\u001b[0m Trial 49 finished with value: 0.7941801927745142 and parameters: {'max_depth': 27, 'n_estimators': 1290, 'class_weight': 'balanced', 'min_samples_leaf': 0.09850900122862981}. Best is trial 17 with value: 0.8021385103321064.\u001b[0m\n",
      "\u001b[32m[I 2020-10-22 01:14:29,544]\u001b[0m Trial 50 finished with value: 0.8019806712359359 and parameters: {'max_depth': 3, 'n_estimators': 950, 'class_weight': {0: 1.0, 1: 17}, 'min_samples_leaf': 0.00023230774125821405}. Best is trial 17 with value: 0.8021385103321064.\u001b[0m\n",
      "\u001b[32m[I 2020-10-22 01:14:32,832]\u001b[0m Trial 51 finished with value: 0.8020362507620374 and parameters: {'max_depth': 3, 'n_estimators': 380, 'class_weight': {0: 1.0, 1: 18}, 'min_samples_leaf': 1.0601374026031212e-05}. Best is trial 17 with value: 0.8021385103321064.\u001b[0m\n",
      "\u001b[32m[I 2020-10-22 01:14:36,679]\u001b[0m Trial 52 finished with value: 0.7643976623736399 and parameters: {'max_depth': 16, 'n_estimators': 160, 'class_weight': {0: 1.0, 1: 18}, 'min_samples_leaf': 1.9424001227959272e-05}. Best is trial 17 with value: 0.8021385103321064.\u001b[0m\n",
      "\u001b[32m[I 2020-10-22 01:14:39,176]\u001b[0m Trial 53 finished with value: 0.8019368113251486 and parameters: {'max_depth': 3, 'n_estimators': 280, 'class_weight': {0: 1.0, 1: 18}, 'min_samples_leaf': 1.630587735890584e-05}. Best is trial 17 with value: 0.8021385103321064.\u001b[0m\n",
      "\u001b[32m[I 2020-10-22 01:14:50,364]\u001b[0m Trial 54 finished with value: 0.769531564569693 and parameters: {'max_depth': 38, 'n_estimators': 460, 'class_weight': {0: 1.0, 1: 13}, 'min_samples_leaf': 2.3434079995086855e-05}. Best is trial 17 with value: 0.8021385103321064.\u001b[0m\n",
      "\u001b[32m[I 2020-10-22 01:15:05,672]\u001b[0m Trial 55 finished with value: 0.7700339202638464 and parameters: {'max_depth': 12, 'n_estimators': 780, 'class_weight': {0: 1.0, 1: 18}, 'min_samples_leaf': 5.319914935032342e-05}. Best is trial 17 with value: 0.8021385103321064.\u001b[0m\n",
      "\u001b[32m[I 2020-10-22 01:15:19,504]\u001b[0m Trial 56 finished with value: 0.768815671027171 and parameters: {'max_depth': 41, 'n_estimators': 570, 'class_weight': {0: 1.0, 1: 13}, 'min_samples_leaf': 3.331728361118893e-05}. Best is trial 17 with value: 0.8021385103321064.\u001b[0m\n",
      "\u001b[32m[I 2020-10-22 01:15:27,097]\u001b[0m Trial 57 finished with value: 0.7992746471315675 and parameters: {'max_depth': 5, 'n_estimators': 670, 'class_weight': {0: 1.0, 1: 12}, 'min_samples_leaf': 1.4071426095850558e-05}. Best is trial 17 with value: 0.8021385103321064.\u001b[0m\n",
      "\u001b[32m[I 2020-10-22 01:15:52,925]\u001b[0m Trial 58 finished with value: 0.7724724906188657 and parameters: {'max_depth': 30, 'n_estimators': 1070, 'class_weight': {0: 1.0, 1: 15}, 'min_samples_leaf': 0.00011719349344526912}. Best is trial 17 with value: 0.8021385103321064.\u001b[0m\n",
      "\u001b[32m[I 2020-10-22 01:15:56,441]\u001b[0m Trial 59 finished with value: 0.7872122906668078 and parameters: {'max_depth': 23, 'n_estimators': 170, 'class_weight': {0: 1.0, 1: 9.0}, 'min_samples_leaf': 0.001700974003302998}. Best is trial 17 with value: 0.8021385103321064.\u001b[0m\n",
      "\u001b[32m[I 2020-10-22 01:16:00,833]\u001b[0m Trial 60 finished with value: 0.794830803003451 and parameters: {'max_depth': 22, 'n_estimators': 290, 'class_weight': {0: 1.0, 1: 11}, 'min_samples_leaf': 0.009481913357303794}. Best is trial 17 with value: 0.8021385103321064.\u001b[0m\n"
     ]
    },
    {
     "name": "stderr",
     "output_type": "stream",
     "text": [
      "\u001b[32m[I 2020-10-22 01:16:04,348]\u001b[0m Trial 61 finished with value: 0.8020488102134709 and parameters: {'max_depth': 3, 'n_estimators': 390, 'class_weight': {0: 1.0, 1: 18}, 'min_samples_leaf': 2.0168391482315777e-05}. Best is trial 17 with value: 0.8021385103321064.\u001b[0m\n",
      "\u001b[32m[I 2020-10-22 01:16:11,281]\u001b[0m Trial 62 finished with value: 0.8020171079346522 and parameters: {'max_depth': 3, 'n_estimators': 820, 'class_weight': {0: 1.0, 1: 18}, 'min_samples_leaf': 1.2459039858164343e-05}. Best is trial 17 with value: 0.8021385103321064.\u001b[0m\n",
      "\u001b[32m[I 2020-10-22 01:16:14,521]\u001b[0m Trial 63 finished with value: 0.8020450784631651 and parameters: {'max_depth': 3, 'n_estimators': 350, 'class_weight': {0: 1.0, 1: 18}, 'min_samples_leaf': 1.0192061478759632e-05}. Best is trial 17 with value: 0.8021385103321064.\u001b[0m\n",
      "\u001b[32m[I 2020-10-22 01:16:24,413]\u001b[0m Trial 64 finished with value: 0.7692883539037539 and parameters: {'max_depth': 39, 'n_estimators': 400, 'class_weight': {0: 1.0, 1: 13}, 'min_samples_leaf': 2.1847663077182387e-05}. Best is trial 17 with value: 0.8021385103321064.\u001b[0m\n",
      "\u001b[32m[I 2020-10-22 01:16:32,317]\u001b[0m Trial 65 finished with value: 0.7984752404510875 and parameters: {'max_depth': 35, 'n_estimators': 730, 'class_weight': {0: 1.0, 1: 18}, 'min_samples_leaf': 0.02641323943950053}. Best is trial 17 with value: 0.8021385103321064.\u001b[0m\n",
      "\u001b[32m[I 2020-10-22 01:16:33,611]\u001b[0m Trial 66 finished with value: 0.8019949130915955 and parameters: {'max_depth': 3, 'n_estimators': 110, 'class_weight': {0: 1.0, 1: 13}, 'min_samples_leaf': 4.2416608780237804e-05}. Best is trial 17 with value: 0.8021385103321064.\u001b[0m\n",
      "\u001b[32m[I 2020-10-22 01:16:42,441]\u001b[0m Trial 67 finished with value: 0.7919321252422165 and parameters: {'max_depth': 34, 'n_estimators': 520, 'class_weight': {0: 1.0, 1: 16}, 'min_samples_leaf': 0.004945001847644194}. Best is trial 17 with value: 0.8021385103321064.\u001b[0m\n",
      "\u001b[32m[I 2020-10-22 01:16:57,676]\u001b[0m Trial 68 finished with value: 0.7683453347098205 and parameters: {'max_depth': 42, 'n_estimators': 620, 'class_weight': {0: 1.0, 1: 18}, 'min_samples_leaf': 6.441198717114529e-05}. Best is trial 17 with value: 0.8021385103321064.\u001b[0m\n",
      "\u001b[32m[I 2020-10-22 01:17:25,269]\u001b[0m Trial 69 finished with value: 0.7721988832877291 and parameters: {'max_depth': 26, 'n_estimators': 1140, 'class_weight': {0: 1.0, 1: 13}, 'min_samples_leaf': 1.3887634601249136e-05}. Best is trial 17 with value: 0.8021385103321064.\u001b[0m\n",
      "\u001b[32m[I 2020-10-22 01:17:27,786]\u001b[0m Trial 70 finished with value: 0.8021694245516233 and parameters: {'max_depth': 3, 'n_estimators': 260, 'class_weight': {0: 1.0, 1: 14}, 'min_samples_leaf': 3.200547340930578e-05}. Best is trial 70 with value: 0.8021694245516233.\u001b[0m\n",
      "\u001b[32m[I 2020-10-22 01:17:30,054]\u001b[0m Trial 71 finished with value: 0.8021503054202588 and parameters: {'max_depth': 3, 'n_estimators': 240, 'class_weight': {0: 1.0, 1: 14}, 'min_samples_leaf': 2.313695183212011e-05}. Best is trial 70 with value: 0.8021694245516233.\u001b[0m\n",
      "\u001b[32m[I 2020-10-22 01:17:36,581]\u001b[0m Trial 72 finished with value: 0.7680008130075947 and parameters: {'max_depth': 37, 'n_estimators': 260, 'class_weight': {0: 1.0, 1: 14}, 'min_samples_leaf': 3.3242714492313185e-05}. Best is trial 70 with value: 0.8021694245516233.\u001b[0m\n",
      "\u001b[32m[I 2020-10-22 01:17:38,662]\u001b[0m Trial 73 finished with value: 0.8021444363100816 and parameters: {'max_depth': 3, 'n_estimators': 210, 'class_weight': {0: 1.0, 1: 14}, 'min_samples_leaf': 2.1503825468675907e-05}. Best is trial 70 with value: 0.8021694245516233.\u001b[0m\n",
      "\u001b[32m[I 2020-10-22 01:17:42,522]\u001b[0m Trial 74 finished with value: 0.7690675779603964 and parameters: {'max_depth': 14, 'n_estimators': 170, 'class_weight': {0: 1.0, 1: 14}, 'min_samples_leaf': 2.7641932913780605e-05}. Best is trial 70 with value: 0.8021694245516233.\u001b[0m\n",
      "\u001b[32m[I 2020-10-22 01:17:43,707]\u001b[0m Trial 75 finished with value: 0.8021924484089415 and parameters: {'max_depth': 3, 'n_estimators': 100, 'class_weight': {0: 1.0, 1: 14}, 'min_samples_leaf': 4.5560966690875444e-05}. Best is trial 75 with value: 0.8021924484089415.\u001b[0m\n",
      "\u001b[32m[I 2020-10-22 01:17:46,388]\u001b[0m Trial 76 finished with value: 0.764117981863732 and parameters: {'max_depth': 29, 'n_estimators': 100, 'class_weight': {0: 1.0, 1: 14}, 'min_samples_leaf': 4.864717243635351e-05}. Best is trial 75 with value: 0.8021924484089415.\u001b[0m\n",
      "\u001b[32m[I 2020-10-22 01:17:51,631]\u001b[0m Trial 77 finished with value: 0.7711725192267631 and parameters: {'max_depth': 45, 'n_estimators': 210, 'class_weight': {0: 1.0, 1: 14}, 'min_samples_leaf': 9.884551645105025e-05}. Best is trial 75 with value: 0.8021924484089415.\u001b[0m\n",
      "\u001b[32m[I 2020-10-22 01:18:09,333]\u001b[0m Trial 78 finished with value: 0.8010097435253165 and parameters: {'max_depth': 4, 'n_estimators': 1860, 'class_weight': {0: 1.0, 1: 14}, 'min_samples_leaf': 7.291954308524354e-05}. Best is trial 75 with value: 0.8021924484089415.\u001b[0m\n",
      "\u001b[32m[I 2020-10-22 01:18:16,628]\u001b[0m Trial 79 finished with value: 0.8020948961776033 and parameters: {'max_depth': 3, 'n_estimators': 880, 'class_weight': {0: 1.0, 1: 14}, 'min_samples_leaf': 0.0005979688536393524}. Best is trial 75 with value: 0.8021924484089415.\u001b[0m\n",
      "\u001b[32m[I 2020-10-22 01:18:30,482]\u001b[0m Trial 80 finished with value: 0.7947910674668401 and parameters: {'max_depth': 7, 'n_estimators': 1000, 'class_weight': {0: 1.0, 1: 14}, 'min_samples_leaf': 0.0008116300694512553}. Best is trial 75 with value: 0.8021924484089415.\u001b[0m\n",
      "\u001b[32m[I 2020-10-22 01:18:37,827]\u001b[0m Trial 81 finished with value: 0.8020748657755851 and parameters: {'max_depth': 3, 'n_estimators': 870, 'class_weight': {0: 1.0, 1: 14}, 'min_samples_leaf': 3.4758873621705354e-05}. Best is trial 75 with value: 0.8021924484089415.\u001b[0m\n",
      "\u001b[32m[I 2020-10-22 01:18:44,425]\u001b[0m Trial 82 finished with value: 0.8021800971439781 and parameters: {'max_depth': 3, 'n_estimators': 800, 'class_weight': {0: 1.0, 1: 14}, 'min_samples_leaf': 0.0018130357779264819}. Best is trial 75 with value: 0.8021924484089415.\u001b[0m\n",
      "\u001b[32m[I 2020-10-22 01:18:58,707]\u001b[0m Trial 83 finished with value: 0.7879163038261118 and parameters: {'max_depth': 18, 'n_estimators': 770, 'class_weight': {0: 1.0, 1: 14}, 'min_samples_leaf': 0.002429491712828937}. Best is trial 75 with value: 0.8021924484089415.\u001b[0m\n",
      "\u001b[32m[I 2020-10-22 01:19:06,442]\u001b[0m Trial 84 finished with value: 0.802061620498907 and parameters: {'max_depth': 3, 'n_estimators': 930, 'class_weight': {0: 1.0, 1: 14}, 'min_samples_leaf': 0.00031834362739191984}. Best is trial 75 with value: 0.8021924484089415.\u001b[0m\n",
      "\u001b[32m[I 2020-10-22 01:19:19,272]\u001b[0m Trial 85 finished with value: 0.7940287342654924 and parameters: {'max_depth': 11, 'n_estimators': 870, 'class_weight': {0: 1.0, 1: 14}, 'min_samples_leaf': 0.007211202371127056}. Best is trial 75 with value: 0.8021924484089415.\u001b[0m\n",
      "\u001b[32m[I 2020-10-22 01:19:25,771]\u001b[0m Trial 86 finished with value: 0.8021145863724632 and parameters: {'max_depth': 3, 'n_estimators': 820, 'class_weight': {0: 1.0, 1: 14}, 'min_samples_leaf': 0.016737799210746397}. Best is trial 75 with value: 0.8021924484089415.\u001b[0m\n",
      "\u001b[32m[I 2020-10-22 01:19:43,175]\u001b[0m Trial 87 finished with value: 0.7967145076001524 and parameters: {'max_depth': 49, 'n_estimators': 1430, 'class_weight': {0: 1.0, 1: 14}, 'min_samples_leaf': 0.016513388393489488}. Best is trial 75 with value: 0.8021924484089415.\u001b[0m\n",
      "\u001b[32m[I 2020-10-22 01:19:51,514]\u001b[0m Trial 88 finished with value: 0.7990391304893676 and parameters: {'max_depth': 36, 'n_estimators': 800, 'class_weight': {0: 1.0, 1: 14}, 'min_samples_leaf': 0.03089666873608254}. Best is trial 75 with value: 0.8021924484089415.\u001b[0m\n",
      "\u001b[32m[I 2020-10-22 01:19:57,113]\u001b[0m Trial 89 finished with value: 0.8020966449253834 and parameters: {'max_depth': 3, 'n_estimators': 690, 'class_weight': {0: 1.0, 1: 14}, 'min_samples_leaf': 0.015553536437461575}. Best is trial 75 with value: 0.8021924484089415.\u001b[0m\n",
      "\u001b[32m[I 2020-10-22 01:20:06,303]\u001b[0m Trial 90 finished with value: 0.7959830703067048 and parameters: {'max_depth': 13, 'n_estimators': 710, 'class_weight': {0: 1.0, 1: 14}, 'min_samples_leaf': 0.013319363913185707}. Best is trial 75 with value: 0.8021924484089415.\u001b[0m\n",
      "\u001b[32m[I 2020-10-22 01:20:14,239]\u001b[0m Trial 91 finished with value: 0.8012654885873045 and parameters: {'max_depth': 3, 'n_estimators': 1030, 'class_weight': {0: 1.0, 1: 14}, 'min_samples_leaf': 0.03592382388320738}. Best is trial 75 with value: 0.8021924484089415.\u001b[0m\n"
     ]
    },
    {
     "name": "stderr",
     "output_type": "stream",
     "text": [
      "\u001b[32m[I 2020-10-22 01:20:21,739]\u001b[0m Trial 92 finished with value: 0.7979649557457198 and parameters: {'max_depth': 15, 'n_estimators': 660, 'class_weight': {0: 1.0, 1: 14}, 'min_samples_leaf': 0.022219155492572508}. Best is trial 75 with value: 0.8021924484089415.\u001b[0m\n",
      "\u001b[32m[I 2020-10-22 01:20:29,103]\u001b[0m Trial 93 finished with value: 0.802145313396067 and parameters: {'max_depth': 3, 'n_estimators': 900, 'class_weight': {0: 1.0, 1: 14}, 'min_samples_leaf': 0.0072758331110604315}. Best is trial 75 with value: 0.8021924484089415.\u001b[0m\n",
      "\u001b[32m[I 2020-10-22 01:20:37,037]\u001b[0m Trial 94 finished with value: 0.802048631813632 and parameters: {'max_depth': 3, 'n_estimators': 960, 'class_weight': {0: 1.0, 1: 14}, 'min_samples_leaf': 0.006943175352849769}. Best is trial 75 with value: 0.8021924484089415.\u001b[0m\n",
      "\u001b[32m[I 2020-10-22 01:20:46,253]\u001b[0m Trial 95 finished with value: 0.7975611017500059 and parameters: {'max_depth': 47, 'n_estimators': 780, 'class_weight': {0: 1.0, 1: 14}, 'min_samples_leaf': 0.019262430914815196}. Best is trial 75 with value: 0.8021924484089415.\u001b[0m\n",
      "\u001b[32m[I 2020-10-22 01:20:56,598]\u001b[0m Trial 96 finished with value: 0.7950563457394425 and parameters: {'max_depth': 17, 'n_estimators': 730, 'class_weight': {0: 1.0, 1: 14}, 'min_samples_leaf': 0.009028333850614101}. Best is trial 75 with value: 0.8021924484089415.\u001b[0m\n",
      "\u001b[32m[I 2020-10-22 01:21:07,972]\u001b[0m Trial 97 finished with value: 0.7964614174788792 and parameters: {'max_depth': 9, 'n_estimators': 900, 'class_weight': {0: 1.0, 1: 14}, 'min_samples_leaf': 0.013868664485456874}. Best is trial 75 with value: 0.8021924484089415.\u001b[0m\n",
      "\u001b[32m[I 2020-10-22 01:21:13,544]\u001b[0m Trial 98 finished with value: 0.790368702903114 and parameters: {'max_depth': 24, 'n_estimators': 310, 'class_weight': {0: 1.0, 1: 10}, 'min_samples_leaf': 0.003685965732079892}. Best is trial 75 with value: 0.8021924484089415.\u001b[0m\n",
      "\u001b[32m[I 2020-10-22 01:21:15,100]\u001b[0m Trial 99 finished with value: 0.7979871776964671 and parameters: {'max_depth': 44, 'n_estimators': 150, 'class_weight': {0: 1.0, 1: 17}, 'min_samples_leaf': 0.06624622575771859}. Best is trial 75 with value: 0.8021924484089415.\u001b[0m\n",
      "\u001b[32m[I 2020-10-22 01:21:25,489]\u001b[0m Trial 100 finished with value: 0.7991260439930716 and parameters: {'max_depth': 6, 'n_estimators': 840, 'class_weight': 'balanced', 'min_samples_leaf': 0.005868636064857583}. Best is trial 75 with value: 0.8021924484089415.\u001b[0m\n",
      "\u001b[32m[I 2020-10-22 01:21:32,361]\u001b[0m Trial 101 finished with value: 0.8021011488221532 and parameters: {'max_depth': 3, 'n_estimators': 840, 'class_weight': {0: 1.0, 1: 14}, 'min_samples_leaf': 0.0004955213617946837}. Best is trial 75 with value: 0.8021924484089415.\u001b[0m\n",
      "\u001b[32m[I 2020-10-22 01:21:40,162]\u001b[0m Trial 102 finished with value: 0.8020670847509452 and parameters: {'max_depth': 3, 'n_estimators': 960, 'class_weight': {0: 1.0, 1: 14}, 'min_samples_leaf': 0.010599674520796151}. Best is trial 75 with value: 0.8021924484089415.\u001b[0m\n",
      "\u001b[32m[I 2020-10-22 01:21:46,942]\u001b[0m Trial 103 finished with value: 0.8021244360411662 and parameters: {'max_depth': 3, 'n_estimators': 820, 'class_weight': {0: 1.0, 1: 14}, 'min_samples_leaf': 0.01555479863100429}. Best is trial 75 with value: 0.8021924484089415.\u001b[0m\n",
      "\u001b[32m[I 2020-10-22 01:21:55,837]\u001b[0m Trial 104 finished with value: 0.8019534041380785 and parameters: {'max_depth': 3, 'n_estimators': 1110, 'class_weight': {0: 1.0, 1: 14}, 'min_samples_leaf': 0.020377152876295917}. Best is trial 75 with value: 0.8021924484089415.\u001b[0m\n",
      "\u001b[32m[I 2020-10-22 01:22:09,409]\u001b[0m Trial 105 finished with value: 0.7914798776523146 and parameters: {'max_depth': 10, 'n_estimators': 820, 'class_weight': {0: 1.0, 1: 15}, 'min_samples_leaf': 0.0017022235421641728}. Best is trial 75 with value: 0.8021924484089415.\u001b[0m\n",
      "\u001b[32m[I 2020-10-22 01:22:22,301]\u001b[0m Trial 106 finished with value: 0.7918576439270286 and parameters: {'max_depth': 43, 'n_estimators': 770, 'class_weight': {0: 1.0, 1: 14}, 'min_samples_leaf': 0.0045094540436411215}. Best is trial 75 with value: 0.8021924484089415.\u001b[0m\n",
      "\u001b[32m[I 2020-10-22 01:22:30,428]\u001b[0m Trial 107 finished with value: 0.7993733387976948 and parameters: {'max_depth': 8, 'n_estimators': 850, 'class_weight': {0: 1.0, 1: 12}, 'min_samples_leaf': 0.04117868794788829}. Best is trial 75 with value: 0.8021924484089415.\u001b[0m\n",
      "\u001b[32m[I 2020-10-22 01:22:38,741]\u001b[0m Trial 108 finished with value: 0.8019930621097583 and parameters: {'max_depth': 3, 'n_estimators': 1030, 'class_weight': {0: 1.0, 1: 11}, 'min_samples_leaf': 0.012765465694747569}. Best is trial 75 with value: 0.8021924484089415.\u001b[0m\n",
      "\u001b[32m[I 2020-10-22 01:22:50,452]\u001b[0m Trial 109 finished with value: 0.7873065532558459 and parameters: {'max_depth': 32, 'n_estimators': 620, 'class_weight': {0: 1.0, 1: 14}, 'min_samples_leaf': 0.002185449720581202}. Best is trial 75 with value: 0.8021924484089415.\u001b[0m\n",
      "\u001b[32m[I 2020-10-22 01:22:54,786]\u001b[0m Trial 110 finished with value: 0.7893280066402278 and parameters: {'max_depth': 46, 'n_estimators': 230, 'class_weight': {0: 1.0, 1: 14}, 'min_samples_leaf': 0.003045462658635293}. Best is trial 75 with value: 0.8021924484089415.\u001b[0m\n",
      "\u001b[32m[I 2020-10-22 01:23:02,109]\u001b[0m Trial 111 finished with value: 0.8021096488438146 and parameters: {'max_depth': 3, 'n_estimators': 910, 'class_weight': {0: 1.0, 1: 14}, 'min_samples_leaf': 0.015837449106935606}. Best is trial 75 with value: 0.8021924484089415.\u001b[0m\n",
      "\u001b[32m[I 2020-10-22 01:23:08,191]\u001b[0m Trial 112 finished with value: 0.8018773118399369 and parameters: {'max_depth': 3, 'n_estimators': 750, 'class_weight': {0: 1.0, 1: 14}, 'min_samples_leaf': 0.025323514457638908}. Best is trial 75 with value: 0.8021924484089415.\u001b[0m\n",
      "\u001b[32m[I 2020-10-22 01:23:18,499]\u001b[0m Trial 113 finished with value: 0.7981167432670467 and parameters: {'max_depth': 25, 'n_estimators': 910, 'class_weight': {0: 1.0, 1: 9.0}, 'min_samples_leaf': 0.02275382832444118}. Best is trial 75 with value: 0.8021924484089415.\u001b[0m\n",
      "\u001b[32m[I 2020-10-22 01:23:30,285]\u001b[0m Trial 114 finished with value: 0.7946907015659276 and parameters: {'max_depth': 28, 'n_estimators': 810, 'class_weight': {0: 1.0, 1: 14}, 'min_samples_leaf': 0.008575650197413683}. Best is trial 75 with value: 0.8021924484089415.\u001b[0m\n",
      "\u001b[32m[I 2020-10-22 01:23:40,115]\u001b[0m Trial 115 finished with value: 0.802042406250249 and parameters: {'max_depth': 3, 'n_estimators': 1220, 'class_weight': {0: 1.0, 1: 14}, 'min_samples_leaf': 0.01617697945413222}. Best is trial 75 with value: 0.8021924484089415.\u001b[0m\n",
      "\u001b[32m[I 2020-10-22 01:23:53,615]\u001b[0m Trial 116 finished with value: 0.7951685768567274 and parameters: {'max_depth': 19, 'n_estimators': 990, 'class_weight': {0: 1.0, 1: 13}, 'min_samples_leaf': 0.01093390335050154}. Best is trial 75 with value: 0.8021924484089415.\u001b[0m\n",
      "\u001b[32m[I 2020-10-22 01:24:01,754]\u001b[0m Trial 117 finished with value: 0.7988729034278205 and parameters: {'max_depth': None, 'n_estimators': 930, 'class_weight': {0: 1.0, 1: 14}, 'min_samples_leaf': 0.05902954024150697}. Best is trial 75 with value: 0.8021924484089415.\u001b[0m\n",
      "\u001b[32m[I 2020-10-22 01:24:07,709]\u001b[0m Trial 118 finished with value: 0.8009436525344977 and parameters: {'max_depth': 2, 'n_estimators': 880, 'class_weight': {0: 1.0, 1: 16}, 'min_samples_leaf': 0.007926435937737161}. Best is trial 75 with value: 0.8021924484089415.\u001b[0m\n",
      "\u001b[32m[I 2020-10-22 01:24:09,192]\u001b[0m Trial 119 finished with value: 0.8022993658999166 and parameters: {'max_depth': 3, 'n_estimators': 140, 'class_weight': {0: 1.0, 1: 14}, 'min_samples_leaf': 0.005869802903566057}. Best is trial 119 with value: 0.8022993658999166.\u001b[0m\n",
      "\u001b[32m[I 2020-10-22 01:24:10,739]\u001b[0m Trial 120 finished with value: 0.802264697926646 and parameters: {'max_depth': 3, 'n_estimators': 150, 'class_weight': {0: 1.0, 1: 14}, 'min_samples_leaf': 0.006408276538346644}. Best is trial 119 with value: 0.8022993658999166.\u001b[0m\n",
      "\u001b[32m[I 2020-10-22 01:24:12,707]\u001b[0m Trial 121 finished with value: 0.8023356045676003 and parameters: {'max_depth': 3, 'n_estimators': 200, 'class_weight': {0: 1.0, 1: 14}, 'min_samples_leaf': 0.005008080756613788}. Best is trial 121 with value: 0.8023356045676003.\u001b[0m\n",
      "\u001b[32m[I 2020-10-22 01:24:14,067]\u001b[0m Trial 122 finished with value: 0.8023969577401138 and parameters: {'max_depth': 3, 'n_estimators': 130, 'class_weight': {0: 1.0, 1: 14}, 'min_samples_leaf': 0.004904184790224416}. Best is trial 122 with value: 0.8023969577401138.\u001b[0m\n"
     ]
    },
    {
     "name": "stderr",
     "output_type": "stream",
     "text": [
      "\u001b[32m[I 2020-10-22 01:24:15,584]\u001b[0m Trial 123 finished with value: 0.8023756833102572 and parameters: {'max_depth': 3, 'n_estimators': 140, 'class_weight': {0: 1.0, 1: 14}, 'min_samples_leaf': 0.005341682272651386}. Best is trial 122 with value: 0.8023969577401138.\u001b[0m\n",
      "\u001b[32m[I 2020-10-22 01:24:18,957]\u001b[0m Trial 124 finished with value: 0.7927950146321121 and parameters: {'max_depth': 20, 'n_estimators': 200, 'class_weight': {0: 1.0, 1: 14}, 'min_samples_leaf': 0.005559585141026897}. Best is trial 122 with value: 0.8023969577401138.\u001b[0m\n",
      "\u001b[32m[I 2020-10-22 01:24:21,742]\u001b[0m Trial 125 finished with value: 0.7907719879009012 and parameters: {'max_depth': 33, 'n_estimators': 140, 'class_weight': {0: 1.0, 1: 14}, 'min_samples_leaf': 0.003442431905934052}. Best is trial 122 with value: 0.8023969577401138.\u001b[0m\n",
      "\u001b[32m[I 2020-10-22 01:24:25,926]\u001b[0m Trial 126 finished with value: 0.7932759869848947 and parameters: {'max_depth': 40, 'n_estimators': 260, 'class_weight': {0: 1.0, 1: 14}, 'min_samples_leaf': 0.006692454474163912}. Best is trial 122 with value: 0.8023969577401138.\u001b[0m\n",
      "\u001b[32m[I 2020-10-22 01:24:28,492]\u001b[0m Trial 127 finished with value: 0.7904388408225366 and parameters: {'max_depth': 48, 'n_estimators': 130, 'class_weight': {0: 1.0, 1: 14}, 'min_samples_leaf': 0.004531523129651287}. Best is trial 122 with value: 0.8023969577401138.\u001b[0m\n",
      "\u001b[32m[I 2020-10-22 01:24:30,325]\u001b[0m Trial 128 finished with value: 0.8023430477573366 and parameters: {'max_depth': 3, 'n_estimators': 190, 'class_weight': {0: 1.0, 1: 14}, 'min_samples_leaf': 0.004037157311493193}. Best is trial 122 with value: 0.8023969577401138.\u001b[0m\n",
      "\u001b[32m[I 2020-10-22 01:24:32,379]\u001b[0m Trial 129 finished with value: 0.7906733344710075 and parameters: {'max_depth': 21, 'n_estimators': 100, 'class_weight': {0: 1.0, 1: 14}, 'min_samples_leaf': 0.0050641085765797955}. Best is trial 122 with value: 0.8023969577401138.\u001b[0m\n",
      "\u001b[32m[I 2020-10-22 01:24:34,364]\u001b[0m Trial 130 finished with value: 0.8023430477573366 and parameters: {'max_depth': 3, 'n_estimators': 190, 'class_weight': {0: 1.0, 1: 14}, 'min_samples_leaf': 0.003997044480181385}. Best is trial 122 with value: 0.8023969577401138.\u001b[0m\n",
      "\u001b[32m[I 2020-10-22 01:24:36,201]\u001b[0m Trial 131 finished with value: 0.8022812152534755 and parameters: {'max_depth': 3, 'n_estimators': 200, 'class_weight': {0: 1.0, 1: 14}, 'min_samples_leaf': 0.0027965481186908543}. Best is trial 122 with value: 0.8023969577401138.\u001b[0m\n",
      "\u001b[32m[I 2020-10-22 01:24:37,960]\u001b[0m Trial 132 finished with value: 0.8023437735246501 and parameters: {'max_depth': 3, 'n_estimators': 180, 'class_weight': {0: 1.0, 1: 14}, 'min_samples_leaf': 0.002839524394274372}. Best is trial 122 with value: 0.8023969577401138.\u001b[0m\n",
      "\u001b[32m[I 2020-10-22 01:24:41,599]\u001b[0m Trial 133 finished with value: 0.7896604679066098 and parameters: {'max_depth': 31, 'n_estimators': 180, 'class_weight': {0: 1.0, 1: 14}, 'min_samples_leaf': 0.0030887059112981205}. Best is trial 122 with value: 0.8023969577401138.\u001b[0m\n",
      "\u001b[32m[I 2020-10-22 01:24:44,125]\u001b[0m Trial 134 finished with value: 0.8021882891173672 and parameters: {'max_depth': 3, 'n_estimators': 270, 'class_weight': {0: 1.0, 1: 14}, 'min_samples_leaf': 0.00211085073489303}. Best is trial 122 with value: 0.8023969577401138.\u001b[0m\n",
      "\u001b[32m[I 2020-10-22 01:24:48,802]\u001b[0m Trial 135 finished with value: 0.7902431544347209 and parameters: {'max_depth': 12, 'n_estimators': 250, 'class_weight': {0: 1.0, 1: 14}, 'min_samples_leaf': 0.001940612598671347}. Best is trial 122 with value: 0.8023969577401138.\u001b[0m\n",
      "\u001b[32m[I 2020-10-22 01:24:55,128]\u001b[0m Trial 136 finished with value: 0.7843408854276215 and parameters: {'max_depth': 27, 'n_estimators': 300, 'class_weight': {0: 1.0, 1: 14}, 'min_samples_leaf': 0.0012128439708184256}. Best is trial 122 with value: 0.8023969577401138.\u001b[0m\n",
      "\u001b[32m[I 2020-10-22 01:24:56,334]\u001b[0m Trial 137 finished with value: 0.8023321419363898 and parameters: {'max_depth': 3, 'n_estimators': 100, 'class_weight': {0: 1.0, 1: 14}, 'min_samples_leaf': 0.002746041828693222}. Best is trial 122 with value: 0.8023969577401138.\u001b[0m\n",
      "\u001b[32m[I 2020-10-22 01:24:58,565]\u001b[0m Trial 138 finished with value: 0.7873135042665947 and parameters: {'max_depth': 41, 'n_estimators': 100, 'class_weight': {0: 1.0, 1: 14}, 'min_samples_leaf': 0.0024908444537777726}. Best is trial 122 with value: 0.8023969577401138.\u001b[0m\n",
      "\u001b[32m[I 2020-10-22 01:25:01,950]\u001b[0m Trial 139 finished with value: 0.791893236058379 and parameters: {'max_depth': 38, 'n_estimators': 180, 'class_weight': {0: 1.0, 1: 10}, 'min_samples_leaf': 0.0038559485334392135}. Best is trial 122 with value: 0.8023969577401138.\u001b[0m\n",
      "\u001b[32m[I 2020-10-22 01:25:03,819]\u001b[0m Trial 140 finished with value: 0.7991310427742933 and parameters: {'max_depth': 5, 'n_estimators': 130, 'class_weight': {0: 1.0, 1: 14}, 'min_samples_leaf': 0.0014582356940366697}. Best is trial 122 with value: 0.8023969577401138.\u001b[0m\n",
      "\u001b[32m[I 2020-10-22 01:25:06,068]\u001b[0m Trial 141 finished with value: 0.8023503809298328 and parameters: {'max_depth': 3, 'n_estimators': 240, 'class_weight': {0: 1.0, 1: 14}, 'min_samples_leaf': 0.002643210507240753}. Best is trial 122 with value: 0.8023969577401138.\u001b[0m\n",
      "\u001b[32m[I 2020-10-22 01:25:08,067]\u001b[0m Trial 142 finished with value: 0.8023240687763152 and parameters: {'max_depth': 3, 'n_estimators': 210, 'class_weight': {0: 1.0, 1: 14}, 'min_samples_leaf': 0.002786544011194185}. Best is trial 122 with value: 0.8023969577401138.\u001b[0m\n",
      "\u001b[32m[I 2020-10-22 01:25:09,965]\u001b[0m Trial 143 finished with value: 0.8022863924477978 and parameters: {'max_depth': 3, 'n_estimators': 200, 'class_weight': {0: 1.0, 1: 14}, 'min_samples_leaf': 0.0027184582142805377}. Best is trial 122 with value: 0.8023969577401138.\u001b[0m\n",
      "\u001b[32m[I 2020-10-22 01:25:13,974]\u001b[0m Trial 144 finished with value: 0.7888033534827029 and parameters: {'max_depth': 30, 'n_estimators': 200, 'class_weight': {0: 1.0, 1: 14}, 'min_samples_leaf': 0.0027807979179010735}. Best is trial 122 with value: 0.8023969577401138.\u001b[0m\n",
      "\u001b[32m[I 2020-10-22 01:25:16,816]\u001b[0m Trial 145 finished with value: 0.8022844084323811 and parameters: {'max_depth': 3, 'n_estimators': 330, 'class_weight': {0: 1.0, 1: 14}, 'min_samples_leaf': 0.00391254932049655}. Best is trial 122 with value: 0.8023969577401138.\u001b[0m\n",
      "\u001b[32m[I 2020-10-22 01:25:19,590]\u001b[0m Trial 146 finished with value: 0.7919899098178445 and parameters: {'max_depth': 16, 'n_estimators': 150, 'class_weight': {0: 1.0, 1: 14}, 'min_samples_leaf': 0.004434397552299094}. Best is trial 122 with value: 0.8023969577401138.\u001b[0m\n",
      "\u001b[32m[I 2020-10-22 01:25:25,488]\u001b[0m Trial 147 finished with value: 0.790509659103227 and parameters: {'max_depth': 23, 'n_estimators': 320, 'class_weight': {0: 1.0, 1: 17}, 'min_samples_leaf': 0.0034197972097035232}. Best is trial 122 with value: 0.8023969577401138.\u001b[0m\n",
      "\u001b[32m[I 2020-10-22 01:25:27,601]\u001b[0m Trial 148 finished with value: 0.8020264538963048 and parameters: {'max_depth': 3, 'n_estimators': 230, 'class_weight': 'balanced', 'min_samples_leaf': 0.0027277104059651035}. Best is trial 122 with value: 0.8023969577401138.\u001b[0m\n",
      "\u001b[32m[I 2020-10-22 01:25:30,928]\u001b[0m Trial 149 finished with value: 0.7914307105522996 and parameters: {'max_depth': 39, 'n_estimators': 180, 'class_weight': {0: 1.0, 1: 14}, 'min_samples_leaf': 0.003961829540984878}. Best is trial 122 with value: 0.8023969577401138.\u001b[0m\n",
      "\u001b[32m[I 2020-10-22 01:25:32,787]\u001b[0m Trial 150 finished with value: 0.7912769538889781 and parameters: {'max_depth': 22, 'n_estimators': 100, 'class_weight': {0: 1.0, 1: 15}, 'min_samples_leaf': 0.005914495650146879}. Best is trial 122 with value: 0.8023969577401138.\u001b[0m\n",
      "\u001b[32m[I 2020-10-22 01:25:35,362]\u001b[0m Trial 151 finished with value: 0.8021691324161886 and parameters: {'max_depth': 3, 'n_estimators': 280, 'class_weight': {0: 1.0, 1: 14}, 'min_samples_leaf': 0.0021341649671196366}. Best is trial 122 with value: 0.8023969577401138.\u001b[0m\n",
      "\u001b[32m[I 2020-10-22 01:25:36,910]\u001b[0m Trial 152 finished with value: 0.8023686280529306 and parameters: {'max_depth': 3, 'n_estimators': 140, 'class_weight': {0: 1.0, 1: 14}, 'min_samples_leaf': 0.003271503864667287}. Best is trial 122 with value: 0.8023969577401138.\u001b[0m\n",
      "\u001b[32m[I 2020-10-22 01:25:38,485]\u001b[0m Trial 153 finished with value: 0.8024123420692364 and parameters: {'max_depth': 3, 'n_estimators': 140, 'class_weight': {0: 1.0, 1: 14}, 'min_samples_leaf': 0.005010143254989184}. Best is trial 153 with value: 0.8024123420692364.\u001b[0m\n"
     ]
    },
    {
     "name": "stderr",
     "output_type": "stream",
     "text": [
      "\u001b[32m[I 2020-10-22 01:25:40,112]\u001b[0m Trial 154 finished with value: 0.8023206030931688 and parameters: {'max_depth': 3, 'n_estimators': 160, 'class_weight': {0: 1.0, 1: 14}, 'min_samples_leaf': 0.004994109228659473}. Best is trial 153 with value: 0.8024123420692364.\u001b[0m\n",
      "\u001b[32m[I 2020-10-22 01:25:43,414]\u001b[0m Trial 155 finished with value: 0.7920477824072648 and parameters: {'max_depth': 34, 'n_estimators': 190, 'class_weight': {0: 1.0, 1: 14}, 'min_samples_leaf': 0.0053199508406276165}. Best is trial 153 with value: 0.8024123420692364.\u001b[0m\n",
      "\u001b[32m[I 2020-10-22 01:25:45,412]\u001b[0m Trial 156 finished with value: 0.8023414337357089 and parameters: {'max_depth': 3, 'n_estimators': 210, 'class_weight': {0: 1.0, 1: 14}, 'min_samples_leaf': 0.0033084410449988155}. Best is trial 153 with value: 0.8024123420692364.\u001b[0m\n",
      "\u001b[32m[I 2020-10-22 01:25:48,427]\u001b[0m Trial 157 finished with value: 0.8021495549440332 and parameters: {'max_depth': 3, 'n_estimators': 330, 'class_weight': {0: 1.0, 1: 11}, 'min_samples_leaf': 0.0034113389781552953}. Best is trial 153 with value: 0.8024123420692364.\u001b[0m\n",
      "\u001b[32m[I 2020-10-22 01:25:52,395]\u001b[0m Trial 158 finished with value: 0.79183611425187 and parameters: {'max_depth': 35, 'n_estimators': 230, 'class_weight': {0: 1.0, 1: 14}, 'min_samples_leaf': 0.004223826646952634}. Best is trial 153 with value: 0.8024123420692364.\u001b[0m\n",
      "\u001b[32m[I 2020-10-22 01:25:54,738]\u001b[0m Trial 159 finished with value: 0.7911127958047037 and parameters: {'max_depth': 42, 'n_estimators': 130, 'class_weight': {0: 1.0, 1: 9.0}, 'min_samples_leaf': 0.005253346728182808}. Best is trial 153 with value: 0.8024123420692364.\u001b[0m\n",
      "\u001b[32m[I 2020-10-22 01:25:55,962]\u001b[0m Trial 160 finished with value: 0.8023518405941144 and parameters: {'max_depth': 3, 'n_estimators': 100, 'class_weight': {0: 1.0, 1: 14}, 'min_samples_leaf': 0.003448714151603367}. Best is trial 153 with value: 0.8024123420692364.\u001b[0m\n",
      "\u001b[32m[I 2020-10-22 01:25:57,530]\u001b[0m Trial 161 finished with value: 0.8023434204565902 and parameters: {'max_depth': 3, 'n_estimators': 150, 'class_weight': {0: 1.0, 1: 14}, 'min_samples_leaf': 0.0038522351831680422}. Best is trial 153 with value: 0.8024123420692364.\u001b[0m\n",
      "\u001b[32m[I 2020-10-22 01:25:59,580]\u001b[0m Trial 162 finished with value: 0.7891576101449307 and parameters: {'max_depth': 37, 'n_estimators': 100, 'class_weight': {0: 1.0, 1: 12}, 'min_samples_leaf': 0.003176800204690303}. Best is trial 153 with value: 0.8024123420692364.\u001b[0m\n",
      "\u001b[32m[I 2020-10-22 01:26:01,208]\u001b[0m Trial 163 finished with value: 0.802271465446575 and parameters: {'max_depth': 3, 'n_estimators': 160, 'class_weight': {0: 1.0, 1: 14}, 'min_samples_leaf': 0.002321465083984589}. Best is trial 153 with value: 0.8024123420692364.\u001b[0m\n",
      "\u001b[32m[I 2020-10-22 01:26:03,499]\u001b[0m Trial 164 finished with value: 0.7868388488761333 and parameters: {'max_depth': 14, 'n_estimators': 100, 'class_weight': {0: 1.0, 1: 14}, 'min_samples_leaf': 0.0015578802672044857}. Best is trial 153 with value: 0.8024123420692364.\u001b[0m\n",
      "\u001b[32m[I 2020-10-22 01:26:05,943]\u001b[0m Trial 165 finished with value: 0.80187675227798 and parameters: {'max_depth': 4, 'n_estimators': 220, 'class_weight': {0: 1.0, 1: 14}, 'min_samples_leaf': 0.004546761092893165}. Best is trial 153 with value: 0.8024123420692364.\u001b[0m\n",
      "\u001b[32m[I 2020-10-22 01:26:08,867]\u001b[0m Trial 166 finished with value: 0.7885597247379892 and parameters: {'max_depth': 26, 'n_estimators': 150, 'class_weight': {0: 1.0, 1: 14}, 'min_samples_leaf': 0.0027499536074083405}. Best is trial 153 with value: 0.8024123420692364.\u001b[0m\n",
      "\u001b[32m[I 2020-10-22 01:26:10,253]\u001b[0m Trial 167 finished with value: 0.8023694062900046 and parameters: {'max_depth': 3, 'n_estimators': 130, 'class_weight': {0: 1.0, 1: 14}, 'min_samples_leaf': 0.0033411519220479416}. Best is trial 153 with value: 0.8024123420692364.\u001b[0m\n",
      "\u001b[32m[I 2020-10-22 01:26:12,941]\u001b[0m Trial 168 finished with value: 0.7903663550110421 and parameters: {'max_depth': 29, 'n_estimators': 130, 'class_weight': {0: 1.0, 1: 16}, 'min_samples_leaf': 0.0036110011769451135}. Best is trial 153 with value: 0.8024123420692364.\u001b[0m\n",
      "\u001b[32m[I 2020-10-22 01:26:14,197]\u001b[0m Trial 169 finished with value: 0.8024281495415904 and parameters: {'max_depth': 3, 'n_estimators': 100, 'class_weight': {0: 1.0, 1: 14}, 'min_samples_leaf': 0.00491708770788025}. Best is trial 169 with value: 0.8024281495415904.\u001b[0m\n",
      "\u001b[32m[I 2020-10-22 01:26:16,363]\u001b[0m Trial 170 finished with value: 0.7911708732352344 and parameters: {'max_depth': 45, 'n_estimators': 100, 'class_weight': {0: 1.0, 1: 14}, 'min_samples_leaf': 0.00468348876336885}. Best is trial 169 with value: 0.8024281495415904.\u001b[0m\n",
      "\u001b[32m[I 2020-10-22 01:26:18,145]\u001b[0m Trial 171 finished with value: 0.802264650534604 and parameters: {'max_depth': 3, 'n_estimators': 170, 'class_weight': {0: 1.0, 1: 14}, 'min_samples_leaf': 0.006081684404097063}. Best is trial 169 with value: 0.8024281495415904.\u001b[0m\n",
      "\u001b[32m[I 2020-10-22 01:26:19,578]\u001b[0m Trial 172 finished with value: 0.8024054706226771 and parameters: {'max_depth': 3, 'n_estimators': 130, 'class_weight': {0: 1.0, 1: 14}, 'min_samples_leaf': 0.003984806152414876}. Best is trial 169 with value: 0.8024281495415904.\u001b[0m\n",
      "\u001b[32m[I 2020-10-22 01:26:21,767]\u001b[0m Trial 173 finished with value: 0.8023509939744418 and parameters: {'max_depth': 3, 'n_estimators': 240, 'class_weight': {0: 1.0, 1: 14}, 'min_samples_leaf': 0.003898352923673482}. Best is trial 169 with value: 0.8024281495415904.\u001b[0m\n",
      "\u001b[32m[I 2020-10-22 01:26:23,990]\u001b[0m Trial 174 finished with value: 0.8023152498712619 and parameters: {'max_depth': 3, 'n_estimators': 240, 'class_weight': {0: 1.0, 1: 14}, 'min_samples_leaf': 0.0032604085179783865}. Best is trial 169 with value: 0.8024281495415904.\u001b[0m\n",
      "\u001b[32m[I 2020-10-22 01:26:25,162]\u001b[0m Trial 175 finished with value: 0.8024276526048318 and parameters: {'max_depth': 3, 'n_estimators': 100, 'class_weight': {0: 1.0, 1: 14}, 'min_samples_leaf': 0.004009633400401232}. Best is trial 169 with value: 0.8024281495415904.\u001b[0m\n",
      "\u001b[32m[I 2020-10-22 01:26:27,314]\u001b[0m Trial 176 finished with value: 0.7896573193612337 and parameters: {'max_depth': 18, 'n_estimators': 100, 'class_weight': {0: 1.0, 1: 14}, 'min_samples_leaf': 0.00396079423930376}. Best is trial 169 with value: 0.8024281495415904.\u001b[0m\n",
      "\u001b[32m[I 2020-10-22 01:26:30,911]\u001b[0m Trial 177 finished with value: 0.797308420551699 and parameters: {'max_depth': 7, 'n_estimators': 270, 'class_weight': {0: 1.0, 1: 14}, 'min_samples_leaf': 0.007177654633192291}. Best is trial 169 with value: 0.8024281495415904.\u001b[0m\n",
      "\u001b[32m[I 2020-10-22 01:26:32,063]\u001b[0m Trial 178 finished with value: 0.8023853467959384 and parameters: {'max_depth': 3, 'n_estimators': 100, 'class_weight': {0: 1.0, 1: 14}, 'min_samples_leaf': 0.003768022550804297}. Best is trial 169 with value: 0.8024281495415904.\u001b[0m\n",
      "\u001b[32m[I 2020-10-22 01:26:34,597]\u001b[0m Trial 179 finished with value: 0.791658368324767 and parameters: {'max_depth': 36, 'n_estimators': 130, 'class_weight': {0: 1.0, 1: 14}, 'min_samples_leaf': 0.004122565288529644}. Best is trial 169 with value: 0.8024281495415904.\u001b[0m\n",
      "\u001b[32m[I 2020-10-22 01:26:36,396]\u001b[0m Trial 180 finished with value: 0.8021512857531927 and parameters: {'max_depth': 3, 'n_estimators': 180, 'class_weight': {0: 1.0, 1: 14}, 'min_samples_leaf': 0.008172687985980908}. Best is trial 169 with value: 0.8024281495415904.\u001b[0m\n",
      "\u001b[32m[I 2020-10-22 01:26:37,757]\u001b[0m Trial 181 finished with value: 0.8022559084750138 and parameters: {'max_depth': 3, 'n_estimators': 110, 'class_weight': {0: 1.0, 1: 14}, 'min_samples_leaf': 0.0032888855485341123}. Best is trial 169 with value: 0.8024281495415904.\u001b[0m\n",
      "\u001b[32m[I 2020-10-22 01:26:39,518]\u001b[0m Trial 182 finished with value: 0.8023367392578802 and parameters: {'max_depth': 3, 'n_estimators': 170, 'class_weight': {0: 1.0, 1: 14}, 'min_samples_leaf': 0.00503947813747731}. Best is trial 169 with value: 0.8024281495415904.\u001b[0m\n",
      "\u001b[32m[I 2020-10-22 01:26:43,638]\u001b[0m Trial 183 finished with value: 0.7919393504232551 and parameters: {'max_depth': 49, 'n_estimators': 240, 'class_weight': {0: 1.0, 1: 14}, 'min_samples_leaf': 0.0050714325890591225}. Best is trial 169 with value: 0.8024281495415904.\u001b[0m\n",
      "\u001b[32m[I 2020-10-22 01:26:47,018]\u001b[0m Trial 184 finished with value: 0.7916770033670126 and parameters: {'max_depth': 15, 'n_estimators': 180, 'class_weight': {0: 1.0, 1: 14}, 'min_samples_leaf': 0.004038220307846747}. Best is trial 169 with value: 0.8024281495415904.\u001b[0m\n"
     ]
    },
    {
     "name": "stderr",
     "output_type": "stream",
     "text": [
      "\u001b[32m[I 2020-10-22 01:26:48,559]\u001b[0m Trial 185 finished with value: 0.8021789692239899 and parameters: {'max_depth': 3, 'n_estimators': 150, 'class_weight': {0: 1.0, 1: 10}, 'min_samples_leaf': 0.00554302030054362}. Best is trial 169 with value: 0.8024281495415904.\u001b[0m\n",
      "\u001b[32m[I 2020-10-22 01:26:50,693]\u001b[0m Trial 186 finished with value: 0.8023750770359397 and parameters: {'max_depth': 3, 'n_estimators': 210, 'class_weight': {0: 1.0, 1: 14}, 'min_samples_leaf': 0.003559114240811352}. Best is trial 169 with value: 0.8024281495415904.\u001b[0m\n",
      "\u001b[32m[I 2020-10-22 01:26:56,287]\u001b[0m Trial 187 finished with value: 0.7880861884979656 and parameters: {'max_depth': 47, 'n_estimators': 290, 'class_weight': {0: 1.0, 1: 14}, 'min_samples_leaf': 0.0022682501230628445}. Best is trial 169 with value: 0.8024281495415904.\u001b[0m\n",
      "\u001b[32m[I 2020-10-22 01:26:57,443]\u001b[0m Trial 188 finished with value: 0.8023716645022356 and parameters: {'max_depth': 3, 'n_estimators': 100, 'class_weight': {0: 1.0, 1: 14}, 'min_samples_leaf': 0.003566911082354859}. Best is trial 169 with value: 0.8024281495415904.\u001b[0m\n",
      "\u001b[32m[I 2020-10-22 01:26:59,552]\u001b[0m Trial 189 finished with value: 0.7894613567640835 and parameters: {'max_depth': 24, 'n_estimators': 100, 'class_weight': {0: 1.0, 1: 14}, 'min_samples_leaf': 0.0035978771606102037}. Best is trial 169 with value: 0.8024281495415904.\u001b[0m\n",
      "\u001b[32m[I 2020-10-22 01:27:02,099]\u001b[0m Trial 190 finished with value: 0.7885712155094866 and parameters: {'max_depth': 44, 'n_estimators': 130, 'class_weight': {0: 1.0, 1: 14}, 'min_samples_leaf': 0.003201748893707009}. Best is trial 169 with value: 0.8024281495415904.\u001b[0m\n",
      "\u001b[32m[I 2020-10-22 01:27:04,052]\u001b[0m Trial 191 finished with value: 0.8024321971233517 and parameters: {'max_depth': 3, 'n_estimators': 220, 'class_weight': {0: 1.0, 1: 14}, 'min_samples_leaf': 0.0043477331945775514}. Best is trial 191 with value: 0.8024321971233517.\u001b[0m\n",
      "\u001b[32m[I 2020-10-22 01:27:07,498]\u001b[0m Trial 192 finished with value: 0.7926684079724308 and parameters: {'max_depth': 11, 'n_estimators': 200, 'class_weight': {0: 1.0, 1: 14}, 'min_samples_leaf': 0.004102475239031206}. Best is trial 191 with value: 0.8024321971233517.\u001b[0m\n",
      "\u001b[32m[I 2020-10-22 01:27:09,941]\u001b[0m Trial 193 finished with value: 0.8023338747713321 and parameters: {'max_depth': 3, 'n_estimators': 240, 'class_weight': {0: 1.0, 1: 14}, 'min_samples_leaf': 0.0036915709285387237}. Best is trial 191 with value: 0.8024321971233517.\u001b[0m\n",
      "\u001b[32m[I 2020-10-22 01:27:11,699]\u001b[0m Trial 194 finished with value: 0.7936555409365662 and parameters: {'max_depth': 9, 'n_estimators': 100, 'class_weight': 'balanced', 'min_samples_leaf': 0.006614161060154005}. Best is trial 191 with value: 0.8024321971233517.\u001b[0m\n",
      "\u001b[32m[I 2020-10-22 01:27:13,431]\u001b[0m Trial 195 finished with value: 0.8021124987768882 and parameters: {'max_depth': 3, 'n_estimators': 160, 'class_weight': {0: 1.0, 1: 17}, 'min_samples_leaf': 0.002432325813081025}. Best is trial 191 with value: 0.8024321971233517.\u001b[0m\n",
      "\u001b[32m[I 2020-10-22 01:27:15,426]\u001b[0m Trial 196 finished with value: 0.8022990609035802 and parameters: {'max_depth': 3, 'n_estimators': 220, 'class_weight': {0: 1.0, 1: 14}, 'min_samples_leaf': 0.001975544205044755}. Best is trial 191 with value: 0.8024321971233517.\u001b[0m\n",
      "\u001b[32m[I 2020-10-22 01:27:17,740]\u001b[0m Trial 197 finished with value: 0.7924469155369269 and parameters: {'max_depth': 10, 'n_estimators': 130, 'class_weight': {0: 1.0, 1: 14}, 'min_samples_leaf': 0.004302186341729593}. Best is trial 191 with value: 0.8024321971233517.\u001b[0m\n",
      "\u001b[32m[I 2020-10-22 01:27:22,568]\u001b[0m Trial 198 finished with value: 0.7908789135082689 and parameters: {'max_depth': 13, 'n_estimators': 270, 'class_weight': {0: 1.0, 1: 14}, 'min_samples_leaf': 0.003128787797304455}. Best is trial 191 with value: 0.8024321971233517.\u001b[0m\n",
      "\u001b[32m[I 2020-10-22 01:27:24,686]\u001b[0m Trial 199 finished with value: 0.7990866128261639 and parameters: {'max_depth': 6, 'n_estimators': 140, 'class_weight': {0: 1.0, 1: 15}, 'min_samples_leaf': 0.004553159140085778}. Best is trial 191 with value: 0.8024321971233517.\u001b[0m\n"
     ]
    }
   ],
   "source": [
    "# Extracting the best model parameters and best study score\n",
    "best_study_score,best_study_params = train_roc_auc(X_train_Blender, y_train_Blender, rf_s, objective_wrappper_rf,\n",
    "                                                   cv_strat, cl_weight, n_trials=200) "
   ]
  },
  {
   "cell_type": "code",
   "execution_count": 37,
   "metadata": {},
   "outputs": [
    {
     "name": "stdout",
     "output_type": "stream",
     "text": [
      "The best roc_auc_score for the study is:  0.8024321971233517\n"
     ]
    }
   ],
   "source": [
    "print('The best roc_auc_score for the study is: ',best_study_score)"
   ]
  },
  {
   "cell_type": "code",
   "execution_count": 38,
   "metadata": {},
   "outputs": [
    {
     "name": "stdout",
     "output_type": "stream",
     "text": [
      "('The best study parameters for the classifier are: ', {'max_depth': 3, 'n_estimators': 220, 'class_weight': {0: 1.0, 1: 14}, 'min_samples_leaf': 0.0043477331945775514})\n"
     ]
    }
   ],
   "source": [
    "print(('The best study parameters for the classifier are: ',best_study_params))"
   ]
  },
  {
   "cell_type": "markdown",
   "metadata": {},
   "source": [
    "#### Computing the test set  roc_auc score using the best study Parameters"
   ]
  },
  {
   "cell_type": "code",
   "execution_count": 39,
   "metadata": {},
   "outputs": [],
   "source": [
    "# Obtaining the best blender RF model by setting best study parameters.\n",
    "rf_blender = rf_s.set_params(**best_study_params)"
   ]
  },
  {
   "cell_type": "code",
   "execution_count": 40,
   "metadata": {},
   "outputs": [
    {
     "data": {
      "text/plain": [
       "RandomForestClassifier(class_weight={0: 1.0, 1: 14}, max_depth=3,\n",
       "                       min_samples_leaf=0.0043477331945775514, n_estimators=220,\n",
       "                       n_jobs=5, random_state=42)"
      ]
     },
     "execution_count": 40,
     "metadata": {},
     "output_type": "execute_result"
    }
   ],
   "source": [
    "# fitting the best blender rf model on the blender training set\n",
    "rf_blender.fit(X_train_Blender, y_train_Blender)"
   ]
  },
  {
   "cell_type": "code",
   "execution_count": 41,
   "metadata": {},
   "outputs": [],
   "source": [
    "# Defining the function to calculate the roc_auc score for the feature sets\n",
    "def cal_roc_auc(X ,y , cls, f_set, t_set, model_name):\n",
    "    ''' Calculates the roc auc score using the best study parameters \n",
    "        f_set : String: specifies 'full feature', 'Reduced feature'\n",
    "        t_set: String: specifies 'training', 'test'\n",
    "        model_name: String: specifies Name of the model '''\n",
    "        \n",
    "    y_pred = cls.predict_proba(X)\n",
    "    print('The roc_auc_score for the {} {} set using the best {} classifier is '.format(f_set,t_set,model_name),roc_auc_score(y,y_pred[:,1]))"
   ]
  },
  {
   "cell_type": "code",
   "execution_count": 42,
   "metadata": {},
   "outputs": [],
   "source": [
    "# Importing the Sklearn's roc_auc_score module\n",
    "from sklearn.metrics import roc_auc_score"
   ]
  },
  {
   "cell_type": "code",
   "execution_count": 44,
   "metadata": {},
   "outputs": [
    {
     "name": "stdout",
     "output_type": "stream",
     "text": [
      "The roc_auc_score for the Reduced feature training probabilities set using the best Random Forest Blender classifier is  0.8084145430361763\n"
     ]
    }
   ],
   "source": [
    "# Calculating the reduced feature training probabilities set roc_auc score using the best study parameters\n",
    "cal_roc_auc(X_train_Blender, y_train_Blender, rf_blender,'Reduced feature',\n",
    "            'training probabilities', 'Random Forest Blender')"
   ]
  },
  {
   "cell_type": "code",
   "execution_count": 45,
   "metadata": {},
   "outputs": [
    {
     "name": "stdout",
     "output_type": "stream",
     "text": [
      "The roc_auc_score for the Reduced feature test probabilities set using the best Random Forest Blender classifier is  0.8130888396858342\n"
     ]
    }
   ],
   "source": [
    "# Calculating the reduced feature  test probabilities set roc_auc score using the best study parameters\n",
    "cal_roc_auc(X_test_Blender, y_test_Blender, rf_blender,'Reduced feature',\n",
    "            'test probabilities', 'Random Forest Blender')"
   ]
  },
  {
   "cell_type": "code",
   "execution_count": 46,
   "metadata": {},
   "outputs": [
    {
     "data": {
      "text/plain": [
       "['Random_Forest_Blender.joblib']"
      ]
     },
     "execution_count": 46,
     "metadata": {},
     "output_type": "execute_result"
    }
   ],
   "source": [
    "# Saving the Blender Model\n",
    "import joblib\n",
    "joblib.dump(rf_blender,'Random_Forest_Blender.joblib')"
   ]
  },
  {
   "cell_type": "markdown",
   "metadata": {},
   "source": [
    "### Calculating R_R ratio for the best Random forest Blender Classifier."
   ]
  },
  {
   "cell_type": "code",
   "execution_count": 47,
   "metadata": {},
   "outputs": [],
   "source": [
    "# Computing the CV scores using sklearn's cross_val_score\n",
    "score_blender = cross_val_score(rf_blender, X_train_Blender, y_train_Blender, cv=cv_strat, n_jobs=5, scoring='roc_auc')"
   ]
  },
  {
   "cell_type": "code",
   "execution_count": 48,
   "metadata": {},
   "outputs": [
    {
     "name": "stdout",
     "output_type": "stream",
     "text": [
      "The reward associated with the best Random Forest blender classifier using roc_auc metric is:  0.8024321971233517\n"
     ]
    }
   ],
   "source": [
    "print('The reward associated with the best Random Forest blender classifier using roc_auc metric is: ',np.mean(score_blender))"
   ]
  },
  {
   "cell_type": "code",
   "execution_count": 49,
   "metadata": {},
   "outputs": [
    {
     "name": "stdout",
     "output_type": "stream",
     "text": [
      "The risk associated with the best Random Forest blender Classifier using roc_auc metric is:  0.029289074299698722\n"
     ]
    }
   ],
   "source": [
    "print('The risk associated with the best Random Forest blender Classifier using roc_auc metric is: ',np.std(score_blender))"
   ]
  },
  {
   "cell_type": "code",
   "execution_count": 50,
   "metadata": {},
   "outputs": [],
   "source": [
    "R_R_Ratio_blender = np.mean(score_blender)/np.std(score_blender)"
   ]
  },
  {
   "cell_type": "code",
   "execution_count": 51,
   "metadata": {},
   "outputs": [
    {
     "name": "stdout",
     "output_type": "stream",
     "text": [
      "The reward risk ratio for the best Random Forest blender Classifier using roc_auc metric is:  27.396980488782663\n"
     ]
    }
   ],
   "source": [
    "print('The reward risk ratio for the best Random Forest blender Classifier using roc_auc metric is: ',R_R_Ratio_blender)"
   ]
  },
  {
   "cell_type": "code",
   "execution_count": 67,
   "metadata": {},
   "outputs": [
    {
     "data": {
      "text/plain": [
       "array([0.81415743, 0.81953973, 0.78121102, 0.82570455, 0.83815835,\n",
       "       0.81096388, 0.74971725, 0.77310097, 0.77314116, 0.83862763])"
      ]
     },
     "execution_count": 67,
     "metadata": {},
     "output_type": "execute_result"
    }
   ],
   "source": [
    "score_blender"
   ]
  },
  {
   "cell_type": "markdown",
   "metadata": {},
   "source": [
    "#### The R_R Ratio for the Random Forest Blender Classifier using roc_auc metric is: 27.396980488782663"
   ]
  },
  {
   "cell_type": "markdown",
   "metadata": {},
   "source": [
    "### Removing Linear Discriminant Analysis Classifier from the classifier list to see if it leads to better  results"
   ]
  },
  {
   "cell_type": "code",
   "execution_count": 52,
   "metadata": {},
   "outputs": [],
   "source": [
    "# Refining the Classifier list\n",
    "clfs_red = [lr, rf, lgbm, neural]"
   ]
  },
  {
   "cell_type": "code",
   "execution_count": 53,
   "metadata": {},
   "outputs": [],
   "source": [
    "# Removing the LDA probabilities column from the Blender's train & test feature set\n",
    "X_train_Blender_red = X_train_Blender.drop(columns=['Lin_Dis'])\n",
    "X_test_Blender_red = X_test_Blender.drop(columns=['Lin_Dis'])"
   ]
  },
  {
   "cell_type": "code",
   "execution_count": 54,
   "metadata": {},
   "outputs": [],
   "source": [
    "# Instantiating the Random forest classifier\n",
    "rf_s = RandomForestClassifier(n_jobs=5, random_state=42)"
   ]
  },
  {
   "cell_type": "code",
   "execution_count": 55,
   "metadata": {},
   "outputs": [
    {
     "name": "stderr",
     "output_type": "stream",
     "text": [
      "\u001b[32m[I 2020-10-22 01:51:01,040]\u001b[0m A new study created in memory with name: no-name-48e474c6-f735-4632-ac2e-6eccc1cea2da\u001b[0m\n",
      "\u001b[32m[I 2020-10-22 01:51:21,538]\u001b[0m Trial 0 finished with value: 0.7624172761547174 and parameters: {'max_depth': 21, 'n_estimators': 850, 'class_weight': {0: 1.0, 1: 14}, 'min_samples_leaf': 5.354191395838755e-05}. Best is trial 0 with value: 0.7624172761547174.\u001b[0m\n",
      "\u001b[32m[I 2020-10-22 01:51:47,052]\u001b[0m Trial 1 finished with value: 0.7892351840312295 and parameters: {'max_depth': 49, 'n_estimators': 1620, 'class_weight': {0: 1.0, 1: 13}, 'min_samples_leaf': 0.004758954062131727}. Best is trial 1 with value: 0.7892351840312295.\u001b[0m\n",
      "\u001b[32m[I 2020-10-22 01:52:22,223]\u001b[0m Trial 2 finished with value: 0.7630701412372634 and parameters: {'max_depth': 27, 'n_estimators': 1450, 'class_weight': {0: 1.0, 1: 13}, 'min_samples_leaf': 1.025240429292137e-05}. Best is trial 1 with value: 0.7892351840312295.\u001b[0m\n",
      "\u001b[32m[I 2020-10-22 01:52:55,848]\u001b[0m Trial 3 finished with value: 0.7629572957027444 and parameters: {'max_depth': 44, 'n_estimators': 1360, 'class_weight': {0: 1.0, 1: 17}, 'min_samples_leaf': 2.02497417418411e-05}. Best is trial 1 with value: 0.7892351840312295.\u001b[0m\n",
      "\u001b[32m[I 2020-10-22 01:53:13,894]\u001b[0m Trial 4 finished with value: 0.7973806703760888 and parameters: {'max_depth': 17, 'n_estimators': 1580, 'class_weight': {0: 1.0, 1: 9.0}, 'min_samples_leaf': 0.02115892768142059}. Best is trial 4 with value: 0.7973806703760888.\u001b[0m\n",
      "\u001b[32m[I 2020-10-22 01:53:16,029]\u001b[0m Trial 5 finished with value: 0.7998833205325087 and parameters: {'max_depth': 2, 'n_estimators': 290, 'class_weight': {0: 1.0, 1: 9.0}, 'min_samples_leaf': 0.0462330129914}. Best is trial 5 with value: 0.7998833205325087.\u001b[0m\n",
      "\u001b[32m[I 2020-10-22 01:53:22,083]\u001b[0m Trial 6 finished with value: 0.7944566827977189 and parameters: {'max_depth': 29, 'n_estimators': 450, 'class_weight': {0: 1.0, 1: 17}, 'min_samples_leaf': 0.012296937332547869}. Best is trial 5 with value: 0.7998833205325087.\u001b[0m\n",
      "\u001b[32m[I 2020-10-22 01:53:50,795]\u001b[0m Trial 7 finished with value: 0.7630159532995304 and parameters: {'max_depth': 47, 'n_estimators': 1170, 'class_weight': {0: 1.0, 1: 11}, 'min_samples_leaf': 1.1857475634935245e-05}. Best is trial 5 with value: 0.7998833205325087.\u001b[0m\n",
      "\u001b[32m[I 2020-10-22 01:54:14,709]\u001b[0m Trial 8 finished with value: 0.7634857347596468 and parameters: {'max_depth': 14, 'n_estimators': 1150, 'class_weight': {0: 1.0, 1: 18}, 'min_samples_leaf': 1.291279580557639e-05}. Best is trial 5 with value: 0.7998833205325087.\u001b[0m\n",
      "\u001b[32m[I 2020-10-22 01:54:17,711]\u001b[0m Trial 9 finished with value: 0.7733582678070883 and parameters: {'max_depth': 42, 'n_estimators': 120, 'class_weight': {0: 1.0, 1: 12}, 'min_samples_leaf': 0.0002965511371904427}. Best is trial 5 with value: 0.7998833205325087.\u001b[0m\n",
      "\u001b[32m[I 2020-10-22 01:54:19,309]\u001b[0m Trial 10 finished with value: 0.7968157096851386 and parameters: {'max_depth': 13, 'n_estimators': 160, 'class_weight': {0: 1.0, 1: 15}, 'min_samples_leaf': 0.06930240988914006}. Best is trial 5 with value: 0.7998833205325087.\u001b[0m\n",
      "\u001b[32m[I 2020-10-22 01:54:32,764]\u001b[0m Trial 11 finished with value: 0.7951803546726788 and parameters: {'max_depth': 39, 'n_estimators': 1880, 'class_weight': {0: 1.0, 1: 9.0}, 'min_samples_leaf': 0.09296978593837842}. Best is trial 5 with value: 0.7998833205325087.\u001b[0m\n",
      "\u001b[32m[I 2020-10-22 01:54:41,675]\u001b[0m Trial 12 finished with value: 0.7951165648748335 and parameters: {'max_depth': 17, 'n_estimators': 700, 'class_weight': {0: 1.0, 1: 9.0}, 'min_samples_leaf': 0.0143888433436786}. Best is trial 5 with value: 0.7998833205325087.\u001b[0m\n",
      "\u001b[32m[I 2020-10-22 01:54:54,395]\u001b[0m Trial 13 finished with value: 0.8012118643028803 and parameters: {'max_depth': 2, 'n_estimators': 1990, 'class_weight': {0: 1.0, 1: 9.0}, 'min_samples_leaf': 0.0009579577275568469}. Best is trial 13 with value: 0.8012118643028803.\u001b[0m\n",
      "\u001b[32m[I 2020-10-22 01:55:07,114]\u001b[0m Trial 14 finished with value: 0.8011947369833778 and parameters: {'max_depth': 2, 'n_estimators': 1990, 'class_weight': {0: 1.0, 1: 16}, 'min_samples_leaf': 0.0007701579706831617}. Best is trial 13 with value: 0.8012118643028803.\u001b[0m\n",
      "\u001b[32m[I 2020-10-22 01:55:47,551]\u001b[0m Trial 15 finished with value: 0.7815642660891926 and parameters: {'max_depth': 20, 'n_estimators': 1970, 'class_weight': {0: 1.0, 1: 16}, 'min_samples_leaf': 0.0008667853493708077}. Best is trial 13 with value: 0.8012118643028803.\u001b[0m\n",
      "\u001b[32m[I 2020-10-22 01:56:29,066]\u001b[0m Trial 16 finished with value: 0.7739102428514377 and parameters: {'max_depth': 25, 'n_estimators': 1820, 'class_weight': {0: 1.0, 1: 10}, 'min_samples_leaf': 0.00025442847620845034}. Best is trial 13 with value: 0.8012118643028803.\u001b[0m\n",
      "\u001b[32m[I 2020-10-22 01:56:57,662]\u001b[0m Trial 17 finished with value: 0.7933363550667032 and parameters: {'max_depth': 8, 'n_estimators': 1990, 'class_weight': {0: 1.0, 1: 16}, 'min_samples_leaf': 0.0027560294990617577}. Best is trial 13 with value: 0.8012118643028803.\u001b[0m\n",
      "\u001b[32m[I 2020-10-22 01:57:08,866]\u001b[0m Trial 18 finished with value: 0.8013101020262537 and parameters: {'max_depth': 2, 'n_estimators': 1730, 'class_weight': 'balanced', 'min_samples_leaf': 0.0006660112913361401}. Best is trial 18 with value: 0.8013101020262537.\u001b[0m\n",
      "\u001b[32m[I 2020-10-22 01:57:49,797]\u001b[0m Trial 19 finished with value: 0.7718730564546483 and parameters: {'max_depth': 32, 'n_estimators': 1720, 'class_weight': 'balanced', 'min_samples_leaf': 0.00018837087250158055}. Best is trial 18 with value: 0.8013101020262537.\u001b[0m\n",
      "\u001b[32m[I 2020-10-22 01:57:58,472]\u001b[0m Trial 20 finished with value: 0.801193937755747 and parameters: {'max_depth': 2, 'n_estimators': 1350, 'class_weight': 'balanced', 'min_samples_leaf': 0.0021243553637312206}. Best is trial 18 with value: 0.8013101020262537.\u001b[0m\n",
      "\u001b[32m[I 2020-10-22 01:58:11,130]\u001b[0m Trial 21 finished with value: 0.8013311266349987 and parameters: {'max_depth': 2, 'n_estimators': 1970, 'class_weight': 'balanced', 'min_samples_leaf': 0.0007186686437394669}. Best is trial 21 with value: 0.8013311266349987.\u001b[0m\n",
      "\u001b[32m[I 2020-10-22 01:58:54,489]\u001b[0m Trial 22 finished with value: 0.7668246270893159 and parameters: {'max_depth': 43, 'n_estimators': 1790, 'class_weight': 'balanced', 'min_samples_leaf': 8.777016475027765e-05}. Best is trial 21 with value: 0.8013311266349987.\u001b[0m\n",
      "\u001b[32m[I 2020-10-22 01:59:37,379]\u001b[0m Trial 23 finished with value: 0.7791298344479733 and parameters: {'max_depth': 19, 'n_estimators': 2000, 'class_weight': 'balanced', 'min_samples_leaf': 0.0005119605170466391}. Best is trial 21 with value: 0.8013311266349987.\u001b[0m\n",
      "\u001b[32m[I 2020-10-22 02:00:06,873]\u001b[0m Trial 24 finished with value: 0.7859725959708377 and parameters: {'max_depth': 16, 'n_estimators': 1620, 'class_weight': 'balanced', 'min_samples_leaf': 0.0024082733553175144}. Best is trial 21 with value: 0.8013311266349987.\u001b[0m\n",
      "\u001b[32m[I 2020-10-22 02:00:41,755]\u001b[0m Trial 25 finished with value: 0.782111423137676 and parameters: {'max_depth': None, 'n_estimators': 1730, 'class_weight': 'balanced', 'min_samples_leaf': 0.0013330441254713304}. Best is trial 21 with value: 0.8013311266349987.\u001b[0m\n",
      "\u001b[32m[I 2020-10-22 02:00:59,457]\u001b[0m Trial 26 finished with value: 0.797116831843151 and parameters: {'max_depth': 6, 'n_estimators': 1480, 'class_weight': {0: 1.0, 1: 18}, 'min_samples_leaf': 0.005258353132772639}. Best is trial 21 with value: 0.8013311266349987.\u001b[0m\n",
      "\u001b[32m[I 2020-10-22 02:01:30,381]\u001b[0m Trial 27 finished with value: 0.781398787385254 and parameters: {'max_depth': 9, 'n_estimators': 1880, 'class_weight': {0: 1.0, 1: 11}, 'min_samples_leaf': 0.0001305060614134501}. Best is trial 21 with value: 0.8013311266349987.\u001b[0m\n",
      "\u001b[32m[I 2020-10-22 02:01:39,814]\u001b[0m Trial 28 finished with value: 0.8009068844512219 and parameters: {'max_depth': 4, 'n_estimators': 970, 'class_weight': {0: 1.0, 1: 10}, 'min_samples_leaf': 0.00039836657429393325}. Best is trial 21 with value: 0.8013311266349987.\u001b[0m\n",
      "\u001b[32m[I 2020-10-22 02:01:57,409]\u001b[0m Trial 29 finished with value: 0.7634579795741534 and parameters: {'max_depth': 24, 'n_estimators': 730, 'class_weight': {0: 1.0, 1: 14}, 'min_samples_leaf': 4.272790782287483e-05}. Best is trial 21 with value: 0.8013311266349987.\u001b[0m\n"
     ]
    },
    {
     "name": "stderr",
     "output_type": "stream",
     "text": [
      "\u001b[32m[I 2020-10-22 02:02:35,553]\u001b[0m Trial 30 finished with value: 0.7812512641480712 and parameters: {'max_depth': 46, 'n_estimators': 1890, 'class_weight': {0: 1.0, 1: 12}, 'min_samples_leaf': 0.0012069044358255356}. Best is trial 21 with value: 0.8013311266349987.\u001b[0m\n",
      "\u001b[32m[I 2020-10-22 02:02:48,506]\u001b[0m Trial 31 finished with value: 0.8011947369833778 and parameters: {'max_depth': 2, 'n_estimators': 1990, 'class_weight': {0: 1.0, 1: 16}, 'min_samples_leaf': 0.0006604227908373574}. Best is trial 21 with value: 0.8013311266349987.\u001b[0m\n",
      "\u001b[32m[I 2020-10-22 02:03:01,458]\u001b[0m Trial 32 finished with value: 0.8011464649079688 and parameters: {'max_depth': 2, 'n_estimators': 2000, 'class_weight': {0: 1.0, 1: 15}, 'min_samples_leaf': 0.0006128527072705956}. Best is trial 21 with value: 0.8013311266349987.\u001b[0m\n",
      "\u001b[32m[I 2020-10-22 02:03:12,303]\u001b[0m Trial 33 finished with value: 0.8011994771606755 and parameters: {'max_depth': 2, 'n_estimators': 1670, 'class_weight': {0: 1.0, 1: 16}, 'min_samples_leaf': 0.004767234930732213}. Best is trial 21 with value: 0.8013311266349987.\u001b[0m\n",
      "\u001b[32m[I 2020-10-22 02:03:38,510]\u001b[0m Trial 34 finished with value: 0.7901025539948701 and parameters: {'max_depth': 36, 'n_estimators': 1650, 'class_weight': {0: 1.0, 1: 13}, 'min_samples_leaf': 0.00531931527407946}. Best is trial 21 with value: 0.8013311266349987.\u001b[0m\n",
      "\u001b[32m[I 2020-10-22 02:04:08,186]\u001b[0m Trial 35 finished with value: 0.7825419657045165 and parameters: {'max_depth': 30, 'n_estimators': 1500, 'class_weight': 'balanced', 'min_samples_leaf': 0.0015802398486036457}. Best is trial 21 with value: 0.8013311266349987.\u001b[0m\n",
      "\u001b[32m[I 2020-10-22 02:04:30,301]\u001b[0m Trial 36 finished with value: 0.7874327177809977 and parameters: {'max_depth': 23, 'n_estimators': 1280, 'class_weight': {0: 1.0, 1: 9.0}, 'min_samples_leaf': 0.003619004585804136}. Best is trial 21 with value: 0.8013311266349987.\u001b[0m\n",
      "\u001b[32m[I 2020-10-22 02:04:42,583]\u001b[0m Trial 37 finished with value: 0.8022573261714442 and parameters: {'max_depth': 3, 'n_estimators': 1550, 'class_weight': {0: 1.0, 1: 14}, 'min_samples_leaf': 0.010499532750132635}. Best is trial 37 with value: 0.8022573261714442.\u001b[0m\n",
      "\u001b[32m[I 2020-10-22 02:05:03,004]\u001b[0m Trial 38 finished with value: 0.7942011604624132 and parameters: {'max_depth': 48, 'n_estimators': 1540, 'class_weight': {0: 1.0, 1: 14}, 'min_samples_leaf': 0.011142536528248334}. Best is trial 37 with value: 0.8022573261714442.\u001b[0m\n",
      "\u001b[32m[I 2020-10-22 02:05:17,120]\u001b[0m Trial 39 finished with value: 0.8018967931819075 and parameters: {'max_depth': 3, 'n_estimators': 1800, 'class_weight': {0: 1.0, 1: 14}, 'min_samples_leaf': 0.02690358676734779}. Best is trial 37 with value: 0.8022573261714442.\u001b[0m\n",
      "\u001b[32m[I 2020-10-22 02:05:27,584]\u001b[0m Trial 40 finished with value: 0.8012994724411655 and parameters: {'max_depth': 3, 'n_estimators': 1380, 'class_weight': {0: 1.0, 1: 14}, 'min_samples_leaf': 0.04077389436302412}. Best is trial 37 with value: 0.8022573261714442.\u001b[0m\n",
      "\u001b[32m[I 2020-10-22 02:05:37,629]\u001b[0m Trial 41 finished with value: 0.8014614041388848 and parameters: {'max_depth': 3, 'n_estimators': 1320, 'class_weight': {0: 1.0, 1: 14}, 'min_samples_leaf': 0.036852458401703904}. Best is trial 37 with value: 0.8022573261714442.\u001b[0m\n",
      "\u001b[32m[I 2020-10-22 02:05:50,196]\u001b[0m Trial 42 finished with value: 0.7986074782478452 and parameters: {'max_depth': 38, 'n_estimators': 1240, 'class_weight': {0: 1.0, 1: 14}, 'min_samples_leaf': 0.03051088183483371}. Best is trial 37 with value: 0.8022573261714442.\u001b[0m\n",
      "\u001b[32m[I 2020-10-22 02:06:01,066]\u001b[0m Trial 43 finished with value: 0.8019769168157627 and parameters: {'max_depth': 3, 'n_estimators': 1400, 'class_weight': {0: 1.0, 1: 14}, 'min_samples_leaf': 0.023711070913815507}. Best is trial 37 with value: 0.8022573261714442.\u001b[0m\n",
      "\u001b[32m[I 2020-10-22 02:06:16,285]\u001b[0m Trial 44 finished with value: 0.7978510195410791 and parameters: {'max_depth': 7, 'n_estimators': 1390, 'class_weight': {0: 1.0, 1: 14}, 'min_samples_leaf': 0.021777668097959446}. Best is trial 37 with value: 0.8022573261714442.\u001b[0m\n",
      "\u001b[32m[I 2020-10-22 02:06:23,660]\u001b[0m Trial 45 finished with value: 0.7946124644579411 and parameters: {'max_depth': 3, 'n_estimators': 1060, 'class_weight': {0: 1.0, 1: 14}, 'min_samples_leaf': 0.09867126926000819}. Best is trial 37 with value: 0.8022573261714442.\u001b[0m\n",
      "\u001b[32m[I 2020-10-22 02:06:36,115]\u001b[0m Trial 46 finished with value: 0.8022502377423407 and parameters: {'max_depth': 3, 'n_estimators': 1570, 'class_weight': {0: 1.0, 1: 14}, 'min_samples_leaf': 0.008537143923126565}. Best is trial 37 with value: 0.8022573261714442.\u001b[0m\n",
      "\u001b[32m[I 2020-10-22 02:06:47,645]\u001b[0m Trial 47 finished with value: 0.8022385259234713 and parameters: {'max_depth': 3, 'n_estimators': 1440, 'class_weight': {0: 1.0, 1: 14}, 'min_samples_leaf': 0.008377717274938908}. Best is trial 37 with value: 0.8022573261714442.\u001b[0m\n",
      "\u001b[32m[I 2020-10-22 02:06:59,815]\u001b[0m Trial 48 finished with value: 0.8022426946908018 and parameters: {'max_depth': 3, 'n_estimators': 1530, 'class_weight': {0: 1.0, 1: 14}, 'min_samples_leaf': 0.008998607810208187}. Best is trial 37 with value: 0.8022573261714442.\u001b[0m\n",
      "\u001b[32m[I 2020-10-22 02:07:12,222]\u001b[0m Trial 49 finished with value: 0.8022709143607448 and parameters: {'max_depth': 3, 'n_estimators': 1550, 'class_weight': {0: 1.0, 1: 14}, 'min_samples_leaf': 0.009720100235867779}. Best is trial 49 with value: 0.8022709143607448.\u001b[0m\n",
      "\u001b[32m[I 2020-10-22 02:07:33,004]\u001b[0m Trial 50 finished with value: 0.7943731161638468 and parameters: {'max_depth': 22, 'n_estimators': 1540, 'class_weight': {0: 1.0, 1: 17}, 'min_samples_leaf': 0.010795405158135804}. Best is trial 49 with value: 0.8022709143607448.\u001b[0m\n",
      "\u001b[32m[I 2020-10-22 02:07:44,560]\u001b[0m Trial 51 finished with value: 0.8022209527776079 and parameters: {'max_depth': 3, 'n_estimators': 1450, 'class_weight': {0: 1.0, 1: 14}, 'min_samples_leaf': 0.007542471965602028}. Best is trial 49 with value: 0.8022709143607448.\u001b[0m\n",
      "\u001b[32m[I 2020-10-22 02:07:56,223]\u001b[0m Trial 52 finished with value: 0.8022246963759242 and parameters: {'max_depth': 3, 'n_estimators': 1460, 'class_weight': {0: 1.0, 1: 14}, 'min_samples_leaf': 0.007848318106035387}. Best is trial 49 with value: 0.8022709143607448.\u001b[0m\n",
      "\u001b[32m[I 2020-10-22 02:08:15,519]\u001b[0m Trial 53 finished with value: 0.7959423781464432 and parameters: {'max_depth': 26, 'n_estimators': 1590, 'class_weight': {0: 1.0, 1: 14}, 'min_samples_leaf': 0.016405518110663028}. Best is trial 49 with value: 0.8022709143607448.\u001b[0m\n",
      "\u001b[32m[I 2020-10-22 02:08:27,801]\u001b[0m Trial 54 finished with value: 0.7995084488774459 and parameters: {'max_depth': 5, 'n_estimators': 1150, 'class_weight': {0: 1.0, 1: 14}, 'min_samples_leaf': 0.008348754004503064}. Best is trial 49 with value: 0.8022709143607448.\u001b[0m\n",
      "\u001b[32m[I 2020-10-22 02:08:46,031]\u001b[0m Trial 55 finished with value: 0.7922873124200335 and parameters: {'max_depth': 40, 'n_estimators': 1230, 'class_weight': {0: 1.0, 1: 14}, 'min_samples_leaf': 0.007480976047532169}. Best is trial 49 with value: 0.8022709143607448.\u001b[0m\n",
      "\u001b[32m[I 2020-10-22 02:08:56,676]\u001b[0m Trial 56 finished with value: 0.8003184601141541 and parameters: {'max_depth': 3, 'n_estimators': 1450, 'class_weight': {0: 1.0, 1: 14}, 'min_samples_leaf': 0.05825162835762957}. Best is trial 49 with value: 0.8022709143607448.\u001b[0m\n",
      "\u001b[32m[I 2020-10-22 02:09:15,311]\u001b[0m Trial 57 finished with value: 0.7960195675650505 and parameters: {'max_depth': 37, 'n_estimators': 1530, 'class_weight': {0: 1.0, 1: 14}, 'min_samples_leaf': 0.0158498503988981}. Best is trial 49 with value: 0.8022709143607448.\u001b[0m\n",
      "\u001b[32m[I 2020-10-22 02:09:43,749]\u001b[0m Trial 58 finished with value: 0.7874496379401836 and parameters: {'max_depth': 33, 'n_estimators': 1620, 'class_weight': {0: 1.0, 1: 13}, 'min_samples_leaf': 0.003412601705835108}. Best is trial 49 with value: 0.8022709143607448.\u001b[0m\n",
      "\u001b[32m[I 2020-10-22 02:10:07,819]\u001b[0m Trial 59 finished with value: 0.7934229523924798 and parameters: {'max_depth': 28, 'n_estimators': 1720, 'class_weight': {0: 1.0, 1: 11}, 'min_samples_leaf': 0.009236079380846612}. Best is trial 49 with value: 0.8022709143607448.\u001b[0m\n",
      "\u001b[32m[I 2020-10-22 02:10:23,796]\u001b[0m Trial 60 finished with value: 0.791175458295932 and parameters: {'max_depth': 15, 'n_estimators': 1050, 'class_weight': {0: 1.0, 1: 18}, 'min_samples_leaf': 0.006577343262430819}. Best is trial 49 with value: 0.8022709143607448.\u001b[0m\n"
     ]
    },
    {
     "name": "stderr",
     "output_type": "stream",
     "text": [
      "\u001b[32m[I 2020-10-22 02:10:35,221]\u001b[0m Trial 61 finished with value: 0.8022327458399777 and parameters: {'max_depth': 3, 'n_estimators': 1440, 'class_weight': {0: 1.0, 1: 14}, 'min_samples_leaf': 0.013665059528544753}. Best is trial 49 with value: 0.8022709143607448.\u001b[0m\n",
      "\u001b[32m[I 2020-10-22 02:10:45,725]\u001b[0m Trial 62 finished with value: 0.8022776267054489 and parameters: {'max_depth': 3, 'n_estimators': 1320, 'class_weight': {0: 1.0, 1: 14}, 'min_samples_leaf': 0.01546950226810961}. Best is trial 62 with value: 0.8022776267054489.\u001b[0m\n",
      "\u001b[32m[I 2020-10-22 02:11:01,326]\u001b[0m Trial 63 finished with value: 0.7962146936979654 and parameters: {'max_depth': 35, 'n_estimators': 1300, 'class_weight': {0: 1.0, 1: 14}, 'min_samples_leaf': 0.017206592174987507}. Best is trial 62 with value: 0.8022776267054489.\u001b[0m\n",
      "\u001b[32m[I 2020-10-22 02:11:21,468]\u001b[0m Trial 64 finished with value: 0.7950158769988069 and parameters: {'max_depth': 45, 'n_estimators': 1570, 'class_weight': {0: 1.0, 1: 14}, 'min_samples_leaf': 0.013037049145607734}. Best is trial 62 with value: 0.8022776267054489.\u001b[0m\n",
      "\u001b[32m[I 2020-10-22 02:11:43,460]\u001b[0m Trial 65 finished with value: 0.7910001019220667 and parameters: {'max_depth': 10, 'n_estimators': 1410, 'class_weight': {0: 1.0, 1: 12}, 'min_samples_leaf': 0.003465028292772881}. Best is trial 62 with value: 0.8022776267054489.\u001b[0m\n",
      "\u001b[32m[I 2020-10-22 02:11:53,353]\u001b[0m Trial 66 finished with value: 0.7987761304464476 and parameters: {'max_depth': 34, 'n_estimators': 1210, 'class_weight': {0: 1.0, 1: 15}, 'min_samples_leaf': 0.061663362676918965}. Best is trial 62 with value: 0.8022776267054489.\u001b[0m\n",
      "\u001b[32m[I 2020-10-22 02:12:14,065]\u001b[0m Trial 67 finished with value: 0.7952670213674212 and parameters: {'max_depth': 11, 'n_estimators': 1650, 'class_weight': {0: 1.0, 1: 17}, 'min_samples_leaf': 0.013609486011351084}. Best is trial 62 with value: 0.8022776267054489.\u001b[0m\n",
      "\u001b[32m[I 2020-10-22 02:12:39,648]\u001b[0m Trial 68 finished with value: 0.791385992134043 and parameters: {'max_depth': 12, 'n_estimators': 1690, 'class_weight': {0: 1.0, 1: 10}, 'min_samples_leaf': 0.006199334220431978}. Best is trial 62 with value: 0.8022776267054489.\u001b[0m\n",
      "\u001b[32m[I 2020-10-22 02:12:52,940]\u001b[0m Trial 69 finished with value: 0.7964194535299306 and parameters: {'max_depth': 31, 'n_estimators': 1130, 'class_weight': {0: 1.0, 1: 14}, 'min_samples_leaf': 0.0182625560060656}. Best is trial 62 with value: 0.8022776267054489.\u001b[0m\n",
      "\u001b[32m[I 2020-10-22 02:13:12,641]\u001b[0m Trial 70 finished with value: 0.794637636470464 and parameters: {'max_depth': 27, 'n_estimators': 1500, 'class_weight': {0: 1.0, 1: 14}, 'min_samples_leaf': 0.011813586732147536}. Best is trial 62 with value: 0.8022776267054489.\u001b[0m\n",
      "\u001b[32m[I 2020-10-22 02:13:24,190]\u001b[0m Trial 71 finished with value: 0.8022531709446973 and parameters: {'max_depth': 3, 'n_estimators': 1460, 'class_weight': {0: 1.0, 1: 14}, 'min_samples_leaf': 0.009453626526499745}. Best is trial 62 with value: 0.8022776267054489.\u001b[0m\n",
      "\u001b[32m[I 2020-10-22 02:13:36,950]\u001b[0m Trial 72 finished with value: 0.8023083774250737 and parameters: {'max_depth': 3, 'n_estimators': 1580, 'class_weight': {0: 1.0, 1: 14}, 'min_samples_leaf': 0.0041672078377099474}. Best is trial 72 with value: 0.8023083774250737.\u001b[0m\n",
      "\u001b[32m[I 2020-10-22 02:13:59,106]\u001b[0m Trial 73 finished with value: 0.7886108124954927 and parameters: {'max_depth': 18, 'n_estimators': 1340, 'class_weight': {0: 1.0, 1: 14}, 'min_samples_leaf': 0.004321659806936904}. Best is trial 72 with value: 0.8023083774250737.\u001b[0m\n",
      "\u001b[32m[I 2020-10-22 02:14:12,213]\u001b[0m Trial 74 finished with value: 0.8021800247098142 and parameters: {'max_depth': 3, 'n_estimators': 1610, 'class_weight': {0: 1.0, 1: 14}, 'min_samples_leaf': 0.0016730821618373842}. Best is trial 72 with value: 0.8023083774250737.\u001b[0m\n",
      "\u001b[32m[I 2020-10-22 02:14:40,489]\u001b[0m Trial 75 finished with value: 0.7853698850915324 and parameters: {'max_depth': 29, 'n_estimators': 1550, 'class_weight': {0: 1.0, 1: 14}, 'min_samples_leaf': 0.0025846060207047336}. Best is trial 72 with value: 0.8023083774250737.\u001b[0m\n",
      "\u001b[32m[I 2020-10-22 02:15:08,319]\u001b[0m Trial 76 finished with value: 0.7906750882567203 and parameters: {'max_depth': 44, 'n_estimators': 1790, 'class_weight': {0: 1.0, 1: 14}, 'min_samples_leaf': 0.0060397129326774214}. Best is trial 72 with value: 0.8023083774250737.\u001b[0m\n",
      "\u001b[32m[I 2020-10-22 02:15:32,990]\u001b[0m Trial 77 finished with value: 0.7885119048597126 and parameters: {'max_depth': 41, 'n_estimators': 1490, 'class_weight': {0: 1.0, 1: 14}, 'min_samples_leaf': 0.004309089418230008}. Best is trial 72 with value: 0.8023083774250737.\u001b[0m\n",
      "\u001b[32m[I 2020-10-22 02:15:47,001]\u001b[0m Trial 78 finished with value: 0.8022407597599998 and parameters: {'max_depth': 3, 'n_estimators': 1750, 'class_weight': {0: 1.0, 1: 11}, 'min_samples_leaf': 0.010314523269379573}. Best is trial 72 with value: 0.8023083774250737.\u001b[0m\n",
      "\u001b[32m[I 2020-10-22 02:16:12,068]\u001b[0m Trial 79 finished with value: 0.79422112654666 and parameters: {'max_depth': 42, 'n_estimators': 1850, 'class_weight': {0: 1.0, 1: 11}, 'min_samples_leaf': 0.01056291658890423}. Best is trial 72 with value: 0.8023083774250737.\u001b[0m\n",
      "\u001b[32m[I 2020-10-22 02:16:29,401]\u001b[0m Trial 80 finished with value: 0.7987615185704745 and parameters: {'max_depth': 21, 'n_estimators': 1730, 'class_weight': {0: 1.0, 1: 11}, 'min_samples_leaf': 0.032161281649568926}. Best is trial 72 with value: 0.8023083774250737.\u001b[0m\n",
      "\u001b[32m[I 2020-10-22 02:16:41,987]\u001b[0m Trial 81 finished with value: 0.8019314069928447 and parameters: {'max_depth': 3, 'n_estimators': 1600, 'class_weight': {0: 1.0, 1: 18}, 'min_samples_leaf': 0.02179126901704306}. Best is trial 72 with value: 0.8023083774250737.\u001b[0m\n",
      "\u001b[32m[I 2020-10-22 02:16:55,204]\u001b[0m Trial 82 finished with value: 0.8022289243833068 and parameters: {'max_depth': 3, 'n_estimators': 1660, 'class_weight': {0: 1.0, 1: 11}, 'min_samples_leaf': 0.009278616521338255}. Best is trial 72 with value: 0.8023083774250737.\u001b[0m\n",
      "\u001b[32m[I 2020-10-22 02:17:06,137]\u001b[0m Trial 83 finished with value: 0.8021134672618115 and parameters: {'max_depth': 3, 'n_estimators': 1360, 'class_weight': {0: 1.0, 1: 9.0}, 'min_samples_leaf': 0.0061070226973650955}. Best is trial 72 with value: 0.8023083774250737.\u001b[0m\n",
      "\u001b[32m[I 2020-10-22 02:17:30,982]\u001b[0m Trial 84 finished with value: 0.7935707867829197 and parameters: {'max_depth': 47, 'n_estimators': 1770, 'class_weight': {0: 1.0, 1: 14}, 'min_samples_leaf': 0.0095699667418375}. Best is trial 72 with value: 0.8023083774250737.\u001b[0m\n",
      "\u001b[32m[I 2020-10-22 02:17:48,785]\u001b[0m Trial 85 finished with value: 0.7969384911300075 and parameters: {'max_depth': 39, 'n_estimators': 1520, 'class_weight': {0: 1.0, 1: 12}, 'min_samples_leaf': 0.019095828614932506}. Best is trial 72 with value: 0.8023083774250737.\u001b[0m\n",
      "\u001b[32m[I 2020-10-22 02:18:02,582]\u001b[0m Trial 86 finished with value: 0.7979544730414803 and parameters: {'max_depth': 13, 'n_estimators': 1280, 'class_weight': {0: 1.0, 1: 11}, 'min_samples_leaf': 0.025958441871699843}. Best is trial 72 with value: 0.8023083774250737.\u001b[0m\n",
      "\u001b[32m[I 2020-10-22 02:18:15,192]\u001b[0m Trial 87 finished with value: 0.8022154986810073 and parameters: {'max_depth': 3, 'n_estimators': 1580, 'class_weight': {0: 1.0, 1: 15}, 'min_samples_leaf': 0.005235061952560231}. Best is trial 72 with value: 0.8023083774250737.\u001b[0m\n",
      "\u001b[32m[I 2020-10-22 02:18:47,288]\u001b[0m Trial 88 finished with value: 0.7839751372876901 and parameters: {'max_depth': 49, 'n_estimators': 1690, 'class_weight': {0: 1.0, 1: 14}, 'min_samples_leaf': 0.0021651869706273232}. Best is trial 72 with value: 0.8023083774250737.\u001b[0m\n",
      "\u001b[32m[I 2020-10-22 02:19:11,253]\u001b[0m Trial 89 finished with value: 0.7876511700753653 and parameters: {'max_depth': 14, 'n_estimators': 1400, 'class_weight': {0: 1.0, 1: 13}, 'min_samples_leaf': 0.0031556102718596404}. Best is trial 72 with value: 0.8023083774250737.\u001b[0m\n",
      "\u001b[32m[I 2020-10-22 02:19:27,095]\u001b[0m Trial 90 finished with value: 0.8022708618909841 and parameters: {'max_depth': 3, 'n_estimators': 1940, 'class_weight': {0: 1.0, 1: 14}, 'min_samples_leaf': 0.004248521081020901}. Best is trial 72 with value: 0.8023083774250737.\u001b[0m\n",
      "\u001b[32m[I 2020-10-22 02:19:42,863]\u001b[0m Trial 91 finished with value: 0.8022737764750383 and parameters: {'max_depth': 3, 'n_estimators': 1930, 'class_weight': {0: 1.0, 1: 14}, 'min_samples_leaf': 0.0043117200809275336}. Best is trial 72 with value: 0.8023083774250737.\u001b[0m\n"
     ]
    },
    {
     "name": "stderr",
     "output_type": "stream",
     "text": [
      "\u001b[32m[I 2020-10-22 02:20:14,685]\u001b[0m Trial 92 finished with value: 0.7883650006914384 and parameters: {'max_depth': 20, 'n_estimators': 1880, 'class_weight': {0: 1.0, 1: 14}, 'min_samples_leaf': 0.004178403528390928}. Best is trial 72 with value: 0.8023083774250737.\u001b[0m\n",
      "\u001b[32m[I 2020-10-22 02:20:30,212]\u001b[0m Trial 93 finished with value: 0.8022294037146548 and parameters: {'max_depth': 3, 'n_estimators': 1900, 'class_weight': {0: 1.0, 1: 14}, 'min_samples_leaf': 0.007009284822777035}. Best is trial 72 with value: 0.8023083774250737.\u001b[0m\n",
      "\u001b[32m[I 2020-10-22 02:20:54,128]\u001b[0m Trial 94 finished with value: 0.7958671114906797 and parameters: {'max_depth': 8, 'n_estimators': 1950, 'class_weight': {0: 1.0, 1: 10}, 'min_samples_leaf': 0.01294322212141763}. Best is trial 72 with value: 0.8023083774250737.\u001b[0m\n",
      "\u001b[32m[I 2020-10-22 02:21:28,999]\u001b[0m Trial 95 finished with value: 0.7848899956787371 and parameters: {'max_depth': 17, 'n_estimators': 1840, 'class_weight': {0: 1.0, 1: 14}, 'min_samples_leaf': 0.0017754018580892871}. Best is trial 72 with value: 0.8023083774250737.\u001b[0m\n",
      "\u001b[32m[I 2020-10-22 02:22:00,879]\u001b[0m Trial 96 finished with value: 0.7857889859847522 and parameters: {'max_depth': 25, 'n_estimators': 1760, 'class_weight': {0: 1.0, 1: 14}, 'min_samples_leaf': 0.0028376478521745787}. Best is trial 72 with value: 0.8023083774250737.\u001b[0m\n",
      "\u001b[32m[I 2020-10-22 02:22:16,708]\u001b[0m Trial 97 finished with value: 0.8020105871971603 and parameters: {'max_depth': 3, 'n_estimators': 1950, 'class_weight': {0: 1.0, 1: 16}, 'min_samples_leaf': 0.0011223083895561558}. Best is trial 72 with value: 0.8023083774250737.\u001b[0m\n",
      "\u001b[32m[I 2020-10-22 02:22:44,566]\u001b[0m Trial 98 finished with value: 0.788233548568466 and parameters: {'max_depth': 32, 'n_estimators': 1640, 'class_weight': {0: 1.0, 1: 14}, 'min_samples_leaf': 0.0038886447091518975}. Best is trial 72 with value: 0.8023083774250737.\u001b[0m\n",
      "\u001b[32m[I 2020-10-22 02:23:00,053]\u001b[0m Trial 99 finished with value: 0.8021454755498582 and parameters: {'max_depth': 3, 'n_estimators': 1930, 'class_weight': {0: 1.0, 1: 17}, 'min_samples_leaf': 0.005141250579328399}. Best is trial 72 with value: 0.8023083774250737.\u001b[0m\n",
      "\u001b[32m[I 2020-10-22 02:23:13,033]\u001b[0m Trial 100 finished with value: 0.7937981205810145 and parameters: {'max_depth': 16, 'n_estimators': 950, 'class_weight': {0: 1.0, 1: 14}, 'min_samples_leaf': 0.010384894376375343}. Best is trial 72 with value: 0.8023083774250737.\u001b[0m\n",
      "\u001b[32m[I 2020-10-22 02:23:24,457]\u001b[0m Trial 101 finished with value: 0.8022131683678222 and parameters: {'max_depth': 3, 'n_estimators': 1440, 'class_weight': {0: 1.0, 1: 14}, 'min_samples_leaf': 0.015035229136384685}. Best is trial 72 with value: 0.8023083774250737.\u001b[0m\n",
      "\u001b[32m[I 2020-10-22 02:23:36,927]\u001b[0m Trial 102 finished with value: 0.8022571034314996 and parameters: {'max_depth': 3, 'n_estimators': 1560, 'class_weight': {0: 1.0, 1: 14}, 'min_samples_leaf': 0.008580001124600244}. Best is trial 72 with value: 0.8023083774250737.\u001b[0m\n",
      "\u001b[32m[I 2020-10-22 02:23:58,199]\u001b[0m Trial 103 finished with value: 0.7925536884529972 and parameters: {'max_depth': 43, 'n_estimators': 1480, 'class_weight': {0: 1.0, 1: 14}, 'min_samples_leaf': 0.0082660273404769}. Best is trial 72 with value: 0.8023083774250737.\u001b[0m\n",
      "\u001b[32m[I 2020-10-22 02:24:22,160]\u001b[0m Trial 104 finished with value: 0.7910666641013162 and parameters: {'max_depth': None, 'n_estimators': 1560, 'class_weight': {0: 1.0, 1: 14}, 'min_samples_leaf': 0.0063996340947798025}. Best is trial 72 with value: 0.8023083774250737.\u001b[0m\n",
      "\u001b[32m[I 2020-10-22 02:24:42,118]\u001b[0m Trial 105 finished with value: 0.7946450999710756 and parameters: {'max_depth': 19, 'n_estimators': 1510, 'class_weight': {0: 1.0, 1: 14}, 'min_samples_leaf': 0.011855116016428517}. Best is trial 72 with value: 0.8023083774250737.\u001b[0m\n",
      "\u001b[32m[I 2020-10-22 02:24:55,591]\u001b[0m Trial 106 finished with value: 0.8022187724237316 and parameters: {'max_depth': 3, 'n_estimators': 1690, 'class_weight': {0: 1.0, 1: 14}, 'min_samples_leaf': 0.007212713926934189}. Best is trial 72 with value: 0.8023083774250737.\u001b[0m\n",
      "\u001b[32m[I 2020-10-22 02:25:00,792]\u001b[0m Trial 107 finished with value: 0.8009907066503438 and parameters: {'max_depth': 4, 'n_estimators': 520, 'class_weight': {0: 1.0, 1: 14}, 'min_samples_leaf': 0.005229288339605949}. Best is trial 72 with value: 0.8023083774250737.\u001b[0m\n",
      "\u001b[32m[I 2020-10-22 02:25:19,141]\u001b[0m Trial 108 finished with value: 0.7970887668637638 and parameters: {'max_depth': 24, 'n_estimators': 1590, 'class_weight': {0: 1.0, 1: 11}, 'min_samples_leaf': 0.019588322286379495}. Best is trial 72 with value: 0.8023083774250737.\u001b[0m\n",
      "\u001b[32m[I 2020-10-22 02:25:44,563]\u001b[0m Trial 109 finished with value: 0.7935320559947313 and parameters: {'max_depth': 46, 'n_estimators': 1820, 'class_weight': {0: 1.0, 1: 14}, 'min_samples_leaf': 0.009491791112920613}. Best is trial 72 with value: 0.8023083774250737.\u001b[0m\n",
      "\u001b[32m[I 2020-10-22 02:26:03,870]\u001b[0m Trial 110 finished with value: 0.7982848585602975 and parameters: {'max_depth': 6, 'n_estimators': 1750, 'class_weight': {0: 1.0, 1: 9.0}, 'min_samples_leaf': 0.016444384591735944}. Best is trial 72 with value: 0.8023083774250737.\u001b[0m\n",
      "\u001b[32m[I 2020-10-22 02:26:15,266]\u001b[0m Trial 111 finished with value: 0.802214279362081 and parameters: {'max_depth': 3, 'n_estimators': 1430, 'class_weight': {0: 1.0, 1: 14}, 'min_samples_leaf': 0.008049128785975055}. Best is trial 72 with value: 0.8023083774250737.\u001b[0m\n",
      "\u001b[32m[I 2020-10-22 02:26:27,511]\u001b[0m Trial 112 finished with value: 0.8022564920794636 and parameters: {'max_depth': 3, 'n_estimators': 1540, 'class_weight': {0: 1.0, 1: 14}, 'min_samples_leaf': 0.011674312408025387}. Best is trial 72 with value: 0.8023083774250737.\u001b[0m\n",
      "\u001b[32m[I 2020-10-22 02:26:48,678]\u001b[0m Trial 113 finished with value: 0.7949771384274358 and parameters: {'max_depth': 9, 'n_estimators': 1630, 'class_weight': {0: 1.0, 1: 14}, 'min_samples_leaf': 0.01133601447804875}. Best is trial 72 with value: 0.8023083774250737.\u001b[0m\n",
      "\u001b[32m[I 2020-10-22 02:27:00,501]\u001b[0m Trial 114 finished with value: 0.8018289774858015 and parameters: {'max_depth': 3, 'n_estimators': 1530, 'class_weight': {0: 1.0, 1: 14}, 'min_samples_leaf': 0.02894299114614558}. Best is trial 72 with value: 0.8023083774250737.\u001b[0m\n",
      "\u001b[32m[I 2020-10-22 02:27:12,314]\u001b[0m Trial 115 finished with value: 0.8022243517707288 and parameters: {'max_depth': 3, 'n_estimators': 1470, 'class_weight': {0: 1.0, 1: 14}, 'min_samples_leaf': 0.014515186552772768}. Best is trial 72 with value: 0.8023083774250737.\u001b[0m\n",
      "\u001b[32m[I 2020-10-22 02:27:24,497]\u001b[0m Trial 116 finished with value: 0.8018974140096994 and parameters: {'max_depth': 3, 'n_estimators': 1560, 'class_weight': {0: 1.0, 1: 18}, 'min_samples_leaf': 0.02318208685569406}. Best is trial 72 with value: 0.8023083774250737.\u001b[0m\n",
      "\u001b[32m[I 2020-10-22 02:27:35,337]\u001b[0m Trial 117 finished with value: 0.8022620308047106 and parameters: {'max_depth': 3, 'n_estimators': 1360, 'class_weight': {0: 1.0, 1: 14}, 'min_samples_leaf': 0.009198474580439892}. Best is trial 72 with value: 0.8023083774250737.\u001b[0m\n",
      "\u001b[32m[I 2020-10-22 02:27:56,049]\u001b[0m Trial 118 finished with value: 0.7905189295389935 and parameters: {'max_depth': 26, 'n_estimators': 1330, 'class_weight': {0: 1.0, 1: 14}, 'min_samples_leaf': 0.005861473200191965}. Best is trial 72 with value: 0.8023083774250737.\u001b[0m\n",
      "\u001b[32m[I 2020-10-22 02:28:18,697]\u001b[0m Trial 119 finished with value: 0.7885053099822219 and parameters: {'max_depth': 36, 'n_estimators': 1370, 'class_weight': {0: 1.0, 1: 14}, 'min_samples_leaf': 0.004372376913402674}. Best is trial 72 with value: 0.8023083774250737.\u001b[0m\n",
      "\u001b[32m[I 2020-10-22 02:28:36,606]\u001b[0m Trial 120 finished with value: 0.795823386639255 and parameters: {'max_depth': 7, 'n_estimators': 1410, 'class_weight': {0: 1.0, 1: 14}, 'min_samples_leaf': 0.007308869306215252}. Best is trial 72 with value: 0.8023083774250737.\u001b[0m\n",
      "\u001b[32m[I 2020-10-22 02:28:48,600]\u001b[0m Trial 121 finished with value: 0.8022486924365214 and parameters: {'max_depth': 3, 'n_estimators': 1520, 'class_weight': {0: 1.0, 1: 14}, 'min_samples_leaf': 0.010571640938480665}. Best is trial 72 with value: 0.8023083774250737.\u001b[0m\n",
      "\u001b[32m[I 2020-10-22 02:29:06,771]\u001b[0m Trial 122 finished with value: 0.7927852695697208 and parameters: {'max_depth': 23, 'n_estimators': 1270, 'class_weight': {0: 1.0, 1: 14}, 'min_samples_leaf': 0.008595275626594633}. Best is trial 72 with value: 0.8023083774250737.\u001b[0m\n"
     ]
    },
    {
     "name": "stderr",
     "output_type": "stream",
     "text": [
      "\u001b[32m[I 2020-10-22 02:29:18,512]\u001b[0m Trial 123 finished with value: 0.8022337315838399 and parameters: {'max_depth': 3, 'n_estimators': 1490, 'class_weight': {0: 1.0, 1: 14}, 'min_samples_leaf': 0.013100057529734916}. Best is trial 72 with value: 0.8023083774250737.\u001b[0m\n",
      "\u001b[32m[I 2020-10-22 02:29:37,205]\u001b[0m Trial 124 finished with value: 0.7960134919609761 and parameters: {'max_depth': 38, 'n_estimators': 1530, 'class_weight': {0: 1.0, 1: 14}, 'min_samples_leaf': 0.015741887798369523}. Best is trial 72 with value: 0.8023083774250737.\u001b[0m\n",
      "\u001b[32m[I 2020-10-22 02:29:49,731]\u001b[0m Trial 125 finished with value: 0.8022853383345989 and parameters: {'max_depth': 3, 'n_estimators': 1570, 'class_weight': {0: 1.0, 1: 14}, 'min_samples_leaf': 0.009597068687278935}. Best is trial 72 with value: 0.8023083774250737.\u001b[0m\n",
      "\u001b[32m[I 2020-10-22 02:30:11,171]\u001b[0m Trial 126 finished with value: 0.794401658435537 and parameters: {'max_depth': 22, 'n_estimators': 1620, 'class_weight': {0: 1.0, 1: 13}, 'min_samples_leaf': 0.011452621837883953}. Best is trial 72 with value: 0.8023083774250737.\u001b[0m\n",
      "\u001b[32m[I 2020-10-22 02:30:38,312]\u001b[0m Trial 127 finished with value: 0.7892790388642978 and parameters: {'max_depth': 30, 'n_estimators': 1670, 'class_weight': {0: 1.0, 1: 14}, 'min_samples_leaf': 0.004750007686711601}. Best is trial 72 with value: 0.8023083774250737.\u001b[0m\n",
      "\u001b[32m[I 2020-10-22 02:31:06,840]\u001b[0m Trial 128 finished with value: 0.7860014181834802 and parameters: {'max_depth': 48, 'n_estimators': 1590, 'class_weight': {0: 1.0, 1: 14}, 'min_samples_leaf': 0.002896086658207388}. Best is trial 72 with value: 0.8023083774250737.\u001b[0m\n",
      "\u001b[32m[I 2020-10-22 02:31:18,576]\u001b[0m Trial 129 finished with value: 0.8020468055539691 and parameters: {'max_depth': 3, 'n_estimators': 1470, 'class_weight': {0: 1.0, 1: 15}, 'min_samples_leaf': 0.019559481001281066}. Best is trial 72 with value: 0.8023083774250737.\u001b[0m\n",
      "\u001b[32m[I 2020-10-22 02:31:30,630]\u001b[0m Trial 130 finished with value: 0.7995492750576544 and parameters: {'max_depth': 5, 'n_estimators': 1100, 'class_weight': {0: 1.0, 1: 12}, 'min_samples_leaf': 0.007458917599353268}. Best is trial 72 with value: 0.8023083774250737.\u001b[0m\n",
      "\u001b[32m[I 2020-10-22 02:31:43,048]\u001b[0m Trial 131 finished with value: 0.8022657151629744 and parameters: {'max_depth': 3, 'n_estimators': 1560, 'class_weight': {0: 1.0, 1: 14}, 'min_samples_leaf': 0.010406822571353832}. Best is trial 72 with value: 0.8023083774250737.\u001b[0m\n",
      "\u001b[32m[I 2020-10-22 02:31:55,464]\u001b[0m Trial 132 finished with value: 0.8022657033149636 and parameters: {'max_depth': 3, 'n_estimators': 1560, 'class_weight': {0: 1.0, 1: 14}, 'min_samples_leaf': 0.009724654268690526}. Best is trial 72 with value: 0.8023083774250737.\u001b[0m\n",
      "\u001b[32m[I 2020-10-22 02:32:08,130]\u001b[0m Trial 133 finished with value: 0.8022461816977149 and parameters: {'max_depth': 3, 'n_estimators': 1590, 'class_weight': {0: 1.0, 1: 14}, 'min_samples_leaf': 0.0060288136528816195}. Best is trial 72 with value: 0.8023083774250737.\u001b[0m\n",
      "\u001b[32m[I 2020-10-22 02:32:28,190]\u001b[0m Trial 134 finished with value: 0.7950158769988069 and parameters: {'max_depth': 40, 'n_estimators': 1570, 'class_weight': {0: 1.0, 1: 14}, 'min_samples_leaf': 0.013037109708993912}. Best is trial 72 with value: 0.8023083774250737.\u001b[0m\n",
      "\u001b[32m[I 2020-10-22 02:32:41,565]\u001b[0m Trial 135 finished with value: 0.8022516087131486 and parameters: {'max_depth': 3, 'n_estimators': 1630, 'class_weight': {0: 1.0, 1: 14}, 'min_samples_leaf': 0.008166508582477784}. Best is trial 72 with value: 0.8023083774250737.\u001b[0m\n",
      "\u001b[32m[I 2020-10-22 02:33:11,287]\u001b[0m Trial 136 finished with value: 0.7876987830602247 and parameters: {'max_depth': 28, 'n_estimators': 1710, 'class_weight': {0: 1.0, 1: 10}, 'min_samples_leaf': 0.0036035151585073304}. Best is trial 72 with value: 0.8023083774250737.\u001b[0m\n",
      "\u001b[32m[I 2020-10-22 02:33:34,035]\u001b[0m Trial 137 finished with value: 0.7935225600737696 and parameters: {'max_depth': 33, 'n_estimators': 1640, 'class_weight': {0: 1.0, 1: 14}, 'min_samples_leaf': 0.009507701171059068}. Best is trial 72 with value: 0.8023083774250737.\u001b[0m\n",
      "\u001b[32m[I 2020-10-22 02:33:45,550]\u001b[0m Trial 138 finished with value: 0.8022275500273531 and parameters: {'max_depth': 3, 'n_estimators': 1410, 'class_weight': {0: 1.0, 1: 14}, 'min_samples_leaf': 0.00692924743251873}. Best is trial 72 with value: 0.8023083774250737.\u001b[0m\n",
      "\u001b[32m[I 2020-10-22 02:34:04,757]\u001b[0m Trial 139 finished with value: 0.7905285134737472 and parameters: {'max_depth': 37, 'n_estimators': 1210, 'class_weight': {0: 1.0, 1: 14}, 'min_samples_leaf': 0.005611058727265277}. Best is trial 72 with value: 0.8023083774250737.\u001b[0m\n",
      "\u001b[32m[I 2020-10-22 02:34:21,629]\u001b[0m Trial 140 finished with value: 0.7958349041454476 and parameters: {'max_depth': 35, 'n_estimators': 1360, 'class_weight': {0: 1.0, 1: 16}, 'min_samples_leaf': 0.015977580102889785}. Best is trial 72 with value: 0.8023083774250737.\u001b[0m\n",
      "\u001b[32m[I 2020-10-22 02:34:33,998]\u001b[0m Trial 141 finished with value: 0.8022481674057047 and parameters: {'max_depth': 3, 'n_estimators': 1550, 'class_weight': {0: 1.0, 1: 14}, 'min_samples_leaf': 0.008779942758142225}. Best is trial 72 with value: 0.8023083774250737.\u001b[0m\n",
      "\u001b[32m[I 2020-10-22 02:34:45,989]\u001b[0m Trial 142 finished with value: 0.802212399606504 and parameters: {'max_depth': 3, 'n_estimators': 1490, 'class_weight': {0: 1.0, 1: 14}, 'min_samples_leaf': 0.011278269979915176}. Best is trial 72 with value: 0.8023083774250737.\u001b[0m\n",
      "\u001b[32m[I 2020-10-22 02:35:06,784]\u001b[0m Trial 143 finished with value: 0.7952700960662219 and parameters: {'max_depth': 10, 'n_estimators': 1630, 'class_weight': {0: 1.0, 1: 14}, 'min_samples_leaf': 0.012875211289706473}. Best is trial 72 with value: 0.8023083774250737.\u001b[0m\n",
      "\u001b[32m[I 2020-10-22 02:35:18,316]\u001b[0m Trial 144 finished with value: 0.8022278150816209 and parameters: {'max_depth': 3, 'n_estimators': 1450, 'class_weight': {0: 1.0, 1: 14}, 'min_samples_leaf': 0.00797251666060599}. Best is trial 72 with value: 0.8023083774250737.\u001b[0m\n",
      "\u001b[32m[I 2020-10-22 02:35:45,263]\u001b[0m Trial 145 finished with value: 0.7894852363703588 and parameters: {'max_depth': 15, 'n_estimators': 1660, 'class_weight': 'balanced', 'min_samples_leaf': 0.004800977687003736}. Best is trial 72 with value: 0.8023083774250737.\u001b[0m\n",
      "\u001b[32m[I 2020-10-22 02:36:08,738]\u001b[0m Trial 146 finished with value: 0.7915217900515594 and parameters: {'max_depth': 18, 'n_estimators': 1550, 'class_weight': {0: 1.0, 1: 17}, 'min_samples_leaf': 0.006675988996391219}. Best is trial 72 with value: 0.8023083774250737.\u001b[0m\n",
      "\u001b[32m[I 2020-10-22 02:36:29,722]\u001b[0m Trial 147 finished with value: 0.7933168168569347 and parameters: {'max_depth': 34, 'n_estimators': 1500, 'class_weight': {0: 1.0, 1: 14}, 'min_samples_leaf': 0.009212813580403689}. Best is trial 72 with value: 0.8023083774250737.\u001b[0m\n",
      "\u001b[32m[I 2020-10-22 02:36:49,644]\u001b[0m Trial 148 finished with value: 0.7967679944131738 and parameters: {'max_depth': 45, 'n_estimators': 1700, 'class_weight': {0: 1.0, 1: 14}, 'min_samples_leaf': 0.01874709992359395}. Best is trial 72 with value: 0.8023083774250737.\u001b[0m\n",
      "\u001b[32m[I 2020-10-22 02:37:09,316]\u001b[0m Trial 149 finished with value: 0.7956160057047711 and parameters: {'max_depth': 11, 'n_estimators': 1580, 'class_weight': {0: 1.0, 1: 14}, 'min_samples_leaf': 0.014339206592733281}. Best is trial 72 with value: 0.8023083774250737.\u001b[0m\n",
      "\u001b[32m[I 2020-10-22 02:37:31,051]\u001b[0m Trial 150 finished with value: 0.7940523572538403 and parameters: {'max_depth': 12, 'n_estimators': 1610, 'class_weight': {0: 1.0, 1: 14}, 'min_samples_leaf': 0.010325500673074844}. Best is trial 72 with value: 0.8023083774250737.\u001b[0m\n",
      "\u001b[32m[I 2020-10-22 02:37:43,191]\u001b[0m Trial 151 finished with value: 0.8022518449936766 and parameters: {'max_depth': 3, 'n_estimators': 1520, 'class_weight': {0: 1.0, 1: 14}, 'min_samples_leaf': 0.010685569123671882}. Best is trial 72 with value: 0.8023083774250737.\u001b[0m\n",
      "\u001b[32m[I 2020-10-22 02:37:55,333]\u001b[0m Trial 152 finished with value: 0.8022306247261538 and parameters: {'max_depth': 3, 'n_estimators': 1530, 'class_weight': {0: 1.0, 1: 14}, 'min_samples_leaf': 0.012010038827880971}. Best is trial 72 with value: 0.8023083774250737.\u001b[0m\n",
      "\u001b[32m[I 2020-10-22 02:38:06,943]\u001b[0m Trial 153 finished with value: 0.8022420044675199 and parameters: {'max_depth': 3, 'n_estimators': 1460, 'class_weight': {0: 1.0, 1: 14}, 'min_samples_leaf': 0.008377461983906155}. Best is trial 72 with value: 0.8023083774250737.\u001b[0m\n"
     ]
    },
    {
     "name": "stderr",
     "output_type": "stream",
     "text": [
      "\u001b[32m[I 2020-10-22 02:38:18,975]\u001b[0m Trial 154 finished with value: 0.8022277541489956 and parameters: {'max_depth': 3, 'n_estimators': 1510, 'class_weight': {0: 1.0, 1: 14}, 'min_samples_leaf': 0.006702985461572605}. Best is trial 72 with value: 0.8023083774250737.\u001b[0m\n",
      "\u001b[32m[I 2020-10-22 02:38:35,707]\u001b[0m Trial 155 finished with value: 0.7962255409585415 and parameters: {'max_depth': 27, 'n_estimators': 1410, 'class_weight': {0: 1.0, 1: 14}, 'min_samples_leaf': 0.017295232292871866}. Best is trial 72 with value: 0.8023083774250737.\u001b[0m\n",
      "\u001b[32m[I 2020-10-22 02:38:48,222]\u001b[0m Trial 156 finished with value: 0.802273148197273 and parameters: {'max_depth': 3, 'n_estimators': 1560, 'class_weight': {0: 1.0, 1: 14}, 'min_samples_leaf': 0.010006672913636326}. Best is trial 72 with value: 0.8023083774250737.\u001b[0m\n",
      "\u001b[32m[I 2020-10-22 02:39:10,395]\u001b[0m Trial 157 finished with value: 0.7939773387133533 and parameters: {'max_depth': 31, 'n_estimators': 1620, 'class_weight': {0: 1.0, 1: 14}, 'min_samples_leaf': 0.010293174317172112}. Best is trial 72 with value: 0.8023083774250737.\u001b[0m\n",
      "\u001b[32m[I 2020-10-22 02:39:26,507]\u001b[0m Trial 158 finished with value: 0.7956603997889212 and parameters: {'max_depth': 41, 'n_estimators': 1310, 'class_weight': {0: 1.0, 1: 14}, 'min_samples_leaf': 0.014960848674477528}. Best is trial 72 with value: 0.8023083774250737.\u001b[0m\n",
      "\u001b[32m[I 2020-10-22 02:39:38,725]\u001b[0m Trial 159 finished with value: 0.8020988120851481 and parameters: {'max_depth': 3, 'n_estimators': 1560, 'class_weight': {0: 1.0, 1: 14}, 'min_samples_leaf': 0.021768395663499546}. Best is trial 72 with value: 0.8023083774250737.\u001b[0m\n",
      "\u001b[32m[I 2020-10-22 02:40:02,000]\u001b[0m Trial 160 finished with value: 0.7904498921517066 and parameters: {'max_depth': 29, 'n_estimators': 1470, 'class_weight': {0: 1.0, 1: 9.0}, 'min_samples_leaf': 0.005495717938184034}. Best is trial 72 with value: 0.8023083774250737.\u001b[0m\n",
      "\u001b[32m[I 2020-10-22 02:40:14,604]\u001b[0m Trial 161 finished with value: 0.8022591737681356 and parameters: {'max_depth': 3, 'n_estimators': 1580, 'class_weight': {0: 1.0, 1: 14}, 'min_samples_leaf': 0.008845118212016329}. Best is trial 72 with value: 0.8023083774250737.\u001b[0m\n",
      "\u001b[32m[I 2020-10-22 02:40:27,451]\u001b[0m Trial 162 finished with value: 0.8022731888190233 and parameters: {'max_depth': 3, 'n_estimators': 1600, 'class_weight': {0: 1.0, 1: 14}, 'min_samples_leaf': 0.01183464054882991}. Best is trial 72 with value: 0.8023083774250737.\u001b[0m\n",
      "\u001b[32m[I 2020-10-22 02:40:39,614]\u001b[0m Trial 163 finished with value: 0.802222490633454 and parameters: {'max_depth': 3, 'n_estimators': 1510, 'class_weight': {0: 1.0, 1: 14}, 'min_samples_leaf': 0.011810909070042584}. Best is trial 72 with value: 0.8023083774250737.\u001b[0m\n",
      "\u001b[32m[I 2020-10-22 02:40:59,530]\u001b[0m Trial 164 finished with value: 0.7952283650524417 and parameters: {'max_depth': 21, 'n_estimators': 1580, 'class_weight': {0: 1.0, 1: 14}, 'min_samples_leaf': 0.013643841369398372}. Best is trial 72 with value: 0.8023083774250737.\u001b[0m\n",
      "\u001b[32m[I 2020-10-22 02:41:12,937]\u001b[0m Trial 165 finished with value: 0.8021138619645128 and parameters: {'max_depth': 3, 'n_estimators': 1670, 'class_weight': {0: 1.0, 1: 18}, 'min_samples_leaf': 0.009548187019342708}. Best is trial 72 with value: 0.8023083774250737.\u001b[0m\n",
      "\u001b[32m[I 2020-10-22 02:41:32,191]\u001b[0m Trial 166 finished with value: 0.7941591471354262 and parameters: {'max_depth': 49, 'n_estimators': 1430, 'class_weight': {0: 1.0, 1: 14}, 'min_samples_leaf': 0.011094844919592901}. Best is trial 72 with value: 0.8023083774250737.\u001b[0m\n",
      "\u001b[32m[I 2020-10-22 02:42:01,937]\u001b[0m Trial 167 finished with value: 0.784271588703681 and parameters: {'max_depth': 42, 'n_estimators': 1560, 'class_weight': {0: 1.0, 1: 14}, 'min_samples_leaf': 0.0020951798718755244}. Best is trial 72 with value: 0.8023083774250737.\u001b[0m\n",
      "\u001b[32m[I 2020-10-22 02:42:50,989]\u001b[0m Trial 168 finished with value: 0.7622527649891212 and parameters: {'max_depth': 47, 'n_estimators': 2000, 'class_weight': {0: 1.0, 1: 14}, 'min_samples_leaf': 1.630666388973038e-05}. Best is trial 72 with value: 0.8023083774250737.\u001b[0m\n",
      "\u001b[32m[I 2020-10-22 02:43:04,098]\u001b[0m Trial 169 finished with value: 0.8021958738168099 and parameters: {'max_depth': 3, 'n_estimators': 1600, 'class_weight': {0: 1.0, 1: 12}, 'min_samples_leaf': 0.007430177782336312}. Best is trial 72 with value: 0.8023083774250737.\u001b[0m\n",
      "\u001b[32m[I 2020-10-22 02:43:20,144]\u001b[0m Trial 170 finished with value: 0.7977462796852541 and parameters: {'max_depth': 44, 'n_estimators': 1490, 'class_weight': {0: 1.0, 1: 13}, 'min_samples_leaf': 0.024940235776181412}. Best is trial 72 with value: 0.8023083774250737.\u001b[0m\n",
      "\u001b[32m[I 2020-10-22 02:43:33,146]\u001b[0m Trial 171 finished with value: 0.8022795633288238 and parameters: {'max_depth': 3, 'n_estimators': 1630, 'class_weight': {0: 1.0, 1: 14}, 'min_samples_leaf': 0.009751105189732798}. Best is trial 72 with value: 0.8023083774250737.\u001b[0m\n",
      "\u001b[32m[I 2020-10-22 02:43:45,441]\u001b[0m Trial 172 finished with value: 0.802245235895921 and parameters: {'max_depth': 3, 'n_estimators': 1540, 'class_weight': {0: 1.0, 1: 14}, 'min_samples_leaf': 0.009934035120446588}. Best is trial 72 with value: 0.8023083774250737.\u001b[0m\n",
      "\u001b[32m[I 2020-10-22 02:43:58,691]\u001b[0m Trial 173 finished with value: 0.80225565629491 and parameters: {'max_depth': 3, 'n_estimators': 1670, 'class_weight': {0: 1.0, 1: 14}, 'min_samples_leaf': 0.015124995296215782}. Best is trial 72 with value: 0.8023083774250737.\u001b[0m\n",
      "\u001b[32m[I 2020-10-22 02:44:11,907]\u001b[0m Trial 174 finished with value: 0.8022305790266848 and parameters: {'max_depth': 3, 'n_estimators': 1670, 'class_weight': {0: 1.0, 1: 14}, 'min_samples_leaf': 0.015702772461933526}. Best is trial 72 with value: 0.8023083774250737.\u001b[0m\n",
      "\u001b[32m[I 2020-10-22 02:44:32,285]\u001b[0m Trial 175 finished with value: 0.7950668588569465 and parameters: {'max_depth': 13, 'n_estimators': 1600, 'class_weight': {0: 1.0, 1: 14}, 'min_samples_leaf': 0.013027109019973976}. Best is trial 72 with value: 0.8023083774250737.\u001b[0m\n",
      "\u001b[32m[I 2020-10-22 02:44:47,342]\u001b[0m Trial 176 finished with value: 0.8022117950247596 and parameters: {'max_depth': 3, 'n_estimators': 1910, 'class_weight': {0: 1.0, 1: 14}, 'min_samples_leaf': 0.01712538713603148}. Best is trial 72 with value: 0.8023083774250737.\u001b[0m\n",
      "\u001b[32m[I 2020-10-22 02:45:04,374]\u001b[0m Trial 177 finished with value: 0.798970639443402 and parameters: {'max_depth': 14, 'n_estimators': 1720, 'class_weight': {0: 1.0, 1: 14}, 'min_samples_leaf': 0.03430377863070356}. Best is trial 72 with value: 0.8023083774250737.\u001b[0m\n",
      "\u001b[32m[I 2020-10-22 02:45:29,331]\u001b[0m Trial 178 finished with value: 0.7911057100412785 and parameters: {'max_depth': 20, 'n_estimators': 1630, 'class_weight': {0: 1.0, 1: 15}, 'min_samples_leaf': 0.006374618159935708}. Best is trial 72 with value: 0.8023083774250737.\u001b[0m\n",
      "\u001b[32m[I 2020-10-22 02:45:51,707]\u001b[0m Trial 179 finished with value: 0.7930376819954041 and parameters: {'max_depth': 39, 'n_estimators': 1570, 'class_weight': {0: 1.0, 1: 14}, 'min_samples_leaf': 0.008517431356280705}. Best is trial 72 with value: 0.8023083774250737.\u001b[0m\n",
      "\u001b[32m[I 2020-10-22 02:46:04,988]\u001b[0m Trial 180 finished with value: 0.8023019487529395 and parameters: {'max_depth': 3, 'n_estimators': 1660, 'class_weight': {0: 1.0, 1: 14}, 'min_samples_leaf': 0.0039255914715894315}. Best is trial 72 with value: 0.8023083774250737.\u001b[0m\n",
      "\u001b[32m[I 2020-10-22 02:46:18,379]\u001b[0m Trial 181 finished with value: 0.8022982068471961 and parameters: {'max_depth': 3, 'n_estimators': 1660, 'class_weight': {0: 1.0, 1: 14}, 'min_samples_leaf': 0.0036197171215314743}. Best is trial 72 with value: 0.8023083774250737.\u001b[0m\n",
      "\u001b[32m[I 2020-10-22 02:46:31,801]\u001b[0m Trial 182 finished with value: 0.8023057041992662 and parameters: {'max_depth': 3, 'n_estimators': 1670, 'class_weight': {0: 1.0, 1: 14}, 'min_samples_leaf': 0.003607252552161092}. Best is trial 72 with value: 0.8023083774250737.\u001b[0m\n",
      "\u001b[32m[I 2020-10-22 02:46:46,412]\u001b[0m Trial 183 finished with value: 0.8022450910143311 and parameters: {'max_depth': 3, 'n_estimators': 1810, 'class_weight': {0: 1.0, 1: 14}, 'min_samples_leaf': 0.00331568999112514}. Best is trial 72 with value: 0.8023083774250737.\u001b[0m\n",
      "\u001b[32m[I 2020-10-22 02:47:16,269]\u001b[0m Trial 184 finished with value: 0.7880001564252358 and parameters: {'max_depth': 25, 'n_estimators': 1730, 'class_weight': {0: 1.0, 1: 10}, 'min_samples_leaf': 0.0037901310590238405}. Best is trial 72 with value: 0.8023083774250737.\u001b[0m\n"
     ]
    },
    {
     "name": "stderr",
     "output_type": "stream",
     "text": [
      "\u001b[32m[I 2020-10-22 02:47:41,069]\u001b[0m Trial 185 finished with value: 0.7936527999945795 and parameters: {'max_depth': 8, 'n_estimators': 1770, 'class_weight': {0: 1.0, 1: 14}, 'min_samples_leaf': 0.0045794780112725295}. Best is trial 72 with value: 0.8023083774250737.\u001b[0m\n",
      "\u001b[32m[I 2020-10-22 02:47:54,363]\u001b[0m Trial 186 finished with value: 0.8021312926010411 and parameters: {'max_depth': 3, 'n_estimators': 1650, 'class_weight': {0: 1.0, 1: 16}, 'min_samples_leaf': 0.002959917539888778}. Best is trial 72 with value: 0.8023083774250737.\u001b[0m\n",
      "\u001b[32m[I 2020-10-22 02:48:26,053]\u001b[0m Trial 187 finished with value: 0.788190338938892 and parameters: {'max_depth': 17, 'n_estimators': 1860, 'class_weight': {0: 1.0, 1: 14}, 'min_samples_leaf': 0.003880961126915343}. Best is trial 72 with value: 0.8023083774250737.\u001b[0m\n",
      "\u001b[32m[I 2020-10-22 02:48:39,097]\u001b[0m Trial 188 finished with value: 0.8023054713038839 and parameters: {'max_depth': 3, 'n_estimators': 1610, 'class_weight': {0: 1.0, 1: 14}, 'min_samples_leaf': 0.0046588210056451775}. Best is trial 72 with value: 0.8023083774250737.\u001b[0m\n",
      "\u001b[32m[I 2020-10-22 02:48:55,406]\u001b[0m Trial 189 finished with value: 0.7883909858451714 and parameters: {'max_depth': 32, 'n_estimators': 970, 'class_weight': {0: 1.0, 1: 14}, 'min_samples_leaf': 0.0044905769611386535}. Best is trial 72 with value: 0.8023083774250737.\u001b[0m\n",
      "\u001b[32m[I 2020-10-22 02:49:26,603]\u001b[0m Trial 190 finished with value: 0.7857961075988945 and parameters: {'max_depth': 19, 'n_estimators': 1690, 'class_weight': 'balanced', 'min_samples_leaf': 0.002565299057265129}. Best is trial 72 with value: 0.8023083774250737.\u001b[0m\n",
      "\u001b[32m[I 2020-10-22 02:49:39,785]\u001b[0m Trial 191 finished with value: 0.8022689912779531 and parameters: {'max_depth': 3, 'n_estimators': 1610, 'class_weight': {0: 1.0, 1: 14}, 'min_samples_leaf': 0.003261527404214863}. Best is trial 72 with value: 0.8023083774250737.\u001b[0m\n",
      "\u001b[32m[I 2020-10-22 02:49:52,923]\u001b[0m Trial 192 finished with value: 0.8021907389368106 and parameters: {'max_depth': 3, 'n_estimators': 1610, 'class_weight': {0: 1.0, 1: 14}, 'min_samples_leaf': 0.0023366499075982957}. Best is trial 72 with value: 0.8023083774250737.\u001b[0m\n",
      "\u001b[32m[I 2020-10-22 02:50:06,269]\u001b[0m Trial 193 finished with value: 0.8022729322276202 and parameters: {'max_depth': 3, 'n_estimators': 1640, 'class_weight': {0: 1.0, 1: 14}, 'min_samples_leaf': 0.003273523935298385}. Best is trial 72 with value: 0.8023083774250737.\u001b[0m\n",
      "\u001b[32m[I 2020-10-22 02:50:35,040]\u001b[0m Trial 194 finished with value: 0.7873389927637305 and parameters: {'max_depth': 16, 'n_estimators': 1650, 'class_weight': {0: 1.0, 1: 14}, 'min_samples_leaf': 0.003317397414171806}. Best is trial 72 with value: 0.8023083774250737.\u001b[0m\n",
      "\u001b[32m[I 2020-10-22 02:50:49,021]\u001b[0m Trial 195 finished with value: 0.8022091123231962 and parameters: {'max_depth': 3, 'n_estimators': 1700, 'class_weight': {0: 1.0, 1: 14}, 'min_samples_leaf': 0.002779922394864851}. Best is trial 72 with value: 0.8023083774250737.\u001b[0m\n",
      "\u001b[32m[I 2020-10-22 02:51:15,295]\u001b[0m Trial 196 finished with value: 0.7898629589581242 and parameters: {'max_depth': None, 'n_estimators': 1610, 'class_weight': {0: 1.0, 1: 14}, 'min_samples_leaf': 0.005078110062880397}. Best is trial 72 with value: 0.8023083774250737.\u001b[0m\n",
      "\u001b[32m[I 2020-10-22 02:51:43,310]\u001b[0m Trial 197 finished with value: 0.7881390767933287 and parameters: {'max_depth': 43, 'n_estimators': 1640, 'class_weight': {0: 1.0, 1: 17}, 'min_samples_leaf': 0.003927392832352534}. Best is trial 72 with value: 0.8023083774250737.\u001b[0m\n",
      "\u001b[32m[I 2020-10-22 02:51:56,145]\u001b[0m Trial 198 finished with value: 0.8022025489249096 and parameters: {'max_depth': 3, 'n_estimators': 1580, 'class_weight': {0: 1.0, 1: 14}, 'min_samples_leaf': 0.0019158707516715578}. Best is trial 72 with value: 0.8023083774250737.\u001b[0m\n",
      "\u001b[32m[I 2020-10-22 02:52:27,489]\u001b[0m Trial 199 finished with value: 0.7868383837252644 and parameters: {'max_depth': 24, 'n_estimators': 1740, 'class_weight': {0: 1.0, 1: 14}, 'min_samples_leaf': 0.0031605036668059423}. Best is trial 72 with value: 0.8023083774250737.\u001b[0m\n"
     ]
    }
   ],
   "source": [
    "# Extracting the best model parameters and best study score\n",
    "best_study_score,best_study_params = train_roc_auc(X_train_Blender_red, y_train_Blender, rf_s, objective_wrappper_rf,\n",
    "                                                   cv_strat, cl_weight, n_trials=200) "
   ]
  },
  {
   "cell_type": "code",
   "execution_count": 56,
   "metadata": {},
   "outputs": [
    {
     "name": "stdout",
     "output_type": "stream",
     "text": [
      "The best roc_auc_score for the study is:  0.8023083774250737\n"
     ]
    }
   ],
   "source": [
    "print('The best roc_auc_score for the study is: ',best_study_score)"
   ]
  },
  {
   "cell_type": "code",
   "execution_count": 57,
   "metadata": {},
   "outputs": [
    {
     "name": "stdout",
     "output_type": "stream",
     "text": [
      "('The best study parameters for the classifier are: ', {'max_depth': 3, 'n_estimators': 1580, 'class_weight': {0: 1.0, 1: 14}, 'min_samples_leaf': 0.0041672078377099474})\n"
     ]
    }
   ],
   "source": [
    "print(('The best study parameters for the classifier are: ',best_study_params))"
   ]
  },
  {
   "cell_type": "markdown",
   "metadata": {},
   "source": [
    "#### Computing the test set  roc_auc score using the best study Parameters"
   ]
  },
  {
   "cell_type": "code",
   "execution_count": 58,
   "metadata": {},
   "outputs": [],
   "source": [
    "# Obtaining the best blender tuned RF model by setting best study parameters.\n",
    "rf_blender_tuned = rf_s.set_params(**best_study_params)"
   ]
  },
  {
   "cell_type": "code",
   "execution_count": 59,
   "metadata": {},
   "outputs": [
    {
     "data": {
      "text/plain": [
       "RandomForestClassifier(class_weight={0: 1.0, 1: 14}, max_depth=3,\n",
       "                       min_samples_leaf=0.0041672078377099474,\n",
       "                       n_estimators=1580, n_jobs=5, random_state=42)"
      ]
     },
     "execution_count": 59,
     "metadata": {},
     "output_type": "execute_result"
    }
   ],
   "source": [
    "# fitting the best blender tuned RF model on the blender training set\n",
    "rf_blender_tuned.fit(X_train_Blender_red, y_train_Blender)"
   ]
  },
  {
   "cell_type": "code",
   "execution_count": 60,
   "metadata": {},
   "outputs": [
    {
     "name": "stdout",
     "output_type": "stream",
     "text": [
      "The roc_auc_score for the Reduced feature training probabilities set using the best Random Forest Blender classifier is  0.8081989339022259\n"
     ]
    }
   ],
   "source": [
    "# Calculating the reduced feature training probabilities (without lda) set roc_auc score using the best study parameters\n",
    "cal_roc_auc(X_train_Blender_red, y_train_Blender, rf_blender_tuned,'Reduced feature',\n",
    "            'training probabilities', 'Random Forest Blender')"
   ]
  },
  {
   "cell_type": "code",
   "execution_count": 61,
   "metadata": {},
   "outputs": [
    {
     "name": "stdout",
     "output_type": "stream",
     "text": [
      "The roc_auc_score for the Reduced feature test probabilities set using the best Random Forest Blender classifier is  0.8139186252889287\n"
     ]
    }
   ],
   "source": [
    "# Calculating the reduced feature test probabilities (without lda) set roc_auc score using the best study parameters\n",
    "cal_roc_auc(X_test_Blender_red, y_test_Blender, rf_blender_tuned,'Reduced feature',\n",
    "            'test probabilities', 'Random Forest Blender')"
   ]
  },
  {
   "cell_type": "markdown",
   "metadata": {},
   "source": [
    "### Calculating R_R ratio for the best tuned Random forest Blender Classifier (without lda Predictions)"
   ]
  },
  {
   "cell_type": "code",
   "execution_count": 27,
   "metadata": {},
   "outputs": [],
   "source": [
    "# Computing the CV scores using sklearn's cross_val_score\n",
    "score_blender_1 = cross_val_score(rf_blender_tuned, X_train_Blender_red, y_train_Blender, cv=cv_strat, n_jobs=5, scoring='roc_auc')"
   ]
  },
  {
   "cell_type": "code",
   "execution_count": 28,
   "metadata": {},
   "outputs": [
    {
     "name": "stdout",
     "output_type": "stream",
     "text": [
      "The reward associated with the best Random Forest blender classifier (sans lda probs) using roc_auc metric is:  0.8023083774250737\n"
     ]
    }
   ],
   "source": [
    "print('The reward associated with the best Random Forest blender classifier (sans lda probs) using roc_auc metric is: ',np.mean(score_blender_1))"
   ]
  },
  {
   "cell_type": "code",
   "execution_count": 29,
   "metadata": {},
   "outputs": [
    {
     "name": "stdout",
     "output_type": "stream",
     "text": [
      "The risk associated with the best Random Forest blender Classifier (sans lda probs) using roc_auc metric is:  0.02915336150549055\n"
     ]
    }
   ],
   "source": [
    "print('The risk associated with the best Random Forest blender Classifier (sans lda probs) using roc_auc metric is: ',np.std(score_blender_1))"
   ]
  },
  {
   "cell_type": "code",
   "execution_count": 30,
   "metadata": {},
   "outputs": [],
   "source": [
    "R_R_Ratio_blender_1 = np.mean(score_blender_1)/np.std(score_blender_1)"
   ]
  },
  {
   "cell_type": "code",
   "execution_count": 31,
   "metadata": {},
   "outputs": [
    {
     "name": "stdout",
     "output_type": "stream",
     "text": [
      "The reward risk ratio for the best Random Forest blender Classifier (sans lda probs) using roc_auc metric is:  27.520269910348837\n"
     ]
    }
   ],
   "source": [
    "print('The reward risk ratio for the best Random Forest blender Classifier (sans lda probs) using roc_auc metric is: ',R_R_Ratio_blender_1)"
   ]
  },
  {
   "cell_type": "code",
   "execution_count": 32,
   "metadata": {},
   "outputs": [
    {
     "data": {
      "text/plain": [
       "array([0.81539039, 0.81914414, 0.78256237, 0.82492492, 0.83805151,\n",
       "       0.80982139, 0.74873264, 0.77269335, 0.77397363, 0.83778943])"
      ]
     },
     "execution_count": 32,
     "metadata": {},
     "output_type": "execute_result"
    }
   ],
   "source": [
    "score_blender_1"
   ]
  },
  {
   "cell_type": "markdown",
   "metadata": {},
   "source": [
    "#### R_R Ratio for the Random Forest Blender Classifier (without LDA) using roc_auc metric is: 27.520269910348837"
   ]
  },
  {
   "cell_type": "code",
   "execution_count": 69,
   "metadata": {},
   "outputs": [
    {
     "data": {
      "text/plain": [
       "['Random_Forest_Blender_lda.joblib']"
      ]
     },
     "execution_count": 69,
     "metadata": {},
     "output_type": "execute_result"
    }
   ],
   "source": [
    "# Saving the tuned Blender Model\n",
    "joblib.dump(rf_blender_tuned,'Random_Forest_Blender_lda.joblib')"
   ]
  },
  {
   "cell_type": "markdown",
   "metadata": {},
   "source": [
    "## Observations: \n",
    "### 1) The test set roc_auc for the Random forest Blender Classifier is more or less the same in both scenarios (with or without the LDA) & is approx. equal to that of the plain Random Forest classifier.\n",
    "### 2) However the R_R ratios for both the blender classifiers are worst of all the classifiers,  due to the high Std. Dev. of the CV roc_auc scores. This may be due to less training data being available to the blender classifier. _Hence we can all, but rule out using blender classifier for this dataset._\n"
   ]
  },
  {
   "cell_type": "markdown",
   "metadata": {},
   "source": [
    "### Best R_R Ratio for the RF Blender Classifier family using roc_auc metric is:  27.520269910348837, corresponding to RF Blender Classifier (Without LDA)"
   ]
  },
  {
   "cell_type": "code",
   "execution_count": null,
   "metadata": {},
   "outputs": [],
   "source": []
  }
 ],
 "metadata": {
  "kernelspec": {
   "display_name": "Python 3",
   "language": "python",
   "name": "python3"
  },
  "language_info": {
   "codemirror_mode": {
    "name": "ipython",
    "version": 3
   },
   "file_extension": ".py",
   "mimetype": "text/x-python",
   "name": "python",
   "nbconvert_exporter": "python",
   "pygments_lexer": "ipython3",
   "version": "3.8.5"
  }
 },
 "nbformat": 4,
 "nbformat_minor": 4
}
