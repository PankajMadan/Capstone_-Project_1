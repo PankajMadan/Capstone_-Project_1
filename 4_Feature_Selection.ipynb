{
 "cells": [
  {
   "cell_type": "code",
   "execution_count": 1,
   "metadata": {},
   "outputs": [],
   "source": [
    "# Importing Required Python Packages\n",
    "import numpy as np\n",
    "import pandas as pd\n",
    "import matplotlib.pyplot as plt\n",
    "import seaborn as sns\n",
    "import warnings\n",
    "warnings.filterwarnings('ignore')\n",
    "pd.set_option('display.max_columns',None)\n",
    "#pd.set_option('display.max_rows',None)"
   ]
  },
  {
   "cell_type": "code",
   "execution_count": 2,
   "metadata": {},
   "outputs": [],
   "source": [
    "# Reading the final dataset for Feature Selection\n",
    "bank_df = pd.read_csv('Final_df.csv')"
   ]
  },
  {
   "cell_type": "code",
   "execution_count": 3,
   "metadata": {},
   "outputs": [
    {
     "name": "stdout",
     "output_type": "stream",
     "text": [
      "<class 'pandas.core.frame.DataFrame'>\n",
      "RangeIndex: 41188 entries, 0 to 41187\n",
      "Data columns (total 54 columns):\n",
      " #   Column                         Non-Null Count  Dtype  \n",
      "---  ------                         --------------  -----  \n",
      " 0   age                            41188 non-null  int64  \n",
      " 1   duration                       41188 non-null  float64\n",
      " 2   campaign                       41188 non-null  int64  \n",
      " 3   pdays                          41188 non-null  int64  \n",
      " 4   previous                       41188 non-null  int64  \n",
      " 5   emp_var_rate                   41188 non-null  float64\n",
      " 6   cons_price_idx                 41188 non-null  float64\n",
      " 7   cons_conf_idx                  41188 non-null  float64\n",
      " 8   euribor3m                      41188 non-null  float64\n",
      " 9   nr_employed                    41188 non-null  float64\n",
      " 10  y                              41188 non-null  int64  \n",
      " 11  contact_telephone              41188 non-null  int64  \n",
      " 12  month_aug                      41188 non-null  int64  \n",
      " 13  month_dec                      41188 non-null  int64  \n",
      " 14  month_jul                      41188 non-null  int64  \n",
      " 15  month_jun                      41188 non-null  int64  \n",
      " 16  month_mar                      41188 non-null  int64  \n",
      " 17  month_may                      41188 non-null  int64  \n",
      " 18  month_nov                      41188 non-null  int64  \n",
      " 19  month_oct                      41188 non-null  int64  \n",
      " 20  month_sep                      41188 non-null  int64  \n",
      " 21  day_of_week_mon                41188 non-null  int64  \n",
      " 22  day_of_week_thu                41188 non-null  int64  \n",
      " 23  day_of_week_tue                41188 non-null  int64  \n",
      " 24  day_of_week_wed                41188 non-null  int64  \n",
      " 25  poutcome_nonexistent           41188 non-null  int64  \n",
      " 26  poutcome_success               41188 non-null  int64  \n",
      " 27  job_admin                      41188 non-null  int64  \n",
      " 28  job_blue-collar                41188 non-null  int64  \n",
      " 29  job_entrepreneur               41188 non-null  int64  \n",
      " 30  job_housemaid                  41188 non-null  int64  \n",
      " 31  job_management                 41188 non-null  int64  \n",
      " 32  job_retired                    41188 non-null  int64  \n",
      " 33  job_self-employed              41188 non-null  int64  \n",
      " 34  job_services                   41188 non-null  int64  \n",
      " 35  job_student                    41188 non-null  int64  \n",
      " 36  job_technician                 41188 non-null  int64  \n",
      " 37  job_unemployed                 41188 non-null  int64  \n",
      " 38  marital_divorced               41188 non-null  int64  \n",
      " 39  marital_married                41188 non-null  int64  \n",
      " 40  marital_single                 41188 non-null  int64  \n",
      " 41  education_basic_4y             41188 non-null  int64  \n",
      " 42  education_basic_6y             41188 non-null  int64  \n",
      " 43  education_basic_9y             41188 non-null  int64  \n",
      " 44  education_high_school          41188 non-null  int64  \n",
      " 45  education_illiterate           41188 non-null  int64  \n",
      " 46  education_professional_course  41188 non-null  int64  \n",
      " 47  education_university_degree    41188 non-null  int64  \n",
      " 48  default_no                     41188 non-null  int64  \n",
      " 49  default_yes                    41188 non-null  int64  \n",
      " 50  housing_no                     41188 non-null  int64  \n",
      " 51  housing_yes                    41188 non-null  int64  \n",
      " 52  loan_no                        41188 non-null  int64  \n",
      " 53  loan_yes                       41188 non-null  int64  \n",
      "dtypes: float64(6), int64(48)\n",
      "memory usage: 17.0 MB\n"
     ]
    }
   ],
   "source": [
    "# Getting the info\n",
    "bank_df.info()"
   ]
  },
  {
   "cell_type": "markdown",
   "metadata": {},
   "source": [
    "### Performing Train, Test Split of the dataset."
   ]
  },
  {
   "cell_type": "code",
   "execution_count": 4,
   "metadata": {},
   "outputs": [],
   "source": [
    "# Segregating the Feature Space and the Response Variable\n",
    "y = bank_df['y']\n",
    "X = bank_df.drop(columns='y')"
   ]
  },
  {
   "cell_type": "code",
   "execution_count": 5,
   "metadata": {},
   "outputs": [],
   "source": [
    "# Importing the train test split module from Sklearn\n",
    "from sklearn.model_selection import train_test_split"
   ]
  },
  {
   "cell_type": "code",
   "execution_count": 6,
   "metadata": {},
   "outputs": [],
   "source": [
    "# Performing Train Test split using sklearn . Here the split is stratified using the class labels\n",
    "X_train, X_test, y_train, y_test = train_test_split(X,y,random_state=42,test_size =.2,stratify=y)"
   ]
  },
  {
   "cell_type": "code",
   "execution_count": 7,
   "metadata": {},
   "outputs": [
    {
     "name": "stdout",
     "output_type": "stream",
     "text": [
      "<class 'pandas.core.frame.DataFrame'>\n",
      "Int64Index: 32950 entries, 25611 to 10747\n",
      "Data columns (total 53 columns):\n",
      " #   Column                         Non-Null Count  Dtype  \n",
      "---  ------                         --------------  -----  \n",
      " 0   age                            32950 non-null  int64  \n",
      " 1   duration                       32950 non-null  float64\n",
      " 2   campaign                       32950 non-null  int64  \n",
      " 3   pdays                          32950 non-null  int64  \n",
      " 4   previous                       32950 non-null  int64  \n",
      " 5   emp_var_rate                   32950 non-null  float64\n",
      " 6   cons_price_idx                 32950 non-null  float64\n",
      " 7   cons_conf_idx                  32950 non-null  float64\n",
      " 8   euribor3m                      32950 non-null  float64\n",
      " 9   nr_employed                    32950 non-null  float64\n",
      " 10  contact_telephone              32950 non-null  int64  \n",
      " 11  month_aug                      32950 non-null  int64  \n",
      " 12  month_dec                      32950 non-null  int64  \n",
      " 13  month_jul                      32950 non-null  int64  \n",
      " 14  month_jun                      32950 non-null  int64  \n",
      " 15  month_mar                      32950 non-null  int64  \n",
      " 16  month_may                      32950 non-null  int64  \n",
      " 17  month_nov                      32950 non-null  int64  \n",
      " 18  month_oct                      32950 non-null  int64  \n",
      " 19  month_sep                      32950 non-null  int64  \n",
      " 20  day_of_week_mon                32950 non-null  int64  \n",
      " 21  day_of_week_thu                32950 non-null  int64  \n",
      " 22  day_of_week_tue                32950 non-null  int64  \n",
      " 23  day_of_week_wed                32950 non-null  int64  \n",
      " 24  poutcome_nonexistent           32950 non-null  int64  \n",
      " 25  poutcome_success               32950 non-null  int64  \n",
      " 26  job_admin                      32950 non-null  int64  \n",
      " 27  job_blue-collar                32950 non-null  int64  \n",
      " 28  job_entrepreneur               32950 non-null  int64  \n",
      " 29  job_housemaid                  32950 non-null  int64  \n",
      " 30  job_management                 32950 non-null  int64  \n",
      " 31  job_retired                    32950 non-null  int64  \n",
      " 32  job_self-employed              32950 non-null  int64  \n",
      " 33  job_services                   32950 non-null  int64  \n",
      " 34  job_student                    32950 non-null  int64  \n",
      " 35  job_technician                 32950 non-null  int64  \n",
      " 36  job_unemployed                 32950 non-null  int64  \n",
      " 37  marital_divorced               32950 non-null  int64  \n",
      " 38  marital_married                32950 non-null  int64  \n",
      " 39  marital_single                 32950 non-null  int64  \n",
      " 40  education_basic_4y             32950 non-null  int64  \n",
      " 41  education_basic_6y             32950 non-null  int64  \n",
      " 42  education_basic_9y             32950 non-null  int64  \n",
      " 43  education_high_school          32950 non-null  int64  \n",
      " 44  education_illiterate           32950 non-null  int64  \n",
      " 45  education_professional_course  32950 non-null  int64  \n",
      " 46  education_university_degree    32950 non-null  int64  \n",
      " 47  default_no                     32950 non-null  int64  \n",
      " 48  default_yes                    32950 non-null  int64  \n",
      " 49  housing_no                     32950 non-null  int64  \n",
      " 50  housing_yes                    32950 non-null  int64  \n",
      " 51  loan_no                        32950 non-null  int64  \n",
      " 52  loan_yes                       32950 non-null  int64  \n",
      "dtypes: float64(6), int64(47)\n",
      "memory usage: 13.6 MB\n"
     ]
    }
   ],
   "source": [
    "X_train.info()"
   ]
  },
  {
   "cell_type": "markdown",
   "metadata": {},
   "source": [
    "## Feature Selection using Mutual Information."
   ]
  },
  {
   "cell_type": "code",
   "execution_count": 8,
   "metadata": {},
   "outputs": [],
   "source": [
    "# Loading the numerical columns dataset which contains all the numerical columns & the response variable\n",
    "num_df = pd.read_csv('Num_df.csv')"
   ]
  },
  {
   "cell_type": "code",
   "execution_count": 9,
   "metadata": {},
   "outputs": [],
   "source": [
    "# Dropping the Response variable \n",
    "num_cols = (num_df.drop(columns='y')).columns"
   ]
  },
  {
   "cell_type": "code",
   "execution_count": 10,
   "metadata": {},
   "outputs": [
    {
     "data": {
      "text/plain": [
       "Index(['age', 'duration', 'campaign', 'pdays', 'previous', 'emp_var_rate',\n",
       "       'cons_price_idx', 'cons_conf_idx', 'euribor3m', 'nr_employed'],\n",
       "      dtype='object')"
      ]
     },
     "execution_count": 10,
     "metadata": {},
     "output_type": "execute_result"
    }
   ],
   "source": [
    "num_cols"
   ]
  },
  {
   "cell_type": "code",
   "execution_count": 11,
   "metadata": {},
   "outputs": [],
   "source": [
    "# Extracting the Dummy or categorical Columns\n",
    "cat_cols = list(set(X_train.columns)- set(num_cols))"
   ]
  },
  {
   "cell_type": "code",
   "execution_count": 12,
   "metadata": {},
   "outputs": [
    {
     "data": {
      "text/plain": [
       "43"
      ]
     },
     "execution_count": 12,
     "metadata": {},
     "output_type": "execute_result"
    }
   ],
   "source": [
    "len(cat_cols)"
   ]
  },
  {
   "cell_type": "code",
   "execution_count": 13,
   "metadata": {},
   "outputs": [],
   "source": [
    "# Normalizing the Numerical columns of X_train before calculating the Mutual Information using KNN algorithm.\n",
    "from sklearn.preprocessing import MinMaxScaler "
   ]
  },
  {
   "cell_type": "code",
   "execution_count": 14,
   "metadata": {},
   "outputs": [],
   "source": [
    "scale = MinMaxScaler()\n",
    "X_train_norm = scale.fit_transform(X_train[num_cols])"
   ]
  },
  {
   "cell_type": "code",
   "execution_count": 17,
   "metadata": {},
   "outputs": [],
   "source": [
    "# Converting the numpy array to dataframe. V-IMP: Make sure to put back the original row labels,otherwise new \n",
    "# range_index begining from 0 is assigned to new df: Num_df_scaled\n",
    "Num_df_scaled = pd.DataFrame(X_train_norm,columns=num_cols,index=X_train.index)"
   ]
  },
  {
   "cell_type": "code",
   "execution_count": 18,
   "metadata": {},
   "outputs": [
    {
     "name": "stdout",
     "output_type": "stream",
     "text": [
      "<class 'pandas.core.frame.DataFrame'>\n",
      "Int64Index: 32950 entries, 25611 to 10747\n",
      "Data columns (total 10 columns):\n",
      " #   Column          Non-Null Count  Dtype  \n",
      "---  ------          --------------  -----  \n",
      " 0   age             32950 non-null  float64\n",
      " 1   duration        32950 non-null  float64\n",
      " 2   campaign        32950 non-null  float64\n",
      " 3   pdays           32950 non-null  float64\n",
      " 4   previous        32950 non-null  float64\n",
      " 5   emp_var_rate    32950 non-null  float64\n",
      " 6   cons_price_idx  32950 non-null  float64\n",
      " 7   cons_conf_idx   32950 non-null  float64\n",
      " 8   euribor3m       32950 non-null  float64\n",
      " 9   nr_employed     32950 non-null  float64\n",
      "dtypes: float64(10)\n",
      "memory usage: 2.8 MB\n"
     ]
    }
   ],
   "source": [
    "Num_df_scaled.info()"
   ]
  },
  {
   "cell_type": "code",
   "execution_count": 19,
   "metadata": {},
   "outputs": [
    {
     "name": "stdout",
     "output_type": "stream",
     "text": [
      "<class 'pandas.core.frame.DataFrame'>\n",
      "Int64Index: 32950 entries, 25611 to 10747\n",
      "Data columns (total 43 columns):\n",
      " #   Column                         Non-Null Count  Dtype\n",
      "---  ------                         --------------  -----\n",
      " 0   education_university_degree    32950 non-null  int64\n",
      " 1   job_management                 32950 non-null  int64\n",
      " 2   day_of_week_thu                32950 non-null  int64\n",
      " 3   education_basic_6y             32950 non-null  int64\n",
      " 4   month_mar                      32950 non-null  int64\n",
      " 5   education_illiterate           32950 non-null  int64\n",
      " 6   job_self-employed              32950 non-null  int64\n",
      " 7   month_nov                      32950 non-null  int64\n",
      " 8   job_blue-collar                32950 non-null  int64\n",
      " 9   job_housemaid                  32950 non-null  int64\n",
      " 10  job_technician                 32950 non-null  int64\n",
      " 11  month_jun                      32950 non-null  int64\n",
      " 12  loan_yes                       32950 non-null  int64\n",
      " 13  day_of_week_wed                32950 non-null  int64\n",
      " 14  job_entrepreneur               32950 non-null  int64\n",
      " 15  job_unemployed                 32950 non-null  int64\n",
      " 16  education_basic_4y             32950 non-null  int64\n",
      " 17  month_aug                      32950 non-null  int64\n",
      " 18  loan_no                        32950 non-null  int64\n",
      " 19  housing_yes                    32950 non-null  int64\n",
      " 20  poutcome_success               32950 non-null  int64\n",
      " 21  poutcome_nonexistent           32950 non-null  int64\n",
      " 22  marital_divorced               32950 non-null  int64\n",
      " 23  month_sep                      32950 non-null  int64\n",
      " 24  day_of_week_mon                32950 non-null  int64\n",
      " 25  job_student                    32950 non-null  int64\n",
      " 26  job_admin                      32950 non-null  int64\n",
      " 27  default_no                     32950 non-null  int64\n",
      " 28  housing_no                     32950 non-null  int64\n",
      " 29  default_yes                    32950 non-null  int64\n",
      " 30  day_of_week_tue                32950 non-null  int64\n",
      " 31  job_retired                    32950 non-null  int64\n",
      " 32  month_jul                      32950 non-null  int64\n",
      " 33  contact_telephone              32950 non-null  int64\n",
      " 34  month_dec                      32950 non-null  int64\n",
      " 35  marital_single                 32950 non-null  int64\n",
      " 36  month_oct                      32950 non-null  int64\n",
      " 37  education_basic_9y             32950 non-null  int64\n",
      " 38  job_services                   32950 non-null  int64\n",
      " 39  education_high_school          32950 non-null  int64\n",
      " 40  marital_married                32950 non-null  int64\n",
      " 41  education_professional_course  32950 non-null  int64\n",
      " 42  month_may                      32950 non-null  int64\n",
      "dtypes: int64(43)\n",
      "memory usage: 11.1 MB\n"
     ]
    }
   ],
   "source": [
    "X_train[cat_cols].info()"
   ]
  },
  {
   "cell_type": "code",
   "execution_count": 20,
   "metadata": {},
   "outputs": [],
   "source": [
    "# Concatenating Scaled Numerical columns with the categorical columns of X_train\n",
    "X_train_scaled = pd.concat([Num_df_scaled,X_train[cat_cols]],axis=1)"
   ]
  },
  {
   "cell_type": "code",
   "execution_count": 21,
   "metadata": {},
   "outputs": [
    {
     "name": "stdout",
     "output_type": "stream",
     "text": [
      "<class 'pandas.core.frame.DataFrame'>\n",
      "Int64Index: 32950 entries, 25611 to 10747\n",
      "Data columns (total 53 columns):\n",
      " #   Column                         Non-Null Count  Dtype  \n",
      "---  ------                         --------------  -----  \n",
      " 0   age                            32950 non-null  float64\n",
      " 1   duration                       32950 non-null  float64\n",
      " 2   campaign                       32950 non-null  float64\n",
      " 3   pdays                          32950 non-null  float64\n",
      " 4   previous                       32950 non-null  float64\n",
      " 5   emp_var_rate                   32950 non-null  float64\n",
      " 6   cons_price_idx                 32950 non-null  float64\n",
      " 7   cons_conf_idx                  32950 non-null  float64\n",
      " 8   euribor3m                      32950 non-null  float64\n",
      " 9   nr_employed                    32950 non-null  float64\n",
      " 10  education_university_degree    32950 non-null  int64  \n",
      " 11  job_management                 32950 non-null  int64  \n",
      " 12  day_of_week_thu                32950 non-null  int64  \n",
      " 13  education_basic_6y             32950 non-null  int64  \n",
      " 14  month_mar                      32950 non-null  int64  \n",
      " 15  education_illiterate           32950 non-null  int64  \n",
      " 16  job_self-employed              32950 non-null  int64  \n",
      " 17  month_nov                      32950 non-null  int64  \n",
      " 18  job_blue-collar                32950 non-null  int64  \n",
      " 19  job_housemaid                  32950 non-null  int64  \n",
      " 20  job_technician                 32950 non-null  int64  \n",
      " 21  month_jun                      32950 non-null  int64  \n",
      " 22  loan_yes                       32950 non-null  int64  \n",
      " 23  day_of_week_wed                32950 non-null  int64  \n",
      " 24  job_entrepreneur               32950 non-null  int64  \n",
      " 25  job_unemployed                 32950 non-null  int64  \n",
      " 26  education_basic_4y             32950 non-null  int64  \n",
      " 27  month_aug                      32950 non-null  int64  \n",
      " 28  loan_no                        32950 non-null  int64  \n",
      " 29  housing_yes                    32950 non-null  int64  \n",
      " 30  poutcome_success               32950 non-null  int64  \n",
      " 31  poutcome_nonexistent           32950 non-null  int64  \n",
      " 32  marital_divorced               32950 non-null  int64  \n",
      " 33  month_sep                      32950 non-null  int64  \n",
      " 34  day_of_week_mon                32950 non-null  int64  \n",
      " 35  job_student                    32950 non-null  int64  \n",
      " 36  job_admin                      32950 non-null  int64  \n",
      " 37  default_no                     32950 non-null  int64  \n",
      " 38  housing_no                     32950 non-null  int64  \n",
      " 39  default_yes                    32950 non-null  int64  \n",
      " 40  day_of_week_tue                32950 non-null  int64  \n",
      " 41  job_retired                    32950 non-null  int64  \n",
      " 42  month_jul                      32950 non-null  int64  \n",
      " 43  contact_telephone              32950 non-null  int64  \n",
      " 44  month_dec                      32950 non-null  int64  \n",
      " 45  marital_single                 32950 non-null  int64  \n",
      " 46  month_oct                      32950 non-null  int64  \n",
      " 47  education_basic_9y             32950 non-null  int64  \n",
      " 48  job_services                   32950 non-null  int64  \n",
      " 49  education_high_school          32950 non-null  int64  \n",
      " 50  marital_married                32950 non-null  int64  \n",
      " 51  education_professional_course  32950 non-null  int64  \n",
      " 52  month_may                      32950 non-null  int64  \n",
      "dtypes: float64(10), int64(43)\n",
      "memory usage: 13.6 MB\n"
     ]
    }
   ],
   "source": [
    "X_train_scaled.info()"
   ]
  },
  {
   "cell_type": "code",
   "execution_count": 30,
   "metadata": {},
   "outputs": [],
   "source": [
    "# Importing Mutual Information classifier ferom sklearn\n",
    "from sklearn.feature_selection import mutual_info_classif"
   ]
  },
  {
   "cell_type": "code",
   "execution_count": 31,
   "metadata": {},
   "outputs": [],
   "source": [
    "# Computing Mutual info. between feature space and Response variable.\n",
    "MI_X_train_y_train = mutual_info_classif(X_train_scaled,y_train,random_state=42)"
   ]
  },
  {
   "cell_type": "code",
   "execution_count": 32,
   "metadata": {},
   "outputs": [],
   "source": [
    "# converting Mutual Info. values to corresponding Series.\n",
    "MI = pd.Series(MI_X_train_y_train,index=X_train_scaled.columns)"
   ]
  },
  {
   "cell_type": "code",
   "execution_count": 33,
   "metadata": {},
   "outputs": [
    {
     "data": {
      "image/png": "[encoded data removed]",
      "text/plain": [
       "<Figure size 1440x1440 with 1 Axes>"
      ]
     },
     "metadata": {
      "needs_background": "light"
     },
     "output_type": "display_data"
    }
   ],
   "source": [
    "# Plotting the Mutual information corresponding to various features on the horizontal barplot.\n",
    "fig = plt.figure(figsize=(20,20))\n",
    "MI.plot.barh()\n",
    "plt.show()"
   ]
  },
  {
   "cell_type": "code",
   "execution_count": 35,
   "metadata": {},
   "outputs": [
    {
     "data": {
      "text/plain": [
       "37"
      ]
     },
     "execution_count": 35,
     "metadata": {},
     "output_type": "execute_result"
    }
   ],
   "source": [
    "sum((MI>.001))"
   ]
  },
  {
   "cell_type": "code",
   "execution_count": 36,
   "metadata": {},
   "outputs": [],
   "source": [
    "# Selecting only features having MI >= .001.\n",
    "X_train_red = X_train[(MI.loc[MI >= .001]).index]"
   ]
  },
  {
   "cell_type": "code",
   "execution_count": 37,
   "metadata": {},
   "outputs": [
    {
     "name": "stdout",
     "output_type": "stream",
     "text": [
      "<class 'pandas.core.frame.DataFrame'>\n",
      "Int64Index: 32950 entries, 25611 to 10747\n",
      "Data columns (total 37 columns):\n",
      " #   Column                       Non-Null Count  Dtype  \n",
      "---  ------                       --------------  -----  \n",
      " 0   age                          32950 non-null  int64  \n",
      " 1   duration                     32950 non-null  float64\n",
      " 2   campaign                     32950 non-null  int64  \n",
      " 3   pdays                        32950 non-null  int64  \n",
      " 4   previous                     32950 non-null  int64  \n",
      " 5   emp_var_rate                 32950 non-null  float64\n",
      " 6   cons_price_idx               32950 non-null  float64\n",
      " 7   cons_conf_idx                32950 non-null  float64\n",
      " 8   euribor3m                    32950 non-null  float64\n",
      " 9   nr_employed                  32950 non-null  float64\n",
      " 10  education_university_degree  32950 non-null  int64  \n",
      " 11  day_of_week_thu              32950 non-null  int64  \n",
      " 12  education_basic_6y           32950 non-null  int64  \n",
      " 13  month_mar                    32950 non-null  int64  \n",
      " 14  education_illiterate         32950 non-null  int64  \n",
      " 15  job_blue-collar              32950 non-null  int64  \n",
      " 16  job_housemaid                32950 non-null  int64  \n",
      " 17  loan_yes                     32950 non-null  int64  \n",
      " 18  month_aug                    32950 non-null  int64  \n",
      " 19  loan_no                      32950 non-null  int64  \n",
      " 20  housing_yes                  32950 non-null  int64  \n",
      " 21  poutcome_success             32950 non-null  int64  \n",
      " 22  poutcome_nonexistent         32950 non-null  int64  \n",
      " 23  month_sep                    32950 non-null  int64  \n",
      " 24  job_student                  32950 non-null  int64  \n",
      " 25  job_admin                    32950 non-null  int64  \n",
      " 26  default_no                   32950 non-null  int64  \n",
      " 27  housing_no                   32950 non-null  int64  \n",
      " 28  job_retired                  32950 non-null  int64  \n",
      " 29  month_jul                    32950 non-null  int64  \n",
      " 30  contact_telephone            32950 non-null  int64  \n",
      " 31  month_dec                    32950 non-null  int64  \n",
      " 32  marital_single               32950 non-null  int64  \n",
      " 33  month_oct                    32950 non-null  int64  \n",
      " 34  job_services                 32950 non-null  int64  \n",
      " 35  marital_married              32950 non-null  int64  \n",
      " 36  month_may                    32950 non-null  int64  \n",
      "dtypes: float64(6), int64(31)\n",
      "memory usage: 9.6 MB\n"
     ]
    }
   ],
   "source": [
    "# getting the info of the reduced dataset\n",
    "X_train_red.info()"
   ]
  },
  {
   "cell_type": "code",
   "execution_count": 38,
   "metadata": {},
   "outputs": [],
   "source": [
    "# Removing the corresponding features having MI less than .001 from the test set\n",
    "X_test_red = X_test[(MI.loc[MI>=.001]).index]"
   ]
  },
  {
   "cell_type": "code",
   "execution_count": 39,
   "metadata": {},
   "outputs": [
    {
     "name": "stdout",
     "output_type": "stream",
     "text": [
      "<class 'pandas.core.frame.DataFrame'>\n",
      "Int64Index: 8238 entries, 14455 to 33395\n",
      "Data columns (total 37 columns):\n",
      " #   Column                       Non-Null Count  Dtype  \n",
      "---  ------                       --------------  -----  \n",
      " 0   age                          8238 non-null   int64  \n",
      " 1   duration                     8238 non-null   float64\n",
      " 2   campaign                     8238 non-null   int64  \n",
      " 3   pdays                        8238 non-null   int64  \n",
      " 4   previous                     8238 non-null   int64  \n",
      " 5   emp_var_rate                 8238 non-null   float64\n",
      " 6   cons_price_idx               8238 non-null   float64\n",
      " 7   cons_conf_idx                8238 non-null   float64\n",
      " 8   euribor3m                    8238 non-null   float64\n",
      " 9   nr_employed                  8238 non-null   float64\n",
      " 10  education_university_degree  8238 non-null   int64  \n",
      " 11  day_of_week_thu              8238 non-null   int64  \n",
      " 12  education_basic_6y           8238 non-null   int64  \n",
      " 13  month_mar                    8238 non-null   int64  \n",
      " 14  education_illiterate         8238 non-null   int64  \n",
      " 15  job_blue-collar              8238 non-null   int64  \n",
      " 16  job_housemaid                8238 non-null   int64  \n",
      " 17  loan_yes                     8238 non-null   int64  \n",
      " 18  month_aug                    8238 non-null   int64  \n",
      " 19  loan_no                      8238 non-null   int64  \n",
      " 20  housing_yes                  8238 non-null   int64  \n",
      " 21  poutcome_success             8238 non-null   int64  \n",
      " 22  poutcome_nonexistent         8238 non-null   int64  \n",
      " 23  month_sep                    8238 non-null   int64  \n",
      " 24  job_student                  8238 non-null   int64  \n",
      " 25  job_admin                    8238 non-null   int64  \n",
      " 26  default_no                   8238 non-null   int64  \n",
      " 27  housing_no                   8238 non-null   int64  \n",
      " 28  job_retired                  8238 non-null   int64  \n",
      " 29  month_jul                    8238 non-null   int64  \n",
      " 30  contact_telephone            8238 non-null   int64  \n",
      " 31  month_dec                    8238 non-null   int64  \n",
      " 32  marital_single               8238 non-null   int64  \n",
      " 33  month_oct                    8238 non-null   int64  \n",
      " 34  job_services                 8238 non-null   int64  \n",
      " 35  marital_married              8238 non-null   int64  \n",
      " 36  month_may                    8238 non-null   int64  \n",
      "dtypes: float64(6), int64(31)\n",
      "memory usage: 2.4 MB\n"
     ]
    }
   ],
   "source": [
    "X_test_red.info()"
   ]
  },
  {
   "cell_type": "markdown",
   "metadata": {},
   "source": [
    "## Standardizing the numerical columns of the Feature space"
   ]
  },
  {
   "cell_type": "code",
   "execution_count": 40,
   "metadata": {},
   "outputs": [
    {
     "data": {
      "text/plain": [
       "Index(['age', 'duration', 'campaign', 'pdays', 'previous', 'emp_var_rate',\n",
       "       'cons_price_idx', 'cons_conf_idx', 'euribor3m', 'nr_employed'],\n",
       "      dtype='object')"
      ]
     },
     "execution_count": 40,
     "metadata": {},
     "output_type": "execute_result"
    }
   ],
   "source": [
    "num_cols"
   ]
  },
  {
   "cell_type": "code",
   "execution_count": 41,
   "metadata": {},
   "outputs": [
    {
     "data": {
      "text/plain": [
       "10"
      ]
     },
     "execution_count": 41,
     "metadata": {},
     "output_type": "execute_result"
    }
   ],
   "source": [
    "len(num_cols)"
   ]
  },
  {
   "cell_type": "code",
   "execution_count": 42,
   "metadata": {},
   "outputs": [],
   "source": [
    "# Getting the numerical columns from the reduced training set\n",
    "num_cols_r = list(set(num_cols).intersection(set(X_train_red.columns)))"
   ]
  },
  {
   "cell_type": "code",
   "execution_count": 43,
   "metadata": {},
   "outputs": [
    {
     "data": {
      "text/plain": [
       "['pdays',\n",
       " 'campaign',\n",
       " 'previous',\n",
       " 'cons_price_idx',\n",
       " 'emp_var_rate',\n",
       " 'cons_conf_idx',\n",
       " 'nr_employed',\n",
       " 'age',\n",
       " 'euribor3m',\n",
       " 'duration']"
      ]
     },
     "execution_count": 43,
     "metadata": {},
     "output_type": "execute_result"
    }
   ],
   "source": [
    "num_cols_r"
   ]
  },
  {
   "cell_type": "code",
   "execution_count": 44,
   "metadata": {},
   "outputs": [
    {
     "data": {
      "text/plain": [
       "10"
      ]
     },
     "execution_count": 44,
     "metadata": {},
     "output_type": "execute_result"
    }
   ],
   "source": [
    "len(num_cols_r)"
   ]
  },
  {
   "cell_type": "markdown",
   "metadata": {},
   "source": [
    "### From the above output we can clearly see that all the numerical columns are present in the reduced training set. "
   ]
  },
  {
   "cell_type": "code",
   "execution_count": 45,
   "metadata": {},
   "outputs": [],
   "source": [
    "# Getting the Categorical columns of the reduced training set\n",
    "cat_cols_r = list(set(X_train_red.columns) - set(num_cols_r))"
   ]
  },
  {
   "cell_type": "code",
   "execution_count": 46,
   "metadata": {},
   "outputs": [
    {
     "data": {
      "text/plain": [
       "27"
      ]
     },
     "execution_count": 46,
     "metadata": {},
     "output_type": "execute_result"
    }
   ],
   "source": [
    "len(cat_cols_r)"
   ]
  },
  {
   "cell_type": "code",
   "execution_count": 47,
   "metadata": {},
   "outputs": [],
   "source": [
    "# Importing the Standard scaler from Sklearn\n",
    "from sklearn.preprocessing import StandardScaler"
   ]
  },
  {
   "cell_type": "code",
   "execution_count": 48,
   "metadata": {},
   "outputs": [],
   "source": [
    "# Instantiating the Standard Scaler object & fit_transforming the Training set.\n",
    "st_scaler = StandardScaler()\n",
    "arr = st_scaler.fit_transform(X_train_red[num_cols_r])"
   ]
  },
  {
   "cell_type": "code",
   "execution_count": 49,
   "metadata": {},
   "outputs": [],
   "source": [
    "# Converting the array to the corresponding dataframe\n",
    "Num_df_scaled = pd.DataFrame(arr,columns=num_cols_r,index=X_train_red.index)"
   ]
  },
  {
   "cell_type": "code",
   "execution_count": 50,
   "metadata": {},
   "outputs": [
    {
     "name": "stdout",
     "output_type": "stream",
     "text": [
      "<class 'pandas.core.frame.DataFrame'>\n",
      "Int64Index: 32950 entries, 25611 to 10747\n",
      "Data columns (total 10 columns):\n",
      " #   Column          Non-Null Count  Dtype  \n",
      "---  ------          --------------  -----  \n",
      " 0   pdays           32950 non-null  float64\n",
      " 1   campaign        32950 non-null  float64\n",
      " 2   previous        32950 non-null  float64\n",
      " 3   cons_price_idx  32950 non-null  float64\n",
      " 4   emp_var_rate    32950 non-null  float64\n",
      " 5   cons_conf_idx   32950 non-null  float64\n",
      " 6   nr_employed     32950 non-null  float64\n",
      " 7   age             32950 non-null  float64\n",
      " 8   euribor3m       32950 non-null  float64\n",
      " 9   duration        32950 non-null  float64\n",
      "dtypes: float64(10)\n",
      "memory usage: 2.8 MB\n"
     ]
    }
   ],
   "source": [
    "Num_df_scaled.info()"
   ]
  },
  {
   "cell_type": "code",
   "execution_count": 52,
   "metadata": {},
   "outputs": [],
   "source": [
    "# Concatenating the Numerical columns with Categorical columns of Training Data\n",
    "X_train_red_st = pd.concat([Num_df_scaled,X_train_red[cat_cols_r]],axis=1)"
   ]
  },
  {
   "cell_type": "code",
   "execution_count": 53,
   "metadata": {},
   "outputs": [
    {
     "name": "stdout",
     "output_type": "stream",
     "text": [
      "<class 'pandas.core.frame.DataFrame'>\n",
      "Int64Index: 32950 entries, 25611 to 10747\n",
      "Data columns (total 37 columns):\n",
      " #   Column                       Non-Null Count  Dtype  \n",
      "---  ------                       --------------  -----  \n",
      " 0   pdays                        32950 non-null  float64\n",
      " 1   campaign                     32950 non-null  float64\n",
      " 2   previous                     32950 non-null  float64\n",
      " 3   cons_price_idx               32950 non-null  float64\n",
      " 4   emp_var_rate                 32950 non-null  float64\n",
      " 5   cons_conf_idx                32950 non-null  float64\n",
      " 6   nr_employed                  32950 non-null  float64\n",
      " 7   age                          32950 non-null  float64\n",
      " 8   euribor3m                    32950 non-null  float64\n",
      " 9   duration                     32950 non-null  float64\n",
      " 10  education_university_degree  32950 non-null  int64  \n",
      " 11  education_illiterate         32950 non-null  int64  \n",
      " 12  education_basic_6y           32950 non-null  int64  \n",
      " 13  month_mar                    32950 non-null  int64  \n",
      " 14  job_blue-collar              32950 non-null  int64  \n",
      " 15  loan_yes                     32950 non-null  int64  \n",
      " 16  job_housemaid                32950 non-null  int64  \n",
      " 17  month_aug                    32950 non-null  int64  \n",
      " 18  loan_no                      32950 non-null  int64  \n",
      " 19  housing_yes                  32950 non-null  int64  \n",
      " 20  poutcome_success             32950 non-null  int64  \n",
      " 21  poutcome_nonexistent         32950 non-null  int64  \n",
      " 22  month_sep                    32950 non-null  int64  \n",
      " 23  job_student                  32950 non-null  int64  \n",
      " 24  default_no                   32950 non-null  int64  \n",
      " 25  job_admin                    32950 non-null  int64  \n",
      " 26  housing_no                   32950 non-null  int64  \n",
      " 27  job_retired                  32950 non-null  int64  \n",
      " 28  month_jul                    32950 non-null  int64  \n",
      " 29  contact_telephone            32950 non-null  int64  \n",
      " 30  month_dec                    32950 non-null  int64  \n",
      " 31  marital_single               32950 non-null  int64  \n",
      " 32  month_oct                    32950 non-null  int64  \n",
      " 33  job_services                 32950 non-null  int64  \n",
      " 34  marital_married              32950 non-null  int64  \n",
      " 35  month_may                    32950 non-null  int64  \n",
      " 36  day_of_week_thu              32950 non-null  int64  \n",
      "dtypes: float64(10), int64(27)\n",
      "memory usage: 9.6 MB\n"
     ]
    }
   ],
   "source": [
    "X_train_red_st.info()"
   ]
  },
  {
   "cell_type": "markdown",
   "metadata": {},
   "source": [
    "### Standardizing the numerical columns of the test data"
   ]
  },
  {
   "cell_type": "code",
   "execution_count": 54,
   "metadata": {},
   "outputs": [],
   "source": [
    "# Transforming the Numerical columns of the test set with the same standard scaler object as was used to fit Training set\n",
    "arr1 = st_scaler.transform(X_test_red[num_cols_r])"
   ]
  },
  {
   "cell_type": "code",
   "execution_count": 55,
   "metadata": {},
   "outputs": [],
   "source": [
    "# Converting the array to the corresponding dataframe \n",
    "Num_df_scaled = pd.DataFrame(arr1,columns=num_cols_r,index=X_test_red.index)"
   ]
  },
  {
   "cell_type": "code",
   "execution_count": 56,
   "metadata": {},
   "outputs": [
    {
     "name": "stdout",
     "output_type": "stream",
     "text": [
      "<class 'pandas.core.frame.DataFrame'>\n",
      "Int64Index: 8238 entries, 14455 to 33395\n",
      "Data columns (total 10 columns):\n",
      " #   Column          Non-Null Count  Dtype  \n",
      "---  ------          --------------  -----  \n",
      " 0   pdays           8238 non-null   float64\n",
      " 1   campaign        8238 non-null   float64\n",
      " 2   previous        8238 non-null   float64\n",
      " 3   cons_price_idx  8238 non-null   float64\n",
      " 4   emp_var_rate    8238 non-null   float64\n",
      " 5   cons_conf_idx   8238 non-null   float64\n",
      " 6   nr_employed     8238 non-null   float64\n",
      " 7   age             8238 non-null   float64\n",
      " 8   euribor3m       8238 non-null   float64\n",
      " 9   duration        8238 non-null   float64\n",
      "dtypes: float64(10)\n",
      "memory usage: 708.0 KB\n"
     ]
    }
   ],
   "source": [
    "Num_df_scaled.info()"
   ]
  },
  {
   "cell_type": "code",
   "execution_count": 57,
   "metadata": {},
   "outputs": [],
   "source": [
    "# Concatenating the Numerical columns with Categorical columns of Test Data\n",
    "X_test_red_st = pd.concat([Num_df_scaled,X_test_red[cat_cols_r]],axis=1)"
   ]
  },
  {
   "cell_type": "code",
   "execution_count": 58,
   "metadata": {},
   "outputs": [
    {
     "name": "stdout",
     "output_type": "stream",
     "text": [
      "<class 'pandas.core.frame.DataFrame'>\n",
      "Int64Index: 8238 entries, 14455 to 33395\n",
      "Data columns (total 37 columns):\n",
      " #   Column                       Non-Null Count  Dtype  \n",
      "---  ------                       --------------  -----  \n",
      " 0   pdays                        8238 non-null   float64\n",
      " 1   campaign                     8238 non-null   float64\n",
      " 2   previous                     8238 non-null   float64\n",
      " 3   cons_price_idx               8238 non-null   float64\n",
      " 4   emp_var_rate                 8238 non-null   float64\n",
      " 5   cons_conf_idx                8238 non-null   float64\n",
      " 6   nr_employed                  8238 non-null   float64\n",
      " 7   age                          8238 non-null   float64\n",
      " 8   euribor3m                    8238 non-null   float64\n",
      " 9   duration                     8238 non-null   float64\n",
      " 10  education_university_degree  8238 non-null   int64  \n",
      " 11  education_illiterate         8238 non-null   int64  \n",
      " 12  education_basic_6y           8238 non-null   int64  \n",
      " 13  month_mar                    8238 non-null   int64  \n",
      " 14  job_blue-collar              8238 non-null   int64  \n",
      " 15  loan_yes                     8238 non-null   int64  \n",
      " 16  job_housemaid                8238 non-null   int64  \n",
      " 17  month_aug                    8238 non-null   int64  \n",
      " 18  loan_no                      8238 non-null   int64  \n",
      " 19  housing_yes                  8238 non-null   int64  \n",
      " 20  poutcome_success             8238 non-null   int64  \n",
      " 21  poutcome_nonexistent         8238 non-null   int64  \n",
      " 22  month_sep                    8238 non-null   int64  \n",
      " 23  job_student                  8238 non-null   int64  \n",
      " 24  default_no                   8238 non-null   int64  \n",
      " 25  job_admin                    8238 non-null   int64  \n",
      " 26  housing_no                   8238 non-null   int64  \n",
      " 27  job_retired                  8238 non-null   int64  \n",
      " 28  month_jul                    8238 non-null   int64  \n",
      " 29  contact_telephone            8238 non-null   int64  \n",
      " 30  month_dec                    8238 non-null   int64  \n",
      " 31  marital_single               8238 non-null   int64  \n",
      " 32  month_oct                    8238 non-null   int64  \n",
      " 33  job_services                 8238 non-null   int64  \n",
      " 34  marital_married              8238 non-null   int64  \n",
      " 35  month_may                    8238 non-null   int64  \n",
      " 36  day_of_week_thu              8238 non-null   int64  \n",
      "dtypes: float64(10), int64(27)\n",
      "memory usage: 2.4 MB\n"
     ]
    }
   ],
   "source": [
    "X_test_red_st.info()"
   ]
  },
  {
   "cell_type": "code",
   "execution_count": 59,
   "metadata": {},
   "outputs": [],
   "source": [
    "# Saving the Reduced Training set as a CSV File\n",
    "X_train_red_st.to_csv('X_train_final.csv',index=False)"
   ]
  },
  {
   "cell_type": "code",
   "execution_count": 60,
   "metadata": {},
   "outputs": [],
   "source": [
    "# Saving the Reduced Test set as a CSV File\n",
    "X_test_red_st.to_csv('X_test_final.csv',index=False)"
   ]
  },
  {
   "cell_type": "code",
   "execution_count": 61,
   "metadata": {},
   "outputs": [],
   "source": [
    "# Saving the training labels set as a CSV File\n",
    "y_train.to_csv('y_train.final.csv',index=False)"
   ]
  },
  {
   "cell_type": "code",
   "execution_count": 62,
   "metadata": {},
   "outputs": [],
   "source": [
    "# Saving the test labels set as a CSV File\n",
    "y_test.to_csv('y_test.final.csv',index=False)"
   ]
  },
  {
   "cell_type": "markdown",
   "metadata": {},
   "source": [
    "## Creating Full Feature Standardized X_train and X_test with "
   ]
  },
  {
   "cell_type": "code",
   "execution_count": 68,
   "metadata": {},
   "outputs": [],
   "source": [
    "# Loading the numerical columns dataset\n",
    "num_df = pd.read_csv('Num_df.csv')"
   ]
  },
  {
   "cell_type": "code",
   "execution_count": 69,
   "metadata": {},
   "outputs": [],
   "source": [
    "# Dropping the Response variable & extracting columns\n",
    "num_cols = (num_df.drop(columns='y')).columns"
   ]
  },
  {
   "cell_type": "code",
   "execution_count": 70,
   "metadata": {},
   "outputs": [
    {
     "data": {
      "text/plain": [
       "Index(['age', 'duration', 'campaign', 'pdays', 'previous', 'emp_var_rate',\n",
       "       'cons_price_idx', 'cons_conf_idx', 'euribor3m', 'nr_employed'],\n",
       "      dtype='object')"
      ]
     },
     "execution_count": 70,
     "metadata": {},
     "output_type": "execute_result"
    }
   ],
   "source": [
    "num_cols"
   ]
  },
  {
   "cell_type": "code",
   "execution_count": 71,
   "metadata": {},
   "outputs": [
    {
     "data": {
      "text/plain": [
       "10"
      ]
     },
     "execution_count": 71,
     "metadata": {},
     "output_type": "execute_result"
    }
   ],
   "source": [
    "len(num_cols)"
   ]
  },
  {
   "cell_type": "code",
   "execution_count": 72,
   "metadata": {},
   "outputs": [],
   "source": [
    "# Extracting the Dummy Columns\n",
    "cat_cols = list(set(X_train.columns)- set(num_cols))"
   ]
  },
  {
   "cell_type": "code",
   "execution_count": 73,
   "metadata": {},
   "outputs": [
    {
     "data": {
      "text/plain": [
       "43"
      ]
     },
     "execution_count": 73,
     "metadata": {},
     "output_type": "execute_result"
    }
   ],
   "source": [
    "len(cat_cols)"
   ]
  },
  {
   "cell_type": "code",
   "execution_count": 74,
   "metadata": {},
   "outputs": [],
   "source": [
    "# Making use of Standard scaler to fit transform Numerical columns of full X_train\n",
    "st_scaler = StandardScaler()\n",
    "arr = st_scaler.fit_transform(X_train[num_cols])"
   ]
  },
  {
   "cell_type": "code",
   "execution_count": 75,
   "metadata": {},
   "outputs": [],
   "source": [
    "# Converting transformed array arr to Dataframe\n",
    "df_scaled = pd.DataFrame(arr,columns=num_cols,index=X_train.index)"
   ]
  },
  {
   "cell_type": "code",
   "execution_count": 76,
   "metadata": {},
   "outputs": [
    {
     "name": "stdout",
     "output_type": "stream",
     "text": [
      "<class 'pandas.core.frame.DataFrame'>\n",
      "Int64Index: 32950 entries, 25611 to 10747\n",
      "Data columns (total 10 columns):\n",
      " #   Column          Non-Null Count  Dtype  \n",
      "---  ------          --------------  -----  \n",
      " 0   age             32950 non-null  float64\n",
      " 1   duration        32950 non-null  float64\n",
      " 2   campaign        32950 non-null  float64\n",
      " 3   pdays           32950 non-null  float64\n",
      " 4   previous        32950 non-null  float64\n",
      " 5   emp_var_rate    32950 non-null  float64\n",
      " 6   cons_price_idx  32950 non-null  float64\n",
      " 7   cons_conf_idx   32950 non-null  float64\n",
      " 8   euribor3m       32950 non-null  float64\n",
      " 9   nr_employed     32950 non-null  float64\n",
      "dtypes: float64(10)\n",
      "memory usage: 2.8 MB\n"
     ]
    }
   ],
   "source": [
    "df_scaled.info()"
   ]
  },
  {
   "cell_type": "code",
   "execution_count": 79,
   "metadata": {},
   "outputs": [],
   "source": [
    "# Combining the scaled numerical columns of the X_train with Categorical columns\n",
    "X_train_full = pd.concat([df_scaled,X_train[cat_cols]],axis=1)"
   ]
  },
  {
   "cell_type": "code",
   "execution_count": 82,
   "metadata": {},
   "outputs": [],
   "source": [
    "# Standardizing the numerical columns of X_test\n",
    "arr_test = st_scaler.transform(X_test[num_cols])"
   ]
  },
  {
   "cell_type": "code",
   "execution_count": 83,
   "metadata": {},
   "outputs": [],
   "source": [
    "# Converting transformed array arr_test to Dataframe\n",
    "df_scaled_test = pd.DataFrame(arr_test,columns=num_cols,index=X_test.index)"
   ]
  },
  {
   "cell_type": "code",
   "execution_count": 86,
   "metadata": {},
   "outputs": [],
   "source": [
    "# Combining the scaled numerical columns of the X_test with Categorical columns\n",
    "X_test_full = pd.concat([df_scaled_test,X_test[cat_cols]],axis=1)"
   ]
  },
  {
   "cell_type": "code",
   "execution_count": 90,
   "metadata": {},
   "outputs": [],
   "source": [
    "# Saving the Full Training Feature set as a CSV File\n",
    "X_train_full.to_csv('X_train_full_final.csv',index=False)"
   ]
  },
  {
   "cell_type": "code",
   "execution_count": 91,
   "metadata": {},
   "outputs": [],
   "source": [
    "# Saving the Full Test Feature set as a CSV File\n",
    "X_test_full.to_csv('X_test_full_final.csv',index=False)"
   ]
  },
  {
   "cell_type": "code",
   "execution_count": null,
   "metadata": {},
   "outputs": [],
   "source": []
  }
 ],
 "metadata": {
  "kernelspec": {
   "display_name": "Python 3",
   "language": "python",
   "name": "python3"
  },
  "language_info": {
   "codemirror_mode": {
    "name": "ipython",
    "version": 3
   },
   "file_extension": ".py",
   "mimetype": "text/x-python",
   "name": "python",
   "nbconvert_exporter": "python",
   "pygments_lexer": "ipython3",
   "version": "3.7.6"
  }
 },
 "nbformat": 4,
 "nbformat_minor": 4
}
